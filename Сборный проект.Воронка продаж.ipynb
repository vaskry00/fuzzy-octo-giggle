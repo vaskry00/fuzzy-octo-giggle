{
 "cells": [
  {
   "cell_type": "markdown",
   "metadata": {},
   "source": [
    "<div style=\"border:solid green 2px; padding: 20px\"> \n",
    "    \n",
    "**Комментарий ревьюера**\n",
    "\n",
    "Привет! Меня зовут Сысоева Вера.\n",
    "    \n",
    "Далее в файле мои комментарии ты сможешь найти в ячейках, аналогичных данной ( если рамки комментария зелёные - всё сделано правильно; жёлтые - есть замечания, но не критично; красные - нужно переделать). Не удаляй эти комментарии и постарайся учесть их в ходе выполнения проекта.\n",
    "    \n",
    "Я буду поддерживать версионность комментариев, и при следующих итерациях комментарии будут выделены, как \"Комментраии ревьюера - 2 (3 и.т.д.)\"\n",
    "    \n",
    "Если у тебя есть замечания, возражения и вопросы, ты можешь писать свои комментарии, по возможности выделяй их так же цветом (например, синим), чтоб их можно было легко отделить от текста проекта. \n",
    "    \n",
    "Кстати, предлагаю сразу общаться на \"ты\".\n",
    "    \n",
    "Увидев у тебя ошибку, в первый раз я лишь укажу на ее наличие и дам тебе возможность самой найти и исправить ее. На реальной работе твой начальник будет поступать так же, а я пытаюсь подготовить тебя именно к работе аналитиком. Но если ты пока не справишься с такой задачей - при следующей проверке я дам более точную подсказку.\n",
    "    \n",
    "</div>"
   ]
  },
  {
   "cell_type": "markdown",
   "metadata": {},
   "source": [
    "# Сборный проект"
   ]
  },
  {
   "cell_type": "markdown",
   "metadata": {},
   "source": [
    "## Содержание"
   ]
  },
  {
   "cell_type": "markdown",
   "metadata": {},
   "source": [
    "## Описание проекта"
   ]
  },
  {
   "cell_type": "markdown",
   "metadata": {},
   "source": [
    "Вы работаете в стартапе, который продаёт продукты питания. Нужно разобраться, как ведут себя пользователи вашего мобильного приложения.\n",
    "\n",
    "Цель проекта:\n",
    "\n",
    "Изучите воронку продаж. Узнайте, как пользователи доходят до покупки. Сколько пользователей доходит до покупки, а сколько — «застревает» на предыдущих шагах? На каких именно?\n",
    "\n",
    "После этого исследуйте результаты A/A/B-эксперимента. Дизайнеры захотели поменять шрифты во всём приложении, а менеджеры испугались, что пользователям будет непривычно. Договорились принять решение по результатам A/A/B-теста. Пользователей разбили на 3 группы: 2 контрольные со старыми шрифтами и одну экспериментальную — с новыми. Выясните, какой шрифт лучше.\n",
    "\n",
    "Создание двух групп A вместо одной имеет определённые преимущества. Если две контрольные группы окажутся равны, вы можете быть уверены в точности проведенного тестирования. Если же между значениями A и A будут существенные различия, это поможет обнаружить факторы, которые привели к искажению результатов. Сравнение контрольных групп также помогает понять, сколько времени и данных потребуется для дальнейших тестов.\n",
    "\n",
    "В случае общей аналитики и A/A/B-эксперимента работайте с одними и теми же данными. В реальных проектах всегда идут эксперименты. Аналитики исследуют качество работы приложения по общим данным, не учитывая принадлежность пользователей к экспериментам."
   ]
  },
  {
   "cell_type": "markdown",
   "metadata": {},
   "source": [
    "## Описание данных"
   ]
  },
  {
   "cell_type": "markdown",
   "metadata": {},
   "source": [
    "Каждая запись в логе — это действие пользователя, или событие.\n",
    "* EventName — название события;\n",
    "* DeviceIDHash — уникальный идентификатор пользователя;\n",
    "* EventTimestamp — время события;\n",
    "* ExpId — номер эксперимента: 246 и 247 — контрольные группы, а 248 — экспериментальная."
   ]
  },
  {
   "cell_type": "markdown",
   "metadata": {},
   "source": [
    "## Загрузка и предобработка данных"
   ]
  },
  {
   "cell_type": "code",
   "execution_count": 82,
   "metadata": {},
   "outputs": [],
   "source": [
    "import pandas as pd\n",
    "import matplotlib.pyplot as plt\n",
    "from scipy import stats as st\n",
    "import numpy as np\n",
    "import math as mth\n",
    "import warnings\n",
    "warnings.filterwarnings('ignore')"
   ]
  },
  {
   "cell_type": "markdown",
   "metadata": {},
   "source": [
    "<div style=\"border:solid green 2px; padding: 20px\"> \n",
    "    \n",
    "**Комментарий ревьюера**\n",
    "\n",
    "Ты подгрузил все необходимые быблиотеки. Для загрузки данных как с локальной машины, так и из сети можно использовать try-except.\n",
    "    \n",
    "Также полезно задать параметры отображения таблиц\n",
    "    \n",
    "    pd.set_option('display.max_colwidth', None) # - текст в ячейке отражался полностью вне зависимости от длины. В данном случае мы можем быть уверены, что события и идентификаторы полностью будут видны, точно ничего не обрежется. А в целом это используется для отображения полностью каких-то описательных категорий, например, если полностью описан метод исследования или проверки гипотез, чтоб можно было все полностью прочитать.\n",
    "    pd.set_option('display.float_format', '{:.2f}'.format) # -  все числа отражались с двумя знаками после запятой. Так не нужно будет для каждой таблицы и/или столбца задавать формат. Можно выбрать удобный для себя (1, 2 знака или вообще в целом виде)\n",
    "    \n",
    "Еще фишки по настройки таблиц можно посмотреть здесь https://habr.com/ru/post/521894/\n",
    "    \n",
    "</div>"
   ]
  },
  {
   "cell_type": "code",
   "execution_count": 83,
   "metadata": {},
   "outputs": [
    {
     "data": {
      "text/html": [
       "<div>\n",
       "<style scoped>\n",
       "    .dataframe tbody tr th:only-of-type {\n",
       "        vertical-align: middle;\n",
       "    }\n",
       "\n",
       "    .dataframe tbody tr th {\n",
       "        vertical-align: top;\n",
       "    }\n",
       "\n",
       "    .dataframe thead th {\n",
       "        text-align: right;\n",
       "    }\n",
       "</style>\n",
       "<table border=\"1\" class=\"dataframe\">\n",
       "  <thead>\n",
       "    <tr style=\"text-align: right;\">\n",
       "      <th></th>\n",
       "      <th>EventName</th>\n",
       "      <th>DeviceIDHash</th>\n",
       "      <th>EventTimestamp</th>\n",
       "      <th>ExpId</th>\n",
       "    </tr>\n",
       "  </thead>\n",
       "  <tbody>\n",
       "    <tr>\n",
       "      <td>0</td>\n",
       "      <td>MainScreenAppear</td>\n",
       "      <td>4575588528974610257</td>\n",
       "      <td>1564029816</td>\n",
       "      <td>246</td>\n",
       "    </tr>\n",
       "    <tr>\n",
       "      <td>1</td>\n",
       "      <td>MainScreenAppear</td>\n",
       "      <td>7416695313311560658</td>\n",
       "      <td>1564053102</td>\n",
       "      <td>246</td>\n",
       "    </tr>\n",
       "    <tr>\n",
       "      <td>2</td>\n",
       "      <td>PaymentScreenSuccessful</td>\n",
       "      <td>3518123091307005509</td>\n",
       "      <td>1564054127</td>\n",
       "      <td>248</td>\n",
       "    </tr>\n",
       "    <tr>\n",
       "      <td>3</td>\n",
       "      <td>CartScreenAppear</td>\n",
       "      <td>3518123091307005509</td>\n",
       "      <td>1564054127</td>\n",
       "      <td>248</td>\n",
       "    </tr>\n",
       "    <tr>\n",
       "      <td>4</td>\n",
       "      <td>PaymentScreenSuccessful</td>\n",
       "      <td>6217807653094995999</td>\n",
       "      <td>1564055322</td>\n",
       "      <td>248</td>\n",
       "    </tr>\n",
       "    <tr>\n",
       "      <td>...</td>\n",
       "      <td>...</td>\n",
       "      <td>...</td>\n",
       "      <td>...</td>\n",
       "      <td>...</td>\n",
       "    </tr>\n",
       "    <tr>\n",
       "      <td>244121</td>\n",
       "      <td>MainScreenAppear</td>\n",
       "      <td>4599628364049201812</td>\n",
       "      <td>1565212345</td>\n",
       "      <td>247</td>\n",
       "    </tr>\n",
       "    <tr>\n",
       "      <td>244122</td>\n",
       "      <td>MainScreenAppear</td>\n",
       "      <td>5849806612437486590</td>\n",
       "      <td>1565212439</td>\n",
       "      <td>246</td>\n",
       "    </tr>\n",
       "    <tr>\n",
       "      <td>244123</td>\n",
       "      <td>MainScreenAppear</td>\n",
       "      <td>5746969938801999050</td>\n",
       "      <td>1565212483</td>\n",
       "      <td>246</td>\n",
       "    </tr>\n",
       "    <tr>\n",
       "      <td>244124</td>\n",
       "      <td>MainScreenAppear</td>\n",
       "      <td>5746969938801999050</td>\n",
       "      <td>1565212498</td>\n",
       "      <td>246</td>\n",
       "    </tr>\n",
       "    <tr>\n",
       "      <td>244125</td>\n",
       "      <td>OffersScreenAppear</td>\n",
       "      <td>5746969938801999050</td>\n",
       "      <td>1565212517</td>\n",
       "      <td>246</td>\n",
       "    </tr>\n",
       "  </tbody>\n",
       "</table>\n",
       "<p>244126 rows × 4 columns</p>\n",
       "</div>"
      ],
      "text/plain": [
       "                      EventName         DeviceIDHash  EventTimestamp  ExpId\n",
       "0              MainScreenAppear  4575588528974610257      1564029816    246\n",
       "1              MainScreenAppear  7416695313311560658      1564053102    246\n",
       "2       PaymentScreenSuccessful  3518123091307005509      1564054127    248\n",
       "3              CartScreenAppear  3518123091307005509      1564054127    248\n",
       "4       PaymentScreenSuccessful  6217807653094995999      1564055322    248\n",
       "...                         ...                  ...             ...    ...\n",
       "244121         MainScreenAppear  4599628364049201812      1565212345    247\n",
       "244122         MainScreenAppear  5849806612437486590      1565212439    246\n",
       "244123         MainScreenAppear  5746969938801999050      1565212483    246\n",
       "244124         MainScreenAppear  5746969938801999050      1565212498    246\n",
       "244125       OffersScreenAppear  5746969938801999050      1565212517    246\n",
       "\n",
       "[244126 rows x 4 columns]"
      ]
     },
     "execution_count": 83,
     "metadata": {},
     "output_type": "execute_result"
    }
   ],
   "source": [
    "df = pd.read_csv()\n",
    "df"
   ]
  },
  {
   "cell_type": "code",
   "execution_count": 84,
   "metadata": {},
   "outputs": [
    {
     "name": "stdout",
     "output_type": "stream",
     "text": [
      "<class 'pandas.core.frame.DataFrame'>\n",
      "RangeIndex: 244126 entries, 0 to 244125\n",
      "Data columns (total 4 columns):\n",
      "EventName         244126 non-null object\n",
      "DeviceIDHash      244126 non-null int64\n",
      "EventTimestamp    244126 non-null int64\n",
      "ExpId             244126 non-null int64\n",
      "dtypes: int64(3), object(1)\n",
      "memory usage: 7.5+ MB\n"
     ]
    }
   ],
   "source": [
    "df.info()"
   ]
  },
  {
   "cell_type": "code",
   "execution_count": 85,
   "metadata": {},
   "outputs": [],
   "source": [
    "# переименновываю столбцы\n",
    "df.columns = ['event', 'id', 'time', 'group']"
   ]
  },
  {
   "cell_type": "code",
   "execution_count": 86,
   "metadata": {},
   "outputs": [
    {
     "data": {
      "text/html": [
       "<div>\n",
       "<style scoped>\n",
       "    .dataframe tbody tr th:only-of-type {\n",
       "        vertical-align: middle;\n",
       "    }\n",
       "\n",
       "    .dataframe tbody tr th {\n",
       "        vertical-align: top;\n",
       "    }\n",
       "\n",
       "    .dataframe thead th {\n",
       "        text-align: right;\n",
       "    }\n",
       "</style>\n",
       "<table border=\"1\" class=\"dataframe\">\n",
       "  <thead>\n",
       "    <tr style=\"text-align: right;\">\n",
       "      <th></th>\n",
       "      <th>event</th>\n",
       "      <th>id</th>\n",
       "      <th>time</th>\n",
       "      <th>group</th>\n",
       "    </tr>\n",
       "  </thead>\n",
       "  <tbody>\n",
       "    <tr>\n",
       "      <td>0</td>\n",
       "      <td>MainScreenAppear</td>\n",
       "      <td>4575588528974610257</td>\n",
       "      <td>1564029816</td>\n",
       "      <td>246</td>\n",
       "    </tr>\n",
       "    <tr>\n",
       "      <td>1</td>\n",
       "      <td>MainScreenAppear</td>\n",
       "      <td>7416695313311560658</td>\n",
       "      <td>1564053102</td>\n",
       "      <td>246</td>\n",
       "    </tr>\n",
       "    <tr>\n",
       "      <td>2</td>\n",
       "      <td>PaymentScreenSuccessful</td>\n",
       "      <td>3518123091307005509</td>\n",
       "      <td>1564054127</td>\n",
       "      <td>248</td>\n",
       "    </tr>\n",
       "    <tr>\n",
       "      <td>3</td>\n",
       "      <td>CartScreenAppear</td>\n",
       "      <td>3518123091307005509</td>\n",
       "      <td>1564054127</td>\n",
       "      <td>248</td>\n",
       "    </tr>\n",
       "    <tr>\n",
       "      <td>4</td>\n",
       "      <td>PaymentScreenSuccessful</td>\n",
       "      <td>6217807653094995999</td>\n",
       "      <td>1564055322</td>\n",
       "      <td>248</td>\n",
       "    </tr>\n",
       "    <tr>\n",
       "      <td>...</td>\n",
       "      <td>...</td>\n",
       "      <td>...</td>\n",
       "      <td>...</td>\n",
       "      <td>...</td>\n",
       "    </tr>\n",
       "    <tr>\n",
       "      <td>244121</td>\n",
       "      <td>MainScreenAppear</td>\n",
       "      <td>4599628364049201812</td>\n",
       "      <td>1565212345</td>\n",
       "      <td>247</td>\n",
       "    </tr>\n",
       "    <tr>\n",
       "      <td>244122</td>\n",
       "      <td>MainScreenAppear</td>\n",
       "      <td>5849806612437486590</td>\n",
       "      <td>1565212439</td>\n",
       "      <td>246</td>\n",
       "    </tr>\n",
       "    <tr>\n",
       "      <td>244123</td>\n",
       "      <td>MainScreenAppear</td>\n",
       "      <td>5746969938801999050</td>\n",
       "      <td>1565212483</td>\n",
       "      <td>246</td>\n",
       "    </tr>\n",
       "    <tr>\n",
       "      <td>244124</td>\n",
       "      <td>MainScreenAppear</td>\n",
       "      <td>5746969938801999050</td>\n",
       "      <td>1565212498</td>\n",
       "      <td>246</td>\n",
       "    </tr>\n",
       "    <tr>\n",
       "      <td>244125</td>\n",
       "      <td>OffersScreenAppear</td>\n",
       "      <td>5746969938801999050</td>\n",
       "      <td>1565212517</td>\n",
       "      <td>246</td>\n",
       "    </tr>\n",
       "  </tbody>\n",
       "</table>\n",
       "<p>244126 rows × 4 columns</p>\n",
       "</div>"
      ],
      "text/plain": [
       "                          event                   id        time  group\n",
       "0              MainScreenAppear  4575588528974610257  1564029816    246\n",
       "1              MainScreenAppear  7416695313311560658  1564053102    246\n",
       "2       PaymentScreenSuccessful  3518123091307005509  1564054127    248\n",
       "3              CartScreenAppear  3518123091307005509  1564054127    248\n",
       "4       PaymentScreenSuccessful  6217807653094995999  1564055322    248\n",
       "...                         ...                  ...         ...    ...\n",
       "244121         MainScreenAppear  4599628364049201812  1565212345    247\n",
       "244122         MainScreenAppear  5849806612437486590  1565212439    246\n",
       "244123         MainScreenAppear  5746969938801999050  1565212483    246\n",
       "244124         MainScreenAppear  5746969938801999050  1565212498    246\n",
       "244125       OffersScreenAppear  5746969938801999050  1565212517    246\n",
       "\n",
       "[244126 rows x 4 columns]"
      ]
     },
     "execution_count": 86,
     "metadata": {},
     "output_type": "execute_result"
    }
   ],
   "source": [
    "df"
   ]
  },
  {
   "cell_type": "code",
   "execution_count": 87,
   "metadata": {},
   "outputs": [
    {
     "data": {
      "text/html": [
       "<div>\n",
       "<style scoped>\n",
       "    .dataframe tbody tr th:only-of-type {\n",
       "        vertical-align: middle;\n",
       "    }\n",
       "\n",
       "    .dataframe tbody tr th {\n",
       "        vertical-align: top;\n",
       "    }\n",
       "\n",
       "    .dataframe thead th {\n",
       "        text-align: right;\n",
       "    }\n",
       "</style>\n",
       "<table border=\"1\" class=\"dataframe\">\n",
       "  <thead>\n",
       "    <tr style=\"text-align: right;\">\n",
       "      <th></th>\n",
       "      <th>index</th>\n",
       "      <th>event</th>\n",
       "      <th>id</th>\n",
       "      <th>time</th>\n",
       "      <th>group</th>\n",
       "    </tr>\n",
       "  </thead>\n",
       "  <tbody>\n",
       "    <tr>\n",
       "      <td>0</td>\n",
       "      <td>0</td>\n",
       "      <td>MainScreenAppear</td>\n",
       "      <td>4575588528974610257</td>\n",
       "      <td>1564029816</td>\n",
       "      <td>246</td>\n",
       "    </tr>\n",
       "    <tr>\n",
       "      <td>1</td>\n",
       "      <td>1</td>\n",
       "      <td>MainScreenAppear</td>\n",
       "      <td>7416695313311560658</td>\n",
       "      <td>1564053102</td>\n",
       "      <td>246</td>\n",
       "    </tr>\n",
       "    <tr>\n",
       "      <td>2</td>\n",
       "      <td>2</td>\n",
       "      <td>PaymentScreenSuccessful</td>\n",
       "      <td>3518123091307005509</td>\n",
       "      <td>1564054127</td>\n",
       "      <td>248</td>\n",
       "    </tr>\n",
       "    <tr>\n",
       "      <td>3</td>\n",
       "      <td>3</td>\n",
       "      <td>CartScreenAppear</td>\n",
       "      <td>3518123091307005509</td>\n",
       "      <td>1564054127</td>\n",
       "      <td>248</td>\n",
       "    </tr>\n",
       "    <tr>\n",
       "      <td>4</td>\n",
       "      <td>4</td>\n",
       "      <td>PaymentScreenSuccessful</td>\n",
       "      <td>6217807653094995999</td>\n",
       "      <td>1564055322</td>\n",
       "      <td>248</td>\n",
       "    </tr>\n",
       "    <tr>\n",
       "      <td>...</td>\n",
       "      <td>...</td>\n",
       "      <td>...</td>\n",
       "      <td>...</td>\n",
       "      <td>...</td>\n",
       "      <td>...</td>\n",
       "    </tr>\n",
       "    <tr>\n",
       "      <td>243708</td>\n",
       "      <td>244121</td>\n",
       "      <td>MainScreenAppear</td>\n",
       "      <td>4599628364049201812</td>\n",
       "      <td>1565212345</td>\n",
       "      <td>247</td>\n",
       "    </tr>\n",
       "    <tr>\n",
       "      <td>243709</td>\n",
       "      <td>244122</td>\n",
       "      <td>MainScreenAppear</td>\n",
       "      <td>5849806612437486590</td>\n",
       "      <td>1565212439</td>\n",
       "      <td>246</td>\n",
       "    </tr>\n",
       "    <tr>\n",
       "      <td>243710</td>\n",
       "      <td>244123</td>\n",
       "      <td>MainScreenAppear</td>\n",
       "      <td>5746969938801999050</td>\n",
       "      <td>1565212483</td>\n",
       "      <td>246</td>\n",
       "    </tr>\n",
       "    <tr>\n",
       "      <td>243711</td>\n",
       "      <td>244124</td>\n",
       "      <td>MainScreenAppear</td>\n",
       "      <td>5746969938801999050</td>\n",
       "      <td>1565212498</td>\n",
       "      <td>246</td>\n",
       "    </tr>\n",
       "    <tr>\n",
       "      <td>243712</td>\n",
       "      <td>244125</td>\n",
       "      <td>OffersScreenAppear</td>\n",
       "      <td>5746969938801999050</td>\n",
       "      <td>1565212517</td>\n",
       "      <td>246</td>\n",
       "    </tr>\n",
       "  </tbody>\n",
       "</table>\n",
       "<p>243713 rows × 5 columns</p>\n",
       "</div>"
      ],
      "text/plain": [
       "         index                    event                   id        time  \\\n",
       "0            0         MainScreenAppear  4575588528974610257  1564029816   \n",
       "1            1         MainScreenAppear  7416695313311560658  1564053102   \n",
       "2            2  PaymentScreenSuccessful  3518123091307005509  1564054127   \n",
       "3            3         CartScreenAppear  3518123091307005509  1564054127   \n",
       "4            4  PaymentScreenSuccessful  6217807653094995999  1564055322   \n",
       "...        ...                      ...                  ...         ...   \n",
       "243708  244121         MainScreenAppear  4599628364049201812  1565212345   \n",
       "243709  244122         MainScreenAppear  5849806612437486590  1565212439   \n",
       "243710  244123         MainScreenAppear  5746969938801999050  1565212483   \n",
       "243711  244124         MainScreenAppear  5746969938801999050  1565212498   \n",
       "243712  244125       OffersScreenAppear  5746969938801999050  1565212517   \n",
       "\n",
       "        group  \n",
       "0         246  \n",
       "1         246  \n",
       "2         248  \n",
       "3         248  \n",
       "4         248  \n",
       "...       ...  \n",
       "243708    247  \n",
       "243709    246  \n",
       "243710    246  \n",
       "243711    246  \n",
       "243712    246  \n",
       "\n",
       "[243713 rows x 5 columns]"
      ]
     },
     "execution_count": 87,
     "metadata": {},
     "output_type": "execute_result"
    }
   ],
   "source": [
    "# смотрю дубликаты\n",
    "df.drop_duplicates().reset_index()"
   ]
  },
  {
   "cell_type": "markdown",
   "metadata": {},
   "source": [
    "Так как дубликатов относительно немного, я из удаляю "
   ]
  },
  {
   "cell_type": "code",
   "execution_count": 88,
   "metadata": {},
   "outputs": [
    {
     "data": {
      "text/plain": [
       "event    0\n",
       "id       0\n",
       "time     0\n",
       "group    0\n",
       "dtype: int64"
      ]
     },
     "execution_count": 88,
     "metadata": {},
     "output_type": "execute_result"
    }
   ],
   "source": [
    "# смотрю пропуски\n",
    "df.isna().sum()"
   ]
  },
  {
   "cell_type": "code",
   "execution_count": 89,
   "metadata": {},
   "outputs": [
    {
     "data": {
      "text/html": [
       "<div>\n",
       "<style scoped>\n",
       "    .dataframe tbody tr th:only-of-type {\n",
       "        vertical-align: middle;\n",
       "    }\n",
       "\n",
       "    .dataframe tbody tr th {\n",
       "        vertical-align: top;\n",
       "    }\n",
       "\n",
       "    .dataframe thead th {\n",
       "        text-align: right;\n",
       "    }\n",
       "</style>\n",
       "<table border=\"1\" class=\"dataframe\">\n",
       "  <thead>\n",
       "    <tr style=\"text-align: right;\">\n",
       "      <th></th>\n",
       "      <th>event</th>\n",
       "      <th>id</th>\n",
       "      <th>time</th>\n",
       "      <th>group</th>\n",
       "      <th>date</th>\n",
       "    </tr>\n",
       "  </thead>\n",
       "  <tbody>\n",
       "    <tr>\n",
       "      <td>0</td>\n",
       "      <td>MainScreenAppear</td>\n",
       "      <td>4575588528974610257</td>\n",
       "      <td>2019-07-25 04:43:36</td>\n",
       "      <td>246</td>\n",
       "      <td>2019-07-25</td>\n",
       "    </tr>\n",
       "    <tr>\n",
       "      <td>1</td>\n",
       "      <td>MainScreenAppear</td>\n",
       "      <td>7416695313311560658</td>\n",
       "      <td>2019-07-25 11:11:42</td>\n",
       "      <td>246</td>\n",
       "      <td>2019-07-25</td>\n",
       "    </tr>\n",
       "    <tr>\n",
       "      <td>2</td>\n",
       "      <td>PaymentScreenSuccessful</td>\n",
       "      <td>3518123091307005509</td>\n",
       "      <td>2019-07-25 11:28:47</td>\n",
       "      <td>248</td>\n",
       "      <td>2019-07-25</td>\n",
       "    </tr>\n",
       "    <tr>\n",
       "      <td>3</td>\n",
       "      <td>CartScreenAppear</td>\n",
       "      <td>3518123091307005509</td>\n",
       "      <td>2019-07-25 11:28:47</td>\n",
       "      <td>248</td>\n",
       "      <td>2019-07-25</td>\n",
       "    </tr>\n",
       "    <tr>\n",
       "      <td>4</td>\n",
       "      <td>PaymentScreenSuccessful</td>\n",
       "      <td>6217807653094995999</td>\n",
       "      <td>2019-07-25 11:48:42</td>\n",
       "      <td>248</td>\n",
       "      <td>2019-07-25</td>\n",
       "    </tr>\n",
       "    <tr>\n",
       "      <td>...</td>\n",
       "      <td>...</td>\n",
       "      <td>...</td>\n",
       "      <td>...</td>\n",
       "      <td>...</td>\n",
       "      <td>...</td>\n",
       "    </tr>\n",
       "    <tr>\n",
       "      <td>244121</td>\n",
       "      <td>MainScreenAppear</td>\n",
       "      <td>4599628364049201812</td>\n",
       "      <td>2019-08-07 21:12:25</td>\n",
       "      <td>247</td>\n",
       "      <td>2019-08-07</td>\n",
       "    </tr>\n",
       "    <tr>\n",
       "      <td>244122</td>\n",
       "      <td>MainScreenAppear</td>\n",
       "      <td>5849806612437486590</td>\n",
       "      <td>2019-08-07 21:13:59</td>\n",
       "      <td>246</td>\n",
       "      <td>2019-08-07</td>\n",
       "    </tr>\n",
       "    <tr>\n",
       "      <td>244123</td>\n",
       "      <td>MainScreenAppear</td>\n",
       "      <td>5746969938801999050</td>\n",
       "      <td>2019-08-07 21:14:43</td>\n",
       "      <td>246</td>\n",
       "      <td>2019-08-07</td>\n",
       "    </tr>\n",
       "    <tr>\n",
       "      <td>244124</td>\n",
       "      <td>MainScreenAppear</td>\n",
       "      <td>5746969938801999050</td>\n",
       "      <td>2019-08-07 21:14:58</td>\n",
       "      <td>246</td>\n",
       "      <td>2019-08-07</td>\n",
       "    </tr>\n",
       "    <tr>\n",
       "      <td>244125</td>\n",
       "      <td>OffersScreenAppear</td>\n",
       "      <td>5746969938801999050</td>\n",
       "      <td>2019-08-07 21:15:17</td>\n",
       "      <td>246</td>\n",
       "      <td>2019-08-07</td>\n",
       "    </tr>\n",
       "  </tbody>\n",
       "</table>\n",
       "<p>244126 rows × 5 columns</p>\n",
       "</div>"
      ],
      "text/plain": [
       "                          event                   id                time  \\\n",
       "0              MainScreenAppear  4575588528974610257 2019-07-25 04:43:36   \n",
       "1              MainScreenAppear  7416695313311560658 2019-07-25 11:11:42   \n",
       "2       PaymentScreenSuccessful  3518123091307005509 2019-07-25 11:28:47   \n",
       "3              CartScreenAppear  3518123091307005509 2019-07-25 11:28:47   \n",
       "4       PaymentScreenSuccessful  6217807653094995999 2019-07-25 11:48:42   \n",
       "...                         ...                  ...                 ...   \n",
       "244121         MainScreenAppear  4599628364049201812 2019-08-07 21:12:25   \n",
       "244122         MainScreenAppear  5849806612437486590 2019-08-07 21:13:59   \n",
       "244123         MainScreenAppear  5746969938801999050 2019-08-07 21:14:43   \n",
       "244124         MainScreenAppear  5746969938801999050 2019-08-07 21:14:58   \n",
       "244125       OffersScreenAppear  5746969938801999050 2019-08-07 21:15:17   \n",
       "\n",
       "        group        date  \n",
       "0         246  2019-07-25  \n",
       "1         246  2019-07-25  \n",
       "2         248  2019-07-25  \n",
       "3         248  2019-07-25  \n",
       "4         248  2019-07-25  \n",
       "...       ...         ...  \n",
       "244121    247  2019-08-07  \n",
       "244122    246  2019-08-07  \n",
       "244123    246  2019-08-07  \n",
       "244124    246  2019-08-07  \n",
       "244125    246  2019-08-07  \n",
       "\n",
       "[244126 rows x 5 columns]"
      ]
     },
     "execution_count": 89,
     "metadata": {},
     "output_type": "execute_result"
    }
   ],
   "source": [
    "# добавляю столбец даты и времени и столбец с датой\n",
    "df['time'] = pd.to_datetime(df['time'], unit='s')\n",
    "df['date'] =df['time'].dt.date\n",
    "df"
   ]
  },
  {
   "cell_type": "code",
   "execution_count": 90,
   "metadata": {},
   "outputs": [
    {
     "name": "stdout",
     "output_type": "stream",
     "text": [
      "<class 'pandas.core.frame.DataFrame'>\n",
      "RangeIndex: 244126 entries, 0 to 244125\n",
      "Data columns (total 5 columns):\n",
      "event    244126 non-null object\n",
      "id       244126 non-null int64\n",
      "time     244126 non-null datetime64[ns]\n",
      "group    244126 non-null int64\n",
      "date     244126 non-null object\n",
      "dtypes: datetime64[ns](1), int64(2), object(2)\n",
      "memory usage: 9.3+ MB\n"
     ]
    }
   ],
   "source": [
    "df.info()"
   ]
  },
  {
   "cell_type": "code",
   "execution_count": 91,
   "metadata": {},
   "outputs": [],
   "source": [
    "# заменяю номера групп на буквенные значения, так как я начинаю путаться\n",
    "df.loc[df['group'] == 246, 'group'] = 'A'"
   ]
  },
  {
   "cell_type": "code",
   "execution_count": 92,
   "metadata": {},
   "outputs": [],
   "source": [
    "df.loc[df['group'] == 247, 'group'] = 'A2'"
   ]
  },
  {
   "cell_type": "code",
   "execution_count": 93,
   "metadata": {},
   "outputs": [],
   "source": [
    "df.loc[df['group'] == 248, 'group'] = 'B'"
   ]
  },
  {
   "cell_type": "code",
   "execution_count": 94,
   "metadata": {},
   "outputs": [
    {
     "data": {
      "text/html": [
       "<div>\n",
       "<style scoped>\n",
       "    .dataframe tbody tr th:only-of-type {\n",
       "        vertical-align: middle;\n",
       "    }\n",
       "\n",
       "    .dataframe tbody tr th {\n",
       "        vertical-align: top;\n",
       "    }\n",
       "\n",
       "    .dataframe thead th {\n",
       "        text-align: right;\n",
       "    }\n",
       "</style>\n",
       "<table border=\"1\" class=\"dataframe\">\n",
       "  <thead>\n",
       "    <tr style=\"text-align: right;\">\n",
       "      <th></th>\n",
       "      <th>event</th>\n",
       "      <th>id</th>\n",
       "      <th>time</th>\n",
       "      <th>group</th>\n",
       "      <th>date</th>\n",
       "    </tr>\n",
       "  </thead>\n",
       "  <tbody>\n",
       "    <tr>\n",
       "      <td>0</td>\n",
       "      <td>MainScreenAppear</td>\n",
       "      <td>4575588528974610257</td>\n",
       "      <td>2019-07-25 04:43:36</td>\n",
       "      <td>A</td>\n",
       "      <td>2019-07-25</td>\n",
       "    </tr>\n",
       "    <tr>\n",
       "      <td>1</td>\n",
       "      <td>MainScreenAppear</td>\n",
       "      <td>7416695313311560658</td>\n",
       "      <td>2019-07-25 11:11:42</td>\n",
       "      <td>A</td>\n",
       "      <td>2019-07-25</td>\n",
       "    </tr>\n",
       "    <tr>\n",
       "      <td>2</td>\n",
       "      <td>PaymentScreenSuccessful</td>\n",
       "      <td>3518123091307005509</td>\n",
       "      <td>2019-07-25 11:28:47</td>\n",
       "      <td>B</td>\n",
       "      <td>2019-07-25</td>\n",
       "    </tr>\n",
       "    <tr>\n",
       "      <td>3</td>\n",
       "      <td>CartScreenAppear</td>\n",
       "      <td>3518123091307005509</td>\n",
       "      <td>2019-07-25 11:28:47</td>\n",
       "      <td>B</td>\n",
       "      <td>2019-07-25</td>\n",
       "    </tr>\n",
       "    <tr>\n",
       "      <td>4</td>\n",
       "      <td>PaymentScreenSuccessful</td>\n",
       "      <td>6217807653094995999</td>\n",
       "      <td>2019-07-25 11:48:42</td>\n",
       "      <td>B</td>\n",
       "      <td>2019-07-25</td>\n",
       "    </tr>\n",
       "    <tr>\n",
       "      <td>...</td>\n",
       "      <td>...</td>\n",
       "      <td>...</td>\n",
       "      <td>...</td>\n",
       "      <td>...</td>\n",
       "      <td>...</td>\n",
       "    </tr>\n",
       "    <tr>\n",
       "      <td>244121</td>\n",
       "      <td>MainScreenAppear</td>\n",
       "      <td>4599628364049201812</td>\n",
       "      <td>2019-08-07 21:12:25</td>\n",
       "      <td>A2</td>\n",
       "      <td>2019-08-07</td>\n",
       "    </tr>\n",
       "    <tr>\n",
       "      <td>244122</td>\n",
       "      <td>MainScreenAppear</td>\n",
       "      <td>5849806612437486590</td>\n",
       "      <td>2019-08-07 21:13:59</td>\n",
       "      <td>A</td>\n",
       "      <td>2019-08-07</td>\n",
       "    </tr>\n",
       "    <tr>\n",
       "      <td>244123</td>\n",
       "      <td>MainScreenAppear</td>\n",
       "      <td>5746969938801999050</td>\n",
       "      <td>2019-08-07 21:14:43</td>\n",
       "      <td>A</td>\n",
       "      <td>2019-08-07</td>\n",
       "    </tr>\n",
       "    <tr>\n",
       "      <td>244124</td>\n",
       "      <td>MainScreenAppear</td>\n",
       "      <td>5746969938801999050</td>\n",
       "      <td>2019-08-07 21:14:58</td>\n",
       "      <td>A</td>\n",
       "      <td>2019-08-07</td>\n",
       "    </tr>\n",
       "    <tr>\n",
       "      <td>244125</td>\n",
       "      <td>OffersScreenAppear</td>\n",
       "      <td>5746969938801999050</td>\n",
       "      <td>2019-08-07 21:15:17</td>\n",
       "      <td>A</td>\n",
       "      <td>2019-08-07</td>\n",
       "    </tr>\n",
       "  </tbody>\n",
       "</table>\n",
       "<p>244126 rows × 5 columns</p>\n",
       "</div>"
      ],
      "text/plain": [
       "                          event                   id                time  \\\n",
       "0              MainScreenAppear  4575588528974610257 2019-07-25 04:43:36   \n",
       "1              MainScreenAppear  7416695313311560658 2019-07-25 11:11:42   \n",
       "2       PaymentScreenSuccessful  3518123091307005509 2019-07-25 11:28:47   \n",
       "3              CartScreenAppear  3518123091307005509 2019-07-25 11:28:47   \n",
       "4       PaymentScreenSuccessful  6217807653094995999 2019-07-25 11:48:42   \n",
       "...                         ...                  ...                 ...   \n",
       "244121         MainScreenAppear  4599628364049201812 2019-08-07 21:12:25   \n",
       "244122         MainScreenAppear  5849806612437486590 2019-08-07 21:13:59   \n",
       "244123         MainScreenAppear  5746969938801999050 2019-08-07 21:14:43   \n",
       "244124         MainScreenAppear  5746969938801999050 2019-08-07 21:14:58   \n",
       "244125       OffersScreenAppear  5746969938801999050 2019-08-07 21:15:17   \n",
       "\n",
       "       group        date  \n",
       "0          A  2019-07-25  \n",
       "1          A  2019-07-25  \n",
       "2          B  2019-07-25  \n",
       "3          B  2019-07-25  \n",
       "4          B  2019-07-25  \n",
       "...      ...         ...  \n",
       "244121    A2  2019-08-07  \n",
       "244122     A  2019-08-07  \n",
       "244123     A  2019-08-07  \n",
       "244124     A  2019-08-07  \n",
       "244125     A  2019-08-07  \n",
       "\n",
       "[244126 rows x 5 columns]"
      ]
     },
     "execution_count": 94,
     "metadata": {},
     "output_type": "execute_result"
    }
   ],
   "source": [
    "df"
   ]
  },
  {
   "cell_type": "code",
   "execution_count": 95,
   "metadata": {},
   "outputs": [
    {
     "data": {
      "text/html": [
       "<div>\n",
       "<style scoped>\n",
       "    .dataframe tbody tr th:only-of-type {\n",
       "        vertical-align: middle;\n",
       "    }\n",
       "\n",
       "    .dataframe tbody tr th {\n",
       "        vertical-align: top;\n",
       "    }\n",
       "\n",
       "    .dataframe thead th {\n",
       "        text-align: right;\n",
       "    }\n",
       "</style>\n",
       "<table border=\"1\" class=\"dataframe\">\n",
       "  <thead>\n",
       "    <tr style=\"text-align: right;\">\n",
       "      <th></th>\n",
       "      <th>id</th>\n",
       "      <th>group</th>\n",
       "    </tr>\n",
       "  </thead>\n",
       "  <tbody>\n",
       "    <tr>\n",
       "      <td>0</td>\n",
       "      <td>6888746892508752</td>\n",
       "      <td>1</td>\n",
       "    </tr>\n",
       "    <tr>\n",
       "      <td>1</td>\n",
       "      <td>6909561520679493</td>\n",
       "      <td>1</td>\n",
       "    </tr>\n",
       "    <tr>\n",
       "      <td>2</td>\n",
       "      <td>6922444491712477</td>\n",
       "      <td>1</td>\n",
       "    </tr>\n",
       "    <tr>\n",
       "      <td>3</td>\n",
       "      <td>7435777799948366</td>\n",
       "      <td>1</td>\n",
       "    </tr>\n",
       "    <tr>\n",
       "      <td>4</td>\n",
       "      <td>7702139951469979</td>\n",
       "      <td>1</td>\n",
       "    </tr>\n",
       "    <tr>\n",
       "      <td>...</td>\n",
       "      <td>...</td>\n",
       "      <td>...</td>\n",
       "    </tr>\n",
       "    <tr>\n",
       "      <td>7546</td>\n",
       "      <td>9217594193087726423</td>\n",
       "      <td>1</td>\n",
       "    </tr>\n",
       "    <tr>\n",
       "      <td>7547</td>\n",
       "      <td>9219463515465815368</td>\n",
       "      <td>1</td>\n",
       "    </tr>\n",
       "    <tr>\n",
       "      <td>7548</td>\n",
       "      <td>9220879493065341500</td>\n",
       "      <td>1</td>\n",
       "    </tr>\n",
       "    <tr>\n",
       "      <td>7549</td>\n",
       "      <td>9221926045299980007</td>\n",
       "      <td>1</td>\n",
       "    </tr>\n",
       "    <tr>\n",
       "      <td>7550</td>\n",
       "      <td>9222603179720523844</td>\n",
       "      <td>1</td>\n",
       "    </tr>\n",
       "  </tbody>\n",
       "</table>\n",
       "<p>7551 rows × 2 columns</p>\n",
       "</div>"
      ],
      "text/plain": [
       "                       id  group\n",
       "0        6888746892508752      1\n",
       "1        6909561520679493      1\n",
       "2        6922444491712477      1\n",
       "3        7435777799948366      1\n",
       "4        7702139951469979      1\n",
       "...                   ...    ...\n",
       "7546  9217594193087726423      1\n",
       "7547  9219463515465815368      1\n",
       "7548  9220879493065341500      1\n",
       "7549  9221926045299980007      1\n",
       "7550  9222603179720523844      1\n",
       "\n",
       "[7551 rows x 2 columns]"
      ]
     },
     "execution_count": 95,
     "metadata": {},
     "output_type": "execute_result"
    }
   ],
   "source": [
    "# проверяю не попал ли сразу в несколько групп кто-то из пользователей\n",
    "test_1=df.groupby('id')['group'].nunique().reset_index()\n",
    "test_1"
   ]
  },
  {
   "cell_type": "code",
   "execution_count": 96,
   "metadata": {},
   "outputs": [
    {
     "data": {
      "text/plain": [
       "id       0\n",
       "group    0\n",
       "dtype: int64"
      ]
     },
     "execution_count": 96,
     "metadata": {},
     "output_type": "execute_result"
    }
   ],
   "source": [
    "test_1.query('group > 1').count()\n"
   ]
  },
  {
   "cell_type": "code",
   "execution_count": 97,
   "metadata": {},
   "outputs": [],
   "source": [
    "df = df[['event', 'id', 'group', 'date', 'time']]"
   ]
  },
  {
   "cell_type": "code",
   "execution_count": 98,
   "metadata": {},
   "outputs": [
    {
     "data": {
      "text/html": [
       "<div>\n",
       "<style scoped>\n",
       "    .dataframe tbody tr th:only-of-type {\n",
       "        vertical-align: middle;\n",
       "    }\n",
       "\n",
       "    .dataframe tbody tr th {\n",
       "        vertical-align: top;\n",
       "    }\n",
       "\n",
       "    .dataframe thead th {\n",
       "        text-align: right;\n",
       "    }\n",
       "</style>\n",
       "<table border=\"1\" class=\"dataframe\">\n",
       "  <thead>\n",
       "    <tr style=\"text-align: right;\">\n",
       "      <th></th>\n",
       "      <th>event</th>\n",
       "      <th>id</th>\n",
       "      <th>group</th>\n",
       "      <th>date</th>\n",
       "      <th>time</th>\n",
       "    </tr>\n",
       "  </thead>\n",
       "  <tbody>\n",
       "    <tr>\n",
       "      <td>0</td>\n",
       "      <td>MainScreenAppear</td>\n",
       "      <td>4575588528974610257</td>\n",
       "      <td>A</td>\n",
       "      <td>2019-07-25</td>\n",
       "      <td>2019-07-25 04:43:36</td>\n",
       "    </tr>\n",
       "    <tr>\n",
       "      <td>1</td>\n",
       "      <td>MainScreenAppear</td>\n",
       "      <td>7416695313311560658</td>\n",
       "      <td>A</td>\n",
       "      <td>2019-07-25</td>\n",
       "      <td>2019-07-25 11:11:42</td>\n",
       "    </tr>\n",
       "    <tr>\n",
       "      <td>2</td>\n",
       "      <td>PaymentScreenSuccessful</td>\n",
       "      <td>3518123091307005509</td>\n",
       "      <td>B</td>\n",
       "      <td>2019-07-25</td>\n",
       "      <td>2019-07-25 11:28:47</td>\n",
       "    </tr>\n",
       "    <tr>\n",
       "      <td>3</td>\n",
       "      <td>CartScreenAppear</td>\n",
       "      <td>3518123091307005509</td>\n",
       "      <td>B</td>\n",
       "      <td>2019-07-25</td>\n",
       "      <td>2019-07-25 11:28:47</td>\n",
       "    </tr>\n",
       "    <tr>\n",
       "      <td>4</td>\n",
       "      <td>PaymentScreenSuccessful</td>\n",
       "      <td>6217807653094995999</td>\n",
       "      <td>B</td>\n",
       "      <td>2019-07-25</td>\n",
       "      <td>2019-07-25 11:48:42</td>\n",
       "    </tr>\n",
       "    <tr>\n",
       "      <td>...</td>\n",
       "      <td>...</td>\n",
       "      <td>...</td>\n",
       "      <td>...</td>\n",
       "      <td>...</td>\n",
       "      <td>...</td>\n",
       "    </tr>\n",
       "    <tr>\n",
       "      <td>244121</td>\n",
       "      <td>MainScreenAppear</td>\n",
       "      <td>4599628364049201812</td>\n",
       "      <td>A2</td>\n",
       "      <td>2019-08-07</td>\n",
       "      <td>2019-08-07 21:12:25</td>\n",
       "    </tr>\n",
       "    <tr>\n",
       "      <td>244122</td>\n",
       "      <td>MainScreenAppear</td>\n",
       "      <td>5849806612437486590</td>\n",
       "      <td>A</td>\n",
       "      <td>2019-08-07</td>\n",
       "      <td>2019-08-07 21:13:59</td>\n",
       "    </tr>\n",
       "    <tr>\n",
       "      <td>244123</td>\n",
       "      <td>MainScreenAppear</td>\n",
       "      <td>5746969938801999050</td>\n",
       "      <td>A</td>\n",
       "      <td>2019-08-07</td>\n",
       "      <td>2019-08-07 21:14:43</td>\n",
       "    </tr>\n",
       "    <tr>\n",
       "      <td>244124</td>\n",
       "      <td>MainScreenAppear</td>\n",
       "      <td>5746969938801999050</td>\n",
       "      <td>A</td>\n",
       "      <td>2019-08-07</td>\n",
       "      <td>2019-08-07 21:14:58</td>\n",
       "    </tr>\n",
       "    <tr>\n",
       "      <td>244125</td>\n",
       "      <td>OffersScreenAppear</td>\n",
       "      <td>5746969938801999050</td>\n",
       "      <td>A</td>\n",
       "      <td>2019-08-07</td>\n",
       "      <td>2019-08-07 21:15:17</td>\n",
       "    </tr>\n",
       "  </tbody>\n",
       "</table>\n",
       "<p>244126 rows × 5 columns</p>\n",
       "</div>"
      ],
      "text/plain": [
       "                          event                   id group        date  \\\n",
       "0              MainScreenAppear  4575588528974610257     A  2019-07-25   \n",
       "1              MainScreenAppear  7416695313311560658     A  2019-07-25   \n",
       "2       PaymentScreenSuccessful  3518123091307005509     B  2019-07-25   \n",
       "3              CartScreenAppear  3518123091307005509     B  2019-07-25   \n",
       "4       PaymentScreenSuccessful  6217807653094995999     B  2019-07-25   \n",
       "...                         ...                  ...   ...         ...   \n",
       "244121         MainScreenAppear  4599628364049201812    A2  2019-08-07   \n",
       "244122         MainScreenAppear  5849806612437486590     A  2019-08-07   \n",
       "244123         MainScreenAppear  5746969938801999050     A  2019-08-07   \n",
       "244124         MainScreenAppear  5746969938801999050     A  2019-08-07   \n",
       "244125       OffersScreenAppear  5746969938801999050     A  2019-08-07   \n",
       "\n",
       "                      time  \n",
       "0      2019-07-25 04:43:36  \n",
       "1      2019-07-25 11:11:42  \n",
       "2      2019-07-25 11:28:47  \n",
       "3      2019-07-25 11:28:47  \n",
       "4      2019-07-25 11:48:42  \n",
       "...                    ...  \n",
       "244121 2019-08-07 21:12:25  \n",
       "244122 2019-08-07 21:13:59  \n",
       "244123 2019-08-07 21:14:43  \n",
       "244124 2019-08-07 21:14:58  \n",
       "244125 2019-08-07 21:15:17  \n",
       "\n",
       "[244126 rows x 5 columns]"
      ]
     },
     "execution_count": 98,
     "metadata": {},
     "output_type": "execute_result"
    }
   ],
   "source": [
    "df"
   ]
  },
  {
   "cell_type": "markdown",
   "metadata": {},
   "source": [
    "В первой части проекта я:\n",
    "* изменил названия столбцов на удобные\n",
    "* добавил столбцы с датой и временем \n",
    "* сделал удобным названия групп\n",
    "* удалил незначительное количество дубликатов\n",
    "* проверил не попал ли кто-то из пользователей сразу в несколько групп"
   ]
  },
  {
   "cell_type": "markdown",
   "metadata": {},
   "source": [
    "<div style=\"border:solid green 2px; padding: 20px\"> \n",
    "    \n",
    "**Комментарий ревьюера**\n",
    "\n",
    "Да, ты все отлично преобразовал, молодец. Данные готовы к анализу.\n",
    "    \n",
    "</div>"
   ]
  },
  {
   "cell_type": "markdown",
   "metadata": {},
   "source": [
    "## Изучение и проверка данных"
   ]
  },
  {
   "cell_type": "markdown",
   "metadata": {},
   "source": [
    "### Сколько всего событий в логе?"
   ]
  },
  {
   "cell_type": "code",
   "execution_count": 99,
   "metadata": {},
   "outputs": [
    {
     "name": "stdout",
     "output_type": "stream",
     "text": [
      "Всего в логе 244126 событий\n"
     ]
    }
   ],
   "source": [
    "print('Всего в логе',df['event'].count(), 'событий')"
   ]
  },
  {
   "cell_type": "code",
   "execution_count": 100,
   "metadata": {},
   "outputs": [
    {
     "data": {
      "text/html": [
       "<div>\n",
       "<style scoped>\n",
       "    .dataframe tbody tr th:only-of-type {\n",
       "        vertical-align: middle;\n",
       "    }\n",
       "\n",
       "    .dataframe tbody tr th {\n",
       "        vertical-align: top;\n",
       "    }\n",
       "\n",
       "    .dataframe thead th {\n",
       "        text-align: right;\n",
       "    }\n",
       "</style>\n",
       "<table border=\"1\" class=\"dataframe\">\n",
       "  <thead>\n",
       "    <tr style=\"text-align: right;\">\n",
       "      <th></th>\n",
       "      <th>event</th>\n",
       "      <th>date</th>\n",
       "    </tr>\n",
       "  </thead>\n",
       "  <tbody>\n",
       "    <tr>\n",
       "      <td>0</td>\n",
       "      <td>MainScreenAppear</td>\n",
       "      <td>119205</td>\n",
       "    </tr>\n",
       "    <tr>\n",
       "      <td>1</td>\n",
       "      <td>OffersScreenAppear</td>\n",
       "      <td>46825</td>\n",
       "    </tr>\n",
       "    <tr>\n",
       "      <td>2</td>\n",
       "      <td>CartScreenAppear</td>\n",
       "      <td>42731</td>\n",
       "    </tr>\n",
       "    <tr>\n",
       "      <td>3</td>\n",
       "      <td>PaymentScreenSuccessful</td>\n",
       "      <td>34313</td>\n",
       "    </tr>\n",
       "    <tr>\n",
       "      <td>4</td>\n",
       "      <td>Tutorial</td>\n",
       "      <td>1052</td>\n",
       "    </tr>\n",
       "  </tbody>\n",
       "</table>\n",
       "</div>"
      ],
      "text/plain": [
       "                     event    date\n",
       "0         MainScreenAppear  119205\n",
       "1       OffersScreenAppear   46825\n",
       "2         CartScreenAppear   42731\n",
       "3  PaymentScreenSuccessful   34313\n",
       "4                 Tutorial    1052"
      ]
     },
     "execution_count": 100,
     "metadata": {},
     "output_type": "execute_result"
    }
   ],
   "source": [
    "events = df.groupby('event')['date'].count().sort_values(ascending=False).reset_index()\n",
    "events"
   ]
  },
  {
   "cell_type": "markdown",
   "metadata": {},
   "source": [
    "<div style=\"border:solid gold 2px; padding: 20px\"> \n",
    "    \n",
    "**Комментарий ревьюера**\n",
    "\n",
    "Хорошо, хотя здесь скорее имелось ввиду сколько типов событий у нас есть. Из таблицы видно, что у нас 5 различных типов, стоило описать что это за события.\n",
    "    \n",
    "</div>"
   ]
  },
  {
   "cell_type": "markdown",
   "metadata": {},
   "source": [
    "Всего у нас пять видов событий:\n",
    "* MainScreenAppear - заход на главный экран\n",
    "* OffersScreenAppear - заход на страницу с заказами\n",
    "* CartScreenAppear - заход в корзину \n",
    "* PaymentScreenSuccessful - заход на страницу оплаты\n",
    "* Tutorial - заход на страницу обучения"
   ]
  },
  {
   "cell_type": "markdown",
   "metadata": {},
   "source": [
    "### Сколько всего пользователей в логе?"
   ]
  },
  {
   "cell_type": "code",
   "execution_count": 101,
   "metadata": {},
   "outputs": [
    {
     "name": "stdout",
     "output_type": "stream",
     "text": [
      "Всего в логе 7551 пользователей\n"
     ]
    }
   ],
   "source": [
    "print('Всего в логе',df['id'].nunique(), 'пользователей')"
   ]
  },
  {
   "cell_type": "code",
   "execution_count": 102,
   "metadata": {},
   "outputs": [
    {
     "data": {
      "text/html": [
       "<div>\n",
       "<style scoped>\n",
       "    .dataframe tbody tr th:only-of-type {\n",
       "        vertical-align: middle;\n",
       "    }\n",
       "\n",
       "    .dataframe tbody tr th {\n",
       "        vertical-align: top;\n",
       "    }\n",
       "\n",
       "    .dataframe thead th {\n",
       "        text-align: right;\n",
       "    }\n",
       "</style>\n",
       "<table border=\"1\" class=\"dataframe\">\n",
       "  <thead>\n",
       "    <tr style=\"text-align: right;\">\n",
       "      <th></th>\n",
       "      <th>group</th>\n",
       "      <th>id</th>\n",
       "    </tr>\n",
       "  </thead>\n",
       "  <tbody>\n",
       "    <tr>\n",
       "      <td>0</td>\n",
       "      <td>B</td>\n",
       "      <td>2542</td>\n",
       "    </tr>\n",
       "    <tr>\n",
       "      <td>1</td>\n",
       "      <td>A2</td>\n",
       "      <td>2520</td>\n",
       "    </tr>\n",
       "    <tr>\n",
       "      <td>2</td>\n",
       "      <td>A</td>\n",
       "      <td>2489</td>\n",
       "    </tr>\n",
       "  </tbody>\n",
       "</table>\n",
       "</div>"
      ],
      "text/plain": [
       "  group    id\n",
       "0     B  2542\n",
       "1    A2  2520\n",
       "2     A  2489"
      ]
     },
     "execution_count": 102,
     "metadata": {},
     "output_type": "execute_result"
    }
   ],
   "source": [
    "users = df.groupby('group')['id'].nunique().sort_values(ascending=False).reset_index()\n",
    "users"
   ]
  },
  {
   "cell_type": "markdown",
   "metadata": {},
   "source": [
    "### Сколько в среднем событий приходится на пользователя?"
   ]
  },
  {
   "cell_type": "code",
   "execution_count": 103,
   "metadata": {},
   "outputs": [
    {
     "name": "stdout",
     "output_type": "stream",
     "text": [
      "В среднем на пользователя приходится 32.0 события\n"
     ]
    }
   ],
   "source": [
    "print('В среднем на пользователя приходится', (df['event'].count()/df['id'].nunique()).round(0),'события')"
   ]
  },
  {
   "cell_type": "markdown",
   "metadata": {},
   "source": [
    "### Данными за какой период времени вы располагаете на самом деле?"
   ]
  },
  {
   "cell_type": "code",
   "execution_count": 104,
   "metadata": {},
   "outputs": [
    {
     "name": "stdout",
     "output_type": "stream",
     "text": [
      "13 days 16:31:41\n"
     ]
    }
   ],
   "source": [
    "print(df['time'].max()-df['time'].min())"
   ]
  },
  {
   "cell_type": "markdown",
   "metadata": {},
   "source": [
    "Всего у нас есть данные почти за две недели."
   ]
  },
  {
   "cell_type": "markdown",
   "metadata": {},
   "source": [
    "<div style=\"border:solid green 2px; padding: 20px\"> \n",
    "    \n",
    "**Комментарий ревьюера**\n",
    "\n",
    "Чтоб в итоговом варианте проекта не всплывали ненужные предупреждения, можно в начале натроить\n",
    "\n",
    "    warnings.filterwarnings('ignore')\n",
    "    \n",
    "</div>\n"
   ]
  },
  {
   "cell_type": "code",
   "execution_count": 105,
   "metadata": {},
   "outputs": [
    {
     "data": {
      "image/png": "[encoded data removed]",
      "text/plain": [
       "<Figure size 1152x648 with 1 Axes>"
      ]
     },
     "metadata": {
      "needs_background": "light"
     },
     "output_type": "display_data"
    }
   ],
   "source": [
    "# смотрю распределение событий по дате\n",
    "plt.figure(figsize=(16, 9))\n",
    "plt.title('Распределение событий по датам и времени', fontsize=14)\n",
    "plt.hist('time', data=df, bins=100)\n",
    "plt.xlabel('Дата', fontsize=10)\n",
    "plt.ylabel('Количество событий', fontsize=10)\n",
    "plt.show()"
   ]
  },
  {
   "cell_type": "markdown",
   "metadata": {},
   "source": [
    "<div style=\"border:solid gold 2px; padding: 20px\"> \n",
    "    \n",
    "**Комментарий ревьюера**\n",
    "\n",
    "На графиве четко видна периодичность. Это не нельзя оставлять безвнимания, такие моменты надо комментировать.\n",
    "    \n",
    "</div>"
   ]
  },
  {
   "cell_type": "markdown",
   "metadata": {},
   "source": [
    "На графике видно, что событий до первого августа нет."
   ]
  },
  {
   "cell_type": "code",
   "execution_count": 106,
   "metadata": {},
   "outputs": [],
   "source": [
    "# я создаю новый датафрейм, где не будет событий до первого числа.\n",
    "df_new = df.query('time >= \"2019-08-01\"')"
   ]
  },
  {
   "cell_type": "code",
   "execution_count": 107,
   "metadata": {},
   "outputs": [
    {
     "data": {
      "image/png": "[encoded data removed]",
      "text/plain": [
       "<Figure size 1152x648 with 1 Axes>"
      ]
     },
     "metadata": {
      "needs_background": "light"
     },
     "output_type": "display_data"
    }
   ],
   "source": [
    "# смотрю распределение событий по дате\n",
    "plt.figure(figsize=(16, 9))\n",
    "plt.title('Распределение событий по датам и времени', fontsize=14)\n",
    "plt.hist('time', data=df_new, bins=100)\n",
    "plt.xlabel('Дата', fontsize=10)\n",
    "plt.ylabel('Количество событий', fontsize=10)\n",
    "plt.show()"
   ]
  },
  {
   "cell_type": "code",
   "execution_count": 108,
   "metadata": {},
   "outputs": [
    {
     "name": "stdout",
     "output_type": "stream",
     "text": [
      "На самом деле я расплагаю данными за период между (Timestamp('2019-08-01 00:07:28'), 'и', Timestamp('2019-08-07 21:15:17'))\n"
     ]
    }
   ],
   "source": [
    "print('На самом деле я расплагаю данными за период между',(df_new['time'].min(), 'и', df_new['time'].max()))"
   ]
  },
  {
   "cell_type": "markdown",
   "metadata": {},
   "source": [
    "Так же можно добавить, что у данных есть чёткая периодичность. Активность постепенно растёт полдня и потом так же постепенно падает."
   ]
  },
  {
   "cell_type": "code",
   "execution_count": 109,
   "metadata": {},
   "outputs": [
    {
     "data": {
      "text/html": [
       "<div>\n",
       "<style scoped>\n",
       "    .dataframe tbody tr th:only-of-type {\n",
       "        vertical-align: middle;\n",
       "    }\n",
       "\n",
       "    .dataframe tbody tr th {\n",
       "        vertical-align: top;\n",
       "    }\n",
       "\n",
       "    .dataframe thead th {\n",
       "        text-align: right;\n",
       "    }\n",
       "</style>\n",
       "<table border=\"1\" class=\"dataframe\">\n",
       "  <thead>\n",
       "    <tr style=\"text-align: right;\">\n",
       "      <th></th>\n",
       "      <th>event</th>\n",
       "      <th>id</th>\n",
       "      <th>group</th>\n",
       "      <th>date</th>\n",
       "      <th>time</th>\n",
       "    </tr>\n",
       "  </thead>\n",
       "  <tbody>\n",
       "    <tr>\n",
       "      <td>2828</td>\n",
       "      <td>Tutorial</td>\n",
       "      <td>3737462046622621720</td>\n",
       "      <td>A</td>\n",
       "      <td>2019-08-01</td>\n",
       "      <td>2019-08-01 00:07:28</td>\n",
       "    </tr>\n",
       "    <tr>\n",
       "      <td>2829</td>\n",
       "      <td>MainScreenAppear</td>\n",
       "      <td>3737462046622621720</td>\n",
       "      <td>A</td>\n",
       "      <td>2019-08-01</td>\n",
       "      <td>2019-08-01 00:08:00</td>\n",
       "    </tr>\n",
       "    <tr>\n",
       "      <td>2830</td>\n",
       "      <td>MainScreenAppear</td>\n",
       "      <td>3737462046622621720</td>\n",
       "      <td>A</td>\n",
       "      <td>2019-08-01</td>\n",
       "      <td>2019-08-01 00:08:55</td>\n",
       "    </tr>\n",
       "    <tr>\n",
       "      <td>2831</td>\n",
       "      <td>OffersScreenAppear</td>\n",
       "      <td>3737462046622621720</td>\n",
       "      <td>A</td>\n",
       "      <td>2019-08-01</td>\n",
       "      <td>2019-08-01 00:08:58</td>\n",
       "    </tr>\n",
       "    <tr>\n",
       "      <td>2832</td>\n",
       "      <td>MainScreenAppear</td>\n",
       "      <td>1433840883824088890</td>\n",
       "      <td>A2</td>\n",
       "      <td>2019-08-01</td>\n",
       "      <td>2019-08-01 00:08:59</td>\n",
       "    </tr>\n",
       "    <tr>\n",
       "      <td>...</td>\n",
       "      <td>...</td>\n",
       "      <td>...</td>\n",
       "      <td>...</td>\n",
       "      <td>...</td>\n",
       "      <td>...</td>\n",
       "    </tr>\n",
       "    <tr>\n",
       "      <td>244121</td>\n",
       "      <td>MainScreenAppear</td>\n",
       "      <td>4599628364049201812</td>\n",
       "      <td>A2</td>\n",
       "      <td>2019-08-07</td>\n",
       "      <td>2019-08-07 21:12:25</td>\n",
       "    </tr>\n",
       "    <tr>\n",
       "      <td>244122</td>\n",
       "      <td>MainScreenAppear</td>\n",
       "      <td>5849806612437486590</td>\n",
       "      <td>A</td>\n",
       "      <td>2019-08-07</td>\n",
       "      <td>2019-08-07 21:13:59</td>\n",
       "    </tr>\n",
       "    <tr>\n",
       "      <td>244123</td>\n",
       "      <td>MainScreenAppear</td>\n",
       "      <td>5746969938801999050</td>\n",
       "      <td>A</td>\n",
       "      <td>2019-08-07</td>\n",
       "      <td>2019-08-07 21:14:43</td>\n",
       "    </tr>\n",
       "    <tr>\n",
       "      <td>244124</td>\n",
       "      <td>MainScreenAppear</td>\n",
       "      <td>5746969938801999050</td>\n",
       "      <td>A</td>\n",
       "      <td>2019-08-07</td>\n",
       "      <td>2019-08-07 21:14:58</td>\n",
       "    </tr>\n",
       "    <tr>\n",
       "      <td>244125</td>\n",
       "      <td>OffersScreenAppear</td>\n",
       "      <td>5746969938801999050</td>\n",
       "      <td>A</td>\n",
       "      <td>2019-08-07</td>\n",
       "      <td>2019-08-07 21:15:17</td>\n",
       "    </tr>\n",
       "  </tbody>\n",
       "</table>\n",
       "<p>241298 rows × 5 columns</p>\n",
       "</div>"
      ],
      "text/plain": [
       "                     event                   id group        date  \\\n",
       "2828              Tutorial  3737462046622621720     A  2019-08-01   \n",
       "2829      MainScreenAppear  3737462046622621720     A  2019-08-01   \n",
       "2830      MainScreenAppear  3737462046622621720     A  2019-08-01   \n",
       "2831    OffersScreenAppear  3737462046622621720     A  2019-08-01   \n",
       "2832      MainScreenAppear  1433840883824088890    A2  2019-08-01   \n",
       "...                    ...                  ...   ...         ...   \n",
       "244121    MainScreenAppear  4599628364049201812    A2  2019-08-07   \n",
       "244122    MainScreenAppear  5849806612437486590     A  2019-08-07   \n",
       "244123    MainScreenAppear  5746969938801999050     A  2019-08-07   \n",
       "244124    MainScreenAppear  5746969938801999050     A  2019-08-07   \n",
       "244125  OffersScreenAppear  5746969938801999050     A  2019-08-07   \n",
       "\n",
       "                      time  \n",
       "2828   2019-08-01 00:07:28  \n",
       "2829   2019-08-01 00:08:00  \n",
       "2830   2019-08-01 00:08:55  \n",
       "2831   2019-08-01 00:08:58  \n",
       "2832   2019-08-01 00:08:59  \n",
       "...                    ...  \n",
       "244121 2019-08-07 21:12:25  \n",
       "244122 2019-08-07 21:13:59  \n",
       "244123 2019-08-07 21:14:43  \n",
       "244124 2019-08-07 21:14:58  \n",
       "244125 2019-08-07 21:15:17  \n",
       "\n",
       "[241298 rows x 5 columns]"
      ]
     },
     "execution_count": 109,
     "metadata": {},
     "output_type": "execute_result"
    }
   ],
   "source": [
    "df_new"
   ]
  },
  {
   "cell_type": "markdown",
   "metadata": {},
   "source": [
    "<div style=\"border:solid green 2px; padding: 20px\"> \n",
    "    \n",
    "**Комментарий ревьюера**\n",
    "\n",
    "Ок, в этой части все верно рассчитано.\n",
    "    \n",
    "</div>"
   ]
  },
  {
   "cell_type": "markdown",
   "metadata": {},
   "source": [
    "### Много ли событий и пользователей вы потеряли, отбросив старые данные?"
   ]
  },
  {
   "cell_type": "code",
   "execution_count": 110,
   "metadata": {},
   "outputs": [],
   "source": [
    "test3 = ((df['event'].count() - df_new['event'].count())/df['event'].count()*100).round(2)"
   ]
  },
  {
   "cell_type": "code",
   "execution_count": 111,
   "metadata": {},
   "outputs": [
    {
     "name": "stdout",
     "output_type": "stream",
     "text": [
      "Из-за отброса старых данных я потерял только 1.16 % данных\n"
     ]
    }
   ],
   "source": [
    "print('Из-за отброса старых данных я потерял только', test3,'% данных')"
   ]
  },
  {
   "cell_type": "markdown",
   "metadata": {},
   "source": [
    "За счёт такой фильтрации отбросилось незначительное количество данных.\n",
    "\n",
    "<div style=\"border:solid green 2px; padding: 20px\"> \n",
    "    \n",
    "**Комментарий ревьюера**\n",
    "\n",
    "Да, молодец, что рассчитал именно процент, он нагляднее, чем абсолютное значение.\n",
    "    \n",
    "</div>"
   ]
  },
  {
   "cell_type": "markdown",
   "metadata": {},
   "source": [
    "### Проверьте, что у вас есть пользователи из всех трёх экспериментальных групп."
   ]
  },
  {
   "cell_type": "code",
   "execution_count": 112,
   "metadata": {},
   "outputs": [
    {
     "data": {
      "text/html": [
       "<div>\n",
       "<style scoped>\n",
       "    .dataframe tbody tr th:only-of-type {\n",
       "        vertical-align: middle;\n",
       "    }\n",
       "\n",
       "    .dataframe tbody tr th {\n",
       "        vertical-align: top;\n",
       "    }\n",
       "\n",
       "    .dataframe thead th {\n",
       "        text-align: right;\n",
       "    }\n",
       "</style>\n",
       "<table border=\"1\" class=\"dataframe\">\n",
       "  <thead>\n",
       "    <tr style=\"text-align: right;\">\n",
       "      <th></th>\n",
       "      <th>group</th>\n",
       "      <th>id</th>\n",
       "    </tr>\n",
       "  </thead>\n",
       "  <tbody>\n",
       "    <tr>\n",
       "      <td>0</td>\n",
       "      <td>B</td>\n",
       "      <td>2537</td>\n",
       "    </tr>\n",
       "    <tr>\n",
       "      <td>1</td>\n",
       "      <td>A2</td>\n",
       "      <td>2513</td>\n",
       "    </tr>\n",
       "    <tr>\n",
       "      <td>2</td>\n",
       "      <td>A</td>\n",
       "      <td>2484</td>\n",
       "    </tr>\n",
       "  </tbody>\n",
       "</table>\n",
       "</div>"
      ],
      "text/plain": [
       "  group    id\n",
       "0     B  2537\n",
       "1    A2  2513\n",
       "2     A  2484"
      ]
     },
     "execution_count": 112,
     "metadata": {},
     "output_type": "execute_result"
    }
   ],
   "source": [
    "users = df_new.groupby('group')['id'].nunique().sort_values(ascending=False).reset_index()\n",
    "users"
   ]
  },
  {
   "cell_type": "markdown",
   "metadata": {},
   "source": [
    "В новом дата фрейме представлены все три группы"
   ]
  },
  {
   "cell_type": "markdown",
   "metadata": {},
   "source": [
    "<div style=\"border:solid green 2px; padding: 20px\"> \n",
    "    \n",
    "**Комментарий ревьюера**\n",
    "\n",
    "Хорошо, но здесь также важно отметить, что группы равнозначны, это важно для статистического анализа.\n",
    "    \n",
    "</div>"
   ]
  },
  {
   "cell_type": "markdown",
   "metadata": {},
   "source": [
    "## Изучение воронки событий"
   ]
  },
  {
   "cell_type": "markdown",
   "metadata": {},
   "source": [
    "### Посмотрите, какие события есть в логах, как часто они встречаются. Отсортируйте события по частоте."
   ]
  },
  {
   "cell_type": "code",
   "execution_count": 113,
   "metadata": {},
   "outputs": [
    {
     "data": {
      "text/html": [
       "<div>\n",
       "<style scoped>\n",
       "    .dataframe tbody tr th:only-of-type {\n",
       "        vertical-align: middle;\n",
       "    }\n",
       "\n",
       "    .dataframe tbody tr th {\n",
       "        vertical-align: top;\n",
       "    }\n",
       "\n",
       "    .dataframe thead th {\n",
       "        text-align: right;\n",
       "    }\n",
       "</style>\n",
       "<table border=\"1\" class=\"dataframe\">\n",
       "  <thead>\n",
       "    <tr style=\"text-align: right;\">\n",
       "      <th></th>\n",
       "      <th>event</th>\n",
       "      <th>id</th>\n",
       "    </tr>\n",
       "  </thead>\n",
       "  <tbody>\n",
       "    <tr>\n",
       "      <td>0</td>\n",
       "      <td>MainScreenAppear</td>\n",
       "      <td>117431</td>\n",
       "    </tr>\n",
       "    <tr>\n",
       "      <td>1</td>\n",
       "      <td>OffersScreenAppear</td>\n",
       "      <td>46350</td>\n",
       "    </tr>\n",
       "    <tr>\n",
       "      <td>2</td>\n",
       "      <td>CartScreenAppear</td>\n",
       "      <td>42365</td>\n",
       "    </tr>\n",
       "    <tr>\n",
       "      <td>3</td>\n",
       "      <td>PaymentScreenSuccessful</td>\n",
       "      <td>34113</td>\n",
       "    </tr>\n",
       "    <tr>\n",
       "      <td>4</td>\n",
       "      <td>Tutorial</td>\n",
       "      <td>1039</td>\n",
       "    </tr>\n",
       "  </tbody>\n",
       "</table>\n",
       "</div>"
      ],
      "text/plain": [
       "                     event      id\n",
       "0         MainScreenAppear  117431\n",
       "1       OffersScreenAppear   46350\n",
       "2         CartScreenAppear   42365\n",
       "3  PaymentScreenSuccessful   34113\n",
       "4                 Tutorial    1039"
      ]
     },
     "execution_count": 113,
     "metadata": {},
     "output_type": "execute_result"
    }
   ],
   "source": [
    "events = df_new.groupby('event')['id'].count().sort_values(ascending=False).reset_index()\n",
    "events"
   ]
  },
  {
   "cell_type": "markdown",
   "metadata": {},
   "source": [
    "### Посчитайте, сколько пользователей совершали каждое из этих событий. Отсортируйте события по числу пользователей. Посчитайте долю пользователей, которые хоть раз совершали событие."
   ]
  },
  {
   "cell_type": "code",
   "execution_count": 114,
   "metadata": {},
   "outputs": [],
   "source": [
    "users_count = df_new['id'].nunique()"
   ]
  },
  {
   "cell_type": "code",
   "execution_count": 115,
   "metadata": {},
   "outputs": [
    {
     "data": {
      "text/plain": [
       "7534"
      ]
     },
     "execution_count": 115,
     "metadata": {},
     "output_type": "execute_result"
    }
   ],
   "source": [
    "users_count"
   ]
  },
  {
   "cell_type": "code",
   "execution_count": 116,
   "metadata": {},
   "outputs": [],
   "source": [
    "# смотрю сколько польователей совершили каждое действие\n",
    "events = df_new.groupby('event').agg({'id':'nunique'}).sort_values('id', ascending=False).reset_index()"
   ]
  },
  {
   "cell_type": "code",
   "execution_count": 117,
   "metadata": {},
   "outputs": [
    {
     "data": {
      "text/html": [
       "<div>\n",
       "<style scoped>\n",
       "    .dataframe tbody tr th:only-of-type {\n",
       "        vertical-align: middle;\n",
       "    }\n",
       "\n",
       "    .dataframe tbody tr th {\n",
       "        vertical-align: top;\n",
       "    }\n",
       "\n",
       "    .dataframe thead th {\n",
       "        text-align: right;\n",
       "    }\n",
       "</style>\n",
       "<table border=\"1\" class=\"dataframe\">\n",
       "  <thead>\n",
       "    <tr style=\"text-align: right;\">\n",
       "      <th></th>\n",
       "      <th>event</th>\n",
       "      <th>id</th>\n",
       "    </tr>\n",
       "  </thead>\n",
       "  <tbody>\n",
       "    <tr>\n",
       "      <td>0</td>\n",
       "      <td>MainScreenAppear</td>\n",
       "      <td>7419</td>\n",
       "    </tr>\n",
       "    <tr>\n",
       "      <td>1</td>\n",
       "      <td>OffersScreenAppear</td>\n",
       "      <td>4593</td>\n",
       "    </tr>\n",
       "    <tr>\n",
       "      <td>2</td>\n",
       "      <td>CartScreenAppear</td>\n",
       "      <td>3734</td>\n",
       "    </tr>\n",
       "    <tr>\n",
       "      <td>3</td>\n",
       "      <td>PaymentScreenSuccessful</td>\n",
       "      <td>3539</td>\n",
       "    </tr>\n",
       "    <tr>\n",
       "      <td>4</td>\n",
       "      <td>Tutorial</td>\n",
       "      <td>840</td>\n",
       "    </tr>\n",
       "  </tbody>\n",
       "</table>\n",
       "</div>"
      ],
      "text/plain": [
       "                     event    id\n",
       "0         MainScreenAppear  7419\n",
       "1       OffersScreenAppear  4593\n",
       "2         CartScreenAppear  3734\n",
       "3  PaymentScreenSuccessful  3539\n",
       "4                 Tutorial   840"
      ]
     },
     "execution_count": 117,
     "metadata": {},
     "output_type": "execute_result"
    }
   ],
   "source": [
    "events"
   ]
  },
  {
   "cell_type": "code",
   "execution_count": 118,
   "metadata": {},
   "outputs": [],
   "source": [
    "# смотрю сколько польователей совершили каждое действие в процентах\n",
    "events['part'] = ((events['id'] / users_count) * 100).round(1)"
   ]
  },
  {
   "cell_type": "code",
   "execution_count": 119,
   "metadata": {},
   "outputs": [
    {
     "data": {
      "text/html": [
       "<div>\n",
       "<style scoped>\n",
       "    .dataframe tbody tr th:only-of-type {\n",
       "        vertical-align: middle;\n",
       "    }\n",
       "\n",
       "    .dataframe tbody tr th {\n",
       "        vertical-align: top;\n",
       "    }\n",
       "\n",
       "    .dataframe thead th {\n",
       "        text-align: right;\n",
       "    }\n",
       "</style>\n",
       "<table border=\"1\" class=\"dataframe\">\n",
       "  <thead>\n",
       "    <tr style=\"text-align: right;\">\n",
       "      <th></th>\n",
       "      <th>event</th>\n",
       "      <th>id</th>\n",
       "      <th>part</th>\n",
       "    </tr>\n",
       "  </thead>\n",
       "  <tbody>\n",
       "    <tr>\n",
       "      <td>0</td>\n",
       "      <td>MainScreenAppear</td>\n",
       "      <td>7419</td>\n",
       "      <td>98.5</td>\n",
       "    </tr>\n",
       "    <tr>\n",
       "      <td>1</td>\n",
       "      <td>OffersScreenAppear</td>\n",
       "      <td>4593</td>\n",
       "      <td>61.0</td>\n",
       "    </tr>\n",
       "    <tr>\n",
       "      <td>2</td>\n",
       "      <td>CartScreenAppear</td>\n",
       "      <td>3734</td>\n",
       "      <td>49.6</td>\n",
       "    </tr>\n",
       "    <tr>\n",
       "      <td>3</td>\n",
       "      <td>PaymentScreenSuccessful</td>\n",
       "      <td>3539</td>\n",
       "      <td>47.0</td>\n",
       "    </tr>\n",
       "    <tr>\n",
       "      <td>4</td>\n",
       "      <td>Tutorial</td>\n",
       "      <td>840</td>\n",
       "      <td>11.1</td>\n",
       "    </tr>\n",
       "  </tbody>\n",
       "</table>\n",
       "</div>"
      ],
      "text/plain": [
       "                     event    id  part\n",
       "0         MainScreenAppear  7419  98.5\n",
       "1       OffersScreenAppear  4593  61.0\n",
       "2         CartScreenAppear  3734  49.6\n",
       "3  PaymentScreenSuccessful  3539  47.0\n",
       "4                 Tutorial   840  11.1"
      ]
     },
     "execution_count": 119,
     "metadata": {},
     "output_type": "execute_result"
    }
   ],
   "source": [
    "events"
   ]
  },
  {
   "cell_type": "markdown",
   "metadata": {},
   "source": [
    "Исходя из этих данных, можно предположить, что сначала пользователи заходят на главный экран, затем смотрят на страницу с предложениями, далее заходят в корзину, потом на страницу оплаты. Не логичным кажется тут страница с туторилом, на которую заходит лишь каждый 10 пользователь. Ведь сначала нужно узнать, как всё устроено. Хотя, наверное, десять процентов это много. Ведь должно быть интуитивно понятно, куда нажимать и как платить. Но одинадцати процентам пользователей с этим сложно."
   ]
  },
  {
   "cell_type": "markdown",
   "metadata": {},
   "source": [
    "<div style=\"border:solid green 2px; padding: 20px\"> \n",
    "    \n",
    "**Комментарий ревьюера**\n",
    "\n",
    "Ок, все верно рассчитано. Также ты правильно заметил про tutorial. Также стоит отметить, что у нас не все пользователи идут через главную страницу, некоторые попадают каким-то другим способом\n",
    "    \n",
    "</div>"
   ]
  },
  {
   "cell_type": "markdown",
   "metadata": {},
   "source": [
    "### По воронке событий посчитайте, какая доля пользователей проходит на следующий шаг воронки (от числа пользователей на предыдущем)."
   ]
  },
  {
   "cell_type": "code",
   "execution_count": 120,
   "metadata": {},
   "outputs": [],
   "source": [
    "# так как туториал не вписывается в эту воронку я его убираю \n",
    "events = events.drop(events.tail(1).index)"
   ]
  },
  {
   "cell_type": "code",
   "execution_count": 121,
   "metadata": {},
   "outputs": [
    {
     "data": {
      "text/html": [
       "<div>\n",
       "<style scoped>\n",
       "    .dataframe tbody tr th:only-of-type {\n",
       "        vertical-align: middle;\n",
       "    }\n",
       "\n",
       "    .dataframe tbody tr th {\n",
       "        vertical-align: top;\n",
       "    }\n",
       "\n",
       "    .dataframe thead th {\n",
       "        text-align: right;\n",
       "    }\n",
       "</style>\n",
       "<table border=\"1\" class=\"dataframe\">\n",
       "  <thead>\n",
       "    <tr style=\"text-align: right;\">\n",
       "      <th></th>\n",
       "      <th>event</th>\n",
       "      <th>id</th>\n",
       "      <th>part</th>\n",
       "    </tr>\n",
       "  </thead>\n",
       "  <tbody>\n",
       "    <tr>\n",
       "      <td>0</td>\n",
       "      <td>MainScreenAppear</td>\n",
       "      <td>7419</td>\n",
       "      <td>98.5</td>\n",
       "    </tr>\n",
       "    <tr>\n",
       "      <td>1</td>\n",
       "      <td>OffersScreenAppear</td>\n",
       "      <td>4593</td>\n",
       "      <td>61.0</td>\n",
       "    </tr>\n",
       "    <tr>\n",
       "      <td>2</td>\n",
       "      <td>CartScreenAppear</td>\n",
       "      <td>3734</td>\n",
       "      <td>49.6</td>\n",
       "    </tr>\n",
       "    <tr>\n",
       "      <td>3</td>\n",
       "      <td>PaymentScreenSuccessful</td>\n",
       "      <td>3539</td>\n",
       "      <td>47.0</td>\n",
       "    </tr>\n",
       "  </tbody>\n",
       "</table>\n",
       "</div>"
      ],
      "text/plain": [
       "                     event    id  part\n",
       "0         MainScreenAppear  7419  98.5\n",
       "1       OffersScreenAppear  4593  61.0\n",
       "2         CartScreenAppear  3734  49.6\n",
       "3  PaymentScreenSuccessful  3539  47.0"
      ]
     },
     "execution_count": 121,
     "metadata": {},
     "output_type": "execute_result"
    }
   ],
   "source": [
    "events "
   ]
  },
  {
   "cell_type": "code",
   "execution_count": 122,
   "metadata": {},
   "outputs": [
    {
     "data": {
      "text/html": [
       "<div>\n",
       "<style scoped>\n",
       "    .dataframe tbody tr th:only-of-type {\n",
       "        vertical-align: middle;\n",
       "    }\n",
       "\n",
       "    .dataframe tbody tr th {\n",
       "        vertical-align: top;\n",
       "    }\n",
       "\n",
       "    .dataframe thead th {\n",
       "        text-align: right;\n",
       "    }\n",
       "</style>\n",
       "<table border=\"1\" class=\"dataframe\">\n",
       "  <thead>\n",
       "    <tr style=\"text-align: right;\">\n",
       "      <th></th>\n",
       "      <th>event</th>\n",
       "      <th>id</th>\n",
       "      <th>part</th>\n",
       "      <th>percent</th>\n",
       "    </tr>\n",
       "  </thead>\n",
       "  <tbody>\n",
       "    <tr>\n",
       "      <td>0</td>\n",
       "      <td>MainScreenAppear</td>\n",
       "      <td>7419</td>\n",
       "      <td>98.5</td>\n",
       "      <td>NaN</td>\n",
       "    </tr>\n",
       "    <tr>\n",
       "      <td>1</td>\n",
       "      <td>OffersScreenAppear</td>\n",
       "      <td>4593</td>\n",
       "      <td>61.0</td>\n",
       "      <td>61.9</td>\n",
       "    </tr>\n",
       "    <tr>\n",
       "      <td>2</td>\n",
       "      <td>CartScreenAppear</td>\n",
       "      <td>3734</td>\n",
       "      <td>49.6</td>\n",
       "      <td>81.3</td>\n",
       "    </tr>\n",
       "    <tr>\n",
       "      <td>3</td>\n",
       "      <td>PaymentScreenSuccessful</td>\n",
       "      <td>3539</td>\n",
       "      <td>47.0</td>\n",
       "      <td>94.8</td>\n",
       "    </tr>\n",
       "  </tbody>\n",
       "</table>\n",
       "</div>"
      ],
      "text/plain": [
       "                     event    id  part  percent\n",
       "0         MainScreenAppear  7419  98.5      NaN\n",
       "1       OffersScreenAppear  4593  61.0     61.9\n",
       "2         CartScreenAppear  3734  49.6     81.3\n",
       "3  PaymentScreenSuccessful  3539  47.0     94.8"
      ]
     },
     "execution_count": 122,
     "metadata": {},
     "output_type": "execute_result"
    }
   ],
   "source": [
    "events = events.loc[:3]\n",
    "for i in range(1, 4):\n",
    "    events.loc[i, 'percent'] = (events.loc[i, 'id'] / events.loc[i-1, 'id'] * 100).round(1)\n",
    "events"
   ]
  },
  {
   "cell_type": "code",
   "execution_count": 124,
   "metadata": {},
   "outputs": [
    {
     "data": {
      "application/vnd.plotly.v1+json": {
       "config": {
        "plotlyServerURL": "https://plot.ly"
       },
       "data": [
        {
         "textinfo": "value+percent previous",
         "type": "funnel",
         "x": [
          7419,
          4593,
          3734,
          3539
         ],
         "y": [
          "MainScreenAppear",
          "OffersScreenAppear",
          "CartScreenAppear",
          "PaymentScreenSuccessful"
         ]
        }
       ],
       "layout": {
        "template": {
         "data": {
          "bar": [
           {
            "error_x": {
             "color": "#2a3f5f"
            },
            "error_y": {
             "color": "#2a3f5f"
            },
            "marker": {
             "line": {
              "color": "#E5ECF6",
              "width": 0.5
             }
            },
            "type": "bar"
           }
          ],
          "barpolar": [
           {
            "marker": {
             "line": {
              "color": "#E5ECF6",
              "width": 0.5
             }
            },
            "type": "barpolar"
           }
          ],
          "carpet": [
           {
            "aaxis": {
             "endlinecolor": "#2a3f5f",
             "gridcolor": "white",
             "linecolor": "white",
             "minorgridcolor": "white",
             "startlinecolor": "#2a3f5f"
            },
            "baxis": {
             "endlinecolor": "#2a3f5f",
             "gridcolor": "white",
             "linecolor": "white",
             "minorgridcolor": "white",
             "startlinecolor": "#2a3f5f"
            },
            "type": "carpet"
           }
          ],
          "choropleth": [
           {
            "colorbar": {
             "outlinewidth": 0,
             "ticks": ""
            },
            "type": "choropleth"
           }
          ],
          "contour": [
           {
            "colorbar": {
             "outlinewidth": 0,
             "ticks": ""
            },
            "colorscale": [
             [
              0,
              "#0d0887"
             ],
             [
              0.1111111111,
              "#46039f"
             ],
             [
              0.2222222222,
              "#7201a8"
             ],
             [
              0.3333333333,
              "#9c179e"
             ],
             [
              0.4444444444,
              "#bd3786"
             ],
             [
              0.5555555556,
              "#d8576b"
             ],
             [
              0.6666666667,
              "#ed7953"
             ],
             [
              0.7777777778,
              "#fb9f3a"
             ],
             [
              0.8888888889,
              "#fdca26"
             ],
             [
              1,
              "#f0f921"
             ]
            ],
            "type": "contour"
           }
          ],
          "contourcarpet": [
           {
            "colorbar": {
             "outlinewidth": 0,
             "ticks": ""
            },
            "type": "contourcarpet"
           }
          ],
          "heatmap": [
           {
            "colorbar": {
             "outlinewidth": 0,
             "ticks": ""
            },
            "colorscale": [
             [
              0,
              "#0d0887"
             ],
             [
              0.1111111111,
              "#46039f"
             ],
             [
              0.2222222222,
              "#7201a8"
             ],
             [
              0.3333333333,
              "#9c179e"
             ],
             [
              0.4444444444,
              "#bd3786"
             ],
             [
              0.5555555556,
              "#d8576b"
             ],
             [
              0.6666666667,
              "#ed7953"
             ],
             [
              0.7777777778,
              "#fb9f3a"
             ],
             [
              0.8888888889,
              "#fdca26"
             ],
             [
              1,
              "#f0f921"
             ]
            ],
            "type": "heatmap"
           }
          ],
          "heatmapgl": [
           {
            "colorbar": {
             "outlinewidth": 0,
             "ticks": ""
            },
            "colorscale": [
             [
              0,
              "#0d0887"
             ],
             [
              0.1111111111,
              "#46039f"
             ],
             [
              0.2222222222,
              "#7201a8"
             ],
             [
              0.3333333333,
              "#9c179e"
             ],
             [
              0.4444444444,
              "#bd3786"
             ],
             [
              0.5555555556,
              "#d8576b"
             ],
             [
              0.6666666667,
              "#ed7953"
             ],
             [
              0.7777777778,
              "#fb9f3a"
             ],
             [
              0.8888888889,
              "#fdca26"
             ],
             [
              1,
              "#f0f921"
             ]
            ],
            "type": "heatmapgl"
           }
          ],
          "histogram": [
           {
            "marker": {
             "colorbar": {
              "outlinewidth": 0,
              "ticks": ""
             }
            },
            "type": "histogram"
           }
          ],
          "histogram2d": [
           {
            "colorbar": {
             "outlinewidth": 0,
             "ticks": ""
            },
            "colorscale": [
             [
              0,
              "#0d0887"
             ],
             [
              0.1111111111,
              "#46039f"
             ],
             [
              0.2222222222,
              "#7201a8"
             ],
             [
              0.3333333333,
              "#9c179e"
             ],
             [
              0.4444444444,
              "#bd3786"
             ],
             [
              0.5555555556,
              "#d8576b"
             ],
             [
              0.6666666667,
              "#ed7953"
             ],
             [
              0.7777777778,
              "#fb9f3a"
             ],
             [
              0.8888888889,
              "#fdca26"
             ],
             [
              1,
              "#f0f921"
             ]
            ],
            "type": "histogram2d"
           }
          ],
          "histogram2dcontour": [
           {
            "colorbar": {
             "outlinewidth": 0,
             "ticks": ""
            },
            "colorscale": [
             [
              0,
              "#0d0887"
             ],
             [
              0.1111111111,
              "#46039f"
             ],
             [
              0.2222222222,
              "#7201a8"
             ],
             [
              0.3333333333,
              "#9c179e"
             ],
             [
              0.4444444444,
              "#bd3786"
             ],
             [
              0.5555555556,
              "#d8576b"
             ],
             [
              0.6666666667,
              "#ed7953"
             ],
             [
              0.7777777778,
              "#fb9f3a"
             ],
             [
              0.8888888889,
              "#fdca26"
             ],
             [
              1,
              "#f0f921"
             ]
            ],
            "type": "histogram2dcontour"
           }
          ],
          "mesh3d": [
           {
            "colorbar": {
             "outlinewidth": 0,
             "ticks": ""
            },
            "type": "mesh3d"
           }
          ],
          "parcoords": [
           {
            "line": {
             "colorbar": {
              "outlinewidth": 0,
              "ticks": ""
             }
            },
            "type": "parcoords"
           }
          ],
          "scatter": [
           {
            "marker": {
             "colorbar": {
              "outlinewidth": 0,
              "ticks": ""
             }
            },
            "type": "scatter"
           }
          ],
          "scatter3d": [
           {
            "line": {
             "colorbar": {
              "outlinewidth": 0,
              "ticks": ""
             }
            },
            "marker": {
             "colorbar": {
              "outlinewidth": 0,
              "ticks": ""
             }
            },
            "type": "scatter3d"
           }
          ],
          "scattercarpet": [
           {
            "marker": {
             "colorbar": {
              "outlinewidth": 0,
              "ticks": ""
             }
            },
            "type": "scattercarpet"
           }
          ],
          "scattergeo": [
           {
            "marker": {
             "colorbar": {
              "outlinewidth": 0,
              "ticks": ""
             }
            },
            "type": "scattergeo"
           }
          ],
          "scattergl": [
           {
            "marker": {
             "colorbar": {
              "outlinewidth": 0,
              "ticks": ""
             }
            },
            "type": "scattergl"
           }
          ],
          "scattermapbox": [
           {
            "marker": {
             "colorbar": {
              "outlinewidth": 0,
              "ticks": ""
             }
            },
            "type": "scattermapbox"
           }
          ],
          "scatterpolar": [
           {
            "marker": {
             "colorbar": {
              "outlinewidth": 0,
              "ticks": ""
             }
            },
            "type": "scatterpolar"
           }
          ],
          "scatterpolargl": [
           {
            "marker": {
             "colorbar": {
              "outlinewidth": 0,
              "ticks": ""
             }
            },
            "type": "scatterpolargl"
           }
          ],
          "scatterternary": [
           {
            "marker": {
             "colorbar": {
              "outlinewidth": 0,
              "ticks": ""
             }
            },
            "type": "scatterternary"
           }
          ],
          "surface": [
           {
            "colorbar": {
             "outlinewidth": 0,
             "ticks": ""
            },
            "colorscale": [
             [
              0,
              "#0d0887"
             ],
             [
              0.1111111111,
              "#46039f"
             ],
             [
              0.2222222222,
              "#7201a8"
             ],
             [
              0.3333333333,
              "#9c179e"
             ],
             [
              0.4444444444,
              "#bd3786"
             ],
             [
              0.5555555556,
              "#d8576b"
             ],
             [
              0.6666666667,
              "#ed7953"
             ],
             [
              0.7777777778,
              "#fb9f3a"
             ],
             [
              0.8888888889,
              "#fdca26"
             ],
             [
              1,
              "#f0f921"
             ]
            ],
            "type": "surface"
           }
          ],
          "table": [
           {
            "cells": {
             "fill": {
              "color": "#EBF0F8"
             },
             "line": {
              "color": "white"
             }
            },
            "header": {
             "fill": {
              "color": "#C8D4E3"
             },
             "line": {
              "color": "white"
             }
            },
            "type": "table"
           }
          ]
         },
         "layout": {
          "annotationdefaults": {
           "arrowcolor": "#2a3f5f",
           "arrowhead": 0,
           "arrowwidth": 1
          },
          "colorscale": {
           "diverging": [
            [
             0,
             "#8e0152"
            ],
            [
             0.1,
             "#c51b7d"
            ],
            [
             0.2,
             "#de77ae"
            ],
            [
             0.3,
             "#f1b6da"
            ],
            [
             0.4,
             "#fde0ef"
            ],
            [
             0.5,
             "#f7f7f7"
            ],
            [
             0.6,
             "#e6f5d0"
            ],
            [
             0.7,
             "#b8e186"
            ],
            [
             0.8,
             "#7fbc41"
            ],
            [
             0.9,
             "#4d9221"
            ],
            [
             1,
             "#276419"
            ]
           ],
           "sequential": [
            [
             0,
             "#0d0887"
            ],
            [
             0.1111111111,
             "#46039f"
            ],
            [
             0.2222222222,
             "#7201a8"
            ],
            [
             0.3333333333,
             "#9c179e"
            ],
            [
             0.4444444444,
             "#bd3786"
            ],
            [
             0.5555555556,
             "#d8576b"
            ],
            [
             0.6666666667,
             "#ed7953"
            ],
            [
             0.7777777778,
             "#fb9f3a"
            ],
            [
             0.8888888889,
             "#fdca26"
            ],
            [
             1,
             "#f0f921"
            ]
           ],
           "sequentialminus": [
            [
             0,
             "#0d0887"
            ],
            [
             0.1111111111,
             "#46039f"
            ],
            [
             0.2222222222,
             "#7201a8"
            ],
            [
             0.3333333333,
             "#9c179e"
            ],
            [
             0.4444444444,
             "#bd3786"
            ],
            [
             0.5555555556,
             "#d8576b"
            ],
            [
             0.6666666667,
             "#ed7953"
            ],
            [
             0.7777777778,
             "#fb9f3a"
            ],
            [
             0.8888888889,
             "#fdca26"
            ],
            [
             1,
             "#f0f921"
            ]
           ]
          },
          "colorway": [
           "#636efa",
           "#EF553B",
           "#00cc96",
           "#ab63fa",
           "#FFA15A",
           "#19d3f3",
           "#FF6692",
           "#B6E880",
           "#FF97FF",
           "#FECB52"
          ],
          "font": {
           "color": "#2a3f5f"
          },
          "geo": {
           "bgcolor": "white",
           "lakecolor": "white",
           "landcolor": "#E5ECF6",
           "showlakes": true,
           "showland": true,
           "subunitcolor": "white"
          },
          "hoverlabel": {
           "align": "left"
          },
          "hovermode": "closest",
          "mapbox": {
           "style": "light"
          },
          "paper_bgcolor": "white",
          "plot_bgcolor": "#E5ECF6",
          "polar": {
           "angularaxis": {
            "gridcolor": "white",
            "linecolor": "white",
            "ticks": ""
           },
           "bgcolor": "#E5ECF6",
           "radialaxis": {
            "gridcolor": "white",
            "linecolor": "white",
            "ticks": ""
           }
          },
          "scene": {
           "xaxis": {
            "backgroundcolor": "#E5ECF6",
            "gridcolor": "white",
            "gridwidth": 2,
            "linecolor": "white",
            "showbackground": true,
            "ticks": "",
            "zerolinecolor": "white"
           },
           "yaxis": {
            "backgroundcolor": "#E5ECF6",
            "gridcolor": "white",
            "gridwidth": 2,
            "linecolor": "white",
            "showbackground": true,
            "ticks": "",
            "zerolinecolor": "white"
           },
           "zaxis": {
            "backgroundcolor": "#E5ECF6",
            "gridcolor": "white",
            "gridwidth": 2,
            "linecolor": "white",
            "showbackground": true,
            "ticks": "",
            "zerolinecolor": "white"
           }
          },
          "shapedefaults": {
           "line": {
            "color": "#2a3f5f"
           }
          },
          "ternary": {
           "aaxis": {
            "gridcolor": "white",
            "linecolor": "white",
            "ticks": ""
           },
           "baxis": {
            "gridcolor": "white",
            "linecolor": "white",
            "ticks": ""
           },
           "bgcolor": "#E5ECF6",
           "caxis": {
            "gridcolor": "white",
            "linecolor": "white",
            "ticks": ""
           }
          },
          "title": {
           "x": 0.05
          },
          "xaxis": {
           "automargin": true,
           "gridcolor": "white",
           "linecolor": "white",
           "ticks": "",
           "zerolinecolor": "white",
           "zerolinewidth": 2
          },
          "yaxis": {
           "automargin": true,
           "gridcolor": "white",
           "linecolor": "white",
           "ticks": "",
           "zerolinecolor": "white",
           "zerolinewidth": 2
          }
         }
        },
        "title": {
         "text": "Какай процент пользователей переходит на следующий шаг"
        }
       }
      },
      "text/html": [
       "<div>\n",
       "        \n",
       "        \n",
       "            <div id=\"455448ba-f454-4b53-9c99-c8e3bea09ff4\" class=\"plotly-graph-div\" style=\"height:525px; width:100%;\"></div>\n",
       "            <script type=\"text/javascript\">\n",
       "                require([\"plotly\"], function(Plotly) {\n",
       "                    window.PLOTLYENV=window.PLOTLYENV || {};\n",
       "                    \n",
       "                if (document.getElementById(\"455448ba-f454-4b53-9c99-c8e3bea09ff4\")) {\n",
       "                    Plotly.newPlot(\n",
       "                        '455448ba-f454-4b53-9c99-c8e3bea09ff4',\n",
       "                        [{\"textinfo\": \"value+percent previous\", \"type\": \"funnel\", \"x\": [7419, 4593, 3734, 3539], \"y\": [\"MainScreenAppear\", \"OffersScreenAppear\", \"CartScreenAppear\", \"PaymentScreenSuccessful\"]}],\n",
       "                        {\"template\": {\"data\": {\"bar\": [{\"error_x\": {\"color\": \"#2a3f5f\"}, \"error_y\": {\"color\": \"#2a3f5f\"}, \"marker\": {\"line\": {\"color\": \"#E5ECF6\", \"width\": 0.5}}, \"type\": \"bar\"}], \"barpolar\": [{\"marker\": {\"line\": {\"color\": \"#E5ECF6\", \"width\": 0.5}}, \"type\": \"barpolar\"}], \"carpet\": [{\"aaxis\": {\"endlinecolor\": \"#2a3f5f\", \"gridcolor\": \"white\", \"linecolor\": \"white\", \"minorgridcolor\": \"white\", \"startlinecolor\": \"#2a3f5f\"}, \"baxis\": {\"endlinecolor\": \"#2a3f5f\", \"gridcolor\": \"white\", \"linecolor\": \"white\", \"minorgridcolor\": \"white\", \"startlinecolor\": \"#2a3f5f\"}, \"type\": \"carpet\"}], \"choropleth\": [{\"colorbar\": {\"outlinewidth\": 0, \"ticks\": \"\"}, \"type\": \"choropleth\"}], \"contour\": [{\"colorbar\": {\"outlinewidth\": 0, \"ticks\": \"\"}, \"colorscale\": [[0.0, \"#0d0887\"], [0.1111111111111111, \"#46039f\"], [0.2222222222222222, \"#7201a8\"], [0.3333333333333333, \"#9c179e\"], [0.4444444444444444, \"#bd3786\"], [0.5555555555555556, \"#d8576b\"], [0.6666666666666666, \"#ed7953\"], [0.7777777777777778, \"#fb9f3a\"], [0.8888888888888888, \"#fdca26\"], [1.0, \"#f0f921\"]], \"type\": \"contour\"}], \"contourcarpet\": [{\"colorbar\": {\"outlinewidth\": 0, \"ticks\": \"\"}, \"type\": \"contourcarpet\"}], \"heatmap\": [{\"colorbar\": {\"outlinewidth\": 0, \"ticks\": \"\"}, \"colorscale\": [[0.0, \"#0d0887\"], [0.1111111111111111, \"#46039f\"], [0.2222222222222222, \"#7201a8\"], [0.3333333333333333, \"#9c179e\"], [0.4444444444444444, \"#bd3786\"], [0.5555555555555556, \"#d8576b\"], [0.6666666666666666, \"#ed7953\"], [0.7777777777777778, \"#fb9f3a\"], [0.8888888888888888, \"#fdca26\"], [1.0, \"#f0f921\"]], \"type\": \"heatmap\"}], \"heatmapgl\": [{\"colorbar\": {\"outlinewidth\": 0, \"ticks\": \"\"}, \"colorscale\": [[0.0, \"#0d0887\"], [0.1111111111111111, \"#46039f\"], [0.2222222222222222, \"#7201a8\"], [0.3333333333333333, \"#9c179e\"], [0.4444444444444444, \"#bd3786\"], [0.5555555555555556, \"#d8576b\"], [0.6666666666666666, \"#ed7953\"], [0.7777777777777778, \"#fb9f3a\"], [0.8888888888888888, \"#fdca26\"], [1.0, \"#f0f921\"]], \"type\": \"heatmapgl\"}], \"histogram\": [{\"marker\": {\"colorbar\": {\"outlinewidth\": 0, \"ticks\": \"\"}}, \"type\": \"histogram\"}], \"histogram2d\": [{\"colorbar\": {\"outlinewidth\": 0, \"ticks\": \"\"}, \"colorscale\": [[0.0, \"#0d0887\"], [0.1111111111111111, \"#46039f\"], [0.2222222222222222, \"#7201a8\"], [0.3333333333333333, \"#9c179e\"], [0.4444444444444444, \"#bd3786\"], [0.5555555555555556, \"#d8576b\"], [0.6666666666666666, \"#ed7953\"], [0.7777777777777778, \"#fb9f3a\"], [0.8888888888888888, \"#fdca26\"], [1.0, \"#f0f921\"]], \"type\": \"histogram2d\"}], \"histogram2dcontour\": [{\"colorbar\": {\"outlinewidth\": 0, \"ticks\": \"\"}, \"colorscale\": [[0.0, \"#0d0887\"], [0.1111111111111111, \"#46039f\"], [0.2222222222222222, \"#7201a8\"], [0.3333333333333333, \"#9c179e\"], [0.4444444444444444, \"#bd3786\"], [0.5555555555555556, \"#d8576b\"], [0.6666666666666666, \"#ed7953\"], [0.7777777777777778, \"#fb9f3a\"], [0.8888888888888888, \"#fdca26\"], [1.0, \"#f0f921\"]], \"type\": \"histogram2dcontour\"}], \"mesh3d\": [{\"colorbar\": {\"outlinewidth\": 0, \"ticks\": \"\"}, \"type\": \"mesh3d\"}], \"parcoords\": [{\"line\": {\"colorbar\": {\"outlinewidth\": 0, \"ticks\": \"\"}}, \"type\": \"parcoords\"}], \"scatter\": [{\"marker\": {\"colorbar\": {\"outlinewidth\": 0, \"ticks\": \"\"}}, \"type\": \"scatter\"}], \"scatter3d\": [{\"line\": {\"colorbar\": {\"outlinewidth\": 0, \"ticks\": \"\"}}, \"marker\": {\"colorbar\": {\"outlinewidth\": 0, \"ticks\": \"\"}}, \"type\": \"scatter3d\"}], \"scattercarpet\": [{\"marker\": {\"colorbar\": {\"outlinewidth\": 0, \"ticks\": \"\"}}, \"type\": \"scattercarpet\"}], \"scattergeo\": [{\"marker\": {\"colorbar\": {\"outlinewidth\": 0, \"ticks\": \"\"}}, \"type\": \"scattergeo\"}], \"scattergl\": [{\"marker\": {\"colorbar\": {\"outlinewidth\": 0, \"ticks\": \"\"}}, \"type\": \"scattergl\"}], \"scattermapbox\": [{\"marker\": {\"colorbar\": {\"outlinewidth\": 0, \"ticks\": \"\"}}, \"type\": \"scattermapbox\"}], \"scatterpolar\": [{\"marker\": {\"colorbar\": {\"outlinewidth\": 0, \"ticks\": \"\"}}, \"type\": \"scatterpolar\"}], \"scatterpolargl\": [{\"marker\": {\"colorbar\": {\"outlinewidth\": 0, \"ticks\": \"\"}}, \"type\": \"scatterpolargl\"}], \"scatterternary\": [{\"marker\": {\"colorbar\": {\"outlinewidth\": 0, \"ticks\": \"\"}}, \"type\": \"scatterternary\"}], \"surface\": [{\"colorbar\": {\"outlinewidth\": 0, \"ticks\": \"\"}, \"colorscale\": [[0.0, \"#0d0887\"], [0.1111111111111111, \"#46039f\"], [0.2222222222222222, \"#7201a8\"], [0.3333333333333333, \"#9c179e\"], [0.4444444444444444, \"#bd3786\"], [0.5555555555555556, \"#d8576b\"], [0.6666666666666666, \"#ed7953\"], [0.7777777777777778, \"#fb9f3a\"], [0.8888888888888888, \"#fdca26\"], [1.0, \"#f0f921\"]], \"type\": \"surface\"}], \"table\": [{\"cells\": {\"fill\": {\"color\": \"#EBF0F8\"}, \"line\": {\"color\": \"white\"}}, \"header\": {\"fill\": {\"color\": \"#C8D4E3\"}, \"line\": {\"color\": \"white\"}}, \"type\": \"table\"}]}, \"layout\": {\"annotationdefaults\": {\"arrowcolor\": \"#2a3f5f\", \"arrowhead\": 0, \"arrowwidth\": 1}, \"colorscale\": {\"diverging\": [[0, \"#8e0152\"], [0.1, \"#c51b7d\"], [0.2, \"#de77ae\"], [0.3, \"#f1b6da\"], [0.4, \"#fde0ef\"], [0.5, \"#f7f7f7\"], [0.6, \"#e6f5d0\"], [0.7, \"#b8e186\"], [0.8, \"#7fbc41\"], [0.9, \"#4d9221\"], [1, \"#276419\"]], \"sequential\": [[0.0, \"#0d0887\"], [0.1111111111111111, \"#46039f\"], [0.2222222222222222, \"#7201a8\"], [0.3333333333333333, \"#9c179e\"], [0.4444444444444444, \"#bd3786\"], [0.5555555555555556, \"#d8576b\"], [0.6666666666666666, \"#ed7953\"], [0.7777777777777778, \"#fb9f3a\"], [0.8888888888888888, \"#fdca26\"], [1.0, \"#f0f921\"]], \"sequentialminus\": [[0.0, \"#0d0887\"], [0.1111111111111111, \"#46039f\"], [0.2222222222222222, \"#7201a8\"], [0.3333333333333333, \"#9c179e\"], [0.4444444444444444, \"#bd3786\"], [0.5555555555555556, \"#d8576b\"], [0.6666666666666666, \"#ed7953\"], [0.7777777777777778, \"#fb9f3a\"], [0.8888888888888888, \"#fdca26\"], [1.0, \"#f0f921\"]]}, \"colorway\": [\"#636efa\", \"#EF553B\", \"#00cc96\", \"#ab63fa\", \"#FFA15A\", \"#19d3f3\", \"#FF6692\", \"#B6E880\", \"#FF97FF\", \"#FECB52\"], \"font\": {\"color\": \"#2a3f5f\"}, \"geo\": {\"bgcolor\": \"white\", \"lakecolor\": \"white\", \"landcolor\": \"#E5ECF6\", \"showlakes\": true, \"showland\": true, \"subunitcolor\": \"white\"}, \"hoverlabel\": {\"align\": \"left\"}, \"hovermode\": \"closest\", \"mapbox\": {\"style\": \"light\"}, \"paper_bgcolor\": \"white\", \"plot_bgcolor\": \"#E5ECF6\", \"polar\": {\"angularaxis\": {\"gridcolor\": \"white\", \"linecolor\": \"white\", \"ticks\": \"\"}, \"bgcolor\": \"#E5ECF6\", \"radialaxis\": {\"gridcolor\": \"white\", \"linecolor\": \"white\", \"ticks\": \"\"}}, \"scene\": {\"xaxis\": {\"backgroundcolor\": \"#E5ECF6\", \"gridcolor\": \"white\", \"gridwidth\": 2, \"linecolor\": \"white\", \"showbackground\": true, \"ticks\": \"\", \"zerolinecolor\": \"white\"}, \"yaxis\": {\"backgroundcolor\": \"#E5ECF6\", \"gridcolor\": \"white\", \"gridwidth\": 2, \"linecolor\": \"white\", \"showbackground\": true, \"ticks\": \"\", \"zerolinecolor\": \"white\"}, \"zaxis\": {\"backgroundcolor\": \"#E5ECF6\", \"gridcolor\": \"white\", \"gridwidth\": 2, \"linecolor\": \"white\", \"showbackground\": true, \"ticks\": \"\", \"zerolinecolor\": \"white\"}}, \"shapedefaults\": {\"line\": {\"color\": \"#2a3f5f\"}}, \"ternary\": {\"aaxis\": {\"gridcolor\": \"white\", \"linecolor\": \"white\", \"ticks\": \"\"}, \"baxis\": {\"gridcolor\": \"white\", \"linecolor\": \"white\", \"ticks\": \"\"}, \"bgcolor\": \"#E5ECF6\", \"caxis\": {\"gridcolor\": \"white\", \"linecolor\": \"white\", \"ticks\": \"\"}}, \"title\": {\"x\": 0.05}, \"xaxis\": {\"automargin\": true, \"gridcolor\": \"white\", \"linecolor\": \"white\", \"ticks\": \"\", \"zerolinecolor\": \"white\", \"zerolinewidth\": 2}, \"yaxis\": {\"automargin\": true, \"gridcolor\": \"white\", \"linecolor\": \"white\", \"ticks\": \"\", \"zerolinecolor\": \"white\", \"zerolinewidth\": 2}}}, \"title\": {\"text\": \"\\u041a\\u0430\\u043a\\u0430\\u0439 \\u043f\\u0440\\u043e\\u0446\\u0435\\u043d\\u0442 \\u043f\\u043e\\u043b\\u044c\\u0437\\u043e\\u0432\\u0430\\u0442\\u0435\\u043b\\u0435\\u0439 \\u043f\\u0435\\u0440\\u0435\\u0445\\u043e\\u0434\\u0438\\u0442 \\u043d\\u0430 \\u0441\\u043b\\u0435\\u0434\\u0443\\u044e\\u0449\\u0438\\u0439 \\u0448\\u0430\\u0433\"}},\n",
       "                        {\"responsive\": true}\n",
       "                    ).then(function(){\n",
       "                            \n",
       "var gd = document.getElementById('455448ba-f454-4b53-9c99-c8e3bea09ff4');\n",
       "var x = new MutationObserver(function (mutations, observer) {{\n",
       "        var display = window.getComputedStyle(gd).display;\n",
       "        if (!display || display === 'none') {{\n",
       "            console.log([gd, 'removed!']);\n",
       "            Plotly.purge(gd);\n",
       "            observer.disconnect();\n",
       "        }}\n",
       "}});\n",
       "\n",
       "// Listen for the removal of the full notebook cells\n",
       "var notebookContainer = gd.closest('#notebook-container');\n",
       "if (notebookContainer) {{\n",
       "    x.observe(notebookContainer, {childList: true});\n",
       "}}\n",
       "\n",
       "// Listen for the clearing of the current output cell\n",
       "var outputEl = gd.closest('.output');\n",
       "if (outputEl) {{\n",
       "    x.observe(outputEl, {childList: true});\n",
       "}}\n",
       "\n",
       "                        })\n",
       "                };\n",
       "                });\n",
       "            </script>\n",
       "        </div>"
      ]
     },
     "metadata": {},
     "output_type": "display_data"
    }
   ],
   "source": [
    "\n",
    "import plotly.express as px\n",
    "from plotly import graph_objects as go\n",
    "fig = go.Figure(data=[go.Funnel(y=events['event'], x=events['id'], textinfo = \"value +percent previous\")])\n",
    "fig.update_layout(title_text='Какай процент пользователей переходит на следующий шаг')\n",
    "fig.show()\n"
   ]
  },
  {
   "cell_type": "markdown",
   "metadata": {},
   "source": [
    "Можно сказать, что больше всего пользователей теряется с переходом от главной страницы к странице заказов(38%). Однако, при этом стоит отметить, что почти половина пользователей(47.0%) посетивших главную страницу, переходят на страницу оплаты. Я считаю, что это хороший показатель. Также видно, что почти все пользователей (94.8%) посетившие страницу с карзиной, завершили покупку. "
   ]
  },
  {
   "cell_type": "code",
   "execution_count": 123,
   "metadata": {},
   "outputs": [
    {
     "data": {
      "text/plain": [
       "47.7"
      ]
     },
     "execution_count": 123,
     "metadata": {},
     "output_type": "execute_result"
    }
   ],
   "source": [
    "buy_percent = (events.loc[3, 'id'] / events.loc[0, 'id'] * 100).round(1)\n",
    "buy_percent"
   ]
  },
  {
   "cell_type": "code",
   "execution_count": null,
   "metadata": {},
   "outputs": [],
   "source": []
  },
  {
   "cell_type": "markdown",
   "metadata": {},
   "source": [
    "А от первого шага до последнего доходит почти 48 процентов пользователей."
   ]
  },
  {
   "cell_type": "code",
   "execution_count": null,
   "metadata": {},
   "outputs": [],
   "source": [
    "Можно сказать, что "
   ]
  },
  {
   "cell_type": "markdown",
   "metadata": {},
   "source": [
    "<div style=\"border:solid red 2px; padding: 20px\"> \n",
    "    \n",
    "**Комментарий ревьюера**\n",
    "\n",
    "Воронака рассчитана правильно, ее надо визуализировать. В принципе достаточно и обычной столбчатой диаграммы. Но есть и специальный инструмент Funnel библиотеки plotly.\n",
    "    \n",
    "Также нудо более подробно описать полученные проценты. Потеря пользователей большая или допустимая? Каковы могут быть причины таких потерь? Как их уменьшить?\n",
    "    \n",
    "</div>"
   ]
  },
  {
   "cell_type": "markdown",
   "metadata": {},
   "source": [
    "<div style=\"border:solid green 2px; padding: 20px\"> \n",
    "    \n",
    "**Комментарий ревьюера - 2**\n",
    "\n",
    "Да, теперь все верно.\n",
    "    \n",
    "</div>"
   ]
  },
  {
   "cell_type": "markdown",
   "metadata": {},
   "source": [
    "## Изучение результатов эксперимента"
   ]
  },
  {
   "cell_type": "markdown",
   "metadata": {},
   "source": [
    "### Сколько пользователей в каждой экспериментальной группе?"
   ]
  },
  {
   "cell_type": "code",
   "execution_count": 68,
   "metadata": {},
   "outputs": [
    {
     "data": {
      "text/html": [
       "<div>\n",
       "<style scoped>\n",
       "    .dataframe tbody tr th:only-of-type {\n",
       "        vertical-align: middle;\n",
       "    }\n",
       "\n",
       "    .dataframe tbody tr th {\n",
       "        vertical-align: top;\n",
       "    }\n",
       "\n",
       "    .dataframe thead th {\n",
       "        text-align: right;\n",
       "    }\n",
       "</style>\n",
       "<table border=\"1\" class=\"dataframe\">\n",
       "  <thead>\n",
       "    <tr style=\"text-align: right;\">\n",
       "      <th></th>\n",
       "      <th>group</th>\n",
       "      <th>id</th>\n",
       "    </tr>\n",
       "  </thead>\n",
       "  <tbody>\n",
       "    <tr>\n",
       "      <td>0</td>\n",
       "      <td>A</td>\n",
       "      <td>2484</td>\n",
       "    </tr>\n",
       "    <tr>\n",
       "      <td>1</td>\n",
       "      <td>A2</td>\n",
       "      <td>2513</td>\n",
       "    </tr>\n",
       "    <tr>\n",
       "      <td>2</td>\n",
       "      <td>B</td>\n",
       "      <td>2537</td>\n",
       "    </tr>\n",
       "  </tbody>\n",
       "</table>\n",
       "</div>"
      ],
      "text/plain": [
       "  group    id\n",
       "0     A  2484\n",
       "1    A2  2513\n",
       "2     B  2537"
      ]
     },
     "execution_count": 68,
     "metadata": {},
     "output_type": "execute_result"
    }
   ],
   "source": [
    "groups = df_new.groupby('group')['id'].nunique().sort_values(ascending=True).reset_index()\n",
    "groups"
   ]
  },
  {
   "cell_type": "markdown",
   "metadata": {},
   "source": [
    "<div style=\"border:solid gold 2px; padding: 20px\"> \n",
    "    \n",
    "**Комментарий ревьюера**\n",
    "\n",
    "Здесь мало просто вывести количество пользователей в группе. Надо посмотреть насколько они отличаются (%). Также можно проверить гипотезу, посмотреть есть ли статистически значимая разница между группами\n",
    "    \n",
    "</div>"
   ]
  },
  {
   "cell_type": "markdown",
   "metadata": {},
   "source": [
    "### Проверьте, находят ли статистические критерии разницу между выборками A и A2.\n"
   ]
  },
  {
   "cell_type": "code",
   "execution_count": 69,
   "metadata": {},
   "outputs": [
    {
     "data": {
      "text/html": [
       "<div>\n",
       "<style scoped>\n",
       "    .dataframe tbody tr th:only-of-type {\n",
       "        vertical-align: middle;\n",
       "    }\n",
       "\n",
       "    .dataframe tbody tr th {\n",
       "        vertical-align: top;\n",
       "    }\n",
       "\n",
       "    .dataframe thead th {\n",
       "        text-align: right;\n",
       "    }\n",
       "</style>\n",
       "<table border=\"1\" class=\"dataframe\">\n",
       "  <thead>\n",
       "    <tr style=\"text-align: right;\">\n",
       "      <th>group</th>\n",
       "      <th>event</th>\n",
       "      <th>A</th>\n",
       "      <th>A2</th>\n",
       "      <th>B</th>\n",
       "    </tr>\n",
       "  </thead>\n",
       "  <tbody>\n",
       "    <tr>\n",
       "      <td>1</td>\n",
       "      <td>MainScreenAppear</td>\n",
       "      <td>2450</td>\n",
       "      <td>2476</td>\n",
       "      <td>2493</td>\n",
       "    </tr>\n",
       "    <tr>\n",
       "      <td>2</td>\n",
       "      <td>OffersScreenAppear</td>\n",
       "      <td>1542</td>\n",
       "      <td>1520</td>\n",
       "      <td>1531</td>\n",
       "    </tr>\n",
       "    <tr>\n",
       "      <td>0</td>\n",
       "      <td>CartScreenAppear</td>\n",
       "      <td>1266</td>\n",
       "      <td>1238</td>\n",
       "      <td>1230</td>\n",
       "    </tr>\n",
       "    <tr>\n",
       "      <td>3</td>\n",
       "      <td>PaymentScreenSuccessful</td>\n",
       "      <td>1200</td>\n",
       "      <td>1158</td>\n",
       "      <td>1181</td>\n",
       "    </tr>\n",
       "    <tr>\n",
       "      <td>4</td>\n",
       "      <td>Tutorial</td>\n",
       "      <td>278</td>\n",
       "      <td>283</td>\n",
       "      <td>279</td>\n",
       "    </tr>\n",
       "  </tbody>\n",
       "</table>\n",
       "</div>"
      ],
      "text/plain": [
       "group                    event     A    A2     B\n",
       "1             MainScreenAppear  2450  2476  2493\n",
       "2           OffersScreenAppear  1542  1520  1531\n",
       "0             CartScreenAppear  1266  1238  1230\n",
       "3      PaymentScreenSuccessful  1200  1158  1181\n",
       "4                     Tutorial   278   283   279"
      ]
     },
     "execution_count": 69,
     "metadata": {},
     "output_type": "execute_result"
    }
   ],
   "source": [
    "# нахожу частоту событий для каждой группы\n",
    "events_by_groups = df_new.pivot_table(index = 'event', columns='group', values='id', aggfunc='nunique').reset_index().sort_values(by = 'A', ascending = False)\n",
    "events_by_groups"
   ]
  },
  {
   "cell_type": "markdown",
   "metadata": {},
   "source": [
    "Формулирую две гипотезы: \n",
    "* Нулевая:  между группами есть статистичекая разница.\n",
    "* Альтернативная: между группами нет статистической разницы."
   ]
  },
  {
   "cell_type": "code",
   "execution_count": 70,
   "metadata": {},
   "outputs": [],
   "source": [
    "def Ztest (group_1_MainScreen, group_2_MainScreen, \n",
    "           group_1_OffersScreen, group_2_OffersScreen,\n",
    "           group_1_CartScreen, group_2_CartScreen,\n",
    "           group_1_PaymentScreen, group_2_PaymentScreen,\n",
    "           group_1_Tutorial, group_2_Tutorial,\n",
    "           group_1_users, group_2_users):\n",
    "    \n",
    "    # критический уровень статистической значимости\n",
    "    alpha = .05\n",
    "    \n",
    "    main = np.array([group_1_MainScreen, group_2_MainScreen])\n",
    "    offer = np.array([group_1_OffersScreen, group_2_OffersScreen])\n",
    "    basket = np.array([group_1_CartScreen, group_2_CartScreen])\n",
    "    pay = np.array([group_1_PaymentScreen, group_2_PaymentScreen])\n",
    "    tutorial = np.array([group_1_Tutorial, group_2_Tutorial])\n",
    "    total_users = np.array([group_1_users, group_2_users])\n",
    "    \n",
    "    # расчитаваю процент успеха в каждой из групп\n",
    "    p1_main = main[0]/total_users[0]\n",
    "    p2_main = main[1]/total_users[1]\n",
    "    \n",
    "    p1_offer = offer[0]/total_users[0]\n",
    "    p2_offer = offer[1]/total_users[1]\n",
    "    \n",
    "    p1_basket = basket[0]/total_users[0]\n",
    "    p2_basket = basket[1]/total_users[1]\n",
    "    \n",
    "    p1_pay = pay[0]/total_users[0]\n",
    "    p2_pay = pay[1]/total_users[1]\n",
    "    \n",
    "    p1_tutorial = tutorial[0]/total_users[0]\n",
    "    p2_tutorial = tutorial[1]/total_users[1]\n",
    "    \n",
    "    # пропорция успехов в комбинированном датасете:\n",
    "    p_combined_main = (main[0] + main[1]) / (total_users[0] + total_users[1])\n",
    "    p_combined_offer = (offer[0] + offer[1]) / (total_users[0] + total_users[1])\n",
    "    p_combined_basket = (basket[0] + basket[1]) / (total_users[0] + total_users[1])\n",
    "    p_combined_pay = (pay[0] + pay[1]) / (total_users[0] + total_users[1])\n",
    "    p_combined_tutorial = (tutorial[0] + tutorial[1]) / (total_users[0] + total_users[1])\n",
    "    \n",
    "    \n",
    "    # расчитаваю разницу долей успеха в каждой из групп\n",
    "    difference_main = p1_main - p2_main\n",
    "    difference_offer = p1_offer - p2_offer\n",
    "    difference_basket = p1_basket - p2_basket\n",
    "    difference_pay = p1_pay - p2_pay\n",
    "    difference_tutorial = p1_tutorial - p2_tutorial\n",
    "    \n",
    "    # считаю статистику в ст.отклонениях стандартного нормального распределения\n",
    "    z_value_main = difference_main / mth.sqrt(p_combined_main * (1 - p_combined_main) * (1/total_users[0] + 1/total_users[1]))\n",
    "    z_value_offer = difference_offer / mth.sqrt(p_combined_offer * (1 - p_combined_offer) * (1/total_users[0] + 1/total_users[1]))\n",
    "    z_value_basket = difference_basket / mth.sqrt(p_combined_basket * (1 - p_combined_basket) * (1/total_users[0] + 1/total_users[1]))\n",
    "    z_value_pay = difference_pay / mth.sqrt(p_combined_pay * (1 - p_combined_pay) * (1/total_users[0] + 1/total_users[1]))\n",
    "    z_value_tutorial = difference_tutorial / mth.sqrt(p_combined_tutorial * (1 - p_combined_tutorial) * (1/total_users[0] + 1/total_users[1]))\n",
    "\n",
    "    # задаю стандартное нормальное распределение (среднее 0, ст.отклонение 1)    \n",
    "    distr = st.norm(0, 1)\n",
    "    \n",
    "    \n",
    "    # рассчитываю p-value\n",
    "    p_value_main = (1 - distr.cdf(abs(z_value_main))) * 2\n",
    "    p_value_offer = (1 - distr.cdf(abs(z_value_offer))) * 2\n",
    "    p_value_basket = (1 - distr.cdf(abs(z_value_basket))) * 2\n",
    "    p_value_pay = (1 - distr.cdf(abs(z_value_pay))) * 2\n",
    "    p_value_tutorial = (1 - distr.cdf(abs(z_value_tutorial))) * 2\n",
    "    \n",
    "    print('p-значение MainScreenAppear: ', p_value_main)\n",
    "    if (p_value_main < alpha):\n",
    "        print(\"Отвергаем нулевую гипотезу. Между группами есть статистическая разница.\")\n",
    "    else:\n",
    "        print(\"Не получилось отвергнуть нулевую гипотезу. Между группами нет статистической разницы.\")\n",
    "              \n",
    "              \n",
    "    print('p-значение OffersScreenAppear: ', p_value_offer)\n",
    "    if (p_value_offer < alpha):\n",
    "        print(\"Отвергаем нулевую гипотезу. Между группами есть статистическая разница.\")\n",
    "    else:\n",
    "        print(\"Не получилось отвергнуть нулевую гипотезу. Между группами нет статистической разницы.\")\n",
    "        \n",
    "              \n",
    "    print('p-значение CartScreenAppear: ', p_value_basket)\n",
    "    if (p_value_basket < alpha):\n",
    "        print(\"Отвергаем нулевую гипотезу. Между группами есть статистическая разница.\")\n",
    "    else:\n",
    "        print(\"Не получилось отвергнуть нулевую гипотезу. Между группами нет статистической разницы.\")\n",
    "        \n",
    "              \n",
    "    print('p-значение PaymentScreenSuccessful: ', p_value_pay)\n",
    "    if (p_value_pay < alpha):\n",
    "        print(\"Отвергаем нулевую гипотезу. Между группами есть статистическая разница.\")\n",
    "    else:\n",
    "        print(\"Не получилось отвергнуть нулевую гипотезу. Между группами нет статистической разницы.\")\n",
    "    \n",
    "    print('p-значение Tutorial: ', p_value_tutorial)\n",
    "    if (p_value_tutorial < alpha):\n",
    "        print(\"Отвергаем нулевую гипотезу. Между группами есть статистическая разница.\")\n",
    "    else:\n",
    "        print(\"Не получилось отвергнуть нулевую гипотезу. Между группами нет статистической разницы.\")\n",
    "    \n",
    "        "
   ]
  },
  {
   "cell_type": "markdown",
   "metadata": {},
   "source": [
    "<div style=\"border:solid gold 2px; padding: 20px\"> \n",
    "    \n",
    "**Комментарий ревьюера**\n",
    "\n",
    "Математически все верно. Но вообще надо было написать компактную функцию для рассчета, а потом в цикле пройтись по всем событиям.\n",
    "    \n",
    "</div>"
   ]
  },
  {
   "cell_type": "code",
   "execution_count": 71,
   "metadata": {},
   "outputs": [
    {
     "name": "stdout",
     "output_type": "stream",
     "text": [
      "p-значение MainScreenAppear:  0.7570597232046099\n",
      "Не получилось отвергнуть нулевую гипотезу. Между группами нет статистической разницы.\n",
      "p-значение OffersScreenAppear:  0.2480954578522181\n",
      "Не получилось отвергнуть нулевую гипотезу. Между группами нет статистической разницы.\n",
      "p-значение CartScreenAppear:  0.22883372237997213\n",
      "Не получилось отвергнуть нулевую гипотезу. Между группами нет статистической разницы.\n",
      "p-значение PaymentScreenSuccessful:  0.11456679313141849\n",
      "Не получилось отвергнуть нулевую гипотезу. Между группами нет статистической разницы.\n",
      "p-значение Tutorial:  0.9376996189257114\n",
      "Не получилось отвергнуть нулевую гипотезу. Между группами нет статистической разницы.\n"
     ]
    }
   ],
   "source": [
    "\n",
    "Ztest_A_A2 = Ztest(events_by_groups.loc[1, 'A'], events_by_groups.loc[1, 'A2'],\n",
    "                          events_by_groups.loc[2, 'A'], events_by_groups.loc[2, 'A2'],\n",
    "                          events_by_groups.loc[0, 'A'], events_by_groups.loc[0, 'A2'],\n",
    "                          events_by_groups.loc[3, 'A'], events_by_groups.loc[3, 'A2'],\n",
    "                          events_by_groups.loc[4, 'A'], events_by_groups.loc[4, 'A2'],\n",
    "                          groups.loc[0, 'id'], groups.loc[1, 'id'])"
   ]
  },
  {
   "cell_type": "markdown",
   "metadata": {},
   "source": [
    "### Можно ли сказать, что разбиение на группы работает корректно?"
   ]
  },
  {
   "cell_type": "markdown",
   "metadata": {},
   "source": [
    "Так как нет статистической разницы ни по одному из действий пользователей между группами A и A2, то можно сказать, что разбитие на группы работает корректно."
   ]
  },
  {
   "cell_type": "markdown",
   "metadata": {},
   "source": [
    "### Проверка гипотез между группами A и B"
   ]
  },
  {
   "cell_type": "code",
   "execution_count": 72,
   "metadata": {},
   "outputs": [
    {
     "name": "stdout",
     "output_type": "stream",
     "text": [
      "p-значение MainScreenAppear:  0.2949721933554552\n",
      "Не получилось отвергнуть нулевую гипотезу. Между группами нет статистической разницы.\n",
      "p-значение OffersScreenAppear:  0.20836205402738917\n",
      "Не получилось отвергнуть нулевую гипотезу. Между группами нет статистической разницы.\n",
      "p-значение CartScreenAppear:  0.07842923237520116\n",
      "Не получилось отвергнуть нулевую гипотезу. Между группами нет статистической разницы.\n",
      "p-значение PaymentScreenSuccessful:  0.2122553275697796\n",
      "Не получилось отвергнуть нулевую гипотезу. Между группами нет статистической разницы.\n",
      "p-значение Tutorial:  0.8264294010087645\n",
      "Не получилось отвергнуть нулевую гипотезу. Между группами нет статистической разницы.\n"
     ]
    }
   ],
   "source": [
    "Ztest_A_B = Ztest(events_by_groups.loc[1, 'A'], events_by_groups.loc[1, 'B'],\n",
    "                          events_by_groups.loc[2, 'A'], events_by_groups.loc[2, 'B'],\n",
    "                          events_by_groups.loc[0, 'A'], events_by_groups.loc[0, 'B'],\n",
    "                          events_by_groups.loc[3, 'A'], events_by_groups.loc[3, 'B'],\n",
    "                          events_by_groups.loc[4, 'A'], events_by_groups.loc[4, 'B'],\n",
    "                          groups.loc[0, 'id'], groups.loc[2, 'id'])"
   ]
  },
  {
   "cell_type": "markdown",
   "metadata": {},
   "source": [
    "### Проверка гипотез между группами A2 и B"
   ]
  },
  {
   "cell_type": "code",
   "execution_count": 73,
   "metadata": {},
   "outputs": [
    {
     "name": "stdout",
     "output_type": "stream",
     "text": [
      "p-значение MainScreenAppear:  0.4587053616621515\n",
      "Не получилось отвергнуть нулевую гипотезу. Между группами нет статистической разницы.\n",
      "p-значение OffersScreenAppear:  0.9197817830592261\n",
      "Не получилось отвергнуть нулевую гипотезу. Между группами нет статистической разницы.\n",
      "p-значение CartScreenAppear:  0.5786197879539783\n",
      "Не получилось отвергнуть нулевую гипотезу. Между группами нет статистической разницы.\n",
      "p-значение PaymentScreenSuccessful:  0.7373415053803964\n",
      "Не получилось отвергнуть нулевую гипотезу. Между группами нет статистической разницы.\n",
      "p-значение Tutorial:  0.765323922474501\n",
      "Не получилось отвергнуть нулевую гипотезу. Между группами нет статистической разницы.\n"
     ]
    }
   ],
   "source": [
    "Ztest_A2_B = Ztest(events_by_groups.loc[1, 'A2'], events_by_groups.loc[1, 'B'],\n",
    "                          events_by_groups.loc[2, 'A2'], events_by_groups.loc[2, 'B'],\n",
    "                          events_by_groups.loc[0, 'A2'], events_by_groups.loc[0, 'B'],\n",
    "                          events_by_groups.loc[3, 'A2'], events_by_groups.loc[3, 'B'],\n",
    "                          events_by_groups.loc[4, 'A2'], events_by_groups.loc[4, 'B'],\n",
    "                          groups.loc[1, 'id'], groups.loc[2, 'id'])"
   ]
  },
  {
   "cell_type": "markdown",
   "metadata": {},
   "source": [
    "### Проверка гипотез между группами объединёнными группами A и A2 и B"
   ]
  },
  {
   "cell_type": "code",
   "execution_count": 74,
   "metadata": {},
   "outputs": [],
   "source": [
    "events_by_groups['A + A2'] = events_by_groups['A'] + events_by_groups['A2']"
   ]
  },
  {
   "cell_type": "code",
   "execution_count": 75,
   "metadata": {},
   "outputs": [
    {
     "data": {
      "text/html": [
       "<div>\n",
       "<style scoped>\n",
       "    .dataframe tbody tr th:only-of-type {\n",
       "        vertical-align: middle;\n",
       "    }\n",
       "\n",
       "    .dataframe tbody tr th {\n",
       "        vertical-align: top;\n",
       "    }\n",
       "\n",
       "    .dataframe thead th {\n",
       "        text-align: right;\n",
       "    }\n",
       "</style>\n",
       "<table border=\"1\" class=\"dataframe\">\n",
       "  <thead>\n",
       "    <tr style=\"text-align: right;\">\n",
       "      <th>group</th>\n",
       "      <th>event</th>\n",
       "      <th>A</th>\n",
       "      <th>A2</th>\n",
       "      <th>B</th>\n",
       "      <th>A + A2</th>\n",
       "    </tr>\n",
       "  </thead>\n",
       "  <tbody>\n",
       "    <tr>\n",
       "      <td>1</td>\n",
       "      <td>MainScreenAppear</td>\n",
       "      <td>2450</td>\n",
       "      <td>2476</td>\n",
       "      <td>2493</td>\n",
       "      <td>4926</td>\n",
       "    </tr>\n",
       "    <tr>\n",
       "      <td>2</td>\n",
       "      <td>OffersScreenAppear</td>\n",
       "      <td>1542</td>\n",
       "      <td>1520</td>\n",
       "      <td>1531</td>\n",
       "      <td>3062</td>\n",
       "    </tr>\n",
       "    <tr>\n",
       "      <td>0</td>\n",
       "      <td>CartScreenAppear</td>\n",
       "      <td>1266</td>\n",
       "      <td>1238</td>\n",
       "      <td>1230</td>\n",
       "      <td>2504</td>\n",
       "    </tr>\n",
       "    <tr>\n",
       "      <td>3</td>\n",
       "      <td>PaymentScreenSuccessful</td>\n",
       "      <td>1200</td>\n",
       "      <td>1158</td>\n",
       "      <td>1181</td>\n",
       "      <td>2358</td>\n",
       "    </tr>\n",
       "    <tr>\n",
       "      <td>4</td>\n",
       "      <td>Tutorial</td>\n",
       "      <td>278</td>\n",
       "      <td>283</td>\n",
       "      <td>279</td>\n",
       "      <td>561</td>\n",
       "    </tr>\n",
       "  </tbody>\n",
       "</table>\n",
       "</div>"
      ],
      "text/plain": [
       "group                    event     A    A2     B  A + A2\n",
       "1             MainScreenAppear  2450  2476  2493    4926\n",
       "2           OffersScreenAppear  1542  1520  1531    3062\n",
       "0             CartScreenAppear  1266  1238  1230    2504\n",
       "3      PaymentScreenSuccessful  1200  1158  1181    2358\n",
       "4                     Tutorial   278   283   279     561"
      ]
     },
     "execution_count": 75,
     "metadata": {},
     "output_type": "execute_result"
    }
   ],
   "source": [
    "events_by_groups"
   ]
  },
  {
   "cell_type": "code",
   "execution_count": 76,
   "metadata": {},
   "outputs": [],
   "source": [
    "groups.loc[3] = 'A+A2', 2513+2484"
   ]
  },
  {
   "cell_type": "code",
   "execution_count": 77,
   "metadata": {},
   "outputs": [
    {
     "data": {
      "text/html": [
       "<div>\n",
       "<style scoped>\n",
       "    .dataframe tbody tr th:only-of-type {\n",
       "        vertical-align: middle;\n",
       "    }\n",
       "\n",
       "    .dataframe tbody tr th {\n",
       "        vertical-align: top;\n",
       "    }\n",
       "\n",
       "    .dataframe thead th {\n",
       "        text-align: right;\n",
       "    }\n",
       "</style>\n",
       "<table border=\"1\" class=\"dataframe\">\n",
       "  <thead>\n",
       "    <tr style=\"text-align: right;\">\n",
       "      <th></th>\n",
       "      <th>group</th>\n",
       "      <th>id</th>\n",
       "    </tr>\n",
       "  </thead>\n",
       "  <tbody>\n",
       "    <tr>\n",
       "      <td>0</td>\n",
       "      <td>A</td>\n",
       "      <td>2484</td>\n",
       "    </tr>\n",
       "    <tr>\n",
       "      <td>1</td>\n",
       "      <td>A2</td>\n",
       "      <td>2513</td>\n",
       "    </tr>\n",
       "    <tr>\n",
       "      <td>2</td>\n",
       "      <td>B</td>\n",
       "      <td>2537</td>\n",
       "    </tr>\n",
       "    <tr>\n",
       "      <td>3</td>\n",
       "      <td>A+A2</td>\n",
       "      <td>4997</td>\n",
       "    </tr>\n",
       "  </tbody>\n",
       "</table>\n",
       "</div>"
      ],
      "text/plain": [
       "  group    id\n",
       "0     A  2484\n",
       "1    A2  2513\n",
       "2     B  2537\n",
       "3  A+A2  4997"
      ]
     },
     "execution_count": 77,
     "metadata": {},
     "output_type": "execute_result"
    }
   ],
   "source": [
    "groups"
   ]
  },
  {
   "cell_type": "code",
   "execution_count": 78,
   "metadata": {},
   "outputs": [
    {
     "name": "stdout",
     "output_type": "stream",
     "text": [
      "p-значение MainScreenAppear:  0.29424526837179577\n",
      "Не получилось отвергнуть нулевую гипотезу. Между группами нет статистической разницы.\n",
      "p-значение OffersScreenAppear:  0.43425549655188256\n",
      "Не получилось отвергнуть нулевую гипотезу. Между группами нет статистической разницы.\n",
      "p-значение CartScreenAppear:  0.18175875284404386\n",
      "Не получилось отвергнуть нулевую гипотезу. Между группами нет статистической разницы.\n",
      "p-значение PaymentScreenSuccessful:  0.6004294282308704\n",
      "Не получилось отвергнуть нулевую гипотезу. Между группами нет статистической разницы.\n",
      "p-значение Tutorial:  0.764862472531507\n",
      "Не получилось отвергнуть нулевую гипотезу. Между группами нет статистической разницы.\n"
     ]
    }
   ],
   "source": [
    "Ztest_A_A2_B = Ztest(events_by_groups.loc[1, 'A + A2'], events_by_groups.loc[1, 'B'],\n",
    "                          events_by_groups.loc[2, 'A + A2'], events_by_groups.loc[2, 'B'],\n",
    "                          events_by_groups.loc[0, 'A + A2'], events_by_groups.loc[0, 'B'],\n",
    "                          events_by_groups.loc[3, 'A + A2'], events_by_groups.loc[3, 'B'],\n",
    "                          events_by_groups.loc[4, 'A + A2'], events_by_groups.loc[4, 'B'],\n",
    "                          groups.loc[3, 'id'], groups.loc[2, 'id'])"
   ]
  },
  {
   "cell_type": "markdown",
   "metadata": {},
   "source": [
    "<div style=\"border:solid green 2px; padding: 20px\"> \n",
    "    \n",
    "**Комментарий ревьюера**\n",
    "\n",
    "Гипотезы проверены правильно.\n",
    "    \n",
    "</div>"
   ]
  },
  {
   "cell_type": "markdown",
   "metadata": {},
   "source": [
    "<div style=\"border:solid gold 2px; padding: 20px\"> \n",
    "    \n",
    "**Комментарий ревьюера**\n",
    "\n",
    "Здесь немного больше внимания стоило уделить выбору уровня значимости. Проверку можно сделать и для уровня 0.05, но вот текстом стоило отметить, что было бы, если бы мы взяли уровень 0.1 или 0.01. Также стоило на словах обосновать выбор уровня на 0.05.\n",
    "    \n",
    "    \n",
    "Также стоит обратить внимание, что здесь мы проводили множественную проверку гипотез, а это специфичная вещь. Обычно в таких случаях нужно делать поправки на уровне значимости.\n",
    "    \n",
    "Подробнее можно почитать здесь https://habr.com/ru/company/yandex/blog/476826/\n",
    "    \n",
    "</div>"
   ]
  },
  {
   "cell_type": "markdown",
   "metadata": {},
   "source": [
    "## Вывод"
   ]
  },
  {
   "cell_type": "markdown",
   "metadata": {},
   "source": [
    "Я провёл серию проверок гипотез с уровнем значимости 0,05. Я считаю такой критерий достаточным для поставленых целей. При таком уровне значимости ни на одном из действий пользователей, я не выявил разницы. Всего было проведено 4 вида проверки по каждом из 5 виду действий пользователей. Между группами A и A2, между A и B, между A2 и B и между объединённой тестовой группой и группой B.\n",
    "\n",
    "Можно сделать вывод, что замена шрифта никак не сказалась на действиях пользователей. Однако, стоит заметить, что изначально у меня были данные за две недели, но так как данных за первую неделю было не достаточны, я делал тесты по данным только за одну неделю. Я считаю, что такого периода не достаточно и можно было бы повторить тест с данными за более длинный период"
   ]
  },
  {
   "cell_type": "markdown",
   "metadata": {},
   "source": [
    "<div style=\"border:solid green 2px; padding: 20px\"> \n",
    "    \n",
    "**Общий комментарий по проекту**\n",
    "\n",
    "Ты отлично поработал над проектом, данные верно проанализированы и гипотезы проверены правильно. . \n",
    "    \n",
    "Итоговые выводы хорошо сделаны. Но обрати внимание, что по ходу проекта стоит отмечать более ценные для клиента моменты. Можно отмечать вопросы для дальнейших исследований, а также всегда очень ценятся конкретные рекомендации. \n",
    "    \n",
    "Постратайся доработать по замечаниям. Удачи.\n",
    "</div>"
   ]
  },
  {
   "cell_type": "markdown",
   "metadata": {},
   "source": [
    "<div style=\"border:solid green 2px; padding: 20px\"> \n",
    "    \n",
    "**Комментарий ревьюера - 2**\n",
    "\n",
    "Проект отлично доработан, молодец.\n",
    "    \n",
    "</div>"
   ]
  },
  {
   "cell_type": "code",
   "execution_count": null,
   "metadata": {},
   "outputs": [],
   "source": []
  }
 ],
 "metadata": {
  "ExecuteTimeLog": [
   {
    "duration": 505,
    "start_time": "2021-07-27T10:35:55.342Z"
   },
   {
    "duration": 233,
    "start_time": "2021-07-27T10:36:48.518Z"
   },
   {
    "duration": 245,
    "start_time": "2021-07-27T10:36:56.443Z"
   },
   {
    "duration": 253,
    "start_time": "2021-07-27T10:37:08.005Z"
   },
   {
    "duration": 63,
    "start_time": "2021-07-27T10:37:14.534Z"
   },
   {
    "duration": 239,
    "start_time": "2021-07-27T10:37:19.474Z"
   },
   {
    "duration": 231,
    "start_time": "2021-07-27T10:37:28.676Z"
   },
   {
    "duration": 63,
    "start_time": "2021-07-27T10:39:01.858Z"
   },
   {
    "duration": 251,
    "start_time": "2021-07-27T10:39:09.027Z"
   },
   {
    "duration": 126,
    "start_time": "2021-07-27T10:40:57.670Z"
   },
   {
    "duration": 122,
    "start_time": "2021-07-27T10:41:06.055Z"
   },
   {
    "duration": 16,
    "start_time": "2021-07-27T10:41:42.510Z"
   },
   {
    "duration": 181,
    "start_time": "2021-07-27T10:42:54.028Z"
   },
   {
    "duration": 197,
    "start_time": "2021-07-27T10:43:06.027Z"
   },
   {
    "duration": 45,
    "start_time": "2021-07-27T10:43:43.008Z"
   },
   {
    "duration": 49,
    "start_time": "2021-07-27T10:43:49.305Z"
   },
   {
    "duration": 46,
    "start_time": "2021-07-27T10:44:16.770Z"
   },
   {
    "duration": 10,
    "start_time": "2021-07-27T10:44:28.909Z"
   },
   {
    "duration": 3,
    "start_time": "2021-07-27T10:46:21.276Z"
   },
   {
    "duration": 3,
    "start_time": "2021-07-27T10:46:58.459Z"
   },
   {
    "duration": 49,
    "start_time": "2021-07-27T10:50:37.189Z"
   },
   {
    "duration": 10,
    "start_time": "2021-07-27T10:50:39.955Z"
   },
   {
    "duration": 48,
    "start_time": "2021-07-27T10:51:24.467Z"
   },
   {
    "duration": 6,
    "start_time": "2021-07-27T10:51:25.264Z"
   },
   {
    "duration": 4,
    "start_time": "2021-07-27T10:51:52.730Z"
   },
   {
    "duration": 9,
    "start_time": "2021-07-27T10:51:58.482Z"
   },
   {
    "duration": 47,
    "start_time": "2021-07-27T10:53:29.967Z"
   },
   {
    "duration": 174,
    "start_time": "2021-07-27T10:53:42.871Z"
   },
   {
    "duration": 14,
    "start_time": "2021-07-27T10:53:46.727Z"
   },
   {
    "duration": 48,
    "start_time": "2021-07-27T10:56:05.871Z"
   },
   {
    "duration": 14,
    "start_time": "2021-07-27T10:56:06.419Z"
   },
   {
    "duration": 182,
    "start_time": "2021-07-27T11:10:56.889Z"
   },
   {
    "duration": 97,
    "start_time": "2021-07-27T11:11:01.777Z"
   },
   {
    "duration": 73,
    "start_time": "2021-07-27T11:18:57.920Z"
   },
   {
    "duration": 97,
    "start_time": "2021-07-27T11:19:09.204Z"
   },
   {
    "duration": 65,
    "start_time": "2021-07-27T11:24:55.976Z"
   },
   {
    "duration": 90,
    "start_time": "2021-07-27T11:25:50.287Z"
   },
   {
    "duration": 106,
    "start_time": "2021-07-27T11:26:09.068Z"
   },
   {
    "duration": 56,
    "start_time": "2021-07-27T11:29:17.012Z"
   },
   {
    "duration": 248,
    "start_time": "2021-07-27T11:29:22.805Z"
   },
   {
    "duration": 11,
    "start_time": "2021-07-27T11:29:27.756Z"
   },
   {
    "duration": 14,
    "start_time": "2021-07-27T11:29:32.830Z"
   },
   {
    "duration": 42,
    "start_time": "2021-07-27T11:30:49.382Z"
   },
   {
    "duration": 22,
    "start_time": "2021-07-27T11:30:49.892Z"
   },
   {
    "duration": 24,
    "start_time": "2021-07-27T11:30:50.381Z"
   },
   {
    "duration": 23,
    "start_time": "2021-07-27T11:30:55.907Z"
   },
   {
    "duration": 87,
    "start_time": "2021-07-27T11:31:03.397Z"
   },
   {
    "duration": 4,
    "start_time": "2021-07-27T11:31:40.485Z"
   },
   {
    "duration": 145,
    "start_time": "2021-07-27T11:31:40.498Z"
   },
   {
    "duration": 15,
    "start_time": "2021-07-27T11:31:40.645Z"
   },
   {
    "duration": 23,
    "start_time": "2021-07-27T11:31:40.663Z"
   },
   {
    "duration": 17,
    "start_time": "2021-07-27T11:31:40.689Z"
   },
   {
    "duration": 80,
    "start_time": "2021-07-27T11:31:40.708Z"
   },
   {
    "duration": 23,
    "start_time": "2021-07-27T11:31:40.791Z"
   },
   {
    "duration": 120,
    "start_time": "2021-07-27T11:31:40.816Z"
   },
   {
    "duration": 17,
    "start_time": "2021-07-27T11:31:40.938Z"
   },
   {
    "duration": 45,
    "start_time": "2021-07-27T11:31:40.957Z"
   },
   {
    "duration": 26,
    "start_time": "2021-07-27T11:31:41.005Z"
   },
   {
    "duration": 30,
    "start_time": "2021-07-27T11:32:30.498Z"
   },
   {
    "duration": 21,
    "start_time": "2021-07-27T11:32:30.818Z"
   },
   {
    "duration": 21,
    "start_time": "2021-07-27T11:32:31.336Z"
   },
   {
    "duration": 23,
    "start_time": "2021-07-27T11:32:35.889Z"
   },
   {
    "duration": 13,
    "start_time": "2021-07-27T11:34:26.679Z"
   },
   {
    "duration": 12,
    "start_time": "2021-07-27T11:34:31.220Z"
   },
   {
    "duration": 11,
    "start_time": "2021-07-27T12:17:13.456Z"
   },
   {
    "duration": 71,
    "start_time": "2021-07-27T12:17:42.275Z"
   },
   {
    "duration": 67,
    "start_time": "2021-07-27T12:18:03.980Z"
   },
   {
    "duration": 12,
    "start_time": "2021-07-27T12:18:18.904Z"
   },
   {
    "duration": 16,
    "start_time": "2021-07-27T12:19:25.041Z"
   },
   {
    "duration": 214,
    "start_time": "2021-07-27T12:19:35.389Z"
   },
   {
    "duration": 14,
    "start_time": "2021-07-27T12:19:40.705Z"
   },
   {
    "duration": 1488,
    "start_time": "2021-07-27T12:21:37.657Z"
   },
   {
    "duration": 526,
    "start_time": "2021-07-27T12:21:52.763Z"
   },
   {
    "duration": 206,
    "start_time": "2021-07-27T12:22:29.375Z"
   },
   {
    "duration": 300,
    "start_time": "2021-07-27T12:22:34.719Z"
   },
   {
    "duration": 45,
    "start_time": "2021-07-27T12:23:12.188Z"
   },
   {
    "duration": 48,
    "start_time": "2021-07-27T12:23:33.414Z"
   },
   {
    "duration": 51,
    "start_time": "2021-07-27T12:24:52.196Z"
   },
   {
    "duration": 47,
    "start_time": "2021-07-27T12:24:57.387Z"
   },
   {
    "duration": 23,
    "start_time": "2021-07-27T12:25:50.349Z"
   },
   {
    "duration": 29,
    "start_time": "2021-07-27T12:25:58.802Z"
   },
   {
    "duration": 2,
    "start_time": "2021-07-27T12:26:50.568Z"
   },
   {
    "duration": 205,
    "start_time": "2021-07-27T12:28:11.504Z"
   },
   {
    "duration": 5,
    "start_time": "2021-07-27T12:28:19.739Z"
   },
   {
    "duration": 4,
    "start_time": "2021-07-27T12:28:34.820Z"
   },
   {
    "duration": 21,
    "start_time": "2021-07-27T12:29:14.282Z"
   },
   {
    "duration": 23,
    "start_time": "2021-07-27T12:29:26.645Z"
   },
   {
    "duration": 232,
    "start_time": "2021-07-27T12:30:13.897Z"
   },
   {
    "duration": 58,
    "start_time": "2021-07-27T12:30:45.128Z"
   },
   {
    "duration": 323,
    "start_time": "2021-07-27T12:31:28.427Z"
   },
   {
    "duration": 531,
    "start_time": "2021-07-27T12:31:41.318Z"
   },
   {
    "duration": 136,
    "start_time": "2021-07-27T12:31:41.851Z"
   },
   {
    "duration": 14,
    "start_time": "2021-07-27T12:31:41.989Z"
   },
   {
    "duration": 3,
    "start_time": "2021-07-27T12:31:42.005Z"
   },
   {
    "duration": 12,
    "start_time": "2021-07-27T12:31:42.009Z"
   },
   {
    "duration": 101,
    "start_time": "2021-07-27T12:31:42.023Z"
   },
   {
    "duration": 15,
    "start_time": "2021-07-27T12:31:42.126Z"
   },
   {
    "duration": 109,
    "start_time": "2021-07-27T12:31:42.143Z"
   },
   {
    "duration": 34,
    "start_time": "2021-07-27T12:31:42.253Z"
   },
   {
    "duration": 43,
    "start_time": "2021-07-27T12:31:42.288Z"
   },
   {
    "duration": 21,
    "start_time": "2021-07-27T12:31:42.332Z"
   },
   {
    "duration": 30,
    "start_time": "2021-07-27T12:31:42.355Z"
   },
   {
    "duration": 9,
    "start_time": "2021-07-27T12:31:42.387Z"
   },
   {
    "duration": 12,
    "start_time": "2021-07-27T12:31:42.397Z"
   },
   {
    "duration": 11,
    "start_time": "2021-07-27T12:31:42.410Z"
   },
   {
    "duration": 30,
    "start_time": "2021-07-27T12:31:42.422Z"
   },
   {
    "duration": 31,
    "start_time": "2021-07-27T12:31:42.454Z"
   },
   {
    "duration": 323,
    "start_time": "2021-07-27T12:31:42.486Z"
   },
   {
    "duration": 119,
    "start_time": "2021-07-27T12:32:26.978Z"
   },
   {
    "duration": 39,
    "start_time": "2021-07-27T12:32:38.490Z"
   },
   {
    "duration": 6,
    "start_time": "2021-07-27T12:34:08.045Z"
   },
   {
    "duration": 111,
    "start_time": "2021-07-27T12:37:55.415Z"
   },
   {
    "duration": 10,
    "start_time": "2021-07-27T12:38:07.347Z"
   },
   {
    "duration": 117,
    "start_time": "2021-07-27T12:39:02.276Z"
   },
   {
    "duration": 9,
    "start_time": "2021-07-27T12:39:03.109Z"
   },
   {
    "duration": 228,
    "start_time": "2021-07-27T12:39:42.202Z"
   },
   {
    "duration": 116,
    "start_time": "2021-07-27T12:39:44.264Z"
   },
   {
    "duration": 8,
    "start_time": "2021-07-27T12:39:44.972Z"
   },
   {
    "duration": 119,
    "start_time": "2021-07-27T12:41:56.297Z"
   },
   {
    "duration": 567,
    "start_time": "2021-07-27T12:42:06.544Z"
   },
   {
    "duration": 137,
    "start_time": "2021-07-27T12:42:07.113Z"
   },
   {
    "duration": 16,
    "start_time": "2021-07-27T12:42:07.252Z"
   },
   {
    "duration": 16,
    "start_time": "2021-07-27T12:42:07.270Z"
   },
   {
    "duration": 13,
    "start_time": "2021-07-27T12:42:07.288Z"
   },
   {
    "duration": 88,
    "start_time": "2021-07-27T12:42:07.303Z"
   },
   {
    "duration": 14,
    "start_time": "2021-07-27T12:42:07.393Z"
   },
   {
    "duration": 111,
    "start_time": "2021-07-27T12:42:07.409Z"
   },
   {
    "duration": 27,
    "start_time": "2021-07-27T12:42:07.522Z"
   },
   {
    "duration": 59,
    "start_time": "2021-07-27T12:42:07.550Z"
   },
   {
    "duration": 22,
    "start_time": "2021-07-27T12:42:07.610Z"
   },
   {
    "duration": 11,
    "start_time": "2021-07-27T12:42:07.634Z"
   },
   {
    "duration": 131,
    "start_time": "2021-07-27T12:42:07.646Z"
   },
   {
    "duration": 11,
    "start_time": "2021-07-27T12:42:07.779Z"
   },
   {
    "duration": 8,
    "start_time": "2021-07-27T12:42:07.792Z"
   },
   {
    "duration": 11,
    "start_time": "2021-07-27T12:42:07.802Z"
   },
   {
    "duration": 14,
    "start_time": "2021-07-27T12:42:07.814Z"
   },
   {
    "duration": 57,
    "start_time": "2021-07-27T12:42:07.829Z"
   },
   {
    "duration": 5,
    "start_time": "2021-07-27T12:42:07.887Z"
   },
   {
    "duration": 38,
    "start_time": "2021-07-27T12:42:07.894Z"
   },
   {
    "duration": 134,
    "start_time": "2021-07-27T12:42:07.934Z"
   },
   {
    "duration": 6,
    "start_time": "2021-07-27T12:42:08.069Z"
   },
   {
    "duration": 16,
    "start_time": "2021-07-27T12:43:48.377Z"
   },
   {
    "duration": 16,
    "start_time": "2021-07-27T12:44:11.285Z"
   },
   {
    "duration": 15,
    "start_time": "2021-07-27T12:45:00.432Z"
   },
   {
    "duration": 17,
    "start_time": "2021-07-27T12:46:34.010Z"
   },
   {
    "duration": 13,
    "start_time": "2021-07-27T12:47:33.645Z"
   },
   {
    "duration": 334,
    "start_time": "2021-07-27T12:47:45.563Z"
   },
   {
    "duration": 58,
    "start_time": "2021-07-27T12:47:53.064Z"
   },
   {
    "duration": 62,
    "start_time": "2021-07-27T12:47:56.643Z"
   },
   {
    "duration": 16,
    "start_time": "2021-07-27T12:48:06.781Z"
   },
   {
    "duration": 13,
    "start_time": "2021-07-27T12:48:10.867Z"
   },
   {
    "duration": 15,
    "start_time": "2021-07-27T12:48:18.955Z"
   },
   {
    "duration": 16,
    "start_time": "2021-07-27T12:48:35.797Z"
   },
   {
    "duration": 176,
    "start_time": "2021-07-27T12:51:41.613Z"
   },
   {
    "duration": 31,
    "start_time": "2021-07-27T12:51:47.224Z"
   },
   {
    "duration": 6,
    "start_time": "2021-07-27T12:52:10.299Z"
   },
   {
    "duration": 68,
    "start_time": "2021-07-27T12:55:13.841Z"
   },
   {
    "duration": 194,
    "start_time": "2021-07-27T12:55:56.549Z"
   },
   {
    "duration": 1218,
    "start_time": "2021-07-27T12:56:02.289Z"
   },
   {
    "duration": 1198,
    "start_time": "2021-07-27T12:56:25.091Z"
   },
   {
    "duration": 1271,
    "start_time": "2021-07-27T12:56:43.237Z"
   },
   {
    "duration": 1482,
    "start_time": "2021-07-27T12:57:53.203Z"
   },
   {
    "duration": 1344,
    "start_time": "2021-07-27T12:58:12.780Z"
   },
   {
    "duration": 630,
    "start_time": "2021-07-27T13:00:07.735Z"
   },
   {
    "duration": 137,
    "start_time": "2021-07-27T13:00:08.367Z"
   },
   {
    "duration": 15,
    "start_time": "2021-07-27T13:00:08.506Z"
   },
   {
    "duration": 5,
    "start_time": "2021-07-27T13:00:08.523Z"
   },
   {
    "duration": 11,
    "start_time": "2021-07-27T13:00:08.530Z"
   },
   {
    "duration": 109,
    "start_time": "2021-07-27T13:00:08.543Z"
   },
   {
    "duration": 14,
    "start_time": "2021-07-27T13:00:08.654Z"
   },
   {
    "duration": 107,
    "start_time": "2021-07-27T13:00:08.670Z"
   },
   {
    "duration": 30,
    "start_time": "2021-07-27T13:00:08.779Z"
   },
   {
    "duration": 42,
    "start_time": "2021-07-27T13:00:08.810Z"
   },
   {
    "duration": 38,
    "start_time": "2021-07-27T13:00:08.853Z"
   },
   {
    "duration": 13,
    "start_time": "2021-07-27T13:00:08.893Z"
   },
   {
    "duration": 129,
    "start_time": "2021-07-27T13:00:08.908Z"
   },
   {
    "duration": 9,
    "start_time": "2021-07-27T13:00:09.039Z"
   },
   {
    "duration": 10,
    "start_time": "2021-07-27T13:00:09.050Z"
   },
   {
    "duration": 34,
    "start_time": "2021-07-27T13:00:09.062Z"
   },
   {
    "duration": 12,
    "start_time": "2021-07-27T13:00:09.098Z"
   },
   {
    "duration": 35,
    "start_time": "2021-07-27T13:00:09.115Z"
   },
   {
    "duration": 5,
    "start_time": "2021-07-27T13:00:09.151Z"
   },
   {
    "duration": 62,
    "start_time": "2021-07-27T13:00:09.158Z"
   },
   {
    "duration": 13,
    "start_time": "2021-07-27T13:00:09.222Z"
   },
   {
    "duration": 7,
    "start_time": "2021-07-27T13:00:09.236Z"
   },
   {
    "duration": 640,
    "start_time": "2021-07-27T13:00:56.157Z"
   },
   {
    "duration": 131,
    "start_time": "2021-07-27T13:00:56.800Z"
   },
   {
    "duration": 17,
    "start_time": "2021-07-27T13:00:56.936Z"
   },
   {
    "duration": 3,
    "start_time": "2021-07-27T13:00:56.955Z"
   },
   {
    "duration": 30,
    "start_time": "2021-07-27T13:00:56.960Z"
   },
   {
    "duration": 81,
    "start_time": "2021-07-27T13:00:56.992Z"
   },
   {
    "duration": 15,
    "start_time": "2021-07-27T13:00:57.086Z"
   },
   {
    "duration": 108,
    "start_time": "2021-07-27T13:00:57.103Z"
   },
   {
    "duration": 28,
    "start_time": "2021-07-27T13:00:57.213Z"
   },
   {
    "duration": 60,
    "start_time": "2021-07-27T13:00:57.243Z"
   },
   {
    "duration": 23,
    "start_time": "2021-07-27T13:00:57.304Z"
   },
   {
    "duration": 12,
    "start_time": "2021-07-27T13:00:57.329Z"
   },
   {
    "duration": 129,
    "start_time": "2021-07-27T13:00:57.343Z"
   },
   {
    "duration": 16,
    "start_time": "2021-07-27T13:00:57.474Z"
   },
   {
    "duration": 11,
    "start_time": "2021-07-27T13:00:57.491Z"
   },
   {
    "duration": 12,
    "start_time": "2021-07-27T13:00:57.503Z"
   },
   {
    "duration": 13,
    "start_time": "2021-07-27T13:00:57.516Z"
   },
   {
    "duration": 57,
    "start_time": "2021-07-27T13:00:57.530Z"
   },
   {
    "duration": 7,
    "start_time": "2021-07-27T13:00:57.589Z"
   },
   {
    "duration": 40,
    "start_time": "2021-07-27T13:00:57.598Z"
   },
   {
    "duration": 14,
    "start_time": "2021-07-27T13:00:57.640Z"
   },
   {
    "duration": 6,
    "start_time": "2021-07-27T13:01:04.696Z"
   },
   {
    "duration": 1409,
    "start_time": "2021-07-27T13:01:30.711Z"
   },
   {
    "duration": 204,
    "start_time": "2021-07-27T13:08:13.075Z"
   },
   {
    "duration": 340,
    "start_time": "2021-07-27T13:08:36.194Z"
   },
   {
    "duration": 311,
    "start_time": "2021-07-27T13:08:48.089Z"
   },
   {
    "duration": 321,
    "start_time": "2021-07-27T13:09:37.332Z"
   },
   {
    "duration": 456,
    "start_time": "2021-07-27T13:12:30.369Z"
   },
   {
    "duration": 1264,
    "start_time": "2021-07-27T13:12:38.578Z"
   },
   {
    "duration": 489,
    "start_time": "2021-07-27T13:12:45.078Z"
   },
   {
    "duration": 475,
    "start_time": "2021-07-27T13:12:54.020Z"
   },
   {
    "duration": 465,
    "start_time": "2021-07-27T13:13:29.109Z"
   },
   {
    "duration": 453,
    "start_time": "2021-07-27T13:13:43.593Z"
   },
   {
    "duration": 560,
    "start_time": "2021-07-27T13:14:35.588Z"
   },
   {
    "duration": 185,
    "start_time": "2021-07-27T13:17:58.985Z"
   },
   {
    "duration": 701,
    "start_time": "2021-07-27T13:18:09.363Z"
   },
   {
    "duration": 3,
    "start_time": "2021-07-27T13:18:16.116Z"
   },
   {
    "duration": 136,
    "start_time": "2021-07-27T13:18:16.123Z"
   },
   {
    "duration": 26,
    "start_time": "2021-07-27T13:18:16.261Z"
   },
   {
    "duration": 3,
    "start_time": "2021-07-27T13:18:16.289Z"
   },
   {
    "duration": 11,
    "start_time": "2021-07-27T13:18:16.293Z"
   },
   {
    "duration": 80,
    "start_time": "2021-07-27T13:18:16.306Z"
   },
   {
    "duration": 16,
    "start_time": "2021-07-27T13:18:16.388Z"
   },
   {
    "duration": 97,
    "start_time": "2021-07-27T13:18:16.405Z"
   },
   {
    "duration": 18,
    "start_time": "2021-07-27T13:18:16.503Z"
   },
   {
    "duration": 34,
    "start_time": "2021-07-27T13:18:16.524Z"
   },
   {
    "duration": 38,
    "start_time": "2021-07-27T13:18:16.560Z"
   },
   {
    "duration": 13,
    "start_time": "2021-07-27T13:18:16.599Z"
   },
   {
    "duration": 128,
    "start_time": "2021-07-27T13:18:16.613Z"
   },
   {
    "duration": 6,
    "start_time": "2021-07-27T13:18:16.742Z"
   },
   {
    "duration": 19,
    "start_time": "2021-07-27T13:18:16.750Z"
   },
   {
    "duration": 20,
    "start_time": "2021-07-27T13:18:16.770Z"
   },
   {
    "duration": 11,
    "start_time": "2021-07-27T13:18:16.791Z"
   },
   {
    "duration": 31,
    "start_time": "2021-07-27T13:18:16.803Z"
   },
   {
    "duration": 6,
    "start_time": "2021-07-27T13:18:16.835Z"
   },
   {
    "duration": 64,
    "start_time": "2021-07-27T13:18:16.842Z"
   },
   {
    "duration": 15,
    "start_time": "2021-07-27T13:18:16.908Z"
   },
   {
    "duration": 7,
    "start_time": "2021-07-27T13:18:16.924Z"
   },
   {
    "duration": 490,
    "start_time": "2021-07-27T13:18:16.932Z"
   },
   {
    "duration": 715,
    "start_time": "2021-07-27T13:18:25.610Z"
   },
   {
    "duration": 198,
    "start_time": "2021-07-27T13:18:30.175Z"
   },
   {
    "duration": 13,
    "start_time": "2021-07-27T13:18:35.541Z"
   },
   {
    "duration": 7,
    "start_time": "2021-07-27T13:32:56.311Z"
   },
   {
    "duration": 192,
    "start_time": "2021-07-27T13:33:25.531Z"
   },
   {
    "duration": 179,
    "start_time": "2021-07-27T13:34:09.322Z"
   },
   {
    "duration": 696,
    "start_time": "2021-07-27T13:34:16.568Z"
   },
   {
    "duration": 8,
    "start_time": "2021-07-27T13:34:56.938Z"
   },
   {
    "duration": 6,
    "start_time": "2021-07-27T13:34:59.818Z"
   },
   {
    "duration": 6,
    "start_time": "2021-07-27T13:35:14.992Z"
   },
   {
    "duration": 27,
    "start_time": "2021-07-27T13:35:27.862Z"
   },
   {
    "duration": 7,
    "start_time": "2021-07-27T13:35:33.583Z"
   },
   {
    "duration": 7,
    "start_time": "2021-07-27T13:35:57.931Z"
   },
   {
    "duration": 6,
    "start_time": "2021-07-27T13:36:04.582Z"
   },
   {
    "duration": 14,
    "start_time": "2021-07-27T13:36:11.909Z"
   },
   {
    "duration": 202,
    "start_time": "2021-07-27T13:36:51.005Z"
   },
   {
    "duration": 592,
    "start_time": "2021-07-27T13:36:57.420Z"
   },
   {
    "duration": 134,
    "start_time": "2021-07-27T13:36:58.014Z"
   },
   {
    "duration": 15,
    "start_time": "2021-07-27T13:36:58.150Z"
   },
   {
    "duration": 2,
    "start_time": "2021-07-27T13:36:58.167Z"
   },
   {
    "duration": 20,
    "start_time": "2021-07-27T13:36:58.171Z"
   },
   {
    "duration": 80,
    "start_time": "2021-07-27T13:36:58.193Z"
   },
   {
    "duration": 23,
    "start_time": "2021-07-27T13:36:58.274Z"
   },
   {
    "duration": 104,
    "start_time": "2021-07-27T13:36:58.299Z"
   },
   {
    "duration": 25,
    "start_time": "2021-07-27T13:36:58.406Z"
   },
   {
    "duration": 52,
    "start_time": "2021-07-27T13:36:58.433Z"
   },
   {
    "duration": 22,
    "start_time": "2021-07-27T13:36:58.486Z"
   },
   {
    "duration": 12,
    "start_time": "2021-07-27T13:36:58.509Z"
   },
   {
    "duration": 128,
    "start_time": "2021-07-27T13:36:58.523Z"
   },
   {
    "duration": 8,
    "start_time": "2021-07-27T13:36:58.653Z"
   },
   {
    "duration": 22,
    "start_time": "2021-07-27T13:36:58.663Z"
   },
   {
    "duration": 12,
    "start_time": "2021-07-27T13:36:58.686Z"
   },
   {
    "duration": 12,
    "start_time": "2021-07-27T13:36:58.699Z"
   },
   {
    "duration": 29,
    "start_time": "2021-07-27T13:36:58.713Z"
   },
   {
    "duration": 5,
    "start_time": "2021-07-27T13:36:58.744Z"
   },
   {
    "duration": 61,
    "start_time": "2021-07-27T13:36:58.751Z"
   },
   {
    "duration": 13,
    "start_time": "2021-07-27T13:36:58.814Z"
   },
   {
    "duration": 6,
    "start_time": "2021-07-27T13:36:58.829Z"
   },
   {
    "duration": 477,
    "start_time": "2021-07-27T13:36:58.838Z"
   },
   {
    "duration": 196,
    "start_time": "2021-07-27T13:36:59.317Z"
   },
   {
    "duration": 795,
    "start_time": "2021-07-27T13:36:59.515Z"
   },
   {
    "duration": -980944,
    "start_time": "2021-07-27T13:53:21.256Z"
   },
   {
    "duration": -980948,
    "start_time": "2021-07-27T13:53:21.262Z"
   },
   {
    "duration": -980954,
    "start_time": "2021-07-27T13:53:21.269Z"
   },
   {
    "duration": 191,
    "start_time": "2021-07-27T13:37:49.182Z"
   },
   {
    "duration": 191,
    "start_time": "2021-07-27T13:38:32.524Z"
   },
   {
    "duration": 18,
    "start_time": "2021-07-27T13:38:40.259Z"
   },
   {
    "duration": 14,
    "start_time": "2021-07-27T13:38:49.816Z"
   },
   {
    "duration": 27,
    "start_time": "2021-07-27T13:38:50.690Z"
   },
   {
    "duration": 6,
    "start_time": "2021-07-27T13:38:51.228Z"
   },
   {
    "duration": 614,
    "start_time": "2021-07-27T13:39:36.709Z"
   },
   {
    "duration": 132,
    "start_time": "2021-07-27T13:39:37.324Z"
   },
   {
    "duration": 15,
    "start_time": "2021-07-27T13:39:37.459Z"
   },
   {
    "duration": 9,
    "start_time": "2021-07-27T13:39:37.476Z"
   },
   {
    "duration": 11,
    "start_time": "2021-07-27T13:39:37.486Z"
   },
   {
    "duration": 90,
    "start_time": "2021-07-27T13:39:37.498Z"
   },
   {
    "duration": 15,
    "start_time": "2021-07-27T13:39:37.589Z"
   },
   {
    "duration": 105,
    "start_time": "2021-07-27T13:39:37.606Z"
   },
   {
    "duration": 28,
    "start_time": "2021-07-27T13:39:37.714Z"
   },
   {
    "duration": 60,
    "start_time": "2021-07-27T13:39:37.744Z"
   },
   {
    "duration": 23,
    "start_time": "2021-07-27T13:39:37.805Z"
   },
   {
    "duration": 12,
    "start_time": "2021-07-27T13:39:37.830Z"
   },
   {
    "duration": 138,
    "start_time": "2021-07-27T13:39:37.844Z"
   },
   {
    "duration": 10,
    "start_time": "2021-07-27T13:39:37.984Z"
   },
   {
    "duration": 11,
    "start_time": "2021-07-27T13:39:37.996Z"
   },
   {
    "duration": 12,
    "start_time": "2021-07-27T13:39:38.009Z"
   },
   {
    "duration": 11,
    "start_time": "2021-07-27T13:39:38.023Z"
   },
   {
    "duration": 62,
    "start_time": "2021-07-27T13:39:38.036Z"
   },
   {
    "duration": 5,
    "start_time": "2021-07-27T13:39:38.100Z"
   },
   {
    "duration": 38,
    "start_time": "2021-07-27T13:39:38.106Z"
   },
   {
    "duration": 13,
    "start_time": "2021-07-27T13:39:38.146Z"
   },
   {
    "duration": 28,
    "start_time": "2021-07-27T13:39:38.161Z"
   },
   {
    "duration": 503,
    "start_time": "2021-07-27T13:39:38.191Z"
   },
   {
    "duration": 198,
    "start_time": "2021-07-27T13:39:44.835Z"
   },
   {
    "duration": 33,
    "start_time": "2021-07-27T13:39:46.068Z"
   },
   {
    "duration": 69,
    "start_time": "2021-07-27T13:41:40.674Z"
   },
   {
    "duration": 795,
    "start_time": "2021-07-27T13:41:48.521Z"
   },
   {
    "duration": 209,
    "start_time": "2021-07-27T13:42:27.961Z"
   },
   {
    "duration": 718,
    "start_time": "2021-07-27T13:42:35.386Z"
   },
   {
    "duration": 619,
    "start_time": "2021-07-27T13:42:55.689Z"
   },
   {
    "duration": 130,
    "start_time": "2021-07-27T13:42:56.310Z"
   },
   {
    "duration": 14,
    "start_time": "2021-07-27T13:42:56.442Z"
   },
   {
    "duration": 2,
    "start_time": "2021-07-27T13:42:56.458Z"
   },
   {
    "duration": 23,
    "start_time": "2021-07-27T13:42:56.462Z"
   },
   {
    "duration": 81,
    "start_time": "2021-07-27T13:42:56.486Z"
   },
   {
    "duration": 25,
    "start_time": "2021-07-27T13:42:56.568Z"
   },
   {
    "duration": 99,
    "start_time": "2021-07-27T13:42:56.596Z"
   },
   {
    "duration": 26,
    "start_time": "2021-07-27T13:42:56.697Z"
   },
   {
    "duration": 40,
    "start_time": "2021-07-27T13:42:56.725Z"
   },
   {
    "duration": 33,
    "start_time": "2021-07-27T13:42:56.767Z"
   },
   {
    "duration": 12,
    "start_time": "2021-07-27T13:42:56.802Z"
   },
   {
    "duration": 134,
    "start_time": "2021-07-27T13:42:56.816Z"
   },
   {
    "duration": 7,
    "start_time": "2021-07-27T13:42:56.952Z"
   },
   {
    "duration": 25,
    "start_time": "2021-07-27T13:42:56.961Z"
   },
   {
    "duration": 12,
    "start_time": "2021-07-27T13:42:56.987Z"
   },
   {
    "duration": 12,
    "start_time": "2021-07-27T13:42:57.001Z"
   },
   {
    "duration": 32,
    "start_time": "2021-07-27T13:42:57.015Z"
   },
   {
    "duration": 5,
    "start_time": "2021-07-27T13:42:57.048Z"
   },
   {
    "duration": 64,
    "start_time": "2021-07-27T13:42:57.055Z"
   },
   {
    "duration": 14,
    "start_time": "2021-07-27T13:42:57.120Z"
   },
   {
    "duration": 7,
    "start_time": "2021-07-27T13:42:57.135Z"
   },
   {
    "duration": 493,
    "start_time": "2021-07-27T13:42:57.144Z"
   },
   {
    "duration": 456,
    "start_time": "2021-07-27T13:43:00.477Z"
   },
   {
    "duration": 843,
    "start_time": "2021-07-27T13:43:03.664Z"
   },
   {
    "duration": 341,
    "start_time": "2021-07-27T13:43:15.469Z"
   },
   {
    "duration": 29,
    "start_time": "2021-07-27T13:43:41.371Z"
   },
   {
    "duration": 60,
    "start_time": "2021-07-27T13:43:57.801Z"
   },
   {
    "duration": 31,
    "start_time": "2021-07-27T13:44:34.894Z"
   },
   {
    "duration": 19,
    "start_time": "2021-07-27T13:45:52.303Z"
   },
   {
    "duration": 81,
    "start_time": "2021-07-27T13:45:53.811Z"
   },
   {
    "duration": 6,
    "start_time": "2021-07-27T13:46:05.501Z"
   },
   {
    "duration": 614,
    "start_time": "2021-07-27T13:46:42.991Z"
   },
   {
    "duration": 136,
    "start_time": "2021-07-27T13:46:43.607Z"
   },
   {
    "duration": 15,
    "start_time": "2021-07-27T13:46:43.745Z"
   },
   {
    "duration": 21,
    "start_time": "2021-07-27T13:46:43.762Z"
   },
   {
    "duration": 31,
    "start_time": "2021-07-27T13:46:43.785Z"
   },
   {
    "duration": 99,
    "start_time": "2021-07-27T13:46:43.818Z"
   },
   {
    "duration": 14,
    "start_time": "2021-07-27T13:46:43.919Z"
   },
   {
    "duration": 116,
    "start_time": "2021-07-27T13:46:43.936Z"
   },
   {
    "duration": 44,
    "start_time": "2021-07-27T13:46:44.054Z"
   },
   {
    "duration": 10,
    "start_time": "2021-07-27T13:46:44.099Z"
   },
   {
    "duration": 43,
    "start_time": "2021-07-27T13:46:44.111Z"
   },
   {
    "duration": 37,
    "start_time": "2021-07-27T13:46:44.156Z"
   },
   {
    "duration": 11,
    "start_time": "2021-07-27T13:46:44.195Z"
   },
   {
    "duration": 129,
    "start_time": "2021-07-27T13:46:44.208Z"
   },
   {
    "duration": 8,
    "start_time": "2021-07-27T13:46:44.338Z"
   },
   {
    "duration": 9,
    "start_time": "2021-07-27T13:46:44.348Z"
   },
   {
    "duration": 28,
    "start_time": "2021-07-27T13:46:44.358Z"
   },
   {
    "duration": 11,
    "start_time": "2021-07-27T13:46:44.387Z"
   },
   {
    "duration": 31,
    "start_time": "2021-07-27T13:46:44.400Z"
   },
   {
    "duration": 5,
    "start_time": "2021-07-27T13:46:44.432Z"
   },
   {
    "duration": 70,
    "start_time": "2021-07-27T13:46:44.439Z"
   },
   {
    "duration": 14,
    "start_time": "2021-07-27T13:46:44.511Z"
   },
   {
    "duration": 6,
    "start_time": "2021-07-27T13:46:44.528Z"
   },
   {
    "duration": 497,
    "start_time": "2021-07-27T13:46:44.536Z"
   },
   {
    "duration": 17,
    "start_time": "2021-07-27T13:46:45.034Z"
   },
   {
    "duration": 6,
    "start_time": "2021-07-27T13:46:45.053Z"
   },
   {
    "duration": 35,
    "start_time": "2021-07-27T13:46:45.060Z"
   },
   {
    "duration": 30,
    "start_time": "2021-07-27T13:48:49.085Z"
   },
   {
    "duration": 6,
    "start_time": "2021-07-27T13:49:08.794Z"
   },
   {
    "duration": 454,
    "start_time": "2021-07-27T13:49:43.260Z"
   },
   {
    "duration": 302,
    "start_time": "2021-07-27T13:54:40.745Z"
   },
   {
    "duration": 236,
    "start_time": "2021-07-27T13:55:21.883Z"
   },
   {
    "duration": 54,
    "start_time": "2021-07-27T13:55:31.438Z"
   },
   {
    "duration": 54,
    "start_time": "2021-07-27T13:55:35.282Z"
   },
   {
    "duration": 53,
    "start_time": "2021-07-27T13:55:47.376Z"
   },
   {
    "duration": 70,
    "start_time": "2021-07-27T13:57:52.045Z"
   },
   {
    "duration": 20,
    "start_time": "2021-07-27T13:58:15.400Z"
   },
   {
    "duration": 20,
    "start_time": "2021-07-27T13:58:25.417Z"
   },
   {
    "duration": 20,
    "start_time": "2021-07-27T13:58:39.514Z"
   },
   {
    "duration": 20,
    "start_time": "2021-07-27T13:58:46.407Z"
   },
   {
    "duration": 19,
    "start_time": "2021-07-27T13:59:04.100Z"
   },
   {
    "duration": 20,
    "start_time": "2021-07-27T13:59:17.207Z"
   },
   {
    "duration": 19,
    "start_time": "2021-07-27T13:59:21.633Z"
   },
   {
    "duration": 210,
    "start_time": "2021-07-27T14:00:32.136Z"
   },
   {
    "duration": 224,
    "start_time": "2021-07-27T14:00:59.646Z"
   },
   {
    "duration": 26,
    "start_time": "2021-07-27T14:02:08.695Z"
   },
   {
    "duration": 61,
    "start_time": "2021-07-27T14:02:29.514Z"
   },
   {
    "duration": 198,
    "start_time": "2021-07-27T14:02:34.141Z"
   },
   {
    "duration": 59,
    "start_time": "2021-07-27T14:02:42.988Z"
   },
   {
    "duration": 30,
    "start_time": "2021-07-27T14:02:47.259Z"
   },
   {
    "duration": 27,
    "start_time": "2021-07-27T14:02:55.344Z"
   },
   {
    "duration": 28,
    "start_time": "2021-07-27T14:03:17.914Z"
   },
   {
    "duration": 5,
    "start_time": "2021-07-27T14:04:03.049Z"
   },
   {
    "duration": 58,
    "start_time": "2021-07-27T14:04:09.288Z"
   },
   {
    "duration": 25,
    "start_time": "2021-07-27T14:04:13.441Z"
   },
   {
    "duration": 3,
    "start_time": "2021-07-27T14:04:14.261Z"
   },
   {
    "duration": 190,
    "start_time": "2021-07-27T14:04:35.760Z"
   },
   {
    "duration": 27,
    "start_time": "2021-07-27T14:04:37.646Z"
   },
   {
    "duration": 3,
    "start_time": "2021-07-27T14:04:37.829Z"
   },
   {
    "duration": 43,
    "start_time": "2021-07-27T14:06:12.821Z"
   },
   {
    "duration": 54,
    "start_time": "2021-07-27T14:07:58.145Z"
   },
   {
    "duration": 27,
    "start_time": "2021-07-27T14:09:52.726Z"
   },
   {
    "duration": 21,
    "start_time": "2021-07-27T14:52:13.011Z"
   },
   {
    "duration": 5,
    "start_time": "2021-07-27T14:55:24.471Z"
   },
   {
    "duration": 4,
    "start_time": "2021-07-27T14:55:27.605Z"
   },
   {
    "duration": 235,
    "start_time": "2021-07-27T14:57:06.889Z"
   },
   {
    "duration": 45,
    "start_time": "2021-07-27T14:57:56.878Z"
   },
   {
    "duration": 7,
    "start_time": "2021-07-27T14:58:03.391Z"
   },
   {
    "duration": 45,
    "start_time": "2021-07-27T14:58:20.869Z"
   },
   {
    "duration": 7,
    "start_time": "2021-07-27T14:58:21.077Z"
   },
   {
    "duration": 48,
    "start_time": "2021-07-27T14:58:31.230Z"
   },
   {
    "duration": 8,
    "start_time": "2021-07-27T14:58:33.632Z"
   },
   {
    "duration": 46,
    "start_time": "2021-07-27T14:58:37.685Z"
   },
   {
    "duration": 7,
    "start_time": "2021-07-27T14:58:38.336Z"
   },
   {
    "duration": 216,
    "start_time": "2021-07-27T14:58:59.856Z"
   },
   {
    "duration": 4,
    "start_time": "2021-07-27T14:59:03.095Z"
   },
   {
    "duration": 3,
    "start_time": "2021-07-27T14:59:03.591Z"
   },
   {
    "duration": 44,
    "start_time": "2021-07-27T14:59:08.103Z"
   },
   {
    "duration": 4,
    "start_time": "2021-07-27T14:59:32.883Z"
   },
   {
    "duration": 42,
    "start_time": "2021-07-27T14:59:41.211Z"
   },
   {
    "duration": 7,
    "start_time": "2021-07-27T14:59:42.190Z"
   },
   {
    "duration": 4,
    "start_time": "2021-07-27T14:59:48.885Z"
   },
   {
    "duration": 8,
    "start_time": "2021-07-27T15:00:03.612Z"
   },
   {
    "duration": 615,
    "start_time": "2021-07-27T15:00:11.414Z"
   },
   {
    "duration": 136,
    "start_time": "2021-07-27T15:00:12.030Z"
   },
   {
    "duration": 19,
    "start_time": "2021-07-27T15:00:12.168Z"
   },
   {
    "duration": 2,
    "start_time": "2021-07-27T15:00:12.189Z"
   },
   {
    "duration": 12,
    "start_time": "2021-07-27T15:00:12.193Z"
   },
   {
    "duration": 93,
    "start_time": "2021-07-27T15:00:12.207Z"
   },
   {
    "duration": 14,
    "start_time": "2021-07-27T15:00:12.302Z"
   },
   {
    "duration": 107,
    "start_time": "2021-07-27T15:00:12.318Z"
   },
   {
    "duration": 42,
    "start_time": "2021-07-27T15:00:12.427Z"
   },
   {
    "duration": 24,
    "start_time": "2021-07-27T15:00:12.470Z"
   },
   {
    "duration": 44,
    "start_time": "2021-07-27T15:00:12.496Z"
   },
   {
    "duration": 43,
    "start_time": "2021-07-27T15:00:12.542Z"
   },
   {
    "duration": 13,
    "start_time": "2021-07-27T15:00:12.587Z"
   },
   {
    "duration": 132,
    "start_time": "2021-07-27T15:00:12.602Z"
   },
   {
    "duration": 7,
    "start_time": "2021-07-27T15:00:12.736Z"
   },
   {
    "duration": 8,
    "start_time": "2021-07-27T15:00:12.745Z"
   },
   {
    "duration": 30,
    "start_time": "2021-07-27T15:00:12.755Z"
   },
   {
    "duration": 11,
    "start_time": "2021-07-27T15:00:12.787Z"
   },
   {
    "duration": 34,
    "start_time": "2021-07-27T15:00:12.800Z"
   },
   {
    "duration": 5,
    "start_time": "2021-07-27T15:00:12.836Z"
   },
   {
    "duration": 63,
    "start_time": "2021-07-27T15:00:12.842Z"
   },
   {
    "duration": 13,
    "start_time": "2021-07-27T15:00:12.907Z"
   },
   {
    "duration": 5,
    "start_time": "2021-07-27T15:00:12.923Z"
   },
   {
    "duration": 477,
    "start_time": "2021-07-27T15:00:12.930Z"
   },
   {
    "duration": 17,
    "start_time": "2021-07-27T15:00:13.409Z"
   },
   {
    "duration": 6,
    "start_time": "2021-07-27T15:00:13.427Z"
   },
   {
    "duration": 15,
    "start_time": "2021-07-27T15:00:13.434Z"
   },
   {
    "duration": 49,
    "start_time": "2021-07-27T15:00:13.451Z"
   },
   {
    "duration": 3,
    "start_time": "2021-07-27T15:00:13.501Z"
   },
   {
    "duration": 43,
    "start_time": "2021-07-27T15:00:13.506Z"
   },
   {
    "duration": 37,
    "start_time": "2021-07-27T15:00:13.550Z"
   },
   {
    "duration": 4,
    "start_time": "2021-07-27T15:00:13.588Z"
   },
   {
    "duration": 4,
    "start_time": "2021-07-27T15:00:13.594Z"
   },
   {
    "duration": 45,
    "start_time": "2021-07-27T15:00:13.599Z"
   },
   {
    "duration": 6,
    "start_time": "2021-07-27T15:00:13.646Z"
   },
   {
    "duration": 32,
    "start_time": "2021-07-27T15:00:13.653Z"
   },
   {
    "duration": 7,
    "start_time": "2021-07-27T15:00:13.686Z"
   },
   {
    "duration": 4,
    "start_time": "2021-07-27T15:01:06.797Z"
   },
   {
    "duration": 7,
    "start_time": "2021-07-27T15:01:07.080Z"
   },
   {
    "duration": 15,
    "start_time": "2021-07-27T15:23:30.892Z"
   },
   {
    "duration": 11,
    "start_time": "2021-07-27T15:23:36.665Z"
   },
   {
    "duration": 11,
    "start_time": "2021-07-27T15:24:04.277Z"
   },
   {
    "duration": 10,
    "start_time": "2021-07-27T15:24:28.241Z"
   },
   {
    "duration": 652,
    "start_time": "2021-07-27T15:24:37.677Z"
   },
   {
    "duration": 133,
    "start_time": "2021-07-27T15:24:38.331Z"
   },
   {
    "duration": 14,
    "start_time": "2021-07-27T15:24:38.466Z"
   },
   {
    "duration": 2,
    "start_time": "2021-07-27T15:24:38.485Z"
   },
   {
    "duration": 10,
    "start_time": "2021-07-27T15:24:38.489Z"
   },
   {
    "duration": 94,
    "start_time": "2021-07-27T15:24:38.501Z"
   },
   {
    "duration": 14,
    "start_time": "2021-07-27T15:24:38.596Z"
   },
   {
    "duration": 100,
    "start_time": "2021-07-27T15:24:38.613Z"
   },
   {
    "duration": 40,
    "start_time": "2021-07-27T15:24:38.715Z"
   },
   {
    "duration": 10,
    "start_time": "2021-07-27T15:24:38.757Z"
   },
   {
    "duration": 41,
    "start_time": "2021-07-27T15:24:38.785Z"
   },
   {
    "duration": 22,
    "start_time": "2021-07-27T15:24:38.827Z"
   },
   {
    "duration": 12,
    "start_time": "2021-07-27T15:24:38.850Z"
   },
   {
    "duration": 138,
    "start_time": "2021-07-27T15:24:38.863Z"
   },
   {
    "duration": 8,
    "start_time": "2021-07-27T15:24:39.003Z"
   },
   {
    "duration": 9,
    "start_time": "2021-07-27T15:24:39.012Z"
   },
   {
    "duration": 11,
    "start_time": "2021-07-27T15:24:39.023Z"
   },
   {
    "duration": 13,
    "start_time": "2021-07-27T15:24:39.036Z"
   },
   {
    "duration": 58,
    "start_time": "2021-07-27T15:24:39.050Z"
   },
   {
    "duration": 5,
    "start_time": "2021-07-27T15:24:39.110Z"
   },
   {
    "duration": 38,
    "start_time": "2021-07-27T15:24:39.117Z"
   },
   {
    "duration": 33,
    "start_time": "2021-07-27T15:24:39.157Z"
   },
   {
    "duration": 11,
    "start_time": "2021-07-27T15:24:39.194Z"
   },
   {
    "duration": 498,
    "start_time": "2021-07-27T15:24:39.207Z"
   },
   {
    "duration": 18,
    "start_time": "2021-07-27T15:24:39.707Z"
   },
   {
    "duration": 7,
    "start_time": "2021-07-27T15:24:39.727Z"
   },
   {
    "duration": 14,
    "start_time": "2021-07-27T15:24:39.736Z"
   },
   {
    "duration": 54,
    "start_time": "2021-07-27T15:24:39.752Z"
   },
   {
    "duration": 3,
    "start_time": "2021-07-27T15:24:39.808Z"
   },
   {
    "duration": 43,
    "start_time": "2021-07-27T15:24:39.812Z"
   },
   {
    "duration": 41,
    "start_time": "2021-07-27T15:24:39.857Z"
   },
   {
    "duration": 4,
    "start_time": "2021-07-27T15:24:39.899Z"
   },
   {
    "duration": 4,
    "start_time": "2021-07-27T15:24:39.905Z"
   },
   {
    "duration": 44,
    "start_time": "2021-07-27T15:24:39.911Z"
   },
   {
    "duration": 6,
    "start_time": "2021-07-27T15:24:39.956Z"
   },
   {
    "duration": 24,
    "start_time": "2021-07-27T15:24:39.963Z"
   },
   {
    "duration": 11,
    "start_time": "2021-07-27T15:24:39.988Z"
   },
   {
    "duration": 13,
    "start_time": "2021-07-27T15:24:40.000Z"
   },
   {
    "duration": 228,
    "start_time": "2021-07-27T15:28:31.304Z"
   },
   {
    "duration": 171,
    "start_time": "2021-07-27T15:28:38.508Z"
   },
   {
    "duration": 12,
    "start_time": "2021-07-27T15:28:39.639Z"
   },
   {
    "duration": 175,
    "start_time": "2021-07-27T15:29:05.957Z"
   },
   {
    "duration": 10,
    "start_time": "2021-07-27T15:31:26.551Z"
   },
   {
    "duration": 10,
    "start_time": "2021-07-27T15:31:34.540Z"
   },
   {
    "duration": 11,
    "start_time": "2021-07-27T15:31:35.952Z"
   },
   {
    "duration": 11,
    "start_time": "2021-07-27T15:31:51.216Z"
   },
   {
    "duration": 10,
    "start_time": "2021-07-27T15:31:59.545Z"
   },
   {
    "duration": 4,
    "start_time": "2021-07-27T15:32:14.479Z"
   },
   {
    "duration": 14,
    "start_time": "2021-07-27T15:32:14.841Z"
   },
   {
    "duration": 660,
    "start_time": "2021-07-27T15:32:30.775Z"
   },
   {
    "duration": 137,
    "start_time": "2021-07-27T15:32:31.437Z"
   },
   {
    "duration": 19,
    "start_time": "2021-07-27T15:32:31.576Z"
   },
   {
    "duration": 2,
    "start_time": "2021-07-27T15:32:31.598Z"
   },
   {
    "duration": 14,
    "start_time": "2021-07-27T15:32:31.602Z"
   },
   {
    "duration": 97,
    "start_time": "2021-07-27T15:32:31.617Z"
   },
   {
    "duration": 13,
    "start_time": "2021-07-27T15:32:31.716Z"
   },
   {
    "duration": 104,
    "start_time": "2021-07-27T15:32:31.732Z"
   },
   {
    "duration": 47,
    "start_time": "2021-07-27T15:32:31.838Z"
   },
   {
    "duration": 11,
    "start_time": "2021-07-27T15:32:31.886Z"
   },
   {
    "duration": 48,
    "start_time": "2021-07-27T15:32:31.898Z"
   },
   {
    "duration": 21,
    "start_time": "2021-07-27T15:32:31.948Z"
   },
   {
    "duration": 24,
    "start_time": "2021-07-27T15:32:31.971Z"
   },
   {
    "duration": 124,
    "start_time": "2021-07-27T15:32:31.996Z"
   },
   {
    "duration": 8,
    "start_time": "2021-07-27T15:32:32.122Z"
   },
   {
    "duration": 21,
    "start_time": "2021-07-27T15:32:32.131Z"
   },
   {
    "duration": 25,
    "start_time": "2021-07-27T15:32:32.153Z"
   },
   {
    "duration": 29,
    "start_time": "2021-07-27T15:32:32.179Z"
   },
   {
    "duration": 38,
    "start_time": "2021-07-27T15:32:32.210Z"
   },
   {
    "duration": 4,
    "start_time": "2021-07-27T15:32:32.250Z"
   },
   {
    "duration": 58,
    "start_time": "2021-07-27T15:32:32.256Z"
   },
   {
    "duration": 14,
    "start_time": "2021-07-27T15:32:32.315Z"
   },
   {
    "duration": 8,
    "start_time": "2021-07-27T15:32:32.332Z"
   },
   {
    "duration": 489,
    "start_time": "2021-07-27T15:32:32.342Z"
   },
   {
    "duration": 17,
    "start_time": "2021-07-27T15:32:32.833Z"
   },
   {
    "duration": 19,
    "start_time": "2021-07-27T15:32:32.851Z"
   },
   {
    "duration": 23,
    "start_time": "2021-07-27T15:32:32.871Z"
   },
   {
    "duration": 35,
    "start_time": "2021-07-27T15:32:32.895Z"
   },
   {
    "duration": 3,
    "start_time": "2021-07-27T15:32:32.931Z"
   },
   {
    "duration": 61,
    "start_time": "2021-07-27T15:32:32.936Z"
   },
   {
    "duration": 21,
    "start_time": "2021-07-27T15:32:32.999Z"
   },
   {
    "duration": 5,
    "start_time": "2021-07-27T15:32:33.021Z"
   },
   {
    "duration": 29,
    "start_time": "2021-07-27T15:32:33.027Z"
   },
   {
    "duration": 63,
    "start_time": "2021-07-27T15:32:33.057Z"
   },
   {
    "duration": 6,
    "start_time": "2021-07-27T15:32:33.121Z"
   },
   {
    "duration": 22,
    "start_time": "2021-07-27T15:32:33.129Z"
   },
   {
    "duration": 9,
    "start_time": "2021-07-27T15:32:33.153Z"
   },
   {
    "duration": 28,
    "start_time": "2021-07-27T15:32:33.163Z"
   },
   {
    "duration": 33,
    "start_time": "2021-07-27T15:32:33.192Z"
   },
   {
    "duration": 10,
    "start_time": "2021-07-27T15:34:58.136Z"
   },
   {
    "duration": 4339,
    "start_time": "2021-07-27T15:35:29.601Z"
   },
   {
    "duration": 11,
    "start_time": "2021-07-27T15:35:54.406Z"
   },
   {
    "duration": 4288,
    "start_time": "2021-07-27T15:36:05.241Z"
   },
   {
    "duration": 4215,
    "start_time": "2021-07-27T15:36:24.319Z"
   },
   {
    "duration": 4284,
    "start_time": "2021-07-27T15:37:20.354Z"
   },
   {
    "duration": 4358,
    "start_time": "2021-07-27T15:37:34.898Z"
   },
   {
    "duration": 14,
    "start_time": "2021-07-27T15:37:53.662Z"
   },
   {
    "duration": 11,
    "start_time": "2021-07-27T15:37:56.162Z"
   },
   {
    "duration": 596,
    "start_time": "2021-07-27T15:38:17.417Z"
   },
   {
    "duration": 137,
    "start_time": "2021-07-27T15:38:18.015Z"
   },
   {
    "duration": 15,
    "start_time": "2021-07-27T15:38:18.154Z"
   },
   {
    "duration": 14,
    "start_time": "2021-07-27T15:38:18.170Z"
   },
   {
    "duration": 16,
    "start_time": "2021-07-27T15:38:18.186Z"
   },
   {
    "duration": 92,
    "start_time": "2021-07-27T15:38:18.203Z"
   },
   {
    "duration": 15,
    "start_time": "2021-07-27T15:38:18.296Z"
   },
   {
    "duration": 101,
    "start_time": "2021-07-27T15:38:18.313Z"
   },
   {
    "duration": 41,
    "start_time": "2021-07-27T15:38:18.415Z"
   },
   {
    "duration": 10,
    "start_time": "2021-07-27T15:38:18.458Z"
   },
   {
    "duration": 44,
    "start_time": "2021-07-27T15:38:18.485Z"
   },
   {
    "duration": 21,
    "start_time": "2021-07-27T15:38:18.531Z"
   },
   {
    "duration": 14,
    "start_time": "2021-07-27T15:38:18.554Z"
   },
   {
    "duration": 121,
    "start_time": "2021-07-27T15:38:18.585Z"
   },
   {
    "duration": 8,
    "start_time": "2021-07-27T15:38:18.707Z"
   },
   {
    "duration": 9,
    "start_time": "2021-07-27T15:38:18.716Z"
   },
   {
    "duration": 12,
    "start_time": "2021-07-27T15:38:18.726Z"
   },
   {
    "duration": 11,
    "start_time": "2021-07-27T15:38:18.740Z"
   },
   {
    "duration": 57,
    "start_time": "2021-07-27T15:38:18.753Z"
   },
   {
    "duration": 5,
    "start_time": "2021-07-27T15:38:18.811Z"
   },
   {
    "duration": 37,
    "start_time": "2021-07-27T15:38:18.817Z"
   },
   {
    "duration": 33,
    "start_time": "2021-07-27T15:38:18.856Z"
   },
   {
    "duration": 7,
    "start_time": "2021-07-27T15:38:18.892Z"
   },
   {
    "duration": 499,
    "start_time": "2021-07-27T15:38:18.900Z"
   },
   {
    "duration": 17,
    "start_time": "2021-07-27T15:38:19.401Z"
   },
   {
    "duration": 6,
    "start_time": "2021-07-27T15:38:19.420Z"
   },
   {
    "duration": 12,
    "start_time": "2021-07-27T15:38:19.428Z"
   },
   {
    "duration": 53,
    "start_time": "2021-07-27T15:38:19.441Z"
   },
   {
    "duration": 3,
    "start_time": "2021-07-27T15:38:19.496Z"
   },
   {
    "duration": 47,
    "start_time": "2021-07-27T15:38:19.501Z"
   },
   {
    "duration": 46,
    "start_time": "2021-07-27T15:38:19.550Z"
   },
   {
    "duration": 6,
    "start_time": "2021-07-27T15:38:19.598Z"
   },
   {
    "duration": 5,
    "start_time": "2021-07-27T15:38:19.605Z"
   },
   {
    "duration": 44,
    "start_time": "2021-07-27T15:38:19.612Z"
   },
   {
    "duration": 28,
    "start_time": "2021-07-27T15:38:19.657Z"
   },
   {
    "duration": 5,
    "start_time": "2021-07-27T15:38:19.687Z"
   },
   {
    "duration": 12,
    "start_time": "2021-07-27T15:38:19.694Z"
   },
   {
    "duration": 5,
    "start_time": "2021-07-27T15:38:19.708Z"
   },
   {
    "duration": 12,
    "start_time": "2021-07-27T15:38:19.714Z"
   },
   {
    "duration": 4563,
    "start_time": "2021-07-27T15:38:30.692Z"
   },
   {
    "duration": 10,
    "start_time": "2021-07-27T15:38:41.216Z"
   },
   {
    "duration": 11,
    "start_time": "2021-07-27T15:38:46.217Z"
   },
   {
    "duration": 11,
    "start_time": "2021-07-27T15:38:53.651Z"
   },
   {
    "duration": 11,
    "start_time": "2021-07-27T15:39:25.788Z"
   },
   {
    "duration": 4346,
    "start_time": "2021-07-27T15:43:31.850Z"
   },
   {
    "duration": 5,
    "start_time": "2021-07-27T15:43:39.742Z"
   },
   {
    "duration": 4,
    "start_time": "2021-07-27T15:43:57.516Z"
   },
   {
    "duration": 38,
    "start_time": "2021-07-27T15:53:02.635Z"
   },
   {
    "duration": 179,
    "start_time": "2021-07-27T16:05:56.096Z"
   },
   {
    "duration": 210,
    "start_time": "2021-07-27T16:06:13.990Z"
   },
   {
    "duration": 571,
    "start_time": "2021-07-27T16:06:17.940Z"
   },
   {
    "duration": 137,
    "start_time": "2021-07-27T16:06:18.512Z"
   },
   {
    "duration": 15,
    "start_time": "2021-07-27T16:06:18.651Z"
   },
   {
    "duration": 3,
    "start_time": "2021-07-27T16:06:18.668Z"
   },
   {
    "duration": 9,
    "start_time": "2021-07-27T16:06:18.685Z"
   },
   {
    "duration": 89,
    "start_time": "2021-07-27T16:06:18.696Z"
   },
   {
    "duration": 13,
    "start_time": "2021-07-27T16:06:18.787Z"
   },
   {
    "duration": 100,
    "start_time": "2021-07-27T16:06:18.802Z"
   },
   {
    "duration": 39,
    "start_time": "2021-07-27T16:06:18.904Z"
   },
   {
    "duration": 10,
    "start_time": "2021-07-27T16:06:18.944Z"
   },
   {
    "duration": 64,
    "start_time": "2021-07-27T16:06:18.956Z"
   },
   {
    "duration": 23,
    "start_time": "2021-07-27T16:06:19.022Z"
   },
   {
    "duration": 13,
    "start_time": "2021-07-27T16:06:19.047Z"
   },
   {
    "duration": 136,
    "start_time": "2021-07-27T16:06:19.061Z"
   },
   {
    "duration": 8,
    "start_time": "2021-07-27T16:06:19.198Z"
   },
   {
    "duration": 9,
    "start_time": "2021-07-27T16:06:19.207Z"
   },
   {
    "duration": 11,
    "start_time": "2021-07-27T16:06:19.217Z"
   },
   {
    "duration": 11,
    "start_time": "2021-07-27T16:06:19.229Z"
   },
   {
    "duration": 57,
    "start_time": "2021-07-27T16:06:19.242Z"
   },
   {
    "duration": 5,
    "start_time": "2021-07-27T16:06:19.300Z"
   },
   {
    "duration": 39,
    "start_time": "2021-07-27T16:06:19.307Z"
   },
   {
    "duration": 13,
    "start_time": "2021-07-27T16:06:19.348Z"
   },
   {
    "duration": 6,
    "start_time": "2021-07-27T16:06:19.386Z"
   },
   {
    "duration": 481,
    "start_time": "2021-07-27T16:06:19.394Z"
   },
   {
    "duration": 16,
    "start_time": "2021-07-27T16:06:19.884Z"
   },
   {
    "duration": 6,
    "start_time": "2021-07-27T16:06:19.901Z"
   },
   {
    "duration": 12,
    "start_time": "2021-07-27T16:06:19.909Z"
   },
   {
    "duration": 27,
    "start_time": "2021-07-27T16:06:19.922Z"
   },
   {
    "duration": 3,
    "start_time": "2021-07-27T16:06:19.951Z"
   },
   {
    "duration": 67,
    "start_time": "2021-07-27T16:06:19.955Z"
   },
   {
    "duration": 21,
    "start_time": "2021-07-27T16:06:20.024Z"
   },
   {
    "duration": 4,
    "start_time": "2021-07-27T16:06:20.046Z"
   },
   {
    "duration": 6,
    "start_time": "2021-07-27T16:06:20.052Z"
   },
   {
    "duration": 62,
    "start_time": "2021-07-27T16:06:20.060Z"
   },
   {
    "duration": 6,
    "start_time": "2021-07-27T16:06:20.124Z"
   },
   {
    "duration": 7,
    "start_time": "2021-07-27T16:06:20.131Z"
   },
   {
    "duration": 8,
    "start_time": "2021-07-27T16:06:20.140Z"
   },
   {
    "duration": 228,
    "start_time": "2021-07-27T16:06:20.149Z"
   },
   {
    "duration": -981185,
    "start_time": "2021-07-27T16:22:41.564Z"
   },
   {
    "duration": -981190,
    "start_time": "2021-07-27T16:22:41.570Z"
   },
   {
    "duration": -981205,
    "start_time": "2021-07-27T16:22:41.586Z"
   },
   {
    "duration": 14,
    "start_time": "2021-07-27T16:06:55.197Z"
   },
   {
    "duration": 617,
    "start_time": "2021-07-27T16:07:25.025Z"
   },
   {
    "duration": 142,
    "start_time": "2021-07-27T16:07:25.644Z"
   },
   {
    "duration": 15,
    "start_time": "2021-07-27T16:07:25.788Z"
   },
   {
    "duration": 2,
    "start_time": "2021-07-27T16:07:25.805Z"
   },
   {
    "duration": 15,
    "start_time": "2021-07-27T16:07:25.809Z"
   },
   {
    "duration": 100,
    "start_time": "2021-07-27T16:07:25.826Z"
   },
   {
    "duration": 14,
    "start_time": "2021-07-27T16:07:25.927Z"
   },
   {
    "duration": 111,
    "start_time": "2021-07-27T16:07:25.943Z"
   },
   {
    "duration": 49,
    "start_time": "2021-07-27T16:07:26.056Z"
   },
   {
    "duration": 11,
    "start_time": "2021-07-27T16:07:26.106Z"
   },
   {
    "duration": 42,
    "start_time": "2021-07-27T16:07:26.118Z"
   },
   {
    "duration": 36,
    "start_time": "2021-07-27T16:07:26.162Z"
   },
   {
    "duration": 13,
    "start_time": "2021-07-27T16:07:26.200Z"
   },
   {
    "duration": 137,
    "start_time": "2021-07-27T16:07:26.214Z"
   },
   {
    "duration": 8,
    "start_time": "2021-07-27T16:07:26.353Z"
   },
   {
    "duration": 22,
    "start_time": "2021-07-27T16:07:26.363Z"
   },
   {
    "duration": 13,
    "start_time": "2021-07-27T16:07:26.386Z"
   },
   {
    "duration": 14,
    "start_time": "2021-07-27T16:07:26.401Z"
   },
   {
    "duration": 34,
    "start_time": "2021-07-27T16:07:26.417Z"
   },
   {
    "duration": 5,
    "start_time": "2021-07-27T16:07:26.453Z"
   },
   {
    "duration": 65,
    "start_time": "2021-07-27T16:07:26.459Z"
   },
   {
    "duration": 13,
    "start_time": "2021-07-27T16:07:26.525Z"
   },
   {
    "duration": 11,
    "start_time": "2021-07-27T16:07:26.541Z"
   },
   {
    "duration": 497,
    "start_time": "2021-07-27T16:07:26.554Z"
   },
   {
    "duration": 18,
    "start_time": "2021-07-27T16:07:27.053Z"
   },
   {
    "duration": 18,
    "start_time": "2021-07-27T16:07:27.073Z"
   },
   {
    "duration": 14,
    "start_time": "2021-07-27T16:07:27.092Z"
   },
   {
    "duration": 28,
    "start_time": "2021-07-27T16:07:27.108Z"
   },
   {
    "duration": 3,
    "start_time": "2021-07-27T16:07:27.138Z"
   },
   {
    "duration": 74,
    "start_time": "2021-07-27T16:07:27.142Z"
   },
   {
    "duration": 21,
    "start_time": "2021-07-27T16:07:27.218Z"
   },
   {
    "duration": 4,
    "start_time": "2021-07-27T16:07:27.241Z"
   },
   {
    "duration": 3,
    "start_time": "2021-07-27T16:07:27.247Z"
   },
   {
    "duration": 69,
    "start_time": "2021-07-27T16:07:27.252Z"
   },
   {
    "duration": 6,
    "start_time": "2021-07-27T16:07:27.322Z"
   },
   {
    "duration": 8,
    "start_time": "2021-07-27T16:07:27.329Z"
   },
   {
    "duration": 9,
    "start_time": "2021-07-27T16:07:27.339Z"
   },
   {
    "duration": 247,
    "start_time": "2021-07-27T16:07:27.349Z"
   },
   {
    "duration": -982001,
    "start_time": "2021-07-27T16:23:49.598Z"
   },
   {
    "duration": -982016,
    "start_time": "2021-07-27T16:23:49.614Z"
   },
   {
    "duration": -982023,
    "start_time": "2021-07-27T16:23:49.622Z"
   },
   {
    "duration": 14,
    "start_time": "2021-07-27T16:07:37.498Z"
   },
   {
    "duration": 179,
    "start_time": "2021-07-27T16:07:57.678Z"
   },
   {
    "duration": 4,
    "start_time": "2021-07-27T16:08:35.638Z"
   },
   {
    "duration": 5308,
    "start_time": "2021-07-27T16:08:36.528Z"
   },
   {
    "duration": 4153,
    "start_time": "2021-07-27T16:08:55.835Z"
   },
   {
    "duration": 4370,
    "start_time": "2021-07-27T16:09:19.354Z"
   },
   {
    "duration": 4138,
    "start_time": "2021-07-27T16:09:47.533Z"
   },
   {
    "duration": 4349,
    "start_time": "2021-07-27T16:09:58.249Z"
   },
   {
    "duration": 4457,
    "start_time": "2021-07-27T16:10:06.986Z"
   },
   {
    "duration": 4208,
    "start_time": "2021-07-27T16:10:26.561Z"
   },
   {
    "duration": 62,
    "start_time": "2021-07-27T16:11:12.739Z"
   },
   {
    "duration": 4205,
    "start_time": "2021-07-27T16:11:22.008Z"
   },
   {
    "duration": 4244,
    "start_time": "2021-07-27T16:11:37.973Z"
   },
   {
    "duration": 184,
    "start_time": "2021-07-27T16:11:45.424Z"
   },
   {
    "duration": 171,
    "start_time": "2021-07-27T16:13:41.740Z"
   },
   {
    "duration": 196,
    "start_time": "2021-07-27T16:14:01.530Z"
   },
   {
    "duration": 187,
    "start_time": "2021-07-27T16:14:11.546Z"
   },
   {
    "duration": 187,
    "start_time": "2021-07-27T16:14:32.777Z"
   },
   {
    "duration": 178,
    "start_time": "2021-07-27T16:14:41.586Z"
   },
   {
    "duration": 4094,
    "start_time": "2021-07-27T16:14:52.217Z"
   },
   {
    "duration": 174,
    "start_time": "2021-07-27T16:14:58.078Z"
   },
   {
    "duration": 327,
    "start_time": "2021-07-27T16:15:11.223Z"
   },
   {
    "duration": 176,
    "start_time": "2021-07-27T16:15:22.786Z"
   },
   {
    "duration": 188,
    "start_time": "2021-07-27T16:15:31.442Z"
   },
   {
    "duration": 290,
    "start_time": "2021-07-27T16:15:56.911Z"
   },
   {
    "duration": 740,
    "start_time": "2021-07-27T16:16:22.473Z"
   },
   {
    "duration": 183,
    "start_time": "2021-07-27T16:22:00.382Z"
   },
   {
    "duration": 211,
    "start_time": "2021-07-27T16:22:29.489Z"
   },
   {
    "duration": 175,
    "start_time": "2021-07-27T16:23:19.633Z"
   },
   {
    "duration": 166,
    "start_time": "2021-07-27T16:23:27.587Z"
   },
   {
    "duration": 168,
    "start_time": "2021-07-27T16:23:37.942Z"
   },
   {
    "duration": 169,
    "start_time": "2021-07-27T16:23:43.571Z"
   },
   {
    "duration": 179,
    "start_time": "2021-07-27T16:23:48.597Z"
   },
   {
    "duration": 62,
    "start_time": "2021-07-27T16:23:54.309Z"
   },
   {
    "duration": 8,
    "start_time": "2021-07-27T16:24:03.704Z"
   },
   {
    "duration": 214,
    "start_time": "2021-07-27T16:25:16.016Z"
   },
   {
    "duration": 186,
    "start_time": "2021-07-27T16:25:27.119Z"
   },
   {
    "duration": 8,
    "start_time": "2021-07-27T16:25:32.553Z"
   },
   {
    "duration": 592,
    "start_time": "2021-07-27T16:25:48.124Z"
   },
   {
    "duration": 136,
    "start_time": "2021-07-27T16:25:48.718Z"
   },
   {
    "duration": 14,
    "start_time": "2021-07-27T16:25:48.856Z"
   },
   {
    "duration": 13,
    "start_time": "2021-07-27T16:25:48.872Z"
   },
   {
    "duration": 9,
    "start_time": "2021-07-27T16:25:48.887Z"
   },
   {
    "duration": 95,
    "start_time": "2021-07-27T16:25:48.898Z"
   },
   {
    "duration": 14,
    "start_time": "2021-07-27T16:25:48.995Z"
   },
   {
    "duration": 101,
    "start_time": "2021-07-27T16:25:49.011Z"
   },
   {
    "duration": 37,
    "start_time": "2021-07-27T16:25:49.114Z"
   },
   {
    "duration": 9,
    "start_time": "2021-07-27T16:25:49.153Z"
   },
   {
    "duration": 57,
    "start_time": "2021-07-27T16:25:49.164Z"
   },
   {
    "duration": 22,
    "start_time": "2021-07-27T16:25:49.222Z"
   },
   {
    "duration": 12,
    "start_time": "2021-07-27T16:25:49.246Z"
   },
   {
    "duration": 140,
    "start_time": "2021-07-27T16:25:49.259Z"
   },
   {
    "duration": 8,
    "start_time": "2021-07-27T16:25:49.400Z"
   },
   {
    "duration": 11,
    "start_time": "2021-07-27T16:25:49.410Z"
   },
   {
    "duration": 13,
    "start_time": "2021-07-27T16:25:49.422Z"
   },
   {
    "duration": 13,
    "start_time": "2021-07-27T16:25:49.436Z"
   },
   {
    "duration": 60,
    "start_time": "2021-07-27T16:25:49.451Z"
   },
   {
    "duration": 7,
    "start_time": "2021-07-27T16:25:49.513Z"
   },
   {
    "duration": 66,
    "start_time": "2021-07-27T16:25:49.522Z"
   },
   {
    "duration": 14,
    "start_time": "2021-07-27T16:25:49.590Z"
   },
   {
    "duration": 7,
    "start_time": "2021-07-27T16:25:49.607Z"
   },
   {
    "duration": 489,
    "start_time": "2021-07-27T16:25:49.616Z"
   },
   {
    "duration": 17,
    "start_time": "2021-07-27T16:25:50.107Z"
   },
   {
    "duration": 5,
    "start_time": "2021-07-27T16:25:50.126Z"
   },
   {
    "duration": 12,
    "start_time": "2021-07-27T16:25:50.133Z"
   },
   {
    "duration": 53,
    "start_time": "2021-07-27T16:25:50.147Z"
   },
   {
    "duration": 2,
    "start_time": "2021-07-27T16:25:50.202Z"
   },
   {
    "duration": 43,
    "start_time": "2021-07-27T16:25:50.206Z"
   },
   {
    "duration": 36,
    "start_time": "2021-07-27T16:25:50.251Z"
   },
   {
    "duration": 4,
    "start_time": "2021-07-27T16:25:50.289Z"
   },
   {
    "duration": 4,
    "start_time": "2021-07-27T16:25:50.294Z"
   },
   {
    "duration": 43,
    "start_time": "2021-07-27T16:25:50.300Z"
   },
   {
    "duration": 6,
    "start_time": "2021-07-27T16:25:50.345Z"
   },
   {
    "duration": 7,
    "start_time": "2021-07-27T16:25:50.353Z"
   },
   {
    "duration": 26,
    "start_time": "2021-07-27T16:25:50.361Z"
   },
   {
    "duration": 5,
    "start_time": "2021-07-27T16:25:50.389Z"
   },
   {
    "duration": 4,
    "start_time": "2021-07-27T16:25:53.538Z"
   },
   {
    "duration": 7,
    "start_time": "2021-07-27T16:25:54.391Z"
   },
   {
    "duration": 4,
    "start_time": "2021-07-27T16:25:58.970Z"
   },
   {
    "duration": 7,
    "start_time": "2021-07-27T16:25:59.812Z"
   },
   {
    "duration": 4,
    "start_time": "2021-07-27T16:26:03.724Z"
   },
   {
    "duration": 7,
    "start_time": "2021-07-27T16:26:04.261Z"
   },
   {
    "duration": 2,
    "start_time": "2021-07-27T16:26:10.353Z"
   },
   {
    "duration": 134,
    "start_time": "2021-07-27T16:26:10.359Z"
   },
   {
    "duration": 14,
    "start_time": "2021-07-27T16:26:10.495Z"
   },
   {
    "duration": 2,
    "start_time": "2021-07-27T16:26:10.511Z"
   },
   {
    "duration": 10,
    "start_time": "2021-07-27T16:26:10.515Z"
   },
   {
    "duration": 96,
    "start_time": "2021-07-27T16:26:10.526Z"
   },
   {
    "duration": 15,
    "start_time": "2021-07-27T16:26:10.623Z"
   },
   {
    "duration": 107,
    "start_time": "2021-07-27T16:26:10.639Z"
   },
   {
    "duration": 44,
    "start_time": "2021-07-27T16:26:10.748Z"
   },
   {
    "duration": 11,
    "start_time": "2021-07-27T16:26:10.794Z"
   },
   {
    "duration": 34,
    "start_time": "2021-07-27T16:26:10.806Z"
   },
   {
    "duration": 44,
    "start_time": "2021-07-27T16:26:10.841Z"
   },
   {
    "duration": 12,
    "start_time": "2021-07-27T16:26:10.886Z"
   },
   {
    "duration": 123,
    "start_time": "2021-07-27T16:26:10.900Z"
   },
   {
    "duration": 8,
    "start_time": "2021-07-27T16:26:11.024Z"
   },
   {
    "duration": 11,
    "start_time": "2021-07-27T16:26:11.034Z"
   },
   {
    "duration": 13,
    "start_time": "2021-07-27T16:26:11.047Z"
   },
   {
    "duration": 12,
    "start_time": "2021-07-27T16:26:11.085Z"
   },
   {
    "duration": 29,
    "start_time": "2021-07-27T16:26:11.098Z"
   },
   {
    "duration": 6,
    "start_time": "2021-07-27T16:26:11.129Z"
   },
   {
    "duration": 67,
    "start_time": "2021-07-27T16:26:11.137Z"
   },
   {
    "duration": 15,
    "start_time": "2021-07-27T16:26:11.206Z"
   },
   {
    "duration": 6,
    "start_time": "2021-07-27T16:26:11.223Z"
   },
   {
    "duration": 475,
    "start_time": "2021-07-27T16:26:11.233Z"
   },
   {
    "duration": 17,
    "start_time": "2021-07-27T16:26:11.711Z"
   },
   {
    "duration": 8,
    "start_time": "2021-07-27T16:26:11.729Z"
   },
   {
    "duration": 12,
    "start_time": "2021-07-27T16:26:11.739Z"
   },
   {
    "duration": 57,
    "start_time": "2021-07-27T16:26:11.753Z"
   },
   {
    "duration": 4,
    "start_time": "2021-07-27T16:26:11.812Z"
   },
   {
    "duration": 41,
    "start_time": "2021-07-27T16:26:11.818Z"
   },
   {
    "duration": 43,
    "start_time": "2021-07-27T16:26:11.861Z"
   },
   {
    "duration": 5,
    "start_time": "2021-07-27T16:26:11.906Z"
   },
   {
    "duration": 6,
    "start_time": "2021-07-27T16:26:11.913Z"
   },
   {
    "duration": 75,
    "start_time": "2021-07-27T16:26:11.920Z"
   },
   {
    "duration": 6,
    "start_time": "2021-07-27T16:26:11.997Z"
   },
   {
    "duration": 6,
    "start_time": "2021-07-27T16:26:12.005Z"
   },
   {
    "duration": 78,
    "start_time": "2021-07-27T16:26:12.013Z"
   },
   {
    "duration": 4,
    "start_time": "2021-07-27T16:26:20.337Z"
   },
   {
    "duration": 7,
    "start_time": "2021-07-27T16:26:21.636Z"
   },
   {
    "duration": 18,
    "start_time": "2021-07-27T16:26:26.041Z"
   },
   {
    "duration": 11,
    "start_time": "2021-07-27T16:26:30.439Z"
   },
   {
    "duration": 11,
    "start_time": "2021-07-27T16:26:41.792Z"
   },
   {
    "duration": 4265,
    "start_time": "2021-07-27T16:26:46.653Z"
   },
   {
    "duration": 11,
    "start_time": "2021-07-27T16:26:51.108Z"
   },
   {
    "duration": 12,
    "start_time": "2021-07-27T16:26:55.635Z"
   },
   {
    "duration": -981291,
    "start_time": "2021-07-27T16:43:26.153Z"
   },
   {
    "duration": 4283,
    "start_time": "2021-07-27T16:27:06.929Z"
   },
   {
    "duration": 587,
    "start_time": "2021-07-27T16:27:20.745Z"
   },
   {
    "duration": 137,
    "start_time": "2021-07-27T16:27:21.333Z"
   },
   {
    "duration": 18,
    "start_time": "2021-07-27T16:27:21.472Z"
   },
   {
    "duration": 3,
    "start_time": "2021-07-27T16:27:21.491Z"
   },
   {
    "duration": 11,
    "start_time": "2021-07-27T16:27:21.495Z"
   },
   {
    "duration": 101,
    "start_time": "2021-07-27T16:27:21.507Z"
   },
   {
    "duration": 14,
    "start_time": "2021-07-27T16:27:21.609Z"
   },
   {
    "duration": 102,
    "start_time": "2021-07-27T16:27:21.625Z"
   },
   {
    "duration": 39,
    "start_time": "2021-07-27T16:27:21.729Z"
   },
   {
    "duration": 23,
    "start_time": "2021-07-27T16:27:21.770Z"
   },
   {
    "duration": 44,
    "start_time": "2021-07-27T16:27:21.794Z"
   },
   {
    "duration": 22,
    "start_time": "2021-07-27T16:27:21.839Z"
   },
   {
    "duration": 27,
    "start_time": "2021-07-27T16:27:21.862Z"
   },
   {
    "duration": 127,
    "start_time": "2021-07-27T16:27:21.891Z"
   },
   {
    "duration": 7,
    "start_time": "2021-07-27T16:27:22.019Z"
   },
   {
    "duration": 9,
    "start_time": "2021-07-27T16:27:22.027Z"
   },
   {
    "duration": 12,
    "start_time": "2021-07-27T16:27:22.037Z"
   },
   {
    "duration": 35,
    "start_time": "2021-07-27T16:27:22.050Z"
   },
   {
    "duration": 30,
    "start_time": "2021-07-27T16:27:22.087Z"
   },
   {
    "duration": 5,
    "start_time": "2021-07-27T16:27:22.118Z"
   },
   {
    "duration": 64,
    "start_time": "2021-07-27T16:27:22.125Z"
   },
   {
    "duration": 13,
    "start_time": "2021-07-27T16:27:22.190Z"
   },
   {
    "duration": 6,
    "start_time": "2021-07-27T16:27:22.207Z"
   },
   {
    "duration": 490,
    "start_time": "2021-07-27T16:27:22.215Z"
   },
   {
    "duration": 16,
    "start_time": "2021-07-27T16:27:22.707Z"
   },
   {
    "duration": 6,
    "start_time": "2021-07-27T16:27:22.724Z"
   },
   {
    "duration": 12,
    "start_time": "2021-07-27T16:27:22.732Z"
   },
   {
    "duration": 53,
    "start_time": "2021-07-27T16:27:22.745Z"
   },
   {
    "duration": 3,
    "start_time": "2021-07-27T16:27:22.800Z"
   },
   {
    "duration": 44,
    "start_time": "2021-07-27T16:27:22.805Z"
   },
   {
    "duration": 38,
    "start_time": "2021-07-27T16:27:22.851Z"
   },
   {
    "duration": 4,
    "start_time": "2021-07-27T16:27:22.891Z"
   },
   {
    "duration": 5,
    "start_time": "2021-07-27T16:27:22.897Z"
   },
   {
    "duration": 49,
    "start_time": "2021-07-27T16:27:22.903Z"
   },
   {
    "duration": 7,
    "start_time": "2021-07-27T16:27:22.953Z"
   },
   {
    "duration": 26,
    "start_time": "2021-07-27T16:27:22.961Z"
   },
   {
    "duration": 8,
    "start_time": "2021-07-27T16:27:22.989Z"
   },
   {
    "duration": 5,
    "start_time": "2021-07-27T16:27:22.999Z"
   },
   {
    "duration": 11,
    "start_time": "2021-07-27T16:27:23.005Z"
   },
   {
    "duration": 14,
    "start_time": "2021-07-27T16:27:29.170Z"
   },
   {
    "duration": 11,
    "start_time": "2021-07-27T16:27:34.095Z"
   },
   {
    "duration": 5,
    "start_time": "2021-07-27T16:28:32.945Z"
   },
   {
    "duration": 38,
    "start_time": "2021-07-27T16:29:17.358Z"
   },
   {
    "duration": 5,
    "start_time": "2021-07-27T16:31:43.013Z"
   },
   {
    "duration": 9,
    "start_time": "2021-07-27T16:31:51.149Z"
   },
   {
    "duration": 38,
    "start_time": "2021-07-27T17:04:06.265Z"
   },
   {
    "duration": 222,
    "start_time": "2021-07-27T17:04:47.808Z"
   },
   {
    "duration": 20,
    "start_time": "2021-07-27T17:05:17.810Z"
   },
   {
    "duration": 21,
    "start_time": "2021-07-27T17:05:32.044Z"
   },
   {
    "duration": 52,
    "start_time": "2021-07-27T17:05:42.492Z"
   },
   {
    "duration": 61,
    "start_time": "2021-07-27T17:05:57.544Z"
   },
   {
    "duration": 22,
    "start_time": "2021-07-27T17:06:01.892Z"
   },
   {
    "duration": 23,
    "start_time": "2021-07-27T17:06:25.638Z"
   },
   {
    "duration": 171,
    "start_time": "2021-07-27T17:10:23.033Z"
   },
   {
    "duration": 290,
    "start_time": "2021-07-27T17:10:33.196Z"
   },
   {
    "duration": 459,
    "start_time": "2021-07-27T17:12:49.365Z"
   },
   {
    "duration": 292,
    "start_time": "2021-07-27T17:12:59.800Z"
   },
   {
    "duration": 7,
    "start_time": "2021-07-27T17:13:08.001Z"
   },
   {
    "duration": 328,
    "start_time": "2021-07-27T17:13:23.151Z"
   },
   {
    "duration": 8,
    "start_time": "2021-07-27T17:13:24.769Z"
   },
   {
    "duration": 291,
    "start_time": "2021-07-27T17:13:53.816Z"
   },
   {
    "duration": 4,
    "start_time": "2021-07-27T17:13:54.322Z"
   },
   {
    "duration": 9,
    "start_time": "2021-07-27T17:13:55.411Z"
   },
   {
    "duration": 113,
    "start_time": "2021-07-27T18:08:40.154Z"
   },
   {
    "duration": 23,
    "start_time": "2021-07-27T18:08:51.042Z"
   },
   {
    "duration": 1341,
    "start_time": "2021-07-27T18:09:02.288Z"
   },
   {
    "duration": 114,
    "start_time": "2021-07-27T18:09:10.856Z"
   },
   {
    "duration": 18,
    "start_time": "2021-07-27T18:09:42.295Z"
   },
   {
    "duration": 235,
    "start_time": "2021-07-27T18:16:28.616Z"
   },
   {
    "duration": 61,
    "start_time": "2021-07-27T18:16:36.191Z"
   },
   {
    "duration": 170,
    "start_time": "2021-07-27T18:16:52.081Z"
   },
   {
    "duration": 290,
    "start_time": "2021-07-27T18:16:58.816Z"
   },
   {
    "duration": 457,
    "start_time": "2021-07-27T18:17:34.363Z"
   },
   {
    "duration": 286,
    "start_time": "2021-07-27T18:17:56.535Z"
   },
   {
    "duration": 42,
    "start_time": "2021-07-27T18:18:35.566Z"
   },
   {
    "duration": 296,
    "start_time": "2021-07-27T18:20:20.856Z"
   },
   {
    "duration": 4,
    "start_time": "2021-07-27T18:20:22.529Z"
   },
   {
    "duration": 9,
    "start_time": "2021-07-27T18:20:25.281Z"
   },
   {
    "duration": 182,
    "start_time": "2021-07-27T18:23:07.958Z"
   },
   {
    "duration": 424,
    "start_time": "2021-07-27T18:23:40.037Z"
   },
   {
    "duration": 5,
    "start_time": "2021-07-27T18:26:54.186Z"
   },
   {
    "duration": 287,
    "start_time": "2021-07-27T20:58:57.463Z"
   },
   {
    "duration": 3,
    "start_time": "2021-07-27T20:59:31.453Z"
   },
   {
    "duration": 6,
    "start_time": "2021-07-27T21:01:18.379Z"
   },
   {
    "duration": 5,
    "start_time": "2021-07-27T21:01:32.376Z"
   },
   {
    "duration": 5,
    "start_time": "2021-07-27T21:04:23.126Z"
   },
   {
    "duration": 6,
    "start_time": "2021-07-27T21:04:44.002Z"
   },
   {
    "duration": 5,
    "start_time": "2021-07-27T21:04:49.272Z"
   },
   {
    "duration": 5,
    "start_time": "2021-07-27T21:04:55.892Z"
   },
   {
    "duration": 5,
    "start_time": "2021-07-27T21:05:11.170Z"
   },
   {
    "duration": 5,
    "start_time": "2021-07-27T21:05:17.578Z"
   },
   {
    "duration": 5,
    "start_time": "2021-07-27T21:08:02.486Z"
   },
   {
    "duration": 6,
    "start_time": "2021-07-27T21:08:12.758Z"
   },
   {
    "duration": 292,
    "start_time": "2021-07-27T21:09:45.217Z"
   },
   {
    "duration": 5,
    "start_time": "2021-07-27T21:09:48.857Z"
   },
   {
    "duration": 4,
    "start_time": "2021-07-27T21:12:40.118Z"
   },
   {
    "duration": 198,
    "start_time": "2021-07-27T21:13:29.734Z"
   },
   {
    "duration": 181,
    "start_time": "2021-07-27T21:14:06.623Z"
   },
   {
    "duration": 296,
    "start_time": "2021-07-27T21:14:39.324Z"
   },
   {
    "duration": 4,
    "start_time": "2021-07-27T21:14:43.029Z"
   },
   {
    "duration": 207,
    "start_time": "2021-07-27T21:14:44.504Z"
   },
   {
    "duration": 204,
    "start_time": "2021-07-27T21:15:09.123Z"
   },
   {
    "duration": 195,
    "start_time": "2021-07-27T21:15:14.381Z"
   },
   {
    "duration": 183,
    "start_time": "2021-07-27T21:15:25.605Z"
   },
   {
    "duration": 313,
    "start_time": "2021-07-27T21:15:38.382Z"
   },
   {
    "duration": 3469,
    "start_time": "2021-07-27T21:15:59.918Z"
   },
   {
    "duration": 174,
    "start_time": "2021-07-27T21:16:14.533Z"
   },
   {
    "duration": 180,
    "start_time": "2021-07-27T21:16:26.833Z"
   },
   {
    "duration": 3310,
    "start_time": "2021-07-27T21:17:43.402Z"
   },
   {
    "duration": 4247,
    "start_time": "2021-07-27T21:18:11.005Z"
   },
   {
    "duration": 3376,
    "start_time": "2021-07-27T21:18:37.832Z"
   },
   {
    "duration": 2,
    "start_time": "2021-07-27T21:19:04.177Z"
   },
   {
    "duration": 3,
    "start_time": "2021-07-27T21:19:24.815Z"
   },
   {
    "duration": 3683,
    "start_time": "2021-07-27T21:19:25.669Z"
   },
   {
    "duration": 3152,
    "start_time": "2021-07-27T21:19:33.553Z"
   },
   {
    "duration": 201,
    "start_time": "2021-07-27T21:23:15.026Z"
   },
   {
    "duration": 3236,
    "start_time": "2021-07-27T21:23:27.895Z"
   },
   {
    "duration": 179,
    "start_time": "2021-07-27T21:23:56.628Z"
   },
   {
    "duration": 179,
    "start_time": "2021-07-27T21:26:09.900Z"
   },
   {
    "duration": 3458,
    "start_time": "2021-07-27T21:26:19.330Z"
   },
   {
    "duration": 3634,
    "start_time": "2021-07-27T21:26:32.927Z"
   },
   {
    "duration": 4358,
    "start_time": "2021-07-27T21:35:29.450Z"
   },
   {
    "duration": 4734,
    "start_time": "2021-07-27T21:36:13.453Z"
   },
   {
    "duration": -981364,
    "start_time": "2021-07-27T21:52:44.874Z"
   },
   {
    "duration": 4515,
    "start_time": "2021-07-27T21:36:28.935Z"
   },
   {
    "duration": 169,
    "start_time": "2021-07-27T21:38:04.920Z"
   },
   {
    "duration": 4321,
    "start_time": "2021-07-27T21:38:10.576Z"
   },
   {
    "duration": 1090,
    "start_time": "2021-07-27T21:38:26.558Z"
   },
   {
    "duration": 134,
    "start_time": "2021-07-27T21:38:27.649Z"
   },
   {
    "duration": 16,
    "start_time": "2021-07-27T21:38:27.786Z"
   },
   {
    "duration": 3,
    "start_time": "2021-07-27T21:38:27.803Z"
   },
   {
    "duration": 12,
    "start_time": "2021-07-27T21:38:27.808Z"
   },
   {
    "duration": 98,
    "start_time": "2021-07-27T21:38:27.821Z"
   },
   {
    "duration": 14,
    "start_time": "2021-07-27T21:38:27.921Z"
   },
   {
    "duration": 109,
    "start_time": "2021-07-27T21:38:27.939Z"
   },
   {
    "duration": 47,
    "start_time": "2021-07-27T21:38:28.050Z"
   },
   {
    "duration": 11,
    "start_time": "2021-07-27T21:38:28.099Z"
   },
   {
    "duration": 43,
    "start_time": "2021-07-27T21:38:28.111Z"
   },
   {
    "duration": 41,
    "start_time": "2021-07-27T21:38:28.156Z"
   },
   {
    "duration": 13,
    "start_time": "2021-07-27T21:38:28.199Z"
   },
   {
    "duration": 123,
    "start_time": "2021-07-27T21:38:28.214Z"
   },
   {
    "duration": 8,
    "start_time": "2021-07-27T21:38:28.338Z"
   },
   {
    "duration": 9,
    "start_time": "2021-07-27T21:38:28.348Z"
   },
   {
    "duration": 30,
    "start_time": "2021-07-27T21:38:28.358Z"
   },
   {
    "duration": 13,
    "start_time": "2021-07-27T21:38:28.389Z"
   },
   {
    "duration": 32,
    "start_time": "2021-07-27T21:38:28.404Z"
   },
   {
    "duration": 5,
    "start_time": "2021-07-27T21:38:28.437Z"
   },
   {
    "duration": 63,
    "start_time": "2021-07-27T21:38:28.444Z"
   },
   {
    "duration": 13,
    "start_time": "2021-07-27T21:38:28.509Z"
   },
   {
    "duration": 6,
    "start_time": "2021-07-27T21:38:28.525Z"
   },
   {
    "duration": 490,
    "start_time": "2021-07-27T21:38:28.533Z"
   },
   {
    "duration": 17,
    "start_time": "2021-07-27T21:38:29.025Z"
   },
   {
    "duration": 6,
    "start_time": "2021-07-27T21:38:29.044Z"
   },
   {
    "duration": 16,
    "start_time": "2021-07-27T21:38:29.051Z"
   },
   {
    "duration": 26,
    "start_time": "2021-07-27T21:38:29.085Z"
   },
   {
    "duration": 4,
    "start_time": "2021-07-27T21:38:29.112Z"
   },
   {
    "duration": 43,
    "start_time": "2021-07-27T21:38:29.117Z"
   },
   {
    "duration": 41,
    "start_time": "2021-07-27T21:38:29.162Z"
   },
   {
    "duration": 4,
    "start_time": "2021-07-27T21:38:29.205Z"
   },
   {
    "duration": 4,
    "start_time": "2021-07-27T21:38:29.211Z"
   },
   {
    "duration": 68,
    "start_time": "2021-07-27T21:38:29.217Z"
   },
   {
    "duration": 7,
    "start_time": "2021-07-27T21:38:29.287Z"
   },
   {
    "duration": 8,
    "start_time": "2021-07-27T21:38:29.296Z"
   },
   {
    "duration": 10,
    "start_time": "2021-07-27T21:38:29.305Z"
   },
   {
    "duration": 20,
    "start_time": "2021-07-27T21:38:29.316Z"
   },
   {
    "duration": 12,
    "start_time": "2021-07-27T21:38:29.338Z"
   },
   {
    "duration": 14,
    "start_time": "2021-07-27T21:38:29.352Z"
   },
   {
    "duration": 19,
    "start_time": "2021-07-27T21:38:29.368Z"
   },
   {
    "duration": 6,
    "start_time": "2021-07-27T21:38:29.389Z"
   },
   {
    "duration": 14,
    "start_time": "2021-07-27T21:38:29.397Z"
   },
   {
    "duration": 41,
    "start_time": "2021-07-27T21:38:29.412Z"
   },
   {
    "duration": 317,
    "start_time": "2021-07-27T21:38:29.455Z"
   },
   {
    "duration": 11,
    "start_time": "2021-07-27T21:38:29.774Z"
   },
   {
    "duration": 259,
    "start_time": "2021-07-27T21:38:29.787Z"
   },
   {
    "duration": -981740,
    "start_time": "2021-07-27T21:54:51.788Z"
   },
   {
    "duration": -981824,
    "start_time": "2021-07-27T21:54:51.873Z"
   },
   {
    "duration": -981846,
    "start_time": "2021-07-27T21:54:51.896Z"
   },
   {
    "duration": -981861,
    "start_time": "2021-07-27T21:54:51.912Z"
   },
   {
    "duration": 275,
    "start_time": "2021-07-27T21:38:50.661Z"
   },
   {
    "duration": 7,
    "start_time": "2021-07-27T21:39:04.279Z"
   },
   {
    "duration": 4634,
    "start_time": "2021-07-27T21:39:06.940Z"
   },
   {
    "duration": 24,
    "start_time": "2021-07-27T21:39:20.754Z"
   },
   {
    "duration": 4273,
    "start_time": "2021-07-27T21:39:22.977Z"
   },
   {
    "duration": 4,
    "start_time": "2021-07-27T21:39:28.803Z"
   },
   {
    "duration": 4330,
    "start_time": "2021-07-27T21:39:32.177Z"
   },
   {
    "duration": 4262,
    "start_time": "2021-07-27T21:40:38.133Z"
   },
   {
    "duration": 7,
    "start_time": "2021-07-27T21:40:50.440Z"
   },
   {
    "duration": 4262,
    "start_time": "2021-07-27T21:40:50.719Z"
   },
   {
    "duration": 3,
    "start_time": "2021-07-27T21:43:34.050Z"
   },
   {
    "duration": 145,
    "start_time": "2021-07-27T21:43:34.055Z"
   },
   {
    "duration": 16,
    "start_time": "2021-07-27T21:43:34.202Z"
   },
   {
    "duration": 3,
    "start_time": "2021-07-27T21:43:34.220Z"
   },
   {
    "duration": 12,
    "start_time": "2021-07-27T21:43:34.224Z"
   },
   {
    "duration": 103,
    "start_time": "2021-07-27T21:43:34.238Z"
   },
   {
    "duration": 14,
    "start_time": "2021-07-27T21:43:34.343Z"
   },
   {
    "duration": 115,
    "start_time": "2021-07-27T21:43:34.359Z"
   },
   {
    "duration": 35,
    "start_time": "2021-07-27T21:43:34.484Z"
   },
   {
    "duration": 10,
    "start_time": "2021-07-27T21:43:34.521Z"
   },
   {
    "duration": 56,
    "start_time": "2021-07-27T21:43:34.533Z"
   },
   {
    "duration": 22,
    "start_time": "2021-07-27T21:43:34.591Z"
   },
   {
    "duration": 11,
    "start_time": "2021-07-27T21:43:34.615Z"
   },
   {
    "duration": 124,
    "start_time": "2021-07-27T21:43:34.628Z"
   },
   {
    "duration": 7,
    "start_time": "2021-07-27T21:43:34.753Z"
   },
   {
    "duration": 24,
    "start_time": "2021-07-27T21:43:34.761Z"
   },
   {
    "duration": 12,
    "start_time": "2021-07-27T21:43:34.787Z"
   },
   {
    "duration": 11,
    "start_time": "2021-07-27T21:43:34.801Z"
   },
   {
    "duration": 30,
    "start_time": "2021-07-27T21:43:34.815Z"
   },
   {
    "duration": 6,
    "start_time": "2021-07-27T21:43:34.847Z"
   },
   {
    "duration": 69,
    "start_time": "2021-07-27T21:43:34.854Z"
   },
   {
    "duration": 13,
    "start_time": "2021-07-27T21:43:34.925Z"
   },
   {
    "duration": 6,
    "start_time": "2021-07-27T21:43:34.940Z"
   },
   {
    "duration": 481,
    "start_time": "2021-07-27T21:43:34.948Z"
   },
   {
    "duration": 16,
    "start_time": "2021-07-27T21:43:35.431Z"
   },
   {
    "duration": 6,
    "start_time": "2021-07-27T21:43:35.449Z"
   },
   {
    "duration": 31,
    "start_time": "2021-07-27T21:43:35.457Z"
   },
   {
    "duration": 26,
    "start_time": "2021-07-27T21:43:35.490Z"
   },
   {
    "duration": 4,
    "start_time": "2021-07-27T21:43:35.517Z"
   },
   {
    "duration": 45,
    "start_time": "2021-07-27T21:43:35.522Z"
   },
   {
    "duration": 33,
    "start_time": "2021-07-27T21:43:35.569Z"
   },
   {
    "duration": 5,
    "start_time": "2021-07-27T21:43:35.603Z"
   },
   {
    "duration": 6,
    "start_time": "2021-07-27T21:43:35.609Z"
   },
   {
    "duration": 68,
    "start_time": "2021-07-27T21:43:35.617Z"
   },
   {
    "duration": 6,
    "start_time": "2021-07-27T21:43:35.687Z"
   },
   {
    "duration": 6,
    "start_time": "2021-07-27T21:43:35.694Z"
   },
   {
    "duration": 9,
    "start_time": "2021-07-27T21:43:35.702Z"
   },
   {
    "duration": 7,
    "start_time": "2021-07-27T21:43:35.713Z"
   },
   {
    "duration": 10,
    "start_time": "2021-07-27T21:43:35.721Z"
   },
   {
    "duration": 11,
    "start_time": "2021-07-27T21:43:35.732Z"
   },
   {
    "duration": 3,
    "start_time": "2021-07-27T21:43:35.745Z"
   },
   {
    "duration": 7,
    "start_time": "2021-07-27T21:43:35.750Z"
   },
   {
    "duration": 8,
    "start_time": "2021-07-27T21:43:35.784Z"
   },
   {
    "duration": 41,
    "start_time": "2021-07-27T21:43:35.794Z"
   },
   {
    "duration": 303,
    "start_time": "2021-07-27T21:43:35.837Z"
   },
   {
    "duration": 5,
    "start_time": "2021-07-27T21:43:36.141Z"
   },
   {
    "duration": 11,
    "start_time": "2021-07-27T21:43:36.147Z"
   },
   {
    "duration": 4351,
    "start_time": "2021-07-27T21:43:36.160Z"
   },
   {
    "duration": -981528,
    "start_time": "2021-07-27T22:00:02.041Z"
   },
   {
    "duration": -981545,
    "start_time": "2021-07-27T22:00:02.059Z"
   },
   {
    "duration": -981559,
    "start_time": "2021-07-27T22:00:02.074Z"
   },
   {
    "duration": 25,
    "start_time": "2021-07-27T21:44:00.418Z"
   },
   {
    "duration": 279,
    "start_time": "2021-07-27T21:44:04.537Z"
   },
   {
    "duration": 4,
    "start_time": "2021-07-27T21:44:05.752Z"
   },
   {
    "duration": 291,
    "start_time": "2021-07-27T21:44:14.294Z"
   },
   {
    "duration": 4261,
    "start_time": "2021-07-27T21:44:49.358Z"
   },
   {
    "duration": 993,
    "start_time": "2021-07-28T06:28:40.661Z"
   },
   {
    "duration": 135,
    "start_time": "2021-07-28T06:28:41.655Z"
   },
   {
    "duration": 15,
    "start_time": "2021-07-28T06:28:41.792Z"
   },
   {
    "duration": 3,
    "start_time": "2021-07-28T06:28:41.809Z"
   },
   {
    "duration": 11,
    "start_time": "2021-07-28T06:28:41.813Z"
   },
   {
    "duration": 100,
    "start_time": "2021-07-28T06:28:41.825Z"
   },
   {
    "duration": 15,
    "start_time": "2021-07-28T06:28:41.927Z"
   },
   {
    "duration": 106,
    "start_time": "2021-07-28T06:28:41.945Z"
   },
   {
    "duration": 52,
    "start_time": "2021-07-28T06:28:42.053Z"
   },
   {
    "duration": 13,
    "start_time": "2021-07-28T06:28:42.107Z"
   },
   {
    "duration": 64,
    "start_time": "2021-07-28T06:28:42.121Z"
   },
   {
    "duration": 23,
    "start_time": "2021-07-28T06:28:42.187Z"
   },
   {
    "duration": 12,
    "start_time": "2021-07-28T06:28:42.211Z"
   },
   {
    "duration": 130,
    "start_time": "2021-07-28T06:28:42.225Z"
   },
   {
    "duration": 8,
    "start_time": "2021-07-28T06:28:42.357Z"
   },
   {
    "duration": 19,
    "start_time": "2021-07-28T06:28:42.367Z"
   },
   {
    "duration": 14,
    "start_time": "2021-07-28T06:28:42.388Z"
   },
   {
    "duration": 12,
    "start_time": "2021-07-28T06:28:42.404Z"
   },
   {
    "duration": 29,
    "start_time": "2021-07-28T06:28:42.418Z"
   },
   {
    "duration": 5,
    "start_time": "2021-07-28T06:28:42.449Z"
   },
   {
    "duration": 59,
    "start_time": "2021-07-28T06:28:42.455Z"
   },
   {
    "duration": 13,
    "start_time": "2021-07-28T06:28:42.515Z"
   },
   {
    "duration": 6,
    "start_time": "2021-07-28T06:28:42.532Z"
   },
   {
    "duration": 493,
    "start_time": "2021-07-28T06:28:42.540Z"
   },
   {
    "duration": 17,
    "start_time": "2021-07-28T06:28:43.035Z"
   },
   {
    "duration": 6,
    "start_time": "2021-07-28T06:28:43.054Z"
   },
   {
    "duration": 29,
    "start_time": "2021-07-28T06:28:43.061Z"
   },
   {
    "duration": 26,
    "start_time": "2021-07-28T06:28:43.091Z"
   },
   {
    "duration": 3,
    "start_time": "2021-07-28T06:28:43.119Z"
   },
   {
    "duration": 46,
    "start_time": "2021-07-28T06:28:43.124Z"
   },
   {
    "duration": 21,
    "start_time": "2021-07-28T06:28:43.185Z"
   },
   {
    "duration": 4,
    "start_time": "2021-07-28T06:28:43.208Z"
   },
   {
    "duration": 4,
    "start_time": "2021-07-28T06:28:43.213Z"
   },
   {
    "duration": 66,
    "start_time": "2021-07-28T06:28:43.219Z"
   },
   {
    "duration": 6,
    "start_time": "2021-07-28T06:28:43.287Z"
   },
   {
    "duration": 7,
    "start_time": "2021-07-28T06:28:43.294Z"
   },
   {
    "duration": 10,
    "start_time": "2021-07-28T06:28:43.302Z"
   },
   {
    "duration": 5,
    "start_time": "2021-07-28T06:28:43.313Z"
   },
   {
    "duration": 8,
    "start_time": "2021-07-28T06:28:43.320Z"
   },
   {
    "duration": 13,
    "start_time": "2021-07-28T06:28:43.329Z"
   },
   {
    "duration": 4,
    "start_time": "2021-07-28T06:28:43.344Z"
   },
   {
    "duration": 39,
    "start_time": "2021-07-28T06:28:43.349Z"
   },
   {
    "duration": 11,
    "start_time": "2021-07-28T06:28:43.389Z"
   },
   {
    "duration": 39,
    "start_time": "2021-07-28T06:28:43.402Z"
   },
   {
    "duration": 302,
    "start_time": "2021-07-28T06:28:43.443Z"
   },
   {
    "duration": 5,
    "start_time": "2021-07-28T06:28:43.747Z"
   },
   {
    "duration": 247,
    "start_time": "2021-07-28T06:28:43.753Z"
   },
   {
    "duration": 427,
    "start_time": "2021-07-28T06:28:43.576Z"
   },
   {
    "duration": 412,
    "start_time": "2021-07-28T06:28:43.593Z"
   },
   {
    "duration": 405,
    "start_time": "2021-07-28T06:28:43.601Z"
   },
   {
    "duration": 401,
    "start_time": "2021-07-28T06:28:43.606Z"
   },
   {
    "duration": 397,
    "start_time": "2021-07-28T06:28:43.612Z"
   },
   {
    "duration": 54,
    "start_time": "2021-07-28T06:29:18.503Z"
   },
   {
    "duration": 454,
    "start_time": "2021-07-28T06:29:45.086Z"
   },
   {
    "duration": 292,
    "start_time": "2021-07-28T06:29:59.547Z"
   },
   {
    "duration": 4,
    "start_time": "2021-07-28T06:49:18.507Z"
   },
   {
    "duration": 5,
    "start_time": "2021-07-28T06:49:36.008Z"
   },
   {
    "duration": 4,
    "start_time": "2021-07-28T06:49:47.238Z"
   },
   {
    "duration": 6,
    "start_time": "2021-07-28T06:50:20.209Z"
   },
   {
    "duration": 3,
    "start_time": "2021-07-28T06:55:31.105Z"
   },
   {
    "duration": 3,
    "start_time": "2021-07-28T06:56:01.705Z"
   },
   {
    "duration": 58,
    "start_time": "2021-07-28T06:58:57.918Z"
   },
   {
    "duration": 65,
    "start_time": "2021-07-28T07:00:50.649Z"
   },
   {
    "duration": 57,
    "start_time": "2021-07-28T07:01:21.904Z"
   },
   {
    "duration": 63,
    "start_time": "2021-07-28T07:02:09.561Z"
   },
   {
    "duration": 62,
    "start_time": "2021-07-28T07:02:22.322Z"
   },
   {
    "duration": 4,
    "start_time": "2021-07-28T07:02:37.835Z"
   },
   {
    "duration": 5,
    "start_time": "2021-07-28T07:02:41.491Z"
   },
   {
    "duration": 189,
    "start_time": "2021-07-28T07:02:44.314Z"
   },
   {
    "duration": 286,
    "start_time": "2021-07-28T07:05:48.588Z"
   },
   {
    "duration": 1382,
    "start_time": "2021-07-28T18:02:31.715Z"
   },
   {
    "duration": 170,
    "start_time": "2021-07-28T18:02:33.100Z"
   },
   {
    "duration": 21,
    "start_time": "2021-07-28T18:02:33.273Z"
   },
   {
    "duration": 4,
    "start_time": "2021-07-28T18:02:33.297Z"
   },
   {
    "duration": 22,
    "start_time": "2021-07-28T18:02:33.303Z"
   },
   {
    "duration": 129,
    "start_time": "2021-07-28T18:02:33.328Z"
   },
   {
    "duration": 17,
    "start_time": "2021-07-28T18:02:33.459Z"
   },
   {
    "duration": 144,
    "start_time": "2021-07-28T18:02:33.480Z"
   },
   {
    "duration": 56,
    "start_time": "2021-07-28T18:02:33.627Z"
   },
   {
    "duration": 15,
    "start_time": "2021-07-28T18:02:33.685Z"
   },
   {
    "duration": 77,
    "start_time": "2021-07-28T18:02:33.702Z"
   },
   {
    "duration": 30,
    "start_time": "2021-07-28T18:02:33.781Z"
   },
   {
    "duration": 18,
    "start_time": "2021-07-28T18:02:33.814Z"
   },
   {
    "duration": 181,
    "start_time": "2021-07-28T18:02:33.834Z"
   },
   {
    "duration": 14,
    "start_time": "2021-07-28T18:02:34.017Z"
   },
   {
    "duration": 30,
    "start_time": "2021-07-28T18:02:34.033Z"
   },
   {
    "duration": 19,
    "start_time": "2021-07-28T18:02:34.066Z"
   },
   {
    "duration": 28,
    "start_time": "2021-07-28T18:02:34.087Z"
   },
   {
    "duration": 55,
    "start_time": "2021-07-28T18:02:34.117Z"
   },
   {
    "duration": 7,
    "start_time": "2021-07-28T18:02:34.175Z"
   },
   {
    "duration": 71,
    "start_time": "2021-07-28T18:02:34.184Z"
   },
   {
    "duration": 18,
    "start_time": "2021-07-28T18:02:34.258Z"
   },
   {
    "duration": 13,
    "start_time": "2021-07-28T18:02:34.281Z"
   },
   {
    "duration": 852,
    "start_time": "2021-07-28T18:02:34.297Z"
   },
   {
    "duration": 26,
    "start_time": "2021-07-28T18:02:35.151Z"
   },
   {
    "duration": 8,
    "start_time": "2021-07-28T18:02:35.179Z"
   },
   {
    "duration": 30,
    "start_time": "2021-07-28T18:02:35.189Z"
   },
   {
    "duration": 58,
    "start_time": "2021-07-28T18:02:35.221Z"
   },
   {
    "duration": 5,
    "start_time": "2021-07-28T18:02:35.281Z"
   },
   {
    "duration": 70,
    "start_time": "2021-07-28T18:02:35.288Z"
   },
   {
    "duration": 29,
    "start_time": "2021-07-28T18:02:35.360Z"
   },
   {
    "duration": 5,
    "start_time": "2021-07-28T18:02:35.392Z"
   },
   {
    "duration": 14,
    "start_time": "2021-07-28T18:02:35.400Z"
   },
   {
    "duration": 78,
    "start_time": "2021-07-28T18:02:35.416Z"
   },
   {
    "duration": 8,
    "start_time": "2021-07-28T18:02:35.496Z"
   },
   {
    "duration": 21,
    "start_time": "2021-07-28T18:02:35.507Z"
   },
   {
    "duration": 26,
    "start_time": "2021-07-28T18:02:35.530Z"
   },
   {
    "duration": 18,
    "start_time": "2021-07-28T18:02:35.558Z"
   },
   {
    "duration": 31,
    "start_time": "2021-07-28T18:02:35.578Z"
   },
   {
    "duration": 30,
    "start_time": "2021-07-28T18:02:35.612Z"
   },
   {
    "duration": 7,
    "start_time": "2021-07-28T18:02:35.645Z"
   },
   {
    "duration": 27,
    "start_time": "2021-07-28T18:02:35.654Z"
   },
   {
    "duration": 32,
    "start_time": "2021-07-28T18:02:35.683Z"
   },
   {
    "duration": 63,
    "start_time": "2021-07-28T18:02:35.717Z"
   },
   {
    "duration": 397,
    "start_time": "2021-07-28T18:02:35.783Z"
   },
   {
    "duration": 7,
    "start_time": "2021-07-28T18:02:36.182Z"
   },
   {
    "duration": 421,
    "start_time": "2021-07-28T18:02:36.191Z"
   },
   {
    "duration": 4,
    "start_time": "2021-07-28T18:02:36.614Z"
   },
   {
    "duration": 12,
    "start_time": "2021-07-28T18:02:36.621Z"
   },
   {
    "duration": 10,
    "start_time": "2021-07-28T18:02:36.655Z"
   },
   {
    "duration": 7,
    "start_time": "2021-07-28T18:02:36.668Z"
   },
   {
    "duration": 541,
    "start_time": "2021-07-28T18:02:36.677Z"
   },
   {
    "duration": 1344,
    "start_time": "2021-07-29T15:49:44.702Z"
   },
   {
    "duration": 171,
    "start_time": "2021-07-29T15:49:46.049Z"
   },
   {
    "duration": 24,
    "start_time": "2021-07-29T15:49:46.223Z"
   },
   {
    "duration": 4,
    "start_time": "2021-07-29T15:49:46.249Z"
   },
   {
    "duration": 41,
    "start_time": "2021-07-29T15:49:46.255Z"
   },
   {
    "duration": 117,
    "start_time": "2021-07-29T15:49:46.298Z"
   },
   {
    "duration": 18,
    "start_time": "2021-07-29T15:49:46.418Z"
   },
   {
    "duration": 151,
    "start_time": "2021-07-29T15:49:46.440Z"
   },
   {
    "duration": 47,
    "start_time": "2021-07-29T15:49:46.594Z"
   },
   {
    "duration": 16,
    "start_time": "2021-07-29T15:49:46.643Z"
   },
   {
    "duration": 60,
    "start_time": "2021-07-29T15:49:46.686Z"
   },
   {
    "duration": 45,
    "start_time": "2021-07-29T15:49:46.749Z"
   },
   {
    "duration": 19,
    "start_time": "2021-07-29T15:49:46.797Z"
   },
   {
    "duration": 202,
    "start_time": "2021-07-29T15:49:46.818Z"
   },
   {
    "duration": 16,
    "start_time": "2021-07-29T15:49:47.022Z"
   },
   {
    "duration": 14,
    "start_time": "2021-07-29T15:49:47.040Z"
   },
   {
    "duration": 40,
    "start_time": "2021-07-29T15:49:47.056Z"
   },
   {
    "duration": 17,
    "start_time": "2021-07-29T15:49:47.098Z"
   },
   {
    "duration": 42,
    "start_time": "2021-07-29T15:49:47.117Z"
   },
   {
    "duration": 28,
    "start_time": "2021-07-29T15:49:47.162Z"
   },
   {
    "duration": 53,
    "start_time": "2021-07-29T15:49:47.193Z"
   },
   {
    "duration": 43,
    "start_time": "2021-07-29T15:49:47.248Z"
   },
   {
    "duration": 7,
    "start_time": "2021-07-29T15:49:47.296Z"
   },
   {
    "duration": 793,
    "start_time": "2021-07-29T15:49:47.306Z"
   },
   {
    "duration": 26,
    "start_time": "2021-07-29T15:49:48.102Z"
   },
   {
    "duration": 10,
    "start_time": "2021-07-29T15:49:48.130Z"
   },
   {
    "duration": 54,
    "start_time": "2021-07-29T15:49:48.142Z"
   },
   {
    "duration": 37,
    "start_time": "2021-07-29T15:49:48.198Z"
   },
   {
    "duration": 5,
    "start_time": "2021-07-29T15:49:48.237Z"
   },
   {
    "duration": 79,
    "start_time": "2021-07-29T15:49:48.245Z"
   },
   {
    "duration": 31,
    "start_time": "2021-07-29T15:49:48.326Z"
   },
   {
    "duration": 25,
    "start_time": "2021-07-29T15:49:48.360Z"
   },
   {
    "duration": 5,
    "start_time": "2021-07-29T15:49:48.388Z"
   },
   {
    "duration": 59,
    "start_time": "2021-07-29T15:49:48.396Z"
   },
   {
    "duration": 31,
    "start_time": "2021-07-29T15:49:48.457Z"
   },
   {
    "duration": 8,
    "start_time": "2021-07-29T15:49:48.490Z"
   },
   {
    "duration": 15,
    "start_time": "2021-07-29T15:49:48.501Z"
   },
   {
    "duration": 7,
    "start_time": "2021-07-29T15:49:48.519Z"
   },
   {
    "duration": 14,
    "start_time": "2021-07-29T15:49:48.528Z"
   },
   {
    "duration": 58,
    "start_time": "2021-07-29T15:49:48.545Z"
   },
   {
    "duration": 6,
    "start_time": "2021-07-29T15:49:48.605Z"
   },
   {
    "duration": 8,
    "start_time": "2021-07-29T15:49:48.614Z"
   },
   {
    "duration": 17,
    "start_time": "2021-07-29T15:49:48.625Z"
   },
   {
    "duration": 84,
    "start_time": "2021-07-29T15:49:48.645Z"
   },
   {
    "duration": 517,
    "start_time": "2021-07-29T15:49:48.731Z"
   },
   {
    "duration": 6,
    "start_time": "2021-07-29T15:49:49.250Z"
   },
   {
    "duration": 447,
    "start_time": "2021-07-29T15:49:49.258Z"
   },
   {
    "duration": 5,
    "start_time": "2021-07-29T15:49:49.707Z"
   },
   {
    "duration": 14,
    "start_time": "2021-07-29T15:49:49.714Z"
   },
   {
    "duration": 11,
    "start_time": "2021-07-29T15:49:49.731Z"
   },
   {
    "duration": 7,
    "start_time": "2021-07-29T15:49:49.745Z"
   },
   {
    "duration": 549,
    "start_time": "2021-07-29T15:49:49.785Z"
   },
   {
    "duration": 115,
    "start_time": "2021-07-29T16:30:09.430Z"
   },
   {
    "duration": 127,
    "start_time": "2021-07-29T16:32:03.185Z"
   },
   {
    "duration": 109,
    "start_time": "2021-07-29T16:32:33.704Z"
   },
   {
    "duration": 104,
    "start_time": "2021-07-29T16:32:51.274Z"
   },
   {
    "duration": 327,
    "start_time": "2021-07-29T16:33:09.196Z"
   },
   {
    "duration": 111,
    "start_time": "2021-07-29T16:33:40.346Z"
   },
   {
    "duration": 331,
    "start_time": "2021-07-29T16:33:54.918Z"
   },
   {
    "duration": 314,
    "start_time": "2021-07-29T16:34:06.757Z"
   },
   {
    "duration": 304,
    "start_time": "2021-07-29T16:34:18.147Z"
   },
   {
    "duration": 3,
    "start_time": "2021-07-29T16:35:10.222Z"
   },
   {
    "duration": 8,
    "start_time": "2021-07-29T16:35:10.804Z"
   },
   {
    "duration": 18,
    "start_time": "2021-07-29T16:36:08.804Z"
   },
   {
    "duration": 92,
    "start_time": "2021-07-29T16:37:34.583Z"
   },
   {
    "duration": 295,
    "start_time": "2021-07-29T16:38:17.297Z"
   },
   {
    "duration": 92,
    "start_time": "2021-07-29T16:39:12.585Z"
   },
   {
    "duration": 322,
    "start_time": "2021-07-29T16:39:13.940Z"
   },
   {
    "duration": 295,
    "start_time": "2021-07-29T16:41:18.337Z"
   },
   {
    "duration": 75,
    "start_time": "2021-07-29T16:41:23.482Z"
   },
   {
    "duration": 11,
    "start_time": "2021-07-29T16:41:25.930Z"
   },
   {
    "duration": 1335,
    "start_time": "2021-07-29T16:53:06.011Z"
   },
   {
    "duration": 174,
    "start_time": "2021-07-29T16:53:07.349Z"
   },
   {
    "duration": 23,
    "start_time": "2021-07-29T16:53:07.527Z"
   },
   {
    "duration": 3,
    "start_time": "2021-07-29T16:53:07.553Z"
   },
   {
    "duration": 35,
    "start_time": "2021-07-29T16:53:07.559Z"
   },
   {
    "duration": 114,
    "start_time": "2021-07-29T16:53:07.597Z"
   },
   {
    "duration": 19,
    "start_time": "2021-07-29T16:53:07.713Z"
   },
   {
    "duration": 152,
    "start_time": "2021-07-29T16:53:07.736Z"
   },
   {
    "duration": 51,
    "start_time": "2021-07-29T16:53:07.891Z"
   },
   {
    "duration": 40,
    "start_time": "2021-07-29T16:53:07.945Z"
   },
   {
    "duration": 54,
    "start_time": "2021-07-29T16:53:07.988Z"
   },
   {
    "duration": 44,
    "start_time": "2021-07-29T16:53:08.045Z"
   },
   {
    "duration": 19,
    "start_time": "2021-07-29T16:53:08.091Z"
   },
   {
    "duration": 196,
    "start_time": "2021-07-29T16:53:08.113Z"
   },
   {
    "duration": 18,
    "start_time": "2021-07-29T16:53:08.311Z"
   },
   {
    "duration": 15,
    "start_time": "2021-07-29T16:53:08.332Z"
   },
   {
    "duration": 45,
    "start_time": "2021-07-29T16:53:08.350Z"
   },
   {
    "duration": 19,
    "start_time": "2021-07-29T16:53:08.397Z"
   },
   {
    "duration": 66,
    "start_time": "2021-07-29T16:53:08.419Z"
   },
   {
    "duration": 7,
    "start_time": "2021-07-29T16:53:08.487Z"
   },
   {
    "duration": 65,
    "start_time": "2021-07-29T16:53:08.497Z"
   },
   {
    "duration": 34,
    "start_time": "2021-07-29T16:53:08.565Z"
   },
   {
    "duration": 12,
    "start_time": "2021-07-29T16:53:08.605Z"
   },
   {
    "duration": 790,
    "start_time": "2021-07-29T16:53:08.620Z"
   },
   {
    "duration": 26,
    "start_time": "2021-07-29T16:53:09.413Z"
   },
   {
    "duration": 8,
    "start_time": "2021-07-29T16:53:09.442Z"
   },
   {
    "duration": 45,
    "start_time": "2021-07-29T16:53:09.453Z"
   },
   {
    "duration": 34,
    "start_time": "2021-07-29T16:53:09.501Z"
   },
   {
    "duration": 5,
    "start_time": "2021-07-29T16:53:09.537Z"
   },
   {
    "duration": 84,
    "start_time": "2021-07-29T16:53:09.544Z"
   },
   {
    "duration": 31,
    "start_time": "2021-07-29T16:53:09.630Z"
   },
   {
    "duration": 22,
    "start_time": "2021-07-29T16:53:09.663Z"
   },
   {
    "duration": 5,
    "start_time": "2021-07-29T16:53:09.687Z"
   },
   {
    "duration": 64,
    "start_time": "2021-07-29T16:53:09.694Z"
   },
   {
    "duration": 26,
    "start_time": "2021-07-29T16:53:09.760Z"
   },
   {
    "duration": 8,
    "start_time": "2021-07-29T16:53:09.788Z"
   },
   {
    "duration": 13,
    "start_time": "2021-07-29T16:53:09.799Z"
   },
   {
    "duration": 10,
    "start_time": "2021-07-29T16:53:09.814Z"
   },
   {
    "duration": 15,
    "start_time": "2021-07-29T16:53:09.826Z"
   },
   {
    "duration": 53,
    "start_time": "2021-07-29T16:53:09.844Z"
   },
   {
    "duration": 7,
    "start_time": "2021-07-29T16:53:09.900Z"
   },
   {
    "duration": 8,
    "start_time": "2021-07-29T16:53:09.910Z"
   },
   {
    "duration": 13,
    "start_time": "2021-07-29T16:53:09.920Z"
   },
   {
    "duration": 56,
    "start_time": "2021-07-29T16:53:50.088Z"
   },
   {
    "duration": 430,
    "start_time": "2021-07-29T16:53:56.917Z"
   },
   {
    "duration": 420,
    "start_time": "2021-07-29T17:13:15.069Z"
   },
   {
    "duration": 4,
    "start_time": "2021-07-29T17:13:59.813Z"
   },
   {
    "duration": 111,
    "start_time": "2021-07-29T17:58:13.744Z"
   },
   {
    "duration": 113,
    "start_time": "2021-07-29T17:58:43.530Z"
   },
   {
    "duration": 111,
    "start_time": "2021-07-29T17:58:57.122Z"
   },
   {
    "duration": 191,
    "start_time": "2021-07-29T17:59:06.747Z"
   },
   {
    "duration": 110,
    "start_time": "2021-07-29T17:59:21.583Z"
   },
   {
    "duration": 116,
    "start_time": "2021-07-29T17:59:31.777Z"
   },
   {
    "duration": 115,
    "start_time": "2021-07-29T17:59:56.697Z"
   },
   {
    "duration": 124,
    "start_time": "2021-07-29T18:00:01.549Z"
   },
   {
    "duration": 131,
    "start_time": "2021-07-29T18:00:09.923Z"
   },
   {
    "duration": 118,
    "start_time": "2021-07-29T18:00:17.201Z"
   },
   {
    "duration": 118,
    "start_time": "2021-07-29T18:00:56.325Z"
   },
   {
    "duration": 336,
    "start_time": "2021-07-29T18:01:04.033Z"
   },
   {
    "duration": 357,
    "start_time": "2021-07-29T18:01:42.497Z"
   },
   {
    "duration": 125,
    "start_time": "2021-07-29T18:02:03.287Z"
   },
   {
    "duration": 114,
    "start_time": "2021-07-29T18:02:16.185Z"
   },
   {
    "duration": 123,
    "start_time": "2021-07-29T18:02:39.214Z"
   },
   {
    "duration": 12,
    "start_time": "2021-07-29T18:02:50.719Z"
   },
   {
    "duration": 12,
    "start_time": "2021-07-29T18:03:04.667Z"
   },
   {
    "duration": 12,
    "start_time": "2021-07-29T18:03:22.771Z"
   },
   {
    "duration": 13,
    "start_time": "2021-07-29T18:03:49.037Z"
   },
   {
    "duration": 119,
    "start_time": "2021-07-29T18:04:49.318Z"
   },
   {
    "duration": 213,
    "start_time": "2021-07-29T18:05:07.898Z"
   },
   {
    "duration": 12,
    "start_time": "2021-07-29T18:05:15.782Z"
   },
   {
    "duration": 324,
    "start_time": "2021-07-29T18:05:21.851Z"
   },
   {
    "duration": 1402,
    "start_time": "2021-07-29T18:05:45.331Z"
   },
   {
    "duration": 186,
    "start_time": "2021-07-29T18:05:46.736Z"
   },
   {
    "duration": 22,
    "start_time": "2021-07-29T18:05:46.925Z"
   },
   {
    "duration": 3,
    "start_time": "2021-07-29T18:05:46.950Z"
   },
   {
    "duration": 37,
    "start_time": "2021-07-29T18:05:46.956Z"
   },
   {
    "duration": 121,
    "start_time": "2021-07-29T18:05:46.996Z"
   },
   {
    "duration": 21,
    "start_time": "2021-07-29T18:05:47.120Z"
   },
   {
    "duration": 179,
    "start_time": "2021-07-29T18:05:47.147Z"
   },
   {
    "duration": 69,
    "start_time": "2021-07-29T18:05:47.330Z"
   },
   {
    "duration": 18,
    "start_time": "2021-07-29T18:05:47.402Z"
   },
   {
    "duration": 80,
    "start_time": "2021-07-29T18:05:47.422Z"
   },
   {
    "duration": 31,
    "start_time": "2021-07-29T18:05:47.505Z"
   },
   {
    "duration": 19,
    "start_time": "2021-07-29T18:05:47.538Z"
   },
   {
    "duration": 193,
    "start_time": "2021-07-29T18:05:47.559Z"
   },
   {
    "duration": 16,
    "start_time": "2021-07-29T18:05:47.755Z"
   },
   {
    "duration": 21,
    "start_time": "2021-07-29T18:05:47.774Z"
   },
   {
    "duration": 17,
    "start_time": "2021-07-29T18:05:47.798Z"
   },
   {
    "duration": 17,
    "start_time": "2021-07-29T18:05:47.818Z"
   },
   {
    "duration": 74,
    "start_time": "2021-07-29T18:05:47.837Z"
   },
   {
    "duration": 7,
    "start_time": "2021-07-29T18:05:47.914Z"
   },
   {
    "duration": 71,
    "start_time": "2021-07-29T18:05:47.924Z"
   },
   {
    "duration": 18,
    "start_time": "2021-07-29T18:05:47.997Z"
   },
   {
    "duration": 11,
    "start_time": "2021-07-29T18:05:48.021Z"
   },
   {
    "duration": 791,
    "start_time": "2021-07-29T18:05:48.035Z"
   },
   {
    "duration": 24,
    "start_time": "2021-07-29T18:05:48.829Z"
   },
   {
    "duration": 32,
    "start_time": "2021-07-29T18:05:48.856Z"
   },
   {
    "duration": 22,
    "start_time": "2021-07-29T18:05:48.890Z"
   },
   {
    "duration": 36,
    "start_time": "2021-07-29T18:05:48.914Z"
   },
   {
    "duration": 6,
    "start_time": "2021-07-29T18:05:48.952Z"
   },
   {
    "duration": 62,
    "start_time": "2021-07-29T18:05:48.987Z"
   },
   {
    "duration": 47,
    "start_time": "2021-07-29T18:05:49.052Z"
   },
   {
    "duration": 5,
    "start_time": "2021-07-29T18:05:49.102Z"
   },
   {
    "duration": 6,
    "start_time": "2021-07-29T18:05:49.110Z"
   },
   {
    "duration": 88,
    "start_time": "2021-07-29T18:05:49.119Z"
   },
   {
    "duration": 9,
    "start_time": "2021-07-29T18:05:49.209Z"
   },
   {
    "duration": 7,
    "start_time": "2021-07-29T18:05:49.220Z"
   },
   {
    "duration": 11,
    "start_time": "2021-07-29T18:05:49.229Z"
   },
   {
    "duration": 7,
    "start_time": "2021-07-29T18:05:49.242Z"
   },
   {
    "duration": 44,
    "start_time": "2021-07-29T18:05:49.252Z"
   },
   {
    "duration": 21,
    "start_time": "2021-07-29T18:05:49.299Z"
   },
   {
    "duration": 7,
    "start_time": "2021-07-29T18:05:49.323Z"
   },
   {
    "duration": 53,
    "start_time": "2021-07-29T18:05:49.333Z"
   },
   {
    "duration": 13,
    "start_time": "2021-07-29T18:05:49.389Z"
   },
   {
    "duration": 85,
    "start_time": "2021-07-29T18:05:49.405Z"
   },
   {
    "duration": 427,
    "start_time": "2021-07-29T18:05:49.493Z"
   },
   {
    "duration": 4,
    "start_time": "2021-07-29T18:05:49.923Z"
   },
   {
    "duration": 436,
    "start_time": "2021-07-29T18:05:49.931Z"
   },
   {
    "duration": -986008,
    "start_time": "2021-07-29T18:22:16.377Z"
   },
   {
    "duration": -986016,
    "start_time": "2021-07-29T18:22:16.386Z"
   },
   {
    "duration": -986021,
    "start_time": "2021-07-29T18:22:16.393Z"
   },
   {
    "duration": -986028,
    "start_time": "2021-07-29T18:22:16.401Z"
   },
   {
    "duration": -986033,
    "start_time": "2021-07-29T18:22:16.408Z"
   },
   {
    "duration": -986073,
    "start_time": "2021-07-29T18:22:16.449Z"
   },
   {
    "duration": -986085,
    "start_time": "2021-07-29T18:22:16.462Z"
   },
   {
    "duration": -986090,
    "start_time": "2021-07-29T18:22:16.469Z"
   },
   {
    "duration": -986097,
    "start_time": "2021-07-29T18:22:16.477Z"
   },
   {
    "duration": -986105,
    "start_time": "2021-07-29T18:22:16.486Z"
   },
   {
    "duration": 383,
    "start_time": "2021-07-29T18:06:27.777Z"
   },
   {
    "duration": 352,
    "start_time": "2021-07-29T18:06:38.676Z"
   },
   {
    "duration": 349,
    "start_time": "2021-07-29T18:06:51.359Z"
   },
   {
    "duration": 17,
    "start_time": "2021-07-29T18:07:37.446Z"
   },
   {
    "duration": 774,
    "start_time": "2021-07-29T18:09:01.652Z"
   },
   {
    "duration": 19,
    "start_time": "2021-07-29T18:10:00.993Z"
   },
   {
    "duration": 10,
    "start_time": "2021-07-29T18:10:02.129Z"
   },
   {
    "duration": 838,
    "start_time": "2021-07-29T18:11:42.688Z"
   },
   {
    "duration": 10,
    "start_time": "2021-07-29T18:11:47.246Z"
   },
   {
    "duration": 767,
    "start_time": "2021-07-29T18:17:06.714Z"
   },
   {
    "duration": 20,
    "start_time": "2021-07-29T18:17:19.720Z"
   },
   {
    "duration": 115,
    "start_time": "2021-07-29T18:17:21.064Z"
   },
   {
    "duration": 111,
    "start_time": "2021-07-29T18:17:54.149Z"
   },
   {
    "duration": 12,
    "start_time": "2021-07-29T18:18:03.906Z"
   },
   {
    "duration": 13,
    "start_time": "2021-07-29T18:20:05.961Z"
   },
   {
    "duration": 13,
    "start_time": "2021-07-29T18:20:16.197Z"
   },
   {
    "duration": 8497,
    "start_time": "2021-07-29T18:20:24.159Z"
   },
   {
    "duration": 14,
    "start_time": "2021-07-29T18:20:41.834Z"
   },
   {
    "duration": 22,
    "start_time": "2021-07-29T18:20:55.982Z"
   },
   {
    "duration": 13,
    "start_time": "2021-07-29T18:20:56.819Z"
   },
   {
    "duration": 4,
    "start_time": "2021-07-29T18:26:15.180Z"
   },
   {
    "duration": 342,
    "start_time": "2021-07-29T18:26:56.531Z"
   },
   {
    "duration": 4,
    "start_time": "2021-07-29T18:27:01.936Z"
   },
   {
    "duration": 15,
    "start_time": "2021-07-29T18:30:05.066Z"
   },
   {
    "duration": 327,
    "start_time": "2021-07-29T18:31:06.483Z"
   },
   {
    "duration": 9,
    "start_time": "2021-07-29T18:31:26.631Z"
   },
   {
    "duration": 12,
    "start_time": "2021-07-29T18:33:02.569Z"
   },
   {
    "duration": 11,
    "start_time": "2021-07-29T18:33:17.869Z"
   },
   {
    "duration": 11,
    "start_time": "2021-07-29T18:33:35.055Z"
   },
   {
    "duration": 20,
    "start_time": "2021-07-29T18:35:32.405Z"
   },
   {
    "duration": 11,
    "start_time": "2021-07-29T18:35:33.243Z"
   },
   {
    "duration": 14,
    "start_time": "2021-07-29T18:35:36.754Z"
   },
   {
    "duration": 10,
    "start_time": "2021-07-29T18:35:38.344Z"
   },
   {
    "duration": 6,
    "start_time": "2021-07-29T18:37:28.471Z"
   },
   {
    "duration": 8240,
    "start_time": "2021-07-29T18:38:40.869Z"
   },
   {
    "duration": 12,
    "start_time": "2021-07-29T18:41:29.160Z"
   },
   {
    "duration": 352,
    "start_time": "2021-07-29T18:44:03.108Z"
   },
   {
    "duration": 324,
    "start_time": "2021-07-29T18:44:24.820Z"
   },
   {
    "duration": 8,
    "start_time": "2021-07-29T18:45:07.061Z"
   },
   {
    "duration": 11,
    "start_time": "2021-07-29T18:45:12.993Z"
   },
   {
    "duration": 11,
    "start_time": "2021-07-29T18:45:26.130Z"
   },
   {
    "duration": 9,
    "start_time": "2021-07-29T18:45:26.800Z"
   },
   {
    "duration": 5,
    "start_time": "2021-07-29T18:46:03.576Z"
   },
   {
    "duration": 10,
    "start_time": "2021-07-29T18:46:04.944Z"
   },
   {
    "duration": 5,
    "start_time": "2021-07-29T18:46:41.327Z"
   },
   {
    "duration": 9,
    "start_time": "2021-07-29T18:46:48.564Z"
   },
   {
    "duration": 11,
    "start_time": "2021-07-29T18:47:03.070Z"
   },
   {
    "duration": 1213,
    "start_time": "2021-07-29T18:58:01.084Z"
   },
   {
    "duration": 177,
    "start_time": "2021-07-29T18:58:02.300Z"
   },
   {
    "duration": 24,
    "start_time": "2021-07-29T18:58:02.485Z"
   },
   {
    "duration": 14,
    "start_time": "2021-07-29T18:58:02.511Z"
   },
   {
    "duration": 36,
    "start_time": "2021-07-29T18:58:02.527Z"
   },
   {
    "duration": 148,
    "start_time": "2021-07-29T18:58:02.565Z"
   },
   {
    "duration": 18,
    "start_time": "2021-07-29T18:58:02.715Z"
   },
   {
    "duration": 158,
    "start_time": "2021-07-29T18:58:02.737Z"
   },
   {
    "duration": 51,
    "start_time": "2021-07-29T18:58:02.898Z"
   },
   {
    "duration": 37,
    "start_time": "2021-07-29T18:58:02.951Z"
   },
   {
    "duration": 58,
    "start_time": "2021-07-29T18:58:02.990Z"
   },
   {
    "duration": 52,
    "start_time": "2021-07-29T18:58:03.050Z"
   },
   {
    "duration": 32,
    "start_time": "2021-07-29T18:58:03.104Z"
   },
   {
    "duration": 176,
    "start_time": "2021-07-29T18:58:03.139Z"
   },
   {
    "duration": 19,
    "start_time": "2021-07-29T18:58:03.317Z"
   },
   {
    "duration": 14,
    "start_time": "2021-07-29T18:58:03.339Z"
   },
   {
    "duration": 46,
    "start_time": "2021-07-29T18:58:03.355Z"
   },
   {
    "duration": 24,
    "start_time": "2021-07-29T18:58:03.405Z"
   },
   {
    "duration": 58,
    "start_time": "2021-07-29T18:58:03.431Z"
   },
   {
    "duration": 7,
    "start_time": "2021-07-29T18:58:03.491Z"
   },
   {
    "duration": 64,
    "start_time": "2021-07-29T18:58:03.501Z"
   },
   {
    "duration": 34,
    "start_time": "2021-07-29T18:58:03.568Z"
   },
   {
    "duration": 13,
    "start_time": "2021-07-29T18:58:03.608Z"
   },
   {
    "duration": 431,
    "start_time": "2021-07-29T18:58:03.624Z"
   },
   {
    "duration": -986638,
    "start_time": "2021-07-29T19:14:30.695Z"
   },
   {
    "duration": -986646,
    "start_time": "2021-07-29T19:14:30.704Z"
   },
   {
    "duration": -986651,
    "start_time": "2021-07-29T19:14:30.711Z"
   },
   {
    "duration": -986665,
    "start_time": "2021-07-29T19:14:30.726Z"
   },
   {
    "duration": -986672,
    "start_time": "2021-07-29T19:14:30.734Z"
   },
   {
    "duration": -986679,
    "start_time": "2021-07-29T19:14:30.743Z"
   },
   {
    "duration": -986688,
    "start_time": "2021-07-29T19:14:30.753Z"
   },
   {
    "duration": -986695,
    "start_time": "2021-07-29T19:14:30.762Z"
   },
   {
    "duration": -986724,
    "start_time": "2021-07-29T19:14:30.792Z"
   },
   {
    "duration": -986735,
    "start_time": "2021-07-29T19:14:30.804Z"
   },
   {
    "duration": -986740,
    "start_time": "2021-07-29T19:14:30.811Z"
   },
   {
    "duration": -986747,
    "start_time": "2021-07-29T19:14:30.819Z"
   },
   {
    "duration": -986753,
    "start_time": "2021-07-29T19:14:30.826Z"
   },
   {
    "duration": -986761,
    "start_time": "2021-07-29T19:14:30.835Z"
   },
   {
    "duration": -986769,
    "start_time": "2021-07-29T19:14:30.845Z"
   },
   {
    "duration": -986777,
    "start_time": "2021-07-29T19:14:30.854Z"
   },
   {
    "duration": -986784,
    "start_time": "2021-07-29T19:14:30.862Z"
   },
   {
    "duration": -986789,
    "start_time": "2021-07-29T19:14:30.869Z"
   },
   {
    "duration": -986795,
    "start_time": "2021-07-29T19:14:30.876Z"
   },
   {
    "duration": -986823,
    "start_time": "2021-07-29T19:14:30.906Z"
   },
   {
    "duration": -986830,
    "start_time": "2021-07-29T19:14:30.914Z"
   },
   {
    "duration": -986838,
    "start_time": "2021-07-29T19:14:30.923Z"
   },
   {
    "duration": -986844,
    "start_time": "2021-07-29T19:14:30.931Z"
   },
   {
    "duration": -986850,
    "start_time": "2021-07-29T19:14:30.938Z"
   },
   {
    "duration": -986855,
    "start_time": "2021-07-29T19:14:30.945Z"
   },
   {
    "duration": -986862,
    "start_time": "2021-07-29T19:14:30.953Z"
   },
   {
    "duration": -986868,
    "start_time": "2021-07-29T19:14:30.960Z"
   },
   {
    "duration": -986874,
    "start_time": "2021-07-29T19:14:30.968Z"
   },
   {
    "duration": -986879,
    "start_time": "2021-07-29T19:14:30.974Z"
   },
   {
    "duration": -986887,
    "start_time": "2021-07-29T19:14:30.983Z"
   },
   {
    "duration": 197,
    "start_time": "2021-07-29T18:59:00.044Z"
   },
   {
    "duration": 192,
    "start_time": "2021-07-29T18:59:00.244Z"
   },
   {
    "duration": 22,
    "start_time": "2021-07-29T18:59:00.440Z"
   },
   {
    "duration": 22,
    "start_time": "2021-07-29T18:59:00.466Z"
   },
   {
    "duration": 28,
    "start_time": "2021-07-29T18:59:00.491Z"
   },
   {
    "duration": 111,
    "start_time": "2021-07-29T18:59:00.522Z"
   },
   {
    "duration": 19,
    "start_time": "2021-07-29T18:59:00.636Z"
   },
   {
    "duration": 145,
    "start_time": "2021-07-29T18:59:00.659Z"
   },
   {
    "duration": 43,
    "start_time": "2021-07-29T18:59:00.807Z"
   },
   {
    "duration": 36,
    "start_time": "2021-07-29T18:59:00.853Z"
   },
   {
    "duration": 56,
    "start_time": "2021-07-29T18:59:00.891Z"
   },
   {
    "duration": 43,
    "start_time": "2021-07-29T18:59:00.950Z"
   },
   {
    "duration": 18,
    "start_time": "2021-07-29T18:59:00.996Z"
   },
   {
    "duration": 187,
    "start_time": "2021-07-29T18:59:01.018Z"
   },
   {
    "duration": 10,
    "start_time": "2021-07-29T18:59:01.207Z"
   },
   {
    "duration": 19,
    "start_time": "2021-07-29T18:59:01.219Z"
   },
   {
    "duration": 46,
    "start_time": "2021-07-29T18:59:01.241Z"
   },
   {
    "duration": 16,
    "start_time": "2021-07-29T18:59:01.290Z"
   },
   {
    "duration": 48,
    "start_time": "2021-07-29T18:59:01.309Z"
   },
   {
    "duration": 32,
    "start_time": "2021-07-29T18:59:01.360Z"
   },
   {
    "duration": 55,
    "start_time": "2021-07-29T18:59:01.395Z"
   },
   {
    "duration": 43,
    "start_time": "2021-07-29T18:59:01.453Z"
   },
   {
    "duration": 7,
    "start_time": "2021-07-29T18:59:01.502Z"
   },
   {
    "duration": 805,
    "start_time": "2021-07-29T18:59:01.513Z"
   },
   {
    "duration": 23,
    "start_time": "2021-07-29T18:59:02.321Z"
   },
   {
    "duration": 24,
    "start_time": "2021-07-29T18:59:02.346Z"
   },
   {
    "duration": 37,
    "start_time": "2021-07-29T18:59:02.373Z"
   },
   {
    "duration": 47,
    "start_time": "2021-07-29T18:59:02.412Z"
   },
   {
    "duration": 5,
    "start_time": "2021-07-29T18:59:02.461Z"
   },
   {
    "duration": 69,
    "start_time": "2021-07-29T18:59:02.468Z"
   },
   {
    "duration": 46,
    "start_time": "2021-07-29T18:59:02.539Z"
   },
   {
    "duration": 6,
    "start_time": "2021-07-29T18:59:02.587Z"
   },
   {
    "duration": 15,
    "start_time": "2021-07-29T18:59:02.596Z"
   },
   {
    "duration": 82,
    "start_time": "2021-07-29T18:59:02.614Z"
   },
   {
    "duration": 8,
    "start_time": "2021-07-29T18:59:02.699Z"
   },
   {
    "duration": 17,
    "start_time": "2021-07-29T18:59:02.710Z"
   },
   {
    "duration": 29,
    "start_time": "2021-07-29T18:59:02.729Z"
   },
   {
    "duration": 29,
    "start_time": "2021-07-29T18:59:02.761Z"
   },
   {
    "duration": 26,
    "start_time": "2021-07-29T18:59:02.792Z"
   },
   {
    "duration": 41,
    "start_time": "2021-07-29T18:59:02.820Z"
   },
   {
    "duration": 18,
    "start_time": "2021-07-29T18:59:02.863Z"
   },
   {
    "duration": 12,
    "start_time": "2021-07-29T18:59:02.883Z"
   },
   {
    "duration": 19,
    "start_time": "2021-07-29T18:59:02.898Z"
   },
   {
    "duration": 67,
    "start_time": "2021-07-29T18:59:02.920Z"
   },
   {
    "duration": 431,
    "start_time": "2021-07-29T18:59:02.989Z"
   },
   {
    "duration": 21,
    "start_time": "2021-07-29T18:59:03.424Z"
   },
   {
    "duration": 25,
    "start_time": "2021-07-29T18:59:03.448Z"
   },
   {
    "duration": 12,
    "start_time": "2021-07-29T18:59:03.486Z"
   },
   {
    "duration": 12,
    "start_time": "2021-07-29T18:59:03.501Z"
   },
   {
    "duration": 8,
    "start_time": "2021-07-29T18:59:03.516Z"
   },
   {
    "duration": 14,
    "start_time": "2021-07-29T18:59:03.526Z"
   },
   {
    "duration": 46,
    "start_time": "2021-07-29T18:59:03.543Z"
   },
   {
    "duration": 16,
    "start_time": "2021-07-29T18:59:03.591Z"
   },
   {
    "duration": 12,
    "start_time": "2021-07-29T18:59:03.610Z"
   },
   {
    "duration": 1742,
    "start_time": "2021-07-30T17:51:24.088Z"
   },
   {
    "duration": 5,
    "start_time": "2021-07-30T17:52:25.660Z"
   },
   {
    "duration": 5,
    "start_time": "2021-07-30T17:52:33.494Z"
   },
   {
    "duration": 2831,
    "start_time": "2021-07-30T17:52:33.975Z"
   },
   {
    "duration": 21,
    "start_time": "2021-07-30T17:52:36.809Z"
   },
   {
    "duration": 15,
    "start_time": "2021-07-30T17:52:36.834Z"
   },
   {
    "duration": 22,
    "start_time": "2021-07-30T17:52:36.852Z"
   },
   {
    "duration": 125,
    "start_time": "2021-07-30T17:52:36.877Z"
   },
   {
    "duration": 19,
    "start_time": "2021-07-30T17:52:37.005Z"
   },
   {
    "duration": 157,
    "start_time": "2021-07-30T17:52:37.026Z"
   },
   {
    "duration": 52,
    "start_time": "2021-07-30T17:52:37.186Z"
   },
   {
    "duration": 15,
    "start_time": "2021-07-30T17:52:37.241Z"
   },
   {
    "duration": 77,
    "start_time": "2021-07-30T17:52:37.258Z"
   },
   {
    "duration": 30,
    "start_time": "2021-07-30T17:52:37.338Z"
   },
   {
    "duration": 35,
    "start_time": "2021-07-30T17:52:37.370Z"
   },
   {
    "duration": 166,
    "start_time": "2021-07-30T17:52:38.045Z"
   },
   {
    "duration": 14,
    "start_time": "2021-07-30T17:52:38.270Z"
   },
   {
    "duration": 14,
    "start_time": "2021-07-30T17:52:38.780Z"
   },
   {
    "duration": 20,
    "start_time": "2021-07-30T17:52:38.997Z"
   },
   {
    "duration": 16,
    "start_time": "2021-07-30T17:52:40.404Z"
   },
   {
    "duration": 44,
    "start_time": "2021-07-30T17:52:40.663Z"
   },
   {
    "duration": 8,
    "start_time": "2021-07-30T17:52:42.135Z"
   },
   {
    "duration": 52,
    "start_time": "2021-07-30T17:52:42.582Z"
   },
   {
    "duration": 18,
    "start_time": "2021-07-30T17:52:43.141Z"
   },
   {
    "duration": 8,
    "start_time": "2021-07-30T17:52:43.691Z"
   },
   {
    "duration": 756,
    "start_time": "2021-07-30T17:52:45.819Z"
   },
   {
    "duration": 25,
    "start_time": "2021-07-30T17:53:13.678Z"
   },
   {
    "duration": 8,
    "start_time": "2021-07-30T17:53:14.722Z"
   },
   {
    "duration": 746,
    "start_time": "2021-07-30T17:53:51.667Z"
   },
   {
    "duration": 5,
    "start_time": "2021-07-30T17:56:38.726Z"
   },
   {
    "duration": 181,
    "start_time": "2021-07-30T17:56:38.738Z"
   },
   {
    "duration": 19,
    "start_time": "2021-07-30T17:56:38.922Z"
   },
   {
    "duration": 3,
    "start_time": "2021-07-30T17:56:38.944Z"
   },
   {
    "duration": 16,
    "start_time": "2021-07-30T17:56:38.950Z"
   },
   {
    "duration": 122,
    "start_time": "2021-07-30T17:56:38.969Z"
   },
   {
    "duration": 18,
    "start_time": "2021-07-30T17:56:39.101Z"
   },
   {
    "duration": 147,
    "start_time": "2021-07-30T17:56:39.121Z"
   },
   {
    "duration": 55,
    "start_time": "2021-07-30T17:56:39.271Z"
   },
   {
    "duration": 15,
    "start_time": "2021-07-30T17:56:39.329Z"
   },
   {
    "duration": 64,
    "start_time": "2021-07-30T17:56:39.346Z"
   },
   {
    "duration": 31,
    "start_time": "2021-07-30T17:56:39.413Z"
   },
   {
    "duration": 18,
    "start_time": "2021-07-30T17:56:39.447Z"
   },
   {
    "duration": 191,
    "start_time": "2021-07-30T17:56:39.468Z"
   },
   {
    "duration": 10,
    "start_time": "2021-07-30T17:56:39.662Z"
   },
   {
    "duration": 34,
    "start_time": "2021-07-30T17:56:39.674Z"
   },
   {
    "duration": 18,
    "start_time": "2021-07-30T17:56:39.711Z"
   },
   {
    "duration": 16,
    "start_time": "2021-07-30T17:56:39.732Z"
   },
   {
    "duration": 75,
    "start_time": "2021-07-30T17:56:39.750Z"
   },
   {
    "duration": 7,
    "start_time": "2021-07-30T17:56:39.827Z"
   },
   {
    "duration": 74,
    "start_time": "2021-07-30T17:56:39.837Z"
   },
   {
    "duration": 17,
    "start_time": "2021-07-30T17:56:39.913Z"
   },
   {
    "duration": 7,
    "start_time": "2021-07-30T17:56:39.933Z"
   },
   {
    "duration": 771,
    "start_time": "2021-07-30T17:56:39.945Z"
   },
   {
    "duration": 28,
    "start_time": "2021-07-30T17:56:40.718Z"
   },
   {
    "duration": 786,
    "start_time": "2021-07-30T17:56:40.748Z"
   },
   {
    "duration": 8,
    "start_time": "2021-07-30T17:56:41.537Z"
   },
   {
    "duration": 21,
    "start_time": "2021-07-30T17:56:45.381Z"
   },
   {
    "duration": 35,
    "start_time": "2021-07-30T17:56:47.596Z"
   },
   {
    "duration": 5,
    "start_time": "2021-07-30T17:56:47.931Z"
   },
   {
    "duration": 52,
    "start_time": "2021-07-30T17:56:49.206Z"
   },
   {
    "duration": 31,
    "start_time": "2021-07-30T17:57:04.447Z"
   },
   {
    "duration": 6,
    "start_time": "2021-07-30T17:57:05.460Z"
   },
   {
    "duration": 6,
    "start_time": "2021-07-30T17:57:05.805Z"
   },
   {
    "duration": 70,
    "start_time": "2021-07-30T17:57:06.165Z"
   },
   {
    "duration": 11,
    "start_time": "2021-07-30T17:57:06.565Z"
   },
   {
    "duration": 8,
    "start_time": "2021-07-30T17:57:07.086Z"
   },
   {
    "duration": 10,
    "start_time": "2021-07-30T17:57:07.355Z"
   },
   {
    "duration": 5,
    "start_time": "2021-07-30T17:57:21.205Z"
   },
   {
    "duration": 11,
    "start_time": "2021-07-30T17:57:21.622Z"
   },
   {
    "duration": 17,
    "start_time": "2021-07-30T17:57:22.410Z"
   },
   {
    "duration": 7,
    "start_time": "2021-07-30T17:57:25.006Z"
   },
   {
    "duration": 6,
    "start_time": "2021-07-30T17:57:25.892Z"
   },
   {
    "duration": 12,
    "start_time": "2021-07-30T17:57:27.085Z"
   },
   {
    "duration": 283,
    "start_time": "2021-07-30T18:16:34.040Z"
   },
   {
    "duration": 1384,
    "start_time": "2021-07-30T18:17:14.144Z"
   },
   {
    "duration": 6558,
    "start_time": "2021-07-30T18:24:05.251Z"
   },
   {
    "duration": 7164,
    "start_time": "2021-07-30T18:24:28.487Z"
   },
   {
    "duration": 305,
    "start_time": "2021-07-30T18:25:21.909Z"
   },
   {
    "duration": 269,
    "start_time": "2021-07-30T18:25:59.084Z"
   },
   {
    "duration": 284,
    "start_time": "2021-07-30T18:28:59.744Z"
   },
   {
    "duration": 14,
    "start_time": "2021-07-30T18:30:56.422Z"
   },
   {
    "duration": 5,
    "start_time": "2021-07-30T18:31:00.911Z"
   },
   {
    "duration": 190,
    "start_time": "2021-07-30T18:31:00.922Z"
   },
   {
    "duration": 19,
    "start_time": "2021-07-30T18:31:01.115Z"
   },
   {
    "duration": 3,
    "start_time": "2021-07-30T18:31:01.138Z"
   },
   {
    "duration": 20,
    "start_time": "2021-07-30T18:31:01.144Z"
   },
   {
    "duration": 149,
    "start_time": "2021-07-30T18:31:01.167Z"
   },
   {
    "duration": 20,
    "start_time": "2021-07-30T18:31:01.318Z"
   },
   {
    "duration": 159,
    "start_time": "2021-07-30T18:31:01.341Z"
   },
   {
    "duration": 46,
    "start_time": "2021-07-30T18:31:01.502Z"
   },
   {
    "duration": 16,
    "start_time": "2021-07-30T18:31:01.552Z"
   },
   {
    "duration": 75,
    "start_time": "2021-07-30T18:31:01.571Z"
   },
   {
    "duration": 33,
    "start_time": "2021-07-30T18:31:01.649Z"
   },
   {
    "duration": 20,
    "start_time": "2021-07-30T18:31:01.699Z"
   },
   {
    "duration": 183,
    "start_time": "2021-07-30T18:31:01.722Z"
   },
   {
    "duration": 10,
    "start_time": "2021-07-30T18:31:01.908Z"
   },
   {
    "duration": 22,
    "start_time": "2021-07-30T18:31:01.921Z"
   },
   {
    "duration": 24,
    "start_time": "2021-07-30T18:31:01.945Z"
   },
   {
    "duration": 38,
    "start_time": "2021-07-30T18:31:01.971Z"
   },
   {
    "duration": 48,
    "start_time": "2021-07-30T18:31:02.011Z"
   },
   {
    "duration": 10,
    "start_time": "2021-07-30T18:31:02.061Z"
   },
   {
    "duration": 53,
    "start_time": "2021-07-30T18:31:02.101Z"
   },
   {
    "duration": 17,
    "start_time": "2021-07-30T18:31:02.156Z"
   },
   {
    "duration": 7,
    "start_time": "2021-07-30T18:31:02.200Z"
   },
   {
    "duration": 767,
    "start_time": "2021-07-30T18:31:02.210Z"
   },
   {
    "duration": 39,
    "start_time": "2021-07-30T18:31:02.980Z"
   },
   {
    "duration": 913,
    "start_time": "2021-07-30T18:31:03.021Z"
   },
   {
    "duration": 7,
    "start_time": "2021-07-30T18:31:03.937Z"
   },
   {
    "duration": 18,
    "start_time": "2021-07-30T18:31:03.949Z"
   },
   {
    "duration": 35,
    "start_time": "2021-07-30T18:31:04.001Z"
   },
   {
    "duration": 4,
    "start_time": "2021-07-30T18:31:04.039Z"
   },
   {
    "duration": 79,
    "start_time": "2021-07-30T18:31:04.045Z"
   },
   {
    "duration": 32,
    "start_time": "2021-07-30T18:31:04.126Z"
   },
   {
    "duration": 6,
    "start_time": "2021-07-30T18:31:04.160Z"
   },
   {
    "duration": 34,
    "start_time": "2021-07-30T18:31:04.168Z"
   },
   {
    "duration": 60,
    "start_time": "2021-07-30T18:31:04.204Z"
   },
   {
    "duration": 10,
    "start_time": "2021-07-30T18:31:04.266Z"
   },
   {
    "duration": 26,
    "start_time": "2021-07-30T18:31:04.278Z"
   },
   {
    "duration": 14,
    "start_time": "2021-07-30T18:31:04.306Z"
   },
   {
    "duration": 6,
    "start_time": "2021-07-30T18:31:04.323Z"
   },
   {
    "duration": 32,
    "start_time": "2021-07-30T18:31:04.331Z"
   },
   {
    "duration": 45,
    "start_time": "2021-07-30T18:31:04.366Z"
   },
   {
    "duration": 8,
    "start_time": "2021-07-30T18:31:04.414Z"
   },
   {
    "duration": 173,
    "start_time": "2021-07-30T18:36:33.659Z"
   },
   {
    "duration": 74,
    "start_time": "2021-07-31T04:07:00.317Z"
   }
  ],
  "kernelspec": {
   "display_name": "Python 3",
   "language": "python",
   "name": "python3"
  },
  "language_info": {
   "codemirror_mode": {
    "name": "ipython",
    "version": 3
   },
   "file_extension": ".py",
   "mimetype": "text/x-python",
   "name": "python",
   "nbconvert_exporter": "python",
   "pygments_lexer": "ipython3",
   "version": "3.7.8"
  },
  "toc": {
   "base_numbering": 1,
   "nav_menu": {},
   "number_sections": true,
   "sideBar": true,
   "skip_h1_title": true,
   "title_cell": "Table of Contents",
   "title_sidebar": "Contents",
   "toc_cell": false,
   "toc_position": {},
   "toc_section_display": true,
   "toc_window_display": false
  }
 },
 "nbformat": 4,
 "nbformat_minor": 2
}
