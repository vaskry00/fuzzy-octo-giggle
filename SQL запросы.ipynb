{
 "cells": [
  {
   "cell_type": "markdown",
   "metadata": {},
   "source": [
    "# SQL"
   ]
  },
  {
   "cell_type": "markdown",
   "metadata": {},
   "source": [
    "## Описание проекта "
   ]
  },
  {
   "cell_type": "markdown",
   "metadata": {},
   "source": [
    "Коронавирус застал мир врасплох, изменив привычный порядок вещей. В свободное время жители городов больше не выходят на улицу, не посещают кафе и торговые центры. Зато стало больше времени для книг. Это заметили стартаперы — и бросились создавать приложения для тех, кто любит читать.\n",
    "\n",
    "Ваша компания решила быть на волне и купила крупный сервис для чтения книг по подписке. Ваша первая задача как аналитика — проанализировать базу данных.\n",
    "В ней — информация о книгах, издательствах, авторах, а также пользовательские обзоры книг. Эти данные помогут сформулировать ценностное предложение для нового продукта."
   ]
  },
  {
   "cell_type": "markdown",
   "metadata": {},
   "source": [
    "## Описание данных"
   ]
  },
  {
   "cell_type": "markdown",
   "metadata": {},
   "source": [
    "**Таблица `books`**\n",
    "\n",
    "Содержит данные о книгах:\n",
    "\n",
    "- `book_id` — идентификатор книги;\n",
    "- `author_id` — идентификатор автора;\n",
    "- `title` — название книги;\n",
    "- `num_pages` — количество страниц;\n",
    "- `publication_date` — дата публикации книги;\n",
    "- `publisher_id` — идентификатор издателя.\n",
    "\n",
    "**Таблица `authors`**\n",
    "\n",
    "Содержит данные об авторах:\n",
    "\n",
    "- `author_id` — идентификатор автора;\n",
    "- `author` — имя автора.\n",
    "\n",
    "**Таблица `publishers`**\n",
    "\n",
    "Содержит данные об издательствах:\n",
    "\n",
    "- `publisher_id` — идентификатор издательства;\n",
    "- `publisher` — название издательства;\n",
    "\n",
    "**Таблица `ratings`**\n",
    "\n",
    "Содержит данные о пользовательских оценках книг:\n",
    "\n",
    "- `rating_id` — идентификатор оценки;\n",
    "- `book_id` — идентификатор книги;\n",
    "- `username` — имя пользователя, оставившего оценку;\n",
    "- `rating` — оценка книги.\n",
    "\n",
    "**Таблица `reviews`**\n",
    "\n",
    "Содержит данные о пользовательских обзорах на книги:\n",
    "\n",
    "- `review_id` — идентификатор обзора;\n",
    "- `book_id` — идентификатор книги;\n",
    "- `username` — имя пользователя, написавшего обзор;\n",
    "- `text` — текст обзора."
   ]
  },
  {
   "cell_type": "markdown",
   "metadata": {},
   "source": [
    "## Задание"
   ]
  },
  {
   "cell_type": "markdown",
   "metadata": {},
   "source": [
    "- Посчитайте, сколько книг вышло после 1 января 2000 года;\n",
    "- Для каждой книги посчитайте количество обзоров и среднюю оценку;\n",
    "- Определите издательство, которое выпустило наибольшее число книг толще 50 страниц — так вы исключите из анализа брошюры;\n",
    "- Определите автора с самой высокой средней оценкой книг — учитывайте только книги с 50 и более оценками;\n",
    "- Посчитайте среднее количество обзоров от пользователей, которые поставили больше 50 оценок."
   ]
  },
  {
   "cell_type": "markdown",
   "metadata": {},
   "source": [
    "## Загрузка таблиц"
   ]
  },
  {
   "cell_type": "code",
   "execution_count": 1,
   "metadata": {},
   "outputs": [],
   "source": [
    "# импортируем библиотеки\n",
    "import pandas as pd\n",
    "from pandas.io import sql \n",
    "from sqlalchemy import create_engine"
   ]
  },
  {
   "cell_type": "code",
   "execution_count": 2,
   "metadata": {},
   "outputs": [],
   "source": [
    "# устанавливаем параметры\n",
    "db_config = {'user': 'praktikum_student', # имя пользователя\n",
    " 'pwd': 'Sdf4$2;d-d30pp', # пароль\n",
    " 'host': 'rc1b-wcoijxj3yxfsf3fs.mdb.yandexcloud.net',\n",
    " 'port': 6432, # порт подключения\n",
    " 'db': 'data-analyst-final-project-db'} # название базы данных\n",
    "connection_string = 'postgresql://{}:{}@{}:{}/{}'.format(db_config['user'],\n",
    " db_config['pwd'],\n",
    " db_config['host'],\n",
    " db_config['port'],\n",
    " db_config['db'])\n",
    "# сохраняем коннектор\n",
    "engine = create_engine(connection_string, connect_args={'sslmode':'require'})"
   ]
  },
  {
   "cell_type": "markdown",
   "metadata": {},
   "source": [
    "### Таблица books"
   ]
  },
  {
   "cell_type": "code",
   "execution_count": 3,
   "metadata": {},
   "outputs": [
    {
     "data": {
      "text/html": [
       "<div>\n",
       "<style scoped>\n",
       "    .dataframe tbody tr th:only-of-type {\n",
       "        vertical-align: middle;\n",
       "    }\n",
       "\n",
       "    .dataframe tbody tr th {\n",
       "        vertical-align: top;\n",
       "    }\n",
       "\n",
       "    .dataframe thead th {\n",
       "        text-align: right;\n",
       "    }\n",
       "</style>\n",
       "<table border=\"1\" class=\"dataframe\">\n",
       "  <thead>\n",
       "    <tr style=\"text-align: right;\">\n",
       "      <th></th>\n",
       "      <th>book_id</th>\n",
       "      <th>author_id</th>\n",
       "      <th>title</th>\n",
       "      <th>num_pages</th>\n",
       "      <th>publication_date</th>\n",
       "      <th>publisher_id</th>\n",
       "    </tr>\n",
       "  </thead>\n",
       "  <tbody>\n",
       "    <tr>\n",
       "      <td>0</td>\n",
       "      <td>1</td>\n",
       "      <td>546</td>\n",
       "      <td>'Salem's Lot</td>\n",
       "      <td>594</td>\n",
       "      <td>2005-11-01</td>\n",
       "      <td>93</td>\n",
       "    </tr>\n",
       "    <tr>\n",
       "      <td>1</td>\n",
       "      <td>2</td>\n",
       "      <td>465</td>\n",
       "      <td>1 000 Places to See Before You Die</td>\n",
       "      <td>992</td>\n",
       "      <td>2003-05-22</td>\n",
       "      <td>336</td>\n",
       "    </tr>\n",
       "    <tr>\n",
       "      <td>2</td>\n",
       "      <td>3</td>\n",
       "      <td>407</td>\n",
       "      <td>13 Little Blue Envelopes (Little Blue Envelope...</td>\n",
       "      <td>322</td>\n",
       "      <td>2010-12-21</td>\n",
       "      <td>135</td>\n",
       "    </tr>\n",
       "    <tr>\n",
       "      <td>3</td>\n",
       "      <td>4</td>\n",
       "      <td>82</td>\n",
       "      <td>1491: New Revelations of the Americas Before C...</td>\n",
       "      <td>541</td>\n",
       "      <td>2006-10-10</td>\n",
       "      <td>309</td>\n",
       "    </tr>\n",
       "    <tr>\n",
       "      <td>4</td>\n",
       "      <td>5</td>\n",
       "      <td>125</td>\n",
       "      <td>1776</td>\n",
       "      <td>386</td>\n",
       "      <td>2006-07-04</td>\n",
       "      <td>268</td>\n",
       "    </tr>\n",
       "  </tbody>\n",
       "</table>\n",
       "</div>"
      ],
      "text/plain": [
       "   book_id  author_id                                              title  \\\n",
       "0        1        546                                       'Salem's Lot   \n",
       "1        2        465                 1 000 Places to See Before You Die   \n",
       "2        3        407  13 Little Blue Envelopes (Little Blue Envelope...   \n",
       "3        4         82  1491: New Revelations of the Americas Before C...   \n",
       "4        5        125                                               1776   \n",
       "\n",
       "   num_pages publication_date  publisher_id  \n",
       "0        594       2005-11-01            93  \n",
       "1        992       2003-05-22           336  \n",
       "2        322       2010-12-21           135  \n",
       "3        541       2006-10-10           309  \n",
       "4        386       2006-07-04           268  "
      ]
     },
     "execution_count": 3,
     "metadata": {},
     "output_type": "execute_result"
    }
   ],
   "source": [
    "# делаю запрос на таблицу books\n",
    "query =    '''\n",
    "            SELECT * FROM books\n",
    "        '''\n",
    "books = pd.io.sql.read_sql(query, con = engine)\n",
    "books.head()"
   ]
  },
  {
   "cell_type": "code",
   "execution_count": 4,
   "metadata": {},
   "outputs": [
    {
     "name": "stdout",
     "output_type": "stream",
     "text": [
      "<class 'pandas.core.frame.DataFrame'>\n",
      "RangeIndex: 1000 entries, 0 to 999\n",
      "Data columns (total 6 columns):\n",
      "book_id             1000 non-null int64\n",
      "author_id           1000 non-null int64\n",
      "title               1000 non-null object\n",
      "num_pages           1000 non-null int64\n",
      "publication_date    1000 non-null object\n",
      "publisher_id        1000 non-null int64\n",
      "dtypes: int64(4), object(2)\n",
      "memory usage: 47.0+ KB\n"
     ]
    }
   ],
   "source": [
    "# смотрю инфо\n",
    "books.info()"
   ]
  },
  {
   "cell_type": "markdown",
   "metadata": {},
   "source": [
    "### Таблица authors"
   ]
  },
  {
   "cell_type": "code",
   "execution_count": 5,
   "metadata": {},
   "outputs": [
    {
     "data": {
      "text/html": [
       "<div>\n",
       "<style scoped>\n",
       "    .dataframe tbody tr th:only-of-type {\n",
       "        vertical-align: middle;\n",
       "    }\n",
       "\n",
       "    .dataframe tbody tr th {\n",
       "        vertical-align: top;\n",
       "    }\n",
       "\n",
       "    .dataframe thead th {\n",
       "        text-align: right;\n",
       "    }\n",
       "</style>\n",
       "<table border=\"1\" class=\"dataframe\">\n",
       "  <thead>\n",
       "    <tr style=\"text-align: right;\">\n",
       "      <th></th>\n",
       "      <th>author_id</th>\n",
       "      <th>author</th>\n",
       "    </tr>\n",
       "  </thead>\n",
       "  <tbody>\n",
       "    <tr>\n",
       "      <td>0</td>\n",
       "      <td>1</td>\n",
       "      <td>A.S. Byatt</td>\n",
       "    </tr>\n",
       "    <tr>\n",
       "      <td>1</td>\n",
       "      <td>2</td>\n",
       "      <td>Aesop/Laura Harris/Laura Gibbs</td>\n",
       "    </tr>\n",
       "    <tr>\n",
       "      <td>2</td>\n",
       "      <td>3</td>\n",
       "      <td>Agatha Christie</td>\n",
       "    </tr>\n",
       "    <tr>\n",
       "      <td>3</td>\n",
       "      <td>4</td>\n",
       "      <td>Alan Brennert</td>\n",
       "    </tr>\n",
       "    <tr>\n",
       "      <td>4</td>\n",
       "      <td>5</td>\n",
       "      <td>Alan Moore/David   Lloyd</td>\n",
       "    </tr>\n",
       "  </tbody>\n",
       "</table>\n",
       "</div>"
      ],
      "text/plain": [
       "   author_id                          author\n",
       "0          1                      A.S. Byatt\n",
       "1          2  Aesop/Laura Harris/Laura Gibbs\n",
       "2          3                 Agatha Christie\n",
       "3          4                   Alan Brennert\n",
       "4          5        Alan Moore/David   Lloyd"
      ]
     },
     "execution_count": 5,
     "metadata": {},
     "output_type": "execute_result"
    }
   ],
   "source": [
    "# делаю запрос на таблицу authors\n",
    "query =    '''\n",
    "            SELECT * FROM authors\n",
    "        '''\n",
    "authors = pd.io.sql.read_sql(query, con = engine)\n",
    "authors.head()"
   ]
  },
  {
   "cell_type": "code",
   "execution_count": 6,
   "metadata": {},
   "outputs": [
    {
     "name": "stdout",
     "output_type": "stream",
     "text": [
      "<class 'pandas.core.frame.DataFrame'>\n",
      "RangeIndex: 636 entries, 0 to 635\n",
      "Data columns (total 2 columns):\n",
      "author_id    636 non-null int64\n",
      "author       636 non-null object\n",
      "dtypes: int64(1), object(1)\n",
      "memory usage: 10.1+ KB\n"
     ]
    }
   ],
   "source": [
    "# смотрю инфо\n",
    "authors.info()"
   ]
  },
  {
   "cell_type": "markdown",
   "metadata": {},
   "source": [
    "### Таблица publishers"
   ]
  },
  {
   "cell_type": "code",
   "execution_count": 7,
   "metadata": {},
   "outputs": [
    {
     "data": {
      "text/html": [
       "<div>\n",
       "<style scoped>\n",
       "    .dataframe tbody tr th:only-of-type {\n",
       "        vertical-align: middle;\n",
       "    }\n",
       "\n",
       "    .dataframe tbody tr th {\n",
       "        vertical-align: top;\n",
       "    }\n",
       "\n",
       "    .dataframe thead th {\n",
       "        text-align: right;\n",
       "    }\n",
       "</style>\n",
       "<table border=\"1\" class=\"dataframe\">\n",
       "  <thead>\n",
       "    <tr style=\"text-align: right;\">\n",
       "      <th></th>\n",
       "      <th>publisher_id</th>\n",
       "      <th>publisher</th>\n",
       "    </tr>\n",
       "  </thead>\n",
       "  <tbody>\n",
       "    <tr>\n",
       "      <td>0</td>\n",
       "      <td>1</td>\n",
       "      <td>Ace</td>\n",
       "    </tr>\n",
       "    <tr>\n",
       "      <td>1</td>\n",
       "      <td>2</td>\n",
       "      <td>Ace Book</td>\n",
       "    </tr>\n",
       "    <tr>\n",
       "      <td>2</td>\n",
       "      <td>3</td>\n",
       "      <td>Ace Books</td>\n",
       "    </tr>\n",
       "    <tr>\n",
       "      <td>3</td>\n",
       "      <td>4</td>\n",
       "      <td>Ace Hardcover</td>\n",
       "    </tr>\n",
       "    <tr>\n",
       "      <td>4</td>\n",
       "      <td>5</td>\n",
       "      <td>Addison Wesley Publishing Company</td>\n",
       "    </tr>\n",
       "  </tbody>\n",
       "</table>\n",
       "</div>"
      ],
      "text/plain": [
       "   publisher_id                          publisher\n",
       "0             1                                Ace\n",
       "1             2                           Ace Book\n",
       "2             3                          Ace Books\n",
       "3             4                      Ace Hardcover\n",
       "4             5  Addison Wesley Publishing Company"
      ]
     },
     "execution_count": 7,
     "metadata": {},
     "output_type": "execute_result"
    }
   ],
   "source": [
    "# делаю запрос на таблицу publishers\n",
    "query =    '''\n",
    "            SELECT * FROM publishers\n",
    "        '''\n",
    "publishers = pd.io.sql.read_sql(query, con = engine)\n",
    "publishers.head()"
   ]
  },
  {
   "cell_type": "code",
   "execution_count": 8,
   "metadata": {},
   "outputs": [
    {
     "name": "stdout",
     "output_type": "stream",
     "text": [
      "<class 'pandas.core.frame.DataFrame'>\n",
      "RangeIndex: 340 entries, 0 to 339\n",
      "Data columns (total 2 columns):\n",
      "publisher_id    340 non-null int64\n",
      "publisher       340 non-null object\n",
      "dtypes: int64(1), object(1)\n",
      "memory usage: 5.4+ KB\n"
     ]
    }
   ],
   "source": [
    "# смотрю инфо\n",
    "publishers.info()"
   ]
  },
  {
   "cell_type": "markdown",
   "metadata": {},
   "source": [
    "### Таблица ratings"
   ]
  },
  {
   "cell_type": "code",
   "execution_count": 9,
   "metadata": {},
   "outputs": [
    {
     "data": {
      "text/html": [
       "<div>\n",
       "<style scoped>\n",
       "    .dataframe tbody tr th:only-of-type {\n",
       "        vertical-align: middle;\n",
       "    }\n",
       "\n",
       "    .dataframe tbody tr th {\n",
       "        vertical-align: top;\n",
       "    }\n",
       "\n",
       "    .dataframe thead th {\n",
       "        text-align: right;\n",
       "    }\n",
       "</style>\n",
       "<table border=\"1\" class=\"dataframe\">\n",
       "  <thead>\n",
       "    <tr style=\"text-align: right;\">\n",
       "      <th></th>\n",
       "      <th>rating_id</th>\n",
       "      <th>book_id</th>\n",
       "      <th>username</th>\n",
       "      <th>rating</th>\n",
       "    </tr>\n",
       "  </thead>\n",
       "  <tbody>\n",
       "    <tr>\n",
       "      <td>0</td>\n",
       "      <td>1</td>\n",
       "      <td>1</td>\n",
       "      <td>ryanfranco</td>\n",
       "      <td>4</td>\n",
       "    </tr>\n",
       "    <tr>\n",
       "      <td>1</td>\n",
       "      <td>2</td>\n",
       "      <td>1</td>\n",
       "      <td>grantpatricia</td>\n",
       "      <td>2</td>\n",
       "    </tr>\n",
       "    <tr>\n",
       "      <td>2</td>\n",
       "      <td>3</td>\n",
       "      <td>1</td>\n",
       "      <td>brandtandrea</td>\n",
       "      <td>5</td>\n",
       "    </tr>\n",
       "    <tr>\n",
       "      <td>3</td>\n",
       "      <td>4</td>\n",
       "      <td>2</td>\n",
       "      <td>lorichen</td>\n",
       "      <td>3</td>\n",
       "    </tr>\n",
       "    <tr>\n",
       "      <td>4</td>\n",
       "      <td>5</td>\n",
       "      <td>2</td>\n",
       "      <td>mariokeller</td>\n",
       "      <td>2</td>\n",
       "    </tr>\n",
       "  </tbody>\n",
       "</table>\n",
       "</div>"
      ],
      "text/plain": [
       "   rating_id  book_id       username  rating\n",
       "0          1        1     ryanfranco       4\n",
       "1          2        1  grantpatricia       2\n",
       "2          3        1   brandtandrea       5\n",
       "3          4        2       lorichen       3\n",
       "4          5        2    mariokeller       2"
      ]
     },
     "execution_count": 9,
     "metadata": {},
     "output_type": "execute_result"
    }
   ],
   "source": [
    "# делаю запрос на таблицу ratings\n",
    "query =    '''\n",
    "            SELECT * FROM ratings\n",
    "        '''\n",
    "ratings = pd.io.sql.read_sql(query, con = engine)\n",
    "ratings.head()"
   ]
  },
  {
   "cell_type": "code",
   "execution_count": 10,
   "metadata": {},
   "outputs": [
    {
     "name": "stdout",
     "output_type": "stream",
     "text": [
      "<class 'pandas.core.frame.DataFrame'>\n",
      "RangeIndex: 6456 entries, 0 to 6455\n",
      "Data columns (total 4 columns):\n",
      "rating_id    6456 non-null int64\n",
      "book_id      6456 non-null int64\n",
      "username     6456 non-null object\n",
      "rating       6456 non-null int64\n",
      "dtypes: int64(3), object(1)\n",
      "memory usage: 201.9+ KB\n"
     ]
    }
   ],
   "source": [
    "ratings.info()"
   ]
  },
  {
   "cell_type": "markdown",
   "metadata": {},
   "source": [
    "### Таблица reviews"
   ]
  },
  {
   "cell_type": "code",
   "execution_count": 11,
   "metadata": {},
   "outputs": [
    {
     "data": {
      "text/html": [
       "<div>\n",
       "<style scoped>\n",
       "    .dataframe tbody tr th:only-of-type {\n",
       "        vertical-align: middle;\n",
       "    }\n",
       "\n",
       "    .dataframe tbody tr th {\n",
       "        vertical-align: top;\n",
       "    }\n",
       "\n",
       "    .dataframe thead th {\n",
       "        text-align: right;\n",
       "    }\n",
       "</style>\n",
       "<table border=\"1\" class=\"dataframe\">\n",
       "  <thead>\n",
       "    <tr style=\"text-align: right;\">\n",
       "      <th></th>\n",
       "      <th>review_id</th>\n",
       "      <th>book_id</th>\n",
       "      <th>username</th>\n",
       "      <th>text</th>\n",
       "    </tr>\n",
       "  </thead>\n",
       "  <tbody>\n",
       "    <tr>\n",
       "      <td>0</td>\n",
       "      <td>1</td>\n",
       "      <td>1</td>\n",
       "      <td>brandtandrea</td>\n",
       "      <td>Mention society tell send professor analysis. ...</td>\n",
       "    </tr>\n",
       "    <tr>\n",
       "      <td>1</td>\n",
       "      <td>2</td>\n",
       "      <td>1</td>\n",
       "      <td>ryanfranco</td>\n",
       "      <td>Foot glass pretty audience hit themselves. Amo...</td>\n",
       "    </tr>\n",
       "    <tr>\n",
       "      <td>2</td>\n",
       "      <td>3</td>\n",
       "      <td>2</td>\n",
       "      <td>lorichen</td>\n",
       "      <td>Listen treat keep worry. Miss husband tax but ...</td>\n",
       "    </tr>\n",
       "    <tr>\n",
       "      <td>3</td>\n",
       "      <td>4</td>\n",
       "      <td>3</td>\n",
       "      <td>johnsonamanda</td>\n",
       "      <td>Finally month interesting blue could nature cu...</td>\n",
       "    </tr>\n",
       "    <tr>\n",
       "      <td>4</td>\n",
       "      <td>5</td>\n",
       "      <td>3</td>\n",
       "      <td>scotttamara</td>\n",
       "      <td>Nation purpose heavy give wait song will. List...</td>\n",
       "    </tr>\n",
       "  </tbody>\n",
       "</table>\n",
       "</div>"
      ],
      "text/plain": [
       "   review_id  book_id       username  \\\n",
       "0          1        1   brandtandrea   \n",
       "1          2        1     ryanfranco   \n",
       "2          3        2       lorichen   \n",
       "3          4        3  johnsonamanda   \n",
       "4          5        3    scotttamara   \n",
       "\n",
       "                                                text  \n",
       "0  Mention society tell send professor analysis. ...  \n",
       "1  Foot glass pretty audience hit themselves. Amo...  \n",
       "2  Listen treat keep worry. Miss husband tax but ...  \n",
       "3  Finally month interesting blue could nature cu...  \n",
       "4  Nation purpose heavy give wait song will. List...  "
      ]
     },
     "execution_count": 11,
     "metadata": {},
     "output_type": "execute_result"
    }
   ],
   "source": [
    "# делаю запрос на таблицу reviews\n",
    "query =    '''\n",
    "SELECT * \n",
    "FROM reviews\n",
    "        '''\n",
    "reviews = pd.io.sql.read_sql(query, con = engine)\n",
    "reviews.head()"
   ]
  },
  {
   "cell_type": "code",
   "execution_count": 12,
   "metadata": {},
   "outputs": [
    {
     "name": "stdout",
     "output_type": "stream",
     "text": [
      "<class 'pandas.core.frame.DataFrame'>\n",
      "RangeIndex: 2793 entries, 0 to 2792\n",
      "Data columns (total 4 columns):\n",
      "review_id    2793 non-null int64\n",
      "book_id      2793 non-null int64\n",
      "username     2793 non-null object\n",
      "text         2793 non-null object\n",
      "dtypes: int64(2), object(2)\n",
      "memory usage: 87.4+ KB\n"
     ]
    }
   ],
   "source": [
    "reviews.info()"
   ]
  },
  {
   "cell_type": "markdown",
   "metadata": {},
   "source": [
    "## Ответы на вопросы"
   ]
  },
  {
   "cell_type": "markdown",
   "metadata": {},
   "source": [
    "### Сколько книг вышло после 1 января 2000 ?"
   ]
  },
  {
   "cell_type": "code",
   "execution_count": 14,
   "metadata": {},
   "outputs": [],
   "source": [
    "# делаю запрос\n",
    "count_books  = '''\n",
    "SELECT \n",
    "  COUNT(book_id) as cnt\n",
    "FROM \n",
    "  books\n",
    "WHERE \n",
    "  publication_date > '2000-01-01'\n",
    "'''"
   ]
  },
  {
   "cell_type": "code",
   "execution_count": 15,
   "metadata": {},
   "outputs": [
    {
     "data": {
      "text/html": [
       "<div>\n",
       "<style scoped>\n",
       "    .dataframe tbody tr th:only-of-type {\n",
       "        vertical-align: middle;\n",
       "    }\n",
       "\n",
       "    .dataframe tbody tr th {\n",
       "        vertical-align: top;\n",
       "    }\n",
       "\n",
       "    .dataframe thead th {\n",
       "        text-align: right;\n",
       "    }\n",
       "</style>\n",
       "<table border=\"1\" class=\"dataframe\">\n",
       "  <thead>\n",
       "    <tr style=\"text-align: right;\">\n",
       "      <th></th>\n",
       "      <th>cnt</th>\n",
       "    </tr>\n",
       "  </thead>\n",
       "  <tbody>\n",
       "    <tr>\n",
       "      <td>0</td>\n",
       "      <td>819</td>\n",
       "    </tr>\n",
       "  </tbody>\n",
       "</table>\n",
       "</div>"
      ],
      "text/plain": [
       "   cnt\n",
       "0  819"
      ]
     },
     "execution_count": 15,
     "metadata": {},
     "output_type": "execute_result"
    }
   ],
   "source": [
    "count_books = pd.read_sql(count_books, con = engine)\n",
    "count_books"
   ]
  },
  {
   "cell_type": "markdown",
   "metadata": {},
   "source": [
    "После 1 января 2000 вышло 819 книг."
   ]
  },
  {
   "cell_type": "markdown",
   "metadata": {},
   "source": [
    "### Какое количество обзоров и какая средняя оценка?"
   ]
  },
  {
   "cell_type": "code",
   "execution_count": 16,
   "metadata": {},
   "outputs": [],
   "source": [
    "# делаю запрос\n",
    "count_reviews =  '''\n",
    "SELECT\n",
    "  books.title,\n",
    "  COUNT(DISTINCT reviews.review_id) AS cnt_reviews,  \n",
    "  AVG(ratings.rating) AS avg_ratings      \n",
    "FROM \n",
    "  books\n",
    "  LEFT JOIN ratings ON ratings.book_id = books.book_id\n",
    "  LEFT JOIN reviews ON reviews.book_id= books.book_id\n",
    "GROUP BY\n",
    "  books.book_id\n",
    "ORDER BY\n",
    "  cnt_reviews DESC\n",
    "    \n",
    "'''"
   ]
  },
  {
   "cell_type": "code",
   "execution_count": 17,
   "metadata": {},
   "outputs": [
    {
     "data": {
      "text/html": [
       "<div>\n",
       "<style scoped>\n",
       "    .dataframe tbody tr th:only-of-type {\n",
       "        vertical-align: middle;\n",
       "    }\n",
       "\n",
       "    .dataframe tbody tr th {\n",
       "        vertical-align: top;\n",
       "    }\n",
       "\n",
       "    .dataframe thead th {\n",
       "        text-align: right;\n",
       "    }\n",
       "</style>\n",
       "<table border=\"1\" class=\"dataframe\">\n",
       "  <thead>\n",
       "    <tr style=\"text-align: right;\">\n",
       "      <th></th>\n",
       "      <th>title</th>\n",
       "      <th>cnt_reviews</th>\n",
       "      <th>avg_ratings</th>\n",
       "    </tr>\n",
       "  </thead>\n",
       "  <tbody>\n",
       "    <tr>\n",
       "      <td>0</td>\n",
       "      <td>Twilight (Twilight  #1)</td>\n",
       "      <td>7</td>\n",
       "      <td>3.662500</td>\n",
       "    </tr>\n",
       "    <tr>\n",
       "      <td>1</td>\n",
       "      <td>Water for Elephants</td>\n",
       "      <td>6</td>\n",
       "      <td>3.977273</td>\n",
       "    </tr>\n",
       "    <tr>\n",
       "      <td>2</td>\n",
       "      <td>The Glass Castle</td>\n",
       "      <td>6</td>\n",
       "      <td>4.206897</td>\n",
       "    </tr>\n",
       "    <tr>\n",
       "      <td>3</td>\n",
       "      <td>Harry Potter and the Prisoner of Azkaban (Harr...</td>\n",
       "      <td>6</td>\n",
       "      <td>4.414634</td>\n",
       "    </tr>\n",
       "    <tr>\n",
       "      <td>4</td>\n",
       "      <td>The Curious Incident of the Dog in the Night-Time</td>\n",
       "      <td>6</td>\n",
       "      <td>4.081081</td>\n",
       "    </tr>\n",
       "    <tr>\n",
       "      <td>5</td>\n",
       "      <td>The Da Vinci Code (Robert Langdon  #2)</td>\n",
       "      <td>6</td>\n",
       "      <td>3.830508</td>\n",
       "    </tr>\n",
       "    <tr>\n",
       "      <td>6</td>\n",
       "      <td>The Alchemist</td>\n",
       "      <td>6</td>\n",
       "      <td>3.789474</td>\n",
       "    </tr>\n",
       "    <tr>\n",
       "      <td>7</td>\n",
       "      <td>The Hobbit  or There and Back Again</td>\n",
       "      <td>6</td>\n",
       "      <td>4.125000</td>\n",
       "    </tr>\n",
       "    <tr>\n",
       "      <td>8</td>\n",
       "      <td>The Book Thief</td>\n",
       "      <td>6</td>\n",
       "      <td>4.264151</td>\n",
       "    </tr>\n",
       "    <tr>\n",
       "      <td>9</td>\n",
       "      <td>The Lightning Thief (Percy Jackson and the Oly...</td>\n",
       "      <td>6</td>\n",
       "      <td>4.080645</td>\n",
       "    </tr>\n",
       "  </tbody>\n",
       "</table>\n",
       "</div>"
      ],
      "text/plain": [
       "                                               title  cnt_reviews  avg_ratings\n",
       "0                            Twilight (Twilight  #1)            7     3.662500\n",
       "1                                Water for Elephants            6     3.977273\n",
       "2                                   The Glass Castle            6     4.206897\n",
       "3  Harry Potter and the Prisoner of Azkaban (Harr...            6     4.414634\n",
       "4  The Curious Incident of the Dog in the Night-Time            6     4.081081\n",
       "5             The Da Vinci Code (Robert Langdon  #2)            6     3.830508\n",
       "6                                      The Alchemist            6     3.789474\n",
       "7                The Hobbit  or There and Back Again            6     4.125000\n",
       "8                                     The Book Thief            6     4.264151\n",
       "9  The Lightning Thief (Percy Jackson and the Oly...            6     4.080645"
      ]
     },
     "execution_count": 17,
     "metadata": {},
     "output_type": "execute_result"
    }
   ],
   "source": [
    "count_reviews = pd.io.sql.read_sql(count_reviews, con = engine)\n",
    "count_reviews.head(10)"
   ]
  },
  {
   "cell_type": "markdown",
   "metadata": {},
   "source": [
    "## Какое издетельство выпустило наибольшее число книг толще 50 страниц?"
   ]
  },
  {
   "cell_type": "code",
   "execution_count": 19,
   "metadata": {},
   "outputs": [],
   "source": [
    "# делаю запрос\n",
    "pages = '''\n",
    "SELECT\n",
    "  publishers.publisher,\n",
    "  COUNT(books.book_id) AS cnt\n",
    "FROM    \n",
    "  books\n",
    "  LEFT JOIN publishers ON books.publisher_id = publishers.publisher_id\n",
    "WHERE \n",
    "  num_pages > 50\n",
    "GROUP BY\n",
    "  publishers.publisher\n",
    "ORDER BY\n",
    "  cnt DESC\n",
    "'''"
   ]
  },
  {
   "cell_type": "code",
   "execution_count": 20,
   "metadata": {},
   "outputs": [
    {
     "data": {
      "text/html": [
       "<div>\n",
       "<style scoped>\n",
       "    .dataframe tbody tr th:only-of-type {\n",
       "        vertical-align: middle;\n",
       "    }\n",
       "\n",
       "    .dataframe tbody tr th {\n",
       "        vertical-align: top;\n",
       "    }\n",
       "\n",
       "    .dataframe thead th {\n",
       "        text-align: right;\n",
       "    }\n",
       "</style>\n",
       "<table border=\"1\" class=\"dataframe\">\n",
       "  <thead>\n",
       "    <tr style=\"text-align: right;\">\n",
       "      <th></th>\n",
       "      <th>publisher</th>\n",
       "      <th>cnt</th>\n",
       "    </tr>\n",
       "  </thead>\n",
       "  <tbody>\n",
       "    <tr>\n",
       "      <td>0</td>\n",
       "      <td>Penguin Books</td>\n",
       "      <td>42</td>\n",
       "    </tr>\n",
       "    <tr>\n",
       "      <td>1</td>\n",
       "      <td>Vintage</td>\n",
       "      <td>31</td>\n",
       "    </tr>\n",
       "    <tr>\n",
       "      <td>2</td>\n",
       "      <td>Grand Central Publishing</td>\n",
       "      <td>25</td>\n",
       "    </tr>\n",
       "    <tr>\n",
       "      <td>3</td>\n",
       "      <td>Penguin Classics</td>\n",
       "      <td>24</td>\n",
       "    </tr>\n",
       "    <tr>\n",
       "      <td>4</td>\n",
       "      <td>Ballantine Books</td>\n",
       "      <td>19</td>\n",
       "    </tr>\n",
       "    <tr>\n",
       "      <td>...</td>\n",
       "      <td>...</td>\n",
       "      <td>...</td>\n",
       "    </tr>\n",
       "    <tr>\n",
       "      <td>329</td>\n",
       "      <td>Turtleback</td>\n",
       "      <td>1</td>\n",
       "    </tr>\n",
       "    <tr>\n",
       "      <td>330</td>\n",
       "      <td>Atheneum Books for Young Readers: Richard Jack...</td>\n",
       "      <td>1</td>\n",
       "    </tr>\n",
       "    <tr>\n",
       "      <td>331</td>\n",
       "      <td>Penguin Signet</td>\n",
       "      <td>1</td>\n",
       "    </tr>\n",
       "    <tr>\n",
       "      <td>332</td>\n",
       "      <td>Victor Gollancz</td>\n",
       "      <td>1</td>\n",
       "    </tr>\n",
       "    <tr>\n",
       "      <td>333</td>\n",
       "      <td>Harvard Business Review Press</td>\n",
       "      <td>1</td>\n",
       "    </tr>\n",
       "  </tbody>\n",
       "</table>\n",
       "<p>334 rows × 2 columns</p>\n",
       "</div>"
      ],
      "text/plain": [
       "                                             publisher  cnt\n",
       "0                                        Penguin Books   42\n",
       "1                                              Vintage   31\n",
       "2                             Grand Central Publishing   25\n",
       "3                                     Penguin Classics   24\n",
       "4                                     Ballantine Books   19\n",
       "..                                                 ...  ...\n",
       "329                                         Turtleback    1\n",
       "330  Atheneum Books for Young Readers: Richard Jack...    1\n",
       "331                                     Penguin Signet    1\n",
       "332                                    Victor Gollancz    1\n",
       "333                      Harvard Business Review Press    1\n",
       "\n",
       "[334 rows x 2 columns]"
      ]
     },
     "execution_count": 20,
     "metadata": {},
     "output_type": "execute_result"
    }
   ],
   "source": [
    "pub_cnt = pd.io.sql.read_sql(pages, con = engine)\n",
    "pub_cnt"
   ]
  },
  {
   "cell_type": "markdown",
   "metadata": {},
   "source": [
    "Наибольшое количество выпущенных книг больше 50 страниц у издательства Penguin Books - 42 "
   ]
  },
  {
   "cell_type": "markdown",
   "metadata": {},
   "source": [
    "### У какого автора наиболее высокая оценка среди тех у кого их больше 50?"
   ]
  },
  {
   "cell_type": "code",
   "execution_count": 21,
   "metadata": {},
   "outputs": [],
   "source": [
    "author  = '''\n",
    "SELECT\n",
    "  authors.author,\n",
    "  AVG(ratings.rating) AS avg_rating\n",
    "FROM \n",
    "  books\n",
    "  LEFT JOIN authors ON books.author_id = authors.author_id\n",
    "  LEFT JOIN ratings ON ratings.book_id = books.book_id\n",
    "WHERE\n",
    "  books.book_id IN\n",
    "    (SELECT\n",
    "      books.book_id\n",
    "     FROM\n",
    "      books    \n",
    "      LEFT JOIN ratings ON ratings.book_id = books.book_id     \n",
    "     GROUP BY\n",
    "      books.book_id\n",
    "     HAVING \n",
    "      COUNT(ratings.rating_id) > 50)\n",
    "GROUP BY\n",
    "  authors.author  \n",
    "ORDER BY \n",
    "  avg_rating DESC \n",
    "'''"
   ]
  },
  {
   "cell_type": "code",
   "execution_count": 22,
   "metadata": {},
   "outputs": [
    {
     "data": {
      "text/html": [
       "<div>\n",
       "<style scoped>\n",
       "    .dataframe tbody tr th:only-of-type {\n",
       "        vertical-align: middle;\n",
       "    }\n",
       "\n",
       "    .dataframe tbody tr th {\n",
       "        vertical-align: top;\n",
       "    }\n",
       "\n",
       "    .dataframe thead th {\n",
       "        text-align: right;\n",
       "    }\n",
       "</style>\n",
       "<table border=\"1\" class=\"dataframe\">\n",
       "  <thead>\n",
       "    <tr style=\"text-align: right;\">\n",
       "      <th></th>\n",
       "      <th>author</th>\n",
       "      <th>avg_rating</th>\n",
       "    </tr>\n",
       "  </thead>\n",
       "  <tbody>\n",
       "    <tr>\n",
       "      <td>0</td>\n",
       "      <td>J.K. Rowling/Mary GrandPré</td>\n",
       "      <td>4.287097</td>\n",
       "    </tr>\n",
       "    <tr>\n",
       "      <td>1</td>\n",
       "      <td>Markus Zusak/Cao Xuân Việt Khương</td>\n",
       "      <td>4.264151</td>\n",
       "    </tr>\n",
       "    <tr>\n",
       "      <td>2</td>\n",
       "      <td>J.R.R. Tolkien</td>\n",
       "      <td>4.246914</td>\n",
       "    </tr>\n",
       "    <tr>\n",
       "      <td>3</td>\n",
       "      <td>Louisa May Alcott</td>\n",
       "      <td>4.192308</td>\n",
       "    </tr>\n",
       "    <tr>\n",
       "      <td>4</td>\n",
       "      <td>Rick Riordan</td>\n",
       "      <td>4.080645</td>\n",
       "    </tr>\n",
       "    <tr>\n",
       "      <td>5</td>\n",
       "      <td>William Golding</td>\n",
       "      <td>3.901408</td>\n",
       "    </tr>\n",
       "    <tr>\n",
       "      <td>6</td>\n",
       "      <td>J.D. Salinger</td>\n",
       "      <td>3.825581</td>\n",
       "    </tr>\n",
       "    <tr>\n",
       "      <td>7</td>\n",
       "      <td>Paulo Coelho/Alan R. Clarke/Özdemir İnce</td>\n",
       "      <td>3.789474</td>\n",
       "    </tr>\n",
       "    <tr>\n",
       "      <td>8</td>\n",
       "      <td>William Shakespeare/Paul Werstine/Barbara A. M...</td>\n",
       "      <td>3.787879</td>\n",
       "    </tr>\n",
       "    <tr>\n",
       "      <td>9</td>\n",
       "      <td>Lois Lowry</td>\n",
       "      <td>3.750000</td>\n",
       "    </tr>\n",
       "    <tr>\n",
       "      <td>10</td>\n",
       "      <td>Dan Brown</td>\n",
       "      <td>3.741259</td>\n",
       "    </tr>\n",
       "    <tr>\n",
       "      <td>11</td>\n",
       "      <td>George Orwell/Boris Grabnar/Peter Škerl</td>\n",
       "      <td>3.729730</td>\n",
       "    </tr>\n",
       "    <tr>\n",
       "      <td>12</td>\n",
       "      <td>Stephenie Meyer</td>\n",
       "      <td>3.662500</td>\n",
       "    </tr>\n",
       "    <tr>\n",
       "      <td>13</td>\n",
       "      <td>John Steinbeck</td>\n",
       "      <td>3.622951</td>\n",
       "    </tr>\n",
       "  </tbody>\n",
       "</table>\n",
       "</div>"
      ],
      "text/plain": [
       "                                               author  avg_rating\n",
       "0                          J.K. Rowling/Mary GrandPré    4.287097\n",
       "1                   Markus Zusak/Cao Xuân Việt Khương    4.264151\n",
       "2                                      J.R.R. Tolkien    4.246914\n",
       "3                                   Louisa May Alcott    4.192308\n",
       "4                                        Rick Riordan    4.080645\n",
       "5                                     William Golding    3.901408\n",
       "6                                       J.D. Salinger    3.825581\n",
       "7            Paulo Coelho/Alan R. Clarke/Özdemir İnce    3.789474\n",
       "8   William Shakespeare/Paul Werstine/Barbara A. M...    3.787879\n",
       "9                                          Lois Lowry    3.750000\n",
       "10                                          Dan Brown    3.741259\n",
       "11            George Orwell/Boris Grabnar/Peter Škerl    3.729730\n",
       "12                                    Stephenie Meyer    3.662500\n",
       "13                                     John Steinbeck    3.622951"
      ]
     },
     "execution_count": 22,
     "metadata": {},
     "output_type": "execute_result"
    }
   ],
   "source": [
    "ratings_cnt = pd.io.sql.read_sql(author, con = engine)\n",
    "ratings_cnt"
   ]
  },
  {
   "cell_type": "markdown",
   "metadata": {},
   "source": [
    "Наиболее высоко оцениваемой стала J.K. Rowling c иллюстраторкой её книг Mary GrandPré."
   ]
  },
  {
   "cell_type": "markdown",
   "metadata": {},
   "source": [
    "### Какое среднее количество обзоров от пользователей, которые поставили больше 50 оценок?"
   ]
  },
  {
   "cell_type": "code",
   "execution_count": 23,
   "metadata": {},
   "outputs": [],
   "source": [
    "avg_review  = '''\n",
    "SELECT\n",
    "  SUM(subq.cnt) / COUNT(subq.username) AS avg_cnt_reviews\n",
    "FROM\n",
    "  (SELECT\n",
    "    reviews.username,\n",
    "    COUNT(reviews.review_id) AS cnt\n",
    "   FROM\n",
    "    reviews\n",
    "   WHERE reviews.username IN\n",
    "    (SELECT\n",
    "      ratings.username\n",
    "     FROM\n",
    "      ratings\n",
    "      LEFT JOIN books ON books.book_id = ratings.book_id\n",
    "     GROUP BY\n",
    "        ratings.username\n",
    "     HAVING\n",
    "        COUNT(ratings.rating_id) > 50)\n",
    "     GROUP BY\n",
    "        reviews.username) AS subq\n",
    "\n",
    "       '''"
   ]
  },
  {
   "cell_type": "code",
   "execution_count": 24,
   "metadata": {
    "scrolled": true
   },
   "outputs": [
    {
     "data": {
      "text/html": [
       "<div>\n",
       "<style scoped>\n",
       "    .dataframe tbody tr th:only-of-type {\n",
       "        vertical-align: middle;\n",
       "    }\n",
       "\n",
       "    .dataframe tbody tr th {\n",
       "        vertical-align: top;\n",
       "    }\n",
       "\n",
       "    .dataframe thead th {\n",
       "        text-align: right;\n",
       "    }\n",
       "</style>\n",
       "<table border=\"1\" class=\"dataframe\">\n",
       "  <thead>\n",
       "    <tr style=\"text-align: right;\">\n",
       "      <th></th>\n",
       "      <th>avg_cnt_reviews</th>\n",
       "    </tr>\n",
       "  </thead>\n",
       "  <tbody>\n",
       "    <tr>\n",
       "      <td>0</td>\n",
       "      <td>24.333333</td>\n",
       "    </tr>\n",
       "  </tbody>\n",
       "</table>\n",
       "</div>"
      ],
      "text/plain": [
       "   avg_cnt_reviews\n",
       "0        24.333333"
      ]
     },
     "execution_count": 24,
     "metadata": {},
     "output_type": "execute_result"
    }
   ],
   "source": [
    "avg_review  = pd.read_sql(avg_review, con = engine)\n",
    "avg_review "
   ]
  },
  {
   "cell_type": "markdown",
   "metadata": {},
   "source": [
    "Среднее количество обзоров от пользователей, которые поставили более 50 оценок - 24."
   ]
  },
  {
   "cell_type": "markdown",
   "metadata": {},
   "source": [
    "## Ответы:"
   ]
  },
  {
   "cell_type": "markdown",
   "metadata": {},
   "source": [
    "* После 1 января 2000 вышло 819 книг.\n",
    "* Самое большое количество обзоров у Twilight (Twilight #1) - 7.\n",
    "* Наибольшое количество выпущенных книг больше 50 страниц у издательства Penguin Books - 42.\n",
    "* Наиболее высоко оцениваемой стала J.K. Rowling c иллюстраторкой её книг Mary GrandPré.\n",
    "* Среднее количество обзоров от пользователей, которые поставили более 50 оценок - 24."
   ]
  }
 ],
 "metadata": {
  "ExecuteTimeLog": [
   {
    "duration": 4,
    "start_time": "2021-09-24T14:01:58.556Z"
   },
   {
    "duration": 369,
    "start_time": "2021-09-24T14:04:46.955Z"
   },
   {
    "duration": 775,
    "start_time": "2021-09-24T14:04:50.070Z"
   },
   {
    "duration": 38,
    "start_time": "2021-09-24T14:04:50.847Z"
   },
   {
    "duration": 328,
    "start_time": "2021-09-24T14:05:02.444Z"
   },
   {
    "duration": 10,
    "start_time": "2021-09-24T14:05:13.196Z"
   },
   {
    "duration": 86,
    "start_time": "2021-09-24T14:05:23.428Z"
   },
   {
    "duration": 8,
    "start_time": "2021-09-24T14:05:35.111Z"
   },
   {
    "duration": 74,
    "start_time": "2021-09-24T14:05:44.181Z"
   },
   {
    "duration": 8,
    "start_time": "2021-09-24T14:05:53.850Z"
   },
   {
    "duration": 101,
    "start_time": "2021-09-24T14:07:10.141Z"
   },
   {
    "duration": 9,
    "start_time": "2021-09-24T14:07:10.604Z"
   },
   {
    "duration": 86,
    "start_time": "2021-09-24T14:07:11.693Z"
   },
   {
    "duration": 7,
    "start_time": "2021-09-24T14:07:12.101Z"
   },
   {
    "duration": 74,
    "start_time": "2021-09-24T14:07:13.324Z"
   },
   {
    "duration": 8,
    "start_time": "2021-09-24T14:07:13.589Z"
   },
   {
    "duration": 135,
    "start_time": "2021-09-24T14:07:53.596Z"
   },
   {
    "duration": 9,
    "start_time": "2021-09-24T14:08:03.405Z"
   },
   {
    "duration": 132,
    "start_time": "2021-09-24T14:08:35.271Z"
   },
   {
    "duration": 12,
    "start_time": "2021-09-24T14:08:49.035Z"
   },
   {
    "duration": 77,
    "start_time": "2021-09-24T14:09:52.134Z"
   },
   {
    "duration": 106,
    "start_time": "2021-09-24T14:10:50.795Z"
   },
   {
    "duration": 4,
    "start_time": "2021-09-24T14:11:45.202Z"
   },
   {
    "duration": 32,
    "start_time": "2021-09-24T14:11:45.208Z"
   },
   {
    "duration": 314,
    "start_time": "2021-09-24T14:11:45.243Z"
   },
   {
    "duration": 8,
    "start_time": "2021-09-24T14:11:45.560Z"
   },
   {
    "duration": 95,
    "start_time": "2021-09-24T14:11:45.571Z"
   },
   {
    "duration": 7,
    "start_time": "2021-09-24T14:11:45.668Z"
   },
   {
    "duration": 94,
    "start_time": "2021-09-24T14:11:45.677Z"
   },
   {
    "duration": 7,
    "start_time": "2021-09-24T14:11:45.773Z"
   },
   {
    "duration": 184,
    "start_time": "2021-09-24T14:11:45.784Z"
   },
   {
    "duration": 8,
    "start_time": "2021-09-24T14:11:45.970Z"
   },
   {
    "duration": 132,
    "start_time": "2021-09-24T14:11:45.981Z"
   },
   {
    "duration": 9,
    "start_time": "2021-09-24T14:11:46.116Z"
   },
   {
    "duration": 90,
    "start_time": "2021-09-24T14:11:46.127Z"
   },
   {
    "duration": 73,
    "start_time": "2021-09-24T14:11:46.220Z"
   },
   {
    "duration": 93,
    "start_time": "2021-09-24T14:11:46.296Z"
   },
   {
    "duration": 792,
    "start_time": "2021-09-24T14:11:59.461Z"
   },
   {
    "duration": 38,
    "start_time": "2021-09-24T14:12:00.256Z"
   },
   {
    "duration": 272,
    "start_time": "2021-09-24T14:12:00.297Z"
   },
   {
    "duration": 8,
    "start_time": "2021-09-24T14:12:00.572Z"
   },
   {
    "duration": 102,
    "start_time": "2021-09-24T14:12:00.583Z"
   },
   {
    "duration": 7,
    "start_time": "2021-09-24T14:12:00.687Z"
   },
   {
    "duration": 94,
    "start_time": "2021-09-24T14:12:00.697Z"
   },
   {
    "duration": 8,
    "start_time": "2021-09-24T14:12:00.794Z"
   },
   {
    "duration": 140,
    "start_time": "2021-09-24T14:12:00.805Z"
   },
   {
    "duration": 8,
    "start_time": "2021-09-24T14:12:00.948Z"
   },
   {
    "duration": 108,
    "start_time": "2021-09-24T14:12:00.959Z"
   },
   {
    "duration": 8,
    "start_time": "2021-09-24T14:12:01.069Z"
   },
   {
    "duration": 30,
    "start_time": "2021-09-24T14:12:01.080Z"
   },
   {
    "duration": 101,
    "start_time": "2021-09-24T14:12:01.113Z"
   },
   {
    "duration": 94,
    "start_time": "2021-09-24T14:12:01.216Z"
   },
   {
    "duration": 3,
    "start_time": "2021-09-24T14:12:44.237Z"
   },
   {
    "duration": 98,
    "start_time": "2021-09-24T14:12:44.634Z"
   },
   {
    "duration": 5,
    "start_time": "2021-09-24T14:15:20.924Z"
   },
   {
    "duration": 554,
    "start_time": "2021-09-24T14:15:21.994Z"
   },
   {
    "duration": 4,
    "start_time": "2021-09-24T14:17:18.346Z"
   },
   {
    "duration": 100,
    "start_time": "2021-09-24T14:17:19.117Z"
   },
   {
    "duration": 4,
    "start_time": "2021-09-24T14:17:44.645Z"
   },
   {
    "duration": 388,
    "start_time": "2021-09-24T14:17:44.652Z"
   },
   {
    "duration": 4,
    "start_time": "2021-09-24T14:17:59.565Z"
   },
   {
    "duration": 107,
    "start_time": "2021-09-24T14:17:59.831Z"
   },
   {
    "duration": 4,
    "start_time": "2021-09-24T14:19:53.472Z"
   },
   {
    "duration": 386,
    "start_time": "2021-09-24T14:19:54.633Z"
   },
   {
    "duration": 4,
    "start_time": "2021-09-24T14:20:34.855Z"
   },
   {
    "duration": 103,
    "start_time": "2021-09-24T14:20:35.609Z"
   },
   {
    "duration": 4,
    "start_time": "2021-09-24T14:20:53.476Z"
   },
   {
    "duration": 106,
    "start_time": "2021-09-24T14:21:10.520Z"
   },
   {
    "duration": 787,
    "start_time": "2021-09-24T14:21:45.763Z"
   },
   {
    "duration": 45,
    "start_time": "2021-09-24T14:21:46.553Z"
   },
   {
    "duration": 291,
    "start_time": "2021-09-24T14:21:46.601Z"
   },
   {
    "duration": 9,
    "start_time": "2021-09-24T14:21:46.896Z"
   },
   {
    "duration": 103,
    "start_time": "2021-09-24T14:21:46.909Z"
   },
   {
    "duration": 10,
    "start_time": "2021-09-24T14:21:47.015Z"
   },
   {
    "duration": 100,
    "start_time": "2021-09-24T14:21:47.028Z"
   },
   {
    "duration": 10,
    "start_time": "2021-09-24T14:21:47.131Z"
   },
   {
    "duration": 118,
    "start_time": "2021-09-24T14:21:47.146Z"
   },
   {
    "duration": 8,
    "start_time": "2021-09-24T14:21:47.268Z"
   },
   {
    "duration": 102,
    "start_time": "2021-09-24T14:21:47.278Z"
   },
   {
    "duration": 12,
    "start_time": "2021-09-24T14:21:47.383Z"
   },
   {
    "duration": 21,
    "start_time": "2021-09-24T14:21:47.398Z"
   },
   {
    "duration": 98,
    "start_time": "2021-09-24T14:21:47.422Z"
   },
   {
    "duration": 5,
    "start_time": "2021-09-24T14:21:47.523Z"
   },
   {
    "duration": 105,
    "start_time": "2021-09-24T14:21:47.531Z"
   },
   {
    "duration": 4,
    "start_time": "2021-09-24T14:22:18.678Z"
   },
   {
    "duration": 121,
    "start_time": "2021-09-24T14:22:19.556Z"
   },
   {
    "duration": 8,
    "start_time": "2021-09-24T14:23:06.043Z"
   },
   {
    "duration": 110,
    "start_time": "2021-09-24T14:23:06.708Z"
   },
   {
    "duration": 3,
    "start_time": "2021-09-24T14:23:19.011Z"
   },
   {
    "duration": 109,
    "start_time": "2021-09-24T14:23:21.479Z"
   },
   {
    "duration": 3,
    "start_time": "2021-09-24T14:24:15.980Z"
   },
   {
    "duration": 80,
    "start_time": "2021-09-24T14:24:24.842Z"
   },
   {
    "duration": 80,
    "start_time": "2021-09-24T14:25:25.363Z"
   },
   {
    "duration": 4,
    "start_time": "2021-09-24T14:25:39.039Z"
   },
   {
    "duration": 81,
    "start_time": "2021-09-24T14:25:39.298Z"
   },
   {
    "duration": 3,
    "start_time": "2021-09-24T14:27:20.804Z"
   },
   {
    "duration": 75,
    "start_time": "2021-09-24T14:27:21.467Z"
   },
   {
    "duration": 4,
    "start_time": "2021-09-24T14:33:59.139Z"
   },
   {
    "duration": 75,
    "start_time": "2021-09-24T14:33:59.962Z"
   },
   {
    "duration": 3,
    "start_time": "2021-09-24T14:39:44.026Z"
   },
   {
    "duration": 110,
    "start_time": "2021-09-24T14:39:44.127Z"
   },
   {
    "duration": 459,
    "start_time": "2021-09-24T14:40:02.346Z"
   },
   {
    "duration": 498,
    "start_time": "2021-09-24T14:40:22.355Z"
   },
   {
    "duration": 8,
    "start_time": "2021-09-24T14:40:24.362Z"
   },
   {
    "duration": 179,
    "start_time": "2021-09-24T14:40:24.874Z"
   },
   {
    "duration": 360,
    "start_time": "2021-09-24T14:40:31.194Z"
   },
   {
    "duration": 4,
    "start_time": "2021-09-24T14:40:33.832Z"
   },
   {
    "duration": 169,
    "start_time": "2021-09-24T14:40:34.233Z"
   },
   {
    "duration": 4,
    "start_time": "2021-09-24T14:41:11.115Z"
   },
   {
    "duration": 107,
    "start_time": "2021-09-24T14:41:11.394Z"
   },
   {
    "duration": 868,
    "start_time": "2021-09-24T21:10:05.649Z"
   },
   {
    "duration": 47,
    "start_time": "2021-09-24T21:10:06.519Z"
   },
   {
    "duration": 248,
    "start_time": "2021-09-24T21:10:06.569Z"
   },
   {
    "duration": 10,
    "start_time": "2021-09-24T21:10:06.820Z"
   },
   {
    "duration": 77,
    "start_time": "2021-09-24T21:10:06.833Z"
   },
   {
    "duration": 8,
    "start_time": "2021-09-24T21:10:06.913Z"
   },
   {
    "duration": 82,
    "start_time": "2021-09-24T21:10:06.924Z"
   },
   {
    "duration": 9,
    "start_time": "2021-09-24T21:10:07.008Z"
   },
   {
    "duration": 99,
    "start_time": "2021-09-24T21:10:07.021Z"
   },
   {
    "duration": 10,
    "start_time": "2021-09-24T21:10:07.123Z"
   },
   {
    "duration": 82,
    "start_time": "2021-09-24T21:10:07.135Z"
   },
   {
    "duration": 9,
    "start_time": "2021-09-24T21:10:07.220Z"
   },
   {
    "duration": 119,
    "start_time": "2021-09-24T21:10:07.232Z"
   },
   {
    "duration": 1,
    "start_time": "2021-09-24T21:10:07.352Z"
   },
   {
    "duration": 0,
    "start_time": "2021-09-24T21:10:07.355Z"
   },
   {
    "duration": 0,
    "start_time": "2021-09-24T21:10:07.357Z"
   },
   {
    "duration": -14,
    "start_time": "2021-09-24T21:10:07.372Z"
   },
   {
    "duration": -16,
    "start_time": "2021-09-24T21:10:07.375Z"
   },
   {
    "duration": -16,
    "start_time": "2021-09-24T21:10:07.377Z"
   },
   {
    "duration": -18,
    "start_time": "2021-09-24T21:10:07.380Z"
   },
   {
    "duration": -20,
    "start_time": "2021-09-24T21:10:07.384Z"
   },
   {
    "duration": -22,
    "start_time": "2021-09-24T21:10:07.387Z"
   },
   {
    "duration": -24,
    "start_time": "2021-09-24T21:10:07.391Z"
   },
   {
    "duration": 3,
    "start_time": "2021-09-24T21:10:40.422Z"
   },
   {
    "duration": 62,
    "start_time": "2021-09-24T21:10:40.675Z"
   },
   {
    "duration": 3,
    "start_time": "2021-09-24T21:10:56.450Z"
   },
   {
    "duration": 92,
    "start_time": "2021-09-24T21:10:56.899Z"
   },
   {
    "duration": 14,
    "start_time": "2021-09-24T21:11:06.126Z"
   },
   {
    "duration": 4,
    "start_time": "2021-09-24T21:11:15.011Z"
   },
   {
    "duration": 68,
    "start_time": "2021-09-24T21:11:16.701Z"
   },
   {
    "duration": 3,
    "start_time": "2021-09-24T21:11:16.773Z"
   },
   {
    "duration": 73,
    "start_time": "2021-09-24T21:11:16.780Z"
   },
   {
    "duration": 3,
    "start_time": "2021-09-24T21:11:24.546Z"
   },
   {
    "duration": 63,
    "start_time": "2021-09-24T21:11:25.263Z"
   }
  ],
  "kernelspec": {
   "display_name": "Python 3",
   "language": "python",
   "name": "python3"
  },
  "language_info": {
   "codemirror_mode": {
    "name": "ipython",
    "version": 3
   },
   "file_extension": ".py",
   "mimetype": "text/x-python",
   "name": "python",
   "nbconvert_exporter": "python",
   "pygments_lexer": "ipython3",
   "version": "3.7.8"
  },
  "toc": {
   "base_numbering": 1,
   "nav_menu": {},
   "number_sections": true,
   "sideBar": true,
   "skip_h1_title": true,
   "title_cell": "Table of Contents",
   "title_sidebar": "Contents",
   "toc_cell": false,
   "toc_position": {},
   "toc_section_display": true,
   "toc_window_display": false
  }
 },
 "nbformat": 4,
 "nbformat_minor": 2
}
