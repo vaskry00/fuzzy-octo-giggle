{
 "cells": [
  {
   "cell_type": "markdown",
   "metadata": {},
   "source": [
    "# Финальный проект\n",
    "\n"
   ]
  },
  {
   "cell_type": "markdown",
   "metadata": {},
   "source": [
    "# Банки — Сегментация пользователей по потреблению"
   ]
  },
  {
   "cell_type": "markdown",
   "metadata": {},
   "source": [
    "## Содержание\n"
   ]
  },
  {
   "cell_type": "markdown",
   "metadata": {},
   "source": [
    "\n",
    "[]\n",
    "[](#to_content.)\n",
    "* [Описание проекта и описание данных](#0.)\n",
    "* [Загрузка данных и предобработка](#1.)\n",
    "* [Исследовательский анализ данных](#2.)\n",
    "    * [Корреляционная таблица](#2.1)\n",
    "    * [products](#2.2)\n",
    "    * [gender](#2.3)\n",
    "    * [city](#2.4)\n",
    "    * [age](#2.5)\n",
    "    * [loyalty](#2.6)\n",
    "    * [churn](#2.7)\n",
    "    * [objects](#2.8)\n",
    "    * [creditcard](#2.9)\n",
    "    * [salary](#2.10)\n",
    "    * [balance](#2.11)\n",
    "    * [score](#2.12)\n",
    "    * [Вывод](#2.13)\n",
    "* [Формулировка и проверка статистических гипотез](#3.)\n",
    "    * [Проверка гипотезы различия дохода между теми клиентами, которые пользуются двумя продуктами банка, и теми, которые пользуются одним](#3.1)\n",
    "    * [Проверка гипотезы различия дохода между теми клиентами, которые пользуются двумя продуктами банка, и теми, которые пользуются одним](#3.2)\n",
    "* [Вывод](4.)"
   ]
  },
  {
   "cell_type": "markdown",
   "metadata": {},
   "source": [
    "## Описание проекта  и описание данных \n",
    "<a name=\"0.\"></a><br/>\n",
    "[<font size=\"2\">(к содержанию)</font>](#to_content.)"
   ]
  },
  {
   "cell_type": "markdown",
   "metadata": {},
   "source": [
    "Заказчик: Менеджер продукта, который хочет выделить основные аудитории и разработать программы мероприятий для каждой.\n",
    "\n",
    "Основной вопрос: На какие основные сегменты делятся клиенты банка и характеристики каждого из этих сегментов?\n",
    "\n",
    "Задача: Проанализировать клиентов регионального банка и сегментировать \n",
    "пользователей по количеству потребляемых продуктов."
   ]
  },
  {
   "cell_type": "markdown",
   "metadata": {},
   "source": [
    "Датасет содержит данные о клиентах банка «Метанпром». Банк располагается в Ярославле и областных городах: Ростов Великий и Рыбинск.\n",
    "\n",
    "Колонки:\n",
    "\n",
    "- `userid` — идентификатор пользователя,\n",
    "- `score` — баллы кредитного скоринга,\n",
    "- `City` — город,\n",
    "- `Gender` — пол,\n",
    "- `Age` — возраст,\n",
    "- `Objects` — количество объектов в собственности,\n",
    "- `Balance` — баланс на счёте,\n",
    "- `Products` — количество продуктов, которыми пользуется клиент,\n",
    "- `CreditCard` — есть ли кредитная карта,\n",
    "- `Loyalty` — активный клиент,\n",
    "- `estimated_salary` — заработная плата клиента,\n",
    "- `Churn` — ушёл или нет."
   ]
  },
  {
   "cell_type": "markdown",
   "metadata": {},
   "source": [
    "## Загрузка данных  и предобработка \n",
    "<a name=\"1.\"></a><br/>\n",
    "[<font size=\"2\">(к содержанию)</font>](#to_content.)"
   ]
  },
  {
   "cell_type": "code",
   "execution_count": 1,
   "metadata": {},
   "outputs": [],
   "source": [
    "# загружаю необходимые библиотеки\n",
    "import pandas as pd\n",
    "import seaborn as sns\n",
    "import matplotlib.pyplot as plt\n",
    "import numpy as np\n",
    "from scipy import stats as st\n",
    "from scipy.stats import mannwhitneyu\n",
    "import warnings\n",
    "warnings.filterwarnings('ignore')"
   ]
  },
  {
   "cell_type": "code",
   "execution_count": 2,
   "metadata": {},
   "outputs": [],
   "source": [
    "# загружаю таблицу\n",
    "df=pd.read_csv('/datasets/bank_dataset.csv')"
   ]
  },
  {
   "cell_type": "code",
   "execution_count": 3,
   "metadata": {},
   "outputs": [
    {
     "data": {
      "text/html": [
       "<div>\n",
       "<style scoped>\n",
       "    .dataframe tbody tr th:only-of-type {\n",
       "        vertical-align: middle;\n",
       "    }\n",
       "\n",
       "    .dataframe tbody tr th {\n",
       "        vertical-align: top;\n",
       "    }\n",
       "\n",
       "    .dataframe thead th {\n",
       "        text-align: right;\n",
       "    }\n",
       "</style>\n",
       "<table border=\"1\" class=\"dataframe\">\n",
       "  <thead>\n",
       "    <tr style=\"text-align: right;\">\n",
       "      <th></th>\n",
       "      <th>userid</th>\n",
       "      <th>score</th>\n",
       "      <th>City</th>\n",
       "      <th>Gender</th>\n",
       "      <th>Age</th>\n",
       "      <th>Objects</th>\n",
       "      <th>Balance</th>\n",
       "      <th>Products</th>\n",
       "      <th>CreditCard</th>\n",
       "      <th>Loyalty</th>\n",
       "      <th>estimated_salary</th>\n",
       "      <th>Churn</th>\n",
       "    </tr>\n",
       "  </thead>\n",
       "  <tbody>\n",
       "    <tr>\n",
       "      <td>0</td>\n",
       "      <td>15677338</td>\n",
       "      <td>619</td>\n",
       "      <td>Ярославль</td>\n",
       "      <td>Ж</td>\n",
       "      <td>42</td>\n",
       "      <td>2</td>\n",
       "      <td>NaN</td>\n",
       "      <td>1</td>\n",
       "      <td>1</td>\n",
       "      <td>1</td>\n",
       "      <td>101348.88</td>\n",
       "      <td>1</td>\n",
       "    </tr>\n",
       "    <tr>\n",
       "      <td>1</td>\n",
       "      <td>15690047</td>\n",
       "      <td>608</td>\n",
       "      <td>Рыбинск</td>\n",
       "      <td>Ж</td>\n",
       "      <td>41</td>\n",
       "      <td>1</td>\n",
       "      <td>83807.86</td>\n",
       "      <td>1</td>\n",
       "      <td>0</td>\n",
       "      <td>1</td>\n",
       "      <td>112542.58</td>\n",
       "      <td>0</td>\n",
       "    </tr>\n",
       "    <tr>\n",
       "      <td>2</td>\n",
       "      <td>15662040</td>\n",
       "      <td>502</td>\n",
       "      <td>Ярославль</td>\n",
       "      <td>Ж</td>\n",
       "      <td>42</td>\n",
       "      <td>8</td>\n",
       "      <td>159660.80</td>\n",
       "      <td>3</td>\n",
       "      <td>1</td>\n",
       "      <td>0</td>\n",
       "      <td>113931.57</td>\n",
       "      <td>1</td>\n",
       "    </tr>\n",
       "    <tr>\n",
       "      <td>3</td>\n",
       "      <td>15744090</td>\n",
       "      <td>699</td>\n",
       "      <td>Ярославль</td>\n",
       "      <td>Ж</td>\n",
       "      <td>39</td>\n",
       "      <td>1</td>\n",
       "      <td>NaN</td>\n",
       "      <td>2</td>\n",
       "      <td>0</td>\n",
       "      <td>0</td>\n",
       "      <td>93826.63</td>\n",
       "      <td>0</td>\n",
       "    </tr>\n",
       "    <tr>\n",
       "      <td>4</td>\n",
       "      <td>15780624</td>\n",
       "      <td>850</td>\n",
       "      <td>Рыбинск</td>\n",
       "      <td>Ж</td>\n",
       "      <td>43</td>\n",
       "      <td>2</td>\n",
       "      <td>125510.82</td>\n",
       "      <td>1</td>\n",
       "      <td>1</td>\n",
       "      <td>1</td>\n",
       "      <td>79084.10</td>\n",
       "      <td>0</td>\n",
       "    </tr>\n",
       "    <tr>\n",
       "      <td>...</td>\n",
       "      <td>...</td>\n",
       "      <td>...</td>\n",
       "      <td>...</td>\n",
       "      <td>...</td>\n",
       "      <td>...</td>\n",
       "      <td>...</td>\n",
       "      <td>...</td>\n",
       "      <td>...</td>\n",
       "      <td>...</td>\n",
       "      <td>...</td>\n",
       "      <td>...</td>\n",
       "      <td>...</td>\n",
       "    </tr>\n",
       "    <tr>\n",
       "      <td>9995</td>\n",
       "      <td>15648965</td>\n",
       "      <td>771</td>\n",
       "      <td>Ярославль</td>\n",
       "      <td>М</td>\n",
       "      <td>39</td>\n",
       "      <td>5</td>\n",
       "      <td>NaN</td>\n",
       "      <td>2</td>\n",
       "      <td>1</td>\n",
       "      <td>0</td>\n",
       "      <td>96270.64</td>\n",
       "      <td>0</td>\n",
       "    </tr>\n",
       "    <tr>\n",
       "      <td>9996</td>\n",
       "      <td>15612628</td>\n",
       "      <td>516</td>\n",
       "      <td>Ярославль</td>\n",
       "      <td>М</td>\n",
       "      <td>35</td>\n",
       "      <td>10</td>\n",
       "      <td>57369.61</td>\n",
       "      <td>1</td>\n",
       "      <td>1</td>\n",
       "      <td>1</td>\n",
       "      <td>101699.77</td>\n",
       "      <td>0</td>\n",
       "    </tr>\n",
       "    <tr>\n",
       "      <td>9997</td>\n",
       "      <td>15627268</td>\n",
       "      <td>709</td>\n",
       "      <td>Ярославль</td>\n",
       "      <td>Ж</td>\n",
       "      <td>36</td>\n",
       "      <td>7</td>\n",
       "      <td>NaN</td>\n",
       "      <td>1</td>\n",
       "      <td>0</td>\n",
       "      <td>1</td>\n",
       "      <td>42085.58</td>\n",
       "      <td>1</td>\n",
       "    </tr>\n",
       "    <tr>\n",
       "      <td>9998</td>\n",
       "      <td>15725091</td>\n",
       "      <td>772</td>\n",
       "      <td>Ростов Великий</td>\n",
       "      <td>М</td>\n",
       "      <td>42</td>\n",
       "      <td>3</td>\n",
       "      <td>75075.31</td>\n",
       "      <td>2</td>\n",
       "      <td>1</td>\n",
       "      <td>0</td>\n",
       "      <td>92888.52</td>\n",
       "      <td>1</td>\n",
       "    </tr>\n",
       "    <tr>\n",
       "      <td>9999</td>\n",
       "      <td>15671055</td>\n",
       "      <td>792</td>\n",
       "      <td>Ярославль</td>\n",
       "      <td>Ж</td>\n",
       "      <td>28</td>\n",
       "      <td>4</td>\n",
       "      <td>130142.79</td>\n",
       "      <td>1</td>\n",
       "      <td>1</td>\n",
       "      <td>0</td>\n",
       "      <td>38190.78</td>\n",
       "      <td>0</td>\n",
       "    </tr>\n",
       "  </tbody>\n",
       "</table>\n",
       "<p>10000 rows × 12 columns</p>\n",
       "</div>"
      ],
      "text/plain": [
       "        userid  score            City Gender  Age  Objects    Balance  \\\n",
       "0     15677338    619       Ярославль      Ж   42        2        NaN   \n",
       "1     15690047    608         Рыбинск      Ж   41        1   83807.86   \n",
       "2     15662040    502       Ярославль      Ж   42        8  159660.80   \n",
       "3     15744090    699       Ярославль      Ж   39        1        NaN   \n",
       "4     15780624    850         Рыбинск      Ж   43        2  125510.82   \n",
       "...        ...    ...             ...    ...  ...      ...        ...   \n",
       "9995  15648965    771       Ярославль      М   39        5        NaN   \n",
       "9996  15612628    516       Ярославль      М   35       10   57369.61   \n",
       "9997  15627268    709       Ярославль      Ж   36        7        NaN   \n",
       "9998  15725091    772  Ростов Великий      М   42        3   75075.31   \n",
       "9999  15671055    792       Ярославль      Ж   28        4  130142.79   \n",
       "\n",
       "      Products  CreditCard  Loyalty  estimated_salary  Churn  \n",
       "0            1           1        1         101348.88      1  \n",
       "1            1           0        1         112542.58      0  \n",
       "2            3           1        0         113931.57      1  \n",
       "3            2           0        0          93826.63      0  \n",
       "4            1           1        1          79084.10      0  \n",
       "...        ...         ...      ...               ...    ...  \n",
       "9995         2           1        0          96270.64      0  \n",
       "9996         1           1        1         101699.77      0  \n",
       "9997         1           0        1          42085.58      1  \n",
       "9998         2           1        0          92888.52      1  \n",
       "9999         1           1        0          38190.78      0  \n",
       "\n",
       "[10000 rows x 12 columns]"
      ]
     },
     "execution_count": 3,
     "metadata": {},
     "output_type": "execute_result"
    }
   ],
   "source": [
    "# смотрю таблицу\n",
    "df"
   ]
  },
  {
   "cell_type": "code",
   "execution_count": 4,
   "metadata": {},
   "outputs": [
    {
     "name": "stdout",
     "output_type": "stream",
     "text": [
      "<class 'pandas.core.frame.DataFrame'>\n",
      "RangeIndex: 10000 entries, 0 to 9999\n",
      "Data columns (total 12 columns):\n",
      "userid              10000 non-null int64\n",
      "score               10000 non-null int64\n",
      "City                10000 non-null object\n",
      "Gender              10000 non-null object\n",
      "Age                 10000 non-null int64\n",
      "Objects             10000 non-null int64\n",
      "Balance             6383 non-null float64\n",
      "Products            10000 non-null int64\n",
      "CreditCard          10000 non-null int64\n",
      "Loyalty             10000 non-null int64\n",
      "estimated_salary    10000 non-null float64\n",
      "Churn               10000 non-null int64\n",
      "dtypes: float64(2), int64(8), object(2)\n",
      "memory usage: 937.6+ KB\n"
     ]
    }
   ],
   "source": [
    "# смотрю инфо\n",
    "df.info()"
   ]
  },
  {
   "cell_type": "code",
   "execution_count": 5,
   "metadata": {},
   "outputs": [
    {
     "data": {
      "text/plain": [
       "10000"
      ]
     },
     "execution_count": 5,
     "metadata": {},
     "output_type": "execute_result"
    }
   ],
   "source": [
    "# смотрю все ли клиеты в таблицы уникальны\n",
    "df['userid'].nunique()"
   ]
  },
  {
   "cell_type": "code",
   "execution_count": 6,
   "metadata": {},
   "outputs": [
    {
     "data": {
      "text/plain": [
       "0"
      ]
     },
     "execution_count": 6,
     "metadata": {},
     "output_type": "execute_result"
    }
   ],
   "source": [
    "# смотрю дубликаты\n",
    "df.duplicated().sum()"
   ]
  },
  {
   "cell_type": "code",
   "execution_count": 7,
   "metadata": {},
   "outputs": [
    {
     "data": {
      "text/html": [
       "<div>\n",
       "<style scoped>\n",
       "    .dataframe tbody tr th:only-of-type {\n",
       "        vertical-align: middle;\n",
       "    }\n",
       "\n",
       "    .dataframe tbody tr th {\n",
       "        vertical-align: top;\n",
       "    }\n",
       "\n",
       "    .dataframe thead th {\n",
       "        text-align: right;\n",
       "    }\n",
       "</style>\n",
       "<table border=\"1\" class=\"dataframe\">\n",
       "  <thead>\n",
       "    <tr style=\"text-align: right;\">\n",
       "      <th></th>\n",
       "      <th>userid</th>\n",
       "      <th>score</th>\n",
       "      <th>Age</th>\n",
       "      <th>Objects</th>\n",
       "      <th>Balance</th>\n",
       "      <th>Products</th>\n",
       "      <th>CreditCard</th>\n",
       "      <th>Loyalty</th>\n",
       "      <th>estimated_salary</th>\n",
       "      <th>Churn</th>\n",
       "    </tr>\n",
       "  </thead>\n",
       "  <tbody>\n",
       "    <tr>\n",
       "      <td>count</td>\n",
       "      <td>1.000000e+04</td>\n",
       "      <td>10000.000000</td>\n",
       "      <td>10000.000000</td>\n",
       "      <td>10000.000000</td>\n",
       "      <td>6383.000000</td>\n",
       "      <td>10000.000000</td>\n",
       "      <td>10000.00000</td>\n",
       "      <td>10000.000000</td>\n",
       "      <td>10000.000000</td>\n",
       "      <td>10000.000000</td>\n",
       "    </tr>\n",
       "    <tr>\n",
       "      <td>mean</td>\n",
       "      <td>1.573368e+07</td>\n",
       "      <td>650.528800</td>\n",
       "      <td>38.921800</td>\n",
       "      <td>5.012800</td>\n",
       "      <td>119827.493793</td>\n",
       "      <td>1.530200</td>\n",
       "      <td>0.70550</td>\n",
       "      <td>0.515100</td>\n",
       "      <td>100090.239881</td>\n",
       "      <td>0.203700</td>\n",
       "    </tr>\n",
       "    <tr>\n",
       "      <td>std</td>\n",
       "      <td>7.193619e+04</td>\n",
       "      <td>96.653299</td>\n",
       "      <td>10.487806</td>\n",
       "      <td>2.892174</td>\n",
       "      <td>30095.056462</td>\n",
       "      <td>0.581654</td>\n",
       "      <td>0.45584</td>\n",
       "      <td>0.499797</td>\n",
       "      <td>57510.492818</td>\n",
       "      <td>0.402769</td>\n",
       "    </tr>\n",
       "    <tr>\n",
       "      <td>min</td>\n",
       "      <td>1.560844e+07</td>\n",
       "      <td>350.000000</td>\n",
       "      <td>18.000000</td>\n",
       "      <td>0.000000</td>\n",
       "      <td>3768.690000</td>\n",
       "      <td>1.000000</td>\n",
       "      <td>0.00000</td>\n",
       "      <td>0.000000</td>\n",
       "      <td>11.580000</td>\n",
       "      <td>0.000000</td>\n",
       "    </tr>\n",
       "    <tr>\n",
       "      <td>25%</td>\n",
       "      <td>1.567126e+07</td>\n",
       "      <td>584.000000</td>\n",
       "      <td>32.000000</td>\n",
       "      <td>3.000000</td>\n",
       "      <td>100181.975000</td>\n",
       "      <td>1.000000</td>\n",
       "      <td>0.00000</td>\n",
       "      <td>0.000000</td>\n",
       "      <td>51002.110000</td>\n",
       "      <td>0.000000</td>\n",
       "    </tr>\n",
       "    <tr>\n",
       "      <td>50%</td>\n",
       "      <td>1.573347e+07</td>\n",
       "      <td>652.000000</td>\n",
       "      <td>37.000000</td>\n",
       "      <td>5.000000</td>\n",
       "      <td>119839.690000</td>\n",
       "      <td>1.000000</td>\n",
       "      <td>1.00000</td>\n",
       "      <td>1.000000</td>\n",
       "      <td>100193.915000</td>\n",
       "      <td>0.000000</td>\n",
       "    </tr>\n",
       "    <tr>\n",
       "      <td>75%</td>\n",
       "      <td>1.579597e+07</td>\n",
       "      <td>718.000000</td>\n",
       "      <td>44.000000</td>\n",
       "      <td>7.000000</td>\n",
       "      <td>139512.290000</td>\n",
       "      <td>2.000000</td>\n",
       "      <td>1.00000</td>\n",
       "      <td>1.000000</td>\n",
       "      <td>149388.247500</td>\n",
       "      <td>0.000000</td>\n",
       "    </tr>\n",
       "    <tr>\n",
       "      <td>max</td>\n",
       "      <td>1.585843e+07</td>\n",
       "      <td>850.000000</td>\n",
       "      <td>92.000000</td>\n",
       "      <td>10.000000</td>\n",
       "      <td>250898.090000</td>\n",
       "      <td>4.000000</td>\n",
       "      <td>1.00000</td>\n",
       "      <td>1.000000</td>\n",
       "      <td>199992.480000</td>\n",
       "      <td>1.000000</td>\n",
       "    </tr>\n",
       "  </tbody>\n",
       "</table>\n",
       "</div>"
      ],
      "text/plain": [
       "             userid         score           Age       Objects        Balance  \\\n",
       "count  1.000000e+04  10000.000000  10000.000000  10000.000000    6383.000000   \n",
       "mean   1.573368e+07    650.528800     38.921800      5.012800  119827.493793   \n",
       "std    7.193619e+04     96.653299     10.487806      2.892174   30095.056462   \n",
       "min    1.560844e+07    350.000000     18.000000      0.000000    3768.690000   \n",
       "25%    1.567126e+07    584.000000     32.000000      3.000000  100181.975000   \n",
       "50%    1.573347e+07    652.000000     37.000000      5.000000  119839.690000   \n",
       "75%    1.579597e+07    718.000000     44.000000      7.000000  139512.290000   \n",
       "max    1.585843e+07    850.000000     92.000000     10.000000  250898.090000   \n",
       "\n",
       "           Products   CreditCard       Loyalty  estimated_salary         Churn  \n",
       "count  10000.000000  10000.00000  10000.000000      10000.000000  10000.000000  \n",
       "mean       1.530200      0.70550      0.515100     100090.239881      0.203700  \n",
       "std        0.581654      0.45584      0.499797      57510.492818      0.402769  \n",
       "min        1.000000      0.00000      0.000000         11.580000      0.000000  \n",
       "25%        1.000000      0.00000      0.000000      51002.110000      0.000000  \n",
       "50%        1.000000      1.00000      1.000000     100193.915000      0.000000  \n",
       "75%        2.000000      1.00000      1.000000     149388.247500      0.000000  \n",
       "max        4.000000      1.00000      1.000000     199992.480000      1.000000  "
      ]
     },
     "execution_count": 7,
     "metadata": {},
     "output_type": "execute_result"
    }
   ],
   "source": [
    "# смотрю describe\n",
    "df.describe()"
   ]
  },
  {
   "cell_type": "code",
   "execution_count": 8,
   "metadata": {},
   "outputs": [],
   "source": [
    "# изменяю регистр столбцов \n",
    "df.columns=df.columns.str.lower()"
   ]
  },
  {
   "cell_type": "code",
   "execution_count": 9,
   "metadata": {},
   "outputs": [
    {
     "data": {
      "text/plain": [
       "Index(['userid', 'score', 'city', 'gender', 'age', 'objects', 'balance',\n",
       "       'products', 'creditcard', 'loyalty', 'estimated_salary', 'churn'],\n",
       "      dtype='object')"
      ]
     },
     "execution_count": 9,
     "metadata": {},
     "output_type": "execute_result"
    }
   ],
   "source": [
    "# смотрю список с названиями столбцов\n",
    "df.columns"
   ]
  },
  {
   "cell_type": "code",
   "execution_count": 10,
   "metadata": {},
   "outputs": [],
   "source": [
    "# изменяю названия столбцов\n",
    "df.rename(columns={'userid': 'id',\n",
    "                   'estimated_salary': 'salary'}, inplace=True)"
   ]
  },
  {
   "cell_type": "code",
   "execution_count": 11,
   "metadata": {},
   "outputs": [],
   "source": [
    "# изменяю порядок столбцов\n",
    "df = df[['id', 'city', 'gender', 'age', 'products', 'salary', 'balance', 'objects', 'score', 'loyalty', 'creditcard', 'churn']]"
   ]
  },
  {
   "cell_type": "code",
   "execution_count": 12,
   "metadata": {},
   "outputs": [
    {
     "data": {
      "text/html": [
       "<div>\n",
       "<style scoped>\n",
       "    .dataframe tbody tr th:only-of-type {\n",
       "        vertical-align: middle;\n",
       "    }\n",
       "\n",
       "    .dataframe tbody tr th {\n",
       "        vertical-align: top;\n",
       "    }\n",
       "\n",
       "    .dataframe thead th {\n",
       "        text-align: right;\n",
       "    }\n",
       "</style>\n",
       "<table border=\"1\" class=\"dataframe\">\n",
       "  <thead>\n",
       "    <tr style=\"text-align: right;\">\n",
       "      <th></th>\n",
       "      <th>id</th>\n",
       "      <th>city</th>\n",
       "      <th>gender</th>\n",
       "      <th>age</th>\n",
       "      <th>products</th>\n",
       "      <th>salary</th>\n",
       "      <th>balance</th>\n",
       "      <th>objects</th>\n",
       "      <th>score</th>\n",
       "      <th>loyalty</th>\n",
       "      <th>creditcard</th>\n",
       "      <th>churn</th>\n",
       "    </tr>\n",
       "  </thead>\n",
       "  <tbody>\n",
       "    <tr>\n",
       "      <td>0</td>\n",
       "      <td>15677338</td>\n",
       "      <td>Ярославль</td>\n",
       "      <td>Ж</td>\n",
       "      <td>42</td>\n",
       "      <td>1</td>\n",
       "      <td>101348.88</td>\n",
       "      <td>NaN</td>\n",
       "      <td>2</td>\n",
       "      <td>619</td>\n",
       "      <td>1</td>\n",
       "      <td>1</td>\n",
       "      <td>1</td>\n",
       "    </tr>\n",
       "    <tr>\n",
       "      <td>1</td>\n",
       "      <td>15690047</td>\n",
       "      <td>Рыбинск</td>\n",
       "      <td>Ж</td>\n",
       "      <td>41</td>\n",
       "      <td>1</td>\n",
       "      <td>112542.58</td>\n",
       "      <td>83807.86</td>\n",
       "      <td>1</td>\n",
       "      <td>608</td>\n",
       "      <td>1</td>\n",
       "      <td>0</td>\n",
       "      <td>0</td>\n",
       "    </tr>\n",
       "    <tr>\n",
       "      <td>2</td>\n",
       "      <td>15662040</td>\n",
       "      <td>Ярославль</td>\n",
       "      <td>Ж</td>\n",
       "      <td>42</td>\n",
       "      <td>3</td>\n",
       "      <td>113931.57</td>\n",
       "      <td>159660.80</td>\n",
       "      <td>8</td>\n",
       "      <td>502</td>\n",
       "      <td>0</td>\n",
       "      <td>1</td>\n",
       "      <td>1</td>\n",
       "    </tr>\n",
       "    <tr>\n",
       "      <td>3</td>\n",
       "      <td>15744090</td>\n",
       "      <td>Ярославль</td>\n",
       "      <td>Ж</td>\n",
       "      <td>39</td>\n",
       "      <td>2</td>\n",
       "      <td>93826.63</td>\n",
       "      <td>NaN</td>\n",
       "      <td>1</td>\n",
       "      <td>699</td>\n",
       "      <td>0</td>\n",
       "      <td>0</td>\n",
       "      <td>0</td>\n",
       "    </tr>\n",
       "    <tr>\n",
       "      <td>4</td>\n",
       "      <td>15780624</td>\n",
       "      <td>Рыбинск</td>\n",
       "      <td>Ж</td>\n",
       "      <td>43</td>\n",
       "      <td>1</td>\n",
       "      <td>79084.10</td>\n",
       "      <td>125510.82</td>\n",
       "      <td>2</td>\n",
       "      <td>850</td>\n",
       "      <td>1</td>\n",
       "      <td>1</td>\n",
       "      <td>0</td>\n",
       "    </tr>\n",
       "    <tr>\n",
       "      <td>...</td>\n",
       "      <td>...</td>\n",
       "      <td>...</td>\n",
       "      <td>...</td>\n",
       "      <td>...</td>\n",
       "      <td>...</td>\n",
       "      <td>...</td>\n",
       "      <td>...</td>\n",
       "      <td>...</td>\n",
       "      <td>...</td>\n",
       "      <td>...</td>\n",
       "      <td>...</td>\n",
       "      <td>...</td>\n",
       "    </tr>\n",
       "    <tr>\n",
       "      <td>9995</td>\n",
       "      <td>15648965</td>\n",
       "      <td>Ярославль</td>\n",
       "      <td>М</td>\n",
       "      <td>39</td>\n",
       "      <td>2</td>\n",
       "      <td>96270.64</td>\n",
       "      <td>NaN</td>\n",
       "      <td>5</td>\n",
       "      <td>771</td>\n",
       "      <td>0</td>\n",
       "      <td>1</td>\n",
       "      <td>0</td>\n",
       "    </tr>\n",
       "    <tr>\n",
       "      <td>9996</td>\n",
       "      <td>15612628</td>\n",
       "      <td>Ярославль</td>\n",
       "      <td>М</td>\n",
       "      <td>35</td>\n",
       "      <td>1</td>\n",
       "      <td>101699.77</td>\n",
       "      <td>57369.61</td>\n",
       "      <td>10</td>\n",
       "      <td>516</td>\n",
       "      <td>1</td>\n",
       "      <td>1</td>\n",
       "      <td>0</td>\n",
       "    </tr>\n",
       "    <tr>\n",
       "      <td>9997</td>\n",
       "      <td>15627268</td>\n",
       "      <td>Ярославль</td>\n",
       "      <td>Ж</td>\n",
       "      <td>36</td>\n",
       "      <td>1</td>\n",
       "      <td>42085.58</td>\n",
       "      <td>NaN</td>\n",
       "      <td>7</td>\n",
       "      <td>709</td>\n",
       "      <td>1</td>\n",
       "      <td>0</td>\n",
       "      <td>1</td>\n",
       "    </tr>\n",
       "    <tr>\n",
       "      <td>9998</td>\n",
       "      <td>15725091</td>\n",
       "      <td>Ростов Великий</td>\n",
       "      <td>М</td>\n",
       "      <td>42</td>\n",
       "      <td>2</td>\n",
       "      <td>92888.52</td>\n",
       "      <td>75075.31</td>\n",
       "      <td>3</td>\n",
       "      <td>772</td>\n",
       "      <td>0</td>\n",
       "      <td>1</td>\n",
       "      <td>1</td>\n",
       "    </tr>\n",
       "    <tr>\n",
       "      <td>9999</td>\n",
       "      <td>15671055</td>\n",
       "      <td>Ярославль</td>\n",
       "      <td>Ж</td>\n",
       "      <td>28</td>\n",
       "      <td>1</td>\n",
       "      <td>38190.78</td>\n",
       "      <td>130142.79</td>\n",
       "      <td>4</td>\n",
       "      <td>792</td>\n",
       "      <td>0</td>\n",
       "      <td>1</td>\n",
       "      <td>0</td>\n",
       "    </tr>\n",
       "  </tbody>\n",
       "</table>\n",
       "<p>10000 rows × 12 columns</p>\n",
       "</div>"
      ],
      "text/plain": [
       "            id            city gender  age  products     salary    balance  \\\n",
       "0     15677338       Ярославль      Ж   42         1  101348.88        NaN   \n",
       "1     15690047         Рыбинск      Ж   41         1  112542.58   83807.86   \n",
       "2     15662040       Ярославль      Ж   42         3  113931.57  159660.80   \n",
       "3     15744090       Ярославль      Ж   39         2   93826.63        NaN   \n",
       "4     15780624         Рыбинск      Ж   43         1   79084.10  125510.82   \n",
       "...        ...             ...    ...  ...       ...        ...        ...   \n",
       "9995  15648965       Ярославль      М   39         2   96270.64        NaN   \n",
       "9996  15612628       Ярославль      М   35         1  101699.77   57369.61   \n",
       "9997  15627268       Ярославль      Ж   36         1   42085.58        NaN   \n",
       "9998  15725091  Ростов Великий      М   42         2   92888.52   75075.31   \n",
       "9999  15671055       Ярославль      Ж   28         1   38190.78  130142.79   \n",
       "\n",
       "      objects  score  loyalty  creditcard  churn  \n",
       "0           2    619        1           1      1  \n",
       "1           1    608        1           0      0  \n",
       "2           8    502        0           1      1  \n",
       "3           1    699        0           0      0  \n",
       "4           2    850        1           1      0  \n",
       "...       ...    ...      ...         ...    ...  \n",
       "9995        5    771        0           1      0  \n",
       "9996       10    516        1           1      0  \n",
       "9997        7    709        1           0      1  \n",
       "9998        3    772        0           1      1  \n",
       "9999        4    792        0           1      0  \n",
       "\n",
       "[10000 rows x 12 columns]"
      ]
     },
     "execution_count": 12,
     "metadata": {},
     "output_type": "execute_result"
    }
   ],
   "source": [
    "df"
   ]
  },
  {
   "cell_type": "markdown",
   "metadata": {},
   "source": [
    "### Вывод: \n",
    "У меня есть таблица с данными о клиентах. Всего 10000 строк, все клиенты в таблице уникальны, дубликатов в данных нет, есть пропуски в столбце с балансом. Я считаю, что пропуски в столбце с балансом ничем заменить я не могу, так как пропусков около 40 процентов и поэтому замена пропусков на какие-либо значения существенно скажется на качестве данных. Могу предположить, что пропуски могут связаны с тем, что клиенты имеют в банке продукт не предпалагающий баланса. Например, кредит или кредитную карту. Я изменил порядок столбцов и регистр их названий."
   ]
  },
  {
   "cell_type": "markdown",
   "metadata": {},
   "source": [
    "<div class='alert alert-success'>\n",
    "Весьма бодрое начало. Мне понравилось что ты приводишь к нижнему регистру названия столбцов с помощью встроенных методов. Также для просмотра стандартных описательных статистик рекомендую использовать метод round для округления итоговых значений в тбалице для удобства восприятия информации."
   ]
  },
  {
   "cell_type": "markdown",
   "metadata": {},
   "source": [
    "## Исследовательский анализ данных \n",
    "<a name=\"2.\"></a><br/>\n",
    "[<font size=\"2\">(к содержанию)</font>](#to_content.)"
   ]
  },
  {
   "cell_type": "markdown",
   "metadata": {},
   "source": [
    "### Корреляционная таблица\n",
    "<a name=\"2.1\"></a><br/>"
   ]
  },
  {
   "cell_type": "code",
   "execution_count": 13,
   "metadata": {},
   "outputs": [
    {
     "data": {
      "image/png": "[encoded data removed]",
      "text/plain": [
       "<Figure size 1008x720 with 2 Axes>"
      ]
     },
     "metadata": {
      "needs_background": "light"
     },
     "output_type": "display_data"
    }
   ],
   "source": [
    "#строю корреляционную таблицу\n",
    "cm = df.corr()\n",
    "plt.figure(figsize=(14, 10))\n",
    "sns.heatmap(cm, annot = True, fmt = '0.2f', linewidths=.5)\n",
    "plt.show()"
   ]
  },
  {
   "cell_type": "code",
   "execution_count": 14,
   "metadata": {},
   "outputs": [
    {
     "data": {
      "image/png": "[encoded data removed]",
      "text/plain": [
       "<Figure size 1008x720 with 2 Axes>"
      ]
     },
     "metadata": {
      "needs_background": "light"
     },
     "output_type": "display_data"
    }
   ],
   "source": [
    "cm_2 = df.corr(method ='spearman')\n",
    "plt.figure(figsize=(14, 10))\n",
    "sns.heatmap(cm_2, annot = True, fmt = '0.2f', linewidths=.5)\n",
    "plt.show()"
   ]
  },
  {
   "cell_type": "markdown",
   "metadata": {},
   "source": [
    "<div class='alert alert-success'>\n",
    "Круто что владеешь этой техникой визуализации, по ней хорошо видно что значимых корреляций не наблюдается. В таком случае всегда рекомендуется задуматься о том, что у тебя возможно есть какие-то нелинейные связи. Значит можноп попробовать другие способы расчета корреляции, например с помощьб метода Спирмена или Phik."
   ]
  },
  {
   "cell_type": "markdown",
   "metadata": {},
   "source": [
    "Наиболее коррелирующими являются показатели возраста и оттока"
   ]
  },
  {
   "cell_type": "code",
   "execution_count": 15,
   "metadata": {},
   "outputs": [],
   "source": [
    "#строю таблицу\n",
    "df_age = df.pivot_table(index = 'churn', values = 'age', aggfunc = 'median').reset_index()"
   ]
  },
  {
   "cell_type": "code",
   "execution_count": 16,
   "metadata": {},
   "outputs": [
    {
     "data": {
      "text/html": [
       "<div>\n",
       "<style scoped>\n",
       "    .dataframe tbody tr th:only-of-type {\n",
       "        vertical-align: middle;\n",
       "    }\n",
       "\n",
       "    .dataframe tbody tr th {\n",
       "        vertical-align: top;\n",
       "    }\n",
       "\n",
       "    .dataframe thead th {\n",
       "        text-align: right;\n",
       "    }\n",
       "</style>\n",
       "<table border=\"1\" class=\"dataframe\">\n",
       "  <thead>\n",
       "    <tr style=\"text-align: right;\">\n",
       "      <th></th>\n",
       "      <th>churn</th>\n",
       "      <th>age</th>\n",
       "    </tr>\n",
       "  </thead>\n",
       "  <tbody>\n",
       "    <tr>\n",
       "      <td>0</td>\n",
       "      <td>0</td>\n",
       "      <td>36</td>\n",
       "    </tr>\n",
       "    <tr>\n",
       "      <td>1</td>\n",
       "      <td>1</td>\n",
       "      <td>45</td>\n",
       "    </tr>\n",
       "  </tbody>\n",
       "</table>\n",
       "</div>"
      ],
      "text/plain": [
       "   churn  age\n",
       "0      0   36\n",
       "1      1   45"
      ]
     },
     "execution_count": 16,
     "metadata": {},
     "output_type": "execute_result"
    }
   ],
   "source": [
    "df_age"
   ]
  },
  {
   "cell_type": "markdown",
   "metadata": {},
   "source": [
    "Медианный возраст ушедших клиентов 45 лет, а оставшихся 45 лет"
   ]
  },
  {
   "cell_type": "markdown",
   "metadata": {},
   "source": [
    "### products\n",
    "<a name=\"2.2\"></a><br/>"
   ]
  },
  {
   "cell_type": "code",
   "execution_count": 17,
   "metadata": {},
   "outputs": [],
   "source": [
    "# строю pivot_table, который будет показывать сколько клиентов сколько используют продуктов\n",
    "df_pro = df.pivot_table(index = 'products', values = 'id', aggfunc = 'count').reset_index()"
   ]
  },
  {
   "cell_type": "code",
   "execution_count": 18,
   "metadata": {},
   "outputs": [],
   "source": [
    "df_pro['count(%)'] = ((df_pro['id']/df_pro['id'].sum())*100).round(1)"
   ]
  },
  {
   "cell_type": "code",
   "execution_count": 19,
   "metadata": {},
   "outputs": [
    {
     "data": {
      "text/html": [
       "<div>\n",
       "<style scoped>\n",
       "    .dataframe tbody tr th:only-of-type {\n",
       "        vertical-align: middle;\n",
       "    }\n",
       "\n",
       "    .dataframe tbody tr th {\n",
       "        vertical-align: top;\n",
       "    }\n",
       "\n",
       "    .dataframe thead th {\n",
       "        text-align: right;\n",
       "    }\n",
       "</style>\n",
       "<table border=\"1\" class=\"dataframe\">\n",
       "  <thead>\n",
       "    <tr style=\"text-align: right;\">\n",
       "      <th></th>\n",
       "      <th>products</th>\n",
       "      <th>id</th>\n",
       "      <th>count(%)</th>\n",
       "    </tr>\n",
       "  </thead>\n",
       "  <tbody>\n",
       "    <tr>\n",
       "      <td>0</td>\n",
       "      <td>1</td>\n",
       "      <td>5084</td>\n",
       "      <td>50.8</td>\n",
       "    </tr>\n",
       "    <tr>\n",
       "      <td>1</td>\n",
       "      <td>2</td>\n",
       "      <td>4590</td>\n",
       "      <td>45.9</td>\n",
       "    </tr>\n",
       "    <tr>\n",
       "      <td>2</td>\n",
       "      <td>3</td>\n",
       "      <td>266</td>\n",
       "      <td>2.7</td>\n",
       "    </tr>\n",
       "    <tr>\n",
       "      <td>3</td>\n",
       "      <td>4</td>\n",
       "      <td>60</td>\n",
       "      <td>0.6</td>\n",
       "    </tr>\n",
       "  </tbody>\n",
       "</table>\n",
       "</div>"
      ],
      "text/plain": [
       "   products    id  count(%)\n",
       "0         1  5084      50.8\n",
       "1         2  4590      45.9\n",
       "2         3   266       2.7\n",
       "3         4    60       0.6"
      ]
     },
     "execution_count": 19,
     "metadata": {},
     "output_type": "execute_result"
    }
   ],
   "source": [
    "df_pro"
   ]
  },
  {
   "cell_type": "code",
   "execution_count": 20,
   "metadata": {},
   "outputs": [
    {
     "data": {
      "image/png": "[encoded data removed]",
      "text/plain": [
       "<Figure size 1008x720 with 1 Axes>"
      ]
     },
     "metadata": {},
     "output_type": "display_data"
    }
   ],
   "source": [
    "# рисую график\n",
    "plt.figure(figsize=(14, 10))\n",
    "plt.pie(df_pro['id'], labels = df_pro['products'], autopct='%.1f%%')\n",
    "plt.show()"
   ]
  },
  {
   "cell_type": "markdown",
   "metadata": {},
   "source": [
    "Этот график отражает каке количество пользователей каим количеством продуктов пользуется. Из него можно сделать вывод, что половина пользователей использует всего один продукт, 46% процентов пользователей использует всего два продуктаб 2,7% процента пользоватлей использует три продукта и 0,6 процентов использует четыре продукта."
   ]
  },
  {
   "cell_type": "markdown",
   "metadata": {},
   "source": [
    "### gender\n",
    "<a name=\"2.3\"></a><br/>"
   ]
  },
  {
   "cell_type": "code",
   "execution_count": 21,
   "metadata": {},
   "outputs": [
    {
     "data": {
      "image/png": "[encoded data removed]",
      "text/plain": [
       "<Figure size 576x576 with 1 Axes>"
      ]
     },
     "metadata": {
      "needs_background": "light"
     },
     "output_type": "display_data"
    }
   ],
   "source": [
    "# смотрю сколько в таблице  мужчин и женщин\n",
    "plt.figure(figsize = (8,8))\n",
    "sns.countplot(data=df, x=\"gender\")\n",
    "plt.ylabel('Количество клиентов')\n",
    "plt.xlabel('Пол')\n",
    "plt.show()"
   ]
  },
  {
   "cell_type": "markdown",
   "metadata": {},
   "source": [
    "В таблице около 4500 тысяч женщин и 5500 мужчин. "
   ]
  },
  {
   "cell_type": "code",
   "execution_count": 22,
   "metadata": {},
   "outputs": [
    {
     "data": {
      "image/png": "[encoded data removed]",
      "text/plain": [
       "<Figure size 576x576 with 1 Axes>"
      ]
     },
     "metadata": {
      "needs_background": "light"
     },
     "output_type": "display_data"
    }
   ],
   "source": [
    "#строю график зафисимости колчества продуктов от пола\n",
    "plt.figure(figsize = (8,8))\n",
    "sns.countplot(x=df['products'],hue ='gender',data=df)\n",
    "plt.ylabel('Количество клиентов')\n",
    "plt.xlabel('Количество продуктов')\n",
    "plt.show()"
   ]
  },
  {
   "cell_type": "markdown",
   "metadata": {},
   "source": [
    "На этом графике видно, что не смотря на то что женщин в таблице меньше они чаще имеют 3 или 4 продукта банка"
   ]
  },
  {
   "cell_type": "markdown",
   "metadata": {},
   "source": [
    "### city\n",
    "<a name=\"2.4\"></a><br/>"
   ]
  },
  {
   "cell_type": "code",
   "execution_count": 23,
   "metadata": {},
   "outputs": [
    {
     "data": {
      "image/png": "[encoded data removed]",
      "text/plain": [
       "<Figure size 576x576 with 1 Axes>"
      ]
     },
     "metadata": {
      "needs_background": "light"
     },
     "output_type": "display_data"
    }
   ],
   "source": [
    "#смотрю из каких городов пользователели \n",
    "plt.figure(figsize = (8,8))\n",
    "sns.countplot(x=df['city'],data=df)\n",
    "plt.ylabel('Количество клиентов')\n",
    "plt.xlabel('Город')\n",
    "plt.show()"
   ]
  },
  {
   "cell_type": "markdown",
   "metadata": {},
   "source": [
    "На этом графике видно, что из пользователей из Ярославля 5000 и из Рыбинска и Ростова Великого по 2500"
   ]
  },
  {
   "cell_type": "code",
   "execution_count": 24,
   "metadata": {},
   "outputs": [
    {
     "data": {
      "image/png": "[encoded data removed]",
      "text/plain": [
       "<Figure size 576x576 with 1 Axes>"
      ]
     },
     "metadata": {
      "needs_background": "light"
     },
     "output_type": "display_data"
    }
   ],
   "source": [
    "plt.figure(figsize = (8,8))\n",
    "sns.countplot(x=df['products'],hue ='city',data=df)\n",
    "plt.ylabel('Количество клиентов')\n",
    "plt.xlabel('Количество продуктов')\n",
    "plt.show()"
   ]
  },
  {
   "cell_type": "markdown",
   "metadata": {},
   "source": [
    "### age\n",
    "<a name=\"2.5\"></a><br/>"
   ]
  },
  {
   "cell_type": "code",
   "execution_count": 25,
   "metadata": {},
   "outputs": [
    {
     "data": {
      "image/png": "[encoded data removed]",
      "text/plain": [
       "<Figure size 1080x720 with 1 Axes>"
      ]
     },
     "metadata": {
      "needs_background": "light"
     },
     "output_type": "display_data"
    }
   ],
   "source": [
    "#смотрю средний возраст клиентов в зависимости от количества продуктов\n",
    "plt.figure(figsize = (15,10))\n",
    "sns.boxplot(x = 'products', y='age', hue = 'products',  data=df)\n",
    "plt.ylabel('Возраст')\n",
    "plt.xlabel('Количество продуктов')\n",
    "plt.show()"
   ]
  },
  {
   "cell_type": "code",
   "execution_count": 26,
   "metadata": {},
   "outputs": [],
   "source": [
    "df_age_products = df.pivot_table(index = 'products', values = 'age', aggfunc = 'mean').reset_index()"
   ]
  },
  {
   "cell_type": "code",
   "execution_count": 27,
   "metadata": {},
   "outputs": [
    {
     "data": {
      "text/html": [
       "<div>\n",
       "<style scoped>\n",
       "    .dataframe tbody tr th:only-of-type {\n",
       "        vertical-align: middle;\n",
       "    }\n",
       "\n",
       "    .dataframe tbody tr th {\n",
       "        vertical-align: top;\n",
       "    }\n",
       "\n",
       "    .dataframe thead th {\n",
       "        text-align: right;\n",
       "    }\n",
       "</style>\n",
       "<table border=\"1\" class=\"dataframe\">\n",
       "  <thead>\n",
       "    <tr style=\"text-align: right;\">\n",
       "      <th></th>\n",
       "      <th>products</th>\n",
       "      <th>age</th>\n",
       "    </tr>\n",
       "  </thead>\n",
       "  <tbody>\n",
       "    <tr>\n",
       "      <td>0</td>\n",
       "      <td>1</td>\n",
       "      <td>39.7</td>\n",
       "    </tr>\n",
       "    <tr>\n",
       "      <td>1</td>\n",
       "      <td>2</td>\n",
       "      <td>37.8</td>\n",
       "    </tr>\n",
       "    <tr>\n",
       "      <td>2</td>\n",
       "      <td>3</td>\n",
       "      <td>43.2</td>\n",
       "    </tr>\n",
       "    <tr>\n",
       "      <td>3</td>\n",
       "      <td>4</td>\n",
       "      <td>45.7</td>\n",
       "    </tr>\n",
       "  </tbody>\n",
       "</table>\n",
       "</div>"
      ],
      "text/plain": [
       "   products   age\n",
       "0         1  39.7\n",
       "1         2  37.8\n",
       "2         3  43.2\n",
       "3         4  45.7"
      ]
     },
     "execution_count": 27,
     "metadata": {},
     "output_type": "execute_result"
    }
   ],
   "source": [
    "df_age_products.round(1)"
   ]
  },
  {
   "cell_type": "code",
   "execution_count": 28,
   "metadata": {},
   "outputs": [
    {
     "data": {
      "image/png": "[encoded data removed]",
      "text/plain": [
       "<Figure size 576x576 with 1 Axes>"
      ]
     },
     "metadata": {
      "needs_background": "light"
     },
     "output_type": "display_data"
    }
   ],
   "source": [
    "plt.figure(figsize = (8,8))\n",
    "sns.barplot(x=df_age_products['products'],y = df_age_products['age'], data=df_age_products)\n",
    "plt.ylabel('Количество клиентов')\n",
    "plt.xlabel('Количество продуктов')\n",
    "plt.show()"
   ]
  },
  {
   "cell_type": "markdown",
   "metadata": {},
   "source": [
    "На этом графике видно, что средний возраст у клиентов с четырмя продуктами выше, чем у остальных (около 45 лет)"
   ]
  },
  {
   "cell_type": "markdown",
   "metadata": {},
   "source": [
    "### loyalty\n",
    "<a name=\"2.6\"></a><br/>"
   ]
  },
  {
   "cell_type": "code",
   "execution_count": 29,
   "metadata": {},
   "outputs": [
    {
     "data": {
      "image/png": "[encoded data removed]",
      "text/plain": [
       "<Figure size 576x576 with 1 Axes>"
      ]
     },
     "metadata": {
      "needs_background": "light"
     },
     "output_type": "display_data"
    }
   ],
   "source": [
    "#смотрю лояльность в зависимости от количества продуктов\n",
    "plt.figure(figsize = (8,8))\n",
    "sns.countplot(x=df['products'],hue ='loyalty',data=df)\n",
    "plt.ylabel('Количество клиентов')\n",
    "plt.xlabel('Количество продуктов')\n",
    "plt.show()"
   ]
  },
  {
   "cell_type": "markdown",
   "metadata": {},
   "source": [
    "Можно сделать вывод,что среди пользователей имеющих три продукта больше неативных клиентов, средт пользователей имеющих четыре  продукта их поровну, так же и с имеющими один продукт. Больше активных среди имеющих два продукта."
   ]
  },
  {
   "cell_type": "markdown",
   "metadata": {},
   "source": [
    "### churn\n",
    "<a name=\"2.7\"></a><br/>\n"
   ]
  },
  {
   "cell_type": "code",
   "execution_count": 30,
   "metadata": {},
   "outputs": [
    {
     "data": {
      "image/png": "[encoded data removed]",
      "text/plain": [
       "<Figure size 576x576 with 1 Axes>"
      ]
     },
     "metadata": {
      "needs_background": "light"
     },
     "output_type": "display_data"
    }
   ],
   "source": [
    "# строю график \n",
    "plt.figure(figsize = (8,8))\n",
    "sns.countplot(x=df['products'], hue='churn',  data=df)\n",
    "plt.xlabel('Количество продуктов')\n",
    "plt.ylabel('Количество клиентов')\n",
    "plt.show()"
   ]
  },
  {
   "cell_type": "markdown",
   "metadata": {},
   "source": [
    "Интересно, что среди имеющих 3 и 4 продукта уходящих гораздо больше чем остающихся. Видимо клиентов что-то перестало устраивать."
   ]
  },
  {
   "cell_type": "markdown",
   "metadata": {},
   "source": [
    "### odjects\n",
    "<a name=\"2.8\"></a><br/>\n"
   ]
  },
  {
   "cell_type": "code",
   "execution_count": 31,
   "metadata": {},
   "outputs": [
    {
     "data": {
      "image/png": "[encoded data removed]",
      "text/plain": [
       "<Figure size 576x576 with 1 Axes>"
      ]
     },
     "metadata": {
      "needs_background": "light"
     },
     "output_type": "display_data"
    }
   ],
   "source": [
    "# строю график количества объектов в собственности\n",
    "plt.figure(figsize = (8,8))\n",
    "sns.countplot(x=df['products'], hue='objects',  data=df)\n",
    "plt.xlabel('Количество продуктов')\n",
    "plt.ylabel('Количество клиентов')\n",
    "plt.show()"
   ]
  },
  {
   "cell_type": "markdown",
   "metadata": {},
   "source": [
    "Мне кажется, не логичным, что среди клиентов больше тех, кто имеет 3 и более объектов."
   ]
  },
  {
   "cell_type": "markdown",
   "metadata": {},
   "source": [
    "### creditcard\n",
    "<a name=\"2.9\"></a><br/>"
   ]
  },
  {
   "cell_type": "code",
   "execution_count": 32,
   "metadata": {},
   "outputs": [
    {
     "data": {
      "image/png": "[encoded data removed]",
      "text/plain": [
       "<Figure size 576x576 with 1 Axes>"
      ]
     },
     "metadata": {
      "needs_background": "light"
     },
     "output_type": "display_data"
    }
   ],
   "source": [
    "plt.figure(figsize = (8,8))\n",
    "sns.countplot(x=df['products'], hue='creditcard',  data=df)\n",
    "plt.xlabel('Количество объектов')\n",
    "plt.ylabel('Количество клиентов')\n",
    "plt.show()"
   ]
  },
  {
   "cell_type": "markdown",
   "metadata": {},
   "source": [
    "На этом графике видно, что большая часть клиенто имеет кредитную карту"
   ]
  },
  {
   "cell_type": "markdown",
   "metadata": {},
   "source": [
    "### salary\n",
    "<a name=\"2.10\"></a><br/>"
   ]
  },
  {
   "cell_type": "code",
   "execution_count": 33,
   "metadata": {},
   "outputs": [
    {
     "data": {
      "image/png": "[encoded data removed]",
      "text/plain": [
       "<Figure size 1080x720 with 1 Axes>"
      ]
     },
     "metadata": {
      "needs_background": "light"
     },
     "output_type": "display_data"
    }
   ],
   "source": [
    "#смотрю средний возраст клиентов в зависимости от количества продуктов\n",
    "plt.figure(figsize = (15,10))\n",
    "sns.boxplot(x = 'products', y='salary', hue = 'products',  data=df)\n",
    "plt.ylabel('Зарплата')\n",
    "plt.xlabel('Количество продуктов')\n",
    "plt.show()"
   ]
  },
  {
   "cell_type": "code",
   "execution_count": 34,
   "metadata": {},
   "outputs": [],
   "source": [
    "df_salary = df.pivot_table(index = 'products', values = 'salary', aggfunc = 'mean').reset_index()"
   ]
  },
  {
   "cell_type": "code",
   "execution_count": 35,
   "metadata": {},
   "outputs": [
    {
     "data": {
      "text/html": [
       "<div>\n",
       "<style scoped>\n",
       "    .dataframe tbody tr th:only-of-type {\n",
       "        vertical-align: middle;\n",
       "    }\n",
       "\n",
       "    .dataframe tbody tr th {\n",
       "        vertical-align: top;\n",
       "    }\n",
       "\n",
       "    .dataframe thead th {\n",
       "        text-align: right;\n",
       "    }\n",
       "</style>\n",
       "<table border=\"1\" class=\"dataframe\">\n",
       "  <thead>\n",
       "    <tr style=\"text-align: right;\">\n",
       "      <th></th>\n",
       "      <th>products</th>\n",
       "      <th>salary</th>\n",
       "    </tr>\n",
       "  </thead>\n",
       "  <tbody>\n",
       "    <tr>\n",
       "      <td>0</td>\n",
       "      <td>1</td>\n",
       "      <td>99487.256851</td>\n",
       "    </tr>\n",
       "    <tr>\n",
       "      <td>1</td>\n",
       "      <td>2</td>\n",
       "      <td>100452.012821</td>\n",
       "    </tr>\n",
       "    <tr>\n",
       "      <td>2</td>\n",
       "      <td>3</td>\n",
       "      <td>104318.130564</td>\n",
       "    </tr>\n",
       "    <tr>\n",
       "      <td>3</td>\n",
       "      <td>4</td>\n",
       "      <td>104763.723333</td>\n",
       "    </tr>\n",
       "  </tbody>\n",
       "</table>\n",
       "</div>"
      ],
      "text/plain": [
       "   products         salary\n",
       "0         1   99487.256851\n",
       "1         2  100452.012821\n",
       "2         3  104318.130564\n",
       "3         4  104763.723333"
      ]
     },
     "execution_count": 35,
     "metadata": {},
     "output_type": "execute_result"
    }
   ],
   "source": [
    "df_salary"
   ]
  },
  {
   "cell_type": "markdown",
   "metadata": {},
   "source": [
    "На этом графике вижно, что средняя зарплата у клиентов примерно одинаковая (около 100000), но у клиентов с четырмя продуктами она чуть выше (около 120000)"
   ]
  },
  {
   "cell_type": "markdown",
   "metadata": {},
   "source": [
    "### balance\n",
    "<a name=\"2.11\"></a><br/>"
   ]
  },
  {
   "cell_type": "code",
   "execution_count": 36,
   "metadata": {},
   "outputs": [
    {
     "data": {
      "image/png": "[encoded data removed]",
      "text/plain": [
       "<Figure size 1080x720 with 1 Axes>"
      ]
     },
     "metadata": {
      "needs_background": "light"
     },
     "output_type": "display_data"
    }
   ],
   "source": [
    "plt.figure(figsize = (15,10))\n",
    "sns.boxplot(x = 'products', y='balance', hue = 'products',  data=df)\n",
    "plt.ylabel('Зарплата')\n",
    "plt.xlabel('Количество продуктов')\n",
    "plt.show()"
   ]
  },
  {
   "cell_type": "code",
   "execution_count": 37,
   "metadata": {},
   "outputs": [],
   "source": [
    "#строю таблицу зависимости количества продуктов от баланса\n",
    "df_bal = df.pivot_table(index = 'products', values = 'balance', aggfunc = 'mean').reset_index()"
   ]
  },
  {
   "cell_type": "code",
   "execution_count": 38,
   "metadata": {},
   "outputs": [
    {
     "data": {
      "text/html": [
       "<div>\n",
       "<style scoped>\n",
       "    .dataframe tbody tr th:only-of-type {\n",
       "        vertical-align: middle;\n",
       "    }\n",
       "\n",
       "    .dataframe tbody tr th {\n",
       "        vertical-align: top;\n",
       "    }\n",
       "\n",
       "    .dataframe thead th {\n",
       "        text-align: right;\n",
       "    }\n",
       "</style>\n",
       "<table border=\"1\" class=\"dataframe\">\n",
       "  <thead>\n",
       "    <tr style=\"text-align: right;\">\n",
       "      <th></th>\n",
       "      <th>products</th>\n",
       "      <th>balance</th>\n",
       "    </tr>\n",
       "  </thead>\n",
       "  <tbody>\n",
       "    <tr>\n",
       "      <td>0</td>\n",
       "      <td>1</td>\n",
       "      <td>119894.163723</td>\n",
       "    </tr>\n",
       "    <tr>\n",
       "      <td>1</td>\n",
       "      <td>2</td>\n",
       "      <td>119660.944362</td>\n",
       "    </tr>\n",
       "    <tr>\n",
       "      <td>2</td>\n",
       "      <td>3</td>\n",
       "      <td>119475.686310</td>\n",
       "    </tr>\n",
       "    <tr>\n",
       "      <td>3</td>\n",
       "      <td>4</td>\n",
       "      <td>122260.610870</td>\n",
       "    </tr>\n",
       "  </tbody>\n",
       "</table>\n",
       "</div>"
      ],
      "text/plain": [
       "   products        balance\n",
       "0         1  119894.163723\n",
       "1         2  119660.944362\n",
       "2         3  119475.686310\n",
       "3         4  122260.610870"
      ]
     },
     "execution_count": 38,
     "metadata": {},
     "output_type": "execute_result"
    }
   ],
   "source": [
    "df_bal"
   ]
  },
  {
   "cell_type": "code",
   "execution_count": 39,
   "metadata": {},
   "outputs": [
    {
     "data": {
      "image/png": "[encoded data removed]",
      "text/plain": [
       "<Figure size 576x576 with 1 Axes>"
      ]
     },
     "metadata": {
      "needs_background": "light"
     },
     "output_type": "display_data"
    }
   ],
   "source": [
    "# строю график \n",
    "c"
   ]
  },
  {
   "cell_type": "markdown",
   "metadata": {},
   "source": [
    "### score\n",
    "<a name=\"2.12\"></a><br/>"
   ]
  },
  {
   "cell_type": "code",
   "execution_count": 40,
   "metadata": {},
   "outputs": [],
   "source": [
    "# делаю такую же таблицу по скорингу\n",
    "df_score = df.pivot_table(index = 'products', values = 'score', aggfunc = 'mean').reset_index()"
   ]
  },
  {
   "cell_type": "code",
   "execution_count": 41,
   "metadata": {},
   "outputs": [
    {
     "data": {
      "text/html": [
       "<div>\n",
       "<style scoped>\n",
       "    .dataframe tbody tr th:only-of-type {\n",
       "        vertical-align: middle;\n",
       "    }\n",
       "\n",
       "    .dataframe tbody tr th {\n",
       "        vertical-align: top;\n",
       "    }\n",
       "\n",
       "    .dataframe thead th {\n",
       "        text-align: right;\n",
       "    }\n",
       "</style>\n",
       "<table border=\"1\" class=\"dataframe\">\n",
       "  <thead>\n",
       "    <tr style=\"text-align: right;\">\n",
       "      <th></th>\n",
       "      <th>products</th>\n",
       "      <th>score</th>\n",
       "    </tr>\n",
       "  </thead>\n",
       "  <tbody>\n",
       "    <tr>\n",
       "      <td>0</td>\n",
       "      <td>1</td>\n",
       "      <td>649.120968</td>\n",
       "    </tr>\n",
       "    <tr>\n",
       "      <td>1</td>\n",
       "      <td>2</td>\n",
       "      <td>652.188671</td>\n",
       "    </tr>\n",
       "    <tr>\n",
       "      <td>2</td>\n",
       "      <td>3</td>\n",
       "      <td>648.105263</td>\n",
       "    </tr>\n",
       "    <tr>\n",
       "      <td>3</td>\n",
       "      <td>4</td>\n",
       "      <td>653.583333</td>\n",
       "    </tr>\n",
       "  </tbody>\n",
       "</table>\n",
       "</div>"
      ],
      "text/plain": [
       "   products       score\n",
       "0         1  649.120968\n",
       "1         2  652.188671\n",
       "2         3  648.105263\n",
       "3         4  653.583333"
      ]
     },
     "execution_count": 41,
     "metadata": {},
     "output_type": "execute_result"
    }
   ],
   "source": [
    "df_score"
   ]
  },
  {
   "cell_type": "code",
   "execution_count": 42,
   "metadata": {},
   "outputs": [
    {
     "data": {
      "image/png": "[encoded data removed]",
      "text/plain": [
       "<Figure size 576x576 with 1 Axes>"
      ]
     },
     "metadata": {
      "needs_background": "light"
     },
     "output_type": "display_data"
    }
   ],
   "source": [
    "plt.figure(figsize = (8,8))\n",
    "sns.barplot(x = df_score['products'],y = df_score['score'], data=df_score)\n",
    "plt.ylabel('Баллы кредитного скоринга')\n",
    "plt.xlabel('Количество продуктов')\n",
    "plt.show()"
   ]
  },
  {
   "cell_type": "markdown",
   "metadata": {},
   "source": [
    "Скоринг так же у клинтов с разным количество продуктов почти одинаковый"
   ]
  },
  {
   "cell_type": "code",
   "execution_count": 43,
   "metadata": {},
   "outputs": [],
   "source": [
    "ff = df.groupby('products').agg('mean')"
   ]
  },
  {
   "cell_type": "code",
   "execution_count": 44,
   "metadata": {},
   "outputs": [
    {
     "data": {
      "text/html": [
       "<div>\n",
       "<style scoped>\n",
       "    .dataframe tbody tr th:only-of-type {\n",
       "        vertical-align: middle;\n",
       "    }\n",
       "\n",
       "    .dataframe tbody tr th {\n",
       "        vertical-align: top;\n",
       "    }\n",
       "\n",
       "    .dataframe thead th {\n",
       "        text-align: right;\n",
       "    }\n",
       "</style>\n",
       "<table border=\"1\" class=\"dataframe\">\n",
       "  <thead>\n",
       "    <tr style=\"text-align: right;\">\n",
       "      <th></th>\n",
       "      <th>id</th>\n",
       "      <th>age</th>\n",
       "      <th>salary</th>\n",
       "      <th>balance</th>\n",
       "      <th>objects</th>\n",
       "      <th>score</th>\n",
       "      <th>loyalty</th>\n",
       "      <th>creditcard</th>\n",
       "      <th>churn</th>\n",
       "    </tr>\n",
       "    <tr>\n",
       "      <th>products</th>\n",
       "      <th></th>\n",
       "      <th></th>\n",
       "      <th></th>\n",
       "      <th></th>\n",
       "      <th></th>\n",
       "      <th></th>\n",
       "      <th></th>\n",
       "      <th></th>\n",
       "      <th></th>\n",
       "    </tr>\n",
       "  </thead>\n",
       "  <tbody>\n",
       "    <tr>\n",
       "      <td>1</td>\n",
       "      <td>1.573237e+07</td>\n",
       "      <td>39.673092</td>\n",
       "      <td>99487.256851</td>\n",
       "      <td>119894.163723</td>\n",
       "      <td>4.974626</td>\n",
       "      <td>649.120968</td>\n",
       "      <td>0.504131</td>\n",
       "      <td>0.703777</td>\n",
       "      <td>0.277144</td>\n",
       "    </tr>\n",
       "    <tr>\n",
       "      <td>2</td>\n",
       "      <td>1.573484e+07</td>\n",
       "      <td>37.753595</td>\n",
       "      <td>100452.012821</td>\n",
       "      <td>119660.944362</td>\n",
       "      <td>5.051852</td>\n",
       "      <td>652.188671</td>\n",
       "      <td>0.532898</td>\n",
       "      <td>0.707190</td>\n",
       "      <td>0.075817</td>\n",
       "    </tr>\n",
       "    <tr>\n",
       "      <td>3</td>\n",
       "      <td>1.574182e+07</td>\n",
       "      <td>43.195489</td>\n",
       "      <td>104318.130564</td>\n",
       "      <td>119475.686310</td>\n",
       "      <td>5.003759</td>\n",
       "      <td>648.105263</td>\n",
       "      <td>0.424812</td>\n",
       "      <td>0.714286</td>\n",
       "      <td>0.827068</td>\n",
       "    </tr>\n",
       "    <tr>\n",
       "      <td>4</td>\n",
       "      <td>1.571936e+07</td>\n",
       "      <td>45.683333</td>\n",
       "      <td>104763.723333</td>\n",
       "      <td>122260.610870</td>\n",
       "      <td>5.300000</td>\n",
       "      <td>653.583333</td>\n",
       "      <td>0.483333</td>\n",
       "      <td>0.683333</td>\n",
       "      <td>1.000000</td>\n",
       "    </tr>\n",
       "  </tbody>\n",
       "</table>\n",
       "</div>"
      ],
      "text/plain": [
       "                    id        age         salary        balance   objects  \\\n",
       "products                                                                    \n",
       "1         1.573237e+07  39.673092   99487.256851  119894.163723  4.974626   \n",
       "2         1.573484e+07  37.753595  100452.012821  119660.944362  5.051852   \n",
       "3         1.574182e+07  43.195489  104318.130564  119475.686310  5.003759   \n",
       "4         1.571936e+07  45.683333  104763.723333  122260.610870  5.300000   \n",
       "\n",
       "               score   loyalty  creditcard     churn  \n",
       "products                                              \n",
       "1         649.120968  0.504131    0.703777  0.277144  \n",
       "2         652.188671  0.532898    0.707190  0.075817  \n",
       "3         648.105263  0.424812    0.714286  0.827068  \n",
       "4         653.583333  0.483333    0.683333  1.000000  "
      ]
     },
     "execution_count": 44,
     "metadata": {},
     "output_type": "execute_result"
    }
   ],
   "source": [
    "ff"
   ]
  },
  {
   "cell_type": "markdown",
   "metadata": {},
   "source": [
    "### Вывод\n",
    "<a name=\"2.13\"></a><br/>"
   ]
  },
  {
   "cell_type": "markdown",
   "metadata": {},
   "source": [
    "* Клиенты с 1 продуктом\n",
    "\n",
    "Этих клиентов больше всего их 51 %. Средний возраст около 40 лет. Мужчин в выбоке чуть больше. Соответсвенно их больше в клиентах с одним продуктом.У них наименьшая оцениваемая зарплата - 99 тысяч. Баланс у всех клиентов примерно одинаковый около 120 тысяч. Количество объектов всех клиентов тоже почти не отличается около 5. Что на мой взгляд, выглядит странно. Баллы кредитного скоринка у всех клиенто тоже примерно одинаковый около 650 баллов. Активными являются только половина клиентов в не зависимости от количества продуктов. Интересно то, что больше половины клиентов имеют кредитные карты, не смотря на то,что это их единственный продукт. \n",
    "\n",
    "* Клиенты с 2 продуктами\n",
    "\n",
    "Этих клиентом чуть меньше их 45 %. Средний возрас самый нихкий из всех около 38. Здесь мужчин также больше. Оцениваевая зарплато чуть выше - 100 тысяч. Баланс такой же как и всех остальных клиентов. Клиенты с двумя продуктами являются чуть более активными клиентами. Реже уходят в отток.\n",
    "\n",
    "* Клиенты с 3 продуктами\n",
    "\n",
    "Этих клиентов около 3 %. Их средний возраст выше около 43 лет. Среди них чуть больше женщин. Зарплата выше около 104 тысяч. Но баланс примерно такой же 119 тысяч.Они менее активны, чем клиенты с одним и двумя продуктами. Эти клиенты очень часто уходят в отток.\n",
    "\n",
    "* Клиенты с 4 продуктами\n",
    "\n",
    "Таких клиентов меньше 1%. Их средний возраст наиболее высокий около 46 лет. Среди них женщин гораздо больше,чем мужчин. Зарплата у них такая же как и у клиенто с 3 продуктами - 104 тысячи. А баланс ещё больше 122 тысяч. Среди них активных и неактивных пользователей примерно поровну. Удивительно кажется то, что среди клиентов с 4 продуктами все ущли в отток, с тремя ушли в отток 80 % клиентов. Стабильнне всего клиенты с двумя продуктами. У них отток почти нет.\n"
   ]
  },
  {
   "cell_type": "markdown",
   "metadata": {},
   "source": [
    "<div class='alert alert-success'>\n",
    "Мне кажется ты хорошо постарался в данном разделе и отрисовал очень аккуратные и хорошо читаемые графики. Из возможностей улучшить отмечу возможность отрисовки на круговых диаграммах помимо процентов еще и абсолютные значения. Для столбчатых диаграмм очень удобно еще добавлять сетку, а также  делать подписи сверху с доп информацией о проценте относительно сегмента. "
   ]
  },
  {
   "cell_type": "markdown",
   "metadata": {},
   "source": [
    "##  Формулировка и проверка статистических гипотез\n",
    "<a name=\"3.\"></a><br/>\n",
    "[<font size=\"2\">(к содержанию)</font>](#to_content.)"
   ]
  },
  {
   "cell_type": "markdown",
   "metadata": {},
   "source": [
    "### Проверка гипотезы различия дохода между теми клиентами, которые пользуются двумя продуктами банка, и теми, которые пользуются одним\n",
    "<a name=\"3.1\"></a><br/>"
   ]
  },
  {
   "cell_type": "markdown",
   "metadata": {},
   "source": [
    "Формулировка гипотезы\n",
    "   * Нулевая гипотеза: Доходы клиентов пользующихся одним продуктом не отличаются от доходов клиентов пользующихся двумя\n",
    "   *  Альтернативная гипотеза: Доходы клиентов пользующихся одним продуктом отличаются от доходов клиентов пользующихся двумя"
   ]
  },
  {
   "cell_type": "code",
   "execution_count": 45,
   "metadata": {},
   "outputs": [],
   "source": [
    "products_1 = df.query('products == 1')\n",
    "products_2 = df.query('products == 2')"
   ]
  },
  {
   "cell_type": "code",
   "execution_count": 46,
   "metadata": {},
   "outputs": [
    {
     "data": {
      "image/png": "[encoded data removed]",
      "text/plain": [
       "<Figure size 576x576 with 1 Axes>"
      ]
     },
     "metadata": {
      "needs_background": "light"
     },
     "output_type": "display_data"
    }
   ],
   "source": [
    "#рисую график распределения зарплат клиентов с двумя продуктами\n",
    "plt.figure(figsize = (8,8))\n",
    "sns.distplot(products_2['salary'])\n",
    "plt.ylabel('Количество клиентов')\n",
    "plt.xlabel('Зарплата')\n",
    "plt.show()"
   ]
  },
  {
   "cell_type": "code",
   "execution_count": 47,
   "metadata": {},
   "outputs": [
    {
     "data": {
      "image/png": "[encoded data removed]",
      "text/plain": [
       "<Figure size 576x576 with 1 Axes>"
      ]
     },
     "metadata": {
      "needs_background": "light"
     },
     "output_type": "display_data"
    }
   ],
   "source": [
    "#рисую график распределения зарплат клиентов с одним продуктом\n",
    "plt.figure(figsize = (8,8))\n",
    "sns.distplot(products_1['salary'])\n",
    "plt.ylabel('Количество клиентов')\n",
    "plt.xlabel('Зарплата')\n",
    "plt.show()"
   ]
  },
  {
   "cell_type": "code",
   "execution_count": 48,
   "metadata": {},
   "outputs": [
    {
     "name": "stdout",
     "output_type": "stream",
     "text": [
      "p-значение: 0.20397833259638254\n",
      "Не отвергаем нулевую гипотезу. Средние доходы могут быть равны.\n"
     ]
    }
   ],
   "source": [
    "# так как распределение имеет ненормальное распределение для проверки гипотез я буду использовать тест манна-уитни\n",
    "alpha = 0.01\n",
    "results =  mannwhitneyu(products_1['salary'], products_2['salary'])\n",
    "print('p-значение:', results.pvalue)\n",
    "if (results.pvalue < alpha):\n",
    "    print(\"Отвергаем нулевую гипотезу. Средние доходы могут отличаются.\")\n",
    "else:\n",
    "    print(\"Не отвергаем нулевую гипотезу. Средние доходы могут быть равны.\")"
   ]
  },
  {
   "cell_type": "markdown",
   "metadata": {},
   "source": [
    "### Проверка гипотезы различия баллов скоринга между теми клиентами, которые пользуются двумя продуктами банка, и теми, которые пользуются одним\n",
    "<a name=\"3.2\"></a><br/>"
   ]
  },
  {
   "cell_type": "code",
   "execution_count": 49,
   "metadata": {},
   "outputs": [
    {
     "data": {
      "image/png": "[encoded data removed]",
      "text/plain": [
       "<Figure size 576x576 with 1 Axes>"
      ]
     },
     "metadata": {
      "needs_background": "light"
     },
     "output_type": "display_data"
    }
   ],
   "source": [
    "#рисую график распределения скоринга клиентов с одним продуктом\n",
    "plt.figure(figsize = (8,8))\n",
    "sns.distplot(products_1['score'])\n",
    "plt.ylabel('Количество клиентов')\n",
    "plt.xlabel('Баллы скоринга')\n",
    "plt.show()"
   ]
  },
  {
   "cell_type": "code",
   "execution_count": 50,
   "metadata": {},
   "outputs": [
    {
     "data": {
      "image/png": "[encoded data removed]",
      "text/plain": [
       "<Figure size 576x576 with 1 Axes>"
      ]
     },
     "metadata": {
      "needs_background": "light"
     },
     "output_type": "display_data"
    }
   ],
   "source": [
    "#рисую график распределения скоринга клиентов с двумя продуктами\n",
    "plt.figure(figsize = (8,8))\n",
    "sns.distplot(products_2['score'])\n",
    "plt.ylabel('Количество клиентов')\n",
    "plt.xlabel('Баллы скоринга')\n",
    "plt.show()"
   ]
  },
  {
   "cell_type": "markdown",
   "metadata": {},
   "source": [
    "Формулировка гипотезы\n",
    "   * Нулевая гипотеза : Средние быллы скоринга клиентов пользующихся одним продуктом не отличаются от доходов клиентов пользующихся двумя\n",
    "   * Альтернативная гипотеза:  Средние быллы скоринга пользующихся одним продуктом отличаются от доходов клиентов пользующихся двумя"
   ]
  },
  {
   "cell_type": "code",
   "execution_count": 51,
   "metadata": {},
   "outputs": [
    {
     "name": "stdout",
     "output_type": "stream",
     "text": [
      "p-значение: 0.07864869516569403\n",
      "Не отвергаем нулевую гипотезу. Средние быллы скоринга одинаковые.\n"
     ]
    }
   ],
   "source": [
    "# не смотря на то что распределение имеет нормальное распределение для проверки гипотез я всё равно могу использовать тест манна-уитни \n",
    "alpha = 0.01 \n",
    "results = mannwhitneyu(products_1['score'], products_2['score'])\n",
    "print('p-значение:', results.pvalue)\n",
    "if (results.pvalue < alpha):\n",
    "    print(\"Отвергаем нулевую гипотезу. Средние быллы скоринга разные.\")\n",
    "else:\n",
    "    print(\"Не отвергаем нулевую гипотезу. Средние быллы скоринга одинаковые.\")"
   ]
  },
  {
   "cell_type": "markdown",
   "metadata": {},
   "source": [
    "<div class='alert alert-danger'>\n",
    "Для корректной проверки гипотез тебе не хватает предпоссылок для выбора конкретного стат теста. А также внимательнее отнесись к формулировке гипотез."
   ]
  },
  {
   "cell_type": "markdown",
   "metadata": {},
   "source": [
    "<div class='alert alert-danger'>\n",
    "Не вижу правок, презентации и дашборда (по желанию). "
   ]
  },
  {
   "cell_type": "markdown",
   "metadata": {},
   "source": [
    "Я добавил графики обоснующие выбор стат теста и изменил формулировки гипотез 😣"
   ]
  },
  {
   "cell_type": "markdown",
   "metadata": {},
   "source": [
    "<div class='alert alert-success'>\n",
    "Спасибо за правки, теперь у тебя соблюдены все этапы проверки стат гипотез. В целом у тебя хорошая работа. Я жду твоей презентации в которой у тебя обязетльно должны быть указаны рекомендации по работе с сегментами. Сам проект принят, ты хорошо постарался. "
   ]
  },
  {
   "cell_type": "code",
   "execution_count": null,
   "metadata": {},
   "outputs": [],
   "source": []
  }
 ],
 "metadata": {
  "ExecuteTimeLog": [
   {
    "duration": 106,
    "start_time": "2021-09-09T18:05:29.714Z"
   },
   {
    "duration": 75,
    "start_time": "2021-09-09T18:06:09.041Z"
   },
   {
    "duration": 81,
    "start_time": "2021-09-09T18:06:12.567Z"
   },
   {
    "duration": 171,
    "start_time": "2021-09-09T18:06:34.166Z"
   },
   {
    "duration": 88,
    "start_time": "2021-09-09T18:06:49.787Z"
   },
   {
    "duration": 82,
    "start_time": "2021-09-09T18:07:30.618Z"
   },
   {
    "duration": 1101,
    "start_time": "2021-09-09T18:07:59.784Z"
   },
   {
    "duration": 99,
    "start_time": "2021-09-09T18:08:03.945Z"
   },
   {
    "duration": 78,
    "start_time": "2021-09-09T18:08:06.536Z"
   },
   {
    "duration": 81,
    "start_time": "2021-09-09T18:08:20.019Z"
   },
   {
    "duration": 94,
    "start_time": "2021-09-09T18:08:48.318Z"
   },
   {
    "duration": 89,
    "start_time": "2021-09-09T18:09:18.080Z"
   },
   {
    "duration": 85,
    "start_time": "2021-09-09T18:09:31.847Z"
   },
   {
    "duration": 94,
    "start_time": "2021-09-09T18:09:55.443Z"
   },
   {
    "duration": 100,
    "start_time": "2021-09-09T18:27:42.773Z"
   },
   {
    "duration": 4534,
    "start_time": "2021-09-15T16:35:17.682Z"
   },
   {
    "duration": 2851,
    "start_time": "2021-09-15T16:36:02.968Z"
   },
   {
    "duration": 3331,
    "start_time": "2021-09-15T16:36:22.625Z"
   },
   {
    "duration": 3128,
    "start_time": "2021-09-15T16:36:37.021Z"
   },
   {
    "duration": 2771,
    "start_time": "2021-09-15T16:36:55.904Z"
   },
   {
    "duration": 3167,
    "start_time": "2021-09-15T16:37:41.519Z"
   },
   {
    "duration": 3444,
    "start_time": "2021-09-15T16:38:33.776Z"
   },
   {
    "duration": 2846,
    "start_time": "2021-09-15T16:38:58.457Z"
   },
   {
    "duration": 3,
    "start_time": "2021-09-15T16:39:59.177Z"
   },
   {
    "duration": 5944,
    "start_time": "2021-09-15T16:40:05.714Z"
   },
   {
    "duration": 10810,
    "start_time": "2021-09-15T16:40:00.850Z"
   },
   {
    "duration": 1930,
    "start_time": "2021-09-15T16:40:22.526Z"
   },
   {
    "duration": 1843,
    "start_time": "2021-09-15T16:40:35.961Z"
   },
   {
    "duration": 313,
    "start_time": "2021-09-15T16:40:44.835Z"
   },
   {
    "duration": 244,
    "start_time": "2021-09-15T16:41:13.921Z"
   },
   {
    "duration": 21,
    "start_time": "2021-09-15T16:41:15.081Z"
   },
   {
    "duration": 86,
    "start_time": "2021-09-15T16:43:26.821Z"
   },
   {
    "duration": 85,
    "start_time": "2021-09-15T16:45:42.491Z"
   },
   {
    "duration": 8,
    "start_time": "2021-09-15T16:51:40.143Z"
   },
   {
    "duration": 5,
    "start_time": "2021-09-15T16:51:55.561Z"
   },
   {
    "duration": 11,
    "start_time": "2021-09-15T16:52:08.223Z"
   },
   {
    "duration": 39,
    "start_time": "2021-09-15T16:52:19.645Z"
   },
   {
    "duration": 3,
    "start_time": "2021-09-15T16:52:30.617Z"
   },
   {
    "duration": 4,
    "start_time": "2021-09-15T16:52:40.298Z"
   },
   {
    "duration": 5,
    "start_time": "2021-09-15T16:52:49.950Z"
   },
   {
    "duration": 5,
    "start_time": "2021-09-15T16:53:04.020Z"
   },
   {
    "duration": 16,
    "start_time": "2021-09-15T16:53:16.239Z"
   },
   {
    "duration": 705,
    "start_time": "2021-09-15T16:55:04.597Z"
   },
   {
    "duration": 10,
    "start_time": "2021-09-15T16:57:02.538Z"
   },
   {
    "duration": 5,
    "start_time": "2021-09-15T16:57:15.317Z"
   },
   {
    "duration": 7,
    "start_time": "2021-09-15T16:57:28.734Z"
   },
   {
    "duration": 170,
    "start_time": "2021-09-15T16:57:41.979Z"
   },
   {
    "duration": 4,
    "start_time": "2021-09-15T17:10:43.537Z"
   },
   {
    "duration": 278,
    "start_time": "2021-09-15T17:10:55.591Z"
   },
   {
    "duration": 87,
    "start_time": "2021-09-15T17:11:30.847Z"
   },
   {
    "duration": 724,
    "start_time": "2021-09-15T17:11:37.838Z"
   },
   {
    "duration": 279,
    "start_time": "2021-09-15T17:11:56.554Z"
   },
   {
    "duration": 685,
    "start_time": "2021-09-15T17:12:13.177Z"
   },
   {
    "duration": 5,
    "start_time": "2021-09-15T17:15:47.866Z"
   },
   {
    "duration": 260,
    "start_time": "2021-09-15T17:15:59.096Z"
   },
   {
    "duration": 3,
    "start_time": "2021-09-15T17:16:06.387Z"
   },
   {
    "duration": 4,
    "start_time": "2021-09-15T17:16:09.257Z"
   },
   {
    "duration": 121,
    "start_time": "2021-09-15T17:18:58.378Z"
   },
   {
    "duration": 7989,
    "start_time": "2021-09-15T17:19:05.938Z"
   },
   {
    "duration": 218,
    "start_time": "2021-09-15T17:20:06.113Z"
   },
   {
    "duration": 211,
    "start_time": "2021-09-15T17:21:33.442Z"
   },
   {
    "duration": 206,
    "start_time": "2021-09-15T17:22:48.258Z"
   },
   {
    "duration": 10782,
    "start_time": "2021-09-15T17:30:49.312Z"
   },
   {
    "duration": 10782,
    "start_time": "2021-09-15T17:30:49.314Z"
   },
   {
    "duration": 10781,
    "start_time": "2021-09-15T17:30:49.316Z"
   },
   {
    "duration": 1524,
    "start_time": "2021-09-15T17:31:07.990Z"
   },
   {
    "duration": 27,
    "start_time": "2021-09-15T17:31:09.516Z"
   },
   {
    "duration": 22,
    "start_time": "2021-09-15T17:31:09.545Z"
   },
   {
    "duration": 15,
    "start_time": "2021-09-15T17:31:09.568Z"
   },
   {
    "duration": 4,
    "start_time": "2021-09-15T17:31:09.585Z"
   },
   {
    "duration": 10,
    "start_time": "2021-09-15T17:31:09.591Z"
   },
   {
    "duration": 36,
    "start_time": "2021-09-15T17:31:09.603Z"
   },
   {
    "duration": 3,
    "start_time": "2021-09-15T17:31:09.641Z"
   },
   {
    "duration": 34,
    "start_time": "2021-09-15T17:31:09.646Z"
   },
   {
    "duration": 5,
    "start_time": "2021-09-15T17:31:09.681Z"
   },
   {
    "duration": 8,
    "start_time": "2021-09-15T17:31:09.688Z"
   },
   {
    "duration": 20,
    "start_time": "2021-09-15T17:31:09.698Z"
   },
   {
    "duration": 796,
    "start_time": "2021-09-15T17:31:09.720Z"
   },
   {
    "duration": 10,
    "start_time": "2021-09-15T17:31:10.518Z"
   },
   {
    "duration": 8,
    "start_time": "2021-09-15T17:31:10.530Z"
   },
   {
    "duration": 11,
    "start_time": "2021-09-15T17:31:10.540Z"
   },
   {
    "duration": 179,
    "start_time": "2021-09-15T17:31:10.552Z"
   },
   {
    "duration": 286,
    "start_time": "2021-09-15T17:31:10.733Z"
   },
   {
    "duration": 93,
    "start_time": "2021-09-15T17:31:11.021Z"
   },
   {
    "duration": 10788,
    "start_time": "2021-09-15T17:31:00.328Z"
   },
   {
    "duration": 10787,
    "start_time": "2021-09-15T17:31:00.330Z"
   },
   {
    "duration": 10786,
    "start_time": "2021-09-15T17:31:00.331Z"
   },
   {
    "duration": 376,
    "start_time": "2021-09-15T17:31:46.317Z"
   },
   {
    "duration": 955,
    "start_time": "2021-09-15T17:32:45.880Z"
   },
   {
    "duration": 266,
    "start_time": "2021-09-15T17:32:52.666Z"
   },
   {
    "duration": 125,
    "start_time": "2021-09-15T17:33:20.361Z"
   },
   {
    "duration": 165,
    "start_time": "2021-09-15T17:33:53.464Z"
   },
   {
    "duration": 158,
    "start_time": "2021-09-15T17:34:23.558Z"
   },
   {
    "duration": 156,
    "start_time": "2021-09-15T17:36:21.663Z"
   },
   {
    "duration": 210,
    "start_time": "2021-09-15T17:37:29.221Z"
   },
   {
    "duration": 200,
    "start_time": "2021-09-15T17:40:34.736Z"
   },
   {
    "duration": 176,
    "start_time": "2021-09-15T17:41:07.631Z"
   },
   {
    "duration": 175,
    "start_time": "2021-09-15T17:41:33.560Z"
   },
   {
    "duration": 83,
    "start_time": "2021-09-15T17:43:04.291Z"
   },
   {
    "duration": 99,
    "start_time": "2021-09-15T17:43:08.975Z"
   },
   {
    "duration": 223,
    "start_time": "2021-09-15T17:45:24.000Z"
   },
   {
    "duration": 4,
    "start_time": "2021-09-15T17:51:08.153Z"
   },
   {
    "duration": 257,
    "start_time": "2021-09-15T17:52:33.121Z"
   },
   {
    "duration": 261,
    "start_time": "2021-09-15T17:53:00.967Z"
   },
   {
    "duration": 419,
    "start_time": "2021-09-15T17:55:10.149Z"
   },
   {
    "duration": 363,
    "start_time": "2021-09-15T18:01:11.230Z"
   },
   {
    "duration": 1361,
    "start_time": "2021-09-15T18:03:19.382Z"
   },
   {
    "duration": 27,
    "start_time": "2021-09-15T18:03:20.745Z"
   },
   {
    "duration": 22,
    "start_time": "2021-09-15T18:03:20.776Z"
   },
   {
    "duration": 20,
    "start_time": "2021-09-15T18:03:20.799Z"
   },
   {
    "duration": 24,
    "start_time": "2021-09-15T18:03:20.821Z"
   },
   {
    "duration": 26,
    "start_time": "2021-09-15T18:03:20.847Z"
   },
   {
    "duration": 49,
    "start_time": "2021-09-15T18:03:20.875Z"
   },
   {
    "duration": 3,
    "start_time": "2021-09-15T18:03:20.927Z"
   },
   {
    "duration": 33,
    "start_time": "2021-09-15T18:03:20.932Z"
   },
   {
    "duration": 30,
    "start_time": "2021-09-15T18:03:20.966Z"
   },
   {
    "duration": 18,
    "start_time": "2021-09-15T18:03:20.998Z"
   },
   {
    "duration": 22,
    "start_time": "2021-09-15T18:03:21.017Z"
   },
   {
    "duration": 798,
    "start_time": "2021-09-15T18:03:21.040Z"
   },
   {
    "duration": 9,
    "start_time": "2021-09-15T18:03:21.840Z"
   },
   {
    "duration": 6,
    "start_time": "2021-09-15T18:03:21.851Z"
   },
   {
    "duration": 8,
    "start_time": "2021-09-15T18:03:21.858Z"
   },
   {
    "duration": 173,
    "start_time": "2021-09-15T18:03:21.868Z"
   },
   {
    "duration": 227,
    "start_time": "2021-09-15T18:03:22.042Z"
   },
   {
    "duration": 282,
    "start_time": "2021-09-15T18:03:22.270Z"
   },
   {
    "duration": 245,
    "start_time": "2021-09-15T18:03:22.554Z"
   },
   {
    "duration": 238,
    "start_time": "2021-09-15T18:03:22.800Z"
   },
   {
    "duration": 353,
    "start_time": "2021-09-15T18:03:23.040Z"
   },
   {
    "duration": 4,
    "start_time": "2021-09-15T18:03:23.395Z"
   },
   {
    "duration": 222,
    "start_time": "2021-09-15T18:03:23.401Z"
   },
   {
    "duration": 211,
    "start_time": "2021-09-15T18:05:02.954Z"
   },
   {
    "duration": 388,
    "start_time": "2021-09-15T18:11:00.928Z"
   },
   {
    "duration": 207,
    "start_time": "2021-09-15T18:11:13.120Z"
   },
   {
    "duration": 390,
    "start_time": "2021-09-15T18:11:25.592Z"
   },
   {
    "duration": 631,
    "start_time": "2021-09-15T18:11:56.768Z"
   },
   {
    "duration": 1234,
    "start_time": "2021-09-15T18:14:14.576Z"
   },
   {
    "duration": 28,
    "start_time": "2021-09-15T18:14:15.811Z"
   },
   {
    "duration": 21,
    "start_time": "2021-09-15T18:14:15.844Z"
   },
   {
    "duration": 15,
    "start_time": "2021-09-15T18:14:15.867Z"
   },
   {
    "duration": 4,
    "start_time": "2021-09-15T18:14:15.884Z"
   },
   {
    "duration": 13,
    "start_time": "2021-09-15T18:14:15.890Z"
   },
   {
    "duration": 38,
    "start_time": "2021-09-15T18:14:15.905Z"
   },
   {
    "duration": 30,
    "start_time": "2021-09-15T18:14:15.946Z"
   },
   {
    "duration": 4,
    "start_time": "2021-09-15T18:14:15.979Z"
   },
   {
    "duration": 4,
    "start_time": "2021-09-15T18:14:15.985Z"
   },
   {
    "duration": 21,
    "start_time": "2021-09-15T18:14:15.991Z"
   },
   {
    "duration": 20,
    "start_time": "2021-09-15T18:14:16.014Z"
   },
   {
    "duration": 760,
    "start_time": "2021-09-15T18:14:16.035Z"
   },
   {
    "duration": 9,
    "start_time": "2021-09-15T18:14:16.797Z"
   },
   {
    "duration": 4,
    "start_time": "2021-09-15T18:14:16.808Z"
   },
   {
    "duration": 10,
    "start_time": "2021-09-15T18:14:16.813Z"
   },
   {
    "duration": 187,
    "start_time": "2021-09-15T18:14:16.825Z"
   },
   {
    "duration": 231,
    "start_time": "2021-09-15T18:14:17.014Z"
   },
   {
    "duration": 215,
    "start_time": "2021-09-15T18:14:17.247Z"
   },
   {
    "duration": 183,
    "start_time": "2021-09-15T18:14:17.464Z"
   },
   {
    "duration": 231,
    "start_time": "2021-09-15T18:14:17.648Z"
   },
   {
    "duration": 407,
    "start_time": "2021-09-15T18:14:17.881Z"
   },
   {
    "duration": 221,
    "start_time": "2021-09-15T18:14:18.290Z"
   },
   {
    "duration": 5,
    "start_time": "2021-09-15T18:14:18.513Z"
   },
   {
    "duration": 236,
    "start_time": "2021-09-15T18:14:18.519Z"
   },
   {
    "duration": 199,
    "start_time": "2021-09-15T18:31:50.988Z"
   },
   {
    "duration": 199,
    "start_time": "2021-09-15T18:39:40.913Z"
   },
   {
    "duration": 194,
    "start_time": "2021-09-15T18:40:38.603Z"
   },
   {
    "duration": 200,
    "start_time": "2021-09-15T18:44:37.642Z"
   },
   {
    "duration": 223,
    "start_time": "2021-09-15T18:45:50.730Z"
   },
   {
    "duration": 285,
    "start_time": "2021-09-15T18:58:45.681Z"
   },
   {
    "duration": 4,
    "start_time": "2021-09-15T18:58:56.821Z"
   },
   {
    "duration": 213,
    "start_time": "2021-09-15T18:58:58.229Z"
   },
   {
    "duration": 348,
    "start_time": "2021-09-15T19:09:30.660Z"
   },
   {
    "duration": 956,
    "start_time": "2021-09-15T19:21:33.790Z"
   },
   {
    "duration": 710,
    "start_time": "2021-09-15T19:21:51.299Z"
   },
   {
    "duration": 969,
    "start_time": "2021-09-15T19:28:23.287Z"
   },
   {
    "duration": 321,
    "start_time": "2021-09-15T19:53:26.186Z"
   },
   {
    "duration": 217,
    "start_time": "2021-09-15T20:09:20.102Z"
   },
   {
    "duration": 551,
    "start_time": "2021-09-15T20:12:37.728Z"
   },
   {
    "duration": 349,
    "start_time": "2021-09-15T20:13:20.682Z"
   },
   {
    "duration": 333,
    "start_time": "2021-09-15T20:16:06.652Z"
   },
   {
    "duration": 10,
    "start_time": "2021-09-15T20:18:08.793Z"
   },
   {
    "duration": 6,
    "start_time": "2021-09-15T20:18:12.278Z"
   },
   {
    "duration": 10,
    "start_time": "2021-09-15T20:18:41.419Z"
   },
   {
    "duration": 6,
    "start_time": "2021-09-15T20:18:42.101Z"
   },
   {
    "duration": 11,
    "start_time": "2021-09-15T20:18:53.927Z"
   },
   {
    "duration": 9,
    "start_time": "2021-09-15T20:18:54.228Z"
   },
   {
    "duration": 177,
    "start_time": "2021-09-15T20:19:11.218Z"
   },
   {
    "duration": 266,
    "start_time": "2021-09-15T20:19:58.043Z"
   },
   {
    "duration": 173,
    "start_time": "2021-09-15T20:21:16.479Z"
   },
   {
    "duration": 169,
    "start_time": "2021-09-15T20:21:27.298Z"
   },
   {
    "duration": 179,
    "start_time": "2021-09-15T20:21:47.312Z"
   },
   {
    "duration": 262,
    "start_time": "2021-09-15T20:22:38.550Z"
   },
   {
    "duration": 14,
    "start_time": "2021-09-15T20:22:58.057Z"
   },
   {
    "duration": 7,
    "start_time": "2021-09-15T20:23:10.833Z"
   },
   {
    "duration": 172,
    "start_time": "2021-09-15T20:23:50.838Z"
   },
   {
    "duration": 166,
    "start_time": "2021-09-15T20:24:11.484Z"
   },
   {
    "duration": 189,
    "start_time": "2021-09-15T20:24:29.655Z"
   },
   {
    "duration": 263,
    "start_time": "2021-09-15T20:24:40.197Z"
   },
   {
    "duration": 189,
    "start_time": "2021-09-15T20:24:57.940Z"
   },
   {
    "duration": 177,
    "start_time": "2021-09-15T20:25:05.811Z"
   },
   {
    "duration": 263,
    "start_time": "2021-09-15T20:25:22.533Z"
   },
   {
    "duration": 177,
    "start_time": "2021-09-15T20:25:29.410Z"
   },
   {
    "duration": 84,
    "start_time": "2021-09-15T20:26:18.097Z"
   },
   {
    "duration": 210,
    "start_time": "2021-09-15T20:26:25.754Z"
   },
   {
    "duration": 234,
    "start_time": "2021-09-15T20:31:56.832Z"
   },
   {
    "duration": 184,
    "start_time": "2021-09-15T20:32:47.484Z"
   },
   {
    "duration": 11,
    "start_time": "2021-09-15T20:35:19.988Z"
   },
   {
    "duration": 7,
    "start_time": "2021-09-15T20:35:20.898Z"
   },
   {
    "duration": 11,
    "start_time": "2021-09-15T20:35:34.559Z"
   },
   {
    "duration": 8,
    "start_time": "2021-09-15T20:35:35.125Z"
   },
   {
    "duration": 189,
    "start_time": "2021-09-15T20:35:36.152Z"
   },
   {
    "duration": 11,
    "start_time": "2021-09-15T20:36:02.456Z"
   },
   {
    "duration": 6,
    "start_time": "2021-09-15T20:36:03.269Z"
   },
   {
    "duration": 181,
    "start_time": "2021-09-15T20:40:45.641Z"
   },
   {
    "duration": 10,
    "start_time": "2021-09-15T20:40:46.041Z"
   },
   {
    "duration": 7,
    "start_time": "2021-09-15T20:40:46.598Z"
   },
   {
    "duration": 186,
    "start_time": "2021-09-15T20:40:47.095Z"
   },
   {
    "duration": 180,
    "start_time": "2021-09-15T20:48:44.271Z"
   },
   {
    "duration": 12,
    "start_time": "2021-09-15T20:51:28.162Z"
   },
   {
    "duration": 6,
    "start_time": "2021-09-15T20:51:42.116Z"
   },
   {
    "duration": 11,
    "start_time": "2021-09-15T20:52:18.335Z"
   },
   {
    "duration": 7,
    "start_time": "2021-09-15T20:52:18.969Z"
   },
   {
    "duration": 10,
    "start_time": "2021-09-15T20:52:31.827Z"
   },
   {
    "duration": 7,
    "start_time": "2021-09-15T20:52:32.249Z"
   },
   {
    "duration": 10,
    "start_time": "2021-09-15T20:52:59.099Z"
   },
   {
    "duration": 6,
    "start_time": "2021-09-15T20:52:59.311Z"
   },
   {
    "duration": 9,
    "start_time": "2021-09-15T21:07:07.887Z"
   },
   {
    "duration": 4,
    "start_time": "2021-09-15T21:07:08.790Z"
   },
   {
    "duration": 7,
    "start_time": "2021-09-15T21:07:09.496Z"
   },
   {
    "duration": 162,
    "start_time": "2021-09-15T21:07:10.344Z"
   },
   {
    "duration": 783,
    "start_time": "2021-09-15T21:08:18.421Z"
   },
   {
    "duration": 12,
    "start_time": "2021-09-15T21:08:20.852Z"
   },
   {
    "duration": 6,
    "start_time": "2021-09-15T21:08:21.784Z"
   },
   {
    "duration": 1270,
    "start_time": "2021-09-15T21:25:04.344Z"
   },
   {
    "duration": 27,
    "start_time": "2021-09-15T21:25:05.616Z"
   },
   {
    "duration": 20,
    "start_time": "2021-09-15T21:25:05.646Z"
   },
   {
    "duration": 13,
    "start_time": "2021-09-15T21:25:05.668Z"
   },
   {
    "duration": 7,
    "start_time": "2021-09-15T21:25:05.683Z"
   },
   {
    "duration": 16,
    "start_time": "2021-09-15T21:25:05.692Z"
   },
   {
    "duration": 36,
    "start_time": "2021-09-15T21:25:05.709Z"
   },
   {
    "duration": 2,
    "start_time": "2021-09-15T21:25:05.748Z"
   },
   {
    "duration": 25,
    "start_time": "2021-09-15T21:25:05.753Z"
   },
   {
    "duration": 4,
    "start_time": "2021-09-15T21:25:05.779Z"
   },
   {
    "duration": 8,
    "start_time": "2021-09-15T21:25:05.785Z"
   },
   {
    "duration": 22,
    "start_time": "2021-09-15T21:25:05.795Z"
   },
   {
    "duration": 757,
    "start_time": "2021-09-15T21:25:05.819Z"
   },
   {
    "duration": 11,
    "start_time": "2021-09-15T21:25:06.578Z"
   },
   {
    "duration": 9,
    "start_time": "2021-09-15T21:25:06.591Z"
   },
   {
    "duration": 9,
    "start_time": "2021-09-15T21:25:06.602Z"
   },
   {
    "duration": 6,
    "start_time": "2021-09-15T21:25:06.613Z"
   },
   {
    "duration": 10,
    "start_time": "2021-09-15T21:25:06.621Z"
   },
   {
    "duration": 194,
    "start_time": "2021-09-15T21:25:06.632Z"
   },
   {
    "duration": 229,
    "start_time": "2021-09-15T21:25:06.828Z"
   },
   {
    "duration": 217,
    "start_time": "2021-09-15T21:25:07.059Z"
   },
   {
    "duration": 195,
    "start_time": "2021-09-15T21:25:07.278Z"
   },
   {
    "duration": 233,
    "start_time": "2021-09-15T21:25:07.478Z"
   },
   {
    "duration": 350,
    "start_time": "2021-09-15T21:25:07.713Z"
   },
   {
    "duration": 220,
    "start_time": "2021-09-15T21:25:08.065Z"
   },
   {
    "duration": 220,
    "start_time": "2021-09-15T21:25:08.286Z"
   },
   {
    "duration": 329,
    "start_time": "2021-09-15T21:25:08.508Z"
   },
   {
    "duration": 218,
    "start_time": "2021-09-15T21:25:08.839Z"
   },
   {
    "duration": 369,
    "start_time": "2021-09-15T21:25:09.059Z"
   },
   {
    "duration": 349,
    "start_time": "2021-09-15T21:25:09.430Z"
   },
   {
    "duration": 10,
    "start_time": "2021-09-15T21:25:09.781Z"
   },
   {
    "duration": 12,
    "start_time": "2021-09-15T21:25:09.793Z"
   },
   {
    "duration": 291,
    "start_time": "2021-09-15T21:25:09.807Z"
   },
   {
    "duration": 11,
    "start_time": "2021-09-15T21:25:10.100Z"
   },
   {
    "duration": 6,
    "start_time": "2021-09-15T21:25:10.113Z"
   },
   {
    "duration": 204,
    "start_time": "2021-09-15T21:25:10.121Z"
   },
   {
    "duration": 325,
    "start_time": "2021-09-15T22:34:50.870Z"
   },
   {
    "duration": 110,
    "start_time": "2021-09-15T22:38:09.805Z"
   },
   {
    "duration": 8,
    "start_time": "2021-09-15T22:38:45.154Z"
   },
   {
    "duration": 384,
    "start_time": "2021-09-15T22:38:47.147Z"
   },
   {
    "duration": 8,
    "start_time": "2021-09-15T22:39:38.685Z"
   },
   {
    "duration": 5,
    "start_time": "2021-09-15T22:39:40.184Z"
   },
   {
    "duration": 4,
    "start_time": "2021-09-15T22:40:06.448Z"
   },
   {
    "duration": 5,
    "start_time": "2021-09-15T22:40:16.691Z"
   },
   {
    "duration": 1217,
    "start_time": "2021-09-15T22:41:36.410Z"
   },
   {
    "duration": 1212,
    "start_time": "2021-09-15T22:41:46.837Z"
   },
   {
    "duration": 27,
    "start_time": "2021-09-15T22:41:48.051Z"
   },
   {
    "duration": 19,
    "start_time": "2021-09-15T22:41:48.080Z"
   },
   {
    "duration": 9,
    "start_time": "2021-09-15T22:41:48.101Z"
   },
   {
    "duration": 15,
    "start_time": "2021-09-15T22:41:48.112Z"
   },
   {
    "duration": 20,
    "start_time": "2021-09-15T22:41:48.128Z"
   },
   {
    "duration": 39,
    "start_time": "2021-09-15T22:41:48.150Z"
   },
   {
    "duration": 3,
    "start_time": "2021-09-15T22:41:48.192Z"
   },
   {
    "duration": 16,
    "start_time": "2021-09-15T22:41:48.196Z"
   },
   {
    "duration": 17,
    "start_time": "2021-09-15T22:41:48.214Z"
   },
   {
    "duration": 19,
    "start_time": "2021-09-15T22:41:48.232Z"
   },
   {
    "duration": 31,
    "start_time": "2021-09-15T22:41:48.253Z"
   },
   {
    "duration": 733,
    "start_time": "2021-09-15T22:41:48.285Z"
   },
   {
    "duration": 10,
    "start_time": "2021-09-15T22:41:49.019Z"
   },
   {
    "duration": 20,
    "start_time": "2021-09-15T22:41:49.030Z"
   },
   {
    "duration": 17,
    "start_time": "2021-09-15T22:41:49.052Z"
   },
   {
    "duration": 10,
    "start_time": "2021-09-15T22:41:49.070Z"
   },
   {
    "duration": 21,
    "start_time": "2021-09-15T22:41:49.081Z"
   },
   {
    "duration": 171,
    "start_time": "2021-09-15T22:41:49.103Z"
   },
   {
    "duration": 228,
    "start_time": "2021-09-15T22:41:49.276Z"
   },
   {
    "duration": 213,
    "start_time": "2021-09-15T22:41:49.505Z"
   },
   {
    "duration": 176,
    "start_time": "2021-09-15T22:41:49.719Z"
   },
   {
    "duration": 229,
    "start_time": "2021-09-15T22:41:49.898Z"
   },
   {
    "duration": 355,
    "start_time": "2021-09-15T22:41:50.129Z"
   },
   {
    "duration": 217,
    "start_time": "2021-09-15T22:41:50.486Z"
   },
   {
    "duration": 217,
    "start_time": "2021-09-15T22:41:50.705Z"
   },
   {
    "duration": 321,
    "start_time": "2021-09-15T22:41:50.923Z"
   },
   {
    "duration": 212,
    "start_time": "2021-09-15T22:41:51.246Z"
   },
   {
    "duration": 360,
    "start_time": "2021-09-15T22:41:51.460Z"
   },
   {
    "duration": 345,
    "start_time": "2021-09-15T22:41:51.822Z"
   },
   {
    "duration": 13,
    "start_time": "2021-09-15T22:41:52.169Z"
   },
   {
    "duration": 6,
    "start_time": "2021-09-15T22:41:52.184Z"
   },
   {
    "duration": 339,
    "start_time": "2021-09-15T22:41:52.192Z"
   },
   {
    "duration": 14,
    "start_time": "2021-09-15T22:41:52.533Z"
   },
   {
    "duration": 30,
    "start_time": "2021-09-15T22:41:52.548Z"
   },
   {
    "duration": 187,
    "start_time": "2021-09-15T22:41:52.580Z"
   },
   {
    "duration": 7,
    "start_time": "2021-09-15T22:41:52.776Z"
   },
   {
    "duration": 27,
    "start_time": "2021-09-15T22:41:52.785Z"
   },
   {
    "duration": 4,
    "start_time": "2021-09-15T22:42:20.856Z"
   },
   {
    "duration": 7,
    "start_time": "2021-09-15T22:43:21.373Z"
   },
   {
    "duration": 7,
    "start_time": "2021-09-15T22:43:23.001Z"
   },
   {
    "duration": 5,
    "start_time": "2021-09-15T22:43:25.572Z"
   },
   {
    "duration": 108,
    "start_time": "2021-09-15T22:43:38.258Z"
   },
   {
    "duration": 99,
    "start_time": "2021-09-15T22:43:52.496Z"
   },
   {
    "duration": 7,
    "start_time": "2021-09-15T22:43:57.652Z"
   },
   {
    "duration": 370,
    "start_time": "2021-09-15T22:44:06.352Z"
   },
   {
    "duration": 95,
    "start_time": "2021-09-15T22:44:12.959Z"
   },
   {
    "duration": 3,
    "start_time": "2021-09-15T22:44:22.111Z"
   },
   {
    "duration": 5,
    "start_time": "2021-09-15T22:44:23.284Z"
   },
   {
    "duration": 4,
    "start_time": "2021-09-15T22:44:26.737Z"
   },
   {
    "duration": 7,
    "start_time": "2021-09-15T22:46:55.157Z"
   },
   {
    "duration": 6,
    "start_time": "2021-09-15T22:46:56.896Z"
   },
   {
    "duration": 4,
    "start_time": "2021-09-15T22:47:10.069Z"
   },
   {
    "duration": 7,
    "start_time": "2021-09-15T22:49:36.989Z"
   },
   {
    "duration": 4,
    "start_time": "2021-09-15T22:49:38.097Z"
   },
   {
    "duration": 3,
    "start_time": "2021-09-15T22:50:22.174Z"
   },
   {
    "duration": 8,
    "start_time": "2021-09-15T22:50:25.289Z"
   },
   {
    "duration": 4,
    "start_time": "2021-09-15T22:50:26.137Z"
   },
   {
    "duration": 3,
    "start_time": "2021-09-15T22:50:27.449Z"
   },
   {
    "duration": 4,
    "start_time": "2021-09-15T22:50:28.146Z"
   },
   {
    "duration": 4,
    "start_time": "2021-09-15T22:50:34.418Z"
   },
   {
    "duration": 7,
    "start_time": "2021-09-15T22:50:36.624Z"
   },
   {
    "duration": 6,
    "start_time": "2021-09-15T22:50:36.633Z"
   },
   {
    "duration": 3,
    "start_time": "2021-09-15T22:50:38.243Z"
   },
   {
    "duration": 4,
    "start_time": "2021-09-15T22:50:43.984Z"
   },
   {
    "duration": 7,
    "start_time": "2021-09-15T22:52:44.682Z"
   },
   {
    "duration": 4,
    "start_time": "2021-09-15T22:52:45.691Z"
   },
   {
    "duration": 122,
    "start_time": "2021-09-15T22:53:13.879Z"
   },
   {
    "duration": 4,
    "start_time": "2021-09-15T22:53:15.140Z"
   },
   {
    "duration": 7,
    "start_time": "2021-09-15T22:53:21.500Z"
   },
   {
    "duration": 4,
    "start_time": "2021-09-15T22:53:22.136Z"
   },
   {
    "duration": 3,
    "start_time": "2021-09-15T22:53:24.320Z"
   },
   {
    "duration": 5,
    "start_time": "2021-09-15T22:53:24.867Z"
   },
   {
    "duration": 10823,
    "start_time": "2021-09-15T22:55:03.052Z"
   },
   {
    "duration": 1230,
    "start_time": "2021-09-15T22:55:16.086Z"
   },
   {
    "duration": 28,
    "start_time": "2021-09-15T22:55:17.318Z"
   },
   {
    "duration": 21,
    "start_time": "2021-09-15T22:55:17.349Z"
   },
   {
    "duration": 11,
    "start_time": "2021-09-15T22:55:17.372Z"
   },
   {
    "duration": 9,
    "start_time": "2021-09-15T22:55:17.385Z"
   },
   {
    "duration": 17,
    "start_time": "2021-09-15T22:55:17.396Z"
   },
   {
    "duration": 36,
    "start_time": "2021-09-15T22:55:17.415Z"
   },
   {
    "duration": 3,
    "start_time": "2021-09-15T22:55:17.454Z"
   },
   {
    "duration": 20,
    "start_time": "2021-09-15T22:55:17.459Z"
   },
   {
    "duration": 13,
    "start_time": "2021-09-15T22:55:17.481Z"
   },
   {
    "duration": 12,
    "start_time": "2021-09-15T22:55:17.496Z"
   },
   {
    "duration": 21,
    "start_time": "2021-09-15T22:55:17.509Z"
   },
   {
    "duration": 782,
    "start_time": "2021-09-15T22:55:17.532Z"
   },
   {
    "duration": 11,
    "start_time": "2021-09-15T22:55:18.316Z"
   },
   {
    "duration": 6,
    "start_time": "2021-09-15T22:55:18.329Z"
   },
   {
    "duration": 10,
    "start_time": "2021-09-15T22:55:18.337Z"
   },
   {
    "duration": 4,
    "start_time": "2021-09-15T22:55:18.377Z"
   },
   {
    "duration": 9,
    "start_time": "2021-09-15T22:55:18.383Z"
   },
   {
    "duration": 175,
    "start_time": "2021-09-15T22:55:18.394Z"
   },
   {
    "duration": 230,
    "start_time": "2021-09-15T22:55:18.571Z"
   },
   {
    "duration": 205,
    "start_time": "2021-09-15T22:55:18.803Z"
   },
   {
    "duration": 181,
    "start_time": "2021-09-15T22:55:19.010Z"
   },
   {
    "duration": 226,
    "start_time": "2021-09-15T22:55:19.195Z"
   },
   {
    "duration": 346,
    "start_time": "2021-09-15T22:55:19.423Z"
   },
   {
    "duration": 215,
    "start_time": "2021-09-15T22:55:19.770Z"
   },
   {
    "duration": 218,
    "start_time": "2021-09-15T22:55:19.987Z"
   },
   {
    "duration": 324,
    "start_time": "2021-09-15T22:55:20.206Z"
   },
   {
    "duration": 221,
    "start_time": "2021-09-15T22:55:20.532Z"
   },
   {
    "duration": 364,
    "start_time": "2021-09-15T22:55:20.755Z"
   },
   {
    "duration": 343,
    "start_time": "2021-09-15T22:55:21.121Z"
   },
   {
    "duration": 16,
    "start_time": "2021-09-15T22:55:21.466Z"
   },
   {
    "duration": 6,
    "start_time": "2021-09-15T22:55:21.484Z"
   },
   {
    "duration": 290,
    "start_time": "2021-09-15T22:55:21.491Z"
   },
   {
    "duration": 10,
    "start_time": "2021-09-15T22:55:21.783Z"
   },
   {
    "duration": 16,
    "start_time": "2021-09-15T22:55:21.794Z"
   },
   {
    "duration": 188,
    "start_time": "2021-09-15T22:55:21.812Z"
   },
   {
    "duration": 3,
    "start_time": "2021-09-15T22:55:22.001Z"
   },
   {
    "duration": 7101,
    "start_time": "2021-09-15T22:55:22.006Z"
   },
   {
    "duration": 10802,
    "start_time": "2021-09-15T22:55:18.307Z"
   },
   {
    "duration": 10800,
    "start_time": "2021-09-15T22:55:18.310Z"
   },
   {
    "duration": 10799,
    "start_time": "2021-09-15T22:55:18.312Z"
   },
   {
    "duration": 10794,
    "start_time": "2021-09-15T22:55:18.318Z"
   },
   {
    "duration": 1252,
    "start_time": "2021-09-15T22:55:34.384Z"
   },
   {
    "duration": 28,
    "start_time": "2021-09-15T22:55:35.638Z"
   },
   {
    "duration": 22,
    "start_time": "2021-09-15T22:55:35.670Z"
   },
   {
    "duration": 8,
    "start_time": "2021-09-15T22:55:35.694Z"
   },
   {
    "duration": 4,
    "start_time": "2021-09-15T22:55:35.704Z"
   },
   {
    "duration": 11,
    "start_time": "2021-09-15T22:55:35.710Z"
   },
   {
    "duration": 69,
    "start_time": "2021-09-15T22:55:35.722Z"
   },
   {
    "duration": 3,
    "start_time": "2021-09-15T22:55:35.795Z"
   },
   {
    "duration": 7,
    "start_time": "2021-09-15T22:55:35.800Z"
   },
   {
    "duration": 8,
    "start_time": "2021-09-15T22:55:35.809Z"
   },
   {
    "duration": 6,
    "start_time": "2021-09-15T22:55:35.818Z"
   },
   {
    "duration": 19,
    "start_time": "2021-09-15T22:55:35.826Z"
   },
   {
    "duration": 788,
    "start_time": "2021-09-15T22:55:35.847Z"
   },
   {
    "duration": 10,
    "start_time": "2021-09-15T22:55:36.637Z"
   },
   {
    "duration": 6,
    "start_time": "2021-09-15T22:55:36.649Z"
   },
   {
    "duration": 27,
    "start_time": "2021-09-15T22:55:36.656Z"
   },
   {
    "duration": 4,
    "start_time": "2021-09-15T22:55:36.685Z"
   },
   {
    "duration": 9,
    "start_time": "2021-09-15T22:55:36.690Z"
   },
   {
    "duration": 180,
    "start_time": "2021-09-15T22:55:36.700Z"
   },
   {
    "duration": 231,
    "start_time": "2021-09-15T22:55:36.882Z"
   },
   {
    "duration": 221,
    "start_time": "2021-09-15T22:55:37.114Z"
   },
   {
    "duration": 181,
    "start_time": "2021-09-15T22:55:37.338Z"
   },
   {
    "duration": 230,
    "start_time": "2021-09-15T22:55:37.521Z"
   },
   {
    "duration": 345,
    "start_time": "2021-09-15T22:55:37.753Z"
   },
   {
    "duration": 224,
    "start_time": "2021-09-15T22:55:38.100Z"
   },
   {
    "duration": 222,
    "start_time": "2021-09-15T22:55:38.328Z"
   },
   {
    "duration": 320,
    "start_time": "2021-09-15T22:55:38.552Z"
   },
   {
    "duration": 224,
    "start_time": "2021-09-15T22:55:38.877Z"
   },
   {
    "duration": 356,
    "start_time": "2021-09-15T22:55:39.103Z"
   },
   {
    "duration": 340,
    "start_time": "2021-09-15T22:55:39.461Z"
   },
   {
    "duration": 9,
    "start_time": "2021-09-15T22:55:39.804Z"
   },
   {
    "duration": 17,
    "start_time": "2021-09-15T22:55:39.814Z"
   },
   {
    "duration": 284,
    "start_time": "2021-09-15T22:55:39.832Z"
   },
   {
    "duration": 11,
    "start_time": "2021-09-15T22:55:40.117Z"
   },
   {
    "duration": 6,
    "start_time": "2021-09-15T22:55:40.130Z"
   },
   {
    "duration": 202,
    "start_time": "2021-09-15T22:55:40.137Z"
   },
   {
    "duration": 4,
    "start_time": "2021-09-15T22:55:40.340Z"
   },
   {
    "duration": 13,
    "start_time": "2021-09-15T22:55:40.345Z"
   },
   {
    "duration": 18,
    "start_time": "2021-09-15T22:55:40.360Z"
   },
   {
    "duration": 7,
    "start_time": "2021-09-15T22:55:40.380Z"
   },
   {
    "duration": 7,
    "start_time": "2021-09-15T22:55:40.389Z"
   },
   {
    "duration": 143,
    "start_time": "2021-09-15T22:55:54.926Z"
   },
   {
    "duration": 4,
    "start_time": "2021-09-15T22:55:58.399Z"
   },
   {
    "duration": 5,
    "start_time": "2021-09-15T22:56:14.383Z"
   },
   {
    "duration": 5,
    "start_time": "2021-09-15T22:56:15.342Z"
   },
   {
    "duration": 96,
    "start_time": "2021-09-15T22:56:47.998Z"
   },
   {
    "duration": 5,
    "start_time": "2021-09-15T22:56:49.451Z"
   },
   {
    "duration": 3839,
    "start_time": "2021-09-15T22:56:55.449Z"
   },
   {
    "duration": 10800,
    "start_time": "2021-09-15T22:56:48.490Z"
   },
   {
    "duration": 1738,
    "start_time": "2021-09-15T22:57:15.041Z"
   },
   {
    "duration": 7,
    "start_time": "2021-09-15T22:57:59.272Z"
   },
   {
    "duration": 7,
    "start_time": "2021-09-15T22:58:00.328Z"
   },
   {
    "duration": 3,
    "start_time": "2021-09-15T22:58:02.300Z"
   },
   {
    "duration": 5,
    "start_time": "2021-09-15T22:58:03.214Z"
   },
   {
    "duration": 8,
    "start_time": "2021-09-15T23:00:37.866Z"
   },
   {
    "duration": 5,
    "start_time": "2021-09-15T23:00:39.241Z"
   },
   {
    "duration": 3,
    "start_time": "2021-09-15T23:00:41.036Z"
   },
   {
    "duration": 6,
    "start_time": "2021-09-15T23:00:41.778Z"
   },
   {
    "duration": 276,
    "start_time": "2021-09-15T23:01:06.304Z"
   },
   {
    "duration": 4,
    "start_time": "2021-09-15T23:01:11.480Z"
   },
   {
    "duration": 3883,
    "start_time": "2021-09-15T23:01:28.547Z"
   },
   {
    "duration": 6,
    "start_time": "2021-09-15T23:01:44.526Z"
   },
   {
    "duration": 6,
    "start_time": "2021-09-15T23:01:45.814Z"
   },
   {
    "duration": 3,
    "start_time": "2021-09-15T23:01:49.916Z"
   },
   {
    "duration": 6,
    "start_time": "2021-09-15T23:01:51.093Z"
   },
   {
    "duration": 4,
    "start_time": "2021-09-15T23:04:22.407Z"
   },
   {
    "duration": 2,
    "start_time": "2021-09-15T23:04:37.631Z"
   },
   {
    "duration": 5,
    "start_time": "2021-09-15T23:04:37.837Z"
   },
   {
    "duration": 5,
    "start_time": "2021-09-15T23:04:39.490Z"
   },
   {
    "duration": 7,
    "start_time": "2021-09-15T23:05:43.468Z"
   },
   {
    "duration": 4,
    "start_time": "2021-09-15T23:05:44.505Z"
   },
   {
    "duration": 1261,
    "start_time": "2021-09-15T23:06:02.245Z"
   },
   {
    "duration": 27,
    "start_time": "2021-09-15T23:06:03.508Z"
   },
   {
    "duration": 19,
    "start_time": "2021-09-15T23:06:03.537Z"
   },
   {
    "duration": 8,
    "start_time": "2021-09-15T23:06:03.558Z"
   },
   {
    "duration": 4,
    "start_time": "2021-09-15T23:06:03.576Z"
   },
   {
    "duration": 10,
    "start_time": "2021-09-15T23:06:03.582Z"
   },
   {
    "duration": 36,
    "start_time": "2021-09-15T23:06:03.593Z"
   },
   {
    "duration": 3,
    "start_time": "2021-09-15T23:06:03.631Z"
   },
   {
    "duration": 7,
    "start_time": "2021-09-15T23:06:03.636Z"
   },
   {
    "duration": 33,
    "start_time": "2021-09-15T23:06:03.645Z"
   },
   {
    "duration": 7,
    "start_time": "2021-09-15T23:06:03.680Z"
   },
   {
    "duration": 17,
    "start_time": "2021-09-15T23:06:03.689Z"
   },
   {
    "duration": 720,
    "start_time": "2021-09-15T23:06:03.708Z"
   },
   {
    "duration": 10,
    "start_time": "2021-09-15T23:06:04.430Z"
   },
   {
    "duration": 5,
    "start_time": "2021-09-15T23:06:04.442Z"
   },
   {
    "duration": 27,
    "start_time": "2021-09-15T23:06:04.449Z"
   },
   {
    "duration": 4,
    "start_time": "2021-09-15T23:06:04.478Z"
   },
   {
    "duration": 9,
    "start_time": "2021-09-15T23:06:04.484Z"
   },
   {
    "duration": 175,
    "start_time": "2021-09-15T23:06:04.494Z"
   },
   {
    "duration": 240,
    "start_time": "2021-09-15T23:06:04.671Z"
   },
   {
    "duration": 211,
    "start_time": "2021-09-15T23:06:04.913Z"
   },
   {
    "duration": 184,
    "start_time": "2021-09-15T23:06:05.126Z"
   },
   {
    "duration": 224,
    "start_time": "2021-09-15T23:06:05.314Z"
   },
   {
    "duration": 352,
    "start_time": "2021-09-15T23:06:05.540Z"
   },
   {
    "duration": 216,
    "start_time": "2021-09-15T23:06:05.894Z"
   },
   {
    "duration": 221,
    "start_time": "2021-09-15T23:06:06.112Z"
   },
   {
    "duration": 315,
    "start_time": "2021-09-15T23:06:06.335Z"
   },
   {
    "duration": 222,
    "start_time": "2021-09-15T23:06:06.652Z"
   },
   {
    "duration": 361,
    "start_time": "2021-09-15T23:06:06.875Z"
   },
   {
    "duration": 356,
    "start_time": "2021-09-15T23:06:07.238Z"
   },
   {
    "duration": 10,
    "start_time": "2021-09-15T23:06:07.596Z"
   },
   {
    "duration": 6,
    "start_time": "2021-09-15T23:06:07.607Z"
   },
   {
    "duration": 280,
    "start_time": "2021-09-15T23:06:07.615Z"
   },
   {
    "duration": 11,
    "start_time": "2021-09-15T23:06:07.897Z"
   },
   {
    "duration": 7,
    "start_time": "2021-09-15T23:06:07.909Z"
   },
   {
    "duration": 196,
    "start_time": "2021-09-15T23:06:07.917Z"
   },
   {
    "duration": 3,
    "start_time": "2021-09-15T23:06:08.114Z"
   },
   {
    "duration": 11,
    "start_time": "2021-09-15T23:06:08.118Z"
   },
   {
    "duration": 4,
    "start_time": "2021-09-15T23:06:08.130Z"
   },
   {
    "duration": 6,
    "start_time": "2021-09-15T23:06:08.135Z"
   },
   {
    "duration": 5,
    "start_time": "2021-09-15T23:06:08.143Z"
   },
   {
    "duration": 6,
    "start_time": "2021-09-15T23:06:51.005Z"
   },
   {
    "duration": 4,
    "start_time": "2021-09-15T23:06:52.760Z"
   },
   {
    "duration": 9,
    "start_time": "2021-09-15T23:09:10.211Z"
   },
   {
    "duration": 6,
    "start_time": "2021-09-15T23:09:11.149Z"
   },
   {
    "duration": 3,
    "start_time": "2021-09-15T23:09:16.023Z"
   },
   {
    "duration": 5,
    "start_time": "2021-09-15T23:09:16.373Z"
   },
   {
    "duration": 5,
    "start_time": "2021-09-15T23:09:42.812Z"
   },
   {
    "duration": 8,
    "start_time": "2021-09-15T23:10:20.810Z"
   },
   {
    "duration": 4,
    "start_time": "2021-09-15T23:10:21.593Z"
   },
   {
    "duration": 3,
    "start_time": "2021-09-15T23:10:22.685Z"
   },
   {
    "duration": 7,
    "start_time": "2021-09-15T23:10:41.184Z"
   },
   {
    "duration": 4,
    "start_time": "2021-09-15T23:10:41.878Z"
   },
   {
    "duration": 3,
    "start_time": "2021-09-15T23:10:43.064Z"
   },
   {
    "duration": 4,
    "start_time": "2021-09-15T23:10:43.710Z"
   },
   {
    "duration": 8697,
    "start_time": "2021-09-15T23:11:09.370Z"
   },
   {
    "duration": 321,
    "start_time": "2021-09-15T23:11:42.617Z"
   },
   {
    "duration": 283,
    "start_time": "2021-09-15T23:12:10.800Z"
   },
   {
    "duration": 7,
    "start_time": "2021-09-15T23:12:23.523Z"
   },
   {
    "duration": 4,
    "start_time": "2021-09-15T23:12:24.573Z"
   },
   {
    "duration": 3,
    "start_time": "2021-09-15T23:12:25.717Z"
   },
   {
    "duration": 5,
    "start_time": "2021-09-15T23:12:26.127Z"
   },
   {
    "duration": 285,
    "start_time": "2021-09-15T23:15:05.047Z"
   },
   {
    "duration": 4,
    "start_time": "2021-09-15T23:15:28.893Z"
   },
   {
    "duration": 5,
    "start_time": "2021-09-15T23:15:29.968Z"
   },
   {
    "duration": 8,
    "start_time": "2021-09-15T23:15:33.825Z"
   },
   {
    "duration": 4,
    "start_time": "2021-09-15T23:15:36.532Z"
   },
   {
    "duration": 8,
    "start_time": "2021-09-15T23:15:48.108Z"
   },
   {
    "duration": 7,
    "start_time": "2021-09-15T23:16:41.528Z"
   },
   {
    "duration": 4,
    "start_time": "2021-09-15T23:16:44.992Z"
   },
   {
    "duration": 8,
    "start_time": "2021-09-15T23:17:00.125Z"
   },
   {
    "duration": 9,
    "start_time": "2021-09-15T23:17:00.961Z"
   },
   {
    "duration": 6,
    "start_time": "2021-09-15T23:17:01.741Z"
   },
   {
    "duration": 3,
    "start_time": "2021-09-15T23:17:04.722Z"
   },
   {
    "duration": 6,
    "start_time": "2021-09-15T23:17:05.193Z"
   },
   {
    "duration": 12,
    "start_time": "2021-09-15T23:21:58.891Z"
   },
   {
    "duration": 7,
    "start_time": "2021-09-15T23:22:08.497Z"
   },
   {
    "duration": 5,
    "start_time": "2021-09-15T23:22:36.063Z"
   },
   {
    "duration": 5,
    "start_time": "2021-09-15T23:22:50.925Z"
   },
   {
    "duration": 6,
    "start_time": "2021-09-15T23:23:09.311Z"
   },
   {
    "duration": 5,
    "start_time": "2021-09-15T23:23:19.530Z"
   },
   {
    "duration": 6,
    "start_time": "2021-09-15T23:23:27.357Z"
   },
   {
    "duration": 5,
    "start_time": "2021-09-15T23:28:45.955Z"
   },
   {
    "duration": 5,
    "start_time": "2021-09-15T23:28:54.177Z"
   },
   {
    "duration": 6,
    "start_time": "2021-09-15T23:28:59.368Z"
   },
   {
    "duration": 4,
    "start_time": "2021-09-15T23:38:43.823Z"
   },
   {
    "duration": 9,
    "start_time": "2021-09-15T23:38:45.639Z"
   },
   {
    "duration": 9,
    "start_time": "2021-09-15T23:39:27.590Z"
   },
   {
    "duration": 6,
    "start_time": "2021-09-15T23:39:28.141Z"
   },
   {
    "duration": 5,
    "start_time": "2021-09-15T23:42:41.094Z"
   },
   {
    "duration": 4,
    "start_time": "2021-09-15T23:43:55.150Z"
   },
   {
    "duration": 5,
    "start_time": "2021-09-15T23:44:03.421Z"
   },
   {
    "duration": 3398,
    "start_time": "2021-09-15T23:44:50.849Z"
   },
   {
    "duration": 85,
    "start_time": "2021-09-15T23:46:34.039Z"
   },
   {
    "duration": 97,
    "start_time": "2021-09-15T23:47:22.045Z"
   },
   {
    "duration": 8,
    "start_time": "2021-09-15T23:48:09.726Z"
   },
   {
    "duration": 7,
    "start_time": "2021-09-15T23:48:11.701Z"
   },
   {
    "duration": 5,
    "start_time": "2021-09-15T23:48:14.549Z"
   },
   {
    "duration": 285,
    "start_time": "2021-09-15T23:50:04.228Z"
   },
   {
    "duration": 18,
    "start_time": "2021-09-15T23:50:05.837Z"
   },
   {
    "duration": 9,
    "start_time": "2021-09-15T23:50:14.141Z"
   },
   {
    "duration": 17,
    "start_time": "2021-09-15T23:50:14.678Z"
   },
   {
    "duration": 5,
    "start_time": "2021-09-15T23:50:21.336Z"
   },
   {
    "duration": 18,
    "start_time": "2021-09-15T23:53:31.798Z"
   },
   {
    "duration": 18,
    "start_time": "2021-09-15T23:53:58.179Z"
   },
   {
    "duration": 17,
    "start_time": "2021-09-15T23:53:59.781Z"
   },
   {
    "duration": 6,
    "start_time": "2021-09-15T23:59:24.679Z"
   },
   {
    "duration": 5,
    "start_time": "2021-09-16T00:00:13.104Z"
   },
   {
    "duration": 5,
    "start_time": "2021-09-16T00:00:13.590Z"
   },
   {
    "duration": 3770,
    "start_time": "2021-09-16T00:00:36.610Z"
   },
   {
    "duration": 9,
    "start_time": "2021-09-16T00:01:28.440Z"
   },
   {
    "duration": 18,
    "start_time": "2021-09-16T00:01:29.256Z"
   },
   {
    "duration": 18,
    "start_time": "2021-09-16T00:01:30.319Z"
   },
   {
    "duration": 6,
    "start_time": "2021-09-16T00:01:31.233Z"
   },
   {
    "duration": 6,
    "start_time": "2021-09-16T00:02:03.692Z"
   },
   {
    "duration": 6,
    "start_time": "2021-09-16T00:02:11.287Z"
   },
   {
    "duration": 5,
    "start_time": "2021-09-16T00:02:19.859Z"
   },
   {
    "duration": 17,
    "start_time": "2021-09-16T00:02:20.536Z"
   },
   {
    "duration": 22,
    "start_time": "2021-09-16T00:02:20.957Z"
   },
   {
    "duration": 5,
    "start_time": "2021-09-16T00:02:28.710Z"
   },
   {
    "duration": 1107,
    "start_time": "2021-09-16T00:07:15.108Z"
   },
   {
    "duration": 29,
    "start_time": "2021-09-16T00:07:16.217Z"
   },
   {
    "duration": 27,
    "start_time": "2021-09-16T00:07:16.249Z"
   },
   {
    "duration": 9,
    "start_time": "2021-09-16T00:07:16.279Z"
   },
   {
    "duration": 5,
    "start_time": "2021-09-16T00:07:16.291Z"
   },
   {
    "duration": 11,
    "start_time": "2021-09-16T00:07:16.297Z"
   },
   {
    "duration": 67,
    "start_time": "2021-09-16T00:07:16.310Z"
   },
   {
    "duration": 3,
    "start_time": "2021-09-16T00:07:16.379Z"
   },
   {
    "duration": 8,
    "start_time": "2021-09-16T00:07:16.384Z"
   },
   {
    "duration": 6,
    "start_time": "2021-09-16T00:07:16.394Z"
   },
   {
    "duration": 6,
    "start_time": "2021-09-16T00:07:16.401Z"
   },
   {
    "duration": 18,
    "start_time": "2021-09-16T00:07:16.409Z"
   },
   {
    "duration": 770,
    "start_time": "2021-09-16T00:07:16.429Z"
   },
   {
    "duration": 11,
    "start_time": "2021-09-16T00:07:17.200Z"
   },
   {
    "duration": 6,
    "start_time": "2021-09-16T00:07:17.212Z"
   },
   {
    "duration": 12,
    "start_time": "2021-09-16T00:07:17.219Z"
   },
   {
    "duration": 4,
    "start_time": "2021-09-16T00:07:17.232Z"
   },
   {
    "duration": 10,
    "start_time": "2021-09-16T00:07:17.238Z"
   },
   {
    "duration": 200,
    "start_time": "2021-09-16T00:07:17.250Z"
   },
   {
    "duration": 165,
    "start_time": "2021-09-16T00:07:17.452Z"
   },
   {
    "duration": 213,
    "start_time": "2021-09-16T00:07:17.618Z"
   },
   {
    "duration": 180,
    "start_time": "2021-09-16T00:07:17.833Z"
   },
   {
    "duration": 288,
    "start_time": "2021-09-16T00:07:18.016Z"
   },
   {
    "duration": 343,
    "start_time": "2021-09-16T00:07:18.306Z"
   },
   {
    "duration": 208,
    "start_time": "2021-09-16T00:07:18.650Z"
   },
   {
    "duration": 217,
    "start_time": "2021-09-16T00:07:18.859Z"
   },
   {
    "duration": 320,
    "start_time": "2021-09-16T00:07:19.078Z"
   },
   {
    "duration": 220,
    "start_time": "2021-09-16T00:07:19.400Z"
   },
   {
    "duration": 361,
    "start_time": "2021-09-16T00:07:19.622Z"
   },
   {
    "duration": 11,
    "start_time": "2021-09-16T00:07:19.985Z"
   },
   {
    "duration": 9,
    "start_time": "2021-09-16T00:07:19.998Z"
   },
   {
    "duration": 359,
    "start_time": "2021-09-16T00:07:20.009Z"
   },
   {
    "duration": 13,
    "start_time": "2021-09-16T00:07:20.370Z"
   },
   {
    "duration": 11,
    "start_time": "2021-09-16T00:07:20.384Z"
   },
   {
    "duration": 202,
    "start_time": "2021-09-16T00:07:20.397Z"
   },
   {
    "duration": 11,
    "start_time": "2021-09-16T00:07:20.601Z"
   },
   {
    "duration": 6,
    "start_time": "2021-09-16T00:07:20.614Z"
   },
   {
    "duration": 207,
    "start_time": "2021-09-16T00:07:20.622Z"
   },
   {
    "duration": 9,
    "start_time": "2021-09-16T00:07:20.831Z"
   },
   {
    "duration": 19,
    "start_time": "2021-09-16T00:07:20.842Z"
   },
   {
    "duration": 18,
    "start_time": "2021-09-16T00:07:20.877Z"
   },
   {
    "duration": 6,
    "start_time": "2021-09-16T00:07:20.897Z"
   },
   {
    "duration": 1125,
    "start_time": "2021-09-16T00:19:00.200Z"
   },
   {
    "duration": 27,
    "start_time": "2021-09-16T00:19:01.327Z"
   },
   {
    "duration": 32,
    "start_time": "2021-09-16T00:19:01.356Z"
   },
   {
    "duration": 15,
    "start_time": "2021-09-16T00:19:01.390Z"
   },
   {
    "duration": 14,
    "start_time": "2021-09-16T00:19:01.407Z"
   },
   {
    "duration": 27,
    "start_time": "2021-09-16T00:19:01.423Z"
   },
   {
    "duration": 51,
    "start_time": "2021-09-16T00:19:01.452Z"
   },
   {
    "duration": 3,
    "start_time": "2021-09-16T00:19:01.505Z"
   },
   {
    "duration": 35,
    "start_time": "2021-09-16T00:19:01.510Z"
   },
   {
    "duration": 15,
    "start_time": "2021-09-16T00:19:01.546Z"
   },
   {
    "duration": 17,
    "start_time": "2021-09-16T00:19:01.563Z"
   },
   {
    "duration": 27,
    "start_time": "2021-09-16T00:19:01.582Z"
   },
   {
    "duration": 729,
    "start_time": "2021-09-16T00:19:01.611Z"
   },
   {
    "duration": 11,
    "start_time": "2021-09-16T00:19:02.341Z"
   },
   {
    "duration": 25,
    "start_time": "2021-09-16T00:19:02.353Z"
   },
   {
    "duration": 13,
    "start_time": "2021-09-16T00:19:02.380Z"
   },
   {
    "duration": 11,
    "start_time": "2021-09-16T00:19:02.394Z"
   },
   {
    "duration": 9,
    "start_time": "2021-09-16T00:19:02.408Z"
   },
   {
    "duration": 184,
    "start_time": "2021-09-16T00:19:02.419Z"
   },
   {
    "duration": 165,
    "start_time": "2021-09-16T00:19:02.605Z"
   },
   {
    "duration": 211,
    "start_time": "2021-09-16T00:19:02.776Z"
   },
   {
    "duration": 180,
    "start_time": "2021-09-16T00:19:02.988Z"
   },
   {
    "duration": 294,
    "start_time": "2021-09-16T00:19:03.170Z"
   },
   {
    "duration": 339,
    "start_time": "2021-09-16T00:19:03.466Z"
   },
   {
    "duration": 206,
    "start_time": "2021-09-16T00:19:03.807Z"
   },
   {
    "duration": 227,
    "start_time": "2021-09-16T00:19:04.014Z"
   },
   {
    "duration": 313,
    "start_time": "2021-09-16T00:19:04.243Z"
   },
   {
    "duration": 224,
    "start_time": "2021-09-16T00:19:04.558Z"
   },
   {
    "duration": 361,
    "start_time": "2021-09-16T00:19:04.785Z"
   },
   {
    "duration": 11,
    "start_time": "2021-09-16T00:19:05.148Z"
   },
   {
    "duration": 23,
    "start_time": "2021-09-16T00:19:05.160Z"
   },
   {
    "duration": 336,
    "start_time": "2021-09-16T00:19:05.184Z"
   },
   {
    "duration": 11,
    "start_time": "2021-09-16T00:19:05.522Z"
   },
   {
    "duration": 7,
    "start_time": "2021-09-16T00:19:05.535Z"
   },
   {
    "duration": 202,
    "start_time": "2021-09-16T00:19:05.544Z"
   },
   {
    "duration": 10,
    "start_time": "2021-09-16T00:19:05.748Z"
   },
   {
    "duration": 18,
    "start_time": "2021-09-16T00:19:05.759Z"
   },
   {
    "duration": 194,
    "start_time": "2021-09-16T00:19:05.779Z"
   },
   {
    "duration": 8,
    "start_time": "2021-09-16T00:19:05.977Z"
   },
   {
    "duration": 16,
    "start_time": "2021-09-16T00:19:05.986Z"
   },
   {
    "duration": 16,
    "start_time": "2021-09-16T00:19:06.003Z"
   },
   {
    "duration": 5,
    "start_time": "2021-09-16T00:19:06.021Z"
   },
   {
    "duration": 358,
    "start_time": "2021-09-16T00:28:55.226Z"
   },
   {
    "duration": 252,
    "start_time": "2021-09-16T00:28:56.407Z"
   },
   {
    "duration": 154,
    "start_time": "2021-09-16T00:29:33.274Z"
   },
   {
    "duration": 283,
    "start_time": "2021-09-16T00:29:34.612Z"
   },
   {
    "duration": 3,
    "start_time": "2021-09-16T00:29:44.536Z"
   },
   {
    "duration": 298,
    "start_time": "2021-09-16T00:29:46.041Z"
   },
   {
    "duration": 336,
    "start_time": "2021-09-16T00:31:20.129Z"
   },
   {
    "duration": 285,
    "start_time": "2021-09-16T00:31:22.530Z"
   },
   {
    "duration": 261,
    "start_time": "2021-09-16T00:31:28.738Z"
   },
   {
    "duration": 3,
    "start_time": "2021-09-16T00:31:35.553Z"
   },
   {
    "duration": 263,
    "start_time": "2021-09-16T00:31:39.386Z"
   },
   {
    "duration": 3,
    "start_time": "2021-09-16T00:32:08.945Z"
   },
   {
    "duration": 1444,
    "start_time": "2021-09-16T00:32:25.505Z"
   },
   {
    "duration": 4,
    "start_time": "2021-09-16T00:33:25.727Z"
   },
   {
    "duration": 6,
    "start_time": "2021-09-16T00:33:26.536Z"
   },
   {
    "duration": 3,
    "start_time": "2021-09-16T00:33:27.023Z"
   },
   {
    "duration": 283,
    "start_time": "2021-09-16T00:33:28.007Z"
   },
   {
    "duration": 252,
    "start_time": "2021-09-16T00:33:28.749Z"
   },
   {
    "duration": 287,
    "start_time": "2021-09-16T00:33:29.671Z"
   },
   {
    "duration": 266,
    "start_time": "2021-09-16T00:33:30.607Z"
   },
   {
    "duration": 4,
    "start_time": "2021-09-16T00:33:35.401Z"
   },
   {
    "duration": 5,
    "start_time": "2021-09-16T00:34:42.671Z"
   },
   {
    "duration": 8,
    "start_time": "2021-09-16T00:34:47.997Z"
   },
   {
    "duration": 3,
    "start_time": "2021-09-16T00:34:49.063Z"
   },
   {
    "duration": 1023,
    "start_time": "2021-09-16T00:34:53.271Z"
   },
   {
    "duration": 1153,
    "start_time": "2021-09-16T10:00:57.633Z"
   },
   {
    "duration": 33,
    "start_time": "2021-09-16T10:00:58.788Z"
   },
   {
    "duration": 22,
    "start_time": "2021-09-16T10:00:58.824Z"
   },
   {
    "duration": 8,
    "start_time": "2021-09-16T10:00:58.848Z"
   },
   {
    "duration": 4,
    "start_time": "2021-09-16T10:00:58.857Z"
   },
   {
    "duration": 11,
    "start_time": "2021-09-16T10:00:58.862Z"
   },
   {
    "duration": 34,
    "start_time": "2021-09-16T10:00:58.874Z"
   },
   {
    "duration": 3,
    "start_time": "2021-09-16T10:00:58.910Z"
   },
   {
    "duration": 35,
    "start_time": "2021-09-16T10:00:58.915Z"
   },
   {
    "duration": 6,
    "start_time": "2021-09-16T10:00:58.952Z"
   },
   {
    "duration": 5,
    "start_time": "2021-09-16T10:00:58.960Z"
   },
   {
    "duration": 19,
    "start_time": "2021-09-16T10:00:58.967Z"
   },
   {
    "duration": 709,
    "start_time": "2021-09-16T10:00:58.988Z"
   },
   {
    "duration": 10,
    "start_time": "2021-09-16T10:00:59.699Z"
   },
   {
    "duration": 5,
    "start_time": "2021-09-16T10:00:59.710Z"
   },
   {
    "duration": 26,
    "start_time": "2021-09-16T10:00:59.717Z"
   },
   {
    "duration": 9,
    "start_time": "2021-09-16T10:00:59.749Z"
   },
   {
    "duration": 17,
    "start_time": "2021-09-16T10:00:59.759Z"
   },
   {
    "duration": 181,
    "start_time": "2021-09-16T10:00:59.777Z"
   },
   {
    "duration": 160,
    "start_time": "2021-09-16T10:00:59.959Z"
   },
   {
    "duration": 217,
    "start_time": "2021-09-16T10:01:00.120Z"
   },
   {
    "duration": 187,
    "start_time": "2021-09-16T10:01:00.338Z"
   },
   {
    "duration": 334,
    "start_time": "2021-09-16T10:01:00.528Z"
   },
   {
    "duration": 344,
    "start_time": "2021-09-16T10:01:00.864Z"
   },
   {
    "duration": 211,
    "start_time": "2021-09-16T10:01:01.210Z"
   },
   {
    "duration": 226,
    "start_time": "2021-09-16T10:01:01.423Z"
   },
   {
    "duration": 311,
    "start_time": "2021-09-16T10:01:01.651Z"
   },
   {
    "duration": 222,
    "start_time": "2021-09-16T10:01:01.963Z"
   },
   {
    "duration": 349,
    "start_time": "2021-09-16T10:01:02.187Z"
   },
   {
    "duration": 19,
    "start_time": "2021-09-16T10:01:02.537Z"
   },
   {
    "duration": 34,
    "start_time": "2021-09-16T10:01:02.558Z"
   },
   {
    "duration": 328,
    "start_time": "2021-09-16T10:01:02.594Z"
   },
   {
    "duration": 10,
    "start_time": "2021-09-16T10:01:02.924Z"
   },
   {
    "duration": 19,
    "start_time": "2021-09-16T10:01:02.936Z"
   },
   {
    "duration": 187,
    "start_time": "2021-09-16T10:01:02.957Z"
   },
   {
    "duration": 13,
    "start_time": "2021-09-16T10:01:03.149Z"
   },
   {
    "duration": 13,
    "start_time": "2021-09-16T10:01:03.163Z"
   },
   {
    "duration": 197,
    "start_time": "2021-09-16T10:01:03.177Z"
   },
   {
    "duration": 9,
    "start_time": "2021-09-16T10:01:03.376Z"
   },
   {
    "duration": 19,
    "start_time": "2021-09-16T10:01:03.386Z"
   },
   {
    "duration": 16,
    "start_time": "2021-09-16T10:01:03.406Z"
   },
   {
    "duration": 29,
    "start_time": "2021-09-16T10:01:03.424Z"
   },
   {
    "duration": 102,
    "start_time": "2021-09-16T10:05:14.338Z"
   },
   {
    "duration": 13,
    "start_time": "2021-09-16T10:11:07.568Z"
   },
   {
    "duration": 7,
    "start_time": "2021-09-16T10:11:43.560Z"
   },
   {
    "duration": 13,
    "start_time": "2021-09-16T10:11:46.772Z"
   },
   {
    "duration": 8,
    "start_time": "2021-09-16T10:11:47.450Z"
   },
   {
    "duration": 451,
    "start_time": "2021-09-16T10:12:06.675Z"
   },
   {
    "duration": 10,
    "start_time": "2021-09-16T10:12:10.526Z"
   },
   {
    "duration": 7,
    "start_time": "2021-09-16T10:12:11.011Z"
   },
   {
    "duration": 7,
    "start_time": "2021-09-16T10:12:21.346Z"
   },
   {
    "duration": 9,
    "start_time": "2021-09-16T10:12:28.357Z"
   },
   {
    "duration": 9,
    "start_time": "2021-09-16T10:12:52.894Z"
   },
   {
    "duration": 325,
    "start_time": "2021-09-16T10:13:43.501Z"
   },
   {
    "duration": 269,
    "start_time": "2021-09-16T10:14:07.498Z"
   },
   {
    "duration": 177,
    "start_time": "2021-09-16T10:14:31.899Z"
   },
   {
    "duration": 180,
    "start_time": "2021-09-16T10:15:33.051Z"
   },
   {
    "duration": 322,
    "start_time": "2021-09-16T10:22:36.729Z"
   },
   {
    "duration": 9,
    "start_time": "2021-09-16T10:24:33.280Z"
   },
   {
    "duration": 10,
    "start_time": "2021-09-16T10:24:34.182Z"
   },
   {
    "duration": 6,
    "start_time": "2021-09-16T11:17:20.073Z"
   },
   {
    "duration": 7,
    "start_time": "2021-09-16T11:19:18.421Z"
   },
   {
    "duration": 16,
    "start_time": "2021-09-16T11:19:19.853Z"
   },
   {
    "duration": 29,
    "start_time": "2021-09-16T11:19:20.481Z"
   },
   {
    "duration": 5,
    "start_time": "2021-09-16T11:19:28.423Z"
   },
   {
    "duration": 118,
    "start_time": "2021-09-16T11:19:31.316Z"
   },
   {
    "duration": 6,
    "start_time": "2021-09-16T11:19:32.117Z"
   },
   {
    "duration": 6,
    "start_time": "2021-09-16T11:19:51.579Z"
   },
   {
    "duration": 10,
    "start_time": "2021-09-16T11:19:59.837Z"
   },
   {
    "duration": 1126,
    "start_time": "2021-09-16T11:20:10.793Z"
   },
   {
    "duration": 28,
    "start_time": "2021-09-16T11:20:11.921Z"
   },
   {
    "duration": 28,
    "start_time": "2021-09-16T11:20:11.951Z"
   },
   {
    "duration": 40,
    "start_time": "2021-09-16T11:20:11.981Z"
   },
   {
    "duration": 15,
    "start_time": "2021-09-16T11:20:12.023Z"
   },
   {
    "duration": 35,
    "start_time": "2021-09-16T11:20:12.040Z"
   },
   {
    "duration": 48,
    "start_time": "2021-09-16T11:20:12.077Z"
   },
   {
    "duration": 3,
    "start_time": "2021-09-16T11:20:12.129Z"
   },
   {
    "duration": 35,
    "start_time": "2021-09-16T11:20:12.135Z"
   },
   {
    "duration": 35,
    "start_time": "2021-09-16T11:20:12.173Z"
   },
   {
    "duration": 33,
    "start_time": "2021-09-16T11:20:12.210Z"
   },
   {
    "duration": 36,
    "start_time": "2021-09-16T11:20:12.245Z"
   },
   {
    "duration": 988,
    "start_time": "2021-09-16T11:20:12.284Z"
   },
   {
    "duration": 12,
    "start_time": "2021-09-16T11:20:13.274Z"
   },
   {
    "duration": 8,
    "start_time": "2021-09-16T11:20:13.287Z"
   },
   {
    "duration": 23,
    "start_time": "2021-09-16T11:20:13.297Z"
   },
   {
    "duration": 27,
    "start_time": "2021-09-16T11:20:13.322Z"
   },
   {
    "duration": 29,
    "start_time": "2021-09-16T11:20:13.350Z"
   },
   {
    "duration": 184,
    "start_time": "2021-09-16T11:20:13.381Z"
   },
   {
    "duration": 162,
    "start_time": "2021-09-16T11:20:13.566Z"
   },
   {
    "duration": 213,
    "start_time": "2021-09-16T11:20:13.730Z"
   },
   {
    "duration": 174,
    "start_time": "2021-09-16T11:20:13.949Z"
   },
   {
    "duration": 312,
    "start_time": "2021-09-16T11:20:14.127Z"
   },
   {
    "duration": 344,
    "start_time": "2021-09-16T11:20:14.441Z"
   },
   {
    "duration": 9,
    "start_time": "2021-09-16T11:20:14.787Z"
   },
   {
    "duration": 15,
    "start_time": "2021-09-16T11:20:14.798Z"
   },
   {
    "duration": 183,
    "start_time": "2021-09-16T11:20:14.814Z"
   },
   {
    "duration": 214,
    "start_time": "2021-09-16T11:20:14.999Z"
   },
   {
    "duration": 216,
    "start_time": "2021-09-16T11:20:15.215Z"
   },
   {
    "duration": 316,
    "start_time": "2021-09-16T11:20:15.433Z"
   },
   {
    "duration": 214,
    "start_time": "2021-09-16T11:20:15.751Z"
   },
   {
    "duration": 371,
    "start_time": "2021-09-16T11:20:15.968Z"
   },
   {
    "duration": 12,
    "start_time": "2021-09-16T11:20:16.349Z"
   },
   {
    "duration": 8,
    "start_time": "2021-09-16T11:20:16.363Z"
   },
   {
    "duration": 336,
    "start_time": "2021-09-16T11:20:16.373Z"
   },
   {
    "duration": 10,
    "start_time": "2021-09-16T11:20:16.711Z"
   },
   {
    "duration": 11,
    "start_time": "2021-09-16T11:20:16.723Z"
   },
   {
    "duration": 184,
    "start_time": "2021-09-16T11:20:16.749Z"
   },
   {
    "duration": 14,
    "start_time": "2021-09-16T11:20:16.935Z"
   },
   {
    "duration": 12,
    "start_time": "2021-09-16T11:20:16.951Z"
   },
   {
    "duration": 196,
    "start_time": "2021-09-16T11:20:16.965Z"
   },
   {
    "duration": 7,
    "start_time": "2021-09-16T11:20:17.162Z"
   },
   {
    "duration": 13,
    "start_time": "2021-09-16T11:20:17.171Z"
   },
   {
    "duration": 9,
    "start_time": "2021-09-16T11:20:17.185Z"
   },
   {
    "duration": 131,
    "start_time": "2021-09-16T11:20:17.196Z"
   },
   {
    "duration": 26,
    "start_time": "2021-09-16T11:20:17.329Z"
   },
   {
    "duration": 10,
    "start_time": "2021-09-16T11:20:17.357Z"
   },
   {
    "duration": 9,
    "start_time": "2021-09-16T11:20:17.370Z"
   },
   {
    "duration": 136,
    "start_time": "2021-09-17T06:53:15.062Z"
   },
   {
    "duration": 102,
    "start_time": "2021-09-17T06:55:09.662Z"
   },
   {
    "duration": 98,
    "start_time": "2021-09-17T06:57:49.500Z"
   },
   {
    "duration": 83,
    "start_time": "2021-09-17T07:08:26.055Z"
   },
   {
    "duration": 1078,
    "start_time": "2021-09-17T16:14:30.289Z"
   },
   {
    "duration": 33,
    "start_time": "2021-09-17T16:14:31.369Z"
   },
   {
    "duration": 22,
    "start_time": "2021-09-17T16:14:31.407Z"
   },
   {
    "duration": 13,
    "start_time": "2021-09-17T16:14:31.431Z"
   },
   {
    "duration": 5,
    "start_time": "2021-09-17T16:14:31.446Z"
   },
   {
    "duration": 10,
    "start_time": "2021-09-17T16:14:31.453Z"
   },
   {
    "duration": 34,
    "start_time": "2021-09-17T16:14:31.467Z"
   },
   {
    "duration": 3,
    "start_time": "2021-09-17T16:14:31.504Z"
   },
   {
    "duration": 5,
    "start_time": "2021-09-17T16:14:31.544Z"
   },
   {
    "duration": 6,
    "start_time": "2021-09-17T16:14:31.551Z"
   },
   {
    "duration": 6,
    "start_time": "2021-09-17T16:14:31.559Z"
   },
   {
    "duration": 17,
    "start_time": "2021-09-17T16:14:31.566Z"
   },
   {
    "duration": 697,
    "start_time": "2021-09-17T16:14:31.585Z"
   },
   {
    "duration": 11,
    "start_time": "2021-09-17T16:14:32.284Z"
   },
   {
    "duration": 6,
    "start_time": "2021-09-17T16:14:32.297Z"
   },
   {
    "duration": 9,
    "start_time": "2021-09-17T16:14:32.305Z"
   },
   {
    "duration": 29,
    "start_time": "2021-09-17T16:14:32.316Z"
   },
   {
    "duration": 8,
    "start_time": "2021-09-17T16:14:32.348Z"
   },
   {
    "duration": 172,
    "start_time": "2021-09-17T16:14:32.358Z"
   },
   {
    "duration": 157,
    "start_time": "2021-09-17T16:14:32.532Z"
   },
   {
    "duration": 201,
    "start_time": "2021-09-17T16:14:32.691Z"
   },
   {
    "duration": 171,
    "start_time": "2021-09-17T16:14:32.896Z"
   },
   {
    "duration": 276,
    "start_time": "2021-09-17T16:14:33.070Z"
   },
   {
    "duration": 321,
    "start_time": "2021-09-17T16:14:33.348Z"
   },
   {
    "duration": 11,
    "start_time": "2021-09-17T16:14:33.671Z"
   },
   {
    "duration": 9,
    "start_time": "2021-09-17T16:14:33.684Z"
   },
   {
    "duration": 180,
    "start_time": "2021-09-17T16:14:33.694Z"
   },
   {
    "duration": 198,
    "start_time": "2021-09-17T16:14:33.876Z"
   },
   {
    "duration": 206,
    "start_time": "2021-09-17T16:14:34.076Z"
   },
   {
    "duration": 401,
    "start_time": "2021-09-17T16:14:34.284Z"
   },
   {
    "duration": 203,
    "start_time": "2021-09-17T16:14:34.687Z"
   },
   {
    "duration": 340,
    "start_time": "2021-09-17T16:14:34.892Z"
   },
   {
    "duration": 19,
    "start_time": "2021-09-17T16:14:35.234Z"
   },
   {
    "duration": 7,
    "start_time": "2021-09-17T16:14:35.254Z"
   },
   {
    "duration": 323,
    "start_time": "2021-09-17T16:14:35.263Z"
   },
   {
    "duration": 9,
    "start_time": "2021-09-17T16:14:35.589Z"
   },
   {
    "duration": 6,
    "start_time": "2021-09-17T16:14:35.600Z"
   },
   {
    "duration": 203,
    "start_time": "2021-09-17T16:14:35.608Z"
   },
   {
    "duration": 11,
    "start_time": "2021-09-17T16:14:35.813Z"
   },
   {
    "duration": 20,
    "start_time": "2021-09-17T16:14:35.825Z"
   },
   {
    "duration": 187,
    "start_time": "2021-09-17T16:14:35.847Z"
   },
   {
    "duration": 12,
    "start_time": "2021-09-17T16:14:36.036Z"
   },
   {
    "duration": 11,
    "start_time": "2021-09-17T16:14:36.050Z"
   },
   {
    "duration": 9,
    "start_time": "2021-09-17T16:14:36.063Z"
   },
   {
    "duration": 106,
    "start_time": "2021-09-17T16:14:36.073Z"
   },
   {
    "duration": 14,
    "start_time": "2021-09-17T16:14:36.180Z"
   },
   {
    "duration": 5,
    "start_time": "2021-09-17T16:14:36.196Z"
   },
   {
    "duration": 9,
    "start_time": "2021-09-17T16:14:36.203Z"
   },
   {
    "duration": 332,
    "start_time": "2021-09-17T16:14:51.052Z"
   },
   {
    "duration": 524,
    "start_time": "2021-09-17T16:15:02.451Z"
   },
   {
    "duration": 209,
    "start_time": "2021-09-17T16:19:56.740Z"
   },
   {
    "duration": 287,
    "start_time": "2021-09-17T16:22:07.506Z"
   },
   {
    "duration": 363,
    "start_time": "2021-09-17T16:22:46.589Z"
   },
   {
    "duration": 249,
    "start_time": "2021-09-17T16:22:53.520Z"
   },
   {
    "duration": 316,
    "start_time": "2021-09-17T16:23:04.510Z"
   },
   {
    "duration": 207,
    "start_time": "2021-09-17T16:23:14.106Z"
   },
   {
    "duration": 149,
    "start_time": "2021-09-17T16:23:47.405Z"
   },
   {
    "duration": 81,
    "start_time": "2021-09-17T16:27:29.705Z"
   },
   {
    "duration": 661,
    "start_time": "2021-09-17T16:27:51.089Z"
   },
   {
    "duration": 243,
    "start_time": "2021-09-17T16:28:53.511Z"
   },
   {
    "duration": 723,
    "start_time": "2021-09-17T16:29:14.021Z"
   },
   {
    "duration": 90,
    "start_time": "2021-09-17T16:35:35.075Z"
   },
   {
    "duration": 5,
    "start_time": "2021-09-17T16:35:54.475Z"
   },
   {
    "duration": 4,
    "start_time": "2021-09-17T16:37:11.445Z"
   },
   {
    "duration": 6,
    "start_time": "2021-09-17T16:37:39.381Z"
   },
   {
    "duration": 5,
    "start_time": "2021-09-17T16:37:51.459Z"
   },
   {
    "duration": 5,
    "start_time": "2021-09-17T16:38:00.141Z"
   },
   {
    "duration": 5,
    "start_time": "2021-09-17T16:38:05.955Z"
   },
   {
    "duration": 5,
    "start_time": "2021-09-17T16:38:12.333Z"
   },
   {
    "duration": 6,
    "start_time": "2021-09-17T16:38:26.607Z"
   },
   {
    "duration": 6,
    "start_time": "2021-09-17T16:38:30.983Z"
   },
   {
    "duration": 5,
    "start_time": "2021-09-17T16:38:40.571Z"
   },
   {
    "duration": 1074,
    "start_time": "2021-09-17T17:06:11.088Z"
   },
   {
    "duration": 27,
    "start_time": "2021-09-17T17:06:12.164Z"
   },
   {
    "duration": 19,
    "start_time": "2021-09-17T17:06:12.193Z"
   },
   {
    "duration": 8,
    "start_time": "2021-09-17T17:06:12.214Z"
   },
   {
    "duration": 23,
    "start_time": "2021-09-17T17:06:12.224Z"
   },
   {
    "duration": 11,
    "start_time": "2021-09-17T17:06:12.249Z"
   },
   {
    "duration": 35,
    "start_time": "2021-09-17T17:06:12.262Z"
   },
   {
    "duration": 3,
    "start_time": "2021-09-17T17:06:12.301Z"
   },
   {
    "duration": 9,
    "start_time": "2021-09-17T17:06:12.306Z"
   },
   {
    "duration": 30,
    "start_time": "2021-09-17T17:06:12.317Z"
   },
   {
    "duration": 9,
    "start_time": "2021-09-17T17:06:12.349Z"
   },
   {
    "duration": 18,
    "start_time": "2021-09-17T17:06:12.360Z"
   },
   {
    "duration": 691,
    "start_time": "2021-09-17T17:06:12.380Z"
   },
   {
    "duration": 762,
    "start_time": "2021-09-17T17:06:13.073Z"
   },
   {
    "duration": 16,
    "start_time": "2021-09-17T17:06:13.837Z"
   },
   {
    "duration": 7,
    "start_time": "2021-09-17T17:06:13.854Z"
   },
   {
    "duration": 10,
    "start_time": "2021-09-17T17:06:13.863Z"
   },
   {
    "duration": 12,
    "start_time": "2021-09-17T17:06:13.874Z"
   },
   {
    "duration": 14,
    "start_time": "2021-09-17T17:06:13.887Z"
   },
   {
    "duration": 169,
    "start_time": "2021-09-17T17:06:13.903Z"
   },
   {
    "duration": 163,
    "start_time": "2021-09-17T17:06:14.074Z"
   },
   {
    "duration": 273,
    "start_time": "2021-09-17T17:06:14.239Z"
   },
   {
    "duration": 175,
    "start_time": "2021-09-17T17:06:14.515Z"
   },
   {
    "duration": 221,
    "start_time": "2021-09-17T17:06:14.692Z"
   },
   {
    "duration": 332,
    "start_time": "2021-09-17T17:06:14.915Z"
   },
   {
    "duration": 12,
    "start_time": "2021-09-17T17:06:15.248Z"
   },
   {
    "duration": 8,
    "start_time": "2021-09-17T17:06:15.262Z"
   },
   {
    "duration": 273,
    "start_time": "2021-09-17T17:06:15.271Z"
   },
   {
    "duration": 208,
    "start_time": "2021-09-17T17:06:15.546Z"
   },
   {
    "duration": 219,
    "start_time": "2021-09-17T17:06:15.756Z"
   },
   {
    "duration": 324,
    "start_time": "2021-09-17T17:06:15.977Z"
   },
   {
    "duration": 216,
    "start_time": "2021-09-17T17:06:16.304Z"
   },
   {
    "duration": 347,
    "start_time": "2021-09-17T17:06:16.522Z"
   },
   {
    "duration": 9,
    "start_time": "2021-09-17T17:06:16.872Z"
   },
   {
    "duration": 5,
    "start_time": "2021-09-17T17:06:16.883Z"
   },
   {
    "duration": 375,
    "start_time": "2021-09-17T17:06:16.890Z"
   },
   {
    "duration": 10,
    "start_time": "2021-09-17T17:06:17.268Z"
   },
   {
    "duration": 16,
    "start_time": "2021-09-17T17:06:17.279Z"
   },
   {
    "duration": 310,
    "start_time": "2021-09-17T17:06:17.297Z"
   },
   {
    "duration": 12,
    "start_time": "2021-09-17T17:06:17.609Z"
   },
   {
    "duration": 7,
    "start_time": "2021-09-17T17:06:17.623Z"
   },
   {
    "duration": 214,
    "start_time": "2021-09-17T17:06:17.644Z"
   },
   {
    "duration": 7,
    "start_time": "2021-09-17T17:06:17.860Z"
   },
   {
    "duration": 14,
    "start_time": "2021-09-17T17:06:17.869Z"
   },
   {
    "duration": 16,
    "start_time": "2021-09-17T17:06:17.885Z"
   },
   {
    "duration": 6,
    "start_time": "2021-09-17T17:06:17.902Z"
   },
   {
    "duration": 93,
    "start_time": "2021-09-17T17:06:17.910Z"
   },
   {
    "duration": 12054,
    "start_time": "2021-09-17T17:06:05.952Z"
   },
   {
    "duration": 348,
    "start_time": "2021-09-17T17:06:28.345Z"
   },
   {
    "duration": 7,
    "start_time": "2021-09-17T17:08:29.188Z"
   },
   {
    "duration": 78,
    "start_time": "2021-09-17T17:09:29.666Z"
   },
   {
    "duration": 380,
    "start_time": "2021-09-17T17:10:02.359Z"
   },
   {
    "duration": 159,
    "start_time": "2021-09-17T17:10:17.701Z"
   },
   {
    "duration": 158,
    "start_time": "2021-09-17T17:10:24.849Z"
   },
   {
    "duration": 6,
    "start_time": "2021-09-17T17:14:40.457Z"
   },
   {
    "duration": 6,
    "start_time": "2021-09-17T17:21:33.515Z"
   },
   {
    "duration": 163,
    "start_time": "2021-09-17T17:23:22.984Z"
   },
   {
    "duration": 149,
    "start_time": "2021-09-17T17:23:33.586Z"
   },
   {
    "duration": 6,
    "start_time": "2021-09-17T17:24:59.342Z"
   },
   {
    "duration": 7,
    "start_time": "2021-09-17T17:28:10.805Z"
   },
   {
    "duration": 7,
    "start_time": "2021-09-17T17:29:01.638Z"
   },
   {
    "duration": 7,
    "start_time": "2021-09-17T17:29:06.985Z"
   },
   {
    "duration": 6,
    "start_time": "2021-09-17T17:29:47.692Z"
   },
   {
    "duration": 7,
    "start_time": "2021-09-17T17:31:21.119Z"
   },
   {
    "duration": 7,
    "start_time": "2021-09-17T17:31:52.139Z"
   },
   {
    "duration": 6,
    "start_time": "2021-09-17T17:32:27.583Z"
   },
   {
    "duration": 6,
    "start_time": "2021-09-17T17:32:59.618Z"
   },
   {
    "duration": 173,
    "start_time": "2021-09-17T17:35:36.154Z"
   },
   {
    "duration": 192,
    "start_time": "2021-09-17T17:37:21.277Z"
   },
   {
    "duration": 210,
    "start_time": "2021-09-17T17:37:27.257Z"
   },
   {
    "duration": 199,
    "start_time": "2021-09-17T17:37:48.190Z"
   },
   {
    "duration": 195,
    "start_time": "2021-09-17T17:38:16.998Z"
   },
   {
    "duration": 264,
    "start_time": "2021-09-17T17:43:33.317Z"
   },
   {
    "duration": 191,
    "start_time": "2021-09-17T17:43:40.660Z"
   },
   {
    "duration": 228,
    "start_time": "2021-09-17T17:44:28.842Z"
   },
   {
    "duration": 220,
    "start_time": "2021-09-17T17:44:55.282Z"
   },
   {
    "duration": 6,
    "start_time": "2021-09-17T17:45:17.278Z"
   },
   {
    "duration": 252,
    "start_time": "2021-09-17T18:04:50.400Z"
   },
   {
    "duration": 257,
    "start_time": "2021-09-17T18:05:07.838Z"
   },
   {
    "duration": 258,
    "start_time": "2021-09-17T18:06:05.857Z"
   },
   {
    "duration": 6,
    "start_time": "2021-09-17T18:06:40.917Z"
   },
   {
    "duration": 1122,
    "start_time": "2021-09-17T18:10:57.634Z"
   },
   {
    "duration": 28,
    "start_time": "2021-09-17T18:10:58.757Z"
   },
   {
    "duration": 20,
    "start_time": "2021-09-17T18:10:58.787Z"
   },
   {
    "duration": 15,
    "start_time": "2021-09-17T18:10:58.809Z"
   },
   {
    "duration": 8,
    "start_time": "2021-09-17T18:10:58.826Z"
   },
   {
    "duration": 26,
    "start_time": "2021-09-17T18:10:58.835Z"
   },
   {
    "duration": 37,
    "start_time": "2021-09-17T18:10:58.863Z"
   },
   {
    "duration": 3,
    "start_time": "2021-09-17T18:10:58.903Z"
   },
   {
    "duration": 12,
    "start_time": "2021-09-17T18:10:58.909Z"
   },
   {
    "duration": 6,
    "start_time": "2021-09-17T18:10:58.923Z"
   },
   {
    "duration": 15,
    "start_time": "2021-09-17T18:10:58.931Z"
   },
   {
    "duration": 16,
    "start_time": "2021-09-17T18:10:58.947Z"
   },
   {
    "duration": 706,
    "start_time": "2021-09-17T18:10:58.965Z"
   },
   {
    "duration": 880,
    "start_time": "2021-09-17T18:10:59.673Z"
   },
   {
    "duration": 12,
    "start_time": "2021-09-17T18:11:00.555Z"
   },
   {
    "duration": 7,
    "start_time": "2021-09-17T18:11:00.569Z"
   },
   {
    "duration": 17,
    "start_time": "2021-09-17T18:11:00.578Z"
   },
   {
    "duration": 11,
    "start_time": "2021-09-17T18:11:00.596Z"
   },
   {
    "duration": 25,
    "start_time": "2021-09-17T18:11:00.608Z"
   },
   {
    "duration": 172,
    "start_time": "2021-09-17T18:11:00.635Z"
   },
   {
    "duration": 151,
    "start_time": "2021-09-17T18:11:00.809Z"
   },
   {
    "duration": 265,
    "start_time": "2021-09-17T18:11:00.961Z"
   },
   {
    "duration": 181,
    "start_time": "2021-09-17T18:11:01.230Z"
   },
   {
    "duration": 220,
    "start_time": "2021-09-17T18:11:01.413Z"
   },
   {
    "duration": 324,
    "start_time": "2021-09-17T18:11:01.634Z"
   },
   {
    "duration": 10,
    "start_time": "2021-09-17T18:11:01.960Z"
   },
   {
    "duration": 7,
    "start_time": "2021-09-17T18:11:01.971Z"
   },
   {
    "duration": 179,
    "start_time": "2021-09-17T18:11:01.979Z"
   },
   {
    "duration": 199,
    "start_time": "2021-09-17T18:11:02.160Z"
   },
   {
    "duration": 210,
    "start_time": "2021-09-17T18:11:02.361Z"
   },
   {
    "duration": 301,
    "start_time": "2021-09-17T18:11:02.572Z"
   },
   {
    "duration": 204,
    "start_time": "2021-09-17T18:11:02.874Z"
   },
   {
    "duration": 329,
    "start_time": "2021-09-17T18:11:03.079Z"
   },
   {
    "duration": 9,
    "start_time": "2021-09-17T18:11:03.410Z"
   },
   {
    "duration": 10,
    "start_time": "2021-09-17T18:11:03.421Z"
   },
   {
    "duration": 328,
    "start_time": "2021-09-17T18:11:03.433Z"
   },
   {
    "duration": 10,
    "start_time": "2021-09-17T18:11:03.763Z"
   },
   {
    "duration": 7,
    "start_time": "2021-09-17T18:11:03.775Z"
   },
   {
    "duration": 372,
    "start_time": "2021-09-17T18:11:03.784Z"
   },
   {
    "duration": 10,
    "start_time": "2021-09-17T18:11:04.158Z"
   },
   {
    "duration": 6,
    "start_time": "2021-09-17T18:11:04.170Z"
   },
   {
    "duration": 194,
    "start_time": "2021-09-17T18:11:04.178Z"
   },
   {
    "duration": 7,
    "start_time": "2021-09-17T18:11:04.374Z"
   },
   {
    "duration": 18,
    "start_time": "2021-09-17T18:11:04.383Z"
   },
   {
    "duration": 10,
    "start_time": "2021-09-17T18:11:04.403Z"
   },
   {
    "duration": 237,
    "start_time": "2021-09-17T18:11:04.415Z"
   },
   {
    "duration": 229,
    "start_time": "2021-09-17T18:11:04.653Z"
   },
   {
    "duration": 6,
    "start_time": "2021-09-17T18:11:04.883Z"
   },
   {
    "duration": 265,
    "start_time": "2021-09-17T18:11:04.891Z"
   },
   {
    "duration": 258,
    "start_time": "2021-09-17T18:11:05.158Z"
   },
   {
    "duration": 6,
    "start_time": "2021-09-17T18:11:05.418Z"
   },
   {
    "duration": 1512,
    "start_time": "2021-09-18T11:25:20.471Z"
   },
   {
    "duration": 33,
    "start_time": "2021-09-18T11:25:21.985Z"
   },
   {
    "duration": 33,
    "start_time": "2021-09-18T11:25:22.021Z"
   },
   {
    "duration": 12,
    "start_time": "2021-09-18T11:25:22.057Z"
   },
   {
    "duration": 6,
    "start_time": "2021-09-18T11:25:22.071Z"
   },
   {
    "duration": 48,
    "start_time": "2021-09-18T11:25:22.080Z"
   },
   {
    "duration": 57,
    "start_time": "2021-09-18T11:25:22.130Z"
   },
   {
    "duration": 4,
    "start_time": "2021-09-18T11:25:22.189Z"
   },
   {
    "duration": 10,
    "start_time": "2021-09-18T11:25:22.218Z"
   },
   {
    "duration": 10,
    "start_time": "2021-09-18T11:25:22.231Z"
   },
   {
    "duration": 8,
    "start_time": "2021-09-18T11:25:22.244Z"
   },
   {
    "duration": 29,
    "start_time": "2021-09-18T11:25:22.254Z"
   },
   {
    "duration": 1116,
    "start_time": "2021-09-18T11:25:22.285Z"
   },
   {
    "duration": 1185,
    "start_time": "2021-09-18T11:25:23.403Z"
   },
   {
    "duration": 26,
    "start_time": "2021-09-18T11:25:24.590Z"
   },
   {
    "duration": 9,
    "start_time": "2021-09-18T11:25:24.619Z"
   },
   {
    "duration": 24,
    "start_time": "2021-09-18T11:25:24.630Z"
   },
   {
    "duration": 7,
    "start_time": "2021-09-18T11:25:24.657Z"
   },
   {
    "duration": 17,
    "start_time": "2021-09-18T11:25:24.666Z"
   },
   {
    "duration": 292,
    "start_time": "2021-09-18T11:25:24.685Z"
   },
   {
    "duration": 288,
    "start_time": "2021-09-18T11:25:24.980Z"
   },
   {
    "duration": 420,
    "start_time": "2021-09-18T11:25:25.270Z"
   },
   {
    "duration": 294,
    "start_time": "2021-09-18T11:25:25.692Z"
   },
   {
    "duration": 371,
    "start_time": "2021-09-18T11:25:25.988Z"
   },
   {
    "duration": 566,
    "start_time": "2021-09-18T11:25:26.361Z"
   },
   {
    "duration": 14,
    "start_time": "2021-09-18T11:25:26.929Z"
   },
   {
    "duration": 12,
    "start_time": "2021-09-18T11:25:26.949Z"
   },
   {
    "duration": 317,
    "start_time": "2021-09-18T11:25:26.964Z"
   },
   {
    "duration": 342,
    "start_time": "2021-09-18T11:25:27.283Z"
   },
   {
    "duration": 355,
    "start_time": "2021-09-18T11:25:27.627Z"
   },
   {
    "duration": 539,
    "start_time": "2021-09-18T11:25:27.985Z"
   },
   {
    "duration": 356,
    "start_time": "2021-09-18T11:25:28.526Z"
   },
   {
    "duration": 606,
    "start_time": "2021-09-18T11:25:28.884Z"
   },
   {
    "duration": 27,
    "start_time": "2021-09-18T11:25:29.493Z"
   },
   {
    "duration": 13,
    "start_time": "2021-09-18T11:25:29.522Z"
   },
   {
    "duration": 572,
    "start_time": "2021-09-18T11:25:29.538Z"
   },
   {
    "duration": 14,
    "start_time": "2021-09-18T11:25:30.116Z"
   },
   {
    "duration": 17,
    "start_time": "2021-09-18T11:25:30.133Z"
   },
   {
    "duration": 422,
    "start_time": "2021-09-18T11:25:30.152Z"
   },
   {
    "duration": 17,
    "start_time": "2021-09-18T11:25:30.576Z"
   },
   {
    "duration": 27,
    "start_time": "2021-09-18T11:25:30.596Z"
   },
   {
    "duration": 331,
    "start_time": "2021-09-18T11:25:30.626Z"
   },
   {
    "duration": 10,
    "start_time": "2021-09-18T11:25:30.961Z"
   },
   {
    "duration": 43,
    "start_time": "2021-09-18T11:25:30.973Z"
   },
   {
    "duration": 13,
    "start_time": "2021-09-18T11:25:31.019Z"
   },
   {
    "duration": 403,
    "start_time": "2021-09-18T11:25:31.034Z"
   },
   {
    "duration": 403,
    "start_time": "2021-09-18T11:25:31.440Z"
   },
   {
    "duration": 9,
    "start_time": "2021-09-18T11:25:31.846Z"
   },
   {
    "duration": 482,
    "start_time": "2021-09-18T11:25:31.858Z"
   },
   {
    "duration": 564,
    "start_time": "2021-09-18T11:25:32.343Z"
   },
   {
    "duration": 10,
    "start_time": "2021-09-18T11:25:32.917Z"
   },
   {
    "duration": 109,
    "start_time": "2021-09-19T13:43:12.225Z"
   }
  ],
  "kernelspec": {
   "display_name": "Python 3",
   "language": "python",
   "name": "python3"
  },
  "language_info": {
   "codemirror_mode": {
    "name": "ipython",
    "version": 3
   },
   "file_extension": ".py",
   "mimetype": "text/x-python",
   "name": "python",
   "nbconvert_exporter": "python",
   "pygments_lexer": "ipython3",
   "version": "3.7.8"
  },
  "toc": {
   "base_numbering": 1,
   "nav_menu": {},
   "number_sections": true,
   "sideBar": true,
   "skip_h1_title": true,
   "title_cell": "Table of Contents",
   "title_sidebar": "Contents",
   "toc_cell": false,
   "toc_position": {},
   "toc_section_display": true,
   "toc_window_display": false
  }
 },
 "nbformat": 4,
 "nbformat_minor": 2
}
