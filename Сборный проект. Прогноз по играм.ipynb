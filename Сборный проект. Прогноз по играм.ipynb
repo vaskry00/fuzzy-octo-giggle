{
 "cells": [
  {
   "cell_type": "markdown",
   "metadata": {},
   "source": [
    "# Сборный проект"
   ]
  },
  {
   "cell_type": "markdown",
   "metadata": {},
   "source": [
    "\n",
    "<b><font size=5>Содержание</font></b><a name=\"to_content.\"></a>\n",
    "* [0. Описание проекта](#0.)\n",
    "    - [0.1. Описание столбцов](#0.1)\n",
    "    \n",
    "    \n",
    "* [1. Загрузка данных](#1.)\n",
    "     - [1.1. Вывод по данным](#1.1)\n",
    "     \n",
    "\n",
    "* [2. Предобработка данных](#2.)\n",
    "     - [2.1. Столбцы](#2.1)\n",
    "     - [2.2. Пропуски](#2.2)\n",
    "     - [2.3. Изменение типа данных](#2.3)\n",
    "     - [2.4. Столбец с общими продажами](#2.4)\n",
    "     - [2.5. Вывод](#2.5)\n",
    "\n",
    "     \n",
    "* [3. Исследовательский анализ данных](#3.)\n",
    "     - [3.1. Количество выпускаемых игр в разные годы](#3.1)\n",
    "     - [3.2. Продажи по платформам](#3.2)\n",
    "     - [3.3. Ящик с усами](#3.3)\n",
    "     - [3.4. Оценки пользователей и критиков](#3.4)\n",
    "     - [3.5. Распределение игр по жанрам](#3.5)\n",
    "     \n",
    "     \n",
    "* [4. Портреты пользователей каждого региона](#5.)\n",
    "     - [4.1. Самые популярные платформы](#5.1)\n",
    "     - [4.2. Самые популярные жанры](#5.2)\n",
    "     - [4.3. Рейтинг ESRB](#5.3)\n",
    "     - [4.4. Вывод](#5.4)\n",
    "     \n",
    "\n",
    "* [5. Проверка гипотез ](#6.)\n",
    "     - [5.1. Средние пользовательские рейтинги платформ Xbox One и PC одинаковые](#6.1)\n",
    "     - [5.2. Средние пользовательские рейтинги жанров Action и Sports разные](#6.2)\n",
    "\n",
    "\n",
    "* [6. Вывод](#7.) "
   ]
  },
  {
   "cell_type": "markdown",
   "metadata": {},
   "source": [
    "## Описание проекта\n",
    "<a name=\"0.\"></a><br/>\n",
    "[<font size=\"2\">(к содержанию)</font>](#to_content.)"
   ]
  },
  {
   "cell_type": "markdown",
   "metadata": {},
   "source": [
    "Вы работаете в интернет-магазине «Стримчик», который продаёт по всему миру компьютерные игры. Из открытых источников доступны исторические данные о продажах игр, оценки пользователей и экспертов, жанры и платформы (например, Xbox или PlayStation). Вам нужно выявить определяющие успешность игры закономерности. Это позволит сделать ставку на потенциально популярный продукт и спланировать рекламные кампании.\n"
   ]
  },
  {
   "cell_type": "markdown",
   "metadata": {},
   "source": [
    "Перед вами данные до 2016 года. Представим, что сейчас декабрь 2016 г., и вы планируете кампанию на 2017-й. Нужно отработать принцип работы с данными. Неважно, прогнозируете ли вы продажи на 2017 год по данным 2016-го или же 2027-й — по данным 2026 года."
   ]
  },
  {
   "cell_type": "markdown",
   "metadata": {},
   "source": [
    "В наборе данных попадается аббревиатура ESRB (Entertainment Software Rating Board) — это ассоциация, определяющая возрастной рейтинг компьютерных игр. ESRB оценивает игровой контент и присваивает ему подходящую возрастную категорию, например, «Для взрослых», «Для детей младшего возраста» или «Для подростков»."
   ]
  },
  {
   "cell_type": "markdown",
   "metadata": {},
   "source": [
    "### Описание столбцов "
   ]
  },
  {
   "cell_type": "markdown",
   "metadata": {},
   "source": [
    "* Name — название игры\n",
    "* Platform — платформа\n",
    "* Year_of_Release — год выпуска\n",
    "* Genre — жанр игры\n",
    "* NA_sales — продажи в Северной Америке (миллионы проданных копий)\n",
    "* EU_sales — продажи в Европе (миллионы проданных копий)\n",
    "* JP_sales — продажи в Японии (миллионы проданных копий)\n",
    "* Other_sales — продажи в других странах (миллионы проданных копий)\n",
    "* Critic_Score — оценка критиков (максимум 100)\n",
    "* User_Score — оценка пользователей (максимум 10)\n",
    "* Rating — рейтинг от организации ESRB (англ. Entertainment Software Rating Board). Эта ассоциация определяет рейтинг компьютерных игр и присваивает им подходящую возрастную категорию."
   ]
  },
  {
   "cell_type": "markdown",
   "metadata": {},
   "source": [
    "## Загрузка данных\n",
    "<a name=\"1.\"></a><br/>\n",
    "[<font size=\"2\">(к содержанию)</font>](#to_content.)"
   ]
  },
  {
   "cell_type": "code",
   "execution_count": 1,
   "metadata": {},
   "outputs": [],
   "source": [
    "#загружаю необходимые библотеки\n",
    "import pandas as pd\n",
    "import matplotlib.pyplot as plt\n",
    "import numpy as np\n",
    "from scipy import stats as st\n",
    "import warnings\n",
    "warnings.filterwarnings('ignore')"
   ]
  },
  {
   "cell_type": "code",
   "execution_count": 2,
   "metadata": {},
   "outputs": [
    {
     "data": {
      "text/html": [
       "<div>\n",
       "<style scoped>\n",
       "    .dataframe tbody tr th:only-of-type {\n",
       "        vertical-align: middle;\n",
       "    }\n",
       "\n",
       "    .dataframe tbody tr th {\n",
       "        vertical-align: top;\n",
       "    }\n",
       "\n",
       "    .dataframe thead th {\n",
       "        text-align: right;\n",
       "    }\n",
       "</style>\n",
       "<table border=\"1\" class=\"dataframe\">\n",
       "  <thead>\n",
       "    <tr style=\"text-align: right;\">\n",
       "      <th></th>\n",
       "      <th>Name</th>\n",
       "      <th>Platform</th>\n",
       "      <th>Year_of_Release</th>\n",
       "      <th>Genre</th>\n",
       "      <th>NA_sales</th>\n",
       "      <th>EU_sales</th>\n",
       "      <th>JP_sales</th>\n",
       "      <th>Other_sales</th>\n",
       "      <th>Critic_Score</th>\n",
       "      <th>User_Score</th>\n",
       "      <th>Rating</th>\n",
       "    </tr>\n",
       "  </thead>\n",
       "  <tbody>\n",
       "    <tr>\n",
       "      <td>0</td>\n",
       "      <td>Wii Sports</td>\n",
       "      <td>Wii</td>\n",
       "      <td>2006.0</td>\n",
       "      <td>Sports</td>\n",
       "      <td>41.36</td>\n",
       "      <td>28.96</td>\n",
       "      <td>3.77</td>\n",
       "      <td>8.45</td>\n",
       "      <td>76.0</td>\n",
       "      <td>8</td>\n",
       "      <td>E</td>\n",
       "    </tr>\n",
       "    <tr>\n",
       "      <td>1</td>\n",
       "      <td>Super Mario Bros.</td>\n",
       "      <td>NES</td>\n",
       "      <td>1985.0</td>\n",
       "      <td>Platform</td>\n",
       "      <td>29.08</td>\n",
       "      <td>3.58</td>\n",
       "      <td>6.81</td>\n",
       "      <td>0.77</td>\n",
       "      <td>NaN</td>\n",
       "      <td>NaN</td>\n",
       "      <td>NaN</td>\n",
       "    </tr>\n",
       "    <tr>\n",
       "      <td>2</td>\n",
       "      <td>Mario Kart Wii</td>\n",
       "      <td>Wii</td>\n",
       "      <td>2008.0</td>\n",
       "      <td>Racing</td>\n",
       "      <td>15.68</td>\n",
       "      <td>12.76</td>\n",
       "      <td>3.79</td>\n",
       "      <td>3.29</td>\n",
       "      <td>82.0</td>\n",
       "      <td>8.3</td>\n",
       "      <td>E</td>\n",
       "    </tr>\n",
       "    <tr>\n",
       "      <td>3</td>\n",
       "      <td>Wii Sports Resort</td>\n",
       "      <td>Wii</td>\n",
       "      <td>2009.0</td>\n",
       "      <td>Sports</td>\n",
       "      <td>15.61</td>\n",
       "      <td>10.93</td>\n",
       "      <td>3.28</td>\n",
       "      <td>2.95</td>\n",
       "      <td>80.0</td>\n",
       "      <td>8</td>\n",
       "      <td>E</td>\n",
       "    </tr>\n",
       "    <tr>\n",
       "      <td>4</td>\n",
       "      <td>Pokemon Red/Pokemon Blue</td>\n",
       "      <td>GB</td>\n",
       "      <td>1996.0</td>\n",
       "      <td>Role-Playing</td>\n",
       "      <td>11.27</td>\n",
       "      <td>8.89</td>\n",
       "      <td>10.22</td>\n",
       "      <td>1.00</td>\n",
       "      <td>NaN</td>\n",
       "      <td>NaN</td>\n",
       "      <td>NaN</td>\n",
       "    </tr>\n",
       "    <tr>\n",
       "      <td>...</td>\n",
       "      <td>...</td>\n",
       "      <td>...</td>\n",
       "      <td>...</td>\n",
       "      <td>...</td>\n",
       "      <td>...</td>\n",
       "      <td>...</td>\n",
       "      <td>...</td>\n",
       "      <td>...</td>\n",
       "      <td>...</td>\n",
       "      <td>...</td>\n",
       "      <td>...</td>\n",
       "    </tr>\n",
       "    <tr>\n",
       "      <td>16710</td>\n",
       "      <td>Samurai Warriors: Sanada Maru</td>\n",
       "      <td>PS3</td>\n",
       "      <td>2016.0</td>\n",
       "      <td>Action</td>\n",
       "      <td>0.00</td>\n",
       "      <td>0.00</td>\n",
       "      <td>0.01</td>\n",
       "      <td>0.00</td>\n",
       "      <td>NaN</td>\n",
       "      <td>NaN</td>\n",
       "      <td>NaN</td>\n",
       "    </tr>\n",
       "    <tr>\n",
       "      <td>16711</td>\n",
       "      <td>LMA Manager 2007</td>\n",
       "      <td>X360</td>\n",
       "      <td>2006.0</td>\n",
       "      <td>Sports</td>\n",
       "      <td>0.00</td>\n",
       "      <td>0.01</td>\n",
       "      <td>0.00</td>\n",
       "      <td>0.00</td>\n",
       "      <td>NaN</td>\n",
       "      <td>NaN</td>\n",
       "      <td>NaN</td>\n",
       "    </tr>\n",
       "    <tr>\n",
       "      <td>16712</td>\n",
       "      <td>Haitaka no Psychedelica</td>\n",
       "      <td>PSV</td>\n",
       "      <td>2016.0</td>\n",
       "      <td>Adventure</td>\n",
       "      <td>0.00</td>\n",
       "      <td>0.00</td>\n",
       "      <td>0.01</td>\n",
       "      <td>0.00</td>\n",
       "      <td>NaN</td>\n",
       "      <td>NaN</td>\n",
       "      <td>NaN</td>\n",
       "    </tr>\n",
       "    <tr>\n",
       "      <td>16713</td>\n",
       "      <td>Spirits &amp; Spells</td>\n",
       "      <td>GBA</td>\n",
       "      <td>2003.0</td>\n",
       "      <td>Platform</td>\n",
       "      <td>0.01</td>\n",
       "      <td>0.00</td>\n",
       "      <td>0.00</td>\n",
       "      <td>0.00</td>\n",
       "      <td>NaN</td>\n",
       "      <td>NaN</td>\n",
       "      <td>NaN</td>\n",
       "    </tr>\n",
       "    <tr>\n",
       "      <td>16714</td>\n",
       "      <td>Winning Post 8 2016</td>\n",
       "      <td>PSV</td>\n",
       "      <td>2016.0</td>\n",
       "      <td>Simulation</td>\n",
       "      <td>0.00</td>\n",
       "      <td>0.00</td>\n",
       "      <td>0.01</td>\n",
       "      <td>0.00</td>\n",
       "      <td>NaN</td>\n",
       "      <td>NaN</td>\n",
       "      <td>NaN</td>\n",
       "    </tr>\n",
       "  </tbody>\n",
       "</table>\n",
       "<p>16715 rows × 11 columns</p>\n",
       "</div>"
      ],
      "text/plain": [
       "                                Name Platform  Year_of_Release         Genre  \\\n",
       "0                         Wii Sports      Wii           2006.0        Sports   \n",
       "1                  Super Mario Bros.      NES           1985.0      Platform   \n",
       "2                     Mario Kart Wii      Wii           2008.0        Racing   \n",
       "3                  Wii Sports Resort      Wii           2009.0        Sports   \n",
       "4           Pokemon Red/Pokemon Blue       GB           1996.0  Role-Playing   \n",
       "...                              ...      ...              ...           ...   \n",
       "16710  Samurai Warriors: Sanada Maru      PS3           2016.0        Action   \n",
       "16711               LMA Manager 2007     X360           2006.0        Sports   \n",
       "16712        Haitaka no Psychedelica      PSV           2016.0     Adventure   \n",
       "16713               Spirits & Spells      GBA           2003.0      Platform   \n",
       "16714            Winning Post 8 2016      PSV           2016.0    Simulation   \n",
       "\n",
       "       NA_sales  EU_sales  JP_sales  Other_sales  Critic_Score User_Score  \\\n",
       "0         41.36     28.96      3.77         8.45          76.0          8   \n",
       "1         29.08      3.58      6.81         0.77           NaN        NaN   \n",
       "2         15.68     12.76      3.79         3.29          82.0        8.3   \n",
       "3         15.61     10.93      3.28         2.95          80.0          8   \n",
       "4         11.27      8.89     10.22         1.00           NaN        NaN   \n",
       "...         ...       ...       ...          ...           ...        ...   \n",
       "16710      0.00      0.00      0.01         0.00           NaN        NaN   \n",
       "16711      0.00      0.01      0.00         0.00           NaN        NaN   \n",
       "16712      0.00      0.00      0.01         0.00           NaN        NaN   \n",
       "16713      0.01      0.00      0.00         0.00           NaN        NaN   \n",
       "16714      0.00      0.00      0.01         0.00           NaN        NaN   \n",
       "\n",
       "      Rating  \n",
       "0          E  \n",
       "1        NaN  \n",
       "2          E  \n",
       "3          E  \n",
       "4        NaN  \n",
       "...      ...  \n",
       "16710    NaN  \n",
       "16711    NaN  \n",
       "16712    NaN  \n",
       "16713    NaN  \n",
       "16714    NaN  \n",
       "\n",
       "[16715 rows x 11 columns]"
      ]
     },
     "metadata": {},
     "output_type": "display_data"
    }
   ],
   "source": [
    "df = pd.read_csv('/datasets/games.csv')\n",
    "display(df)"
   ]
  },
  {
   "cell_type": "code",
   "execution_count": 3,
   "metadata": {},
   "outputs": [
    {
     "name": "stdout",
     "output_type": "stream",
     "text": [
      "<class 'pandas.core.frame.DataFrame'>\n",
      "RangeIndex: 16715 entries, 0 to 16714\n",
      "Data columns (total 11 columns):\n",
      "Name               16713 non-null object\n",
      "Platform           16715 non-null object\n",
      "Year_of_Release    16446 non-null float64\n",
      "Genre              16713 non-null object\n",
      "NA_sales           16715 non-null float64\n",
      "EU_sales           16715 non-null float64\n",
      "JP_sales           16715 non-null float64\n",
      "Other_sales        16715 non-null float64\n",
      "Critic_Score       8137 non-null float64\n",
      "User_Score         10014 non-null object\n",
      "Rating             9949 non-null object\n",
      "dtypes: float64(6), object(5)\n",
      "memory usage: 1.4+ MB\n"
     ]
    }
   ],
   "source": [
    "df.info()"
   ]
  },
  {
   "cell_type": "markdown",
   "metadata": {},
   "source": [
    "* Переименовать столбцы 'year_of_release', NA_sales, EU_sales, JP_sales, Other_sales\n",
    "* Изменить тип данных в 'year_of_release'\n",
    "* Привести названия к нижнему регистру\n",
    "* Добавить столбец с общими продажами\n",
    "* Убрать стоки, где отсутвует название игры (их всего две)\n",
    "* Отсутвуют значения года, оценки критиков и оценки игроков "
   ]
  },
  {
   "cell_type": "markdown",
   "metadata": {},
   "source": [
    "## Предобработка данных\n",
    "<a name=\"2.\"></a><br/>\n",
    "[<font size=\"2\">(к содержанию)</font>](#to_content.)"
   ]
  },
  {
   "cell_type": "markdown",
   "metadata": {},
   "source": [
    "### Столбцы\n",
    "<a name=\"2.1\"></a><br/>"
   ]
  },
  {
   "cell_type": "code",
   "execution_count": 4,
   "metadata": {},
   "outputs": [],
   "source": [
    "# переименновываю столбцы \n",
    "df.rename(columns={'Year_of_Release': 'year',\n",
    "                  'NA_sales': 'na',\n",
    "                  'EU_sales': 'eu',\n",
    "                  'JP_sales': 'jp',\n",
    "                  'JP_sales': 'jp',\n",
    "                  'Other_sales': 'other',\n",
    "                  'Name': 'game'}, inplace=True)"
   ]
  },
  {
   "cell_type": "code",
   "execution_count": 5,
   "metadata": {},
   "outputs": [],
   "source": [
    "# изменяю регистр столбцов \n",
    "df.columns=df.columns.str.lower()"
   ]
  },
  {
   "cell_type": "code",
   "execution_count": 6,
   "metadata": {},
   "outputs": [
    {
     "data": {
      "text/html": [
       "<div>\n",
       "<style scoped>\n",
       "    .dataframe tbody tr th:only-of-type {\n",
       "        vertical-align: middle;\n",
       "    }\n",
       "\n",
       "    .dataframe tbody tr th {\n",
       "        vertical-align: top;\n",
       "    }\n",
       "\n",
       "    .dataframe thead th {\n",
       "        text-align: right;\n",
       "    }\n",
       "</style>\n",
       "<table border=\"1\" class=\"dataframe\">\n",
       "  <thead>\n",
       "    <tr style=\"text-align: right;\">\n",
       "      <th></th>\n",
       "      <th>game</th>\n",
       "      <th>platform</th>\n",
       "      <th>year</th>\n",
       "      <th>genre</th>\n",
       "      <th>na</th>\n",
       "      <th>eu</th>\n",
       "      <th>jp</th>\n",
       "      <th>other</th>\n",
       "      <th>critic_score</th>\n",
       "      <th>user_score</th>\n",
       "      <th>rating</th>\n",
       "    </tr>\n",
       "  </thead>\n",
       "  <tbody>\n",
       "    <tr>\n",
       "      <td>0</td>\n",
       "      <td>Wii Sports</td>\n",
       "      <td>Wii</td>\n",
       "      <td>2006.0</td>\n",
       "      <td>Sports</td>\n",
       "      <td>41.36</td>\n",
       "      <td>28.96</td>\n",
       "      <td>3.77</td>\n",
       "      <td>8.45</td>\n",
       "      <td>76.0</td>\n",
       "      <td>8</td>\n",
       "      <td>E</td>\n",
       "    </tr>\n",
       "  </tbody>\n",
       "</table>\n",
       "</div>"
      ],
      "text/plain": [
       "         game platform    year   genre     na     eu    jp  other  \\\n",
       "0  Wii Sports      Wii  2006.0  Sports  41.36  28.96  3.77   8.45   \n",
       "\n",
       "   critic_score user_score rating  \n",
       "0          76.0          8      E  "
      ]
     },
     "execution_count": 6,
     "metadata": {},
     "output_type": "execute_result"
    }
   ],
   "source": [
    "# проверяю\n",
    "df.head(1)"
   ]
  },
  {
   "cell_type": "markdown",
   "metadata": {},
   "source": [
    "### Пропуски\n",
    "<a name=\"2.2\"></a><br/>"
   ]
  },
  {
   "cell_type": "code",
   "execution_count": 7,
   "metadata": {},
   "outputs": [],
   "source": [
    "def nan_counter(dd):\n",
    "    return (dd.isnull().sum().to_frame('Nan-count')\n",
    " .join((df.isnull().sum()/len(df)*100).to_frame('NaN, %').round(2))\n",
    " .sort_values(by='NaN, %', ascending=False)\n",
    " .style.set_caption('Данные о NaN')\n",
    ")"
   ]
  },
  {
   "cell_type": "code",
   "execution_count": 8,
   "metadata": {},
   "outputs": [
    {
     "data": {
      "text/html": [
       "<style  type=\"text/css\" >\n",
       "</style><table id=\"T_f2bb08ba_1676_11ec_b376_02420a397f39\" ><caption>Данные о NaN</caption><thead>    <tr>        <th class=\"blank level0\" ></th>        <th class=\"col_heading level0 col0\" >Nan-count</th>        <th class=\"col_heading level0 col1\" >NaN, %</th>    </tr></thead><tbody>\n",
       "                <tr>\n",
       "                        <th id=\"T_f2bb08ba_1676_11ec_b376_02420a397f39level0_row0\" class=\"row_heading level0 row0\" >critic_score</th>\n",
       "                        <td id=\"T_f2bb08ba_1676_11ec_b376_02420a397f39row0_col0\" class=\"data row0 col0\" >8578</td>\n",
       "                        <td id=\"T_f2bb08ba_1676_11ec_b376_02420a397f39row0_col1\" class=\"data row0 col1\" >51.32</td>\n",
       "            </tr>\n",
       "            <tr>\n",
       "                        <th id=\"T_f2bb08ba_1676_11ec_b376_02420a397f39level0_row1\" class=\"row_heading level0 row1\" >rating</th>\n",
       "                        <td id=\"T_f2bb08ba_1676_11ec_b376_02420a397f39row1_col0\" class=\"data row1 col0\" >6766</td>\n",
       "                        <td id=\"T_f2bb08ba_1676_11ec_b376_02420a397f39row1_col1\" class=\"data row1 col1\" >40.48</td>\n",
       "            </tr>\n",
       "            <tr>\n",
       "                        <th id=\"T_f2bb08ba_1676_11ec_b376_02420a397f39level0_row2\" class=\"row_heading level0 row2\" >user_score</th>\n",
       "                        <td id=\"T_f2bb08ba_1676_11ec_b376_02420a397f39row2_col0\" class=\"data row2 col0\" >6701</td>\n",
       "                        <td id=\"T_f2bb08ba_1676_11ec_b376_02420a397f39row2_col1\" class=\"data row2 col1\" >40.09</td>\n",
       "            </tr>\n",
       "            <tr>\n",
       "                        <th id=\"T_f2bb08ba_1676_11ec_b376_02420a397f39level0_row3\" class=\"row_heading level0 row3\" >year</th>\n",
       "                        <td id=\"T_f2bb08ba_1676_11ec_b376_02420a397f39row3_col0\" class=\"data row3 col0\" >269</td>\n",
       "                        <td id=\"T_f2bb08ba_1676_11ec_b376_02420a397f39row3_col1\" class=\"data row3 col1\" >1.61</td>\n",
       "            </tr>\n",
       "            <tr>\n",
       "                        <th id=\"T_f2bb08ba_1676_11ec_b376_02420a397f39level0_row4\" class=\"row_heading level0 row4\" >game</th>\n",
       "                        <td id=\"T_f2bb08ba_1676_11ec_b376_02420a397f39row4_col0\" class=\"data row4 col0\" >2</td>\n",
       "                        <td id=\"T_f2bb08ba_1676_11ec_b376_02420a397f39row4_col1\" class=\"data row4 col1\" >0.01</td>\n",
       "            </tr>\n",
       "            <tr>\n",
       "                        <th id=\"T_f2bb08ba_1676_11ec_b376_02420a397f39level0_row5\" class=\"row_heading level0 row5\" >genre</th>\n",
       "                        <td id=\"T_f2bb08ba_1676_11ec_b376_02420a397f39row5_col0\" class=\"data row5 col0\" >2</td>\n",
       "                        <td id=\"T_f2bb08ba_1676_11ec_b376_02420a397f39row5_col1\" class=\"data row5 col1\" >0.01</td>\n",
       "            </tr>\n",
       "            <tr>\n",
       "                        <th id=\"T_f2bb08ba_1676_11ec_b376_02420a397f39level0_row6\" class=\"row_heading level0 row6\" >platform</th>\n",
       "                        <td id=\"T_f2bb08ba_1676_11ec_b376_02420a397f39row6_col0\" class=\"data row6 col0\" >0</td>\n",
       "                        <td id=\"T_f2bb08ba_1676_11ec_b376_02420a397f39row6_col1\" class=\"data row6 col1\" >0</td>\n",
       "            </tr>\n",
       "            <tr>\n",
       "                        <th id=\"T_f2bb08ba_1676_11ec_b376_02420a397f39level0_row7\" class=\"row_heading level0 row7\" >na</th>\n",
       "                        <td id=\"T_f2bb08ba_1676_11ec_b376_02420a397f39row7_col0\" class=\"data row7 col0\" >0</td>\n",
       "                        <td id=\"T_f2bb08ba_1676_11ec_b376_02420a397f39row7_col1\" class=\"data row7 col1\" >0</td>\n",
       "            </tr>\n",
       "            <tr>\n",
       "                        <th id=\"T_f2bb08ba_1676_11ec_b376_02420a397f39level0_row8\" class=\"row_heading level0 row8\" >eu</th>\n",
       "                        <td id=\"T_f2bb08ba_1676_11ec_b376_02420a397f39row8_col0\" class=\"data row8 col0\" >0</td>\n",
       "                        <td id=\"T_f2bb08ba_1676_11ec_b376_02420a397f39row8_col1\" class=\"data row8 col1\" >0</td>\n",
       "            </tr>\n",
       "            <tr>\n",
       "                        <th id=\"T_f2bb08ba_1676_11ec_b376_02420a397f39level0_row9\" class=\"row_heading level0 row9\" >jp</th>\n",
       "                        <td id=\"T_f2bb08ba_1676_11ec_b376_02420a397f39row9_col0\" class=\"data row9 col0\" >0</td>\n",
       "                        <td id=\"T_f2bb08ba_1676_11ec_b376_02420a397f39row9_col1\" class=\"data row9 col1\" >0</td>\n",
       "            </tr>\n",
       "            <tr>\n",
       "                        <th id=\"T_f2bb08ba_1676_11ec_b376_02420a397f39level0_row10\" class=\"row_heading level0 row10\" >other</th>\n",
       "                        <td id=\"T_f2bb08ba_1676_11ec_b376_02420a397f39row10_col0\" class=\"data row10 col0\" >0</td>\n",
       "                        <td id=\"T_f2bb08ba_1676_11ec_b376_02420a397f39row10_col1\" class=\"data row10 col1\" >0</td>\n",
       "            </tr>\n",
       "    </tbody></table>"
      ],
      "text/plain": [
       "<pandas.io.formats.style.Styler at 0x7f79cc5e0d90>"
      ]
     },
     "execution_count": 8,
     "metadata": {},
     "output_type": "execute_result"
    }
   ],
   "source": [
    "nan_counter(df)"
   ]
  },
  {
   "cell_type": "markdown",
   "metadata": {},
   "source": [
    "Здесь я вижу, что данные с отсутвующими именами, жанрами и годом можно удалить, так как отсутвует не более 2 процентов этих данных.\n"
   ]
  },
  {
   "cell_type": "code",
   "execution_count": 9,
   "metadata": {},
   "outputs": [],
   "source": [
    "# удаляю данные с пропусками года\n",
    "df = df.dropna(subset=['year']).reset_index(drop = True)"
   ]
  },
  {
   "cell_type": "code",
   "execution_count": 10,
   "metadata": {},
   "outputs": [],
   "source": [
    "# удаляю данные с пропусками жанра\n",
    "df = df.dropna(subset=['genre']).reset_index(drop = True)"
   ]
  },
  {
   "cell_type": "code",
   "execution_count": 11,
   "metadata": {},
   "outputs": [],
   "source": [
    "# удаляю данные с пропусками названия\n",
    "df = df.dropna(subset=['game']).reset_index(drop = True)"
   ]
  },
  {
   "cell_type": "markdown",
   "metadata": {},
   "source": [
    "### Изменение типа данных\n",
    "<a name=\"2.3\"></a><br/>"
   ]
  },
  {
   "cell_type": "code",
   "execution_count": 12,
   "metadata": {},
   "outputs": [
    {
     "name": "stdout",
     "output_type": "stream",
     "text": [
      "<class 'pandas.core.frame.DataFrame'>\n",
      "RangeIndex: 16444 entries, 0 to 16443\n",
      "Data columns (total 11 columns):\n",
      "game            16444 non-null object\n",
      "platform        16444 non-null object\n",
      "year            16444 non-null float64\n",
      "genre           16444 non-null object\n",
      "na              16444 non-null float64\n",
      "eu              16444 non-null float64\n",
      "jp              16444 non-null float64\n",
      "other           16444 non-null float64\n",
      "critic_score    7983 non-null float64\n",
      "user_score      9839 non-null object\n",
      "rating          9768 non-null object\n",
      "dtypes: float64(6), object(5)\n",
      "memory usage: 1.4+ MB\n"
     ]
    }
   ],
   "source": [
    "df.info()"
   ]
  },
  {
   "cell_type": "code",
   "execution_count": 13,
   "metadata": {},
   "outputs": [],
   "source": [
    "#изменяю тип данных в столбце с годом\n",
    "#перевожу тип данных в int\n",
    "df['year'] = df['year'].astype('int')"
   ]
  },
  {
   "cell_type": "code",
   "execution_count": 14,
   "metadata": {},
   "outputs": [],
   "source": [
    "# и из int в datetime\n",
    "df['year'] = pd.to_datetime(df['year'],format='%Y')"
   ]
  },
  {
   "cell_type": "code",
   "execution_count": 15,
   "metadata": {},
   "outputs": [],
   "source": [
    "df['year'] = df['year'].dt.to_period('Y')"
   ]
  },
  {
   "cell_type": "code",
   "execution_count": 16,
   "metadata": {},
   "outputs": [
    {
     "data": {
      "text/html": [
       "<div>\n",
       "<style scoped>\n",
       "    .dataframe tbody tr th:only-of-type {\n",
       "        vertical-align: middle;\n",
       "    }\n",
       "\n",
       "    .dataframe tbody tr th {\n",
       "        vertical-align: top;\n",
       "    }\n",
       "\n",
       "    .dataframe thead th {\n",
       "        text-align: right;\n",
       "    }\n",
       "</style>\n",
       "<table border=\"1\" class=\"dataframe\">\n",
       "  <thead>\n",
       "    <tr style=\"text-align: right;\">\n",
       "      <th></th>\n",
       "      <th>game</th>\n",
       "      <th>platform</th>\n",
       "      <th>year</th>\n",
       "      <th>genre</th>\n",
       "      <th>na</th>\n",
       "      <th>eu</th>\n",
       "      <th>jp</th>\n",
       "      <th>other</th>\n",
       "      <th>critic_score</th>\n",
       "      <th>user_score</th>\n",
       "      <th>rating</th>\n",
       "    </tr>\n",
       "  </thead>\n",
       "  <tbody>\n",
       "    <tr>\n",
       "      <td>0</td>\n",
       "      <td>Wii Sports</td>\n",
       "      <td>Wii</td>\n",
       "      <td>2006</td>\n",
       "      <td>Sports</td>\n",
       "      <td>41.36</td>\n",
       "      <td>28.96</td>\n",
       "      <td>3.77</td>\n",
       "      <td>8.45</td>\n",
       "      <td>76.0</td>\n",
       "      <td>8</td>\n",
       "      <td>E</td>\n",
       "    </tr>\n",
       "    <tr>\n",
       "      <td>1</td>\n",
       "      <td>Super Mario Bros.</td>\n",
       "      <td>NES</td>\n",
       "      <td>1985</td>\n",
       "      <td>Platform</td>\n",
       "      <td>29.08</td>\n",
       "      <td>3.58</td>\n",
       "      <td>6.81</td>\n",
       "      <td>0.77</td>\n",
       "      <td>NaN</td>\n",
       "      <td>NaN</td>\n",
       "      <td>NaN</td>\n",
       "    </tr>\n",
       "    <tr>\n",
       "      <td>2</td>\n",
       "      <td>Mario Kart Wii</td>\n",
       "      <td>Wii</td>\n",
       "      <td>2008</td>\n",
       "      <td>Racing</td>\n",
       "      <td>15.68</td>\n",
       "      <td>12.76</td>\n",
       "      <td>3.79</td>\n",
       "      <td>3.29</td>\n",
       "      <td>82.0</td>\n",
       "      <td>8.3</td>\n",
       "      <td>E</td>\n",
       "    </tr>\n",
       "    <tr>\n",
       "      <td>3</td>\n",
       "      <td>Wii Sports Resort</td>\n",
       "      <td>Wii</td>\n",
       "      <td>2009</td>\n",
       "      <td>Sports</td>\n",
       "      <td>15.61</td>\n",
       "      <td>10.93</td>\n",
       "      <td>3.28</td>\n",
       "      <td>2.95</td>\n",
       "      <td>80.0</td>\n",
       "      <td>8</td>\n",
       "      <td>E</td>\n",
       "    </tr>\n",
       "    <tr>\n",
       "      <td>4</td>\n",
       "      <td>Pokemon Red/Pokemon Blue</td>\n",
       "      <td>GB</td>\n",
       "      <td>1996</td>\n",
       "      <td>Role-Playing</td>\n",
       "      <td>11.27</td>\n",
       "      <td>8.89</td>\n",
       "      <td>10.22</td>\n",
       "      <td>1.00</td>\n",
       "      <td>NaN</td>\n",
       "      <td>NaN</td>\n",
       "      <td>NaN</td>\n",
       "    </tr>\n",
       "    <tr>\n",
       "      <td>...</td>\n",
       "      <td>...</td>\n",
       "      <td>...</td>\n",
       "      <td>...</td>\n",
       "      <td>...</td>\n",
       "      <td>...</td>\n",
       "      <td>...</td>\n",
       "      <td>...</td>\n",
       "      <td>...</td>\n",
       "      <td>...</td>\n",
       "      <td>...</td>\n",
       "      <td>...</td>\n",
       "    </tr>\n",
       "    <tr>\n",
       "      <td>16439</td>\n",
       "      <td>Samurai Warriors: Sanada Maru</td>\n",
       "      <td>PS3</td>\n",
       "      <td>2016</td>\n",
       "      <td>Action</td>\n",
       "      <td>0.00</td>\n",
       "      <td>0.00</td>\n",
       "      <td>0.01</td>\n",
       "      <td>0.00</td>\n",
       "      <td>NaN</td>\n",
       "      <td>NaN</td>\n",
       "      <td>NaN</td>\n",
       "    </tr>\n",
       "    <tr>\n",
       "      <td>16440</td>\n",
       "      <td>LMA Manager 2007</td>\n",
       "      <td>X360</td>\n",
       "      <td>2006</td>\n",
       "      <td>Sports</td>\n",
       "      <td>0.00</td>\n",
       "      <td>0.01</td>\n",
       "      <td>0.00</td>\n",
       "      <td>0.00</td>\n",
       "      <td>NaN</td>\n",
       "      <td>NaN</td>\n",
       "      <td>NaN</td>\n",
       "    </tr>\n",
       "    <tr>\n",
       "      <td>16441</td>\n",
       "      <td>Haitaka no Psychedelica</td>\n",
       "      <td>PSV</td>\n",
       "      <td>2016</td>\n",
       "      <td>Adventure</td>\n",
       "      <td>0.00</td>\n",
       "      <td>0.00</td>\n",
       "      <td>0.01</td>\n",
       "      <td>0.00</td>\n",
       "      <td>NaN</td>\n",
       "      <td>NaN</td>\n",
       "      <td>NaN</td>\n",
       "    </tr>\n",
       "    <tr>\n",
       "      <td>16442</td>\n",
       "      <td>Spirits &amp; Spells</td>\n",
       "      <td>GBA</td>\n",
       "      <td>2003</td>\n",
       "      <td>Platform</td>\n",
       "      <td>0.01</td>\n",
       "      <td>0.00</td>\n",
       "      <td>0.00</td>\n",
       "      <td>0.00</td>\n",
       "      <td>NaN</td>\n",
       "      <td>NaN</td>\n",
       "      <td>NaN</td>\n",
       "    </tr>\n",
       "    <tr>\n",
       "      <td>16443</td>\n",
       "      <td>Winning Post 8 2016</td>\n",
       "      <td>PSV</td>\n",
       "      <td>2016</td>\n",
       "      <td>Simulation</td>\n",
       "      <td>0.00</td>\n",
       "      <td>0.00</td>\n",
       "      <td>0.01</td>\n",
       "      <td>0.00</td>\n",
       "      <td>NaN</td>\n",
       "      <td>NaN</td>\n",
       "      <td>NaN</td>\n",
       "    </tr>\n",
       "  </tbody>\n",
       "</table>\n",
       "<p>16444 rows × 11 columns</p>\n",
       "</div>"
      ],
      "text/plain": [
       "                                game platform  year         genre     na  \\\n",
       "0                         Wii Sports      Wii  2006        Sports  41.36   \n",
       "1                  Super Mario Bros.      NES  1985      Platform  29.08   \n",
       "2                     Mario Kart Wii      Wii  2008        Racing  15.68   \n",
       "3                  Wii Sports Resort      Wii  2009        Sports  15.61   \n",
       "4           Pokemon Red/Pokemon Blue       GB  1996  Role-Playing  11.27   \n",
       "...                              ...      ...   ...           ...    ...   \n",
       "16439  Samurai Warriors: Sanada Maru      PS3  2016        Action   0.00   \n",
       "16440               LMA Manager 2007     X360  2006        Sports   0.00   \n",
       "16441        Haitaka no Psychedelica      PSV  2016     Adventure   0.00   \n",
       "16442               Spirits & Spells      GBA  2003      Platform   0.01   \n",
       "16443            Winning Post 8 2016      PSV  2016    Simulation   0.00   \n",
       "\n",
       "          eu     jp  other  critic_score user_score rating  \n",
       "0      28.96   3.77   8.45          76.0          8      E  \n",
       "1       3.58   6.81   0.77           NaN        NaN    NaN  \n",
       "2      12.76   3.79   3.29          82.0        8.3      E  \n",
       "3      10.93   3.28   2.95          80.0          8      E  \n",
       "4       8.89  10.22   1.00           NaN        NaN    NaN  \n",
       "...      ...    ...    ...           ...        ...    ...  \n",
       "16439   0.00   0.01   0.00           NaN        NaN    NaN  \n",
       "16440   0.01   0.00   0.00           NaN        NaN    NaN  \n",
       "16441   0.00   0.01   0.00           NaN        NaN    NaN  \n",
       "16442   0.00   0.00   0.00           NaN        NaN    NaN  \n",
       "16443   0.00   0.01   0.00           NaN        NaN    NaN  \n",
       "\n",
       "[16444 rows x 11 columns]"
      ]
     },
     "execution_count": 16,
     "metadata": {},
     "output_type": "execute_result"
    }
   ],
   "source": [
    "# к сожалению, я не нашел другого способ избавиться от числа и месяца при таком выводе данных. \n",
    "#Можно было бы оставить int, но ведь это же всё-таки дата.\n",
    "df"
   ]
  },
  {
   "cell_type": "code",
   "execution_count": 17,
   "metadata": {},
   "outputs": [
    {
     "data": {
      "text/plain": [
       "tbd    2376\n",
       "7.8     322\n",
       "8       285\n",
       "8.2     276\n",
       "8.3     252\n",
       "       ... \n",
       "1         2\n",
       "0.6       2\n",
       "0.3       2\n",
       "0         1\n",
       "9.7       1\n",
       "Name: user_score, Length: 96, dtype: int64"
      ]
     },
     "execution_count": 17,
     "metadata": {},
     "output_type": "execute_result"
    }
   ],
   "source": [
    "# смотрю, какие значения есть в  'user_score'\n",
    "df['user_score'].value_counts()"
   ]
  },
  {
   "cell_type": "code",
   "execution_count": 18,
   "metadata": {},
   "outputs": [],
   "source": [
    "# в столбце 'user_score' есть значение 'tbd', которое говорит о том, что значение отсутвует\n",
    "# убераю эти значения\n",
    "df.loc[df['user_score'] == 'tbd', 'user_score'] = ''\n",
    "# перевожу в числовой тип данных\n",
    "df['user_score'] = pd.to_numeric(df['user_score'])"
   ]
  },
  {
   "cell_type": "code",
   "execution_count": 19,
   "metadata": {},
   "outputs": [
    {
     "data": {
      "text/plain": [
       "7.8    322\n",
       "8.0    285\n",
       "8.2    276\n",
       "8.3    252\n",
       "7.5    249\n",
       "      ... \n",
       "9.6      2\n",
       "0.6      2\n",
       "1.9      2\n",
       "9.7      1\n",
       "0.0      1\n",
       "Name: user_score, Length: 95, dtype: int64"
      ]
     },
     "execution_count": 19,
     "metadata": {},
     "output_type": "execute_result"
    }
   ],
   "source": [
    "df['user_score'].value_counts()"
   ]
  },
  {
   "cell_type": "code",
   "execution_count": 20,
   "metadata": {},
   "outputs": [
    {
     "name": "stdout",
     "output_type": "stream",
     "text": [
      "<class 'pandas.core.frame.DataFrame'>\n",
      "RangeIndex: 16444 entries, 0 to 16443\n",
      "Data columns (total 11 columns):\n",
      "game            16444 non-null object\n",
      "platform        16444 non-null object\n",
      "year            16444 non-null period[A-DEC]\n",
      "genre           16444 non-null object\n",
      "na              16444 non-null float64\n",
      "eu              16444 non-null float64\n",
      "jp              16444 non-null float64\n",
      "other           16444 non-null float64\n",
      "critic_score    7983 non-null float64\n",
      "user_score      7463 non-null float64\n",
      "rating          9768 non-null object\n",
      "dtypes: float64(6), object(4), period[A-DEC](1)\n",
      "memory usage: 1.4+ MB\n"
     ]
    }
   ],
   "source": [
    "df.info()"
   ]
  },
  {
   "cell_type": "markdown",
   "metadata": {},
   "source": [
    "### Столбец с общими продажами\n",
    "<a name=\"2.4\"></a><br/>"
   ]
  },
  {
   "cell_type": "code",
   "execution_count": 21,
   "metadata": {},
   "outputs": [],
   "source": [
    "df['world'] = df['na'] + df['eu'] + df['jp'] + df['other']"
   ]
  },
  {
   "cell_type": "code",
   "execution_count": 22,
   "metadata": {},
   "outputs": [],
   "source": [
    "cols = list(df.columns.values)"
   ]
  },
  {
   "cell_type": "code",
   "execution_count": 23,
   "metadata": {},
   "outputs": [
    {
     "data": {
      "text/plain": [
       "['game',\n",
       " 'platform',\n",
       " 'year',\n",
       " 'genre',\n",
       " 'na',\n",
       " 'eu',\n",
       " 'jp',\n",
       " 'other',\n",
       " 'critic_score',\n",
       " 'user_score',\n",
       " 'rating',\n",
       " 'world']"
      ]
     },
     "execution_count": 23,
     "metadata": {},
     "output_type": "execute_result"
    }
   ],
   "source": [
    "cols"
   ]
  },
  {
   "cell_type": "code",
   "execution_count": 24,
   "metadata": {},
   "outputs": [],
   "source": [
    "df = df[['game',\n",
    " 'platform',\n",
    " 'year',\n",
    " 'genre',\n",
    " 'na',\n",
    " 'eu',\n",
    " 'jp',\n",
    " 'other',\n",
    " 'world',\n",
    " 'critic_score',\n",
    " 'user_score',\n",
    " 'rating',]]"
   ]
  },
  {
   "cell_type": "code",
   "execution_count": 25,
   "metadata": {},
   "outputs": [
    {
     "data": {
      "text/html": [
       "<div>\n",
       "<style scoped>\n",
       "    .dataframe tbody tr th:only-of-type {\n",
       "        vertical-align: middle;\n",
       "    }\n",
       "\n",
       "    .dataframe tbody tr th {\n",
       "        vertical-align: top;\n",
       "    }\n",
       "\n",
       "    .dataframe thead th {\n",
       "        text-align: right;\n",
       "    }\n",
       "</style>\n",
       "<table border=\"1\" class=\"dataframe\">\n",
       "  <thead>\n",
       "    <tr style=\"text-align: right;\">\n",
       "      <th></th>\n",
       "      <th>game</th>\n",
       "      <th>platform</th>\n",
       "      <th>year</th>\n",
       "      <th>genre</th>\n",
       "      <th>na</th>\n",
       "      <th>eu</th>\n",
       "      <th>jp</th>\n",
       "      <th>other</th>\n",
       "      <th>world</th>\n",
       "      <th>critic_score</th>\n",
       "      <th>user_score</th>\n",
       "      <th>rating</th>\n",
       "    </tr>\n",
       "  </thead>\n",
       "  <tbody>\n",
       "    <tr>\n",
       "      <td>0</td>\n",
       "      <td>Wii Sports</td>\n",
       "      <td>Wii</td>\n",
       "      <td>2006</td>\n",
       "      <td>Sports</td>\n",
       "      <td>41.36</td>\n",
       "      <td>28.96</td>\n",
       "      <td>3.77</td>\n",
       "      <td>8.45</td>\n",
       "      <td>82.54</td>\n",
       "      <td>76.0</td>\n",
       "      <td>8.0</td>\n",
       "      <td>E</td>\n",
       "    </tr>\n",
       "    <tr>\n",
       "      <td>1</td>\n",
       "      <td>Super Mario Bros.</td>\n",
       "      <td>NES</td>\n",
       "      <td>1985</td>\n",
       "      <td>Platform</td>\n",
       "      <td>29.08</td>\n",
       "      <td>3.58</td>\n",
       "      <td>6.81</td>\n",
       "      <td>0.77</td>\n",
       "      <td>40.24</td>\n",
       "      <td>NaN</td>\n",
       "      <td>NaN</td>\n",
       "      <td>NaN</td>\n",
       "    </tr>\n",
       "    <tr>\n",
       "      <td>2</td>\n",
       "      <td>Mario Kart Wii</td>\n",
       "      <td>Wii</td>\n",
       "      <td>2008</td>\n",
       "      <td>Racing</td>\n",
       "      <td>15.68</td>\n",
       "      <td>12.76</td>\n",
       "      <td>3.79</td>\n",
       "      <td>3.29</td>\n",
       "      <td>35.52</td>\n",
       "      <td>82.0</td>\n",
       "      <td>8.3</td>\n",
       "      <td>E</td>\n",
       "    </tr>\n",
       "    <tr>\n",
       "      <td>3</td>\n",
       "      <td>Wii Sports Resort</td>\n",
       "      <td>Wii</td>\n",
       "      <td>2009</td>\n",
       "      <td>Sports</td>\n",
       "      <td>15.61</td>\n",
       "      <td>10.93</td>\n",
       "      <td>3.28</td>\n",
       "      <td>2.95</td>\n",
       "      <td>32.77</td>\n",
       "      <td>80.0</td>\n",
       "      <td>8.0</td>\n",
       "      <td>E</td>\n",
       "    </tr>\n",
       "    <tr>\n",
       "      <td>4</td>\n",
       "      <td>Pokemon Red/Pokemon Blue</td>\n",
       "      <td>GB</td>\n",
       "      <td>1996</td>\n",
       "      <td>Role-Playing</td>\n",
       "      <td>11.27</td>\n",
       "      <td>8.89</td>\n",
       "      <td>10.22</td>\n",
       "      <td>1.00</td>\n",
       "      <td>31.38</td>\n",
       "      <td>NaN</td>\n",
       "      <td>NaN</td>\n",
       "      <td>NaN</td>\n",
       "    </tr>\n",
       "    <tr>\n",
       "      <td>...</td>\n",
       "      <td>...</td>\n",
       "      <td>...</td>\n",
       "      <td>...</td>\n",
       "      <td>...</td>\n",
       "      <td>...</td>\n",
       "      <td>...</td>\n",
       "      <td>...</td>\n",
       "      <td>...</td>\n",
       "      <td>...</td>\n",
       "      <td>...</td>\n",
       "      <td>...</td>\n",
       "      <td>...</td>\n",
       "    </tr>\n",
       "    <tr>\n",
       "      <td>16439</td>\n",
       "      <td>Samurai Warriors: Sanada Maru</td>\n",
       "      <td>PS3</td>\n",
       "      <td>2016</td>\n",
       "      <td>Action</td>\n",
       "      <td>0.00</td>\n",
       "      <td>0.00</td>\n",
       "      <td>0.01</td>\n",
       "      <td>0.00</td>\n",
       "      <td>0.01</td>\n",
       "      <td>NaN</td>\n",
       "      <td>NaN</td>\n",
       "      <td>NaN</td>\n",
       "    </tr>\n",
       "    <tr>\n",
       "      <td>16440</td>\n",
       "      <td>LMA Manager 2007</td>\n",
       "      <td>X360</td>\n",
       "      <td>2006</td>\n",
       "      <td>Sports</td>\n",
       "      <td>0.00</td>\n",
       "      <td>0.01</td>\n",
       "      <td>0.00</td>\n",
       "      <td>0.00</td>\n",
       "      <td>0.01</td>\n",
       "      <td>NaN</td>\n",
       "      <td>NaN</td>\n",
       "      <td>NaN</td>\n",
       "    </tr>\n",
       "    <tr>\n",
       "      <td>16441</td>\n",
       "      <td>Haitaka no Psychedelica</td>\n",
       "      <td>PSV</td>\n",
       "      <td>2016</td>\n",
       "      <td>Adventure</td>\n",
       "      <td>0.00</td>\n",
       "      <td>0.00</td>\n",
       "      <td>0.01</td>\n",
       "      <td>0.00</td>\n",
       "      <td>0.01</td>\n",
       "      <td>NaN</td>\n",
       "      <td>NaN</td>\n",
       "      <td>NaN</td>\n",
       "    </tr>\n",
       "    <tr>\n",
       "      <td>16442</td>\n",
       "      <td>Spirits &amp; Spells</td>\n",
       "      <td>GBA</td>\n",
       "      <td>2003</td>\n",
       "      <td>Platform</td>\n",
       "      <td>0.01</td>\n",
       "      <td>0.00</td>\n",
       "      <td>0.00</td>\n",
       "      <td>0.00</td>\n",
       "      <td>0.01</td>\n",
       "      <td>NaN</td>\n",
       "      <td>NaN</td>\n",
       "      <td>NaN</td>\n",
       "    </tr>\n",
       "    <tr>\n",
       "      <td>16443</td>\n",
       "      <td>Winning Post 8 2016</td>\n",
       "      <td>PSV</td>\n",
       "      <td>2016</td>\n",
       "      <td>Simulation</td>\n",
       "      <td>0.00</td>\n",
       "      <td>0.00</td>\n",
       "      <td>0.01</td>\n",
       "      <td>0.00</td>\n",
       "      <td>0.01</td>\n",
       "      <td>NaN</td>\n",
       "      <td>NaN</td>\n",
       "      <td>NaN</td>\n",
       "    </tr>\n",
       "  </tbody>\n",
       "</table>\n",
       "<p>16444 rows × 12 columns</p>\n",
       "</div>"
      ],
      "text/plain": [
       "                                game platform  year         genre     na  \\\n",
       "0                         Wii Sports      Wii  2006        Sports  41.36   \n",
       "1                  Super Mario Bros.      NES  1985      Platform  29.08   \n",
       "2                     Mario Kart Wii      Wii  2008        Racing  15.68   \n",
       "3                  Wii Sports Resort      Wii  2009        Sports  15.61   \n",
       "4           Pokemon Red/Pokemon Blue       GB  1996  Role-Playing  11.27   \n",
       "...                              ...      ...   ...           ...    ...   \n",
       "16439  Samurai Warriors: Sanada Maru      PS3  2016        Action   0.00   \n",
       "16440               LMA Manager 2007     X360  2006        Sports   0.00   \n",
       "16441        Haitaka no Psychedelica      PSV  2016     Adventure   0.00   \n",
       "16442               Spirits & Spells      GBA  2003      Platform   0.01   \n",
       "16443            Winning Post 8 2016      PSV  2016    Simulation   0.00   \n",
       "\n",
       "          eu     jp  other  world  critic_score  user_score rating  \n",
       "0      28.96   3.77   8.45  82.54          76.0         8.0      E  \n",
       "1       3.58   6.81   0.77  40.24           NaN         NaN    NaN  \n",
       "2      12.76   3.79   3.29  35.52          82.0         8.3      E  \n",
       "3      10.93   3.28   2.95  32.77          80.0         8.0      E  \n",
       "4       8.89  10.22   1.00  31.38           NaN         NaN    NaN  \n",
       "...      ...    ...    ...    ...           ...         ...    ...  \n",
       "16439   0.00   0.01   0.00   0.01           NaN         NaN    NaN  \n",
       "16440   0.01   0.00   0.00   0.01           NaN         NaN    NaN  \n",
       "16441   0.00   0.01   0.00   0.01           NaN         NaN    NaN  \n",
       "16442   0.00   0.00   0.00   0.01           NaN         NaN    NaN  \n",
       "16443   0.00   0.01   0.00   0.01           NaN         NaN    NaN  \n",
       "\n",
       "[16444 rows x 12 columns]"
      ]
     },
     "execution_count": 25,
     "metadata": {},
     "output_type": "execute_result"
    }
   ],
   "source": [
    "df"
   ]
  },
  {
   "cell_type": "markdown",
   "metadata": {},
   "source": [
    "Вывод\n",
    "<a name=\"2.5\"></a><br/>"
   ]
  },
  {
   "cell_type": "markdown",
   "metadata": {},
   "source": [
    "* Я изменил тип данных в столбце с годом\n",
    "* Удалил незначительное количество пропусков в строках\n",
    "* Добавил столбец с продажами по миру\n",
    "* Изменил названия столбцов "
   ]
  },
  {
   "cell_type": "markdown",
   "metadata": {},
   "source": [
    "## Исследовательский анализ данных\n",
    "<a name=\"3.\"></a><br/>\n",
    "[<font size=\"2\">(к содержанию)</font>](#to_content.)"
   ]
  },
  {
   "cell_type": "markdown",
   "metadata": {},
   "source": [
    "### Количество выпускаемых игр в разные годы\n",
    "<a name=\"3.1\"></a><br/>"
   ]
  },
  {
   "cell_type": "code",
   "execution_count": 26,
   "metadata": {},
   "outputs": [
    {
     "data": {
      "image/png": "[encoded data removed]",
      "text/plain": [
       "<Figure size 1080x648 with 1 Axes>"
      ]
     },
     "metadata": {
      "needs_background": "light"
     },
     "output_type": "display_data"
    }
   ],
   "source": [
    "# строю график распределения выпуска игр по годам\n",
    "df.pivot_table(index = 'year', values = 'game', aggfunc = 'count').plot(kind = 'bar', figsize = (15, 9)).set_title('Количество выпущенных игр по годам')\n",
    "plt.ylabel('Количество игр')\n",
    "plt.xlabel('Год')\n",
    "plt.show()"
   ]
  },
  {
   "cell_type": "markdown",
   "metadata": {},
   "source": [
    "На этом графике видно, что количество игр растёт с 1990 года до пика в 2008 и затем падает с 2016. Интересно, я думал иначе. Но это действительно логично, я думаю, что падение количества игр связано с удорожанием производства этих самых игр и лучше сделать одну очень крутую игру, чем несколько средних."
   ]
  },
  {
   "cell_type": "code",
   "execution_count": 27,
   "metadata": {},
   "outputs": [
    {
     "data": {
      "image/png": "[encoded data removed]",
      "text/plain": [
       "<Figure size 1080x648 with 1 Axes>"
      ]
     },
     "metadata": {
      "needs_background": "light"
     },
     "output_type": "display_data"
    }
   ],
   "source": [
    "# строю график зависимости общего дохода от года \n",
    "df.pivot_table(index = 'year', values = 'world', aggfunc = 'sum').plot(kind = 'bar', figsize = (15, 9)).set_title('Количество выпущенных игр по годам')\n",
    "plt.ylabel('Количество игр')\n",
    "plt.xlabel('Год')\n",
    "plt.show()"
   ]
  },
  {
   "cell_type": "markdown",
   "metadata": {},
   "source": [
    "Интересно, что за последние несколько лет, эти графики становятся зеркальными то есть игр выпускаю с каждым годом все больше, но зарабатывают меньше."
   ]
  },
  {
   "cell_type": "markdown",
   "metadata": {},
   "source": [
    "Вообще, я не думаю, что для индустрии игр нужно расматривать период в 26 лет. Достаточно последних 3 года, так как эта сфера очень быстро меняется и то, что было 20 лет назад никак не влияет на сегодня."
   ]
  },
  {
   "cell_type": "code",
   "execution_count": 28,
   "metadata": {},
   "outputs": [
    {
     "name": "stdout",
     "output_type": "stream",
     "text": [
      "<class 'pandas.core.frame.DataFrame'>\n",
      "Int64Index: 2233 entries, 16 to 16443\n",
      "Data columns (total 12 columns):\n",
      "game            2233 non-null object\n",
      "platform        2233 non-null object\n",
      "year            2233 non-null period[A-DEC]\n",
      "genre           2233 non-null object\n",
      "na              2233 non-null float64\n",
      "eu              2233 non-null float64\n",
      "jp              2233 non-null float64\n",
      "other           2233 non-null float64\n",
      "world           2233 non-null float64\n",
      "critic_score    991 non-null float64\n",
      "user_score      1192 non-null float64\n",
      "rating          1256 non-null object\n",
      "dtypes: float64(7), object(4), period[A-DEC](1)\n",
      "memory usage: 226.8+ KB\n"
     ]
    }
   ],
   "source": [
    "# поэтому обрезаю таблицу и убераю всё что было до 2013 года\n",
    "df1 = df.query('year >= 2013')\n",
    "df1.info()"
   ]
  },
  {
   "cell_type": "markdown",
   "metadata": {},
   "source": [
    "### Продажи по платформам\n",
    "<a name=\"3.2\"></a><br/>"
   ]
  },
  {
   "cell_type": "markdown",
   "metadata": {},
   "source": [
    "Выбираю платформы с наибольшими суммарными продажами за весь период"
   ]
  },
  {
   "cell_type": "code",
   "execution_count": 29,
   "metadata": {},
   "outputs": [
    {
     "data": {
      "image/png": "[encoded data removed]",
      "text/plain": [
       "<Figure size 1080x648 with 1 Axes>"
      ]
     },
     "metadata": {
      "needs_background": "light"
     },
     "output_type": "display_data"
    }
   ],
   "source": [
    "df.pivot_table(index = 'platform', values = 'world', aggfunc = 'sum').sort_values(by = 'world',ascending = False).plot(kind = 'bar', figsize = (15, 9)).set_title('Количество выпущенных игр по годам')\n",
    "plt.ylabel('Количество игр')\n",
    "plt.xlabel('Год')\n",
    "plt.show()"
   ]
  },
  {
   "cell_type": "markdown",
   "metadata": {},
   "source": [
    "Выбираю платформы с наибольшими суммарными продажами за последние 10 лет"
   ]
  },
  {
   "cell_type": "code",
   "execution_count": 30,
   "metadata": {},
   "outputs": [
    {
     "data": {
      "image/png": "[encoded data removed]",
      "text/plain": [
       "<Figure size 1080x648 with 1 Axes>"
      ]
     },
     "metadata": {
      "needs_background": "light"
     },
     "output_type": "display_data"
    }
   ],
   "source": [
    "# строю график засисимости продажи игры от консоли\n",
    "df1.pivot_table(index = 'platform', values = 'world', aggfunc = 'sum').sort_values(by = 'world',ascending = False).plot(kind = 'bar', figsize = (15, 9)).set_title('Количество игр от консоли')\n",
    "plt.ylabel('Количество игр')\n",
    "plt.xlabel('Год')\n",
    "plt.show()"
   ]
  },
  {
   "cell_type": "markdown",
   "metadata": {},
   "source": [
    "Наиболее доходными за последние 5 лет являются PS3, X360, PS4, 3DS и XOne."
   ]
  },
  {
   "cell_type": "code",
   "execution_count": 31,
   "metadata": {},
   "outputs": [
    {
     "data": {
      "text/html": [
       "<div>\n",
       "<style scoped>\n",
       "    .dataframe tbody tr th:only-of-type {\n",
       "        vertical-align: middle;\n",
       "    }\n",
       "\n",
       "    .dataframe tbody tr th {\n",
       "        vertical-align: top;\n",
       "    }\n",
       "\n",
       "    .dataframe thead th {\n",
       "        text-align: right;\n",
       "    }\n",
       "</style>\n",
       "<table border=\"1\" class=\"dataframe\">\n",
       "  <thead>\n",
       "    <tr style=\"text-align: right;\">\n",
       "      <th></th>\n",
       "      <th>year</th>\n",
       "      <th>platform</th>\n",
       "      <th>world</th>\n",
       "    </tr>\n",
       "  </thead>\n",
       "  <tbody>\n",
       "    <tr>\n",
       "      <td>0</td>\n",
       "      <td>2013</td>\n",
       "      <td>3DS</td>\n",
       "      <td>56.57</td>\n",
       "    </tr>\n",
       "    <tr>\n",
       "      <td>1</td>\n",
       "      <td>2013</td>\n",
       "      <td>DS</td>\n",
       "      <td>1.54</td>\n",
       "    </tr>\n",
       "    <tr>\n",
       "      <td>2</td>\n",
       "      <td>2013</td>\n",
       "      <td>PC</td>\n",
       "      <td>12.38</td>\n",
       "    </tr>\n",
       "    <tr>\n",
       "      <td>3</td>\n",
       "      <td>2013</td>\n",
       "      <td>PS3</td>\n",
       "      <td>113.25</td>\n",
       "    </tr>\n",
       "    <tr>\n",
       "      <td>4</td>\n",
       "      <td>2013</td>\n",
       "      <td>PS4</td>\n",
       "      <td>25.99</td>\n",
       "    </tr>\n",
       "  </tbody>\n",
       "</table>\n",
       "</div>"
      ],
      "text/plain": [
       "   year platform   world\n",
       "0  2013      3DS   56.57\n",
       "1  2013       DS    1.54\n",
       "2  2013       PC   12.38\n",
       "3  2013      PS3  113.25\n",
       "4  2013      PS4   25.99"
      ]
     },
     "execution_count": 31,
     "metadata": {},
     "output_type": "execute_result"
    }
   ],
   "source": [
    "# делаю сводную таблицу продаж игр по платформам \n",
    "platforms_sales = df1.pivot_table(index=('year', 'platform'), values='world', aggfunc='sum').reset_index()\n",
    "platforms_sales.head()"
   ]
  },
  {
   "cell_type": "code",
   "execution_count": 32,
   "metadata": {},
   "outputs": [
    {
     "data": {
      "text/plain": [
       "Text(0.5, 1.0, 'Динамика объемов продаж игр по платформам за период с 2013')"
      ]
     },
     "execution_count": 32,
     "metadata": {},
     "output_type": "execute_result"
    },
    {
     "data": {
      "image/png": "[encoded data removed]",
      "text/plain": [
       "<Figure size 1224x504 with 1 Axes>"
      ]
     },
     "metadata": {
      "needs_background": "light"
     },
     "output_type": "display_data"
    }
   ],
   "source": [
    "pop_platforms = pd.Series(['X360', 'PS4', '3DS', 'XOne'])\n",
    "ax1 = platforms_sales.query('platform == \"PS3\"').plot(\n",
    "    x='year', y='world', figsize=(17, 7), label='PS3'\n",
    ")\n",
    "for platform in pop_platforms:\n",
    "    platforms_sales.query('platform == @platform').plot(\n",
    "        x='year', y='world', figsize=(17, 7), grid = True , label=platform, ax=ax1\n",
    "    )\n",
    "plt.ylabel('Объем продаж (млн. копий)')\n",
    "plt.xlabel('Год')\n",
    "plt.title('Динамика объемов продаж игр по платформам за период с 2013')"
   ]
  },
  {
   "cell_type": "markdown",
   "metadata": {},
   "source": [
    "Из этого графика понятно только, что на 2016 по продажам лидируют PS4 и XOne и все лидирующие платформы идут на спад."
   ]
  },
  {
   "cell_type": "code",
   "execution_count": 33,
   "metadata": {},
   "outputs": [
    {
     "data": {
      "text/html": [
       "<div>\n",
       "<style scoped>\n",
       "    .dataframe tbody tr th:only-of-type {\n",
       "        vertical-align: middle;\n",
       "    }\n",
       "\n",
       "    .dataframe tbody tr th {\n",
       "        vertical-align: top;\n",
       "    }\n",
       "\n",
       "    .dataframe thead th {\n",
       "        text-align: right;\n",
       "    }\n",
       "</style>\n",
       "<table border=\"1\" class=\"dataframe\">\n",
       "  <thead>\n",
       "    <tr style=\"text-align: right;\">\n",
       "      <th></th>\n",
       "      <th>year</th>\n",
       "      <th>platform</th>\n",
       "      <th>world</th>\n",
       "    </tr>\n",
       "  </thead>\n",
       "  <tbody>\n",
       "    <tr>\n",
       "      <td>0</td>\n",
       "      <td>1980</td>\n",
       "      <td>2600</td>\n",
       "      <td>11.38</td>\n",
       "    </tr>\n",
       "    <tr>\n",
       "      <td>1</td>\n",
       "      <td>1981</td>\n",
       "      <td>2600</td>\n",
       "      <td>35.68</td>\n",
       "    </tr>\n",
       "    <tr>\n",
       "      <td>2</td>\n",
       "      <td>1982</td>\n",
       "      <td>2600</td>\n",
       "      <td>28.88</td>\n",
       "    </tr>\n",
       "    <tr>\n",
       "      <td>3</td>\n",
       "      <td>1983</td>\n",
       "      <td>2600</td>\n",
       "      <td>5.84</td>\n",
       "    </tr>\n",
       "    <tr>\n",
       "      <td>4</td>\n",
       "      <td>1983</td>\n",
       "      <td>NES</td>\n",
       "      <td>10.96</td>\n",
       "    </tr>\n",
       "  </tbody>\n",
       "</table>\n",
       "</div>"
      ],
      "text/plain": [
       "   year platform  world\n",
       "0  1980     2600  11.38\n",
       "1  1981     2600  35.68\n",
       "2  1982     2600  28.88\n",
       "3  1983     2600   5.84\n",
       "4  1983      NES  10.96"
      ]
     },
     "execution_count": 33,
     "metadata": {},
     "output_type": "execute_result"
    }
   ],
   "source": [
    "#смотрю такую же динамику за весь период\n",
    "# делаю сводную таблицу продаж игр по платформам \n",
    "platforms_sales_all = df.pivot_table(index=('year', 'platform'), values='world', aggfunc='sum').reset_index()\n",
    "platforms_sales_all.head()"
   ]
  },
  {
   "cell_type": "code",
   "execution_count": 34,
   "metadata": {},
   "outputs": [
    {
     "data": {
      "text/plain": [
       "Text(0.5, 1.0, 'Динамика объемов продаж по платформам за весь период')"
      ]
     },
     "execution_count": 34,
     "metadata": {},
     "output_type": "execute_result"
    },
    {
     "data": {
      "image/png": "[encoded data removed]",
      "text/plain": [
       "<Figure size 1224x504 with 1 Axes>"
      ]
     },
     "metadata": {
      "needs_background": "light"
     },
     "output_type": "display_data"
    }
   ],
   "source": [
    "pop_platforms = pd.Series(['Wii', 'DS', 'DC', 'PC', 'X360', 'PS4', '3DS', 'XOne'])\n",
    "ax1 = platforms_sales_all.query('platform == \"PS3\"').plot(\n",
    "    x='year', y='world', figsize=(17, 7), label=\"PS3\"\n",
    ")\n",
    "for platform in pop_platforms:\n",
    "    platforms_sales_all.query('platform == @platform').plot(\n",
    "        x='year', y='world', figsize=(17, 7), label=platform, ax=ax1\n",
    "    )\n",
    "plt.ylabel('Объем продаж (млн. копий)')\n",
    "plt.xlabel('Год')\n",
    "plt.title('Динамика объемов продаж по платформам за весь период')"
   ]
  },
  {
   "cell_type": "markdown",
   "metadata": {},
   "source": [
    "По этой динамике можно сказать, что платформы могут жить активно около 3-4 лет выходя на пик и потом идут на спад. Интересно, что PC большую часть периода не выделяется большим объемом продаж, но живет дольше всех платформ. Может быть это очевидно или я ошибаюсь, но логично ждать очередную пару консолей, которая начнет резко расти в 2017 году. На данный момент наиболее перспективными являются PS4 и XOne."
   ]
  },
  {
   "cell_type": "markdown",
   "metadata": {},
   "source": [
    "### Ящик с усами\n",
    "<a name=\"3.3\"></a><br/>"
   ]
  },
  {
   "cell_type": "code",
   "execution_count": 35,
   "metadata": {},
   "outputs": [
    {
     "data": {
      "text/plain": [
       "Text(0.5, 1.0, 'Распределение объемов продаж отдельных игр по платформам')"
      ]
     },
     "execution_count": 35,
     "metadata": {},
     "output_type": "execute_result"
    },
    {
     "data": {
      "image/png": "[encoded data removed]",
      "text/plain": [
       "<Figure size 1080x360 with 1 Axes>"
      ]
     },
     "metadata": {
      "needs_background": "light"
     },
     "output_type": "display_data"
    }
   ],
   "source": [
    "df1.boxplot(column='world', by='platform', figsize=(15,5))\n",
    "plt.ylabel('Объем продаж (млн. копий)')\n",
    "plt.xlabel('Платформа')\n",
    "plt.title('Распределение объемов продаж отдельных игр по платформам')"
   ]
  },
  {
   "cell_type": "markdown",
   "metadata": {},
   "source": [
    "Здесь видно интересную вещь: игры на предыдущие поколение имеею более хорошие продажи(PS3,X360,Wii). Возможно, это связано с тем, что новые платформы не показали весь свой потенциал."
   ]
  },
  {
   "cell_type": "markdown",
   "metadata": {},
   "source": [
    "### Оценки пользователей и критиков \n",
    "<a name=\"3.4\"></a><br/>"
   ]
  },
  {
   "cell_type": "markdown",
   "metadata": {},
   "source": [
    "PS4"
   ]
  },
  {
   "cell_type": "code",
   "execution_count": 36,
   "metadata": {},
   "outputs": [
    {
     "data": {
      "text/html": [
       "<div>\n",
       "<style scoped>\n",
       "    .dataframe tbody tr th:only-of-type {\n",
       "        vertical-align: middle;\n",
       "    }\n",
       "\n",
       "    .dataframe tbody tr th {\n",
       "        vertical-align: top;\n",
       "    }\n",
       "\n",
       "    .dataframe thead th {\n",
       "        text-align: right;\n",
       "    }\n",
       "</style>\n",
       "<table border=\"1\" class=\"dataframe\">\n",
       "  <thead>\n",
       "    <tr style=\"text-align: right;\">\n",
       "      <th></th>\n",
       "      <th>user_score</th>\n",
       "      <th>critic_score</th>\n",
       "      <th>world</th>\n",
       "    </tr>\n",
       "  </thead>\n",
       "  <tbody>\n",
       "    <tr>\n",
       "      <td>user_score</td>\n",
       "      <td>1.000000</td>\n",
       "      <td>0.557654</td>\n",
       "      <td>-0.031957</td>\n",
       "    </tr>\n",
       "    <tr>\n",
       "      <td>critic_score</td>\n",
       "      <td>0.557654</td>\n",
       "      <td>1.000000</td>\n",
       "      <td>0.406568</td>\n",
       "    </tr>\n",
       "    <tr>\n",
       "      <td>world</td>\n",
       "      <td>-0.031957</td>\n",
       "      <td>0.406568</td>\n",
       "      <td>1.000000</td>\n",
       "    </tr>\n",
       "  </tbody>\n",
       "</table>\n",
       "</div>"
      ],
      "text/plain": [
       "              user_score  critic_score     world\n",
       "user_score      1.000000      0.557654 -0.031957\n",
       "critic_score    0.557654      1.000000  0.406568\n",
       "world          -0.031957      0.406568  1.000000"
      ]
     },
     "execution_count": 36,
     "metadata": {},
     "output_type": "execute_result"
    }
   ],
   "source": [
    "# смотррю корреляцию\n",
    "columns = ['user_score', 'critic_score', 'world']\n",
    "PS4 = df.query('platform == \"PS4\"')\n",
    "PS4[columns].corr()"
   ]
  },
  {
   "cell_type": "code",
   "execution_count": 37,
   "metadata": {},
   "outputs": [
    {
     "data": {
      "text/plain": [
       "<matplotlib.axes._subplots.AxesSubplot at 0x7f79af690350>"
      ]
     },
     "execution_count": 37,
     "metadata": {},
     "output_type": "execute_result"
    },
    {
     "data": {
      "image/png": "[encoded data removed]",
      "text/plain": [
       "<Figure size 720x432 with 1 Axes>"
      ]
     },
     "metadata": {
      "needs_background": "light"
     },
     "output_type": "display_data"
    }
   ],
   "source": [
    "# график PS4 по критикам\n",
    "PS4 = df[(df['platform'] == 'PS4') & (df['critic_score'] > 0)].copy()\n",
    "PS4.plot(kind='scatter', x='critic_score', y='world', figsize=(10,6))"
   ]
  },
  {
   "cell_type": "code",
   "execution_count": 38,
   "metadata": {},
   "outputs": [
    {
     "data": {
      "text/plain": [
       "<matplotlib.axes._subplots.AxesSubplot at 0x7f79af60cc50>"
      ]
     },
     "execution_count": 38,
     "metadata": {},
     "output_type": "execute_result"
    },
    {
     "data": {
      "image/png": "[encoded data removed]",
      "text/plain": [
       "<Figure size 720x432 with 1 Axes>"
      ]
     },
     "metadata": {
      "needs_background": "light"
     },
     "output_type": "display_data"
    }
   ],
   "source": [
    "# график PS4 по пользователям\n",
    "PS4 = df[(df['platform'] == 'PS4') & (df['user_score'] > 0)].copy()\n",
    "PS4.plot(kind='scatter', x='user_score', y='world', figsize=(10,6))"
   ]
  },
  {
   "cell_type": "code",
   "execution_count": 39,
   "metadata": {},
   "outputs": [
    {
     "data": {
      "text/html": [
       "<div>\n",
       "<style scoped>\n",
       "    .dataframe tbody tr th:only-of-type {\n",
       "        vertical-align: middle;\n",
       "    }\n",
       "\n",
       "    .dataframe tbody tr th {\n",
       "        vertical-align: top;\n",
       "    }\n",
       "\n",
       "    .dataframe thead th {\n",
       "        text-align: right;\n",
       "    }\n",
       "</style>\n",
       "<table border=\"1\" class=\"dataframe\">\n",
       "  <thead>\n",
       "    <tr style=\"text-align: right;\">\n",
       "      <th></th>\n",
       "      <th>user_score</th>\n",
       "      <th>critic_score</th>\n",
       "      <th>world</th>\n",
       "    </tr>\n",
       "  </thead>\n",
       "  <tbody>\n",
       "    <tr>\n",
       "      <td>user_score</td>\n",
       "      <td>1.000000</td>\n",
       "      <td>0.472462</td>\n",
       "      <td>-0.068925</td>\n",
       "    </tr>\n",
       "    <tr>\n",
       "      <td>critic_score</td>\n",
       "      <td>0.472462</td>\n",
       "      <td>1.000000</td>\n",
       "      <td>0.416998</td>\n",
       "    </tr>\n",
       "    <tr>\n",
       "      <td>world</td>\n",
       "      <td>-0.068925</td>\n",
       "      <td>0.416998</td>\n",
       "      <td>1.000000</td>\n",
       "    </tr>\n",
       "  </tbody>\n",
       "</table>\n",
       "</div>"
      ],
      "text/plain": [
       "              user_score  critic_score     world\n",
       "user_score      1.000000      0.472462 -0.068925\n",
       "critic_score    0.472462      1.000000  0.416998\n",
       "world          -0.068925      0.416998  1.000000"
      ]
     },
     "execution_count": 39,
     "metadata": {},
     "output_type": "execute_result"
    }
   ],
   "source": [
    "XOne = df.query('platform == \"XOne\"')\n",
    "XOne[columns].corr()"
   ]
  },
  {
   "cell_type": "code",
   "execution_count": 40,
   "metadata": {},
   "outputs": [
    {
     "data": {
      "text/plain": [
       "<matplotlib.axes._subplots.AxesSubplot at 0x7f79aecc0250>"
      ]
     },
     "execution_count": 40,
     "metadata": {},
     "output_type": "execute_result"
    },
    {
     "data": {
      "image/png": "[encoded data removed]",
      "text/plain": [
       "<Figure size 720x432 with 1 Axes>"
      ]
     },
     "metadata": {
      "needs_background": "light"
     },
     "output_type": "display_data"
    }
   ],
   "source": [
    "#график XOne по критикам\n",
    "XOne = df[(df['platform'] == 'XOne') & (df['critic_score'] > 0)].copy()\n",
    "XOne.plot(kind='scatter', x='critic_score', y='world', figsize=(10,6))"
   ]
  },
  {
   "cell_type": "code",
   "execution_count": 41,
   "metadata": {},
   "outputs": [
    {
     "data": {
      "text/plain": [
       "<matplotlib.axes._subplots.AxesSubplot at 0x7f79aeca8710>"
      ]
     },
     "execution_count": 41,
     "metadata": {},
     "output_type": "execute_result"
    },
    {
     "data": {
      "image/png": "[encoded data removed]",
      "text/plain": [
       "<Figure size 720x432 with 1 Axes>"
      ]
     },
     "metadata": {
      "needs_background": "light"
     },
     "output_type": "display_data"
    }
   ],
   "source": [
    "#график XOne по пользователям\n",
    "XOne = df[(df['platform'] == 'XOne') & (df['user_score'] > 0)].copy()\n",
    "XOne.plot(kind='scatter', x='user_score', y='world', figsize=(10,6))"
   ]
  },
  {
   "cell_type": "markdown",
   "metadata": {},
   "source": [
    "WiiU"
   ]
  },
  {
   "cell_type": "code",
   "execution_count": 42,
   "metadata": {},
   "outputs": [
    {
     "data": {
      "text/html": [
       "<div>\n",
       "<style scoped>\n",
       "    .dataframe tbody tr th:only-of-type {\n",
       "        vertical-align: middle;\n",
       "    }\n",
       "\n",
       "    .dataframe tbody tr th {\n",
       "        vertical-align: top;\n",
       "    }\n",
       "\n",
       "    .dataframe thead th {\n",
       "        text-align: right;\n",
       "    }\n",
       "</style>\n",
       "<table border=\"1\" class=\"dataframe\">\n",
       "  <thead>\n",
       "    <tr style=\"text-align: right;\">\n",
       "      <th></th>\n",
       "      <th>user_score</th>\n",
       "      <th>critic_score</th>\n",
       "      <th>world</th>\n",
       "    </tr>\n",
       "  </thead>\n",
       "  <tbody>\n",
       "    <tr>\n",
       "      <td>user_score</td>\n",
       "      <td>1.000000</td>\n",
       "      <td>0.77008</td>\n",
       "      <td>0.400219</td>\n",
       "    </tr>\n",
       "    <tr>\n",
       "      <td>critic_score</td>\n",
       "      <td>0.770080</td>\n",
       "      <td>1.00000</td>\n",
       "      <td>0.348380</td>\n",
       "    </tr>\n",
       "    <tr>\n",
       "      <td>world</td>\n",
       "      <td>0.400219</td>\n",
       "      <td>0.34838</td>\n",
       "      <td>1.000000</td>\n",
       "    </tr>\n",
       "  </tbody>\n",
       "</table>\n",
       "</div>"
      ],
      "text/plain": [
       "              user_score  critic_score     world\n",
       "user_score      1.000000       0.77008  0.400219\n",
       "critic_score    0.770080       1.00000  0.348380\n",
       "world           0.400219       0.34838  1.000000"
      ]
     },
     "execution_count": 42,
     "metadata": {},
     "output_type": "execute_result"
    }
   ],
   "source": [
    "WiiU = df.query('platform == \"WiiU\"')\n",
    "WiiU[columns].corr()"
   ]
  },
  {
   "cell_type": "code",
   "execution_count": 43,
   "metadata": {},
   "outputs": [
    {
     "data": {
      "text/plain": [
       "<matplotlib.axes._subplots.AxesSubplot at 0x7f79aebb8250>"
      ]
     },
     "execution_count": 43,
     "metadata": {},
     "output_type": "execute_result"
    },
    {
     "data": {
      "image/png": "[encoded data removed]",
      "text/plain": [
       "<Figure size 720x432 with 1 Axes>"
      ]
     },
     "metadata": {
      "needs_background": "light"
     },
     "output_type": "display_data"
    }
   ],
   "source": [
    "#график WiiU по пользователям\n",
    "Wii = df[(df['platform'] == 'WiiU') & (df['user_score'] > 0)].copy()\n",
    "Wii.plot(kind='scatter', x='user_score', y='world', figsize=(10,6))"
   ]
  },
  {
   "cell_type": "code",
   "execution_count": 44,
   "metadata": {},
   "outputs": [
    {
     "data": {
      "text/plain": [
       "<matplotlib.axes._subplots.AxesSubplot at 0x7f79aeb33cd0>"
      ]
     },
     "execution_count": 44,
     "metadata": {},
     "output_type": "execute_result"
    },
    {
     "data": {
      "image/png": "[encoded data removed]",
      "text/plain": [
       "<Figure size 720x432 with 1 Axes>"
      ]
     },
     "metadata": {
      "needs_background": "light"
     },
     "output_type": "display_data"
    }
   ],
   "source": [
    "#график WiiU по критикам\n",
    "WiiU = df[(df['platform'] == 'WiiU') & (df['critic_score'] > 0)].copy()\n",
    "WiiU.plot(kind='scatter', x='critic_score', y='world', figsize=(10,6))"
   ]
  },
  {
   "cell_type": "markdown",
   "metadata": {},
   "source": [
    "Из этих графиков и корреляции можно сделать вывод, что оценки критиков действительно влияют на продажи игр. Если оценка критиков выше 70 это определённо успешная игра. С PS4 и XOne на продажи игры не влияют оценки пользователей, игра может быть продаваться хорошо, но оценки будут плохие, но это не касается WiiU. Так что лучше ориентироваться на оценки критиков. "
   ]
  },
  {
   "cell_type": "markdown",
   "metadata": {},
   "source": [
    "### Распределение игр по жанрам\n",
    "<a name=\"3.5\"></a><br/>"
   ]
  },
  {
   "cell_type": "code",
   "execution_count": 45,
   "metadata": {},
   "outputs": [
    {
     "data": {
      "image/png": "[encoded data removed]",
      "text/plain": [
       "<Figure size 1080x360 with 1 Axes>"
      ]
     },
     "metadata": {
      "needs_background": "light"
     },
     "output_type": "display_data"
    }
   ],
   "source": [
    "# строю график на котором отобразятся общие количество игр по жанрам и сколько денег они принесли\n",
    "ax = plt.gca()\n",
    "\n",
    "pivot = df1.groupby('genre').agg({'game': 'count', 'world': 'sum'}).sort_values(by='game', ascending=False)\n",
    "\n",
    "plot1 = pivot['game']\n",
    "plot1.plot(kind='bar', figsize=(15,5), ec='black', ax=ax, width=0.2, color='darkmagenta', position=1)\n",
    "\n",
    "plot2 = pivot['world']\n",
    "plot2.plot(kind='bar', figsize=(15,5), ec='black', ax=ax, width=0.2, color='crimson', position=0)\n",
    "\n",
    "ax.legend(['Количество продаж', 'Общая сумма продаж'])\n",
    "plt.show()"
   ]
  },
  {
   "cell_type": "markdown",
   "metadata": {},
   "source": [
    "Здесь видно, что количество игр влияет на выручку не на прямую. Игр жанра shooter в три раза меньше, чем Action, но денег приносит сопостовимо. Жанры Role_Playing и Sport почти одинаковы в обоих показателях. Я бы в первую очередь отдавал предпочтение шутерам, спортивным, ролевым и экшен играм так как они наибольшее количество денег."
   ]
  },
  {
   "cell_type": "markdown",
   "metadata": {},
   "source": [
    "Вывод:\n",
    "<a name=\"3.6\"></a><br/>"
   ]
  },
  {
   "cell_type": "markdown",
   "metadata": {},
   "source": [
    "На популярность игры много факторов: \n",
    "    * оценки критиков\n",
    "    * жанр\n",
    "    * платформа\n",
    "Не влияют:\n",
    "    * оценки пользователей "
   ]
  },
  {
   "cell_type": "markdown",
   "metadata": {},
   "source": [
    "## Портреты пользователей каждого региона\n",
    "<a name=\"5.\"></a><br/>\n",
    "[<font size=\"2\">(к содержанию)</font>](#to_content.)"
   ]
  },
  {
   "cell_type": "markdown",
   "metadata": {},
   "source": [
    "### Самые популярные платформы \n",
    "<a name=\"5.1\"></a><br/>"
   ]
  },
  {
   "cell_type": "markdown",
   "metadata": {},
   "source": [
    "North America"
   ]
  },
  {
   "cell_type": "code",
   "execution_count": 46,
   "metadata": {},
   "outputs": [],
   "source": [
    "North_America = df1.pivot_table(index='platform', values='na', aggfunc='sum')\n"
   ]
  },
  {
   "cell_type": "code",
   "execution_count": 47,
   "metadata": {},
   "outputs": [],
   "source": [
    "North_America = North_America.sort_values(by=\"na\", ascending=False).reset_index()\n"
   ]
  },
  {
   "cell_type": "code",
   "execution_count": 48,
   "metadata": {},
   "outputs": [
    {
     "name": "stdout",
     "output_type": "stream",
     "text": [
      "Топ 5 платформ Северной Америки:\n"
     ]
    },
    {
     "data": {
      "text/html": [
       "<div>\n",
       "<style scoped>\n",
       "    .dataframe tbody tr th:only-of-type {\n",
       "        vertical-align: middle;\n",
       "    }\n",
       "\n",
       "    .dataframe tbody tr th {\n",
       "        vertical-align: top;\n",
       "    }\n",
       "\n",
       "    .dataframe thead th {\n",
       "        text-align: right;\n",
       "    }\n",
       "</style>\n",
       "<table border=\"1\" class=\"dataframe\">\n",
       "  <thead>\n",
       "    <tr style=\"text-align: right;\">\n",
       "      <th></th>\n",
       "      <th>platform</th>\n",
       "      <th>na</th>\n",
       "      <th>procent</th>\n",
       "    </tr>\n",
       "  </thead>\n",
       "  <tbody>\n",
       "    <tr>\n",
       "      <td>0</td>\n",
       "      <td>PS4</td>\n",
       "      <td>108.74</td>\n",
       "      <td>24.8</td>\n",
       "    </tr>\n",
       "    <tr>\n",
       "      <td>1</td>\n",
       "      <td>XOne</td>\n",
       "      <td>93.12</td>\n",
       "      <td>21.3</td>\n",
       "    </tr>\n",
       "    <tr>\n",
       "      <td>2</td>\n",
       "      <td>X360</td>\n",
       "      <td>81.66</td>\n",
       "      <td>18.7</td>\n",
       "    </tr>\n",
       "    <tr>\n",
       "      <td>3</td>\n",
       "      <td>PS3</td>\n",
       "      <td>63.50</td>\n",
       "      <td>14.5</td>\n",
       "    </tr>\n",
       "    <tr>\n",
       "      <td>4</td>\n",
       "      <td>3DS</td>\n",
       "      <td>38.20</td>\n",
       "      <td>8.7</td>\n",
       "    </tr>\n",
       "  </tbody>\n",
       "</table>\n",
       "</div>"
      ],
      "text/plain": [
       "  platform      na  procent\n",
       "0      PS4  108.74     24.8\n",
       "1     XOne   93.12     21.3\n",
       "2     X360   81.66     18.7\n",
       "3      PS3   63.50     14.5\n",
       "4      3DS   38.20      8.7"
      ]
     },
     "metadata": {},
     "output_type": "display_data"
    }
   ],
   "source": [
    "# делаю колонку с долей продаж\n",
    "North_America_sales_sum = North_America['na'].sum()\n",
    "North_America['procent'] = (North_America['na'] / North_America_sales_sum * 100).round(1)\n",
    "print(\"Топ 5 платформ Северной Америки:\")\n",
    "display(North_America.head(5))"
   ]
  },
  {
   "cell_type": "markdown",
   "metadata": {},
   "source": [
    "Japan"
   ]
  },
  {
   "cell_type": "code",
   "execution_count": 49,
   "metadata": {},
   "outputs": [],
   "source": [
    "Japan = df1.pivot_table(index='platform', values='jp', aggfunc='sum')"
   ]
  },
  {
   "cell_type": "code",
   "execution_count": 50,
   "metadata": {},
   "outputs": [],
   "source": [
    "Japan = Japan.sort_values(by=\"jp\", ascending=False).reset_index()\n"
   ]
  },
  {
   "cell_type": "code",
   "execution_count": 51,
   "metadata": {},
   "outputs": [
    {
     "name": "stdout",
     "output_type": "stream",
     "text": [
      "Топ 5 платформ Японии:\n"
     ]
    },
    {
     "data": {
      "text/html": [
       "<div>\n",
       "<style scoped>\n",
       "    .dataframe tbody tr th:only-of-type {\n",
       "        vertical-align: middle;\n",
       "    }\n",
       "\n",
       "    .dataframe tbody tr th {\n",
       "        vertical-align: top;\n",
       "    }\n",
       "\n",
       "    .dataframe thead th {\n",
       "        text-align: right;\n",
       "    }\n",
       "</style>\n",
       "<table border=\"1\" class=\"dataframe\">\n",
       "  <thead>\n",
       "    <tr style=\"text-align: right;\">\n",
       "      <th></th>\n",
       "      <th>platform</th>\n",
       "      <th>jp</th>\n",
       "      <th>procent</th>\n",
       "    </tr>\n",
       "  </thead>\n",
       "  <tbody>\n",
       "    <tr>\n",
       "      <td>0</td>\n",
       "      <td>3DS</td>\n",
       "      <td>67.81</td>\n",
       "      <td>48.2</td>\n",
       "    </tr>\n",
       "    <tr>\n",
       "      <td>1</td>\n",
       "      <td>PS3</td>\n",
       "      <td>23.35</td>\n",
       "      <td>16.6</td>\n",
       "    </tr>\n",
       "    <tr>\n",
       "      <td>2</td>\n",
       "      <td>PSV</td>\n",
       "      <td>18.59</td>\n",
       "      <td>13.2</td>\n",
       "    </tr>\n",
       "    <tr>\n",
       "      <td>3</td>\n",
       "      <td>PS4</td>\n",
       "      <td>15.96</td>\n",
       "      <td>11.3</td>\n",
       "    </tr>\n",
       "    <tr>\n",
       "      <td>4</td>\n",
       "      <td>WiiU</td>\n",
       "      <td>10.88</td>\n",
       "      <td>7.7</td>\n",
       "    </tr>\n",
       "  </tbody>\n",
       "</table>\n",
       "</div>"
      ],
      "text/plain": [
       "  platform     jp  procent\n",
       "0      3DS  67.81     48.2\n",
       "1      PS3  23.35     16.6\n",
       "2      PSV  18.59     13.2\n",
       "3      PS4  15.96     11.3\n",
       "4     WiiU  10.88      7.7"
      ]
     },
     "metadata": {},
     "output_type": "display_data"
    }
   ],
   "source": [
    "Japan_sales_sum = Japan['jp'].sum()\n",
    "Japan['procent'] = (Japan['jp'] / Japan_sales_sum * 100).round(1)\n",
    "print(\"Топ 5 платформ Японии:\")\n",
    "display(Japan.head(5))"
   ]
  },
  {
   "cell_type": "markdown",
   "metadata": {},
   "source": [
    "Europe"
   ]
  },
  {
   "cell_type": "code",
   "execution_count": 52,
   "metadata": {},
   "outputs": [],
   "source": [
    "Europe = df1.pivot_table(index='platform', values='eu', aggfunc='sum')"
   ]
  },
  {
   "cell_type": "code",
   "execution_count": 53,
   "metadata": {},
   "outputs": [],
   "source": [
    "Europe = Europe.sort_values(by=\"eu\", ascending=False).reset_index()"
   ]
  },
  {
   "cell_type": "code",
   "execution_count": 54,
   "metadata": {},
   "outputs": [
    {
     "name": "stdout",
     "output_type": "stream",
     "text": [
      "Топ 5 платформ Европы:\n"
     ]
    },
    {
     "data": {
      "text/html": [
       "<div>\n",
       "<style scoped>\n",
       "    .dataframe tbody tr th:only-of-type {\n",
       "        vertical-align: middle;\n",
       "    }\n",
       "\n",
       "    .dataframe tbody tr th {\n",
       "        vertical-align: top;\n",
       "    }\n",
       "\n",
       "    .dataframe thead th {\n",
       "        text-align: right;\n",
       "    }\n",
       "</style>\n",
       "<table border=\"1\" class=\"dataframe\">\n",
       "  <thead>\n",
       "    <tr style=\"text-align: right;\">\n",
       "      <th></th>\n",
       "      <th>platform</th>\n",
       "      <th>eu</th>\n",
       "      <th>procent</th>\n",
       "    </tr>\n",
       "  </thead>\n",
       "  <tbody>\n",
       "    <tr>\n",
       "      <td>0</td>\n",
       "      <td>PS4</td>\n",
       "      <td>141.09</td>\n",
       "      <td>36.0</td>\n",
       "    </tr>\n",
       "    <tr>\n",
       "      <td>1</td>\n",
       "      <td>PS3</td>\n",
       "      <td>67.81</td>\n",
       "      <td>17.3</td>\n",
       "    </tr>\n",
       "    <tr>\n",
       "      <td>2</td>\n",
       "      <td>XOne</td>\n",
       "      <td>51.59</td>\n",
       "      <td>13.2</td>\n",
       "    </tr>\n",
       "    <tr>\n",
       "      <td>3</td>\n",
       "      <td>X360</td>\n",
       "      <td>42.52</td>\n",
       "      <td>10.8</td>\n",
       "    </tr>\n",
       "    <tr>\n",
       "      <td>4</td>\n",
       "      <td>3DS</td>\n",
       "      <td>30.96</td>\n",
       "      <td>7.9</td>\n",
       "    </tr>\n",
       "  </tbody>\n",
       "</table>\n",
       "</div>"
      ],
      "text/plain": [
       "  platform      eu  procent\n",
       "0      PS4  141.09     36.0\n",
       "1      PS3   67.81     17.3\n",
       "2     XOne   51.59     13.2\n",
       "3     X360   42.52     10.8\n",
       "4      3DS   30.96      7.9"
      ]
     },
     "metadata": {},
     "output_type": "display_data"
    }
   ],
   "source": [
    "Europe_sales_sum = Europe['eu'].sum()\n",
    "Europe['procent'] = (Europe['eu'] / Europe_sales_sum * 100).round(1)\n",
    "print(\"Топ 5 платформ Европы:\")\n",
    "display(Europe.head(5))"
   ]
  },
  {
   "cell_type": "markdown",
   "metadata": {},
   "source": [
    "### Самые популярные жанры\n",
    "<a name=\"5.2\"></a><br/>"
   ]
  },
  {
   "cell_type": "markdown",
   "metadata": {},
   "source": [
    "North_America"
   ]
  },
  {
   "cell_type": "code",
   "execution_count": 55,
   "metadata": {},
   "outputs": [],
   "source": [
    "North_America_by_genre = df1.pivot_table(index='genre', values='na', aggfunc='sum').sort_values(by='na', ascending=False).reset_index()"
   ]
  },
  {
   "cell_type": "code",
   "execution_count": 56,
   "metadata": {},
   "outputs": [
    {
     "name": "stdout",
     "output_type": "stream",
     "text": [
      "Топ 5 жанров Северной Америки:\n"
     ]
    },
    {
     "data": {
      "text/html": [
       "<div>\n",
       "<style scoped>\n",
       "    .dataframe tbody tr th:only-of-type {\n",
       "        vertical-align: middle;\n",
       "    }\n",
       "\n",
       "    .dataframe tbody tr th {\n",
       "        vertical-align: top;\n",
       "    }\n",
       "\n",
       "    .dataframe thead th {\n",
       "        text-align: right;\n",
       "    }\n",
       "</style>\n",
       "<table border=\"1\" class=\"dataframe\">\n",
       "  <thead>\n",
       "    <tr style=\"text-align: right;\">\n",
       "      <th></th>\n",
       "      <th>genre</th>\n",
       "      <th>na</th>\n",
       "      <th>procent</th>\n",
       "    </tr>\n",
       "  </thead>\n",
       "  <tbody>\n",
       "    <tr>\n",
       "      <td>0</td>\n",
       "      <td>Action</td>\n",
       "      <td>126.05</td>\n",
       "      <td>28.8</td>\n",
       "    </tr>\n",
       "    <tr>\n",
       "      <td>1</td>\n",
       "      <td>Shooter</td>\n",
       "      <td>109.74</td>\n",
       "      <td>25.1</td>\n",
       "    </tr>\n",
       "    <tr>\n",
       "      <td>2</td>\n",
       "      <td>Sports</td>\n",
       "      <td>65.27</td>\n",
       "      <td>14.9</td>\n",
       "    </tr>\n",
       "    <tr>\n",
       "      <td>3</td>\n",
       "      <td>Role-Playing</td>\n",
       "      <td>46.40</td>\n",
       "      <td>10.6</td>\n",
       "    </tr>\n",
       "    <tr>\n",
       "      <td>4</td>\n",
       "      <td>Misc</td>\n",
       "      <td>27.49</td>\n",
       "      <td>6.3</td>\n",
       "    </tr>\n",
       "  </tbody>\n",
       "</table>\n",
       "</div>"
      ],
      "text/plain": [
       "          genre      na  procent\n",
       "0        Action  126.05     28.8\n",
       "1       Shooter  109.74     25.1\n",
       "2        Sports   65.27     14.9\n",
       "3  Role-Playing   46.40     10.6\n",
       "4          Misc   27.49      6.3"
      ]
     },
     "metadata": {},
     "output_type": "display_data"
    }
   ],
   "source": [
    "North_America_sales_sum = North_America_by_genre['na'].sum()\n",
    "North_America_by_genre['procent'] = (North_America_by_genre['na'] / North_America_sales_sum * 100).round(1)\n",
    "print('Топ 5 жанров Северной Америки:')\n",
    "display(North_America_by_genre.head(5))\n"
   ]
  },
  {
   "cell_type": "markdown",
   "metadata": {},
   "source": [
    "Japan"
   ]
  },
  {
   "cell_type": "code",
   "execution_count": 57,
   "metadata": {},
   "outputs": [],
   "source": [
    "Japan_by_genre = df1.pivot_table(index='genre', values='jp', aggfunc='sum').sort_values(by='jp', ascending=False).reset_index()"
   ]
  },
  {
   "cell_type": "code",
   "execution_count": 58,
   "metadata": {},
   "outputs": [
    {
     "name": "stdout",
     "output_type": "stream",
     "text": [
      "Топ 5 жанров Японии:\n"
     ]
    },
    {
     "data": {
      "text/html": [
       "<div>\n",
       "<style scoped>\n",
       "    .dataframe tbody tr th:only-of-type {\n",
       "        vertical-align: middle;\n",
       "    }\n",
       "\n",
       "    .dataframe tbody tr th {\n",
       "        vertical-align: top;\n",
       "    }\n",
       "\n",
       "    .dataframe thead th {\n",
       "        text-align: right;\n",
       "    }\n",
       "</style>\n",
       "<table border=\"1\" class=\"dataframe\">\n",
       "  <thead>\n",
       "    <tr style=\"text-align: right;\">\n",
       "      <th></th>\n",
       "      <th>genre</th>\n",
       "      <th>jp</th>\n",
       "      <th>procent</th>\n",
       "    </tr>\n",
       "  </thead>\n",
       "  <tbody>\n",
       "    <tr>\n",
       "      <td>0</td>\n",
       "      <td>Role-Playing</td>\n",
       "      <td>51.04</td>\n",
       "      <td>36.3</td>\n",
       "    </tr>\n",
       "    <tr>\n",
       "      <td>1</td>\n",
       "      <td>Action</td>\n",
       "      <td>40.49</td>\n",
       "      <td>28.8</td>\n",
       "    </tr>\n",
       "    <tr>\n",
       "      <td>2</td>\n",
       "      <td>Misc</td>\n",
       "      <td>9.20</td>\n",
       "      <td>6.5</td>\n",
       "    </tr>\n",
       "    <tr>\n",
       "      <td>3</td>\n",
       "      <td>Fighting</td>\n",
       "      <td>7.65</td>\n",
       "      <td>5.4</td>\n",
       "    </tr>\n",
       "    <tr>\n",
       "      <td>4</td>\n",
       "      <td>Shooter</td>\n",
       "      <td>6.61</td>\n",
       "      <td>4.7</td>\n",
       "    </tr>\n",
       "  </tbody>\n",
       "</table>\n",
       "</div>"
      ],
      "text/plain": [
       "          genre     jp  procent\n",
       "0  Role-Playing  51.04     36.3\n",
       "1        Action  40.49     28.8\n",
       "2          Misc   9.20      6.5\n",
       "3      Fighting   7.65      5.4\n",
       "4       Shooter   6.61      4.7"
      ]
     },
     "metadata": {},
     "output_type": "display_data"
    }
   ],
   "source": [
    "Japan_sales_sum = Japan_by_genre['jp'].sum()\n",
    "Japan_by_genre['procent'] = (Japan_by_genre['jp'] / Japan_sales_sum * 100).round(1)\n",
    "print('Топ 5 жанров Японии:')\n",
    "display(Japan_by_genre.head(5))\n"
   ]
  },
  {
   "cell_type": "markdown",
   "metadata": {},
   "source": [
    "Europe"
   ]
  },
  {
   "cell_type": "code",
   "execution_count": 59,
   "metadata": {},
   "outputs": [],
   "source": [
    "Europe_by_genre = df1.pivot_table(index='genre', values='eu', aggfunc='sum').sort_values(by='eu', ascending=False).reset_index()"
   ]
  },
  {
   "cell_type": "code",
   "execution_count": 60,
   "metadata": {},
   "outputs": [
    {
     "name": "stdout",
     "output_type": "stream",
     "text": [
      "Топ 5 жанров Европы:\n"
     ]
    },
    {
     "data": {
      "text/html": [
       "<div>\n",
       "<style scoped>\n",
       "    .dataframe tbody tr th:only-of-type {\n",
       "        vertical-align: middle;\n",
       "    }\n",
       "\n",
       "    .dataframe tbody tr th {\n",
       "        vertical-align: top;\n",
       "    }\n",
       "\n",
       "    .dataframe thead th {\n",
       "        text-align: right;\n",
       "    }\n",
       "</style>\n",
       "<table border=\"1\" class=\"dataframe\">\n",
       "  <thead>\n",
       "    <tr style=\"text-align: right;\">\n",
       "      <th></th>\n",
       "      <th>genre</th>\n",
       "      <th>eu</th>\n",
       "      <th>procent</th>\n",
       "    </tr>\n",
       "  </thead>\n",
       "  <tbody>\n",
       "    <tr>\n",
       "      <td>0</td>\n",
       "      <td>Action</td>\n",
       "      <td>118.13</td>\n",
       "      <td>30.1</td>\n",
       "    </tr>\n",
       "    <tr>\n",
       "      <td>1</td>\n",
       "      <td>Shooter</td>\n",
       "      <td>87.86</td>\n",
       "      <td>22.4</td>\n",
       "    </tr>\n",
       "    <tr>\n",
       "      <td>2</td>\n",
       "      <td>Sports</td>\n",
       "      <td>60.52</td>\n",
       "      <td>15.4</td>\n",
       "    </tr>\n",
       "    <tr>\n",
       "      <td>3</td>\n",
       "      <td>Role-Playing</td>\n",
       "      <td>36.97</td>\n",
       "      <td>9.4</td>\n",
       "    </tr>\n",
       "    <tr>\n",
       "      <td>4</td>\n",
       "      <td>Racing</td>\n",
       "      <td>20.19</td>\n",
       "      <td>5.1</td>\n",
       "    </tr>\n",
       "  </tbody>\n",
       "</table>\n",
       "</div>"
      ],
      "text/plain": [
       "          genre      eu  procent\n",
       "0        Action  118.13     30.1\n",
       "1       Shooter   87.86     22.4\n",
       "2        Sports   60.52     15.4\n",
       "3  Role-Playing   36.97      9.4\n",
       "4        Racing   20.19      5.1"
      ]
     },
     "metadata": {},
     "output_type": "display_data"
    }
   ],
   "source": [
    "Europe_sales_sum = Europe_by_genre['eu'].sum()\n",
    "Europe_by_genre['procent'] = (Europe_by_genre['eu'] / Europe_sales_sum * 100).round(1)\n",
    "print('Топ 5 жанров Европы:')\n",
    "display(Europe_by_genre.head(5))"
   ]
  },
  {
   "cell_type": "markdown",
   "metadata": {},
   "source": [
    "### Влияние рейтинга ESRB на продажи в отдельном регионе\n",
    "<a name=\"5.3\"></a><br/>"
   ]
  },
  {
   "cell_type": "markdown",
   "metadata": {},
   "source": [
    "Описание категорий рейтинга "
   ]
  },
  {
   "cell_type": "markdown",
   "metadata": {},
   "source": [
    "* «EC» («Early childhood») — «Для детей младшего возраста»:\n",
    "* «E» («Everyone») — «Для всех»\n",
    "* «E10+» («Everyone 10 and older») — «Для всех от 10 лет и старше»\n",
    "* «T» («Teen») — «Подросткам»\n",
    "* «M» («Mature») — «Для взрослых»\n",
    "* «AO» («Adults Only 18+») — «Только для взрослых»"
   ]
  },
  {
   "cell_type": "markdown",
   "metadata": {},
   "source": [
    "North America"
   ]
  },
  {
   "cell_type": "code",
   "execution_count": 61,
   "metadata": {},
   "outputs": [],
   "source": [
    "North_America_by_rating = df1.pivot_table(index='rating', values='na', aggfunc='sum').sort_values(by='na', ascending=False).reset_index()"
   ]
  },
  {
   "cell_type": "code",
   "execution_count": 62,
   "metadata": {},
   "outputs": [
    {
     "name": "stdout",
     "output_type": "stream",
     "text": [
      "Популярность рейтингов в Северной Америке:\n"
     ]
    },
    {
     "data": {
      "text/html": [
       "<div>\n",
       "<style scoped>\n",
       "    .dataframe tbody tr th:only-of-type {\n",
       "        vertical-align: middle;\n",
       "    }\n",
       "\n",
       "    .dataframe tbody tr th {\n",
       "        vertical-align: top;\n",
       "    }\n",
       "\n",
       "    .dataframe thead th {\n",
       "        text-align: right;\n",
       "    }\n",
       "</style>\n",
       "<table border=\"1\" class=\"dataframe\">\n",
       "  <thead>\n",
       "    <tr style=\"text-align: right;\">\n",
       "      <th></th>\n",
       "      <th>rating</th>\n",
       "      <th>na</th>\n",
       "      <th>procent</th>\n",
       "    </tr>\n",
       "  </thead>\n",
       "  <tbody>\n",
       "    <tr>\n",
       "      <td>0</td>\n",
       "      <td>M</td>\n",
       "      <td>165.21</td>\n",
       "      <td>47.4</td>\n",
       "    </tr>\n",
       "    <tr>\n",
       "      <td>1</td>\n",
       "      <td>E</td>\n",
       "      <td>79.05</td>\n",
       "      <td>22.7</td>\n",
       "    </tr>\n",
       "    <tr>\n",
       "      <td>2</td>\n",
       "      <td>E10+</td>\n",
       "      <td>54.24</td>\n",
       "      <td>15.6</td>\n",
       "    </tr>\n",
       "    <tr>\n",
       "      <td>3</td>\n",
       "      <td>T</td>\n",
       "      <td>49.79</td>\n",
       "      <td>14.3</td>\n",
       "    </tr>\n",
       "  </tbody>\n",
       "</table>\n",
       "</div>"
      ],
      "text/plain": [
       "  rating      na  procent\n",
       "0      M  165.21     47.4\n",
       "1      E   79.05     22.7\n",
       "2   E10+   54.24     15.6\n",
       "3      T   49.79     14.3"
      ]
     },
     "metadata": {},
     "output_type": "display_data"
    }
   ],
   "source": [
    "# Посчитаем доли от общего объема продаж по региону в отдельную колонку\n",
    "North_America_sum = North_America_by_rating['na'].sum()\n",
    "North_America_by_rating['procent'] = (North_America_by_rating['na'] / North_America_sum * 100).round(1)\n",
    "print(\"Популярность рейтингов в Северной Америке:\")\n",
    "display(North_America_by_rating.head(5))"
   ]
  },
  {
   "cell_type": "markdown",
   "metadata": {},
   "source": [
    "Japan"
   ]
  },
  {
   "cell_type": "code",
   "execution_count": 63,
   "metadata": {},
   "outputs": [],
   "source": [
    "Japan_by_rating = df1.pivot_table(index='rating', values='jp', aggfunc='sum').sort_values(by='jp', ascending=False).reset_index()"
   ]
  },
  {
   "cell_type": "code",
   "execution_count": 64,
   "metadata": {},
   "outputs": [
    {
     "name": "stdout",
     "output_type": "stream",
     "text": [
      "Популярность рейтингов в Японии:\n"
     ]
    },
    {
     "data": {
      "text/html": [
       "<div>\n",
       "<style scoped>\n",
       "    .dataframe tbody tr th:only-of-type {\n",
       "        vertical-align: middle;\n",
       "    }\n",
       "\n",
       "    .dataframe tbody tr th {\n",
       "        vertical-align: top;\n",
       "    }\n",
       "\n",
       "    .dataframe thead th {\n",
       "        text-align: right;\n",
       "    }\n",
       "</style>\n",
       "<table border=\"1\" class=\"dataframe\">\n",
       "  <thead>\n",
       "    <tr style=\"text-align: right;\">\n",
       "      <th></th>\n",
       "      <th>rating</th>\n",
       "      <th>jp</th>\n",
       "      <th>procent</th>\n",
       "    </tr>\n",
       "  </thead>\n",
       "  <tbody>\n",
       "    <tr>\n",
       "      <td>0</td>\n",
       "      <td>T</td>\n",
       "      <td>20.59</td>\n",
       "      <td>36.9</td>\n",
       "    </tr>\n",
       "    <tr>\n",
       "      <td>1</td>\n",
       "      <td>E</td>\n",
       "      <td>15.14</td>\n",
       "      <td>27.2</td>\n",
       "    </tr>\n",
       "    <tr>\n",
       "      <td>2</td>\n",
       "      <td>M</td>\n",
       "      <td>14.11</td>\n",
       "      <td>25.3</td>\n",
       "    </tr>\n",
       "    <tr>\n",
       "      <td>3</td>\n",
       "      <td>E10+</td>\n",
       "      <td>5.89</td>\n",
       "      <td>10.6</td>\n",
       "    </tr>\n",
       "  </tbody>\n",
       "</table>\n",
       "</div>"
      ],
      "text/plain": [
       "  rating     jp  procent\n",
       "0      T  20.59     36.9\n",
       "1      E  15.14     27.2\n",
       "2      M  14.11     25.3\n",
       "3   E10+   5.89     10.6"
      ]
     },
     "metadata": {},
     "output_type": "display_data"
    }
   ],
   "source": [
    "Japan_sum = Japan_by_rating['jp'].sum()\n",
    "Japan_by_rating['procent'] = (Japan_by_rating['jp'] / Japan_sum * 100).round(1)\n",
    "print(\"Популярность рейтингов в Японии:\")\n",
    "display(Japan_by_rating.head(5))"
   ]
  },
  {
   "cell_type": "markdown",
   "metadata": {},
   "source": [
    "Europe"
   ]
  },
  {
   "cell_type": "code",
   "execution_count": 65,
   "metadata": {},
   "outputs": [],
   "source": [
    "Europe_by_rating = df1.pivot_table(index='rating', values='eu', aggfunc='sum').sort_values(by='eu', ascending=False).reset_index()"
   ]
  },
  {
   "cell_type": "code",
   "execution_count": 66,
   "metadata": {},
   "outputs": [
    {
     "name": "stdout",
     "output_type": "stream",
     "text": [
      "Популярность рейтингов в Европе:\n"
     ]
    },
    {
     "data": {
      "text/html": [
       "<div>\n",
       "<style scoped>\n",
       "    .dataframe tbody tr th:only-of-type {\n",
       "        vertical-align: middle;\n",
       "    }\n",
       "\n",
       "    .dataframe tbody tr th {\n",
       "        vertical-align: top;\n",
       "    }\n",
       "\n",
       "    .dataframe thead th {\n",
       "        text-align: right;\n",
       "    }\n",
       "</style>\n",
       "<table border=\"1\" class=\"dataframe\">\n",
       "  <thead>\n",
       "    <tr style=\"text-align: right;\">\n",
       "      <th></th>\n",
       "      <th>rating</th>\n",
       "      <th>eu</th>\n",
       "      <th>procent</th>\n",
       "    </tr>\n",
       "  </thead>\n",
       "  <tbody>\n",
       "    <tr>\n",
       "      <td>0</td>\n",
       "      <td>M</td>\n",
       "      <td>145.32</td>\n",
       "      <td>46.4</td>\n",
       "    </tr>\n",
       "    <tr>\n",
       "      <td>1</td>\n",
       "      <td>E</td>\n",
       "      <td>83.36</td>\n",
       "      <td>26.6</td>\n",
       "    </tr>\n",
       "    <tr>\n",
       "      <td>2</td>\n",
       "      <td>E10+</td>\n",
       "      <td>42.69</td>\n",
       "      <td>13.6</td>\n",
       "    </tr>\n",
       "    <tr>\n",
       "      <td>3</td>\n",
       "      <td>T</td>\n",
       "      <td>41.95</td>\n",
       "      <td>13.4</td>\n",
       "    </tr>\n",
       "  </tbody>\n",
       "</table>\n",
       "</div>"
      ],
      "text/plain": [
       "  rating      eu  procent\n",
       "0      M  145.32     46.4\n",
       "1      E   83.36     26.6\n",
       "2   E10+   42.69     13.6\n",
       "3      T   41.95     13.4"
      ]
     },
     "metadata": {},
     "output_type": "display_data"
    }
   ],
   "source": [
    "Europe_sum = Europe_by_rating['eu'].sum()\n",
    "Europe_by_rating['procent'] = (Europe_by_rating['eu'] / Europe_sum * 100).round(1)\n",
    "print(\"Популярность рейтингов в Европе:\")\n",
    "display(Europe_by_rating.head(5))"
   ]
  },
  {
   "cell_type": "markdown",
   "metadata": {},
   "source": [
    "Вывод:\n",
    "<a name=\"5.4\"></a><br/>"
   ]
  },
  {
   "cell_type": "markdown",
   "metadata": {},
   "source": [
    "Рейтинги Северной Америки и Европы похожи между собой и очень отличаются от Японии. В Северной Америке и Европе на первом месте игры для взрослых в Японии они занимают 1/4 от всех. Далее идут игры для всех, которые в Японии менее популярны, чем игры для подростков. На третьем месте в Европе игры для всех от 10 и старше, которые занимают такую же долю как и в Америке (13-15%), Японии они менее популярны (10%). Из этого стравнения видно, что Япония это особая страна и я считаю, что для неё нужен особый подход при состовлению плана продаж."
   ]
  },
  {
   "cell_type": "markdown",
   "metadata": {},
   "source": [
    "## Проверка гипотез \n",
    "<a name=\"6.\"></a><br/>\n",
    "[<font size=\"2\">(к содержанию)</font>](#to_content.)"
   ]
  },
  {
   "cell_type": "markdown",
   "metadata": {},
   "source": [
    "### Средние пользовательские рейтинги платформ Xbox One и PC одинаковые\n",
    "<a name=\"6.1\"></a><br/>"
   ]
  },
  {
   "cell_type": "markdown",
   "metadata": {},
   "source": [
    "Формулирую две гипотезы: \n",
    "    * Нулевая: средние пользовательские рейтинги платформ Xbox One и PC одинаковые.\n",
    "    * Альтернативная: средние пользовательские рейтинги платформ Xbox One и PC отличаются между собой."
   ]
  },
  {
   "cell_type": "code",
   "execution_count": 74,
   "metadata": {},
   "outputs": [],
   "source": [
    "XOne_rating = df[(df['platform'] == 'XOne') & (df['user_score'])]['user_score']\n",
    "PC_ratings = df[(df['platform'] == 'PC') & (df['user_score'])]['user_score']"
   ]
  },
  {
   "cell_type": "code",
   "execution_count": 68,
   "metadata": {},
   "outputs": [
    {
     "name": "stdout",
     "output_type": "stream",
     "text": [
      "p-значение: 4.5385802963771776e-06\n",
      "Принимаем нулевую гипотезу. Средние пользовательские рейтинги платформ Xbox One и PC одинаковые\n"
     ]
    }
   ],
   "source": [
    "alpha = .01\n",
    "results = st.ttest_ind(XOne_rating, PC_ratings, equal_var=False)\n",
    "\n",
    "print('p-значение:',results.pvalue)\n",
    "\n",
    "if results.pvalue < alpha:\n",
    "    print('Принимаем нулевую гипотезу. Средние пользовательские рейтинги платформ Xbox One и PC одинаковые')\n",
    "else:\n",
    "    print('Отвергаем нулевую гипотезу. Средние пользовательские рейтинги платформ Xbox One и PC отличаются между собой')"
   ]
  },
  {
   "cell_type": "markdown",
   "metadata": {},
   "source": [
    "Так как центральная предельная теорема гарантирует нам нужный результат на больших выборках, я поставил значение equal_var = False."
   ]
  },
  {
   "cell_type": "markdown",
   "metadata": {},
   "source": [
    "### Средние пользовательские рейтинги жанров Action и Sports разные\n",
    "<a name=\"6.2\"></a><br/>"
   ]
  },
  {
   "cell_type": "markdown",
   "metadata": {},
   "source": [
    "Формулирую две гипотезы:\n",
    "\n",
    "* Нулевая: средний пользовательский рейтинг генеральной совокупности игр в жанре Action равен среднему пользовательскому рейтингу генеральной совокупности игр в жанре Sports.\n",
    "* Альтернативная: средний пользовательский рейтинг генеральной совокупности игр в жанре Action не равен среднему пользовательскому рейтингу генеральной совокупности игр в жанре Sports."
   ]
  },
  {
   "cell_type": "code",
   "execution_count": 69,
   "metadata": {},
   "outputs": [],
   "source": [
    "action_ratings = df[(df['genre'] == 'Action') & (df['user_score'] > 0)]['user_score']\n",
    "pc_ratings = df[(df['genre'] == 'Sports') & (df['user_score'] > 0)]['user_score']"
   ]
  },
  {
   "cell_type": "code",
   "execution_count": 70,
   "metadata": {},
   "outputs": [
    {
     "name": "stdout",
     "output_type": "stream",
     "text": [
      "p-значение: 0.07370217419278534\n",
      "Отвергаем нулевую гипотезу. Средняя оценка игр в жанрах action и sports отличается\n"
     ]
    }
   ],
   "source": [
    "alpha = .01\n",
    "results = st.ttest_ind(action_ratings, pc_ratings, equal_var=False)\n",
    "\n",
    "print('p-значение:',results.pvalue)\n",
    "\n",
    "if results.pvalue < alpha:\n",
    "    print('Принимаем нулевую гипотезу. Пользователи в среднем одинаково оценивают игры в жанрах action и sports')\n",
    "else:\n",
    "    print('Отвергаем нулевую гипотезу. Средняя оценка игр в жанрах action и sports отличается')"
   ]
  },
  {
   "cell_type": "markdown",
   "metadata": {},
   "source": [
    "## Вывод\n",
    "<a name=\"7.\"></a><br/>\n",
    "[<font size=\"2\">(к содержанию)</font>](#to_content.)"
   ]
  },
  {
   "cell_type": "markdown",
   "metadata": {},
   "source": [
    "* Рынок видеоигр активно развивался в течение 15 лет с 1993 до 2008. С 2008 года идет на спад. Как мне кажется, из-за того что на играх всё труднее зарабатывать. Достойная игра может делаться годами и в итоге её лстанутся недовольны. В отличие от условных мобильных игр, где цена на разработку ниже, но продать и 'потребить' игру легче.\n",
    "\n",
    "* У меня сложилось впечатление, что рынку необходима новые консоли, которые поднимут продажи игр. На графике жизненого цикла консоли, я увидел, что нужно 2 года для того, чтобы консоль вышла на пик и несколько лет после она медленно умирает. На конец 2016 консоли мертвые и нужен какой-то новый форм-фактор, который будет продавать игры.\n",
    "\n",
    "* На продажи не влияют оценки пользователей, но влияют оценки критиков. Я бы не стал ориентироваться на отзывы игроков, а обратил внимание на игры, которым критики ставят оценку 70 и выше. \n",
    "\n",
    "* Что касается жанров игр. Я бы обратил внимание на Action, Shooter, Sport и Role-Playing игры. Так как они наиболее популярны и приносят наибольшое количество денег. В Северной Америке и Европе наиболее популярными являются Action ~ 29%, Shooter ~ 23% и Sport~ 15% игры. В Японии же особая атмосфера Role-Playing ~ 36.3%,  Action ~ 28.8% и Misc ~ 6.5%.\n",
    "\n",
    "* По категории игр. Тут Северная Америка и Европа так же очень похожи друг на друга. Там на первом месте игры для взрослых ~ 46%, на втором игры для всех 24%,  на третьем игры для всех от 10 лет 14%. И тут Япония выделяется на первом месте у неё игры для подростков ~ 36.9%, потом идут игры для всех 27.2 и потом уже игры для взрослых ~ 25.3.\n",
    "\n",
    "* Подводя короткий итог, для выбора игр на продаж нужно учитывать множество факторов, таких как жанр игры, регион, игровую платформу и категорию игры и обчзательно обращать внимание на отзывы критиков."
   ]
  }
 ],
 "metadata": {
  "ExecuteTimeLog": [
   {
    "duration": 1088,
    "start_time": "2021-09-15T22:47:45.876Z"
   },
   {
    "duration": 54,
    "start_time": "2021-09-15T22:47:46.969Z"
   },
   {
    "duration": 10,
    "start_time": "2021-09-15T22:47:47.025Z"
   },
   {
    "duration": 5,
    "start_time": "2021-09-15T22:47:47.037Z"
   },
   {
    "duration": 8,
    "start_time": "2021-09-15T22:47:47.043Z"
   },
   {
    "duration": 26,
    "start_time": "2021-09-15T22:47:47.052Z"
   },
   {
    "duration": 7,
    "start_time": "2021-09-15T22:47:47.080Z"
   },
   {
    "duration": 509,
    "start_time": "2021-09-15T22:47:47.090Z"
   },
   {
    "duration": 10,
    "start_time": "2021-09-15T22:47:47.601Z"
   },
   {
    "duration": 15,
    "start_time": "2021-09-15T22:47:47.613Z"
   },
   {
    "duration": 18,
    "start_time": "2021-09-15T22:47:47.630Z"
   },
   {
    "duration": 23,
    "start_time": "2021-09-15T22:47:47.650Z"
   },
   {
    "duration": 9,
    "start_time": "2021-09-15T22:47:47.675Z"
   },
   {
    "duration": 14,
    "start_time": "2021-09-15T22:47:47.685Z"
   },
   {
    "duration": 23,
    "start_time": "2021-09-15T22:47:47.701Z"
   },
   {
    "duration": 28,
    "start_time": "2021-09-15T22:47:47.726Z"
   },
   {
    "duration": 18,
    "start_time": "2021-09-15T22:47:47.756Z"
   },
   {
    "duration": 23,
    "start_time": "2021-09-15T22:47:47.775Z"
   },
   {
    "duration": 14,
    "start_time": "2021-09-15T22:47:47.799Z"
   },
   {
    "duration": 20,
    "start_time": "2021-09-15T22:47:47.814Z"
   },
   {
    "duration": 4,
    "start_time": "2021-09-15T22:47:47.836Z"
   },
   {
    "duration": 10,
    "start_time": "2021-09-15T22:47:47.842Z"
   },
   {
    "duration": 14,
    "start_time": "2021-09-15T22:47:47.854Z"
   },
   {
    "duration": 13,
    "start_time": "2021-09-15T22:47:47.870Z"
   },
   {
    "duration": 27,
    "start_time": "2021-09-15T22:47:47.885Z"
   },
   {
    "duration": 456,
    "start_time": "2021-09-15T22:47:47.917Z"
   },
   {
    "duration": 449,
    "start_time": "2021-09-15T22:47:48.376Z"
   },
   {
    "duration": 178,
    "start_time": "2021-09-15T22:47:48.827Z"
   },
   {
    "duration": 406,
    "start_time": "2021-09-15T22:47:49.007Z"
   },
   {
    "duration": 310,
    "start_time": "2021-09-15T22:47:49.415Z"
   },
   {
    "duration": 20,
    "start_time": "2021-09-15T22:47:49.727Z"
   },
   {
    "duration": 355,
    "start_time": "2021-09-15T22:47:49.749Z"
   },
   {
    "duration": 19,
    "start_time": "2021-09-15T22:47:50.106Z"
   },
   {
    "duration": 553,
    "start_time": "2021-09-15T22:47:50.126Z"
   },
   {
    "duration": 377,
    "start_time": "2021-09-15T22:47:50.681Z"
   },
   {
    "duration": 20,
    "start_time": "2021-09-15T22:47:51.060Z"
   },
   {
    "duration": 374,
    "start_time": "2021-09-15T22:47:51.082Z"
   },
   {
    "duration": 351,
    "start_time": "2021-09-15T22:47:51.458Z"
   },
   {
    "duration": 11,
    "start_time": "2021-09-15T22:47:51.811Z"
   },
   {
    "duration": 313,
    "start_time": "2021-09-15T22:47:51.824Z"
   },
   {
    "duration": 332,
    "start_time": "2021-09-15T22:47:52.139Z"
   },
   {
    "duration": 11,
    "start_time": "2021-09-15T22:47:52.476Z"
   },
   {
    "duration": 318,
    "start_time": "2021-09-15T22:47:52.489Z"
   },
   {
    "duration": 305,
    "start_time": "2021-09-15T22:47:52.809Z"
   },
   {
    "duration": 311,
    "start_time": "2021-09-15T22:47:53.116Z"
   },
   {
    "duration": 10,
    "start_time": "2021-09-15T22:47:53.429Z"
   },
   {
    "duration": 6,
    "start_time": "2021-09-15T22:47:53.441Z"
   },
   {
    "duration": 31,
    "start_time": "2021-09-15T22:47:53.449Z"
   },
   {
    "duration": 10,
    "start_time": "2021-09-15T22:47:53.483Z"
   },
   {
    "duration": 5,
    "start_time": "2021-09-15T22:47:53.495Z"
   },
   {
    "duration": 12,
    "start_time": "2021-09-15T22:47:53.502Z"
   },
   {
    "duration": 10,
    "start_time": "2021-09-15T22:47:53.516Z"
   },
   {
    "duration": 6,
    "start_time": "2021-09-15T22:47:53.528Z"
   },
   {
    "duration": 47,
    "start_time": "2021-09-15T22:47:53.536Z"
   },
   {
    "duration": 14,
    "start_time": "2021-09-15T22:47:53.585Z"
   },
   {
    "duration": 9,
    "start_time": "2021-09-15T22:47:53.601Z"
   },
   {
    "duration": 12,
    "start_time": "2021-09-15T22:47:53.612Z"
   },
   {
    "duration": 10,
    "start_time": "2021-09-15T22:47:53.625Z"
   },
   {
    "duration": 11,
    "start_time": "2021-09-15T22:47:53.637Z"
   },
   {
    "duration": 34,
    "start_time": "2021-09-15T22:47:53.650Z"
   },
   {
    "duration": 10,
    "start_time": "2021-09-15T22:47:53.686Z"
   },
   {
    "duration": 11,
    "start_time": "2021-09-15T22:47:53.698Z"
   },
   {
    "duration": 12,
    "start_time": "2021-09-15T22:47:53.711Z"
   },
   {
    "duration": 16,
    "start_time": "2021-09-15T22:47:53.724Z"
   },
   {
    "duration": 41,
    "start_time": "2021-09-15T22:47:53.742Z"
   },
   {
    "duration": 14,
    "start_time": "2021-09-15T22:47:53.785Z"
   },
   {
    "duration": 15,
    "start_time": "2021-09-15T22:47:53.801Z"
   },
   {
    "duration": 4,
    "start_time": "2021-09-15T22:47:53.818Z"
   },
   {
    "duration": 10,
    "start_time": "2021-09-15T22:47:53.825Z"
   },
   {
    "duration": 6,
    "start_time": "2021-09-15T22:47:53.837Z"
   },
   {
    "duration": 5,
    "start_time": "2021-09-15T22:48:07.967Z"
   },
   {
    "duration": 21,
    "start_time": "2021-09-15T23:02:57.225Z"
   },
   {
    "duration": 5,
    "start_time": "2021-09-15T23:03:38.742Z"
   },
   {
    "duration": 15,
    "start_time": "2021-09-15T23:03:51.627Z"
   },
   {
    "duration": 9,
    "start_time": "2021-09-15T23:07:35.476Z"
   }
  ],
  "kernelspec": {
   "display_name": "Python 3",
   "language": "python",
   "name": "python3"
  },
  "language_info": {
   "codemirror_mode": {
    "name": "ipython",
    "version": 3
   },
   "file_extension": ".py",
   "mimetype": "text/x-python",
   "name": "python",
   "nbconvert_exporter": "python",
   "pygments_lexer": "ipython3",
   "version": "3.7.8"
  },
  "toc": {
   "base_numbering": 1,
   "nav_menu": {},
   "number_sections": true,
   "sideBar": true,
   "skip_h1_title": true,
   "title_cell": "Table of Contents",
   "title_sidebar": "Contents",
   "toc_cell": false,
   "toc_position": {},
   "toc_section_display": true,
   "toc_window_display": false
  }
 },
 "nbformat": 4,
 "nbformat_minor": 2
}
