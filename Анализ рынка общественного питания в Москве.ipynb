{
 "cells": [
  {
   "cell_type": "markdown",
   "metadata": {},
   "source": [
    "<div style=\"border:solid green 2px; padding: 20px\"> \n",
    "    \n",
    "**Комментарий ревьюера**\n",
    "\n",
    "Привет! Меня зовут Сысоева Вера.\n",
    "    \n",
    "Далее в файле мои комментарии ты сможешь найти в ячейках, аналогичных данной ( если рамки комментария зелёные - всё сделано правильно; жёлтые - есть замечания, но не критично; красные - нужно переделать). Не удаляй эти комментарии и постарайся учесть их в ходе выполнения проекта.\n",
    "    \n",
    "Я буду поддерживать версионность комментариев, и при следующих итерациях комментарии будут выделены, как \"Комментраии ревьюера - 2 (3 и.т.д.)\"\n",
    "    \n",
    "Если у тебя есть замечания, возражения и вопросы, ты можешь писать свои комментарии, по возможности выделяй их так же цветом (например, синим), чтоб их можно было легко отделить от текста проекта. \n",
    "    \n",
    "Кстати, предлагаю сразу общаться на \"ты\".\n",
    "    \n",
    "Увидев у тебя ошибку, в первый раз я лишь укажу на ее наличие и дам тебе возможность самой найти и исправить ее. На реальной работе твой начальник будет поступать так же, а я пытаюсь подготовить тебя именно к работе аналитиком. Но если ты пока не справишься с такой задачей - при следующей проверке я дам более точную подсказку.\n",
    "    \n",
    "</div>"
   ]
  },
  {
   "cell_type": "markdown",
   "metadata": {},
   "source": [
    "# Рынок заведений общественного питания Москвы"
   ]
  },
  {
   "cell_type": "markdown",
   "metadata": {},
   "source": [
    "## Оглавление"
   ]
  },
  {
   "cell_type": "markdown",
   "metadata": {},
   "source": [
    "## Описание проекта"
   ]
  },
  {
   "cell_type": "markdown",
   "metadata": {},
   "source": [
    "Вы решили открыть небольшое кафе в Москве. Оно оригинальное — гостей должны обслуживать роботы. Проект многообещающий, но дорогой. Вместе с партнёрами вы решились обратиться к инвесторам. Их интересует текущее положение дел на рынке — сможете ли вы снискать популярность на долгое время, когда все зеваки насмотрятся на роботов-официантов? Вы — гуру аналитики, и партнёры просят вас подготовить исследование рынка. У вас есть открытые данные о заведениях общественного питания в Москве.\n",
    "\n",
    "Цели проекта:\n",
    "\n",
    "* Сделать общий вывод и дать рекомендации о виде заведения, количестве посадочных мест, а также районе расположения.\n",
    "* Прокомментировать возможность развития сети.\n",
    "* Подготовить презентацию для инвестеров"
   ]
  },
  {
   "cell_type": "markdown",
   "metadata": {},
   "source": [
    "## Описание данных"
   ]
  },
  {
   "cell_type": "markdown",
   "metadata": {},
   "source": [
    "Таблица rest_data:\n",
    "\n",
    "* id — идентификатор объекта;\n",
    "* object_name — название объекта общественного питания;\n",
    "* chain — сетевой ресторан;\n",
    "* object_type — тип объекта общественного питания;\n",
    "* address — адрес;\n",
    "* number — количество посадочных мест."
   ]
  },
  {
   "cell_type": "markdown",
   "metadata": {},
   "source": [
    "## Загрузка данных"
   ]
  },
  {
   "cell_type": "code",
   "execution_count": 152,
   "metadata": {},
   "outputs": [],
   "source": [
    "import pandas as pd\n",
    "import matplotlib.pyplot as plt\n",
    "import seaborn as sns\n",
    "from plotly import graph_objects as go\n",
    "import warnings\n",
    "warnings.filterwarnings('ignore')\n",
    "pd.set_option('max_columns',None)"
   ]
  },
  {
   "cell_type": "markdown",
   "metadata": {},
   "source": [
    "<div style=\"border:solid green 2px; padding: 20px\"> \n",
    "    \n",
    "**Комментарий ревьюера**\n",
    "\n",
    "Молодец, ты правильно настроил отображение целых строк в таблице, так адрес не будет обрезан.\n",
    "    \n",
    "Еще фишки по настройки таблиц можно посмотреть здесь https://habr.com/ru/post/521894/\n",
    "    \n",
    "</div>"
   ]
  },
  {
   "cell_type": "code",
   "execution_count": 153,
   "metadata": {},
   "outputs": [],
   "source": [
    "rest_data = pd.read_csv('/datasets/rest_data.csv')"
   ]
  },
  {
   "cell_type": "code",
   "execution_count": 154,
   "metadata": {},
   "outputs": [
    {
     "data": {
      "text/html": [
       "<div>\n",
       "<style scoped>\n",
       "    .dataframe tbody tr th:only-of-type {\n",
       "        vertical-align: middle;\n",
       "    }\n",
       "\n",
       "    .dataframe tbody tr th {\n",
       "        vertical-align: top;\n",
       "    }\n",
       "\n",
       "    .dataframe thead th {\n",
       "        text-align: right;\n",
       "    }\n",
       "</style>\n",
       "<table border=\"1\" class=\"dataframe\">\n",
       "  <thead>\n",
       "    <tr style=\"text-align: right;\">\n",
       "      <th></th>\n",
       "      <th>id</th>\n",
       "      <th>object_name</th>\n",
       "      <th>chain</th>\n",
       "      <th>object_type</th>\n",
       "      <th>address</th>\n",
       "      <th>number</th>\n",
       "    </tr>\n",
       "  </thead>\n",
       "  <tbody>\n",
       "    <tr>\n",
       "      <td>0</td>\n",
       "      <td>151635</td>\n",
       "      <td>СМЕТАНА</td>\n",
       "      <td>нет</td>\n",
       "      <td>кафе</td>\n",
       "      <td>город Москва, улица Егора Абакумова, дом 9</td>\n",
       "      <td>48</td>\n",
       "    </tr>\n",
       "    <tr>\n",
       "      <td>1</td>\n",
       "      <td>77874</td>\n",
       "      <td>Родник</td>\n",
       "      <td>нет</td>\n",
       "      <td>кафе</td>\n",
       "      <td>город Москва, улица Талалихина, дом 2/1, корпус 1</td>\n",
       "      <td>35</td>\n",
       "    </tr>\n",
       "    <tr>\n",
       "      <td>2</td>\n",
       "      <td>24309</td>\n",
       "      <td>Кафе «Академия»</td>\n",
       "      <td>нет</td>\n",
       "      <td>кафе</td>\n",
       "      <td>город Москва, Абельмановская улица, дом 6</td>\n",
       "      <td>95</td>\n",
       "    </tr>\n",
       "    <tr>\n",
       "      <td>3</td>\n",
       "      <td>21894</td>\n",
       "      <td>ПИЦЦЕТОРИЯ</td>\n",
       "      <td>да</td>\n",
       "      <td>кафе</td>\n",
       "      <td>город Москва, Абрамцевская улица, дом 1</td>\n",
       "      <td>40</td>\n",
       "    </tr>\n",
       "    <tr>\n",
       "      <td>4</td>\n",
       "      <td>119365</td>\n",
       "      <td>Кафе «Вишневая метель»</td>\n",
       "      <td>нет</td>\n",
       "      <td>кафе</td>\n",
       "      <td>город Москва, Абрамцевская улица, дом 9, корпус 1</td>\n",
       "      <td>50</td>\n",
       "    </tr>\n",
       "    <tr>\n",
       "      <td>...</td>\n",
       "      <td>...</td>\n",
       "      <td>...</td>\n",
       "      <td>...</td>\n",
       "      <td>...</td>\n",
       "      <td>...</td>\n",
       "      <td>...</td>\n",
       "    </tr>\n",
       "    <tr>\n",
       "      <td>15361</td>\n",
       "      <td>208537</td>\n",
       "      <td>Шоколадница</td>\n",
       "      <td>да</td>\n",
       "      <td>кафе</td>\n",
       "      <td>город Москва, 3-й Крутицкий переулок, дом 18</td>\n",
       "      <td>50</td>\n",
       "    </tr>\n",
       "    <tr>\n",
       "      <td>15362</td>\n",
       "      <td>209264</td>\n",
       "      <td>Шоколадница</td>\n",
       "      <td>да</td>\n",
       "      <td>кафе</td>\n",
       "      <td>город Москва, улица Земляной Вал, дом 33</td>\n",
       "      <td>10</td>\n",
       "    </tr>\n",
       "    <tr>\n",
       "      <td>15363</td>\n",
       "      <td>209186</td>\n",
       "      <td>Шоколадница</td>\n",
       "      <td>да</td>\n",
       "      <td>кафе</td>\n",
       "      <td>город Москва, улица Земляной Вал, дом 33</td>\n",
       "      <td>20</td>\n",
       "    </tr>\n",
       "    <tr>\n",
       "      <td>15364</td>\n",
       "      <td>221900</td>\n",
       "      <td>Шоколадница</td>\n",
       "      <td>да</td>\n",
       "      <td>кафе</td>\n",
       "      <td>город Москва, поселение Московский, Киевское ш...</td>\n",
       "      <td>36</td>\n",
       "    </tr>\n",
       "    <tr>\n",
       "      <td>15365</td>\n",
       "      <td>222535</td>\n",
       "      <td>Шоколадница</td>\n",
       "      <td>да</td>\n",
       "      <td>кафе</td>\n",
       "      <td>город Москва, Ходынский бульвар, дом 4</td>\n",
       "      <td>10</td>\n",
       "    </tr>\n",
       "  </tbody>\n",
       "</table>\n",
       "<p>15366 rows × 6 columns</p>\n",
       "</div>"
      ],
      "text/plain": [
       "           id             object_name chain object_type  \\\n",
       "0      151635                 СМЕТАНА   нет        кафе   \n",
       "1       77874                  Родник   нет        кафе   \n",
       "2       24309         Кафе «Академия»   нет        кафе   \n",
       "3       21894              ПИЦЦЕТОРИЯ    да        кафе   \n",
       "4      119365  Кафе «Вишневая метель»   нет        кафе   \n",
       "...       ...                     ...   ...         ...   \n",
       "15361  208537             Шоколадница    да        кафе   \n",
       "15362  209264             Шоколадница    да        кафе   \n",
       "15363  209186             Шоколадница    да        кафе   \n",
       "15364  221900             Шоколадница    да        кафе   \n",
       "15365  222535             Шоколадница    да        кафе   \n",
       "\n",
       "                                                 address  number  \n",
       "0             город Москва, улица Егора Абакумова, дом 9      48  \n",
       "1      город Москва, улица Талалихина, дом 2/1, корпус 1      35  \n",
       "2              город Москва, Абельмановская улица, дом 6      95  \n",
       "3                город Москва, Абрамцевская улица, дом 1      40  \n",
       "4      город Москва, Абрамцевская улица, дом 9, корпус 1      50  \n",
       "...                                                  ...     ...  \n",
       "15361       город Москва, 3-й Крутицкий переулок, дом 18      50  \n",
       "15362           город Москва, улица Земляной Вал, дом 33      10  \n",
       "15363           город Москва, улица Земляной Вал, дом 33      20  \n",
       "15364  город Москва, поселение Московский, Киевское ш...      36  \n",
       "15365             город Москва, Ходынский бульвар, дом 4      10  \n",
       "\n",
       "[15366 rows x 6 columns]"
      ]
     },
     "execution_count": 154,
     "metadata": {},
     "output_type": "execute_result"
    }
   ],
   "source": [
    "rest_data"
   ]
  },
  {
   "cell_type": "code",
   "execution_count": 155,
   "metadata": {},
   "outputs": [
    {
     "name": "stdout",
     "output_type": "stream",
     "text": [
      "<class 'pandas.core.frame.DataFrame'>\n",
      "RangeIndex: 15366 entries, 0 to 15365\n",
      "Data columns (total 6 columns):\n",
      "id             15366 non-null int64\n",
      "object_name    15366 non-null object\n",
      "chain          15366 non-null object\n",
      "object_type    15366 non-null object\n",
      "address        15366 non-null object\n",
      "number         15366 non-null int64\n",
      "dtypes: int64(2), object(4)\n",
      "memory usage: 720.4+ KB\n"
     ]
    }
   ],
   "source": [
    "# смотрю инфо\n",
    "rest_data.info()"
   ]
  },
  {
   "cell_type": "code",
   "execution_count": 156,
   "metadata": {},
   "outputs": [
    {
     "data": {
      "text/plain": [
       "0            \n",
       "1            \n",
       "2            \n",
       "3        True\n",
       "4            \n",
       "         ... \n",
       "15361    True\n",
       "15362    True\n",
       "15363    True\n",
       "15364    True\n",
       "15365    True\n",
       "Name: chain, Length: 15366, dtype: object"
      ]
     },
     "execution_count": 156,
     "metadata": {},
     "output_type": "execute_result"
    }
   ],
   "source": [
    "# изменяю тип данных\n",
    "rest_data['chain'].replace(to_replace=['да'], value=\"True\",regex=True, inplace=True)\n",
    "rest_data['chain'].replace(to_replace=['нет'], value=\"\",regex=True, inplace=True)\n",
    "rest_data['chain']"
   ]
  },
  {
   "cell_type": "code",
   "execution_count": 157,
   "metadata": {},
   "outputs": [],
   "source": [
    "rest_data['chain']=rest_data['chain'].astype('bool')"
   ]
  },
  {
   "cell_type": "markdown",
   "metadata": {},
   "source": [
    "<div style=\"border:solid green 2px; padding: 20px\"> \n",
    "    \n",
    "**Комментарий ревьюера**\n",
    "\n",
    "Хороший вариант, хотя на наших масштабах и не аст сильного выигрыша в объеме\n",
    "    \n",
    "</div>"
   ]
  },
  {
   "cell_type": "code",
   "execution_count": 158,
   "metadata": {},
   "outputs": [
    {
     "data": {
      "text/plain": [
       "0                       сметана\n",
       "1                        родник\n",
       "2               кафе «академия»\n",
       "3                    пиццетория\n",
       "4        кафе «вишневая метель»\n",
       "                  ...          \n",
       "15361               шоколадница\n",
       "15362               шоколадница\n",
       "15363               шоколадница\n",
       "15364               шоколадница\n",
       "15365               шоколадница\n",
       "Name: object_name, Length: 15366, dtype: object"
      ]
     },
     "execution_count": 158,
     "metadata": {},
     "output_type": "execute_result"
    }
   ],
   "source": [
    "# привожу названия заведений к нижнему регистру для поиска дубликатов\n",
    "rest_data['object_name'] = rest_data['object_name'].str.lower()\n",
    "rest_data['object_name']"
   ]
  },
  {
   "cell_type": "code",
   "execution_count": 159,
   "metadata": {},
   "outputs": [
    {
     "data": {
      "text/plain": [
       "0               город москва, улица егора абакумова, дом 9\n",
       "1        город москва, улица талалихина, дом 2/1, корпус 1\n",
       "2                город москва, абельмановская улица, дом 6\n",
       "3                  город москва, абрамцевская улица, дом 1\n",
       "4        город москва, абрамцевская улица, дом 9, корпус 1\n",
       "                               ...                        \n",
       "15361         город москва, 3-й крутицкий переулок, дом 18\n",
       "15362             город москва, улица земляной вал, дом 33\n",
       "15363             город москва, улица земляной вал, дом 33\n",
       "15364    город москва, поселение московский, киевское ш...\n",
       "15365               город москва, ходынский бульвар, дом 4\n",
       "Name: address, Length: 15366, dtype: object"
      ]
     },
     "execution_count": 159,
     "metadata": {},
     "output_type": "execute_result"
    }
   ],
   "source": [
    "rest_data['address'] = rest_data['address'].str.lower()\n",
    "rest_data['address']"
   ]
  },
  {
   "cell_type": "code",
   "execution_count": 160,
   "metadata": {},
   "outputs": [
    {
     "data": {
      "text/plain": [
       "0"
      ]
     },
     "execution_count": 160,
     "metadata": {},
     "output_type": "execute_result"
    }
   ],
   "source": [
    "rest_data.duplicated().sum()"
   ]
  },
  {
   "cell_type": "markdown",
   "metadata": {},
   "source": [
    "<div style=\"border:solid green 2px; padding: 20px\"> \n",
    "    \n",
    "**Комментарий ревьюера**\n",
    "\n",
    "Молодец, что не забыл про дубликаты\n",
    "    \n",
    "</div>"
   ]
  },
  {
   "cell_type": "code",
   "execution_count": 161,
   "metadata": {},
   "outputs": [
    {
     "data": {
      "text/plain": [
       "id             0\n",
       "object_name    0\n",
       "chain          0\n",
       "object_type    0\n",
       "address        0\n",
       "number         0\n",
       "dtype: int64"
      ]
     },
     "execution_count": 161,
     "metadata": {},
     "output_type": "execute_result"
    }
   ],
   "source": [
    "# смотрю пропуски\n",
    "rest_data.isna().sum()"
   ]
  },
  {
   "cell_type": "markdown",
   "metadata": {},
   "source": [
    "Я загрузил таблицу, изменил тип данных, не нашёл дубликатов и пропусков \n",
    "\n",
    "<div style=\"border:solid green 2px; padding: 20px\"> \n",
    "    \n",
    "**Комментарий ревьюера**\n",
    "\n",
    "В целом отличный анализ. Но я бы чуть больше внимания обратила на написание названий. Для подобных столбцов как ты правильно сделал нужен как минимум, перевод в нижний регистр. Но также стоит дополнительно сделать замену ё на е, убрать служебные символы типа \" - это важно. Но здесь по-моему проблем немного больше. Давай посмотрим, например, il patio.\n",
    "    \n",
    "Тут как минимум есть названия и кирилицей и латиницей. И такая же ситуация с Макдаком, Бургер Кингом и.т.п.\n",
    "    \n",
    "По идее надо с этим как-то поработать и это всегда сложно\n",
    "    \n",
    "</div>"
   ]
  },
  {
   "cell_type": "markdown",
   "metadata": {},
   "source": [
    "## Анализ данных"
   ]
  },
  {
   "cell_type": "markdown",
   "metadata": {},
   "source": [
    "### Исследуйте соотношение видов объектов общественного питания по количеству. Постройте график."
   ]
  },
  {
   "cell_type": "code",
   "execution_count": 162,
   "metadata": {},
   "outputs": [
    {
     "data": {
      "text/plain": [
       "array(['кафе', 'столовая', 'закусочная',\n",
       "       'предприятие быстрого обслуживания', 'ресторан', 'кафетерий',\n",
       "       'буфет', 'бар', 'магазин (отдел кулинарии)'], dtype=object)"
      ]
     },
     "execution_count": 162,
     "metadata": {},
     "output_type": "execute_result"
    }
   ],
   "source": [
    "# нахожу все уникальные значения в солбце в видом объекта\n",
    "object_names = rest_data['object_type'].unique()\n",
    "object_names"
   ]
  },
  {
   "cell_type": "code",
   "execution_count": 163,
   "metadata": {},
   "outputs": [
    {
     "data": {
      "application/vnd.plotly.v1+json": {
       "config": {
        "plotlyServerURL": "https://plot.ly"
       },
       "data": [
        {
         "labels": [
          "кафе",
          "столовая",
          "закусочная",
          "предприятие быстрого обслуживания",
          "ресторан",
          "кафетерий",
          "буфет",
          "бар",
          "магазин (отдел кулинарии)"
         ],
         "type": "pie",
         "values": [
          6099,
          2587,
          2285,
          1923,
          856,
          585,
          398,
          360,
          273
         ]
        }
       ],
       "layout": {
        "template": {
         "data": {
          "bar": [
           {
            "error_x": {
             "color": "#2a3f5f"
            },
            "error_y": {
             "color": "#2a3f5f"
            },
            "marker": {
             "line": {
              "color": "#E5ECF6",
              "width": 0.5
             }
            },
            "type": "bar"
           }
          ],
          "barpolar": [
           {
            "marker": {
             "line": {
              "color": "#E5ECF6",
              "width": 0.5
             }
            },
            "type": "barpolar"
           }
          ],
          "carpet": [
           {
            "aaxis": {
             "endlinecolor": "#2a3f5f",
             "gridcolor": "white",
             "linecolor": "white",
             "minorgridcolor": "white",
             "startlinecolor": "#2a3f5f"
            },
            "baxis": {
             "endlinecolor": "#2a3f5f",
             "gridcolor": "white",
             "linecolor": "white",
             "minorgridcolor": "white",
             "startlinecolor": "#2a3f5f"
            },
            "type": "carpet"
           }
          ],
          "choropleth": [
           {
            "colorbar": {
             "outlinewidth": 0,
             "ticks": ""
            },
            "type": "choropleth"
           }
          ],
          "contour": [
           {
            "colorbar": {
             "outlinewidth": 0,
             "ticks": ""
            },
            "colorscale": [
             [
              0,
              "#0d0887"
             ],
             [
              0.1111111111,
              "#46039f"
             ],
             [
              0.2222222222,
              "#7201a8"
             ],
             [
              0.3333333333,
              "#9c179e"
             ],
             [
              0.4444444444,
              "#bd3786"
             ],
             [
              0.5555555556,
              "#d8576b"
             ],
             [
              0.6666666667,
              "#ed7953"
             ],
             [
              0.7777777778,
              "#fb9f3a"
             ],
             [
              0.8888888889,
              "#fdca26"
             ],
             [
              1,
              "#f0f921"
             ]
            ],
            "type": "contour"
           }
          ],
          "contourcarpet": [
           {
            "colorbar": {
             "outlinewidth": 0,
             "ticks": ""
            },
            "type": "contourcarpet"
           }
          ],
          "heatmap": [
           {
            "colorbar": {
             "outlinewidth": 0,
             "ticks": ""
            },
            "colorscale": [
             [
              0,
              "#0d0887"
             ],
             [
              0.1111111111,
              "#46039f"
             ],
             [
              0.2222222222,
              "#7201a8"
             ],
             [
              0.3333333333,
              "#9c179e"
             ],
             [
              0.4444444444,
              "#bd3786"
             ],
             [
              0.5555555556,
              "#d8576b"
             ],
             [
              0.6666666667,
              "#ed7953"
             ],
             [
              0.7777777778,
              "#fb9f3a"
             ],
             [
              0.8888888889,
              "#fdca26"
             ],
             [
              1,
              "#f0f921"
             ]
            ],
            "type": "heatmap"
           }
          ],
          "heatmapgl": [
           {
            "colorbar": {
             "outlinewidth": 0,
             "ticks": ""
            },
            "colorscale": [
             [
              0,
              "#0d0887"
             ],
             [
              0.1111111111,
              "#46039f"
             ],
             [
              0.2222222222,
              "#7201a8"
             ],
             [
              0.3333333333,
              "#9c179e"
             ],
             [
              0.4444444444,
              "#bd3786"
             ],
             [
              0.5555555556,
              "#d8576b"
             ],
             [
              0.6666666667,
              "#ed7953"
             ],
             [
              0.7777777778,
              "#fb9f3a"
             ],
             [
              0.8888888889,
              "#fdca26"
             ],
             [
              1,
              "#f0f921"
             ]
            ],
            "type": "heatmapgl"
           }
          ],
          "histogram": [
           {
            "marker": {
             "colorbar": {
              "outlinewidth": 0,
              "ticks": ""
             }
            },
            "type": "histogram"
           }
          ],
          "histogram2d": [
           {
            "colorbar": {
             "outlinewidth": 0,
             "ticks": ""
            },
            "colorscale": [
             [
              0,
              "#0d0887"
             ],
             [
              0.1111111111,
              "#46039f"
             ],
             [
              0.2222222222,
              "#7201a8"
             ],
             [
              0.3333333333,
              "#9c179e"
             ],
             [
              0.4444444444,
              "#bd3786"
             ],
             [
              0.5555555556,
              "#d8576b"
             ],
             [
              0.6666666667,
              "#ed7953"
             ],
             [
              0.7777777778,
              "#fb9f3a"
             ],
             [
              0.8888888889,
              "#fdca26"
             ],
             [
              1,
              "#f0f921"
             ]
            ],
            "type": "histogram2d"
           }
          ],
          "histogram2dcontour": [
           {
            "colorbar": {
             "outlinewidth": 0,
             "ticks": ""
            },
            "colorscale": [
             [
              0,
              "#0d0887"
             ],
             [
              0.1111111111,
              "#46039f"
             ],
             [
              0.2222222222,
              "#7201a8"
             ],
             [
              0.3333333333,
              "#9c179e"
             ],
             [
              0.4444444444,
              "#bd3786"
             ],
             [
              0.5555555556,
              "#d8576b"
             ],
             [
              0.6666666667,
              "#ed7953"
             ],
             [
              0.7777777778,
              "#fb9f3a"
             ],
             [
              0.8888888889,
              "#fdca26"
             ],
             [
              1,
              "#f0f921"
             ]
            ],
            "type": "histogram2dcontour"
           }
          ],
          "mesh3d": [
           {
            "colorbar": {
             "outlinewidth": 0,
             "ticks": ""
            },
            "type": "mesh3d"
           }
          ],
          "parcoords": [
           {
            "line": {
             "colorbar": {
              "outlinewidth": 0,
              "ticks": ""
             }
            },
            "type": "parcoords"
           }
          ],
          "scatter": [
           {
            "marker": {
             "colorbar": {
              "outlinewidth": 0,
              "ticks": ""
             }
            },
            "type": "scatter"
           }
          ],
          "scatter3d": [
           {
            "line": {
             "colorbar": {
              "outlinewidth": 0,
              "ticks": ""
             }
            },
            "marker": {
             "colorbar": {
              "outlinewidth": 0,
              "ticks": ""
             }
            },
            "type": "scatter3d"
           }
          ],
          "scattercarpet": [
           {
            "marker": {
             "colorbar": {
              "outlinewidth": 0,
              "ticks": ""
             }
            },
            "type": "scattercarpet"
           }
          ],
          "scattergeo": [
           {
            "marker": {
             "colorbar": {
              "outlinewidth": 0,
              "ticks": ""
             }
            },
            "type": "scattergeo"
           }
          ],
          "scattergl": [
           {
            "marker": {
             "colorbar": {
              "outlinewidth": 0,
              "ticks": ""
             }
            },
            "type": "scattergl"
           }
          ],
          "scattermapbox": [
           {
            "marker": {
             "colorbar": {
              "outlinewidth": 0,
              "ticks": ""
             }
            },
            "type": "scattermapbox"
           }
          ],
          "scatterpolar": [
           {
            "marker": {
             "colorbar": {
              "outlinewidth": 0,
              "ticks": ""
             }
            },
            "type": "scatterpolar"
           }
          ],
          "scatterpolargl": [
           {
            "marker": {
             "colorbar": {
              "outlinewidth": 0,
              "ticks": ""
             }
            },
            "type": "scatterpolargl"
           }
          ],
          "scatterternary": [
           {
            "marker": {
             "colorbar": {
              "outlinewidth": 0,
              "ticks": ""
             }
            },
            "type": "scatterternary"
           }
          ],
          "surface": [
           {
            "colorbar": {
             "outlinewidth": 0,
             "ticks": ""
            },
            "colorscale": [
             [
              0,
              "#0d0887"
             ],
             [
              0.1111111111,
              "#46039f"
             ],
             [
              0.2222222222,
              "#7201a8"
             ],
             [
              0.3333333333,
              "#9c179e"
             ],
             [
              0.4444444444,
              "#bd3786"
             ],
             [
              0.5555555556,
              "#d8576b"
             ],
             [
              0.6666666667,
              "#ed7953"
             ],
             [
              0.7777777778,
              "#fb9f3a"
             ],
             [
              0.8888888889,
              "#fdca26"
             ],
             [
              1,
              "#f0f921"
             ]
            ],
            "type": "surface"
           }
          ],
          "table": [
           {
            "cells": {
             "fill": {
              "color": "#EBF0F8"
             },
             "line": {
              "color": "white"
             }
            },
            "header": {
             "fill": {
              "color": "#C8D4E3"
             },
             "line": {
              "color": "white"
             }
            },
            "type": "table"
           }
          ]
         },
         "layout": {
          "annotationdefaults": {
           "arrowcolor": "#2a3f5f",
           "arrowhead": 0,
           "arrowwidth": 1
          },
          "colorscale": {
           "diverging": [
            [
             0,
             "#8e0152"
            ],
            [
             0.1,
             "#c51b7d"
            ],
            [
             0.2,
             "#de77ae"
            ],
            [
             0.3,
             "#f1b6da"
            ],
            [
             0.4,
             "#fde0ef"
            ],
            [
             0.5,
             "#f7f7f7"
            ],
            [
             0.6,
             "#e6f5d0"
            ],
            [
             0.7,
             "#b8e186"
            ],
            [
             0.8,
             "#7fbc41"
            ],
            [
             0.9,
             "#4d9221"
            ],
            [
             1,
             "#276419"
            ]
           ],
           "sequential": [
            [
             0,
             "#0d0887"
            ],
            [
             0.1111111111,
             "#46039f"
            ],
            [
             0.2222222222,
             "#7201a8"
            ],
            [
             0.3333333333,
             "#9c179e"
            ],
            [
             0.4444444444,
             "#bd3786"
            ],
            [
             0.5555555556,
             "#d8576b"
            ],
            [
             0.6666666667,
             "#ed7953"
            ],
            [
             0.7777777778,
             "#fb9f3a"
            ],
            [
             0.8888888889,
             "#fdca26"
            ],
            [
             1,
             "#f0f921"
            ]
           ],
           "sequentialminus": [
            [
             0,
             "#0d0887"
            ],
            [
             0.1111111111,
             "#46039f"
            ],
            [
             0.2222222222,
             "#7201a8"
            ],
            [
             0.3333333333,
             "#9c179e"
            ],
            [
             0.4444444444,
             "#bd3786"
            ],
            [
             0.5555555556,
             "#d8576b"
            ],
            [
             0.6666666667,
             "#ed7953"
            ],
            [
             0.7777777778,
             "#fb9f3a"
            ],
            [
             0.8888888889,
             "#fdca26"
            ],
            [
             1,
             "#f0f921"
            ]
           ]
          },
          "colorway": [
           "#636efa",
           "#EF553B",
           "#00cc96",
           "#ab63fa",
           "#FFA15A",
           "#19d3f3",
           "#FF6692",
           "#B6E880",
           "#FF97FF",
           "#FECB52"
          ],
          "font": {
           "color": "#2a3f5f"
          },
          "geo": {
           "bgcolor": "white",
           "lakecolor": "white",
           "landcolor": "#E5ECF6",
           "showlakes": true,
           "showland": true,
           "subunitcolor": "white"
          },
          "hoverlabel": {
           "align": "left"
          },
          "hovermode": "closest",
          "mapbox": {
           "style": "light"
          },
          "paper_bgcolor": "white",
          "plot_bgcolor": "#E5ECF6",
          "polar": {
           "angularaxis": {
            "gridcolor": "white",
            "linecolor": "white",
            "ticks": ""
           },
           "bgcolor": "#E5ECF6",
           "radialaxis": {
            "gridcolor": "white",
            "linecolor": "white",
            "ticks": ""
           }
          },
          "scene": {
           "xaxis": {
            "backgroundcolor": "#E5ECF6",
            "gridcolor": "white",
            "gridwidth": 2,
            "linecolor": "white",
            "showbackground": true,
            "ticks": "",
            "zerolinecolor": "white"
           },
           "yaxis": {
            "backgroundcolor": "#E5ECF6",
            "gridcolor": "white",
            "gridwidth": 2,
            "linecolor": "white",
            "showbackground": true,
            "ticks": "",
            "zerolinecolor": "white"
           },
           "zaxis": {
            "backgroundcolor": "#E5ECF6",
            "gridcolor": "white",
            "gridwidth": 2,
            "linecolor": "white",
            "showbackground": true,
            "ticks": "",
            "zerolinecolor": "white"
           }
          },
          "shapedefaults": {
           "line": {
            "color": "#2a3f5f"
           }
          },
          "ternary": {
           "aaxis": {
            "gridcolor": "white",
            "linecolor": "white",
            "ticks": ""
           },
           "baxis": {
            "gridcolor": "white",
            "linecolor": "white",
            "ticks": ""
           },
           "bgcolor": "#E5ECF6",
           "caxis": {
            "gridcolor": "white",
            "linecolor": "white",
            "ticks": ""
           }
          },
          "title": {
           "x": 0.05
          },
          "xaxis": {
           "automargin": true,
           "gridcolor": "white",
           "linecolor": "white",
           "ticks": "",
           "zerolinecolor": "white",
           "zerolinewidth": 2
          },
          "yaxis": {
           "automargin": true,
           "gridcolor": "white",
           "linecolor": "white",
           "ticks": "",
           "zerolinecolor": "white",
           "zerolinewidth": 2
          }
         }
        }
       }
      },
      "text/html": [
       "<div>\n",
       "        \n",
       "        \n",
       "            <div id=\"37b24e9b-5a19-4b2b-950f-4ae7b37c62cc\" class=\"plotly-graph-div\" style=\"height:525px; width:100%;\"></div>\n",
       "            <script type=\"text/javascript\">\n",
       "                require([\"plotly\"], function(Plotly) {\n",
       "                    window.PLOTLYENV=window.PLOTLYENV || {};\n",
       "                    \n",
       "                if (document.getElementById(\"37b24e9b-5a19-4b2b-950f-4ae7b37c62cc\")) {\n",
       "                    Plotly.newPlot(\n",
       "                        '37b24e9b-5a19-4b2b-950f-4ae7b37c62cc',\n",
       "                        [{\"labels\": [\"\\u043a\\u0430\\u0444\\u0435\", \"\\u0441\\u0442\\u043e\\u043b\\u043e\\u0432\\u0430\\u044f\", \"\\u0437\\u0430\\u043a\\u0443\\u0441\\u043e\\u0447\\u043d\\u0430\\u044f\", \"\\u043f\\u0440\\u0435\\u0434\\u043f\\u0440\\u0438\\u044f\\u0442\\u0438\\u0435 \\u0431\\u044b\\u0441\\u0442\\u0440\\u043e\\u0433\\u043e \\u043e\\u0431\\u0441\\u043b\\u0443\\u0436\\u0438\\u0432\\u0430\\u043d\\u0438\\u044f\", \"\\u0440\\u0435\\u0441\\u0442\\u043e\\u0440\\u0430\\u043d\", \"\\u043a\\u0430\\u0444\\u0435\\u0442\\u0435\\u0440\\u0438\\u0439\", \"\\u0431\\u0443\\u0444\\u0435\\u0442\", \"\\u0431\\u0430\\u0440\", \"\\u043c\\u0430\\u0433\\u0430\\u0437\\u0438\\u043d (\\u043e\\u0442\\u0434\\u0435\\u043b \\u043a\\u0443\\u043b\\u0438\\u043d\\u0430\\u0440\\u0438\\u0438)\"], \"type\": \"pie\", \"values\": [6099, 2587, 2285, 1923, 856, 585, 398, 360, 273]}],\n",
       "                        {\"template\": {\"data\": {\"bar\": [{\"error_x\": {\"color\": \"#2a3f5f\"}, \"error_y\": {\"color\": \"#2a3f5f\"}, \"marker\": {\"line\": {\"color\": \"#E5ECF6\", \"width\": 0.5}}, \"type\": \"bar\"}], \"barpolar\": [{\"marker\": {\"line\": {\"color\": \"#E5ECF6\", \"width\": 0.5}}, \"type\": \"barpolar\"}], \"carpet\": [{\"aaxis\": {\"endlinecolor\": \"#2a3f5f\", \"gridcolor\": \"white\", \"linecolor\": \"white\", \"minorgridcolor\": \"white\", \"startlinecolor\": \"#2a3f5f\"}, \"baxis\": {\"endlinecolor\": \"#2a3f5f\", \"gridcolor\": \"white\", \"linecolor\": \"white\", \"minorgridcolor\": \"white\", \"startlinecolor\": \"#2a3f5f\"}, \"type\": \"carpet\"}], \"choropleth\": [{\"colorbar\": {\"outlinewidth\": 0, \"ticks\": \"\"}, \"type\": \"choropleth\"}], \"contour\": [{\"colorbar\": {\"outlinewidth\": 0, \"ticks\": \"\"}, \"colorscale\": [[0.0, \"#0d0887\"], [0.1111111111111111, \"#46039f\"], [0.2222222222222222, \"#7201a8\"], [0.3333333333333333, \"#9c179e\"], [0.4444444444444444, \"#bd3786\"], [0.5555555555555556, \"#d8576b\"], [0.6666666666666666, \"#ed7953\"], [0.7777777777777778, \"#fb9f3a\"], [0.8888888888888888, \"#fdca26\"], [1.0, \"#f0f921\"]], \"type\": \"contour\"}], \"contourcarpet\": [{\"colorbar\": {\"outlinewidth\": 0, \"ticks\": \"\"}, \"type\": \"contourcarpet\"}], \"heatmap\": [{\"colorbar\": {\"outlinewidth\": 0, \"ticks\": \"\"}, \"colorscale\": [[0.0, \"#0d0887\"], [0.1111111111111111, \"#46039f\"], [0.2222222222222222, \"#7201a8\"], [0.3333333333333333, \"#9c179e\"], [0.4444444444444444, \"#bd3786\"], [0.5555555555555556, \"#d8576b\"], [0.6666666666666666, \"#ed7953\"], [0.7777777777777778, \"#fb9f3a\"], [0.8888888888888888, \"#fdca26\"], [1.0, \"#f0f921\"]], \"type\": \"heatmap\"}], \"heatmapgl\": [{\"colorbar\": {\"outlinewidth\": 0, \"ticks\": \"\"}, \"colorscale\": [[0.0, \"#0d0887\"], [0.1111111111111111, \"#46039f\"], [0.2222222222222222, \"#7201a8\"], [0.3333333333333333, \"#9c179e\"], [0.4444444444444444, \"#bd3786\"], [0.5555555555555556, \"#d8576b\"], [0.6666666666666666, \"#ed7953\"], [0.7777777777777778, \"#fb9f3a\"], [0.8888888888888888, \"#fdca26\"], [1.0, \"#f0f921\"]], \"type\": \"heatmapgl\"}], \"histogram\": [{\"marker\": {\"colorbar\": {\"outlinewidth\": 0, \"ticks\": \"\"}}, \"type\": \"histogram\"}], \"histogram2d\": [{\"colorbar\": {\"outlinewidth\": 0, \"ticks\": \"\"}, \"colorscale\": [[0.0, \"#0d0887\"], [0.1111111111111111, \"#46039f\"], [0.2222222222222222, \"#7201a8\"], [0.3333333333333333, \"#9c179e\"], [0.4444444444444444, \"#bd3786\"], [0.5555555555555556, \"#d8576b\"], [0.6666666666666666, \"#ed7953\"], [0.7777777777777778, \"#fb9f3a\"], [0.8888888888888888, \"#fdca26\"], [1.0, \"#f0f921\"]], \"type\": \"histogram2d\"}], \"histogram2dcontour\": [{\"colorbar\": {\"outlinewidth\": 0, \"ticks\": \"\"}, \"colorscale\": [[0.0, \"#0d0887\"], [0.1111111111111111, \"#46039f\"], [0.2222222222222222, \"#7201a8\"], [0.3333333333333333, \"#9c179e\"], [0.4444444444444444, \"#bd3786\"], [0.5555555555555556, \"#d8576b\"], [0.6666666666666666, \"#ed7953\"], [0.7777777777777778, \"#fb9f3a\"], [0.8888888888888888, \"#fdca26\"], [1.0, \"#f0f921\"]], \"type\": \"histogram2dcontour\"}], \"mesh3d\": [{\"colorbar\": {\"outlinewidth\": 0, \"ticks\": \"\"}, \"type\": \"mesh3d\"}], \"parcoords\": [{\"line\": {\"colorbar\": {\"outlinewidth\": 0, \"ticks\": \"\"}}, \"type\": \"parcoords\"}], \"scatter\": [{\"marker\": {\"colorbar\": {\"outlinewidth\": 0, \"ticks\": \"\"}}, \"type\": \"scatter\"}], \"scatter3d\": [{\"line\": {\"colorbar\": {\"outlinewidth\": 0, \"ticks\": \"\"}}, \"marker\": {\"colorbar\": {\"outlinewidth\": 0, \"ticks\": \"\"}}, \"type\": \"scatter3d\"}], \"scattercarpet\": [{\"marker\": {\"colorbar\": {\"outlinewidth\": 0, \"ticks\": \"\"}}, \"type\": \"scattercarpet\"}], \"scattergeo\": [{\"marker\": {\"colorbar\": {\"outlinewidth\": 0, \"ticks\": \"\"}}, \"type\": \"scattergeo\"}], \"scattergl\": [{\"marker\": {\"colorbar\": {\"outlinewidth\": 0, \"ticks\": \"\"}}, \"type\": \"scattergl\"}], \"scattermapbox\": [{\"marker\": {\"colorbar\": {\"outlinewidth\": 0, \"ticks\": \"\"}}, \"type\": \"scattermapbox\"}], \"scatterpolar\": [{\"marker\": {\"colorbar\": {\"outlinewidth\": 0, \"ticks\": \"\"}}, \"type\": \"scatterpolar\"}], \"scatterpolargl\": [{\"marker\": {\"colorbar\": {\"outlinewidth\": 0, \"ticks\": \"\"}}, \"type\": \"scatterpolargl\"}], \"scatterternary\": [{\"marker\": {\"colorbar\": {\"outlinewidth\": 0, \"ticks\": \"\"}}, \"type\": \"scatterternary\"}], \"surface\": [{\"colorbar\": {\"outlinewidth\": 0, \"ticks\": \"\"}, \"colorscale\": [[0.0, \"#0d0887\"], [0.1111111111111111, \"#46039f\"], [0.2222222222222222, \"#7201a8\"], [0.3333333333333333, \"#9c179e\"], [0.4444444444444444, \"#bd3786\"], [0.5555555555555556, \"#d8576b\"], [0.6666666666666666, \"#ed7953\"], [0.7777777777777778, \"#fb9f3a\"], [0.8888888888888888, \"#fdca26\"], [1.0, \"#f0f921\"]], \"type\": \"surface\"}], \"table\": [{\"cells\": {\"fill\": {\"color\": \"#EBF0F8\"}, \"line\": {\"color\": \"white\"}}, \"header\": {\"fill\": {\"color\": \"#C8D4E3\"}, \"line\": {\"color\": \"white\"}}, \"type\": \"table\"}]}, \"layout\": {\"annotationdefaults\": {\"arrowcolor\": \"#2a3f5f\", \"arrowhead\": 0, \"arrowwidth\": 1}, \"colorscale\": {\"diverging\": [[0, \"#8e0152\"], [0.1, \"#c51b7d\"], [0.2, \"#de77ae\"], [0.3, \"#f1b6da\"], [0.4, \"#fde0ef\"], [0.5, \"#f7f7f7\"], [0.6, \"#e6f5d0\"], [0.7, \"#b8e186\"], [0.8, \"#7fbc41\"], [0.9, \"#4d9221\"], [1, \"#276419\"]], \"sequential\": [[0.0, \"#0d0887\"], [0.1111111111111111, \"#46039f\"], [0.2222222222222222, \"#7201a8\"], [0.3333333333333333, \"#9c179e\"], [0.4444444444444444, \"#bd3786\"], [0.5555555555555556, \"#d8576b\"], [0.6666666666666666, \"#ed7953\"], [0.7777777777777778, \"#fb9f3a\"], [0.8888888888888888, \"#fdca26\"], [1.0, \"#f0f921\"]], \"sequentialminus\": [[0.0, \"#0d0887\"], [0.1111111111111111, \"#46039f\"], [0.2222222222222222, \"#7201a8\"], [0.3333333333333333, \"#9c179e\"], [0.4444444444444444, \"#bd3786\"], [0.5555555555555556, \"#d8576b\"], [0.6666666666666666, \"#ed7953\"], [0.7777777777777778, \"#fb9f3a\"], [0.8888888888888888, \"#fdca26\"], [1.0, \"#f0f921\"]]}, \"colorway\": [\"#636efa\", \"#EF553B\", \"#00cc96\", \"#ab63fa\", \"#FFA15A\", \"#19d3f3\", \"#FF6692\", \"#B6E880\", \"#FF97FF\", \"#FECB52\"], \"font\": {\"color\": \"#2a3f5f\"}, \"geo\": {\"bgcolor\": \"white\", \"lakecolor\": \"white\", \"landcolor\": \"#E5ECF6\", \"showlakes\": true, \"showland\": true, \"subunitcolor\": \"white\"}, \"hoverlabel\": {\"align\": \"left\"}, \"hovermode\": \"closest\", \"mapbox\": {\"style\": \"light\"}, \"paper_bgcolor\": \"white\", \"plot_bgcolor\": \"#E5ECF6\", \"polar\": {\"angularaxis\": {\"gridcolor\": \"white\", \"linecolor\": \"white\", \"ticks\": \"\"}, \"bgcolor\": \"#E5ECF6\", \"radialaxis\": {\"gridcolor\": \"white\", \"linecolor\": \"white\", \"ticks\": \"\"}}, \"scene\": {\"xaxis\": {\"backgroundcolor\": \"#E5ECF6\", \"gridcolor\": \"white\", \"gridwidth\": 2, \"linecolor\": \"white\", \"showbackground\": true, \"ticks\": \"\", \"zerolinecolor\": \"white\"}, \"yaxis\": {\"backgroundcolor\": \"#E5ECF6\", \"gridcolor\": \"white\", \"gridwidth\": 2, \"linecolor\": \"white\", \"showbackground\": true, \"ticks\": \"\", \"zerolinecolor\": \"white\"}, \"zaxis\": {\"backgroundcolor\": \"#E5ECF6\", \"gridcolor\": \"white\", \"gridwidth\": 2, \"linecolor\": \"white\", \"showbackground\": true, \"ticks\": \"\", \"zerolinecolor\": \"white\"}}, \"shapedefaults\": {\"line\": {\"color\": \"#2a3f5f\"}}, \"ternary\": {\"aaxis\": {\"gridcolor\": \"white\", \"linecolor\": \"white\", \"ticks\": \"\"}, \"baxis\": {\"gridcolor\": \"white\", \"linecolor\": \"white\", \"ticks\": \"\"}, \"bgcolor\": \"#E5ECF6\", \"caxis\": {\"gridcolor\": \"white\", \"linecolor\": \"white\", \"ticks\": \"\"}}, \"title\": {\"x\": 0.05}, \"xaxis\": {\"automargin\": true, \"gridcolor\": \"white\", \"linecolor\": \"white\", \"ticks\": \"\", \"zerolinecolor\": \"white\", \"zerolinewidth\": 2}, \"yaxis\": {\"automargin\": true, \"gridcolor\": \"white\", \"linecolor\": \"white\", \"ticks\": \"\", \"zerolinecolor\": \"white\", \"zerolinewidth\": 2}}}},\n",
       "                        {\"responsive\": true}\n",
       "                    ).then(function(){\n",
       "                            \n",
       "var gd = document.getElementById('37b24e9b-5a19-4b2b-950f-4ae7b37c62cc');\n",
       "var x = new MutationObserver(function (mutations, observer) {{\n",
       "        var display = window.getComputedStyle(gd).display;\n",
       "        if (!display || display === 'none') {{\n",
       "            console.log([gd, 'removed!']);\n",
       "            Plotly.purge(gd);\n",
       "            observer.disconnect();\n",
       "        }}\n",
       "}});\n",
       "\n",
       "// Listen for the removal of the full notebook cells\n",
       "var notebookContainer = gd.closest('#notebook-container');\n",
       "if (notebookContainer) {{\n",
       "    x.observe(notebookContainer, {childList: true});\n",
       "}}\n",
       "\n",
       "// Listen for the clearing of the current output cell\n",
       "var outputEl = gd.closest('.output');\n",
       "if (outputEl) {{\n",
       "    x.observe(outputEl, {childList: true});\n",
       "}}\n",
       "\n",
       "                        })\n",
       "                };\n",
       "                });\n",
       "            </script>\n",
       "        </div>"
      ]
     },
     "metadata": {},
     "output_type": "display_data"
    }
   ],
   "source": [
    "# строю график соотношения видов объектов\n",
    "\n",
    "object_type_percent = rest_data['object_type'].value_counts()\n",
    "\n",
    "fig = go.Figure(data=[go.Pie(labels=object_names, values=object_type_percent)])\n",
    "fig.show() "
   ]
  },
  {
   "cell_type": "markdown",
   "metadata": {},
   "source": [
    "На этом круговой диаграмме видно, что большенство заведений в Москве - кафе (39.7%), затем идут столовые (16.8%),закусочные (14.9%) и фаст фуды (12.5%). Самыми не популярными являются отделы кулинарии (1.78%).\n",
    "\n",
    "<div style=\"border:solid green 2px; padding: 20px\"> \n",
    "    \n",
    "**Комментарий ревьюера**\n",
    "\n",
    "Хорошо, ты верно все рассчитал. Круговая диаграмма здесь возможно, хотя в целом лучше ее не использовать, если количество типов больше 5.\n",
    "    \n",
    "Вообще круг используется чаще, когда хочется показать, что какой-то тип преобладает над другим(и). Иначе, на круге, например, тяжело отличисть 14% и 16%, а вот столбцы были ли бы нагляднее отличимы. Наверное стоило сделать обычную столбчатую диаграмму, хотя это и не ошибка.\n",
    "    \n",
    "</div>\n"
   ]
  },
  {
   "cell_type": "markdown",
   "metadata": {},
   "source": [
    "### Исследуйте соотношение сетевых и несетевых заведений по количеству. Постройте график."
   ]
  },
  {
   "cell_type": "code",
   "execution_count": 164,
   "metadata": {},
   "outputs": [
    {
     "data": {
      "text/html": [
       "<div>\n",
       "<style scoped>\n",
       "    .dataframe tbody tr th:only-of-type {\n",
       "        vertical-align: middle;\n",
       "    }\n",
       "\n",
       "    .dataframe tbody tr th {\n",
       "        vertical-align: top;\n",
       "    }\n",
       "\n",
       "    .dataframe thead th {\n",
       "        text-align: right;\n",
       "    }\n",
       "</style>\n",
       "<table border=\"1\" class=\"dataframe\">\n",
       "  <thead>\n",
       "    <tr style=\"text-align: right;\">\n",
       "      <th></th>\n",
       "      <th>index</th>\n",
       "      <th>chain</th>\n",
       "    </tr>\n",
       "  </thead>\n",
       "  <tbody>\n",
       "    <tr>\n",
       "      <td>0</td>\n",
       "      <td>False</td>\n",
       "      <td>12398</td>\n",
       "    </tr>\n",
       "    <tr>\n",
       "      <td>1</td>\n",
       "      <td>True</td>\n",
       "      <td>2968</td>\n",
       "    </tr>\n",
       "  </tbody>\n",
       "</table>\n",
       "</div>"
      ],
      "text/plain": [
       "   index  chain\n",
       "0  False  12398\n",
       "1   True   2968"
      ]
     },
     "execution_count": 164,
     "metadata": {},
     "output_type": "execute_result"
    }
   ],
   "source": [
    "chain = rest_data['chain'].value_counts().reset_index()\n",
    "chain"
   ]
  },
  {
   "cell_type": "code",
   "execution_count": 165,
   "metadata": {},
   "outputs": [],
   "source": [
    "chain['index']=chain['index'].astype('object')"
   ]
  },
  {
   "cell_type": "code",
   "execution_count": 166,
   "metadata": {},
   "outputs": [],
   "source": [
    "chain['index'].replace(to_replace=[False], value=\"Not chain\",regex=True, inplace=True)\n",
    "chain['index'].replace(to_replace=[True], value=\"Chain\",regex=True, inplace=True)"
   ]
  },
  {
   "cell_type": "code",
   "execution_count": 167,
   "metadata": {},
   "outputs": [],
   "source": [
    "chain.columns = ['Вид', 'Количество']"
   ]
  },
  {
   "cell_type": "code",
   "execution_count": 168,
   "metadata": {},
   "outputs": [
    {
     "data": {
      "text/html": [
       "<div>\n",
       "<style scoped>\n",
       "    .dataframe tbody tr th:only-of-type {\n",
       "        vertical-align: middle;\n",
       "    }\n",
       "\n",
       "    .dataframe tbody tr th {\n",
       "        vertical-align: top;\n",
       "    }\n",
       "\n",
       "    .dataframe thead th {\n",
       "        text-align: right;\n",
       "    }\n",
       "</style>\n",
       "<table border=\"1\" class=\"dataframe\">\n",
       "  <thead>\n",
       "    <tr style=\"text-align: right;\">\n",
       "      <th></th>\n",
       "      <th>Вид</th>\n",
       "      <th>Количество</th>\n",
       "    </tr>\n",
       "  </thead>\n",
       "  <tbody>\n",
       "    <tr>\n",
       "      <td>0</td>\n",
       "      <td>Not chain</td>\n",
       "      <td>12398</td>\n",
       "    </tr>\n",
       "    <tr>\n",
       "      <td>1</td>\n",
       "      <td>Chain</td>\n",
       "      <td>2968</td>\n",
       "    </tr>\n",
       "  </tbody>\n",
       "</table>\n",
       "</div>"
      ],
      "text/plain": [
       "         Вид  Количество\n",
       "0  Not chain       12398\n",
       "1      Chain        2968"
      ]
     },
     "execution_count": 168,
     "metadata": {},
     "output_type": "execute_result"
    }
   ],
   "source": [
    "chain"
   ]
  },
  {
   "cell_type": "code",
   "execution_count": 169,
   "metadata": {},
   "outputs": [
    {
     "data": {
      "image/png": "[encoded data removed]",
      "text/plain": [
       "<Figure size 576x720 with 1 Axes>"
      ]
     },
     "metadata": {
      "needs_background": "light"
     },
     "output_type": "display_data"
    }
   ],
   "source": [
    "plt.figure(figsize=(8, 10)) \n",
    "sns.barplot(\n",
    "    x='Вид', \n",
    "    y='Количество', \n",
    "    data=chain\n",
    ")\n",
    "plt.show()\n"
   ]
  },
  {
   "cell_type": "markdown",
   "metadata": {},
   "source": [
    "На графике видно, что не сетевых ресторанов в 4 раза больше, чем сетевых.\n",
    "\n",
    "<div style=\"border:solid green 2px; padding: 20px\"> \n",
    "    \n",
    "**Комментарий ревьюера**\n",
    "\n",
    "Ок, а вот здесь как раз круговая диаграмма отлично сработала бы, хотя и столбцы наглядны, но pie-chart мог бы быть более компактным\n",
    "    \n",
    "</div>\n"
   ]
  },
  {
   "cell_type": "markdown",
   "metadata": {},
   "source": [
    "### Для какого вида объекта общественного питания характерно сетевое распространение?"
   ]
  },
  {
   "cell_type": "code",
   "execution_count": 170,
   "metadata": {},
   "outputs": [
    {
     "data": {
      "text/html": [
       "<div>\n",
       "<style scoped>\n",
       "    .dataframe tbody tr th:only-of-type {\n",
       "        vertical-align: middle;\n",
       "    }\n",
       "\n",
       "    .dataframe tbody tr th {\n",
       "        vertical-align: top;\n",
       "    }\n",
       "\n",
       "    .dataframe thead th {\n",
       "        text-align: right;\n",
       "    }\n",
       "</style>\n",
       "<table border=\"1\" class=\"dataframe\">\n",
       "  <thead>\n",
       "    <tr style=\"text-align: right;\">\n",
       "      <th></th>\n",
       "      <th>object_type</th>\n",
       "      <th>chain</th>\n",
       "    </tr>\n",
       "  </thead>\n",
       "  <tbody>\n",
       "    <tr>\n",
       "      <td>0</td>\n",
       "      <td>кафе</td>\n",
       "      <td>1396.0</td>\n",
       "    </tr>\n",
       "    <tr>\n",
       "      <td>1</td>\n",
       "      <td>предприятие быстрого обслуживания</td>\n",
       "      <td>791.0</td>\n",
       "    </tr>\n",
       "    <tr>\n",
       "      <td>2</td>\n",
       "      <td>ресторан</td>\n",
       "      <td>544.0</td>\n",
       "    </tr>\n",
       "    <tr>\n",
       "      <td>3</td>\n",
       "      <td>магазин (отдел кулинарии)</td>\n",
       "      <td>78.0</td>\n",
       "    </tr>\n",
       "    <tr>\n",
       "      <td>4</td>\n",
       "      <td>закусочная</td>\n",
       "      <td>56.0</td>\n",
       "    </tr>\n",
       "    <tr>\n",
       "      <td>5</td>\n",
       "      <td>кафетерий</td>\n",
       "      <td>52.0</td>\n",
       "    </tr>\n",
       "    <tr>\n",
       "      <td>6</td>\n",
       "      <td>бар</td>\n",
       "      <td>37.0</td>\n",
       "    </tr>\n",
       "    <tr>\n",
       "      <td>7</td>\n",
       "      <td>буфет</td>\n",
       "      <td>11.0</td>\n",
       "    </tr>\n",
       "    <tr>\n",
       "      <td>8</td>\n",
       "      <td>столовая</td>\n",
       "      <td>3.0</td>\n",
       "    </tr>\n",
       "  </tbody>\n",
       "</table>\n",
       "</div>"
      ],
      "text/plain": [
       "                         object_type   chain\n",
       "0                               кафе  1396.0\n",
       "1  предприятие быстрого обслуживания   791.0\n",
       "2                           ресторан   544.0\n",
       "3          магазин (отдел кулинарии)    78.0\n",
       "4                         закусочная    56.0\n",
       "5                          кафетерий    52.0\n",
       "6                                бар    37.0\n",
       "7                              буфет    11.0\n",
       "8                           столовая     3.0"
      ]
     },
     "execution_count": 170,
     "metadata": {},
     "output_type": "execute_result"
    }
   ],
   "source": [
    "df_chain_True = rest_data.groupby('object_type')['chain'].agg('sum').sort_values(ascending=False).reset_index()\n",
    "df_chain_True"
   ]
  },
  {
   "cell_type": "code",
   "execution_count": 171,
   "metadata": {},
   "outputs": [],
   "source": [
    "df_chain_True.columns =['Вид','Количество']"
   ]
  },
  {
   "cell_type": "code",
   "execution_count": 172,
   "metadata": {},
   "outputs": [
    {
     "data": {
      "image/png": "[encoded data removed]",
      "text/plain": [
       "<Figure size 1656x648 with 1 Axes>"
      ]
     },
     "metadata": {
      "needs_background": "light"
     },
     "output_type": "display_data"
    }
   ],
   "source": [
    "plt.figure(figsize=(23,9)) \n",
    "sns.barplot(\n",
    "    x='Вид', \n",
    "    y='Количество', \n",
    "    data=df_chain_True\n",
    ")\n",
    "\n",
    "plt.show()"
   ]
  },
  {
   "cell_type": "markdown",
   "metadata": {},
   "source": [
    "Наиболее характерно сетевое распространение для кафе, фаст фуда и ресторанов. Самыми не сетевыми типами объектами стали столовые, буфеты и бары.\n",
    "\n",
    "<div style=\"border:solid red 2px; padding: 20px\"> \n",
    "    \n",
    "**Комментарий ревьюера**\n",
    "\n",
    "Нет, здесь не совсем корректный анализ. \"Характерно сетевое распространение\" - значит процент сетевых среди этого типа ниабольший.\n",
    "    \n",
    "Предствь, что у нас 1000 кафе из них 100 сетевых, а баров всего 10 из них 8 сетевых. Да сетевых кафе больше. А вот для какого типа более характерно сетевая принадлежность?\n",
    "    \n",
    "</div>\n"
   ]
  },
  {
   "cell_type": "code",
   "execution_count": 173,
   "metadata": {
    "scrolled": true
   },
   "outputs": [
    {
     "data": {
      "text/html": [
       "<div>\n",
       "<style scoped>\n",
       "    .dataframe tbody tr th:only-of-type {\n",
       "        vertical-align: middle;\n",
       "    }\n",
       "\n",
       "    .dataframe tbody tr th {\n",
       "        vertical-align: top;\n",
       "    }\n",
       "\n",
       "    .dataframe thead th {\n",
       "        text-align: right;\n",
       "    }\n",
       "</style>\n",
       "<table border=\"1\" class=\"dataframe\">\n",
       "  <thead>\n",
       "    <tr style=\"text-align: right;\">\n",
       "      <th></th>\n",
       "      <th>object_type</th>\n",
       "      <th>chain</th>\n",
       "    </tr>\n",
       "  </thead>\n",
       "  <tbody>\n",
       "    <tr>\n",
       "      <td>0</td>\n",
       "      <td>кафе</td>\n",
       "      <td>6099</td>\n",
       "    </tr>\n",
       "    <tr>\n",
       "      <td>1</td>\n",
       "      <td>столовая</td>\n",
       "      <td>2587</td>\n",
       "    </tr>\n",
       "    <tr>\n",
       "      <td>2</td>\n",
       "      <td>ресторан</td>\n",
       "      <td>2285</td>\n",
       "    </tr>\n",
       "    <tr>\n",
       "      <td>3</td>\n",
       "      <td>предприятие быстрого обслуживания</td>\n",
       "      <td>1923</td>\n",
       "    </tr>\n",
       "    <tr>\n",
       "      <td>4</td>\n",
       "      <td>бар</td>\n",
       "      <td>856</td>\n",
       "    </tr>\n",
       "    <tr>\n",
       "      <td>5</td>\n",
       "      <td>буфет</td>\n",
       "      <td>585</td>\n",
       "    </tr>\n",
       "    <tr>\n",
       "      <td>6</td>\n",
       "      <td>кафетерий</td>\n",
       "      <td>398</td>\n",
       "    </tr>\n",
       "    <tr>\n",
       "      <td>7</td>\n",
       "      <td>закусочная</td>\n",
       "      <td>360</td>\n",
       "    </tr>\n",
       "    <tr>\n",
       "      <td>8</td>\n",
       "      <td>магазин (отдел кулинарии)</td>\n",
       "      <td>273</td>\n",
       "    </tr>\n",
       "  </tbody>\n",
       "</table>\n",
       "</div>"
      ],
      "text/plain": [
       "                         object_type  chain\n",
       "0                               кафе   6099\n",
       "1                           столовая   2587\n",
       "2                           ресторан   2285\n",
       "3  предприятие быстрого обслуживания   1923\n",
       "4                                бар    856\n",
       "5                              буфет    585\n",
       "6                          кафетерий    398\n",
       "7                         закусочная    360\n",
       "8          магазин (отдел кулинарии)    273"
      ]
     },
     "execution_count": 173,
     "metadata": {},
     "output_type": "execute_result"
    }
   ],
   "source": [
    "True1 = rest_data.groupby('object_type')['chain'].agg('count').sort_values(ascending=False).reset_index()\n",
    "True1"
   ]
  },
  {
   "cell_type": "code",
   "execution_count": null,
   "metadata": {},
   "outputs": [],
   "source": []
  },
  {
   "cell_type": "code",
   "execution_count": 174,
   "metadata": {},
   "outputs": [
    {
     "data": {
      "text/html": [
       "<div>\n",
       "<style scoped>\n",
       "    .dataframe tbody tr th:only-of-type {\n",
       "        vertical-align: middle;\n",
       "    }\n",
       "\n",
       "    .dataframe tbody tr th {\n",
       "        vertical-align: top;\n",
       "    }\n",
       "\n",
       "    .dataframe thead th {\n",
       "        text-align: right;\n",
       "    }\n",
       "</style>\n",
       "<table border=\"1\" class=\"dataframe\">\n",
       "  <thead>\n",
       "    <tr style=\"text-align: right;\">\n",
       "      <th></th>\n",
       "      <th>object_type</th>\n",
       "      <th>chain</th>\n",
       "    </tr>\n",
       "  </thead>\n",
       "  <tbody>\n",
       "    <tr>\n",
       "      <td>0</td>\n",
       "      <td>кафе</td>\n",
       "      <td>4703</td>\n",
       "    </tr>\n",
       "    <tr>\n",
       "      <td>1</td>\n",
       "      <td>столовая</td>\n",
       "      <td>2584</td>\n",
       "    </tr>\n",
       "    <tr>\n",
       "      <td>2</td>\n",
       "      <td>ресторан</td>\n",
       "      <td>1741</td>\n",
       "    </tr>\n",
       "    <tr>\n",
       "      <td>3</td>\n",
       "      <td>предприятие быстрого обслуживания</td>\n",
       "      <td>1132</td>\n",
       "    </tr>\n",
       "    <tr>\n",
       "      <td>4</td>\n",
       "      <td>бар</td>\n",
       "      <td>819</td>\n",
       "    </tr>\n",
       "    <tr>\n",
       "      <td>5</td>\n",
       "      <td>буфет</td>\n",
       "      <td>574</td>\n",
       "    </tr>\n",
       "    <tr>\n",
       "      <td>6</td>\n",
       "      <td>кафетерий</td>\n",
       "      <td>346</td>\n",
       "    </tr>\n",
       "    <tr>\n",
       "      <td>7</td>\n",
       "      <td>закусочная</td>\n",
       "      <td>304</td>\n",
       "    </tr>\n",
       "    <tr>\n",
       "      <td>8</td>\n",
       "      <td>магазин (отдел кулинарии)</td>\n",
       "      <td>195</td>\n",
       "    </tr>\n",
       "  </tbody>\n",
       "</table>\n",
       "</div>"
      ],
      "text/plain": [
       "                         object_type  chain\n",
       "0                               кафе   4703\n",
       "1                           столовая   2584\n",
       "2                           ресторан   1741\n",
       "3  предприятие быстрого обслуживания   1132\n",
       "4                                бар    819\n",
       "5                              буфет    574\n",
       "6                          кафетерий    346\n",
       "7                         закусочная    304\n",
       "8          магазин (отдел кулинарии)    195"
      ]
     },
     "execution_count": 174,
     "metadata": {},
     "output_type": "execute_result"
    }
   ],
   "source": [
    "rest_data_true = rest_data.query('chain == False')\n",
    "True3 = rest_data_true.groupby('object_type')['chain'].agg('count').sort_values(ascending=False).reset_index()\n",
    "True3"
   ]
  },
  {
   "cell_type": "code",
   "execution_count": 175,
   "metadata": {},
   "outputs": [],
   "source": [
    "df_type_count = True3.merge(True1, on = 'object_type') "
   ]
  },
  {
   "cell_type": "code",
   "execution_count": 176,
   "metadata": {},
   "outputs": [],
   "source": [
    "df_type_count.columns = ['Вид','Сеть','Всего']"
   ]
  },
  {
   "cell_type": "code",
   "execution_count": 177,
   "metadata": {},
   "outputs": [
    {
     "data": {
      "text/html": [
       "<div>\n",
       "<style scoped>\n",
       "    .dataframe tbody tr th:only-of-type {\n",
       "        vertical-align: middle;\n",
       "    }\n",
       "\n",
       "    .dataframe tbody tr th {\n",
       "        vertical-align: top;\n",
       "    }\n",
       "\n",
       "    .dataframe thead th {\n",
       "        text-align: right;\n",
       "    }\n",
       "</style>\n",
       "<table border=\"1\" class=\"dataframe\">\n",
       "  <thead>\n",
       "    <tr style=\"text-align: right;\">\n",
       "      <th></th>\n",
       "      <th>Вид</th>\n",
       "      <th>Сеть</th>\n",
       "      <th>Всего</th>\n",
       "    </tr>\n",
       "  </thead>\n",
       "  <tbody>\n",
       "    <tr>\n",
       "      <td>0</td>\n",
       "      <td>кафе</td>\n",
       "      <td>4703</td>\n",
       "      <td>6099</td>\n",
       "    </tr>\n",
       "    <tr>\n",
       "      <td>1</td>\n",
       "      <td>столовая</td>\n",
       "      <td>2584</td>\n",
       "      <td>2587</td>\n",
       "    </tr>\n",
       "    <tr>\n",
       "      <td>2</td>\n",
       "      <td>ресторан</td>\n",
       "      <td>1741</td>\n",
       "      <td>2285</td>\n",
       "    </tr>\n",
       "    <tr>\n",
       "      <td>3</td>\n",
       "      <td>предприятие быстрого обслуживания</td>\n",
       "      <td>1132</td>\n",
       "      <td>1923</td>\n",
       "    </tr>\n",
       "    <tr>\n",
       "      <td>4</td>\n",
       "      <td>бар</td>\n",
       "      <td>819</td>\n",
       "      <td>856</td>\n",
       "    </tr>\n",
       "    <tr>\n",
       "      <td>5</td>\n",
       "      <td>буфет</td>\n",
       "      <td>574</td>\n",
       "      <td>585</td>\n",
       "    </tr>\n",
       "    <tr>\n",
       "      <td>6</td>\n",
       "      <td>кафетерий</td>\n",
       "      <td>346</td>\n",
       "      <td>398</td>\n",
       "    </tr>\n",
       "    <tr>\n",
       "      <td>7</td>\n",
       "      <td>закусочная</td>\n",
       "      <td>304</td>\n",
       "      <td>360</td>\n",
       "    </tr>\n",
       "    <tr>\n",
       "      <td>8</td>\n",
       "      <td>магазин (отдел кулинарии)</td>\n",
       "      <td>195</td>\n",
       "      <td>273</td>\n",
       "    </tr>\n",
       "  </tbody>\n",
       "</table>\n",
       "</div>"
      ],
      "text/plain": [
       "                                 Вид  Сеть  Всего\n",
       "0                               кафе  4703   6099\n",
       "1                           столовая  2584   2587\n",
       "2                           ресторан  1741   2285\n",
       "3  предприятие быстрого обслуживания  1132   1923\n",
       "4                                бар   819    856\n",
       "5                              буфет   574    585\n",
       "6                          кафетерий   346    398\n",
       "7                         закусочная   304    360\n",
       "8          магазин (отдел кулинарии)   195    273"
      ]
     },
     "execution_count": 177,
     "metadata": {},
     "output_type": "execute_result"
    }
   ],
   "source": [
    "df_type_count"
   ]
  },
  {
   "cell_type": "code",
   "execution_count": 178,
   "metadata": {},
   "outputs": [
    {
     "data": {
      "text/html": [
       "<div>\n",
       "<style scoped>\n",
       "    .dataframe tbody tr th:only-of-type {\n",
       "        vertical-align: middle;\n",
       "    }\n",
       "\n",
       "    .dataframe tbody tr th {\n",
       "        vertical-align: top;\n",
       "    }\n",
       "\n",
       "    .dataframe thead th {\n",
       "        text-align: right;\n",
       "    }\n",
       "</style>\n",
       "<table border=\"1\" class=\"dataframe\">\n",
       "  <thead>\n",
       "    <tr style=\"text-align: right;\">\n",
       "      <th></th>\n",
       "      <th>Вид</th>\n",
       "      <th>Сеть</th>\n",
       "      <th>Всего</th>\n",
       "    </tr>\n",
       "  </thead>\n",
       "  <tbody>\n",
       "    <tr>\n",
       "      <td>0</td>\n",
       "      <td>кафе</td>\n",
       "      <td>4703</td>\n",
       "      <td>6099</td>\n",
       "    </tr>\n",
       "    <tr>\n",
       "      <td>1</td>\n",
       "      <td>столовая</td>\n",
       "      <td>2584</td>\n",
       "      <td>2587</td>\n",
       "    </tr>\n",
       "    <tr>\n",
       "      <td>2</td>\n",
       "      <td>ресторан</td>\n",
       "      <td>1741</td>\n",
       "      <td>2285</td>\n",
       "    </tr>\n",
       "    <tr>\n",
       "      <td>3</td>\n",
       "      <td>предприятие быстрого обслуживания</td>\n",
       "      <td>1132</td>\n",
       "      <td>1923</td>\n",
       "    </tr>\n",
       "    <tr>\n",
       "      <td>4</td>\n",
       "      <td>бар</td>\n",
       "      <td>819</td>\n",
       "      <td>856</td>\n",
       "    </tr>\n",
       "    <tr>\n",
       "      <td>5</td>\n",
       "      <td>буфет</td>\n",
       "      <td>574</td>\n",
       "      <td>585</td>\n",
       "    </tr>\n",
       "    <tr>\n",
       "      <td>6</td>\n",
       "      <td>кафетерий</td>\n",
       "      <td>346</td>\n",
       "      <td>398</td>\n",
       "    </tr>\n",
       "    <tr>\n",
       "      <td>7</td>\n",
       "      <td>закусочная</td>\n",
       "      <td>304</td>\n",
       "      <td>360</td>\n",
       "    </tr>\n",
       "    <tr>\n",
       "      <td>8</td>\n",
       "      <td>магазин (отдел кулинарии)</td>\n",
       "      <td>195</td>\n",
       "      <td>273</td>\n",
       "    </tr>\n",
       "  </tbody>\n",
       "</table>\n",
       "</div>"
      ],
      "text/plain": [
       "                                 Вид  Сеть  Всего\n",
       "0                               кафе  4703   6099\n",
       "1                           столовая  2584   2587\n",
       "2                           ресторан  1741   2285\n",
       "3  предприятие быстрого обслуживания  1132   1923\n",
       "4                                бар   819    856\n",
       "5                              буфет   574    585\n",
       "6                          кафетерий   346    398\n",
       "7                         закусочная   304    360\n",
       "8          магазин (отдел кулинарии)   195    273"
      ]
     },
     "execution_count": 178,
     "metadata": {},
     "output_type": "execute_result"
    }
   ],
   "source": [
    "df_type_count"
   ]
  },
  {
   "cell_type": "code",
   "execution_count": 179,
   "metadata": {},
   "outputs": [],
   "source": [
    "df_type_count['Не сеть'] = df_type_count['Всего'] - df_type_count['Сеть']"
   ]
  },
  {
   "cell_type": "code",
   "execution_count": 180,
   "metadata": {},
   "outputs": [],
   "source": [
    "df_type_count['Не сеть, %'] = ((df_type_count['Не сеть']/df_type_count['Всего']) * 100).round(1)"
   ]
  },
  {
   "cell_type": "code",
   "execution_count": 181,
   "metadata": {},
   "outputs": [],
   "source": [
    "df_type_count['Cеть, %'] = ((df_type_count['Сеть']/df_type_count['Всего']) * 100).round(1)"
   ]
  },
  {
   "cell_type": "code",
   "execution_count": 183,
   "metadata": {},
   "outputs": [
    {
     "data": {
      "text/html": [
       "<div>\n",
       "<style scoped>\n",
       "    .dataframe tbody tr th:only-of-type {\n",
       "        vertical-align: middle;\n",
       "    }\n",
       "\n",
       "    .dataframe tbody tr th {\n",
       "        vertical-align: top;\n",
       "    }\n",
       "\n",
       "    .dataframe thead th {\n",
       "        text-align: right;\n",
       "    }\n",
       "</style>\n",
       "<table border=\"1\" class=\"dataframe\">\n",
       "  <thead>\n",
       "    <tr style=\"text-align: right;\">\n",
       "      <th></th>\n",
       "      <th>Вид</th>\n",
       "      <th>Сеть</th>\n",
       "      <th>Всего</th>\n",
       "      <th>Не сеть</th>\n",
       "      <th>Не сеть, %</th>\n",
       "      <th>Cеть, %</th>\n",
       "    </tr>\n",
       "  </thead>\n",
       "  <tbody>\n",
       "    <tr>\n",
       "      <td>0</td>\n",
       "      <td>кафе</td>\n",
       "      <td>4703</td>\n",
       "      <td>6099</td>\n",
       "      <td>1396</td>\n",
       "      <td>22.9</td>\n",
       "      <td>77.1</td>\n",
       "    </tr>\n",
       "    <tr>\n",
       "      <td>1</td>\n",
       "      <td>столовая</td>\n",
       "      <td>2584</td>\n",
       "      <td>2587</td>\n",
       "      <td>3</td>\n",
       "      <td>0.1</td>\n",
       "      <td>99.9</td>\n",
       "    </tr>\n",
       "    <tr>\n",
       "      <td>2</td>\n",
       "      <td>ресторан</td>\n",
       "      <td>1741</td>\n",
       "      <td>2285</td>\n",
       "      <td>544</td>\n",
       "      <td>23.8</td>\n",
       "      <td>76.2</td>\n",
       "    </tr>\n",
       "    <tr>\n",
       "      <td>3</td>\n",
       "      <td>предприятие быстрого обслуживания</td>\n",
       "      <td>1132</td>\n",
       "      <td>1923</td>\n",
       "      <td>791</td>\n",
       "      <td>41.1</td>\n",
       "      <td>58.9</td>\n",
       "    </tr>\n",
       "    <tr>\n",
       "      <td>4</td>\n",
       "      <td>бар</td>\n",
       "      <td>819</td>\n",
       "      <td>856</td>\n",
       "      <td>37</td>\n",
       "      <td>4.3</td>\n",
       "      <td>95.7</td>\n",
       "    </tr>\n",
       "    <tr>\n",
       "      <td>5</td>\n",
       "      <td>буфет</td>\n",
       "      <td>574</td>\n",
       "      <td>585</td>\n",
       "      <td>11</td>\n",
       "      <td>1.9</td>\n",
       "      <td>98.1</td>\n",
       "    </tr>\n",
       "    <tr>\n",
       "      <td>6</td>\n",
       "      <td>кафетерий</td>\n",
       "      <td>346</td>\n",
       "      <td>398</td>\n",
       "      <td>52</td>\n",
       "      <td>13.1</td>\n",
       "      <td>86.9</td>\n",
       "    </tr>\n",
       "    <tr>\n",
       "      <td>7</td>\n",
       "      <td>закусочная</td>\n",
       "      <td>304</td>\n",
       "      <td>360</td>\n",
       "      <td>56</td>\n",
       "      <td>15.6</td>\n",
       "      <td>84.4</td>\n",
       "    </tr>\n",
       "    <tr>\n",
       "      <td>8</td>\n",
       "      <td>магазин (отдел кулинарии)</td>\n",
       "      <td>195</td>\n",
       "      <td>273</td>\n",
       "      <td>78</td>\n",
       "      <td>28.6</td>\n",
       "      <td>71.4</td>\n",
       "    </tr>\n",
       "  </tbody>\n",
       "</table>\n",
       "</div>"
      ],
      "text/plain": [
       "                                 Вид  Сеть  Всего  Не сеть  Не сеть, %  \\\n",
       "0                               кафе  4703   6099     1396        22.9   \n",
       "1                           столовая  2584   2587        3         0.1   \n",
       "2                           ресторан  1741   2285      544        23.8   \n",
       "3  предприятие быстрого обслуживания  1132   1923      791        41.1   \n",
       "4                                бар   819    856       37         4.3   \n",
       "5                              буфет   574    585       11         1.9   \n",
       "6                          кафетерий   346    398       52        13.1   \n",
       "7                         закусочная   304    360       56        15.6   \n",
       "8          магазин (отдел кулинарии)   195    273       78        28.6   \n",
       "\n",
       "   Cеть, %  \n",
       "0     77.1  \n",
       "1     99.9  \n",
       "2     76.2  \n",
       "3     58.9  \n",
       "4     95.7  \n",
       "5     98.1  \n",
       "6     86.9  \n",
       "7     84.4  \n",
       "8     71.4  "
      ]
     },
     "execution_count": 183,
     "metadata": {},
     "output_type": "execute_result"
    }
   ],
   "source": [
    "df_type_count"
   ]
  },
  {
   "cell_type": "code",
   "execution_count": 238,
   "metadata": {},
   "outputs": [
    {
     "data": {
      "image/png": "[encoded data removed]",
      "text/plain": [
       "<Figure size 1152x1152 with 1 Axes>"
      ]
     },
     "metadata": {},
     "output_type": "display_data"
    }
   ],
   "source": [
    "#  Задаем смещение равное половине ширины прямоугольника:\n",
    "fig, ax1 = plt.subplots()\n",
    "ax1.barh(df_type_count['Вид'],df_type_count['Cеть, %'], height = 0.5)\n",
    "ax1.barh(df_type_count['Вид'],df_type_count['Не сеть, %'], height = 0.5)\n",
    "fig.set_figwidth(16)    #  ширина Figure\n",
    "fig.set_figheight(16)    #  высота Figure\n",
    "fig.set_facecolor('floralwhite')\n",
    "\n",
    "plt.show()"
   ]
  },
  {
   "cell_type": "markdown",
   "metadata": {},
   "source": [
    "Сетевое распространение наиболее характерным оказалось для фаст-фуда, кафе, ресторанов и магазинов. Среди столовых, буфетов и баров почти нет сетевых заведений."
   ]
  },
  {
   "cell_type": "markdown",
   "metadata": {},
   "source": [
    "<div style=\"border:solid green 2px; padding: 20px\"> \n",
    "    \n",
    "**Комментарий ревьюера - 2**\n",
    "\n",
    "Да, вот это правильный подход. Отличный график\n",
    "    \n",
    "</div>"
   ]
  },
  {
   "cell_type": "markdown",
   "metadata": {},
   "source": [
    "### Что характерно для сетевых заведений: много заведений с небольшим числом посадочных мест в каждом или мало заведений с большим количеством посадочных мест?"
   ]
  },
  {
   "cell_type": "code",
   "execution_count": 22,
   "metadata": {},
   "outputs": [
    {
     "data": {
      "text/html": [
       "<div>\n",
       "<style scoped>\n",
       "    .dataframe tbody tr th:only-of-type {\n",
       "        vertical-align: middle;\n",
       "    }\n",
       "\n",
       "    .dataframe tbody tr th {\n",
       "        vertical-align: top;\n",
       "    }\n",
       "\n",
       "    .dataframe thead th {\n",
       "        text-align: right;\n",
       "    }\n",
       "</style>\n",
       "<table border=\"1\" class=\"dataframe\">\n",
       "  <thead>\n",
       "    <tr style=\"text-align: right;\">\n",
       "      <th></th>\n",
       "      <th>id</th>\n",
       "      <th>object_name</th>\n",
       "      <th>chain</th>\n",
       "      <th>object_type</th>\n",
       "      <th>address</th>\n",
       "      <th>number</th>\n",
       "    </tr>\n",
       "  </thead>\n",
       "  <tbody>\n",
       "    <tr>\n",
       "      <td>3</td>\n",
       "      <td>21894</td>\n",
       "      <td>пиццетория</td>\n",
       "      <td>True</td>\n",
       "      <td>кафе</td>\n",
       "      <td>город москва, абрамцевская улица, дом 1</td>\n",
       "      <td>40</td>\n",
       "    </tr>\n",
       "    <tr>\n",
       "      <td>6</td>\n",
       "      <td>148815</td>\n",
       "      <td>брусника</td>\n",
       "      <td>True</td>\n",
       "      <td>кафе</td>\n",
       "      <td>город москва, переулок сивцев вражек, дом 6/2</td>\n",
       "      <td>10</td>\n",
       "    </tr>\n",
       "    <tr>\n",
       "      <td>13</td>\n",
       "      <td>22579</td>\n",
       "      <td>алло пицца</td>\n",
       "      <td>True</td>\n",
       "      <td>кафе</td>\n",
       "      <td>город москва, улица авиаторов, дом 14</td>\n",
       "      <td>32</td>\n",
       "    </tr>\n",
       "    <tr>\n",
       "      <td>16</td>\n",
       "      <td>144107</td>\n",
       "      <td>суши wok</td>\n",
       "      <td>True</td>\n",
       "      <td>предприятие быстрого обслуживания</td>\n",
       "      <td>город москва, азовская улица, дом 3</td>\n",
       "      <td>7</td>\n",
       "    </tr>\n",
       "    <tr>\n",
       "      <td>18</td>\n",
       "      <td>58565</td>\n",
       "      <td>тануки</td>\n",
       "      <td>True</td>\n",
       "      <td>ресторан</td>\n",
       "      <td>город москва, большая академическая улица, дом 65</td>\n",
       "      <td>160</td>\n",
       "    </tr>\n",
       "    <tr>\n",
       "      <td>...</td>\n",
       "      <td>...</td>\n",
       "      <td>...</td>\n",
       "      <td>...</td>\n",
       "      <td>...</td>\n",
       "      <td>...</td>\n",
       "      <td>...</td>\n",
       "    </tr>\n",
       "    <tr>\n",
       "      <td>15361</td>\n",
       "      <td>208537</td>\n",
       "      <td>шоколадница</td>\n",
       "      <td>True</td>\n",
       "      <td>кафе</td>\n",
       "      <td>город москва, 3-й крутицкий переулок, дом 18</td>\n",
       "      <td>50</td>\n",
       "    </tr>\n",
       "    <tr>\n",
       "      <td>15362</td>\n",
       "      <td>209264</td>\n",
       "      <td>шоколадница</td>\n",
       "      <td>True</td>\n",
       "      <td>кафе</td>\n",
       "      <td>город москва, улица земляной вал, дом 33</td>\n",
       "      <td>10</td>\n",
       "    </tr>\n",
       "    <tr>\n",
       "      <td>15363</td>\n",
       "      <td>209186</td>\n",
       "      <td>шоколадница</td>\n",
       "      <td>True</td>\n",
       "      <td>кафе</td>\n",
       "      <td>город москва, улица земляной вал, дом 33</td>\n",
       "      <td>20</td>\n",
       "    </tr>\n",
       "    <tr>\n",
       "      <td>15364</td>\n",
       "      <td>221900</td>\n",
       "      <td>шоколадница</td>\n",
       "      <td>True</td>\n",
       "      <td>кафе</td>\n",
       "      <td>город москва, поселение московский, киевское ш...</td>\n",
       "      <td>36</td>\n",
       "    </tr>\n",
       "    <tr>\n",
       "      <td>15365</td>\n",
       "      <td>222535</td>\n",
       "      <td>шоколадница</td>\n",
       "      <td>True</td>\n",
       "      <td>кафе</td>\n",
       "      <td>город москва, ходынский бульвар, дом 4</td>\n",
       "      <td>10</td>\n",
       "    </tr>\n",
       "  </tbody>\n",
       "</table>\n",
       "<p>2968 rows × 6 columns</p>\n",
       "</div>"
      ],
      "text/plain": [
       "           id  object_name  chain                        object_type  \\\n",
       "3       21894   пиццетория   True                               кафе   \n",
       "6      148815     брусника   True                               кафе   \n",
       "13      22579   алло пицца   True                               кафе   \n",
       "16     144107     суши wok   True  предприятие быстрого обслуживания   \n",
       "18      58565       тануки   True                           ресторан   \n",
       "...       ...          ...    ...                                ...   \n",
       "15361  208537  шоколадница   True                               кафе   \n",
       "15362  209264  шоколадница   True                               кафе   \n",
       "15363  209186  шоколадница   True                               кафе   \n",
       "15364  221900  шоколадница   True                               кафе   \n",
       "15365  222535  шоколадница   True                               кафе   \n",
       "\n",
       "                                                 address  number  \n",
       "3                город москва, абрамцевская улица, дом 1      40  \n",
       "6          город москва, переулок сивцев вражек, дом 6/2      10  \n",
       "13                 город москва, улица авиаторов, дом 14      32  \n",
       "16                   город москва, азовская улица, дом 3       7  \n",
       "18     город москва, большая академическая улица, дом 65     160  \n",
       "...                                                  ...     ...  \n",
       "15361       город москва, 3-й крутицкий переулок, дом 18      50  \n",
       "15362           город москва, улица земляной вал, дом 33      10  \n",
       "15363           город москва, улица земляной вал, дом 33      20  \n",
       "15364  город москва, поселение московский, киевское ш...      36  \n",
       "15365             город москва, ходынский бульвар, дом 4      10  \n",
       "\n",
       "[2968 rows x 6 columns]"
      ]
     },
     "execution_count": 22,
     "metadata": {},
     "output_type": "execute_result"
    }
   ],
   "source": [
    "chain_rest = rest_data.query('chain == True')\n",
    "chain_rest"
   ]
  },
  {
   "cell_type": "code",
   "execution_count": 23,
   "metadata": {},
   "outputs": [
    {
     "data": {
      "text/html": [
       "<div>\n",
       "<style scoped>\n",
       "    .dataframe tbody tr th:only-of-type {\n",
       "        vertical-align: middle;\n",
       "    }\n",
       "\n",
       "    .dataframe tbody tr th {\n",
       "        vertical-align: top;\n",
       "    }\n",
       "\n",
       "    .dataframe thead th {\n",
       "        text-align: right;\n",
       "    }\n",
       "</style>\n",
       "<table border=\"1\" class=\"dataframe\">\n",
       "  <thead>\n",
       "    <tr style=\"text-align: right;\">\n",
       "      <th></th>\n",
       "      <th>object_name</th>\n",
       "      <th>number</th>\n",
       "    </tr>\n",
       "  </thead>\n",
       "  <tbody>\n",
       "    <tr>\n",
       "      <td>0</td>\n",
       "      <td>шоколадница</td>\n",
       "      <td>157</td>\n",
       "    </tr>\n",
       "    <tr>\n",
       "      <td>1</td>\n",
       "      <td>kfc</td>\n",
       "      <td>155</td>\n",
       "    </tr>\n",
       "    <tr>\n",
       "      <td>2</td>\n",
       "      <td>макдоналдс</td>\n",
       "      <td>151</td>\n",
       "    </tr>\n",
       "    <tr>\n",
       "      <td>3</td>\n",
       "      <td>бургер кинг</td>\n",
       "      <td>137</td>\n",
       "    </tr>\n",
       "    <tr>\n",
       "      <td>4</td>\n",
       "      <td>теремок</td>\n",
       "      <td>94</td>\n",
       "    </tr>\n",
       "    <tr>\n",
       "      <td>...</td>\n",
       "      <td>...</td>\n",
       "      <td>...</td>\n",
       "    </tr>\n",
       "    <tr>\n",
       "      <td>572</td>\n",
       "      <td>меленка</td>\n",
       "      <td>1</td>\n",
       "    </tr>\n",
       "    <tr>\n",
       "      <td>573</td>\n",
       "      <td>метро к&amp;к</td>\n",
       "      <td>1</td>\n",
       "    </tr>\n",
       "    <tr>\n",
       "      <td>574</td>\n",
       "      <td>милано пицца</td>\n",
       "      <td>1</td>\n",
       "    </tr>\n",
       "    <tr>\n",
       "      <td>575</td>\n",
       "      <td>мимино хинкальная</td>\n",
       "      <td>1</td>\n",
       "    </tr>\n",
       "    <tr>\n",
       "      <td>576</td>\n",
       "      <td>beverly hills diner</td>\n",
       "      <td>1</td>\n",
       "    </tr>\n",
       "  </tbody>\n",
       "</table>\n",
       "<p>577 rows × 2 columns</p>\n",
       "</div>"
      ],
      "text/plain": [
       "             object_name  number\n",
       "0            шоколадница     157\n",
       "1                    kfc     155\n",
       "2             макдоналдс     151\n",
       "3            бургер кинг     137\n",
       "4                теремок      94\n",
       "..                   ...     ...\n",
       "572              меленка       1\n",
       "573            метро к&к       1\n",
       "574         милано пицца       1\n",
       "575    мимино хинкальная       1\n",
       "576  beverly hills diner       1\n",
       "\n",
       "[577 rows x 2 columns]"
      ]
     },
     "execution_count": 23,
     "metadata": {},
     "output_type": "execute_result"
    }
   ],
   "source": [
    "rests_sits = chain_rest.groupby('object_name')['number'].agg('count').sort_values(ascending=False).reset_index()\n",
    "rests_sits_1 = chain_rest.groupby('object_name')['number'].agg('sum').sort_values(ascending=False).reset_index()\n",
    "rests_sits "
   ]
  },
  {
   "cell_type": "code",
   "execution_count": 24,
   "metadata": {},
   "outputs": [
    {
     "data": {
      "text/html": [
       "<div>\n",
       "<style scoped>\n",
       "    .dataframe tbody tr th:only-of-type {\n",
       "        vertical-align: middle;\n",
       "    }\n",
       "\n",
       "    .dataframe tbody tr th {\n",
       "        vertical-align: top;\n",
       "    }\n",
       "\n",
       "    .dataframe thead th {\n",
       "        text-align: right;\n",
       "    }\n",
       "</style>\n",
       "<table border=\"1\" class=\"dataframe\">\n",
       "  <thead>\n",
       "    <tr style=\"text-align: right;\">\n",
       "      <th></th>\n",
       "      <th>object_name</th>\n",
       "      <th>number</th>\n",
       "    </tr>\n",
       "  </thead>\n",
       "  <tbody>\n",
       "    <tr>\n",
       "      <td>0</td>\n",
       "      <td>макдоналдс</td>\n",
       "      <td>13155</td>\n",
       "    </tr>\n",
       "    <tr>\n",
       "      <td>1</td>\n",
       "      <td>шоколадница</td>\n",
       "      <td>8978</td>\n",
       "    </tr>\n",
       "    <tr>\n",
       "      <td>2</td>\n",
       "      <td>kfc</td>\n",
       "      <td>8578</td>\n",
       "    </tr>\n",
       "    <tr>\n",
       "      <td>3</td>\n",
       "      <td>чайхона №1</td>\n",
       "      <td>6399</td>\n",
       "    </tr>\n",
       "    <tr>\n",
       "      <td>4</td>\n",
       "      <td>бургер кинг</td>\n",
       "      <td>6391</td>\n",
       "    </tr>\n",
       "    <tr>\n",
       "      <td>...</td>\n",
       "      <td>...</td>\n",
       "      <td>...</td>\n",
       "    </tr>\n",
       "    <tr>\n",
       "      <td>572</td>\n",
       "      <td>wokker</td>\n",
       "      <td>0</td>\n",
       "    </tr>\n",
       "    <tr>\n",
       "      <td>573</td>\n",
       "      <td>tutti frutti</td>\n",
       "      <td>0</td>\n",
       "    </tr>\n",
       "    <tr>\n",
       "      <td>574</td>\n",
       "      <td>точка продажи готовой еды милти</td>\n",
       "      <td>0</td>\n",
       "    </tr>\n",
       "    <tr>\n",
       "      <td>575</td>\n",
       "      <td>my box</td>\n",
       "      <td>0</td>\n",
       "    </tr>\n",
       "    <tr>\n",
       "      <td>576</td>\n",
       "      <td>предприятие быстрого обслуживания «милти»</td>\n",
       "      <td>0</td>\n",
       "    </tr>\n",
       "  </tbody>\n",
       "</table>\n",
       "<p>577 rows × 2 columns</p>\n",
       "</div>"
      ],
      "text/plain": [
       "                                   object_name  number\n",
       "0                                   макдоналдс   13155\n",
       "1                                  шоколадница    8978\n",
       "2                                          kfc    8578\n",
       "3                                   чайхона №1    6399\n",
       "4                                  бургер кинг    6391\n",
       "..                                         ...     ...\n",
       "572                                     wokker       0\n",
       "573                               tutti frutti       0\n",
       "574            точка продажи готовой еды милти       0\n",
       "575                                     my box       0\n",
       "576  предприятие быстрого обслуживания «милти»       0\n",
       "\n",
       "[577 rows x 2 columns]"
      ]
     },
     "execution_count": 24,
     "metadata": {},
     "output_type": "execute_result"
    }
   ],
   "source": [
    "rests_sits_1"
   ]
  },
  {
   "cell_type": "code",
   "execution_count": 25,
   "metadata": {},
   "outputs": [
    {
     "data": {
      "text/html": [
       "<div>\n",
       "<style scoped>\n",
       "    .dataframe tbody tr th:only-of-type {\n",
       "        vertical-align: middle;\n",
       "    }\n",
       "\n",
       "    .dataframe tbody tr th {\n",
       "        vertical-align: top;\n",
       "    }\n",
       "\n",
       "    .dataframe thead th {\n",
       "        text-align: right;\n",
       "    }\n",
       "</style>\n",
       "<table border=\"1\" class=\"dataframe\">\n",
       "  <thead>\n",
       "    <tr style=\"text-align: right;\">\n",
       "      <th></th>\n",
       "      <th>object_name</th>\n",
       "      <th>number_x</th>\n",
       "      <th>number_y</th>\n",
       "      <th>tt</th>\n",
       "    </tr>\n",
       "  </thead>\n",
       "  <tbody>\n",
       "    <tr>\n",
       "      <td>0</td>\n",
       "      <td>шоколадница</td>\n",
       "      <td>157</td>\n",
       "      <td>8978</td>\n",
       "      <td>57.184713</td>\n",
       "    </tr>\n",
       "    <tr>\n",
       "      <td>1</td>\n",
       "      <td>kfc</td>\n",
       "      <td>155</td>\n",
       "      <td>8578</td>\n",
       "      <td>55.341935</td>\n",
       "    </tr>\n",
       "    <tr>\n",
       "      <td>2</td>\n",
       "      <td>макдоналдс</td>\n",
       "      <td>151</td>\n",
       "      <td>13155</td>\n",
       "      <td>87.119205</td>\n",
       "    </tr>\n",
       "    <tr>\n",
       "      <td>3</td>\n",
       "      <td>бургер кинг</td>\n",
       "      <td>137</td>\n",
       "      <td>6391</td>\n",
       "      <td>46.649635</td>\n",
       "    </tr>\n",
       "    <tr>\n",
       "      <td>4</td>\n",
       "      <td>теремок</td>\n",
       "      <td>94</td>\n",
       "      <td>2407</td>\n",
       "      <td>25.606383</td>\n",
       "    </tr>\n",
       "    <tr>\n",
       "      <td>...</td>\n",
       "      <td>...</td>\n",
       "      <td>...</td>\n",
       "      <td>...</td>\n",
       "      <td>...</td>\n",
       "    </tr>\n",
       "    <tr>\n",
       "      <td>572</td>\n",
       "      <td>меленка</td>\n",
       "      <td>1</td>\n",
       "      <td>20</td>\n",
       "      <td>20.000000</td>\n",
       "    </tr>\n",
       "    <tr>\n",
       "      <td>573</td>\n",
       "      <td>метро к&amp;к</td>\n",
       "      <td>1</td>\n",
       "      <td>80</td>\n",
       "      <td>80.000000</td>\n",
       "    </tr>\n",
       "    <tr>\n",
       "      <td>574</td>\n",
       "      <td>милано пицца</td>\n",
       "      <td>1</td>\n",
       "      <td>20</td>\n",
       "      <td>20.000000</td>\n",
       "    </tr>\n",
       "    <tr>\n",
       "      <td>575</td>\n",
       "      <td>мимино хинкальная</td>\n",
       "      <td>1</td>\n",
       "      <td>70</td>\n",
       "      <td>70.000000</td>\n",
       "    </tr>\n",
       "    <tr>\n",
       "      <td>576</td>\n",
       "      <td>beverly hills diner</td>\n",
       "      <td>1</td>\n",
       "      <td>88</td>\n",
       "      <td>88.000000</td>\n",
       "    </tr>\n",
       "  </tbody>\n",
       "</table>\n",
       "<p>577 rows × 4 columns</p>\n",
       "</div>"
      ],
      "text/plain": [
       "             object_name  number_x  number_y         tt\n",
       "0            шоколадница       157      8978  57.184713\n",
       "1                    kfc       155      8578  55.341935\n",
       "2             макдоналдс       151     13155  87.119205\n",
       "3            бургер кинг       137      6391  46.649635\n",
       "4                теремок        94      2407  25.606383\n",
       "..                   ...       ...       ...        ...\n",
       "572              меленка         1        20  20.000000\n",
       "573            метро к&к         1        80  80.000000\n",
       "574         милано пицца         1        20  20.000000\n",
       "575    мимино хинкальная         1        70  70.000000\n",
       "576  beverly hills diner         1        88  88.000000\n",
       "\n",
       "[577 rows x 4 columns]"
      ]
     },
     "execution_count": 25,
     "metadata": {},
     "output_type": "execute_result"
    }
   ],
   "source": [
    "rr = rests_sits.merge(rests_sits_1, on='object_name') \n",
    "rr['tt'] = rr['number_y'] / rr['number_x']\n",
    "rr"
   ]
  },
  {
   "cell_type": "code",
   "execution_count": 26,
   "metadata": {},
   "outputs": [
    {
     "data": {
      "image/png": "[encoded data removed]",
      "text/plain": [
       "<Figure size 1080x504 with 1 Axes>"
      ]
     },
     "metadata": {
      "needs_background": "light"
     },
     "output_type": "display_data"
    }
   ],
   "source": [
    "x = rr['number_x']\n",
    "y = rr['tt']\n",
    "plt.figure(figsize=(15, 7))\n",
    "plt.bar(x , y)\n",
    "plt.title('Среднее колиество мест на каждый ресторан')\n",
    "plt.show()\n"
   ]
  },
  {
   "attachments": {
    "image.png": {
     "image/png": "[encoded data removed]"
    }
   },
   "cell_type": "markdown",
   "metadata": {},
   "source": [
    "Из этого графика нельзя сделать вывод, что количество посадочных места как-то напрямую связано с количеством ресторанов.\n",
    "\n",
    "<div style=\"border:solid gold 2px; padding: 20px\"> \n",
    "    \n",
    "**Комментарий ревьюера**\n",
    "\n",
    "Здесь не совсем наглядно. У на двухпараметрический анализ количество мест - количество заведений в сети. В данном случае удобен jointplot, в котором можно соединить, например, scatter и гистограмму, чтоб получилось примерно следующее\n",
    "    \n",
    "![image.png](attachment:image.png)\n",
    "    \n",
    "</div>\n"
   ]
  },
  {
   "cell_type": "markdown",
   "metadata": {},
   "source": [
    "### Для каждого вида объекта общественного питания опишите среднее количество посадочных мест. Какой вид предоставляет в среднем самое большое количество посадочных мест? Постройте графики."
   ]
  },
  {
   "cell_type": "code",
   "execution_count": 27,
   "metadata": {},
   "outputs": [],
   "source": [
    "sits = rest_data.groupby('object_type')['number'].agg('sum').sort_values(ascending=False).reset_index()\n",
    "sits_1 =  rest_data.groupby('object_type')['number'].agg('count').sort_values(ascending=False).reset_index()"
   ]
  },
  {
   "cell_type": "code",
   "execution_count": 28,
   "metadata": {},
   "outputs": [
    {
     "data": {
      "text/html": [
       "<div>\n",
       "<style scoped>\n",
       "    .dataframe tbody tr th:only-of-type {\n",
       "        vertical-align: middle;\n",
       "    }\n",
       "\n",
       "    .dataframe tbody tr th {\n",
       "        vertical-align: top;\n",
       "    }\n",
       "\n",
       "    .dataframe thead th {\n",
       "        text-align: right;\n",
       "    }\n",
       "</style>\n",
       "<table border=\"1\" class=\"dataframe\">\n",
       "  <thead>\n",
       "    <tr style=\"text-align: right;\">\n",
       "      <th></th>\n",
       "      <th>object_type</th>\n",
       "      <th>number</th>\n",
       "    </tr>\n",
       "  </thead>\n",
       "  <tbody>\n",
       "    <tr>\n",
       "      <td>0</td>\n",
       "      <td>столовая</td>\n",
       "      <td>336948</td>\n",
       "    </tr>\n",
       "    <tr>\n",
       "      <td>1</td>\n",
       "      <td>кафе</td>\n",
       "      <td>242228</td>\n",
       "    </tr>\n",
       "    <tr>\n",
       "      <td>2</td>\n",
       "      <td>ресторан</td>\n",
       "      <td>221266</td>\n",
       "    </tr>\n",
       "    <tr>\n",
       "      <td>3</td>\n",
       "      <td>предприятие быстрого обслуживания</td>\n",
       "      <td>39522</td>\n",
       "    </tr>\n",
       "    <tr>\n",
       "      <td>4</td>\n",
       "      <td>бар</td>\n",
       "      <td>37231</td>\n",
       "    </tr>\n",
       "    <tr>\n",
       "      <td>5</td>\n",
       "      <td>буфет</td>\n",
       "      <td>29911</td>\n",
       "    </tr>\n",
       "    <tr>\n",
       "      <td>6</td>\n",
       "      <td>кафетерий</td>\n",
       "      <td>3631</td>\n",
       "    </tr>\n",
       "    <tr>\n",
       "      <td>7</td>\n",
       "      <td>закусочная</td>\n",
       "      <td>2739</td>\n",
       "    </tr>\n",
       "    <tr>\n",
       "      <td>8</td>\n",
       "      <td>магазин (отдел кулинарии)</td>\n",
       "      <td>1526</td>\n",
       "    </tr>\n",
       "  </tbody>\n",
       "</table>\n",
       "</div>"
      ],
      "text/plain": [
       "                         object_type  number\n",
       "0                           столовая  336948\n",
       "1                               кафе  242228\n",
       "2                           ресторан  221266\n",
       "3  предприятие быстрого обслуживания   39522\n",
       "4                                бар   37231\n",
       "5                              буфет   29911\n",
       "6                          кафетерий    3631\n",
       "7                         закусочная    2739\n",
       "8          магазин (отдел кулинарии)    1526"
      ]
     },
     "execution_count": 28,
     "metadata": {},
     "output_type": "execute_result"
    }
   ],
   "source": [
    "sits"
   ]
  },
  {
   "cell_type": "code",
   "execution_count": 29,
   "metadata": {},
   "outputs": [
    {
     "data": {
      "text/html": [
       "<div>\n",
       "<style scoped>\n",
       "    .dataframe tbody tr th:only-of-type {\n",
       "        vertical-align: middle;\n",
       "    }\n",
       "\n",
       "    .dataframe tbody tr th {\n",
       "        vertical-align: top;\n",
       "    }\n",
       "\n",
       "    .dataframe thead th {\n",
       "        text-align: right;\n",
       "    }\n",
       "</style>\n",
       "<table border=\"1\" class=\"dataframe\">\n",
       "  <thead>\n",
       "    <tr style=\"text-align: right;\">\n",
       "      <th></th>\n",
       "      <th>object_type</th>\n",
       "      <th>number</th>\n",
       "    </tr>\n",
       "  </thead>\n",
       "  <tbody>\n",
       "    <tr>\n",
       "      <td>0</td>\n",
       "      <td>кафе</td>\n",
       "      <td>6099</td>\n",
       "    </tr>\n",
       "    <tr>\n",
       "      <td>1</td>\n",
       "      <td>столовая</td>\n",
       "      <td>2587</td>\n",
       "    </tr>\n",
       "    <tr>\n",
       "      <td>2</td>\n",
       "      <td>ресторан</td>\n",
       "      <td>2285</td>\n",
       "    </tr>\n",
       "    <tr>\n",
       "      <td>3</td>\n",
       "      <td>предприятие быстрого обслуживания</td>\n",
       "      <td>1923</td>\n",
       "    </tr>\n",
       "    <tr>\n",
       "      <td>4</td>\n",
       "      <td>бар</td>\n",
       "      <td>856</td>\n",
       "    </tr>\n",
       "    <tr>\n",
       "      <td>5</td>\n",
       "      <td>буфет</td>\n",
       "      <td>585</td>\n",
       "    </tr>\n",
       "    <tr>\n",
       "      <td>6</td>\n",
       "      <td>кафетерий</td>\n",
       "      <td>398</td>\n",
       "    </tr>\n",
       "    <tr>\n",
       "      <td>7</td>\n",
       "      <td>закусочная</td>\n",
       "      <td>360</td>\n",
       "    </tr>\n",
       "    <tr>\n",
       "      <td>8</td>\n",
       "      <td>магазин (отдел кулинарии)</td>\n",
       "      <td>273</td>\n",
       "    </tr>\n",
       "  </tbody>\n",
       "</table>\n",
       "</div>"
      ],
      "text/plain": [
       "                         object_type  number\n",
       "0                               кафе    6099\n",
       "1                           столовая    2587\n",
       "2                           ресторан    2285\n",
       "3  предприятие быстрого обслуживания    1923\n",
       "4                                бар     856\n",
       "5                              буфет     585\n",
       "6                          кафетерий     398\n",
       "7                         закусочная     360\n",
       "8          магазин (отдел кулинарии)     273"
      ]
     },
     "execution_count": 29,
     "metadata": {},
     "output_type": "execute_result"
    }
   ],
   "source": [
    "sits_1"
   ]
  },
  {
   "cell_type": "code",
   "execution_count": 30,
   "metadata": {},
   "outputs": [
    {
     "data": {
      "text/html": [
       "<div>\n",
       "<style scoped>\n",
       "    .dataframe tbody tr th:only-of-type {\n",
       "        vertical-align: middle;\n",
       "    }\n",
       "\n",
       "    .dataframe tbody tr th {\n",
       "        vertical-align: top;\n",
       "    }\n",
       "\n",
       "    .dataframe thead th {\n",
       "        text-align: right;\n",
       "    }\n",
       "</style>\n",
       "<table border=\"1\" class=\"dataframe\">\n",
       "  <thead>\n",
       "    <tr style=\"text-align: right;\">\n",
       "      <th></th>\n",
       "      <th>object_type</th>\n",
       "      <th>number_x</th>\n",
       "      <th>number_y</th>\n",
       "      <th>tt_1</th>\n",
       "    </tr>\n",
       "  </thead>\n",
       "  <tbody>\n",
       "    <tr>\n",
       "      <td>0</td>\n",
       "      <td>кафе</td>\n",
       "      <td>6099</td>\n",
       "      <td>242228</td>\n",
       "      <td>39.716019</td>\n",
       "    </tr>\n",
       "    <tr>\n",
       "      <td>1</td>\n",
       "      <td>столовая</td>\n",
       "      <td>2587</td>\n",
       "      <td>336948</td>\n",
       "      <td>130.246618</td>\n",
       "    </tr>\n",
       "    <tr>\n",
       "      <td>2</td>\n",
       "      <td>ресторан</td>\n",
       "      <td>2285</td>\n",
       "      <td>221266</td>\n",
       "      <td>96.834136</td>\n",
       "    </tr>\n",
       "    <tr>\n",
       "      <td>3</td>\n",
       "      <td>предприятие быстрого обслуживания</td>\n",
       "      <td>1923</td>\n",
       "      <td>39522</td>\n",
       "      <td>20.552262</td>\n",
       "    </tr>\n",
       "    <tr>\n",
       "      <td>4</td>\n",
       "      <td>бар</td>\n",
       "      <td>856</td>\n",
       "      <td>37231</td>\n",
       "      <td>43.494159</td>\n",
       "    </tr>\n",
       "    <tr>\n",
       "      <td>5</td>\n",
       "      <td>буфет</td>\n",
       "      <td>585</td>\n",
       "      <td>29911</td>\n",
       "      <td>51.129915</td>\n",
       "    </tr>\n",
       "    <tr>\n",
       "      <td>6</td>\n",
       "      <td>кафетерий</td>\n",
       "      <td>398</td>\n",
       "      <td>3631</td>\n",
       "      <td>9.123116</td>\n",
       "    </tr>\n",
       "    <tr>\n",
       "      <td>7</td>\n",
       "      <td>закусочная</td>\n",
       "      <td>360</td>\n",
       "      <td>2739</td>\n",
       "      <td>7.608333</td>\n",
       "    </tr>\n",
       "    <tr>\n",
       "      <td>8</td>\n",
       "      <td>магазин (отдел кулинарии)</td>\n",
       "      <td>273</td>\n",
       "      <td>1526</td>\n",
       "      <td>5.589744</td>\n",
       "    </tr>\n",
       "  </tbody>\n",
       "</table>\n",
       "</div>"
      ],
      "text/plain": [
       "                         object_type  number_x  number_y        tt_1\n",
       "0                               кафе      6099    242228   39.716019\n",
       "1                           столовая      2587    336948  130.246618\n",
       "2                           ресторан      2285    221266   96.834136\n",
       "3  предприятие быстрого обслуживания      1923     39522   20.552262\n",
       "4                                бар       856     37231   43.494159\n",
       "5                              буфет       585     29911   51.129915\n",
       "6                          кафетерий       398      3631    9.123116\n",
       "7                         закусочная       360      2739    7.608333\n",
       "8          магазин (отдел кулинарии)       273      1526    5.589744"
      ]
     },
     "execution_count": 30,
     "metadata": {},
     "output_type": "execute_result"
    }
   ],
   "source": [
    "rr_1 = sits_1.merge(sits, on='object_type') \n",
    "rr_1['tt_1'] = rr_1['number_y'] / rr_1['number_x']\n",
    "rr1 = rr_1.sort_values(by='tt_1',ascending = True)\n",
    "rr_1"
   ]
  },
  {
   "cell_type": "code",
   "execution_count": 31,
   "metadata": {},
   "outputs": [],
   "source": [
    "rr_1.columns = ['Вид', 'К-во ресторанов','К-во мест','Среднее количество мест']"
   ]
  },
  {
   "cell_type": "code",
   "execution_count": 32,
   "metadata": {},
   "outputs": [
    {
     "data": {
      "text/html": [
       "<div>\n",
       "<style scoped>\n",
       "    .dataframe tbody tr th:only-of-type {\n",
       "        vertical-align: middle;\n",
       "    }\n",
       "\n",
       "    .dataframe tbody tr th {\n",
       "        vertical-align: top;\n",
       "    }\n",
       "\n",
       "    .dataframe thead th {\n",
       "        text-align: right;\n",
       "    }\n",
       "</style>\n",
       "<table border=\"1\" class=\"dataframe\">\n",
       "  <thead>\n",
       "    <tr style=\"text-align: right;\">\n",
       "      <th></th>\n",
       "      <th>Вид</th>\n",
       "      <th>К-во ресторанов</th>\n",
       "      <th>К-во мест</th>\n",
       "      <th>Среднее количество мест</th>\n",
       "    </tr>\n",
       "  </thead>\n",
       "  <tbody>\n",
       "    <tr>\n",
       "      <td>0</td>\n",
       "      <td>кафе</td>\n",
       "      <td>6099</td>\n",
       "      <td>242228</td>\n",
       "      <td>39.716019</td>\n",
       "    </tr>\n",
       "    <tr>\n",
       "      <td>1</td>\n",
       "      <td>столовая</td>\n",
       "      <td>2587</td>\n",
       "      <td>336948</td>\n",
       "      <td>130.246618</td>\n",
       "    </tr>\n",
       "    <tr>\n",
       "      <td>2</td>\n",
       "      <td>ресторан</td>\n",
       "      <td>2285</td>\n",
       "      <td>221266</td>\n",
       "      <td>96.834136</td>\n",
       "    </tr>\n",
       "    <tr>\n",
       "      <td>3</td>\n",
       "      <td>предприятие быстрого обслуживания</td>\n",
       "      <td>1923</td>\n",
       "      <td>39522</td>\n",
       "      <td>20.552262</td>\n",
       "    </tr>\n",
       "    <tr>\n",
       "      <td>4</td>\n",
       "      <td>бар</td>\n",
       "      <td>856</td>\n",
       "      <td>37231</td>\n",
       "      <td>43.494159</td>\n",
       "    </tr>\n",
       "    <tr>\n",
       "      <td>5</td>\n",
       "      <td>буфет</td>\n",
       "      <td>585</td>\n",
       "      <td>29911</td>\n",
       "      <td>51.129915</td>\n",
       "    </tr>\n",
       "    <tr>\n",
       "      <td>6</td>\n",
       "      <td>кафетерий</td>\n",
       "      <td>398</td>\n",
       "      <td>3631</td>\n",
       "      <td>9.123116</td>\n",
       "    </tr>\n",
       "    <tr>\n",
       "      <td>7</td>\n",
       "      <td>закусочная</td>\n",
       "      <td>360</td>\n",
       "      <td>2739</td>\n",
       "      <td>7.608333</td>\n",
       "    </tr>\n",
       "    <tr>\n",
       "      <td>8</td>\n",
       "      <td>магазин (отдел кулинарии)</td>\n",
       "      <td>273</td>\n",
       "      <td>1526</td>\n",
       "      <td>5.589744</td>\n",
       "    </tr>\n",
       "  </tbody>\n",
       "</table>\n",
       "</div>"
      ],
      "text/plain": [
       "                                 Вид  К-во ресторанов  К-во мест  \\\n",
       "0                               кафе             6099     242228   \n",
       "1                           столовая             2587     336948   \n",
       "2                           ресторан             2285     221266   \n",
       "3  предприятие быстрого обслуживания             1923      39522   \n",
       "4                                бар              856      37231   \n",
       "5                              буфет              585      29911   \n",
       "6                          кафетерий              398       3631   \n",
       "7                         закусочная              360       2739   \n",
       "8          магазин (отдел кулинарии)              273       1526   \n",
       "\n",
       "   Среднее количество мест  \n",
       "0                39.716019  \n",
       "1               130.246618  \n",
       "2                96.834136  \n",
       "3                20.552262  \n",
       "4                43.494159  \n",
       "5                51.129915  \n",
       "6                 9.123116  \n",
       "7                 7.608333  \n",
       "8                 5.589744  "
      ]
     },
     "execution_count": 32,
     "metadata": {},
     "output_type": "execute_result"
    }
   ],
   "source": [
    "rr_1"
   ]
  },
  {
   "cell_type": "code",
   "execution_count": 33,
   "metadata": {},
   "outputs": [
    {
     "data": {
      "image/png": "[encoded data removed]",
      "text/plain": [
       "<Figure size 1656x648 with 1 Axes>"
      ]
     },
     "metadata": {
      "needs_background": "light"
     },
     "output_type": "display_data"
    }
   ],
   "source": [
    "plt.figure(figsize=(23,9)) \n",
    "sns.barplot(\n",
    "    x= 'Вид',\n",
    "    y= 'Среднее количество мест',\n",
    "    data=rr_1.sort_values(by='Среднее количество мест',ascending = False)\n",
    ")\n",
    "plt.xticks(rotation=360)\n",
    "plt.show()"
   ]
  },
  {
   "cell_type": "markdown",
   "metadata": {},
   "source": [
    "На графике видно, что категориями с самым большим количеством посадочных мест являются столовые и рестораны. Далее идут буфеты, бары и кафе. Самое маленькое количество посадочных мест у отделов кулинарии в магазинах. \n",
    "\n",
    "<div style=\"border:solid green 2px; padding: 20px\"> \n",
    "    \n",
    "**Комментарий ревьюера**\n",
    "\n",
    "Да, все верно, хорошо, что ты отсортировал столбики. Как вариант здесь можно было сделать Boxplot. так были бы видны не только средние, но и размахи\n",
    "    \n",
    "</div>"
   ]
  },
  {
   "cell_type": "markdown",
   "metadata": {},
   "source": [
    "### Выделите в отдельный столбец информацию об улице из столбца address "
   ]
  },
  {
   "cell_type": "code",
   "execution_count": 34,
   "metadata": {},
   "outputs": [
    {
     "data": {
      "text/html": [
       "<div>\n",
       "<style scoped>\n",
       "    .dataframe tbody tr th:only-of-type {\n",
       "        vertical-align: middle;\n",
       "    }\n",
       "\n",
       "    .dataframe tbody tr th {\n",
       "        vertical-align: top;\n",
       "    }\n",
       "\n",
       "    .dataframe thead th {\n",
       "        text-align: right;\n",
       "    }\n",
       "</style>\n",
       "<table border=\"1\" class=\"dataframe\">\n",
       "  <thead>\n",
       "    <tr style=\"text-align: right;\">\n",
       "      <th></th>\n",
       "      <th>id</th>\n",
       "      <th>object_name</th>\n",
       "      <th>chain</th>\n",
       "      <th>object_type</th>\n",
       "      <th>address</th>\n",
       "      <th>number</th>\n",
       "      <th>street</th>\n",
       "    </tr>\n",
       "  </thead>\n",
       "  <tbody>\n",
       "    <tr>\n",
       "      <td>0</td>\n",
       "      <td>151635</td>\n",
       "      <td>сметана</td>\n",
       "      <td>False</td>\n",
       "      <td>кафе</td>\n",
       "      <td>город москва, улица егора абакумова, дом 9</td>\n",
       "      <td>48</td>\n",
       "      <td>улица егора абакумова</td>\n",
       "    </tr>\n",
       "    <tr>\n",
       "      <td>1</td>\n",
       "      <td>77874</td>\n",
       "      <td>родник</td>\n",
       "      <td>False</td>\n",
       "      <td>кафе</td>\n",
       "      <td>город москва, улица талалихина, дом 2/1, корпус 1</td>\n",
       "      <td>35</td>\n",
       "      <td>улица талалихина</td>\n",
       "    </tr>\n",
       "    <tr>\n",
       "      <td>2</td>\n",
       "      <td>24309</td>\n",
       "      <td>кафе «академия»</td>\n",
       "      <td>False</td>\n",
       "      <td>кафе</td>\n",
       "      <td>город москва, абельмановская улица, дом 6</td>\n",
       "      <td>95</td>\n",
       "      <td>абельмановская улица</td>\n",
       "    </tr>\n",
       "    <tr>\n",
       "      <td>3</td>\n",
       "      <td>21894</td>\n",
       "      <td>пиццетория</td>\n",
       "      <td>True</td>\n",
       "      <td>кафе</td>\n",
       "      <td>город москва, абрамцевская улица, дом 1</td>\n",
       "      <td>40</td>\n",
       "      <td>абрамцевская улица</td>\n",
       "    </tr>\n",
       "    <tr>\n",
       "      <td>4</td>\n",
       "      <td>119365</td>\n",
       "      <td>кафе «вишневая метель»</td>\n",
       "      <td>False</td>\n",
       "      <td>кафе</td>\n",
       "      <td>город москва, абрамцевская улица, дом 9, корпус 1</td>\n",
       "      <td>50</td>\n",
       "      <td>абрамцевская улица</td>\n",
       "    </tr>\n",
       "    <tr>\n",
       "      <td>...</td>\n",
       "      <td>...</td>\n",
       "      <td>...</td>\n",
       "      <td>...</td>\n",
       "      <td>...</td>\n",
       "      <td>...</td>\n",
       "      <td>...</td>\n",
       "      <td>...</td>\n",
       "    </tr>\n",
       "    <tr>\n",
       "      <td>15361</td>\n",
       "      <td>208537</td>\n",
       "      <td>шоколадница</td>\n",
       "      <td>True</td>\n",
       "      <td>кафе</td>\n",
       "      <td>город москва, 3-й крутицкий переулок, дом 18</td>\n",
       "      <td>50</td>\n",
       "      <td>3-й крутицкий переулок</td>\n",
       "    </tr>\n",
       "    <tr>\n",
       "      <td>15362</td>\n",
       "      <td>209264</td>\n",
       "      <td>шоколадница</td>\n",
       "      <td>True</td>\n",
       "      <td>кафе</td>\n",
       "      <td>город москва, улица земляной вал, дом 33</td>\n",
       "      <td>10</td>\n",
       "      <td>улица земляной вал</td>\n",
       "    </tr>\n",
       "    <tr>\n",
       "      <td>15363</td>\n",
       "      <td>209186</td>\n",
       "      <td>шоколадница</td>\n",
       "      <td>True</td>\n",
       "      <td>кафе</td>\n",
       "      <td>город москва, улица земляной вал, дом 33</td>\n",
       "      <td>20</td>\n",
       "      <td>улица земляной вал</td>\n",
       "    </tr>\n",
       "    <tr>\n",
       "      <td>15364</td>\n",
       "      <td>221900</td>\n",
       "      <td>шоколадница</td>\n",
       "      <td>True</td>\n",
       "      <td>кафе</td>\n",
       "      <td>город москва, поселение московский, киевское ш...</td>\n",
       "      <td>36</td>\n",
       "      <td>киевское шоссе</td>\n",
       "    </tr>\n",
       "    <tr>\n",
       "      <td>15365</td>\n",
       "      <td>222535</td>\n",
       "      <td>шоколадница</td>\n",
       "      <td>True</td>\n",
       "      <td>кафе</td>\n",
       "      <td>город москва, ходынский бульвар, дом 4</td>\n",
       "      <td>10</td>\n",
       "      <td>ходынский бульвар</td>\n",
       "    </tr>\n",
       "  </tbody>\n",
       "</table>\n",
       "<p>15366 rows × 7 columns</p>\n",
       "</div>"
      ],
      "text/plain": [
       "           id             object_name  chain object_type  \\\n",
       "0      151635                 сметана  False        кафе   \n",
       "1       77874                  родник  False        кафе   \n",
       "2       24309         кафе «академия»  False        кафе   \n",
       "3       21894              пиццетория   True        кафе   \n",
       "4      119365  кафе «вишневая метель»  False        кафе   \n",
       "...       ...                     ...    ...         ...   \n",
       "15361  208537             шоколадница   True        кафе   \n",
       "15362  209264             шоколадница   True        кафе   \n",
       "15363  209186             шоколадница   True        кафе   \n",
       "15364  221900             шоколадница   True        кафе   \n",
       "15365  222535             шоколадница   True        кафе   \n",
       "\n",
       "                                                 address  number  \\\n",
       "0             город москва, улица егора абакумова, дом 9      48   \n",
       "1      город москва, улица талалихина, дом 2/1, корпус 1      35   \n",
       "2              город москва, абельмановская улица, дом 6      95   \n",
       "3                город москва, абрамцевская улица, дом 1      40   \n",
       "4      город москва, абрамцевская улица, дом 9, корпус 1      50   \n",
       "...                                                  ...     ...   \n",
       "15361       город москва, 3-й крутицкий переулок, дом 18      50   \n",
       "15362           город москва, улица земляной вал, дом 33      10   \n",
       "15363           город москва, улица земляной вал, дом 33      20   \n",
       "15364  город москва, поселение московский, киевское ш...      36   \n",
       "15365             город москва, ходынский бульвар, дом 4      10   \n",
       "\n",
       "                       street  \n",
       "0       улица егора абакумова  \n",
       "1            улица талалихина  \n",
       "2        абельмановская улица  \n",
       "3          абрамцевская улица  \n",
       "4          абрамцевская улица  \n",
       "...                       ...  \n",
       "15361  3-й крутицкий переулок  \n",
       "15362      улица земляной вал  \n",
       "15363      улица земляной вал  \n",
       "15364          киевское шоссе  \n",
       "15365       ходынский бульвар  \n",
       "\n",
       "[15366 rows x 7 columns]"
      ]
     },
     "execution_count": 34,
     "metadata": {},
     "output_type": "execute_result"
    }
   ],
   "source": [
    "words = ['улица', 'бульвар', 'проспект', 'переулок', 'шоссе', \n",
    "'проезд', 'набережная', 'площадь', 'аллея', 'линия', 'квартал', 'мост', 'тупик', 'микрорайон', 'территория', \n",
    "         'мкр.','село','километр','ул.']\n",
    "\n",
    "pattern = '([^,]*?(?:' + format(\"|\".join(words)) + ')[^,]*)'\n",
    "\n",
    "\n",
    "rest_data[\"street\"] = rest_data[\"address\"].str.extract(pattern)\n",
    "rest_data[\"street\"] = rest_data[\"street\"].str.strip()\n",
    "rest_data"
   ]
  },
  {
   "cell_type": "code",
   "execution_count": 35,
   "metadata": {},
   "outputs": [
    {
     "data": {
      "text/html": [
       "<div>\n",
       "<style scoped>\n",
       "    .dataframe tbody tr th:only-of-type {\n",
       "        vertical-align: middle;\n",
       "    }\n",
       "\n",
       "    .dataframe tbody tr th {\n",
       "        vertical-align: top;\n",
       "    }\n",
       "\n",
       "    .dataframe thead th {\n",
       "        text-align: right;\n",
       "    }\n",
       "</style>\n",
       "<table border=\"1\" class=\"dataframe\">\n",
       "  <thead>\n",
       "    <tr style=\"text-align: right;\">\n",
       "      <th></th>\n",
       "      <th>id</th>\n",
       "      <th>object_name</th>\n",
       "      <th>chain</th>\n",
       "      <th>object_type</th>\n",
       "      <th>address</th>\n",
       "      <th>number</th>\n",
       "      <th>street</th>\n",
       "    </tr>\n",
       "  </thead>\n",
       "  <tbody>\n",
       "    <tr>\n",
       "      <td>9101</td>\n",
       "      <td>162722</td>\n",
       "      <td>кафетерий</td>\n",
       "      <td>False</td>\n",
       "      <td>кафетерий</td>\n",
       "      <td>город москва, город зеленоград, корпус 435а</td>\n",
       "      <td>3</td>\n",
       "      <td>NaN</td>\n",
       "    </tr>\n",
       "    <tr>\n",
       "      <td>8647</td>\n",
       "      <td>142771</td>\n",
       "      <td>пиццерия</td>\n",
       "      <td>False</td>\n",
       "      <td>кафе</td>\n",
       "      <td>город москва, поселение щаповское, вблизи дере...</td>\n",
       "      <td>22</td>\n",
       "      <td>NaN</td>\n",
       "    </tr>\n",
       "    <tr>\n",
       "      <td>7203</td>\n",
       "      <td>149272</td>\n",
       "      <td>кафетерий делисью</td>\n",
       "      <td>False</td>\n",
       "      <td>кафетерий</td>\n",
       "      <td>город москва, город зеленоград, корпус 514, ст...</td>\n",
       "      <td>20</td>\n",
       "      <td>NaN</td>\n",
       "    </tr>\n",
       "    <tr>\n",
       "      <td>12458</td>\n",
       "      <td>193192</td>\n",
       "      <td>кулинария «брецель»</td>\n",
       "      <td>False</td>\n",
       "      <td>кафетерий</td>\n",
       "      <td>город москва, город зеленоград, корпус 1130</td>\n",
       "      <td>7</td>\n",
       "      <td>NaN</td>\n",
       "    </tr>\n",
       "    <tr>\n",
       "      <td>10532</td>\n",
       "      <td>186345</td>\n",
       "      <td>шаурма live</td>\n",
       "      <td>False</td>\n",
       "      <td>предприятие быстрого обслуживания</td>\n",
       "      <td>город москва, город зеленоград, корпус 607</td>\n",
       "      <td>4</td>\n",
       "      <td>NaN</td>\n",
       "    </tr>\n",
       "    <tr>\n",
       "      <td>7236</td>\n",
       "      <td>24024</td>\n",
       "      <td>кафе пронто</td>\n",
       "      <td>True</td>\n",
       "      <td>кафе</td>\n",
       "      <td>город москва, город зеленоград, корпус 1549</td>\n",
       "      <td>220</td>\n",
       "      <td>NaN</td>\n",
       "    </tr>\n",
       "    <tr>\n",
       "      <td>12500</td>\n",
       "      <td>200332</td>\n",
       "      <td>ванчо пицца</td>\n",
       "      <td>False</td>\n",
       "      <td>предприятие быстрого обслуживания</td>\n",
       "      <td>город москва, поселение московский, деревня го...</td>\n",
       "      <td>30</td>\n",
       "      <td>NaN</td>\n",
       "    </tr>\n",
       "    <tr>\n",
       "      <td>11813</td>\n",
       "      <td>186731</td>\n",
       "      <td>пиво</td>\n",
       "      <td>False</td>\n",
       "      <td>бар</td>\n",
       "      <td>город москва, поселение воскресенское, посёлок...</td>\n",
       "      <td>10</td>\n",
       "      <td>NaN</td>\n",
       "    </tr>\n",
       "    <tr>\n",
       "      <td>13838</td>\n",
       "      <td>206630</td>\n",
       "      <td>лаки кинг</td>\n",
       "      <td>False</td>\n",
       "      <td>кафе</td>\n",
       "      <td>город москва, город зеленоград, корпус 1410</td>\n",
       "      <td>35</td>\n",
       "      <td>NaN</td>\n",
       "    </tr>\n",
       "    <tr>\n",
       "      <td>10664</td>\n",
       "      <td>29467</td>\n",
       "      <td>столовая в школе 1912 корп. 1816</td>\n",
       "      <td>False</td>\n",
       "      <td>столовая</td>\n",
       "      <td>город москва, город зеленоград, корпус 1816</td>\n",
       "      <td>180</td>\n",
       "      <td>NaN</td>\n",
       "    </tr>\n",
       "    <tr>\n",
       "      <td>3443</td>\n",
       "      <td>141631</td>\n",
       "      <td>шаурум</td>\n",
       "      <td>False</td>\n",
       "      <td>кафетерий</td>\n",
       "      <td>город москва, город зеленоград, корпус 124, ст...</td>\n",
       "      <td>2</td>\n",
       "      <td>NaN</td>\n",
       "    </tr>\n",
       "    <tr>\n",
       "      <td>8623</td>\n",
       "      <td>136384</td>\n",
       "      <td>гбоу школа №2057 дс-2</td>\n",
       "      <td>False</td>\n",
       "      <td>буфет</td>\n",
       "      <td>город москва, поселение марушкинское, посёлок ...</td>\n",
       "      <td>0</td>\n",
       "      <td>NaN</td>\n",
       "    </tr>\n",
       "    <tr>\n",
       "      <td>2415</td>\n",
       "      <td>28599</td>\n",
       "      <td>столовая политехнического колледжа № 50</td>\n",
       "      <td>False</td>\n",
       "      <td>столовая</td>\n",
       "      <td>город москва, город зеленоград, корпус 855</td>\n",
       "      <td>160</td>\n",
       "      <td>NaN</td>\n",
       "    </tr>\n",
       "    <tr>\n",
       "      <td>11045</td>\n",
       "      <td>29465</td>\n",
       "      <td>столовая в школе 1151 корп.1469</td>\n",
       "      <td>False</td>\n",
       "      <td>столовая</td>\n",
       "      <td>город москва, город зеленоград, корпус 1469</td>\n",
       "      <td>180</td>\n",
       "      <td>NaN</td>\n",
       "    </tr>\n",
       "    <tr>\n",
       "      <td>13791</td>\n",
       "      <td>209426</td>\n",
       "      <td>доминос пицца</td>\n",
       "      <td>False</td>\n",
       "      <td>кафе</td>\n",
       "      <td>город москва, поселение сосенское, посёлок ком...</td>\n",
       "      <td>0</td>\n",
       "      <td>NaN</td>\n",
       "    </tr>\n",
       "    <tr>\n",
       "      <td>8556</td>\n",
       "      <td>78058</td>\n",
       "      <td>уют</td>\n",
       "      <td>False</td>\n",
       "      <td>кафе</td>\n",
       "      <td>город москва, поселение михайлово-ярцевское, п...</td>\n",
       "      <td>40</td>\n",
       "      <td>NaN</td>\n",
       "    </tr>\n",
       "    <tr>\n",
       "      <td>4951</td>\n",
       "      <td>68255</td>\n",
       "      <td>додо пицца</td>\n",
       "      <td>True</td>\n",
       "      <td>кафе</td>\n",
       "      <td>город москва, город зеленоград, корпус 1641</td>\n",
       "      <td>60</td>\n",
       "      <td>NaN</td>\n",
       "    </tr>\n",
       "    <tr>\n",
       "      <td>10711</td>\n",
       "      <td>29475</td>\n",
       "      <td>гбоу г.москвы школа № 609</td>\n",
       "      <td>False</td>\n",
       "      <td>столовая</td>\n",
       "      <td>город москва, город зеленоград, корпус 341а</td>\n",
       "      <td>100</td>\n",
       "      <td>NaN</td>\n",
       "    </tr>\n",
       "    <tr>\n",
       "      <td>10531</td>\n",
       "      <td>23886</td>\n",
       "      <td>школа 618</td>\n",
       "      <td>False</td>\n",
       "      <td>столовая</td>\n",
       "      <td>город москва, город зеленоград, корпус 429</td>\n",
       "      <td>160</td>\n",
       "      <td>NaN</td>\n",
       "    </tr>\n",
       "    <tr>\n",
       "      <td>10841</td>\n",
       "      <td>29110</td>\n",
       "      <td>гбоу г.москвы школа № 854</td>\n",
       "      <td>False</td>\n",
       "      <td>столовая</td>\n",
       "      <td>город москва, город зеленоград, корпус 711</td>\n",
       "      <td>100</td>\n",
       "      <td>NaN</td>\n",
       "    </tr>\n",
       "    <tr>\n",
       "      <td>2424</td>\n",
       "      <td>84460</td>\n",
       "      <td>столова «гбоу школа №852»</td>\n",
       "      <td>False</td>\n",
       "      <td>столовая</td>\n",
       "      <td>город москва, город зеленоград, корпус 1128</td>\n",
       "      <td>160</td>\n",
       "      <td>NaN</td>\n",
       "    </tr>\n",
       "    <tr>\n",
       "      <td>11814</td>\n",
       "      <td>175912</td>\n",
       "      <td>lafka bar</td>\n",
       "      <td>False</td>\n",
       "      <td>кафе</td>\n",
       "      <td>город москва, поселение воскресенское, посёлок...</td>\n",
       "      <td>10</td>\n",
       "      <td>NaN</td>\n",
       "    </tr>\n",
       "    <tr>\n",
       "      <td>14981</td>\n",
       "      <td>216909</td>\n",
       "      <td>кафе</td>\n",
       "      <td>False</td>\n",
       "      <td>буфет</td>\n",
       "      <td>город москва, поселение десеновское, деревня в...</td>\n",
       "      <td>10</td>\n",
       "      <td>NaN</td>\n",
       "    </tr>\n",
       "    <tr>\n",
       "      <td>13285</td>\n",
       "      <td>192998</td>\n",
       "      <td>кафе, столовая</td>\n",
       "      <td>False</td>\n",
       "      <td>столовая</td>\n",
       "      <td>город москва, поселение марушкинское, посёлок ...</td>\n",
       "      <td>40</td>\n",
       "      <td>NaN</td>\n",
       "    </tr>\n",
       "    <tr>\n",
       "      <td>11747</td>\n",
       "      <td>190248</td>\n",
       "      <td>суши</td>\n",
       "      <td>False</td>\n",
       "      <td>кафе</td>\n",
       "      <td>город москва, поселение рязановское, посёлок з...</td>\n",
       "      <td>12</td>\n",
       "      <td>NaN</td>\n",
       "    </tr>\n",
       "    <tr>\n",
       "      <td>2519</td>\n",
       "      <td>25792</td>\n",
       "      <td>бар «все свои»</td>\n",
       "      <td>False</td>\n",
       "      <td>бар</td>\n",
       "      <td>город москва, город зеленоград, корпус 1604</td>\n",
       "      <td>23</td>\n",
       "      <td>NaN</td>\n",
       "    </tr>\n",
       "    <tr>\n",
       "      <td>1412</td>\n",
       "      <td>24023</td>\n",
       "      <td>пекарня «дружок-пирожок»</td>\n",
       "      <td>False</td>\n",
       "      <td>кафетерий</td>\n",
       "      <td>город москва, город зеленоград, корпус 1449</td>\n",
       "      <td>5</td>\n",
       "      <td>NaN</td>\n",
       "    </tr>\n",
       "    <tr>\n",
       "      <td>7256</td>\n",
       "      <td>29410</td>\n",
       "      <td>школа 2045 корп.2031</td>\n",
       "      <td>False</td>\n",
       "      <td>столовая</td>\n",
       "      <td>город москва, город зеленоград, корпус 2031</td>\n",
       "      <td>160</td>\n",
       "      <td>NaN</td>\n",
       "    </tr>\n",
       "    <tr>\n",
       "      <td>1797</td>\n",
       "      <td>84477</td>\n",
       "      <td>пиццерия пиу дель чибо</td>\n",
       "      <td>True</td>\n",
       "      <td>кафе</td>\n",
       "      <td>город москва, город зеленоград, корпус 330</td>\n",
       "      <td>80</td>\n",
       "      <td>NaN</td>\n",
       "    </tr>\n",
       "    <tr>\n",
       "      <td>10105</td>\n",
       "      <td>172418</td>\n",
       "      <td>шаурум</td>\n",
       "      <td>False</td>\n",
       "      <td>кафе</td>\n",
       "      <td>город москва, город зеленоград, корпус 317а, с...</td>\n",
       "      <td>12</td>\n",
       "      <td>NaN</td>\n",
       "    </tr>\n",
       "    <tr>\n",
       "      <td>12254</td>\n",
       "      <td>190895</td>\n",
       "      <td>магбургер</td>\n",
       "      <td>True</td>\n",
       "      <td>ресторан</td>\n",
       "      <td>город москва, поселение щаповское, деревня тро...</td>\n",
       "      <td>24</td>\n",
       "      <td>NaN</td>\n",
       "    </tr>\n",
       "    <tr>\n",
       "      <td>11752</td>\n",
       "      <td>186736</td>\n",
       "      <td>кафе «сказка»</td>\n",
       "      <td>False</td>\n",
       "      <td>кафе</td>\n",
       "      <td>город москва, поселение воскресенское, посёлок...</td>\n",
       "      <td>12</td>\n",
       "      <td>NaN</td>\n",
       "    </tr>\n",
       "    <tr>\n",
       "      <td>8664</td>\n",
       "      <td>140339</td>\n",
       "      <td>птицы и пчелы</td>\n",
       "      <td>False</td>\n",
       "      <td>ресторан</td>\n",
       "      <td>город москва, поселение сосенское, деревня сос...</td>\n",
       "      <td>200</td>\n",
       "      <td>NaN</td>\n",
       "    </tr>\n",
       "    <tr>\n",
       "      <td>3658</td>\n",
       "      <td>29119</td>\n",
       "      <td>государственное бюджетное общеобразовательное ...</td>\n",
       "      <td>False</td>\n",
       "      <td>столовая</td>\n",
       "      <td>город москва, город зеленоград, корпус 913а</td>\n",
       "      <td>160</td>\n",
       "      <td>NaN</td>\n",
       "    </tr>\n",
       "    <tr>\n",
       "      <td>7237</td>\n",
       "      <td>20103</td>\n",
       "      <td>амстердам</td>\n",
       "      <td>False</td>\n",
       "      <td>кафе</td>\n",
       "      <td>город москва, город зеленоград, корпус 159</td>\n",
       "      <td>75</td>\n",
       "      <td>NaN</td>\n",
       "    </tr>\n",
       "    <tr>\n",
       "      <td>11439</td>\n",
       "      <td>23847</td>\n",
       "      <td>школа 604</td>\n",
       "      <td>False</td>\n",
       "      <td>столовая</td>\n",
       "      <td>город москва, город зеленоград, корпус 222а, с...</td>\n",
       "      <td>100</td>\n",
       "      <td>NaN</td>\n",
       "    </tr>\n",
       "    <tr>\n",
       "      <td>1893</td>\n",
       "      <td>124224</td>\n",
       "      <td>ресторан «виттория»</td>\n",
       "      <td>False</td>\n",
       "      <td>ресторан</td>\n",
       "      <td>город москва, поселение новофедоровское, дерев...</td>\n",
       "      <td>95</td>\n",
       "      <td>NaN</td>\n",
       "    </tr>\n",
       "    <tr>\n",
       "      <td>8818</td>\n",
       "      <td>156346</td>\n",
       "      <td>кафе «кафетерий»</td>\n",
       "      <td>False</td>\n",
       "      <td>кафе</td>\n",
       "      <td>город москва, 3-й лучевой просек, дом 4а</td>\n",
       "      <td>50</td>\n",
       "      <td>NaN</td>\n",
       "    </tr>\n",
       "    <tr>\n",
       "      <td>3444</td>\n",
       "      <td>151254</td>\n",
       "      <td>буфет</td>\n",
       "      <td>False</td>\n",
       "      <td>буфет</td>\n",
       "      <td>город москва, город зеленоград, корпус 124, ст...</td>\n",
       "      <td>3</td>\n",
       "      <td>NaN</td>\n",
       "    </tr>\n",
       "    <tr>\n",
       "      <td>2423</td>\n",
       "      <td>84457</td>\n",
       "      <td>столовая «гбоу школа №1692»</td>\n",
       "      <td>False</td>\n",
       "      <td>столовая</td>\n",
       "      <td>город москва, город зеленоград, корпус 1017</td>\n",
       "      <td>160</td>\n",
       "      <td>NaN</td>\n",
       "    </tr>\n",
       "    <tr>\n",
       "      <td>7197</td>\n",
       "      <td>29481</td>\n",
       "      <td>гбоу г. москвы школа №1557</td>\n",
       "      <td>False</td>\n",
       "      <td>столовая</td>\n",
       "      <td>город москва, город зеленоград, корпус 509</td>\n",
       "      <td>100</td>\n",
       "      <td>NaN</td>\n",
       "    </tr>\n",
       "    <tr>\n",
       "      <td>2413</td>\n",
       "      <td>138533</td>\n",
       "      <td>горница</td>\n",
       "      <td>False</td>\n",
       "      <td>кафе</td>\n",
       "      <td>город москва, город зеленоград, корпус 317а, с...</td>\n",
       "      <td>90</td>\n",
       "      <td>NaN</td>\n",
       "    </tr>\n",
       "    <tr>\n",
       "      <td>8509</td>\n",
       "      <td>124208</td>\n",
       "      <td>кофемания</td>\n",
       "      <td>True</td>\n",
       "      <td>кафе</td>\n",
       "      <td>город москва, поселение московский, деревня ла...</td>\n",
       "      <td>60</td>\n",
       "      <td>NaN</td>\n",
       "    </tr>\n",
       "    <tr>\n",
       "      <td>13047</td>\n",
       "      <td>202155</td>\n",
       "      <td>буфет в «ледовом дворце»</td>\n",
       "      <td>False</td>\n",
       "      <td>буфет</td>\n",
       "      <td>город москва, город зеленоград, корпус 2045</td>\n",
       "      <td>10</td>\n",
       "      <td>NaN</td>\n",
       "    </tr>\n",
       "    <tr>\n",
       "      <td>13306</td>\n",
       "      <td>198411</td>\n",
       "      <td>кафе</td>\n",
       "      <td>False</td>\n",
       "      <td>кафе</td>\n",
       "      <td>город москва, поселение сосенское, деревня сос...</td>\n",
       "      <td>18</td>\n",
       "      <td>NaN</td>\n",
       "    </tr>\n",
       "    <tr>\n",
       "      <td>11438</td>\n",
       "      <td>180034</td>\n",
       "      <td>кафе «сушивесла»</td>\n",
       "      <td>False</td>\n",
       "      <td>предприятие быстрого обслуживания</td>\n",
       "      <td>город москва, город зеленоград, корпус 1549</td>\n",
       "      <td>2</td>\n",
       "      <td>NaN</td>\n",
       "    </tr>\n",
       "    <tr>\n",
       "      <td>14470</td>\n",
       "      <td>220595</td>\n",
       "      <td>пекарня № 1</td>\n",
       "      <td>False</td>\n",
       "      <td>кафетерий</td>\n",
       "      <td>город москва, город зеленоград, корпус 1627</td>\n",
       "      <td>6</td>\n",
       "      <td>NaN</td>\n",
       "    </tr>\n",
       "    <tr>\n",
       "      <td>14978</td>\n",
       "      <td>213725</td>\n",
       "      <td>выпечка</td>\n",
       "      <td>False</td>\n",
       "      <td>кафе</td>\n",
       "      <td>город москва, поселение воскресенское, деревня...</td>\n",
       "      <td>0</td>\n",
       "      <td>NaN</td>\n",
       "    </tr>\n",
       "    <tr>\n",
       "      <td>12457</td>\n",
       "      <td>198974</td>\n",
       "      <td>кафе брашна</td>\n",
       "      <td>False</td>\n",
       "      <td>кафе</td>\n",
       "      <td>город москва, город зеленоград, корпус 834в</td>\n",
       "      <td>45</td>\n",
       "      <td>NaN</td>\n",
       "    </tr>\n",
       "    <tr>\n",
       "      <td>13321</td>\n",
       "      <td>198632</td>\n",
       "      <td>таверна</td>\n",
       "      <td>False</td>\n",
       "      <td>кафе</td>\n",
       "      <td>город москва, поселение сосенское, деревня сос...</td>\n",
       "      <td>25</td>\n",
       "      <td>NaN</td>\n",
       "    </tr>\n",
       "  </tbody>\n",
       "</table>\n",
       "</div>"
      ],
      "text/plain": [
       "           id                                        object_name  chain  \\\n",
       "9101   162722                                          кафетерий  False   \n",
       "8647   142771                                           пиццерия  False   \n",
       "7203   149272                                  кафетерий делисью  False   \n",
       "12458  193192                                кулинария «брецель»  False   \n",
       "10532  186345                                        шаурма live  False   \n",
       "7236    24024                                        кафе пронто   True   \n",
       "12500  200332                                        ванчо пицца  False   \n",
       "11813  186731                                               пиво  False   \n",
       "13838  206630                                          лаки кинг  False   \n",
       "10664   29467                   столовая в школе 1912 корп. 1816  False   \n",
       "3443   141631                                             шаурум  False   \n",
       "8623   136384                              гбоу школа №2057 дс-2  False   \n",
       "2415    28599            столовая политехнического колледжа № 50  False   \n",
       "11045   29465                    столовая в школе 1151 корп.1469  False   \n",
       "13791  209426                                      доминос пицца  False   \n",
       "8556    78058                                                уют  False   \n",
       "4951    68255                                         додо пицца   True   \n",
       "10711   29475                          гбоу г.москвы школа № 609  False   \n",
       "10531   23886                                          школа 618  False   \n",
       "10841   29110                          гбоу г.москвы школа № 854  False   \n",
       "2424    84460                          столова «гбоу школа №852»  False   \n",
       "11814  175912                                          lafka bar  False   \n",
       "14981  216909                                               кафе  False   \n",
       "13285  192998                                     кафе, столовая  False   \n",
       "11747  190248                                               суши  False   \n",
       "2519    25792                                     бар «все свои»  False   \n",
       "1412    24023                           пекарня «дружок-пирожок»  False   \n",
       "7256    29410                               школа 2045 корп.2031  False   \n",
       "1797    84477                             пиццерия пиу дель чибо   True   \n",
       "10105  172418                                             шаурум  False   \n",
       "12254  190895                                          магбургер   True   \n",
       "11752  186736                                      кафе «сказка»  False   \n",
       "8664   140339                                      птицы и пчелы  False   \n",
       "3658    29119  государственное бюджетное общеобразовательное ...  False   \n",
       "7237    20103                                          амстердам  False   \n",
       "11439   23847                                          школа 604  False   \n",
       "1893   124224                                ресторан «виттория»  False   \n",
       "8818   156346                                   кафе «кафетерий»  False   \n",
       "3444   151254                                              буфет  False   \n",
       "2423    84457                        столовая «гбоу школа №1692»  False   \n",
       "7197    29481                         гбоу г. москвы школа №1557  False   \n",
       "2413   138533                                            горница  False   \n",
       "8509   124208                                          кофемания   True   \n",
       "13047  202155                           буфет в «ледовом дворце»  False   \n",
       "13306  198411                                               кафе  False   \n",
       "11438  180034                                   кафе «сушивесла»  False   \n",
       "14470  220595                                        пекарня № 1  False   \n",
       "14978  213725                                            выпечка  False   \n",
       "12457  198974                                        кафе брашна  False   \n",
       "13321  198632                                            таверна  False   \n",
       "\n",
       "                             object_type  \\\n",
       "9101                           кафетерий   \n",
       "8647                                кафе   \n",
       "7203                           кафетерий   \n",
       "12458                          кафетерий   \n",
       "10532  предприятие быстрого обслуживания   \n",
       "7236                                кафе   \n",
       "12500  предприятие быстрого обслуживания   \n",
       "11813                                бар   \n",
       "13838                               кафе   \n",
       "10664                           столовая   \n",
       "3443                           кафетерий   \n",
       "8623                               буфет   \n",
       "2415                            столовая   \n",
       "11045                           столовая   \n",
       "13791                               кафе   \n",
       "8556                                кафе   \n",
       "4951                                кафе   \n",
       "10711                           столовая   \n",
       "10531                           столовая   \n",
       "10841                           столовая   \n",
       "2424                            столовая   \n",
       "11814                               кафе   \n",
       "14981                              буфет   \n",
       "13285                           столовая   \n",
       "11747                               кафе   \n",
       "2519                                 бар   \n",
       "1412                           кафетерий   \n",
       "7256                            столовая   \n",
       "1797                                кафе   \n",
       "10105                               кафе   \n",
       "12254                           ресторан   \n",
       "11752                               кафе   \n",
       "8664                            ресторан   \n",
       "3658                            столовая   \n",
       "7237                                кафе   \n",
       "11439                           столовая   \n",
       "1893                            ресторан   \n",
       "8818                                кафе   \n",
       "3444                               буфет   \n",
       "2423                            столовая   \n",
       "7197                            столовая   \n",
       "2413                                кафе   \n",
       "8509                                кафе   \n",
       "13047                              буфет   \n",
       "13306                               кафе   \n",
       "11438  предприятие быстрого обслуживания   \n",
       "14470                          кафетерий   \n",
       "14978                               кафе   \n",
       "12457                               кафе   \n",
       "13321                               кафе   \n",
       "\n",
       "                                                 address  number street  \n",
       "9101         город москва, город зеленоград, корпус 435а       3    NaN  \n",
       "8647   город москва, поселение щаповское, вблизи дере...      22    NaN  \n",
       "7203   город москва, город зеленоград, корпус 514, ст...      20    NaN  \n",
       "12458        город москва, город зеленоград, корпус 1130       7    NaN  \n",
       "10532         город москва, город зеленоград, корпус 607       4    NaN  \n",
       "7236         город москва, город зеленоград, корпус 1549     220    NaN  \n",
       "12500  город москва, поселение московский, деревня го...      30    NaN  \n",
       "11813  город москва, поселение воскресенское, посёлок...      10    NaN  \n",
       "13838        город москва, город зеленоград, корпус 1410      35    NaN  \n",
       "10664        город москва, город зеленоград, корпус 1816     180    NaN  \n",
       "3443   город москва, город зеленоград, корпус 124, ст...       2    NaN  \n",
       "8623   город москва, поселение марушкинское, посёлок ...       0    NaN  \n",
       "2415          город москва, город зеленоград, корпус 855     160    NaN  \n",
       "11045        город москва, город зеленоград, корпус 1469     180    NaN  \n",
       "13791  город москва, поселение сосенское, посёлок ком...       0    NaN  \n",
       "8556   город москва, поселение михайлово-ярцевское, п...      40    NaN  \n",
       "4951         город москва, город зеленоград, корпус 1641      60    NaN  \n",
       "10711        город москва, город зеленоград, корпус 341а     100    NaN  \n",
       "10531         город москва, город зеленоград, корпус 429     160    NaN  \n",
       "10841         город москва, город зеленоград, корпус 711     100    NaN  \n",
       "2424         город москва, город зеленоград, корпус 1128     160    NaN  \n",
       "11814  город москва, поселение воскресенское, посёлок...      10    NaN  \n",
       "14981  город москва, поселение десеновское, деревня в...      10    NaN  \n",
       "13285  город москва, поселение марушкинское, посёлок ...      40    NaN  \n",
       "11747  город москва, поселение рязановское, посёлок з...      12    NaN  \n",
       "2519         город москва, город зеленоград, корпус 1604      23    NaN  \n",
       "1412         город москва, город зеленоград, корпус 1449       5    NaN  \n",
       "7256         город москва, город зеленоград, корпус 2031     160    NaN  \n",
       "1797          город москва, город зеленоград, корпус 330      80    NaN  \n",
       "10105  город москва, город зеленоград, корпус 317а, с...      12    NaN  \n",
       "12254  город москва, поселение щаповское, деревня тро...      24    NaN  \n",
       "11752  город москва, поселение воскресенское, посёлок...      12    NaN  \n",
       "8664   город москва, поселение сосенское, деревня сос...     200    NaN  \n",
       "3658         город москва, город зеленоград, корпус 913а     160    NaN  \n",
       "7237          город москва, город зеленоград, корпус 159      75    NaN  \n",
       "11439  город москва, город зеленоград, корпус 222а, с...     100    NaN  \n",
       "1893   город москва, поселение новофедоровское, дерев...      95    NaN  \n",
       "8818            город москва, 3-й лучевой просек, дом 4а      50    NaN  \n",
       "3444   город москва, город зеленоград, корпус 124, ст...       3    NaN  \n",
       "2423         город москва, город зеленоград, корпус 1017     160    NaN  \n",
       "7197          город москва, город зеленоград, корпус 509     100    NaN  \n",
       "2413   город москва, город зеленоград, корпус 317а, с...      90    NaN  \n",
       "8509   город москва, поселение московский, деревня ла...      60    NaN  \n",
       "13047        город москва, город зеленоград, корпус 2045      10    NaN  \n",
       "13306  город москва, поселение сосенское, деревня сос...      18    NaN  \n",
       "11438        город москва, город зеленоград, корпус 1549       2    NaN  \n",
       "14470        город москва, город зеленоград, корпус 1627       6    NaN  \n",
       "14978  город москва, поселение воскресенское, деревня...       0    NaN  \n",
       "12457        город москва, город зеленоград, корпус 834в      45    NaN  \n",
       "13321  город москва, поселение сосенское, деревня сос...      25    NaN  "
      ]
     },
     "execution_count": 35,
     "metadata": {},
     "output_type": "execute_result"
    }
   ],
   "source": [
    "rest_data[rest_data['street'].isna()].sample(50)"
   ]
  },
  {
   "cell_type": "markdown",
   "metadata": {},
   "source": [
    "Все оставшиеся строки относятся к городу Зеленоград, которой относится к Москве только формально и к тому же в адресе не указана улица."
   ]
  },
  {
   "cell_type": "markdown",
   "metadata": {},
   "source": [
    "### Постройте график топ-10 улиц по количеству объектов общественного питания. Воспользуйтесь внешней информацией и ответьте на вопрос — в каких районах Москвы находятся эти улицы?"
   ]
  },
  {
   "cell_type": "code",
   "execution_count": 36,
   "metadata": {},
   "outputs": [
    {
     "data": {
      "text/html": [
       "<div>\n",
       "<style scoped>\n",
       "    .dataframe tbody tr th:only-of-type {\n",
       "        vertical-align: middle;\n",
       "    }\n",
       "\n",
       "    .dataframe tbody tr th {\n",
       "        vertical-align: top;\n",
       "    }\n",
       "\n",
       "    .dataframe thead th {\n",
       "        text-align: right;\n",
       "    }\n",
       "</style>\n",
       "<table border=\"1\" class=\"dataframe\">\n",
       "  <thead>\n",
       "    <tr style=\"text-align: right;\">\n",
       "      <th></th>\n",
       "      <th>streetname</th>\n",
       "      <th>areaid</th>\n",
       "      <th>okrug</th>\n",
       "      <th>area</th>\n",
       "    </tr>\n",
       "  </thead>\n",
       "  <tbody>\n",
       "    <tr>\n",
       "      <td>0</td>\n",
       "      <td>Выставочный переулок</td>\n",
       "      <td>17</td>\n",
       "      <td>ЦАО</td>\n",
       "      <td>Пресненский район</td>\n",
       "    </tr>\n",
       "    <tr>\n",
       "      <td>1</td>\n",
       "      <td>улица Гашека</td>\n",
       "      <td>17</td>\n",
       "      <td>ЦАО</td>\n",
       "      <td>Пресненский район</td>\n",
       "    </tr>\n",
       "    <tr>\n",
       "      <td>2</td>\n",
       "      <td>Большая Никитская улица</td>\n",
       "      <td>17</td>\n",
       "      <td>ЦАО</td>\n",
       "      <td>Пресненский район</td>\n",
       "    </tr>\n",
       "    <tr>\n",
       "      <td>3</td>\n",
       "      <td>Глубокий переулок</td>\n",
       "      <td>17</td>\n",
       "      <td>ЦАО</td>\n",
       "      <td>Пресненский район</td>\n",
       "    </tr>\n",
       "    <tr>\n",
       "      <td>4</td>\n",
       "      <td>Большой Гнездниковский переулок</td>\n",
       "      <td>17</td>\n",
       "      <td>ЦАО</td>\n",
       "      <td>Пресненский район</td>\n",
       "    </tr>\n",
       "    <tr>\n",
       "      <td>...</td>\n",
       "      <td>...</td>\n",
       "      <td>...</td>\n",
       "      <td>...</td>\n",
       "      <td>...</td>\n",
       "    </tr>\n",
       "    <tr>\n",
       "      <td>4393</td>\n",
       "      <td>Вознесенский проезд</td>\n",
       "      <td>17</td>\n",
       "      <td>ЦАО</td>\n",
       "      <td>Пресненский район</td>\n",
       "    </tr>\n",
       "    <tr>\n",
       "      <td>4394</td>\n",
       "      <td>Волков переулок</td>\n",
       "      <td>17</td>\n",
       "      <td>ЦАО</td>\n",
       "      <td>Пресненский район</td>\n",
       "    </tr>\n",
       "    <tr>\n",
       "      <td>4395</td>\n",
       "      <td>Поварская улица</td>\n",
       "      <td>17</td>\n",
       "      <td>ЦАО</td>\n",
       "      <td>Пресненский район</td>\n",
       "    </tr>\n",
       "    <tr>\n",
       "      <td>4396</td>\n",
       "      <td>Кудринская площадь</td>\n",
       "      <td>17</td>\n",
       "      <td>ЦАО</td>\n",
       "      <td>Пресненский район</td>\n",
       "    </tr>\n",
       "    <tr>\n",
       "      <td>4397</td>\n",
       "      <td>Вспольный переулок</td>\n",
       "      <td>17</td>\n",
       "      <td>ЦАО</td>\n",
       "      <td>Пресненский район</td>\n",
       "    </tr>\n",
       "  </tbody>\n",
       "</table>\n",
       "<p>4398 rows × 4 columns</p>\n",
       "</div>"
      ],
      "text/plain": [
       "                           streetname  areaid okrug               area\n",
       "0                Выставочный переулок      17   ЦАО  Пресненский район\n",
       "1                        улица Гашека      17   ЦАО  Пресненский район\n",
       "2             Большая Никитская улица      17   ЦАО  Пресненский район\n",
       "3                   Глубокий переулок      17   ЦАО  Пресненский район\n",
       "4     Большой Гнездниковский переулок      17   ЦАО  Пресненский район\n",
       "...                               ...     ...   ...                ...\n",
       "4393              Вознесенский проезд      17   ЦАО  Пресненский район\n",
       "4394                  Волков переулок      17   ЦАО  Пресненский район\n",
       "4395                  Поварская улица      17   ЦАО  Пресненский район\n",
       "4396               Кудринская площадь      17   ЦАО  Пресненский район\n",
       "4397               Вспольный переулок      17   ЦАО  Пресненский район\n",
       "\n",
       "[4398 rows x 4 columns]"
      ]
     },
     "execution_count": 36,
     "metadata": {},
     "output_type": "execute_result"
    }
   ],
   "source": [
    "districts = pd.read_csv('mosgaz-streets.csv')\n",
    "districts"
   ]
  },
  {
   "cell_type": "code",
   "execution_count": 37,
   "metadata": {},
   "outputs": [],
   "source": [
    "districts = districts.drop('areaid', 1)"
   ]
  },
  {
   "cell_type": "code",
   "execution_count": 38,
   "metadata": {},
   "outputs": [],
   "source": [
    "districts.columns = ['street','area','district']"
   ]
  },
  {
   "cell_type": "code",
   "execution_count": 39,
   "metadata": {},
   "outputs": [],
   "source": [
    "districts['street'] = districts['street'].str.lower()"
   ]
  },
  {
   "cell_type": "code",
   "execution_count": 40,
   "metadata": {},
   "outputs": [
    {
     "data": {
      "text/html": [
       "<div>\n",
       "<style scoped>\n",
       "    .dataframe tbody tr th:only-of-type {\n",
       "        vertical-align: middle;\n",
       "    }\n",
       "\n",
       "    .dataframe tbody tr th {\n",
       "        vertical-align: top;\n",
       "    }\n",
       "\n",
       "    .dataframe thead th {\n",
       "        text-align: right;\n",
       "    }\n",
       "</style>\n",
       "<table border=\"1\" class=\"dataframe\">\n",
       "  <thead>\n",
       "    <tr style=\"text-align: right;\">\n",
       "      <th></th>\n",
       "      <th>street</th>\n",
       "      <th>area</th>\n",
       "      <th>district</th>\n",
       "    </tr>\n",
       "  </thead>\n",
       "  <tbody>\n",
       "    <tr>\n",
       "      <td>0</td>\n",
       "      <td>выставочный переулок</td>\n",
       "      <td>ЦАО</td>\n",
       "      <td>Пресненский район</td>\n",
       "    </tr>\n",
       "    <tr>\n",
       "      <td>1</td>\n",
       "      <td>улица гашека</td>\n",
       "      <td>ЦАО</td>\n",
       "      <td>Пресненский район</td>\n",
       "    </tr>\n",
       "    <tr>\n",
       "      <td>2</td>\n",
       "      <td>большая никитская улица</td>\n",
       "      <td>ЦАО</td>\n",
       "      <td>Пресненский район</td>\n",
       "    </tr>\n",
       "    <tr>\n",
       "      <td>3</td>\n",
       "      <td>глубокий переулок</td>\n",
       "      <td>ЦАО</td>\n",
       "      <td>Пресненский район</td>\n",
       "    </tr>\n",
       "    <tr>\n",
       "      <td>4</td>\n",
       "      <td>большой гнездниковский переулок</td>\n",
       "      <td>ЦАО</td>\n",
       "      <td>Пресненский район</td>\n",
       "    </tr>\n",
       "    <tr>\n",
       "      <td>...</td>\n",
       "      <td>...</td>\n",
       "      <td>...</td>\n",
       "      <td>...</td>\n",
       "    </tr>\n",
       "    <tr>\n",
       "      <td>4393</td>\n",
       "      <td>вознесенский проезд</td>\n",
       "      <td>ЦАО</td>\n",
       "      <td>Пресненский район</td>\n",
       "    </tr>\n",
       "    <tr>\n",
       "      <td>4394</td>\n",
       "      <td>волков переулок</td>\n",
       "      <td>ЦАО</td>\n",
       "      <td>Пресненский район</td>\n",
       "    </tr>\n",
       "    <tr>\n",
       "      <td>4395</td>\n",
       "      <td>поварская улица</td>\n",
       "      <td>ЦАО</td>\n",
       "      <td>Пресненский район</td>\n",
       "    </tr>\n",
       "    <tr>\n",
       "      <td>4396</td>\n",
       "      <td>кудринская площадь</td>\n",
       "      <td>ЦАО</td>\n",
       "      <td>Пресненский район</td>\n",
       "    </tr>\n",
       "    <tr>\n",
       "      <td>4397</td>\n",
       "      <td>вспольный переулок</td>\n",
       "      <td>ЦАО</td>\n",
       "      <td>Пресненский район</td>\n",
       "    </tr>\n",
       "  </tbody>\n",
       "</table>\n",
       "<p>4398 rows × 3 columns</p>\n",
       "</div>"
      ],
      "text/plain": [
       "                               street area           district\n",
       "0                выставочный переулок  ЦАО  Пресненский район\n",
       "1                        улица гашека  ЦАО  Пресненский район\n",
       "2             большая никитская улица  ЦАО  Пресненский район\n",
       "3                   глубокий переулок  ЦАО  Пресненский район\n",
       "4     большой гнездниковский переулок  ЦАО  Пресненский район\n",
       "...                               ...  ...                ...\n",
       "4393              вознесенский проезд  ЦАО  Пресненский район\n",
       "4394                  волков переулок  ЦАО  Пресненский район\n",
       "4395                  поварская улица  ЦАО  Пресненский район\n",
       "4396               кудринская площадь  ЦАО  Пресненский район\n",
       "4397               вспольный переулок  ЦАО  Пресненский район\n",
       "\n",
       "[4398 rows x 3 columns]"
      ]
     },
     "execution_count": 40,
     "metadata": {},
     "output_type": "execute_result"
    }
   ],
   "source": [
    "districts"
   ]
  },
  {
   "cell_type": "code",
   "execution_count": 41,
   "metadata": {},
   "outputs": [
    {
     "data": {
      "text/html": [
       "<div>\n",
       "<style scoped>\n",
       "    .dataframe tbody tr th:only-of-type {\n",
       "        vertical-align: middle;\n",
       "    }\n",
       "\n",
       "    .dataframe tbody tr th {\n",
       "        vertical-align: top;\n",
       "    }\n",
       "\n",
       "    .dataframe thead th {\n",
       "        text-align: right;\n",
       "    }\n",
       "</style>\n",
       "<table border=\"1\" class=\"dataframe\">\n",
       "  <thead>\n",
       "    <tr style=\"text-align: right;\">\n",
       "      <th></th>\n",
       "      <th>id</th>\n",
       "      <th>object_name</th>\n",
       "      <th>chain</th>\n",
       "      <th>object_type</th>\n",
       "      <th>address</th>\n",
       "      <th>number</th>\n",
       "      <th>street</th>\n",
       "      <th>area</th>\n",
       "      <th>district</th>\n",
       "    </tr>\n",
       "  </thead>\n",
       "  <tbody>\n",
       "    <tr>\n",
       "      <td>0</td>\n",
       "      <td>151635</td>\n",
       "      <td>сметана</td>\n",
       "      <td>False</td>\n",
       "      <td>кафе</td>\n",
       "      <td>город москва, улица егора абакумова, дом 9</td>\n",
       "      <td>48</td>\n",
       "      <td>улица егора абакумова</td>\n",
       "      <td>СВАО</td>\n",
       "      <td>Ярославский Район</td>\n",
       "    </tr>\n",
       "    <tr>\n",
       "      <td>1</td>\n",
       "      <td>77874</td>\n",
       "      <td>родник</td>\n",
       "      <td>False</td>\n",
       "      <td>кафе</td>\n",
       "      <td>город москва, улица талалихина, дом 2/1, корпус 1</td>\n",
       "      <td>35</td>\n",
       "      <td>улица талалихина</td>\n",
       "      <td>ЦАО</td>\n",
       "      <td>Таганский район</td>\n",
       "    </tr>\n",
       "    <tr>\n",
       "      <td>2</td>\n",
       "      <td>77874</td>\n",
       "      <td>родник</td>\n",
       "      <td>False</td>\n",
       "      <td>кафе</td>\n",
       "      <td>город москва, улица талалихина, дом 2/1, корпус 1</td>\n",
       "      <td>35</td>\n",
       "      <td>улица талалихина</td>\n",
       "      <td>ЮВАО</td>\n",
       "      <td>Нижегородский район</td>\n",
       "    </tr>\n",
       "    <tr>\n",
       "      <td>3</td>\n",
       "      <td>77874</td>\n",
       "      <td>родник</td>\n",
       "      <td>False</td>\n",
       "      <td>кафе</td>\n",
       "      <td>город москва, улица талалихина, дом 2/1, корпус 1</td>\n",
       "      <td>35</td>\n",
       "      <td>улица талалихина</td>\n",
       "      <td>ЮЗАО</td>\n",
       "      <td>Район Южное Бутово</td>\n",
       "    </tr>\n",
       "    <tr>\n",
       "      <td>4</td>\n",
       "      <td>24309</td>\n",
       "      <td>кафе «академия»</td>\n",
       "      <td>False</td>\n",
       "      <td>кафе</td>\n",
       "      <td>город москва, абельмановская улица, дом 6</td>\n",
       "      <td>95</td>\n",
       "      <td>абельмановская улица</td>\n",
       "      <td>ЦАО</td>\n",
       "      <td>Таганский район</td>\n",
       "    </tr>\n",
       "    <tr>\n",
       "      <td>...</td>\n",
       "      <td>...</td>\n",
       "      <td>...</td>\n",
       "      <td>...</td>\n",
       "      <td>...</td>\n",
       "      <td>...</td>\n",
       "      <td>...</td>\n",
       "      <td>...</td>\n",
       "      <td>...</td>\n",
       "      <td>...</td>\n",
       "    </tr>\n",
       "    <tr>\n",
       "      <td>30163</td>\n",
       "      <td>209264</td>\n",
       "      <td>шоколадница</td>\n",
       "      <td>True</td>\n",
       "      <td>кафе</td>\n",
       "      <td>город москва, улица земляной вал, дом 33</td>\n",
       "      <td>10</td>\n",
       "      <td>улица земляной вал</td>\n",
       "      <td>ЦАО</td>\n",
       "      <td>Басманный район</td>\n",
       "    </tr>\n",
       "    <tr>\n",
       "      <td>30164</td>\n",
       "      <td>209186</td>\n",
       "      <td>шоколадница</td>\n",
       "      <td>True</td>\n",
       "      <td>кафе</td>\n",
       "      <td>город москва, улица земляной вал, дом 33</td>\n",
       "      <td>20</td>\n",
       "      <td>улица земляной вал</td>\n",
       "      <td>ЦАО</td>\n",
       "      <td>Таганский район</td>\n",
       "    </tr>\n",
       "    <tr>\n",
       "      <td>30165</td>\n",
       "      <td>209186</td>\n",
       "      <td>шоколадница</td>\n",
       "      <td>True</td>\n",
       "      <td>кафе</td>\n",
       "      <td>город москва, улица земляной вал, дом 33</td>\n",
       "      <td>20</td>\n",
       "      <td>улица земляной вал</td>\n",
       "      <td>ЦАО</td>\n",
       "      <td>Басманный район</td>\n",
       "    </tr>\n",
       "    <tr>\n",
       "      <td>30166</td>\n",
       "      <td>221900</td>\n",
       "      <td>шоколадница</td>\n",
       "      <td>True</td>\n",
       "      <td>кафе</td>\n",
       "      <td>город москва, поселение московский, киевское ш...</td>\n",
       "      <td>36</td>\n",
       "      <td>киевское шоссе</td>\n",
       "      <td>ЗАО</td>\n",
       "      <td>Район Внуково</td>\n",
       "    </tr>\n",
       "    <tr>\n",
       "      <td>30167</td>\n",
       "      <td>222535</td>\n",
       "      <td>шоколадница</td>\n",
       "      <td>True</td>\n",
       "      <td>кафе</td>\n",
       "      <td>город москва, ходынский бульвар, дом 4</td>\n",
       "      <td>10</td>\n",
       "      <td>ходынский бульвар</td>\n",
       "      <td>САО</td>\n",
       "      <td>Хорошевский район</td>\n",
       "    </tr>\n",
       "  </tbody>\n",
       "</table>\n",
       "<p>30168 rows × 9 columns</p>\n",
       "</div>"
      ],
      "text/plain": [
       "           id      object_name  chain object_type  \\\n",
       "0      151635          сметана  False        кафе   \n",
       "1       77874           родник  False        кафе   \n",
       "2       77874           родник  False        кафе   \n",
       "3       77874           родник  False        кафе   \n",
       "4       24309  кафе «академия»  False        кафе   \n",
       "...       ...              ...    ...         ...   \n",
       "30163  209264      шоколадница   True        кафе   \n",
       "30164  209186      шоколадница   True        кафе   \n",
       "30165  209186      шоколадница   True        кафе   \n",
       "30166  221900      шоколадница   True        кафе   \n",
       "30167  222535      шоколадница   True        кафе   \n",
       "\n",
       "                                                 address  number  \\\n",
       "0             город москва, улица егора абакумова, дом 9      48   \n",
       "1      город москва, улица талалихина, дом 2/1, корпус 1      35   \n",
       "2      город москва, улица талалихина, дом 2/1, корпус 1      35   \n",
       "3      город москва, улица талалихина, дом 2/1, корпус 1      35   \n",
       "4              город москва, абельмановская улица, дом 6      95   \n",
       "...                                                  ...     ...   \n",
       "30163           город москва, улица земляной вал, дом 33      10   \n",
       "30164           город москва, улица земляной вал, дом 33      20   \n",
       "30165           город москва, улица земляной вал, дом 33      20   \n",
       "30166  город москва, поселение московский, киевское ш...      36   \n",
       "30167             город москва, ходынский бульвар, дом 4      10   \n",
       "\n",
       "                      street  area             district  \n",
       "0      улица егора абакумова  СВАО    Ярославский Район  \n",
       "1           улица талалихина   ЦАО      Таганский район  \n",
       "2           улица талалихина  ЮВАО  Нижегородский район  \n",
       "3           улица талалихина  ЮЗАО   Район Южное Бутово  \n",
       "4       абельмановская улица   ЦАО      Таганский район  \n",
       "...                      ...   ...                  ...  \n",
       "30163     улица земляной вал   ЦАО      Басманный район  \n",
       "30164     улица земляной вал   ЦАО      Таганский район  \n",
       "30165     улица земляной вал   ЦАО      Басманный район  \n",
       "30166         киевское шоссе   ЗАО        Район Внуково  \n",
       "30167      ходынский бульвар   САО    Хорошевский район  \n",
       "\n",
       "[30168 rows x 9 columns]"
      ]
     },
     "execution_count": 41,
     "metadata": {},
     "output_type": "execute_result"
    }
   ],
   "source": [
    "rest_data_new = rest_data.merge(districts, on='street', how='left')\n",
    "rest_data_new"
   ]
  },
  {
   "cell_type": "code",
   "execution_count": null,
   "metadata": {},
   "outputs": [],
   "source": []
  },
  {
   "cell_type": "code",
   "execution_count": 42,
   "metadata": {},
   "outputs": [
    {
     "data": {
      "text/html": [
       "<div>\n",
       "<style scoped>\n",
       "    .dataframe tbody tr th:only-of-type {\n",
       "        vertical-align: middle;\n",
       "    }\n",
       "\n",
       "    .dataframe tbody tr th {\n",
       "        vertical-align: top;\n",
       "    }\n",
       "\n",
       "    .dataframe thead th {\n",
       "        text-align: right;\n",
       "    }\n",
       "</style>\n",
       "<table border=\"1\" class=\"dataframe\">\n",
       "  <thead>\n",
       "    <tr style=\"text-align: right;\">\n",
       "      <th></th>\n",
       "      <th>street</th>\n",
       "      <th>id</th>\n",
       "    </tr>\n",
       "  </thead>\n",
       "  <tbody>\n",
       "    <tr>\n",
       "      <td>1105</td>\n",
       "      <td>проспект мира</td>\n",
       "      <td>204</td>\n",
       "    </tr>\n",
       "    <tr>\n",
       "      <td>1109</td>\n",
       "      <td>профсоюзная улица</td>\n",
       "      <td>183</td>\n",
       "    </tr>\n",
       "    <tr>\n",
       "      <td>724</td>\n",
       "      <td>ленинградский проспект</td>\n",
       "      <td>173</td>\n",
       "    </tr>\n",
       "    <tr>\n",
       "      <td>1060</td>\n",
       "      <td>пресненская набережная</td>\n",
       "      <td>167</td>\n",
       "    </tr>\n",
       "    <tr>\n",
       "      <td>433</td>\n",
       "      <td>варшавское шоссе</td>\n",
       "      <td>165</td>\n",
       "    </tr>\n",
       "    <tr>\n",
       "      <td>727</td>\n",
       "      <td>ленинский проспект</td>\n",
       "      <td>148</td>\n",
       "    </tr>\n",
       "    <tr>\n",
       "      <td>1101</td>\n",
       "      <td>проспект вернадского</td>\n",
       "      <td>132</td>\n",
       "    </tr>\n",
       "    <tr>\n",
       "      <td>714</td>\n",
       "      <td>кутузовский проспект</td>\n",
       "      <td>114</td>\n",
       "    </tr>\n",
       "    <tr>\n",
       "      <td>634</td>\n",
       "      <td>каширское шоссе</td>\n",
       "      <td>112</td>\n",
       "    </tr>\n",
       "    <tr>\n",
       "      <td>644</td>\n",
       "      <td>кировоградская улица</td>\n",
       "      <td>110</td>\n",
       "    </tr>\n",
       "  </tbody>\n",
       "</table>\n",
       "</div>"
      ],
      "text/plain": [
       "                      street   id\n",
       "1105           проспект мира  204\n",
       "1109       профсоюзная улица  183\n",
       "724   ленинградский проспект  173\n",
       "1060  пресненская набережная  167\n",
       "433         варшавское шоссе  165\n",
       "727       ленинский проспект  148\n",
       "1101    проспект вернадского  132\n",
       "714     кутузовский проспект  114\n",
       "634          каширское шоссе  112\n",
       "644     кировоградская улица  110"
      ]
     },
     "execution_count": 42,
     "metadata": {},
     "output_type": "execute_result"
    }
   ],
   "source": [
    "top_streets = rest_data.groupby('street')['id'].count().reset_index().sort_values('id',ascending = False).head(10)\n",
    "top_streets"
   ]
  },
  {
   "cell_type": "code",
   "execution_count": 43,
   "metadata": {},
   "outputs": [],
   "source": [
    "top_streets.columns = ['Улица','Количество']"
   ]
  },
  {
   "cell_type": "code",
   "execution_count": 44,
   "metadata": {},
   "outputs": [
    {
     "data": {
      "image/png": "[encoded data removed]",
      "text/plain": [
       "<Figure size 1080x1008 with 1 Axes>"
      ]
     },
     "metadata": {
      "needs_background": "light"
     },
     "output_type": "display_data"
    }
   ],
   "source": [
    "plt.figure(figsize=(15,14)) \n",
    "sns.barplot(\n",
    "    y='Улица', \n",
    " x='Количество', \n",
    "    data=top_streets\n",
    ")\n",
    "\n",
    "plt.show()"
   ]
  },
  {
   "cell_type": "markdown",
   "metadata": {},
   "source": [
    "<div style=\"border:solid green 2px; padding: 20px\"> \n",
    "    \n",
    "**Комментарий ревьюера**\n",
    "\n",
    "Отлично, все верно, горизонтальное расположение здесь очень подходит\n",
    "    \n",
    "</div>"
   ]
  },
  {
   "cell_type": "code",
   "execution_count": 45,
   "metadata": {},
   "outputs": [],
   "source": [
    "tttt = rest_data_new.groupby(['street','district'], as_index=False).agg({'id' : 'count'}).sort_values(by = 'id',ascending = False).head(10)"
   ]
  },
  {
   "cell_type": "code",
   "execution_count": 46,
   "metadata": {},
   "outputs": [
    {
     "data": {
      "text/html": [
       "<div>\n",
       "<style scoped>\n",
       "    .dataframe tbody tr th:only-of-type {\n",
       "        vertical-align: middle;\n",
       "    }\n",
       "\n",
       "    .dataframe tbody tr th {\n",
       "        vertical-align: top;\n",
       "    }\n",
       "\n",
       "    .dataframe thead th {\n",
       "        text-align: right;\n",
       "    }\n",
       "</style>\n",
       "<table border=\"1\" class=\"dataframe\">\n",
       "  <thead>\n",
       "    <tr style=\"text-align: right;\">\n",
       "      <th></th>\n",
       "      <th>id</th>\n",
       "    </tr>\n",
       "    <tr>\n",
       "      <th>district</th>\n",
       "      <th></th>\n",
       "    </tr>\n",
       "  </thead>\n",
       "  <tbody>\n",
       "    <tr>\n",
       "      <td>Алексеевский район</td>\n",
       "      <td>1</td>\n",
       "    </tr>\n",
       "    <tr>\n",
       "      <td>Мещанский район</td>\n",
       "      <td>1</td>\n",
       "    </tr>\n",
       "    <tr>\n",
       "      <td>Обручевский район</td>\n",
       "      <td>1</td>\n",
       "    </tr>\n",
       "    <tr>\n",
       "      <td>Останкинский район</td>\n",
       "      <td>1</td>\n",
       "    </tr>\n",
       "    <tr>\n",
       "      <td>Район Коньково</td>\n",
       "      <td>1</td>\n",
       "    </tr>\n",
       "    <tr>\n",
       "      <td>Район Марьина роща</td>\n",
       "      <td>1</td>\n",
       "    </tr>\n",
       "    <tr>\n",
       "      <td>Район Ростокино</td>\n",
       "      <td>1</td>\n",
       "    </tr>\n",
       "    <tr>\n",
       "      <td>Район Свиблово</td>\n",
       "      <td>1</td>\n",
       "    </tr>\n",
       "    <tr>\n",
       "      <td>Район Ясенево</td>\n",
       "      <td>1</td>\n",
       "    </tr>\n",
       "    <tr>\n",
       "      <td>Ярославский Район</td>\n",
       "      <td>1</td>\n",
       "    </tr>\n",
       "  </tbody>\n",
       "</table>\n",
       "</div>"
      ],
      "text/plain": [
       "                    id\n",
       "district              \n",
       "Алексеевский район   1\n",
       "Мещанский район      1\n",
       "Обручевский район    1\n",
       "Останкинский район   1\n",
       "Район Коньково       1\n",
       "Район Марьина роща   1\n",
       "Район Ростокино      1\n",
       "Район Свиблово       1\n",
       "Район Ясенево        1\n",
       "Ярославский Район    1"
      ]
     },
     "execution_count": 46,
     "metadata": {},
     "output_type": "execute_result"
    }
   ],
   "source": [
    "tttt.groupby('district').agg({'id' : 'count'}).sort_values(by='id',ascending = False)"
   ]
  },
  {
   "cell_type": "code",
   "execution_count": 47,
   "metadata": {},
   "outputs": [
    {
     "data": {
      "text/html": [
       "<div>\n",
       "<style scoped>\n",
       "    .dataframe tbody tr th:only-of-type {\n",
       "        vertical-align: middle;\n",
       "    }\n",
       "\n",
       "    .dataframe tbody tr th {\n",
       "        vertical-align: top;\n",
       "    }\n",
       "\n",
       "    .dataframe thead th {\n",
       "        text-align: right;\n",
       "    }\n",
       "</style>\n",
       "<table border=\"1\" class=\"dataframe\">\n",
       "  <thead>\n",
       "    <tr style=\"text-align: right;\">\n",
       "      <th></th>\n",
       "      <th>id</th>\n",
       "    </tr>\n",
       "    <tr>\n",
       "      <th>area</th>\n",
       "      <th></th>\n",
       "    </tr>\n",
       "  </thead>\n",
       "  <tbody>\n",
       "    <tr>\n",
       "      <td>САО</td>\n",
       "      <td>3</td>\n",
       "    </tr>\n",
       "    <tr>\n",
       "      <td>ЮАО</td>\n",
       "      <td>2</td>\n",
       "    </tr>\n",
       "    <tr>\n",
       "      <td>ЮЗАО</td>\n",
       "      <td>2</td>\n",
       "    </tr>\n",
       "    <tr>\n",
       "      <td>ЗАО</td>\n",
       "      <td>1</td>\n",
       "    </tr>\n",
       "    <tr>\n",
       "      <td>СВАО</td>\n",
       "      <td>1</td>\n",
       "    </tr>\n",
       "    <tr>\n",
       "      <td>ЮВАО</td>\n",
       "      <td>1</td>\n",
       "    </tr>\n",
       "  </tbody>\n",
       "</table>\n",
       "</div>"
      ],
      "text/plain": [
       "      id\n",
       "area    \n",
       "САО    3\n",
       "ЮАО    2\n",
       "ЮЗАО   2\n",
       "ЗАО    1\n",
       "СВАО   1\n",
       "ЮВАО   1"
      ]
     },
     "execution_count": 47,
     "metadata": {},
     "output_type": "execute_result"
    }
   ],
   "source": [
    "tttt1 = rest_data_new.groupby(['street','area'], as_index=False).agg({'id' : 'count'}).sort_values(by = 'id',ascending = False).head(10)\n",
    "tttt1.groupby('area').agg({'id' : 'count'}).sort_values(by='id',ascending = False)"
   ]
  },
  {
   "cell_type": "markdown",
   "metadata": {},
   "source": [
    "### Найдите число улиц с одним объектом общественного питания. Воспользуйтесь внешней информацией и ответьте на вопрос — в каких районах Москвы находятся эти улицы?"
   ]
  },
  {
   "cell_type": "code",
   "execution_count": 48,
   "metadata": {},
   "outputs": [
    {
     "data": {
      "text/html": [
       "<div>\n",
       "<style scoped>\n",
       "    .dataframe tbody tr th:only-of-type {\n",
       "        vertical-align: middle;\n",
       "    }\n",
       "\n",
       "    .dataframe tbody tr th {\n",
       "        vertical-align: top;\n",
       "    }\n",
       "\n",
       "    .dataframe thead th {\n",
       "        text-align: right;\n",
       "    }\n",
       "</style>\n",
       "<table border=\"1\" class=\"dataframe\">\n",
       "  <thead>\n",
       "    <tr style=\"text-align: right;\">\n",
       "      <th></th>\n",
       "      <th>street</th>\n",
       "      <th>district</th>\n",
       "      <th>id</th>\n",
       "    </tr>\n",
       "  </thead>\n",
       "  <tbody>\n",
       "    <tr>\n",
       "      <td>0</td>\n",
       "      <td>1-й автозаводский проезд</td>\n",
       "      <td>Даниловский район</td>\n",
       "      <td>3</td>\n",
       "    </tr>\n",
       "    <tr>\n",
       "      <td>1</td>\n",
       "      <td>1-й амбулаторный проезд</td>\n",
       "      <td>Район Аэропорт</td>\n",
       "      <td>2</td>\n",
       "    </tr>\n",
       "    <tr>\n",
       "      <td>2</td>\n",
       "      <td>1-й балтийский переулок</td>\n",
       "      <td>Район Аэропорт</td>\n",
       "      <td>1</td>\n",
       "    </tr>\n",
       "    <tr>\n",
       "      <td>3</td>\n",
       "      <td>1-й басманный переулок</td>\n",
       "      <td>Басманный район</td>\n",
       "      <td>1</td>\n",
       "    </tr>\n",
       "    <tr>\n",
       "      <td>4</td>\n",
       "      <td>1-й басманный переулок</td>\n",
       "      <td>Красносельский район</td>\n",
       "      <td>1</td>\n",
       "    </tr>\n",
       "    <tr>\n",
       "      <td>...</td>\n",
       "      <td>...</td>\n",
       "      <td>...</td>\n",
       "      <td>...</td>\n",
       "    </tr>\n",
       "    <tr>\n",
       "      <td>2316</td>\n",
       "      <td>ясногорская улица</td>\n",
       "      <td>Район Ясенево</td>\n",
       "      <td>1</td>\n",
       "    </tr>\n",
       "    <tr>\n",
       "      <td>2317</td>\n",
       "      <td>ясный проезд</td>\n",
       "      <td>Район Южное Медведково</td>\n",
       "      <td>9</td>\n",
       "    </tr>\n",
       "    <tr>\n",
       "      <td>2318</td>\n",
       "      <td>яузская улица</td>\n",
       "      <td>Таганский район</td>\n",
       "      <td>4</td>\n",
       "    </tr>\n",
       "    <tr>\n",
       "      <td>2319</td>\n",
       "      <td>яузский бульвар</td>\n",
       "      <td>Таганский район</td>\n",
       "      <td>1</td>\n",
       "    </tr>\n",
       "    <tr>\n",
       "      <td>2320</td>\n",
       "      <td>яхромская улица</td>\n",
       "      <td>Дмитровский район</td>\n",
       "      <td>1</td>\n",
       "    </tr>\n",
       "  </tbody>\n",
       "</table>\n",
       "<p>2321 rows × 3 columns</p>\n",
       "</div>"
      ],
      "text/plain": [
       "                        street                district  id\n",
       "0     1-й автозаводский проезд       Даниловский район   3\n",
       "1      1-й амбулаторный проезд          Район Аэропорт   2\n",
       "2      1-й балтийский переулок          Район Аэропорт   1\n",
       "3       1-й басманный переулок         Басманный район   1\n",
       "4       1-й басманный переулок    Красносельский район   1\n",
       "...                        ...                     ...  ..\n",
       "2316         ясногорская улица           Район Ясенево   1\n",
       "2317              ясный проезд  Район Южное Медведково   9\n",
       "2318             яузская улица         Таганский район   4\n",
       "2319           яузский бульвар         Таганский район   1\n",
       "2320           яхромская улица       Дмитровский район   1\n",
       "\n",
       "[2321 rows x 3 columns]"
      ]
     },
     "execution_count": 48,
     "metadata": {},
     "output_type": "execute_result"
    }
   ],
   "source": [
    "one_rest_st = rest_data_new.groupby(['street','district'], as_index=False).agg({'id' : 'count'})\n",
    "one_rest_st"
   ]
  },
  {
   "cell_type": "code",
   "execution_count": 49,
   "metadata": {},
   "outputs": [],
   "source": [
    "one_rest_st = one_rest_st.query('id == \"1\"')"
   ]
  },
  {
   "cell_type": "code",
   "execution_count": 50,
   "metadata": {},
   "outputs": [
    {
     "data": {
      "text/html": [
       "<div>\n",
       "<style scoped>\n",
       "    .dataframe tbody tr th:only-of-type {\n",
       "        vertical-align: middle;\n",
       "    }\n",
       "\n",
       "    .dataframe tbody tr th {\n",
       "        vertical-align: top;\n",
       "    }\n",
       "\n",
       "    .dataframe thead th {\n",
       "        text-align: right;\n",
       "    }\n",
       "</style>\n",
       "<table border=\"1\" class=\"dataframe\">\n",
       "  <thead>\n",
       "    <tr style=\"text-align: right;\">\n",
       "      <th></th>\n",
       "      <th>id</th>\n",
       "    </tr>\n",
       "    <tr>\n",
       "      <th>district</th>\n",
       "      <th></th>\n",
       "    </tr>\n",
       "  </thead>\n",
       "  <tbody>\n",
       "    <tr>\n",
       "      <td>Таганский район</td>\n",
       "      <td>27</td>\n",
       "    </tr>\n",
       "    <tr>\n",
       "      <td>Район Хамовники</td>\n",
       "      <td>26</td>\n",
       "    </tr>\n",
       "    <tr>\n",
       "      <td>Басманный район</td>\n",
       "      <td>25</td>\n",
       "    </tr>\n",
       "    <tr>\n",
       "      <td>Тверской район</td>\n",
       "      <td>20</td>\n",
       "    </tr>\n",
       "    <tr>\n",
       "      <td>Пресненский район</td>\n",
       "      <td>20</td>\n",
       "    </tr>\n",
       "    <tr>\n",
       "      <td>Район Арбат</td>\n",
       "      <td>18</td>\n",
       "    </tr>\n",
       "    <tr>\n",
       "      <td>Район Марьина роща</td>\n",
       "      <td>18</td>\n",
       "    </tr>\n",
       "    <tr>\n",
       "      <td>Мещанский район</td>\n",
       "      <td>15</td>\n",
       "    </tr>\n",
       "    <tr>\n",
       "      <td>Район Замоскворечье</td>\n",
       "      <td>14</td>\n",
       "    </tr>\n",
       "    <tr>\n",
       "      <td>Район Соколиная Гора</td>\n",
       "      <td>12</td>\n",
       "    </tr>\n",
       "  </tbody>\n",
       "</table>\n",
       "</div>"
      ],
      "text/plain": [
       "                      id\n",
       "district                \n",
       "Таганский район       27\n",
       "Район Хамовники       26\n",
       "Басманный район       25\n",
       "Тверской район        20\n",
       "Пресненский район     20\n",
       "Район Арбат           18\n",
       "Район Марьина роща    18\n",
       "Мещанский район       15\n",
       "Район Замоскворечье   14\n",
       "Район Соколиная Гора  12"
      ]
     },
     "execution_count": 50,
     "metadata": {},
     "output_type": "execute_result"
    }
   ],
   "source": [
    "tttt44 = one_rest_st.groupby('district').agg({'id' : 'count'}).sort_values(by='id', ascending = False).head(10)\n",
    "tttt44                                                                                          "
   ]
  },
  {
   "cell_type": "code",
   "execution_count": 51,
   "metadata": {},
   "outputs": [],
   "source": [
    "tttt44 = rest_data_new.groupby(['street','district'], as_index=False).agg({'id' : 'count'}).sort_values(by = 'id',ascending = False).head(10)"
   ]
  },
  {
   "cell_type": "markdown",
   "metadata": {},
   "source": [
    "### Посмотрите на распределение количества посадочных мест для улиц с большим количеством объектов общественного питания. Какие закономерности можно выявить?"
   ]
  },
  {
   "cell_type": "code",
   "execution_count": 52,
   "metadata": {},
   "outputs": [
    {
     "data": {
      "text/html": [
       "<div>\n",
       "<style scoped>\n",
       "    .dataframe tbody tr th:only-of-type {\n",
       "        vertical-align: middle;\n",
       "    }\n",
       "\n",
       "    .dataframe tbody tr th {\n",
       "        vertical-align: top;\n",
       "    }\n",
       "\n",
       "    .dataframe thead th {\n",
       "        text-align: right;\n",
       "    }\n",
       "</style>\n",
       "<table border=\"1\" class=\"dataframe\">\n",
       "  <thead>\n",
       "    <tr style=\"text-align: right;\">\n",
       "      <th></th>\n",
       "      <th>street</th>\n",
       "      <th>number</th>\n",
       "      <th>id</th>\n",
       "    </tr>\n",
       "  </thead>\n",
       "  <tbody>\n",
       "    <tr>\n",
       "      <td>0</td>\n",
       "      <td>проспект мира</td>\n",
       "      <td>12790</td>\n",
       "      <td>204</td>\n",
       "    </tr>\n",
       "    <tr>\n",
       "      <td>1</td>\n",
       "      <td>профсоюзная улица</td>\n",
       "      <td>8667</td>\n",
       "      <td>183</td>\n",
       "    </tr>\n",
       "    <tr>\n",
       "      <td>2</td>\n",
       "      <td>ленинградский проспект</td>\n",
       "      <td>9042</td>\n",
       "      <td>173</td>\n",
       "    </tr>\n",
       "    <tr>\n",
       "      <td>3</td>\n",
       "      <td>пресненская набережная</td>\n",
       "      <td>7656</td>\n",
       "      <td>167</td>\n",
       "    </tr>\n",
       "    <tr>\n",
       "      <td>4</td>\n",
       "      <td>варшавское шоссе</td>\n",
       "      <td>8626</td>\n",
       "      <td>165</td>\n",
       "    </tr>\n",
       "    <tr>\n",
       "      <td>5</td>\n",
       "      <td>ленинский проспект</td>\n",
       "      <td>9346</td>\n",
       "      <td>148</td>\n",
       "    </tr>\n",
       "    <tr>\n",
       "      <td>6</td>\n",
       "      <td>проспект вернадского</td>\n",
       "      <td>8840</td>\n",
       "      <td>132</td>\n",
       "    </tr>\n",
       "    <tr>\n",
       "      <td>7</td>\n",
       "      <td>кутузовский проспект</td>\n",
       "      <td>9697</td>\n",
       "      <td>114</td>\n",
       "    </tr>\n",
       "    <tr>\n",
       "      <td>8</td>\n",
       "      <td>каширское шоссе</td>\n",
       "      <td>6171</td>\n",
       "      <td>112</td>\n",
       "    </tr>\n",
       "    <tr>\n",
       "      <td>9</td>\n",
       "      <td>кировоградская улица</td>\n",
       "      <td>6577</td>\n",
       "      <td>110</td>\n",
       "    </tr>\n",
       "  </tbody>\n",
       "</table>\n",
       "</div>"
      ],
      "text/plain": [
       "                   street  number   id\n",
       "0           проспект мира   12790  204\n",
       "1       профсоюзная улица    8667  183\n",
       "2  ленинградский проспект    9042  173\n",
       "3  пресненская набережная    7656  167\n",
       "4        варшавское шоссе    8626  165\n",
       "5      ленинский проспект    9346  148\n",
       "6    проспект вернадского    8840  132\n",
       "7    кутузовский проспект    9697  114\n",
       "8         каширское шоссе    6171  112\n",
       "9    кировоградская улица    6577  110"
      ]
     },
     "execution_count": 52,
     "metadata": {},
     "output_type": "execute_result"
    }
   ],
   "source": [
    "top_street_ids = rest_data.groupby(['street']).agg({'number' : 'sum', 'id' : 'count'}).round()\n",
    "top_street_ids = top_street_ids.sort_values(by='id', ascending=False).reset_index().head(10)\n",
    "top_street_ids"
   ]
  },
  {
   "cell_type": "code",
   "execution_count": 53,
   "metadata": {},
   "outputs": [
    {
     "data": {
      "text/html": [
       "<div>\n",
       "<style scoped>\n",
       "    .dataframe tbody tr th:only-of-type {\n",
       "        vertical-align: middle;\n",
       "    }\n",
       "\n",
       "    .dataframe tbody tr th {\n",
       "        vertical-align: top;\n",
       "    }\n",
       "\n",
       "    .dataframe thead th {\n",
       "        text-align: right;\n",
       "    }\n",
       "</style>\n",
       "<table border=\"1\" class=\"dataframe\">\n",
       "  <thead>\n",
       "    <tr style=\"text-align: right;\">\n",
       "      <th></th>\n",
       "      <th>id</th>\n",
       "      <th>object_name</th>\n",
       "      <th>chain</th>\n",
       "      <th>object_type</th>\n",
       "      <th>address</th>\n",
       "      <th>number</th>\n",
       "      <th>street</th>\n",
       "    </tr>\n",
       "  </thead>\n",
       "  <tbody>\n",
       "    <tr>\n",
       "      <td>151</td>\n",
       "      <td>155973</td>\n",
       "      <td>кафе «андерсон»</td>\n",
       "      <td>True</td>\n",
       "      <td>кафе</td>\n",
       "      <td>город москва, варшавское шоссе, дом 2</td>\n",
       "      <td>150</td>\n",
       "      <td>варшавское шоссе</td>\n",
       "    </tr>\n",
       "    <tr>\n",
       "      <td>7704</td>\n",
       "      <td>75207</td>\n",
       "      <td>семейный ресторан «космик»</td>\n",
       "      <td>True</td>\n",
       "      <td>кафе</td>\n",
       "      <td>город москва, варшавское шоссе, дом 160</td>\n",
       "      <td>80</td>\n",
       "      <td>варшавское шоссе</td>\n",
       "    </tr>\n",
       "    <tr>\n",
       "      <td>7703</td>\n",
       "      <td>73494</td>\n",
       "      <td>бургер кинг</td>\n",
       "      <td>True</td>\n",
       "      <td>предприятие быстрого обслуживания</td>\n",
       "      <td>город москва, варшавское шоссе, дом 160</td>\n",
       "      <td>70</td>\n",
       "      <td>варшавское шоссе</td>\n",
       "    </tr>\n",
       "    <tr>\n",
       "      <td>7702</td>\n",
       "      <td>152159</td>\n",
       "      <td>кафе «шоколадница»</td>\n",
       "      <td>True</td>\n",
       "      <td>кафе</td>\n",
       "      <td>город москва, варшавское шоссе, дом 160</td>\n",
       "      <td>20</td>\n",
       "      <td>варшавское шоссе</td>\n",
       "    </tr>\n",
       "    <tr>\n",
       "      <td>7700</td>\n",
       "      <td>27260</td>\n",
       "      <td>ресторан «тануки»</td>\n",
       "      <td>True</td>\n",
       "      <td>ресторан</td>\n",
       "      <td>город москва, варшавское шоссе, дом 86</td>\n",
       "      <td>98</td>\n",
       "      <td>варшавское шоссе</td>\n",
       "    </tr>\n",
       "    <tr>\n",
       "      <td>...</td>\n",
       "      <td>...</td>\n",
       "      <td>...</td>\n",
       "      <td>...</td>\n",
       "      <td>...</td>\n",
       "      <td>...</td>\n",
       "      <td>...</td>\n",
       "      <td>...</td>\n",
       "    </tr>\n",
       "    <tr>\n",
       "      <td>6162</td>\n",
       "      <td>91156</td>\n",
       "      <td>макдоналдс</td>\n",
       "      <td>True</td>\n",
       "      <td>ресторан</td>\n",
       "      <td>город москва, профсоюзная улица, дом 129а</td>\n",
       "      <td>120</td>\n",
       "      <td>профсоюзная улица</td>\n",
       "    </tr>\n",
       "    <tr>\n",
       "      <td>6163</td>\n",
       "      <td>91157</td>\n",
       "      <td>бургер кинг</td>\n",
       "      <td>True</td>\n",
       "      <td>кафе</td>\n",
       "      <td>город москва, профсоюзная улица, дом 129а</td>\n",
       "      <td>60</td>\n",
       "      <td>профсоюзная улица</td>\n",
       "    </tr>\n",
       "    <tr>\n",
       "      <td>6164</td>\n",
       "      <td>91158</td>\n",
       "      <td>маки-маки</td>\n",
       "      <td>True</td>\n",
       "      <td>кафе</td>\n",
       "      <td>город москва, профсоюзная улица, дом 129а</td>\n",
       "      <td>100</td>\n",
       "      <td>профсоюзная улица</td>\n",
       "    </tr>\n",
       "    <tr>\n",
       "      <td>6145</td>\n",
       "      <td>23958</td>\n",
       "      <td>кафе шоколад</td>\n",
       "      <td>True</td>\n",
       "      <td>кафе</td>\n",
       "      <td>город москва, профсоюзная улица, дом 45а</td>\n",
       "      <td>90</td>\n",
       "      <td>профсоюзная улица</td>\n",
       "    </tr>\n",
       "    <tr>\n",
       "      <td>1693</td>\n",
       "      <td>129951</td>\n",
       "      <td>маэстро ресто</td>\n",
       "      <td>False</td>\n",
       "      <td>кафе</td>\n",
       "      <td>город москва, профсоюзная улица, дом 58, корпус 4</td>\n",
       "      <td>26</td>\n",
       "      <td>профсоюзная улица</td>\n",
       "    </tr>\n",
       "  </tbody>\n",
       "</table>\n",
       "<p>1508 rows × 7 columns</p>\n",
       "</div>"
      ],
      "text/plain": [
       "          id                 object_name  chain  \\\n",
       "151   155973             кафе «андерсон»   True   \n",
       "7704   75207  семейный ресторан «космик»   True   \n",
       "7703   73494                 бургер кинг   True   \n",
       "7702  152159          кафе «шоколадница»   True   \n",
       "7700   27260           ресторан «тануки»   True   \n",
       "...      ...                         ...    ...   \n",
       "6162   91156                  макдоналдс   True   \n",
       "6163   91157                 бургер кинг   True   \n",
       "6164   91158                   маки-маки   True   \n",
       "6145   23958                кафе шоколад   True   \n",
       "1693  129951               маэстро ресто  False   \n",
       "\n",
       "                            object_type  \\\n",
       "151                                кафе   \n",
       "7704                               кафе   \n",
       "7703  предприятие быстрого обслуживания   \n",
       "7702                               кафе   \n",
       "7700                           ресторан   \n",
       "...                                 ...   \n",
       "6162                           ресторан   \n",
       "6163                               кафе   \n",
       "6164                               кафе   \n",
       "6145                               кафе   \n",
       "1693                               кафе   \n",
       "\n",
       "                                                address  number  \\\n",
       "151               город москва, варшавское шоссе, дом 2     150   \n",
       "7704            город москва, варшавское шоссе, дом 160      80   \n",
       "7703            город москва, варшавское шоссе, дом 160      70   \n",
       "7702            город москва, варшавское шоссе, дом 160      20   \n",
       "7700             город москва, варшавское шоссе, дом 86      98   \n",
       "...                                                 ...     ...   \n",
       "6162          город москва, профсоюзная улица, дом 129а     120   \n",
       "6163          город москва, профсоюзная улица, дом 129а      60   \n",
       "6164          город москва, профсоюзная улица, дом 129а     100   \n",
       "6145           город москва, профсоюзная улица, дом 45а      90   \n",
       "1693  город москва, профсоюзная улица, дом 58, корпус 4      26   \n",
       "\n",
       "                 street  \n",
       "151    варшавское шоссе  \n",
       "7704   варшавское шоссе  \n",
       "7703   варшавское шоссе  \n",
       "7702   варшавское шоссе  \n",
       "7700   варшавское шоссе  \n",
       "...                 ...  \n",
       "6162  профсоюзная улица  \n",
       "6163  профсоюзная улица  \n",
       "6164  профсоюзная улица  \n",
       "6145  профсоюзная улица  \n",
       "1693  профсоюзная улица  \n",
       "\n",
       "[1508 rows x 7 columns]"
      ]
     },
     "execution_count": 53,
     "metadata": {},
     "output_type": "execute_result"
    }
   ],
   "source": [
    "# нахожу все заведения, которые находятся на улицах с самым большим количеством заведений\n",
    "top_streets = rest_data[rest_data['street'].isin(top_street_ids['street'].unique())].sort_values(by='street')\n",
    "top_streets"
   ]
  },
  {
   "cell_type": "code",
   "execution_count": 54,
   "metadata": {},
   "outputs": [
    {
     "data": {
      "image/png": "[encoded data removed]",
      "text/plain": [
       "<Figure size 720x432 with 1 Axes>"
      ]
     },
     "metadata": {
      "needs_background": "light"
     },
     "output_type": "display_data"
    }
   ],
   "source": [
    "\n",
    "plt.figure(figsize=(10, 6))\n",
    "plt.xlim(0,250)\n",
    "plt.title('Распределение количества посадочных мест')\n",
    "sns.boxplot(x=\"number\", y=\"street\", data=top_streets.sort_values(by='number')) \n",
    "plt.xlabel('Количество мест') \n",
    "plt.ylabel('Улица') \n",
    "plt.show()"
   ]
  },
  {
   "cell_type": "markdown",
   "metadata": {},
   "source": [
    "Можно сказать, что в среднем посадочных мест около 35. Есть маленькие заведения, где примерно 5 мест и есть большие, где около 100 и больше. \n",
    "\n",
    "<div style=\"border:solid green 2px; padding: 20px\"> \n",
    "    \n",
    "**Комментарий ревьюера**\n",
    "\n",
    "Да, все правильно, вот здесь boxplot - отличный выбор\n",
    "    \n",
    "</div>"
   ]
  },
  {
   "cell_type": "code",
   "execution_count": 251,
   "metadata": {},
   "outputs": [
    {
     "data": {
      "text/html": [
       "<div>\n",
       "<style scoped>\n",
       "    .dataframe tbody tr th:only-of-type {\n",
       "        vertical-align: middle;\n",
       "    }\n",
       "\n",
       "    .dataframe tbody tr th {\n",
       "        vertical-align: top;\n",
       "    }\n",
       "\n",
       "    .dataframe thead th {\n",
       "        text-align: right;\n",
       "    }\n",
       "</style>\n",
       "<table border=\"1\" class=\"dataframe\">\n",
       "  <thead>\n",
       "    <tr style=\"text-align: right;\">\n",
       "      <th></th>\n",
       "      <th>area</th>\n",
       "      <th>id</th>\n",
       "    </tr>\n",
       "  </thead>\n",
       "  <tbody>\n",
       "    <tr>\n",
       "      <td>0</td>\n",
       "      <td>ЦАО</td>\n",
       "      <td>4872</td>\n",
       "    </tr>\n",
       "    <tr>\n",
       "      <td>1</td>\n",
       "      <td>ЮАО</td>\n",
       "      <td>2321</td>\n",
       "    </tr>\n",
       "    <tr>\n",
       "      <td>2</td>\n",
       "      <td>ЮЗАО</td>\n",
       "      <td>1698</td>\n",
       "    </tr>\n",
       "    <tr>\n",
       "      <td>3</td>\n",
       "      <td>СВАО</td>\n",
       "      <td>1610</td>\n",
       "    </tr>\n",
       "    <tr>\n",
       "      <td>4</td>\n",
       "      <td>ЗАО</td>\n",
       "      <td>1586</td>\n",
       "    </tr>\n",
       "    <tr>\n",
       "      <td>5</td>\n",
       "      <td>САО</td>\n",
       "      <td>1508</td>\n",
       "    </tr>\n",
       "    <tr>\n",
       "      <td>6</td>\n",
       "      <td>ВАО</td>\n",
       "      <td>1283</td>\n",
       "    </tr>\n",
       "    <tr>\n",
       "      <td>7</td>\n",
       "      <td>ЮВАО</td>\n",
       "      <td>1146</td>\n",
       "    </tr>\n",
       "    <tr>\n",
       "      <td>8</td>\n",
       "      <td>СЗАО</td>\n",
       "      <td>803</td>\n",
       "    </tr>\n",
       "    <tr>\n",
       "      <td>9</td>\n",
       "      <td>Зеленоград</td>\n",
       "      <td>375</td>\n",
       "    </tr>\n",
       "  </tbody>\n",
       "</table>\n",
       "</div>"
      ],
      "text/plain": [
       "         area    id\n",
       "0         ЦАО  4872\n",
       "1         ЮАО  2321\n",
       "2        ЮЗАО  1698\n",
       "3        СВАО  1610\n",
       "4         ЗАО  1586\n",
       "5         САО  1508\n",
       "6         ВАО  1283\n",
       "7        ЮВАО  1146\n",
       "8        СЗАО   803\n",
       "9  Зеленоград   375"
      ]
     },
     "execution_count": 251,
     "metadata": {},
     "output_type": "execute_result"
    }
   ],
   "source": [
    "pop = rest_data_new.groupby('area')['id'].nunique().sort_values(ascending=False).reset_index()\n",
    "pop"
   ]
  },
  {
   "cell_type": "markdown",
   "metadata": {},
   "source": [
    "## Вывод"
   ]
  },
  {
   "cell_type": "markdown",
   "metadata": {},
   "source": [
    "Я проанализировал базу данных московских заведений общественного питания. Можно сделать несколько выводов:\n",
    "*  Больше всего в Москве заведений типа: кафе(40%), столовых(17%) и закусочных(15%). Меньше всего отделов кулинарии(2%) и баров(2%). \n",
    "* Подавляющее количество заведений являются не сетевыми, 12398 против 2968. При этом кафе, фаст-фуд и рестораны чаще всех остальных типов заведений имеюют сетевой тип.\n",
    "* Анализируя связь между количеством ресторанов и количеством посадочных мест среди сетевых заведений, я не наёл связи между ними.\n",
    "* Выделяя названия улицы из адреса, я обнаружил, что в данных есть город Зеленоград, который относится к Москве только формально. И в строках с этим городом не указаны названия улиц.\n",
    "* Улицами с наибольшим количеством ресторанов стали: Проспект мира - 204, Профсоюзная улица - 183, Ленинградский проспект - 173. Находятся они в следующих районах: Алексеевский район, Мещанский район, Обручевский район, Останкинский район, Район Коньково, Район Марьина роща, Район Ростокино, Район Свиблово, Район Ясенево, Ярославский Район.\n",
    "* Есть улицы, на которых только по одному заведению. Почти все эти заведения находятся в центре города. Это можно объеснить тем, что в центре города очень много переулков и коротких улиц. Таганский район,\n",
    "Район Хамовники,\n",
    "Басманный район,\n",
    "Тверской район,\n",
    "Пресненский район,\n",
    "Район Арбат,\n",
    "Район Марьина роща,\n",
    "Мещанский район,\n",
    "Район Замоскворечье,\n",
    "Район Соколиная Гора\n",
    "* По поводу количества посадочных мест на самых больших по количеству ресторанов улицах можно сказать, что в среднем посадочных мест около 35. Есть маленькие заведения, где примерно 5 мест и есть большие, где около 100 и больше."
   ]
  },
  {
   "cell_type": "markdown",
   "metadata": {},
   "source": [
    "<div style=\"border:solid gold 2px; padding: 20px\"> \n",
    "    \n",
    "**Комментарий ревьюера**\n",
    "\n",
    "В целом все верно написано, но я бы больше внимания уделила рекомендаиям. Мы проводили анализ, чтоб грамотно открыть новое заведение по типу и расположению. Клиенту не так важно, что где-то не указаны улицы, т.к это не его данные и скорее всего он с этим ничего не может поделдать, а вот узнать, что лучше открывать кафе или бар? с каким количеством посадочных мест? в каком районе? вложится в сетевую франшизу или дать свое название? Все это было бы действительно ценно заказчику....\n",
    "    \n",
    "</div>"
   ]
  },
  {
   "cell_type": "markdown",
   "metadata": {},
   "source": [
    "<div style=\"border:solid red 2px; padding: 20px\"> \n",
    "    \n",
    "**Комментарий ревьюера**\n",
    "\n",
    "Осталось добавить презентацию\n",
    "    \n",
    "</div>"
   ]
  },
  {
   "cell_type": "markdown",
   "metadata": {},
   "source": [
    "<div style=\"border:solid green 2px; padding: 20px\"> \n",
    "    \n",
    "**Общий комментарий по проекту**\n",
    "\n",
    "Ты отлично поработал над проектом, данные верно проанализированы и визуализированы. Ты отлично освоил тему построения графиков и визуализации анализа - это очень полезно на практике. У тебя в целом получается яркая, наглядная визуализация. \n",
    "    \n",
    "Пересмотри, пожалуйста, вопрос характерности сетевых заведений и можно переходить к презентации.\n",
    "    \n",
    "Также посмотри какие советы.рекомендации можно дать клиенту на основе анализа.\n",
    "    \n",
    "Удачи.\n",
    "</div>"
   ]
  },
  {
   "cell_type": "markdown",
   "metadata": {},
   "source": [
    "<div style=\"border:solid red 2px; padding: 20px\"> \n",
    "    \n",
    "**Комментарий ревьюера - 2**\n",
    "\n",
    "Ок, в проекте все отлично, но по-прежнему не нашла ссылку на презентацию.\n",
    "    \n",
    "</div>"
   ]
  },
  {
   "cell_type": "markdown",
   "metadata": {},
   "source": [
    "Презентация: <https://disk.yandex.ru/i/hSDxqYShkJ4t4g>\n",
    "\n",
    "<div style=\"border:solid green 2px; padding: 20px\"> \n",
    "    \n",
    "**Комментарий ревьюера - 3**\n",
    "\n",
    "Отлично, принято.\n",
    "    \n",
    "</div>"
   ]
  },
  {
   "cell_type": "code",
   "execution_count": null,
   "metadata": {},
   "outputs": [],
   "source": []
  }
 ],
 "metadata": {
  "ExecuteTimeLog": [
   {
    "duration": 2020,
    "start_time": "2021-07-23T18:30:05.210Z"
   },
   {
    "duration": 2369,
    "start_time": "2021-07-23T18:30:13.658Z"
   },
   {
    "duration": 73,
    "start_time": "2021-07-23T18:30:54.116Z"
   },
   {
    "duration": 23,
    "start_time": "2021-07-23T18:30:59.329Z"
   },
   {
    "duration": 12,
    "start_time": "2021-07-23T18:31:14.007Z"
   },
   {
    "duration": 27,
    "start_time": "2021-07-23T18:31:25.492Z"
   },
   {
    "duration": 8,
    "start_time": "2021-07-23T18:31:41.052Z"
   },
   {
    "duration": 12,
    "start_time": "2021-07-23T18:32:00.050Z"
   },
   {
    "duration": 5,
    "start_time": "2021-07-23T18:32:00.215Z"
   },
   {
    "duration": 23,
    "start_time": "2021-07-23T18:32:09.840Z"
   },
   {
    "duration": 29,
    "start_time": "2021-07-23T18:32:43.438Z"
   },
   {
    "duration": 25,
    "start_time": "2021-07-23T18:32:53.883Z"
   },
   {
    "duration": 29,
    "start_time": "2021-07-23T18:33:03.349Z"
   },
   {
    "duration": 13,
    "start_time": "2021-07-23T18:33:09.139Z"
   },
   {
    "duration": 6,
    "start_time": "2021-07-23T18:35:31.739Z"
   },
   {
    "duration": 848,
    "start_time": "2021-07-23T18:35:40.047Z"
   },
   {
    "duration": 14,
    "start_time": "2021-07-23T18:36:31.334Z"
   },
   {
    "duration": 4,
    "start_time": "2021-07-23T18:37:46.782Z"
   },
   {
    "duration": 6,
    "start_time": "2021-07-23T18:37:55.330Z"
   },
   {
    "duration": 4,
    "start_time": "2021-07-23T18:38:01.095Z"
   },
   {
    "duration": 9,
    "start_time": "2021-07-23T18:38:06.596Z"
   },
   {
    "duration": 308,
    "start_time": "2021-07-23T18:38:16.627Z"
   },
   {
    "duration": 83,
    "start_time": "2021-07-23T18:38:48.699Z"
   },
   {
    "duration": 17,
    "start_time": "2021-07-23T18:40:02.801Z"
   },
   {
    "duration": 623,
    "start_time": "2021-07-23T18:40:21.998Z"
   },
   {
    "duration": 30,
    "start_time": "2021-07-23T18:41:47.622Z"
   },
   {
    "duration": 25,
    "start_time": "2021-07-23T18:41:56.325Z"
   },
   {
    "duration": 13,
    "start_time": "2021-07-23T18:42:06.589Z"
   },
   {
    "duration": 28,
    "start_time": "2021-07-23T18:43:17.739Z"
   },
   {
    "duration": 2338,
    "start_time": "2021-07-23T18:43:27.818Z"
   },
   {
    "duration": 14,
    "start_time": "2021-07-23T18:45:17.033Z"
   },
   {
    "duration": 10,
    "start_time": "2021-07-23T18:45:22.941Z"
   },
   {
    "duration": 10,
    "start_time": "2021-07-23T18:45:30.792Z"
   },
   {
    "duration": 25,
    "start_time": "2021-07-23T18:45:39.840Z"
   },
   {
    "duration": 629,
    "start_time": "2021-07-23T18:45:48.031Z"
   },
   {
    "duration": 4,
    "start_time": "2021-07-23T19:47:38.683Z"
   },
   {
    "duration": 9,
    "start_time": "2021-07-23T19:47:40.123Z"
   },
   {
    "duration": 347,
    "start_time": "2021-07-23T19:47:40.604Z"
   },
   {
    "duration": 298,
    "start_time": "2021-07-23T19:47:53.908Z"
   },
   {
    "duration": 4,
    "start_time": "2021-07-23T20:02:02.611Z"
   },
   {
    "duration": 85,
    "start_time": "2021-07-23T20:02:23.447Z"
   },
   {
    "duration": 293,
    "start_time": "2021-07-23T20:02:30.494Z"
   },
   {
    "duration": 81,
    "start_time": "2021-07-23T20:02:38.303Z"
   },
   {
    "duration": 311,
    "start_time": "2021-07-23T20:02:56.867Z"
   },
   {
    "duration": 13,
    "start_time": "2021-07-23T20:03:17.770Z"
   },
   {
    "duration": 86,
    "start_time": "2021-07-23T20:03:38.733Z"
   },
   {
    "duration": 748,
    "start_time": "2021-07-23T20:03:48.843Z"
   },
   {
    "duration": 1047,
    "start_time": "2021-07-23T20:18:07.213Z"
   },
   {
    "duration": 846,
    "start_time": "2021-07-23T20:18:33.490Z"
   },
   {
    "duration": 882,
    "start_time": "2021-07-23T20:18:41.586Z"
   },
   {
    "duration": 850,
    "start_time": "2021-07-23T20:21:26.092Z"
   },
   {
    "duration": 839,
    "start_time": "2021-07-23T20:21:32.162Z"
   },
   {
    "duration": 850,
    "start_time": "2021-07-23T20:21:41.084Z"
   },
   {
    "duration": 935,
    "start_time": "2021-07-23T20:21:53.886Z"
   },
   {
    "duration": 856,
    "start_time": "2021-07-23T20:22:14.908Z"
   },
   {
    "duration": 601,
    "start_time": "2021-07-23T20:22:51.298Z"
   },
   {
    "duration": 250,
    "start_time": "2021-07-23T20:24:08.799Z"
   },
   {
    "duration": 246,
    "start_time": "2021-07-23T20:24:16.805Z"
   },
   {
    "duration": 4,
    "start_time": "2021-07-23T20:24:50.071Z"
   },
   {
    "duration": 600,
    "start_time": "2021-07-23T20:25:01.134Z"
   },
   {
    "duration": 254,
    "start_time": "2021-07-23T21:46:34.880Z"
   },
   {
    "duration": 257,
    "start_time": "2021-07-23T21:46:53.618Z"
   },
   {
    "duration": 118,
    "start_time": "2021-07-23T21:47:00.405Z"
   },
   {
    "duration": 268,
    "start_time": "2021-07-23T21:47:12.047Z"
   },
   {
    "duration": 119,
    "start_time": "2021-07-23T21:48:13.897Z"
   },
   {
    "duration": 28,
    "start_time": "2021-07-23T21:48:35.509Z"
   },
   {
    "duration": 127,
    "start_time": "2021-07-23T21:49:16.943Z"
   },
   {
    "duration": 26,
    "start_time": "2021-07-23T21:49:17.782Z"
   },
   {
    "duration": 121,
    "start_time": "2021-07-23T21:49:27.903Z"
   },
   {
    "duration": 27,
    "start_time": "2021-07-23T21:49:28.910Z"
   },
   {
    "duration": 120,
    "start_time": "2021-07-23T21:50:52.108Z"
   },
   {
    "duration": 26,
    "start_time": "2021-07-23T21:50:52.636Z"
   },
   {
    "duration": 126,
    "start_time": "2021-07-23T21:51:18.658Z"
   },
   {
    "duration": 26,
    "start_time": "2021-07-23T21:51:19.139Z"
   },
   {
    "duration": 131,
    "start_time": "2021-07-23T21:51:33.928Z"
   },
   {
    "duration": 26,
    "start_time": "2021-07-23T21:51:34.934Z"
   },
   {
    "duration": 233,
    "start_time": "2021-07-23T21:51:47.489Z"
   },
   {
    "duration": 25,
    "start_time": "2021-07-23T21:51:47.836Z"
   },
   {
    "duration": 124,
    "start_time": "2021-07-23T21:52:23.657Z"
   },
   {
    "duration": 27,
    "start_time": "2021-07-23T21:52:24.129Z"
   },
   {
    "duration": 115,
    "start_time": "2021-07-23T21:52:59.831Z"
   },
   {
    "duration": 25,
    "start_time": "2021-07-23T21:53:00.049Z"
   },
   {
    "duration": 106,
    "start_time": "2021-07-23T21:53:47.223Z"
   },
   {
    "duration": 25,
    "start_time": "2021-07-23T21:53:47.686Z"
   },
   {
    "duration": 96,
    "start_time": "2021-07-23T21:55:24.884Z"
   },
   {
    "duration": 20,
    "start_time": "2021-07-23T21:55:25.276Z"
   },
   {
    "duration": 106,
    "start_time": "2021-07-23T21:56:02.714Z"
   },
   {
    "duration": 28,
    "start_time": "2021-07-23T21:56:03.162Z"
   },
   {
    "duration": 322,
    "start_time": "2021-07-23T21:56:44.455Z"
   },
   {
    "duration": 26,
    "start_time": "2021-07-23T21:56:44.780Z"
   },
   {
    "duration": 91,
    "start_time": "2021-07-23T21:58:11.799Z"
   },
   {
    "duration": 81,
    "start_time": "2021-07-23T21:58:15.610Z"
   },
   {
    "duration": 86,
    "start_time": "2021-07-23T21:58:28.901Z"
   },
   {
    "duration": 83,
    "start_time": "2021-07-23T21:58:44.329Z"
   },
   {
    "duration": 87,
    "start_time": "2021-07-23T21:58:51.116Z"
   },
   {
    "duration": 80,
    "start_time": "2021-07-23T21:59:14.835Z"
   },
   {
    "duration": 131,
    "start_time": "2021-07-23T21:59:28.345Z"
   },
   {
    "duration": 89,
    "start_time": "2021-07-23T21:59:43.443Z"
   },
   {
    "duration": 26,
    "start_time": "2021-07-23T22:00:10.261Z"
   },
   {
    "duration": 255,
    "start_time": "2021-07-23T22:00:25.146Z"
   },
   {
    "duration": 17,
    "start_time": "2021-07-23T22:00:35.471Z"
   },
   {
    "duration": 16,
    "start_time": "2021-07-23T22:00:40.089Z"
   },
   {
    "duration": 19,
    "start_time": "2021-07-23T22:00:44.595Z"
   },
   {
    "duration": 29,
    "start_time": "2021-07-23T22:00:53.600Z"
   },
   {
    "duration": 253,
    "start_time": "2021-07-23T22:01:16.912Z"
   },
   {
    "duration": 31,
    "start_time": "2021-07-23T22:01:23.671Z"
   },
   {
    "duration": 27,
    "start_time": "2021-07-23T22:01:30.227Z"
   },
   {
    "duration": 30,
    "start_time": "2021-07-23T22:01:36.730Z"
   },
   {
    "duration": 198,
    "start_time": "2021-07-23T22:02:56.895Z"
   },
   {
    "duration": 30,
    "start_time": "2021-07-23T22:02:57.262Z"
   },
   {
    "duration": 27,
    "start_time": "2021-07-23T22:03:11.528Z"
   },
   {
    "duration": 201,
    "start_time": "2021-07-23T22:03:31.887Z"
   },
   {
    "duration": 25,
    "start_time": "2021-07-23T22:03:36.052Z"
   },
   {
    "duration": 253,
    "start_time": "2021-07-23T22:07:08.619Z"
   },
   {
    "duration": 22,
    "start_time": "2021-07-23T22:07:21.349Z"
   },
   {
    "duration": 20,
    "start_time": "2021-07-23T22:07:54.309Z"
   },
   {
    "duration": 253,
    "start_time": "2021-07-23T22:09:18.274Z"
   },
   {
    "duration": 633,
    "start_time": "2021-07-23T22:09:32.557Z"
   },
   {
    "duration": 4,
    "start_time": "2021-07-23T22:10:25.800Z"
   },
   {
    "duration": 615,
    "start_time": "2021-07-23T22:10:36.745Z"
   },
   {
    "duration": 639,
    "start_time": "2021-07-23T22:11:18.359Z"
   },
   {
    "duration": 526,
    "start_time": "2021-07-23T22:11:51.423Z"
   },
   {
    "duration": 661,
    "start_time": "2021-07-23T22:12:04.802Z"
   },
   {
    "duration": 4,
    "start_time": "2021-07-23T22:37:26.898Z"
   },
   {
    "duration": 357,
    "start_time": "2021-07-23T22:37:31.792Z"
   },
   {
    "duration": 138,
    "start_time": "2021-07-23T22:39:23.949Z"
   },
   {
    "duration": 2599,
    "start_time": "2021-07-23T22:39:24.800Z"
   },
   {
    "duration": 27,
    "start_time": "2021-07-23T22:39:34.668Z"
   },
   {
    "duration": 3108,
    "start_time": "2021-07-23T22:42:09.771Z"
   },
   {
    "duration": 132,
    "start_time": "2021-07-23T22:44:15.925Z"
   },
   {
    "duration": 123,
    "start_time": "2021-07-23T22:46:48.246Z"
   },
   {
    "duration": 1271,
    "start_time": "2021-07-23T22:48:56.691Z"
   },
   {
    "duration": 257,
    "start_time": "2021-07-23T22:49:31.874Z"
   },
   {
    "duration": 267,
    "start_time": "2021-07-23T22:50:12.746Z"
   },
   {
    "duration": 1005,
    "start_time": "2021-07-23T22:50:14.530Z"
   },
   {
    "duration": 5,
    "start_time": "2021-07-23T22:50:50.425Z"
   },
   {
    "duration": 4,
    "start_time": "2021-07-23T22:50:53.655Z"
   },
   {
    "duration": 14,
    "start_time": "2021-07-23T22:51:02.995Z"
   },
   {
    "duration": 267,
    "start_time": "2021-07-23T22:52:26.552Z"
   },
   {
    "duration": 48,
    "start_time": "2021-07-23T22:52:39.030Z"
   },
   {
    "duration": 1872,
    "start_time": "2021-07-23T22:53:18.041Z"
   },
   {
    "duration": 59,
    "start_time": "2021-07-23T22:53:19.916Z"
   },
   {
    "duration": 24,
    "start_time": "2021-07-23T22:53:19.978Z"
   },
   {
    "duration": 11,
    "start_time": "2021-07-23T22:53:20.005Z"
   },
   {
    "duration": 53,
    "start_time": "2021-07-23T22:53:20.019Z"
   },
   {
    "duration": 9,
    "start_time": "2021-07-23T22:53:20.075Z"
   },
   {
    "duration": 20,
    "start_time": "2021-07-23T22:53:20.087Z"
   },
   {
    "duration": 44,
    "start_time": "2021-07-23T22:53:20.111Z"
   },
   {
    "duration": 25,
    "start_time": "2021-07-23T22:53:20.159Z"
   },
   {
    "duration": 9,
    "start_time": "2021-07-23T22:53:20.187Z"
   },
   {
    "duration": 6,
    "start_time": "2021-07-23T22:53:20.199Z"
   },
   {
    "duration": 742,
    "start_time": "2021-07-23T22:53:20.208Z"
   },
   {
    "duration": 12,
    "start_time": "2021-07-23T22:53:20.955Z"
   },
   {
    "duration": 10,
    "start_time": "2021-07-23T22:53:20.970Z"
   },
   {
    "duration": 8,
    "start_time": "2021-07-23T22:53:20.983Z"
   },
   {
    "duration": 7,
    "start_time": "2021-07-23T22:53:20.993Z"
   },
   {
    "duration": 10,
    "start_time": "2021-07-23T22:53:21.056Z"
   },
   {
    "duration": 423,
    "start_time": "2021-07-23T22:53:21.069Z"
   },
   {
    "duration": 15,
    "start_time": "2021-07-23T22:53:21.494Z"
   },
   {
    "duration": 4,
    "start_time": "2021-07-23T22:53:21.511Z"
   },
   {
    "duration": 623,
    "start_time": "2021-07-23T22:53:21.518Z"
   },
   {
    "duration": 30,
    "start_time": "2021-07-23T22:53:22.144Z"
   },
   {
    "duration": 23,
    "start_time": "2021-07-23T22:53:22.179Z"
   },
   {
    "duration": 14,
    "start_time": "2021-07-23T22:53:22.205Z"
   },
   {
    "duration": 54,
    "start_time": "2021-07-23T22:53:22.222Z"
   },
   {
    "duration": 2108,
    "start_time": "2021-07-23T22:53:22.278Z"
   },
   {
    "duration": 16,
    "start_time": "2021-07-23T22:53:24.389Z"
   },
   {
    "duration": 9,
    "start_time": "2021-07-23T22:53:24.407Z"
   },
   {
    "duration": 38,
    "start_time": "2021-07-23T22:53:24.419Z"
   },
   {
    "duration": 22,
    "start_time": "2021-07-23T22:53:24.460Z"
   },
   {
    "duration": 8,
    "start_time": "2021-07-23T22:53:24.484Z"
   },
   {
    "duration": 13,
    "start_time": "2021-07-23T22:53:24.494Z"
   },
   {
    "duration": 645,
    "start_time": "2021-07-23T22:53:24.509Z"
   },
   {
    "duration": 215,
    "start_time": "2021-07-23T22:53:25.156Z"
   },
   {
    "duration": 30,
    "start_time": "2021-07-23T22:53:25.373Z"
   },
   {
    "duration": 21,
    "start_time": "2021-07-23T22:53:25.406Z"
   },
   {
    "duration": 4,
    "start_time": "2021-07-23T22:53:25.454Z"
   },
   {
    "duration": 670,
    "start_time": "2021-07-23T22:53:25.460Z"
   },
   {
    "duration": 131,
    "start_time": "2021-07-23T22:53:26.133Z"
   },
   {
    "duration": 6,
    "start_time": "2021-07-23T22:53:26.266Z"
   },
   {
    "duration": 7,
    "start_time": "2021-07-23T22:53:26.275Z"
   },
   {
    "duration": 17,
    "start_time": "2021-07-23T22:53:26.285Z"
   },
   {
    "duration": 74,
    "start_time": "2021-07-23T22:53:26.305Z"
   },
   {
    "duration": 484,
    "start_time": "2021-07-23T22:54:53.712Z"
   },
   {
    "duration": -971621,
    "start_time": "2021-07-23T23:11:05.820Z"
   },
   {
    "duration": 8,
    "start_time": "2021-07-23T22:56:01.502Z"
   },
   {
    "duration": 14,
    "start_time": "2021-07-23T22:56:02.623Z"
   },
   {
    "duration": 46,
    "start_time": "2021-07-23T22:56:06.495Z"
   },
   {
    "duration": 23,
    "start_time": "2021-07-23T22:58:28.094Z"
   },
   {
    "duration": 14,
    "start_time": "2021-07-23T22:59:37.441Z"
   },
   {
    "duration": 7,
    "start_time": "2021-07-23T22:59:41.497Z"
   },
   {
    "duration": 13,
    "start_time": "2021-07-23T22:59:51.288Z"
   },
   {
    "duration": 20,
    "start_time": "2021-07-23T22:59:51.534Z"
   },
   {
    "duration": 15,
    "start_time": "2021-07-23T23:00:02.835Z"
   },
   {
    "duration": 6,
    "start_time": "2021-07-23T23:00:03.023Z"
   },
   {
    "duration": 13,
    "start_time": "2021-07-23T23:00:17.160Z"
   },
   {
    "duration": 21,
    "start_time": "2021-07-23T23:00:17.324Z"
   },
   {
    "duration": 277,
    "start_time": "2021-07-23T23:00:58.991Z"
   },
   {
    "duration": 19,
    "start_time": "2021-07-23T23:00:59.407Z"
   },
   {
    "duration": 1914,
    "start_time": "2021-07-23T23:04:23.205Z"
   },
   {
    "duration": 59,
    "start_time": "2021-07-23T23:04:25.123Z"
   },
   {
    "duration": 24,
    "start_time": "2021-07-23T23:04:25.186Z"
   },
   {
    "duration": 15,
    "start_time": "2021-07-23T23:04:25.213Z"
   },
   {
    "duration": 48,
    "start_time": "2021-07-23T23:04:25.231Z"
   },
   {
    "duration": 5,
    "start_time": "2021-07-23T23:04:25.281Z"
   },
   {
    "duration": 23,
    "start_time": "2021-07-23T23:04:25.289Z"
   },
   {
    "duration": 51,
    "start_time": "2021-07-23T23:04:25.315Z"
   },
   {
    "duration": 32,
    "start_time": "2021-07-23T23:04:25.370Z"
   },
   {
    "duration": 10,
    "start_time": "2021-07-23T23:04:25.404Z"
   },
   {
    "duration": 38,
    "start_time": "2021-07-23T23:04:25.416Z"
   },
   {
    "duration": 727,
    "start_time": "2021-07-23T23:04:25.457Z"
   },
   {
    "duration": 12,
    "start_time": "2021-07-23T23:04:26.187Z"
   },
   {
    "duration": 11,
    "start_time": "2021-07-23T23:04:26.201Z"
   },
   {
    "duration": 45,
    "start_time": "2021-07-23T23:04:26.214Z"
   },
   {
    "duration": 7,
    "start_time": "2021-07-23T23:04:26.261Z"
   },
   {
    "duration": 12,
    "start_time": "2021-07-23T23:04:26.271Z"
   },
   {
    "duration": 436,
    "start_time": "2021-07-23T23:04:26.285Z"
   },
   {
    "duration": 34,
    "start_time": "2021-07-23T23:04:26.725Z"
   },
   {
    "duration": 4,
    "start_time": "2021-07-23T23:04:26.762Z"
   },
   {
    "duration": 610,
    "start_time": "2021-07-23T23:04:26.769Z"
   },
   {
    "duration": 30,
    "start_time": "2021-07-23T23:04:27.382Z"
   },
   {
    "duration": 49,
    "start_time": "2021-07-23T23:04:27.417Z"
   },
   {
    "duration": 13,
    "start_time": "2021-07-23T23:04:27.471Z"
   },
   {
    "duration": 27,
    "start_time": "2021-07-23T23:04:27.487Z"
   },
   {
    "duration": 2126,
    "start_time": "2021-07-23T23:04:27.553Z"
   },
   {
    "duration": 17,
    "start_time": "2021-07-23T23:04:29.682Z"
   },
   {
    "duration": 11,
    "start_time": "2021-07-23T23:04:29.702Z"
   },
   {
    "duration": 45,
    "start_time": "2021-07-23T23:04:29.716Z"
   },
   {
    "duration": 33,
    "start_time": "2021-07-23T23:04:29.764Z"
   },
   {
    "duration": 22,
    "start_time": "2021-07-23T23:04:29.800Z"
   },
   {
    "duration": 23,
    "start_time": "2021-07-23T23:04:29.824Z"
   },
   {
    "duration": 619,
    "start_time": "2021-07-23T23:04:29.850Z"
   },
   {
    "duration": 228,
    "start_time": "2021-07-23T23:04:30.472Z"
   },
   {
    "duration": 31,
    "start_time": "2021-07-23T23:04:30.703Z"
   },
   {
    "duration": 25,
    "start_time": "2021-07-23T23:04:30.756Z"
   },
   {
    "duration": 18,
    "start_time": "2021-07-23T23:04:30.784Z"
   },
   {
    "duration": 678,
    "start_time": "2021-07-23T23:04:30.804Z"
   },
   {
    "duration": 139,
    "start_time": "2021-07-23T23:04:31.485Z"
   },
   {
    "duration": 6,
    "start_time": "2021-07-23T23:04:31.627Z"
   },
   {
    "duration": 23,
    "start_time": "2021-07-23T23:04:31.636Z"
   },
   {
    "duration": 23,
    "start_time": "2021-07-23T23:04:31.661Z"
   },
   {
    "duration": 19,
    "start_time": "2021-07-23T23:04:31.686Z"
   },
   {
    "duration": 62,
    "start_time": "2021-07-23T23:04:31.708Z"
   },
   {
    "duration": 14,
    "start_time": "2021-07-23T23:08:59.864Z"
   },
   {
    "duration": 9,
    "start_time": "2021-07-23T23:09:11.283Z"
   },
   {
    "duration": 23,
    "start_time": "2021-07-23T23:09:16.270Z"
   },
   {
    "duration": 7,
    "start_time": "2021-07-23T23:09:53.196Z"
   },
   {
    "duration": 22,
    "start_time": "2021-07-23T23:09:55.931Z"
   },
   {
    "duration": 42,
    "start_time": "2021-07-23T23:12:35.831Z"
   },
   {
    "duration": 303,
    "start_time": "2021-07-23T23:13:22.894Z"
   },
   {
    "duration": 1956,
    "start_time": "2021-07-23T23:13:27.948Z"
   },
   {
    "duration": 60,
    "start_time": "2021-07-23T23:13:29.907Z"
   },
   {
    "duration": 26,
    "start_time": "2021-07-23T23:13:29.970Z"
   },
   {
    "duration": 15,
    "start_time": "2021-07-23T23:13:30.000Z"
   },
   {
    "duration": 58,
    "start_time": "2021-07-23T23:13:30.017Z"
   },
   {
    "duration": 5,
    "start_time": "2021-07-23T23:13:30.077Z"
   },
   {
    "duration": 25,
    "start_time": "2021-07-23T23:13:30.084Z"
   },
   {
    "duration": 52,
    "start_time": "2021-07-23T23:13:30.112Z"
   },
   {
    "duration": 27,
    "start_time": "2021-07-23T23:13:30.167Z"
   },
   {
    "duration": 11,
    "start_time": "2021-07-23T23:13:30.196Z"
   },
   {
    "duration": 11,
    "start_time": "2021-07-23T23:13:30.209Z"
   },
   {
    "duration": 776,
    "start_time": "2021-07-23T23:13:30.222Z"
   },
   {
    "duration": 13,
    "start_time": "2021-07-23T23:13:31.000Z"
   },
   {
    "duration": 41,
    "start_time": "2021-07-23T23:13:31.016Z"
   },
   {
    "duration": 15,
    "start_time": "2021-07-23T23:13:31.060Z"
   },
   {
    "duration": 13,
    "start_time": "2021-07-23T23:13:31.078Z"
   },
   {
    "duration": 64,
    "start_time": "2021-07-23T23:13:31.093Z"
   },
   {
    "duration": 378,
    "start_time": "2021-07-23T23:13:31.159Z"
   },
   {
    "duration": 24,
    "start_time": "2021-07-23T23:13:31.539Z"
   },
   {
    "duration": 3,
    "start_time": "2021-07-23T23:13:31.565Z"
   },
   {
    "duration": 611,
    "start_time": "2021-07-23T23:13:31.570Z"
   },
   {
    "duration": 29,
    "start_time": "2021-07-23T23:13:32.183Z"
   },
   {
    "duration": 43,
    "start_time": "2021-07-23T23:13:32.217Z"
   },
   {
    "duration": 12,
    "start_time": "2021-07-23T23:13:32.263Z"
   },
   {
    "duration": 35,
    "start_time": "2021-07-23T23:13:32.278Z"
   },
   {
    "duration": 2092,
    "start_time": "2021-07-23T23:13:32.315Z"
   },
   {
    "duration": 16,
    "start_time": "2021-07-23T23:13:34.411Z"
   },
   {
    "duration": 32,
    "start_time": "2021-07-23T23:13:34.430Z"
   },
   {
    "duration": 30,
    "start_time": "2021-07-23T23:13:34.465Z"
   },
   {
    "duration": 32,
    "start_time": "2021-07-23T23:13:34.498Z"
   },
   {
    "duration": 24,
    "start_time": "2021-07-23T23:13:34.533Z"
   },
   {
    "duration": 27,
    "start_time": "2021-07-23T23:13:34.560Z"
   },
   {
    "duration": 600,
    "start_time": "2021-07-23T23:13:34.590Z"
   },
   {
    "duration": 221,
    "start_time": "2021-07-23T23:13:35.193Z"
   },
   {
    "duration": 51,
    "start_time": "2021-07-23T23:13:35.417Z"
   },
   {
    "duration": 29,
    "start_time": "2021-07-23T23:13:35.471Z"
   },
   {
    "duration": 4,
    "start_time": "2021-07-23T23:13:35.503Z"
   },
   {
    "duration": 666,
    "start_time": "2021-07-23T23:13:35.510Z"
   },
   {
    "duration": 167,
    "start_time": "2021-07-23T23:13:36.179Z"
   },
   {
    "duration": 5,
    "start_time": "2021-07-23T23:13:36.348Z"
   },
   {
    "duration": 17,
    "start_time": "2021-07-23T23:13:36.355Z"
   },
   {
    "duration": 24,
    "start_time": "2021-07-23T23:13:36.374Z"
   },
   {
    "duration": 19,
    "start_time": "2021-07-23T23:13:36.400Z"
   },
   {
    "duration": 66,
    "start_time": "2021-07-23T23:13:36.421Z"
   },
   {
    "duration": 47,
    "start_time": "2021-07-23T23:16:47.349Z"
   },
   {
    "duration": 31,
    "start_time": "2021-07-23T23:17:18.030Z"
   },
   {
    "duration": 16,
    "start_time": "2021-07-23T23:17:42.759Z"
   },
   {
    "duration": 45,
    "start_time": "2021-07-23T23:18:12.686Z"
   },
   {
    "duration": 23,
    "start_time": "2021-07-23T23:18:12.948Z"
   },
   {
    "duration": 25,
    "start_time": "2021-07-23T23:18:24.365Z"
   },
   {
    "duration": 848,
    "start_time": "2021-07-23T23:18:45.990Z"
   },
   {
    "duration": 24,
    "start_time": "2021-07-23T23:18:53.483Z"
   },
   {
    "duration": 6,
    "start_time": "2021-07-23T23:20:54.132Z"
   },
   {
    "duration": 9,
    "start_time": "2021-07-23T23:21:00.248Z"
   },
   {
    "duration": 263,
    "start_time": "2021-07-23T23:24:42.474Z"
   },
   {
    "duration": 30,
    "start_time": "2021-07-23T23:24:48.166Z"
   },
   {
    "duration": 14,
    "start_time": "2021-07-23T23:25:32.811Z"
   },
   {
    "duration": 8,
    "start_time": "2021-07-23T23:25:34.917Z"
   },
   {
    "duration": 15,
    "start_time": "2021-07-23T23:25:35.101Z"
   },
   {
    "duration": 25,
    "start_time": "2021-07-23T23:37:32.964Z"
   },
   {
    "duration": 345,
    "start_time": "2021-07-23T23:40:59.410Z"
   },
   {
    "duration": 418,
    "start_time": "2021-07-23T23:41:12.428Z"
   },
   {
    "duration": 26,
    "start_time": "2021-07-23T23:41:52.530Z"
   },
   {
    "duration": 27,
    "start_time": "2021-07-23T23:42:14.737Z"
   },
   {
    "duration": 29,
    "start_time": "2021-07-23T23:42:25.042Z"
   },
   {
    "duration": 331,
    "start_time": "2021-07-23T23:43:40.311Z"
   },
   {
    "duration": 7283,
    "start_time": "2021-07-23T23:44:01.179Z"
   },
   {
    "duration": 308,
    "start_time": "2021-07-23T23:44:23.492Z"
   },
   {
    "duration": 28,
    "start_time": "2021-07-23T23:44:34.206Z"
   },
   {
    "duration": 303,
    "start_time": "2021-07-23T23:48:27.312Z"
   },
   {
    "duration": 27,
    "start_time": "2021-07-23T23:48:47.080Z"
   },
   {
    "duration": 23,
    "start_time": "2021-07-23T23:50:41.546Z"
   },
   {
    "duration": 21,
    "start_time": "2021-07-23T23:56:18.519Z"
   },
   {
    "duration": 121,
    "start_time": "2021-07-23T23:58:16.920Z"
   },
   {
    "duration": 21,
    "start_time": "2021-07-23T23:58:23.491Z"
   },
   {
    "duration": 18,
    "start_time": "2021-07-23T23:58:29.405Z"
   },
   {
    "duration": 263,
    "start_time": "2021-07-23T23:59:18.714Z"
   },
   {
    "duration": 273,
    "start_time": "2021-07-23T23:59:37.105Z"
   },
   {
    "duration": 35,
    "start_time": "2021-07-24T00:00:47.796Z"
   },
   {
    "duration": 26,
    "start_time": "2021-07-24T00:02:15.647Z"
   },
   {
    "duration": 26,
    "start_time": "2021-07-24T00:02:59.876Z"
   },
   {
    "duration": 241,
    "start_time": "2021-07-24T00:03:27.844Z"
   },
   {
    "duration": 250,
    "start_time": "2021-07-24T00:03:40.288Z"
   },
   {
    "duration": 238,
    "start_time": "2021-07-24T00:03:46.476Z"
   },
   {
    "duration": 12,
    "start_time": "2021-07-24T00:04:23.148Z"
   },
   {
    "duration": 532,
    "start_time": "2021-07-24T00:04:41.995Z"
   },
   {
    "duration": 642,
    "start_time": "2021-07-24T00:06:08.968Z"
   },
   {
    "duration": 13,
    "start_time": "2021-07-24T00:10:26.533Z"
   },
   {
    "duration": 6206,
    "start_time": "2021-07-24T00:10:41.914Z"
   },
   {
    "duration": 11,
    "start_time": "2021-07-24T00:11:11.395Z"
   },
   {
    "duration": 508,
    "start_time": "2021-07-24T00:11:12.127Z"
   },
   {
    "duration": 259,
    "start_time": "2021-07-24T00:13:21.775Z"
   },
   {
    "duration": 257,
    "start_time": "2021-07-24T00:13:48.227Z"
   },
   {
    "duration": 26,
    "start_time": "2021-07-24T00:14:38.903Z"
   },
   {
    "duration": 24,
    "start_time": "2021-07-24T00:15:43.959Z"
   },
   {
    "duration": 252,
    "start_time": "2021-07-24T00:17:25.848Z"
   },
   {
    "duration": 711,
    "start_time": "2021-07-24T00:17:41.412Z"
   },
   {
    "duration": 806,
    "start_time": "2021-07-24T00:20:57.795Z"
   },
   {
    "duration": 249,
    "start_time": "2021-07-24T00:26:27.358Z"
   },
   {
    "duration": 259,
    "start_time": "2021-07-24T00:26:47.748Z"
   },
   {
    "duration": 23,
    "start_time": "2021-07-24T00:27:00.255Z"
   },
   {
    "duration": 26,
    "start_time": "2021-07-24T00:27:06.855Z"
   },
   {
    "duration": 728,
    "start_time": "2021-07-24T00:27:15.312Z"
   },
   {
    "duration": 691,
    "start_time": "2021-07-24T00:27:24.456Z"
   },
   {
    "duration": 553,
    "start_time": "2021-07-24T00:27:37.305Z"
   },
   {
    "duration": 596,
    "start_time": "2021-07-24T00:28:24.047Z"
   },
   {
    "duration": 6,
    "start_time": "2021-07-24T00:34:16.034Z"
   },
   {
    "duration": 29,
    "start_time": "2021-07-24T00:35:41.814Z"
   },
   {
    "duration": 568,
    "start_time": "2021-07-24T00:37:02.976Z"
   },
   {
    "duration": 605,
    "start_time": "2021-07-24T00:37:41.985Z"
   },
   {
    "duration": 598,
    "start_time": "2021-07-24T00:37:58.630Z"
   },
   {
    "duration": 554,
    "start_time": "2021-07-24T00:38:17.011Z"
   },
   {
    "duration": 975,
    "start_time": "2021-07-24T00:38:33.947Z"
   },
   {
    "duration": 533,
    "start_time": "2021-07-24T00:38:45.036Z"
   },
   {
    "duration": 515,
    "start_time": "2021-07-24T00:39:05.525Z"
   },
   {
    "duration": 505,
    "start_time": "2021-07-24T00:39:15.354Z"
   },
   {
    "duration": 479,
    "start_time": "2021-07-24T00:39:36.859Z"
   },
   {
    "duration": 525,
    "start_time": "2021-07-24T00:39:55.761Z"
   },
   {
    "duration": 589,
    "start_time": "2021-07-24T00:40:01.346Z"
   },
   {
    "duration": 527,
    "start_time": "2021-07-24T00:40:08.304Z"
   },
   {
    "duration": 663,
    "start_time": "2021-07-24T00:40:30.821Z"
   },
   {
    "duration": 994,
    "start_time": "2021-07-24T00:42:21.844Z"
   },
   {
    "duration": 745,
    "start_time": "2021-07-24T00:42:43.972Z"
   },
   {
    "duration": 517,
    "start_time": "2021-07-24T00:42:56.612Z"
   },
   {
    "duration": 521,
    "start_time": "2021-07-24T00:43:40.776Z"
   },
   {
    "duration": 522,
    "start_time": "2021-07-24T00:44:00.243Z"
   },
   {
    "duration": 514,
    "start_time": "2021-07-24T00:44:05.628Z"
   },
   {
    "duration": 533,
    "start_time": "2021-07-24T00:44:27.511Z"
   },
   {
    "duration": 516,
    "start_time": "2021-07-24T00:45:18.367Z"
   },
   {
    "duration": 686,
    "start_time": "2021-07-24T00:45:30.758Z"
   },
   {
    "duration": 545,
    "start_time": "2021-07-24T00:46:26.407Z"
   },
   {
    "duration": 28,
    "start_time": "2021-07-24T00:46:28.371Z"
   },
   {
    "duration": 555,
    "start_time": "2021-07-24T00:46:30.589Z"
   },
   {
    "duration": 23,
    "start_time": "2021-07-24T00:46:36.438Z"
   },
   {
    "duration": 26,
    "start_time": "2021-07-24T00:46:36.750Z"
   },
   {
    "duration": 601,
    "start_time": "2021-07-24T00:46:36.996Z"
   },
   {
    "duration": 528,
    "start_time": "2021-07-24T00:46:50.358Z"
   },
   {
    "duration": 529,
    "start_time": "2021-07-24T00:47:26.739Z"
   },
   {
    "duration": 25,
    "start_time": "2021-07-24T00:48:05.500Z"
   },
   {
    "duration": 27,
    "start_time": "2021-07-24T00:48:06.121Z"
   },
   {
    "duration": 646,
    "start_time": "2021-07-24T00:48:06.715Z"
   },
   {
    "duration": 290,
    "start_time": "2021-07-24T00:50:44.935Z"
   },
   {
    "duration": 262,
    "start_time": "2021-07-24T00:50:57.666Z"
   },
   {
    "duration": 281,
    "start_time": "2021-07-24T00:51:25.374Z"
   },
   {
    "duration": 255,
    "start_time": "2021-07-24T00:51:57.396Z"
   },
   {
    "duration": 254,
    "start_time": "2021-07-24T00:52:04.283Z"
   },
   {
    "duration": 283,
    "start_time": "2021-07-24T00:52:41.372Z"
   },
   {
    "duration": 27,
    "start_time": "2021-07-24T00:52:49.314Z"
   },
   {
    "duration": 277,
    "start_time": "2021-07-24T00:52:49.684Z"
   },
   {
    "duration": 4,
    "start_time": "2021-07-24T00:54:08.330Z"
   },
   {
    "duration": 273,
    "start_time": "2021-07-24T00:54:15.456Z"
   },
   {
    "duration": 23,
    "start_time": "2021-07-24T00:56:03.579Z"
   },
   {
    "duration": 29,
    "start_time": "2021-07-24T00:56:03.877Z"
   },
   {
    "duration": 529,
    "start_time": "2021-07-24T00:56:05.005Z"
   },
   {
    "duration": 202,
    "start_time": "2021-07-24T00:57:57.411Z"
   },
   {
    "duration": 29,
    "start_time": "2021-07-24T00:57:58.401Z"
   },
   {
    "duration": 1874,
    "start_time": "2021-07-24T00:58:13.511Z"
   },
   {
    "duration": 59,
    "start_time": "2021-07-24T00:58:15.388Z"
   },
   {
    "duration": 25,
    "start_time": "2021-07-24T00:58:15.450Z"
   },
   {
    "duration": 13,
    "start_time": "2021-07-24T00:58:15.477Z"
   },
   {
    "duration": 26,
    "start_time": "2021-07-24T00:58:15.492Z"
   },
   {
    "duration": 34,
    "start_time": "2021-07-24T00:58:15.521Z"
   },
   {
    "duration": 25,
    "start_time": "2021-07-24T00:58:15.557Z"
   },
   {
    "duration": 27,
    "start_time": "2021-07-24T00:58:15.586Z"
   },
   {
    "duration": 50,
    "start_time": "2021-07-24T00:58:15.616Z"
   },
   {
    "duration": 10,
    "start_time": "2021-07-24T00:58:15.668Z"
   },
   {
    "duration": 8,
    "start_time": "2021-07-24T00:58:15.680Z"
   },
   {
    "duration": 766,
    "start_time": "2021-07-24T00:58:15.690Z"
   },
   {
    "duration": 12,
    "start_time": "2021-07-24T00:58:16.458Z"
   },
   {
    "duration": 4,
    "start_time": "2021-07-24T00:58:16.473Z"
   },
   {
    "duration": 7,
    "start_time": "2021-07-24T00:58:16.479Z"
   },
   {
    "duration": 7,
    "start_time": "2021-07-24T00:58:16.489Z"
   },
   {
    "duration": 9,
    "start_time": "2021-07-24T00:58:16.554Z"
   },
   {
    "duration": 416,
    "start_time": "2021-07-24T00:58:16.565Z"
   },
   {
    "duration": 16,
    "start_time": "2021-07-24T00:58:16.984Z"
   },
   {
    "duration": 6,
    "start_time": "2021-07-24T00:58:17.002Z"
   },
   {
    "duration": 620,
    "start_time": "2021-07-24T00:58:17.010Z"
   },
   {
    "duration": 38,
    "start_time": "2021-07-24T00:58:17.632Z"
   },
   {
    "duration": 23,
    "start_time": "2021-07-24T00:58:17.676Z"
   },
   {
    "duration": 12,
    "start_time": "2021-07-24T00:58:17.703Z"
   },
   {
    "duration": 55,
    "start_time": "2021-07-24T00:58:17.717Z"
   },
   {
    "duration": 2287,
    "start_time": "2021-07-24T00:58:17.775Z"
   },
   {
    "duration": 13,
    "start_time": "2021-07-24T00:58:20.065Z"
   },
   {
    "duration": 10,
    "start_time": "2021-07-24T00:58:20.081Z"
   },
   {
    "duration": 11,
    "start_time": "2021-07-24T00:58:20.093Z"
   },
   {
    "duration": 58,
    "start_time": "2021-07-24T00:58:20.106Z"
   },
   {
    "duration": 4,
    "start_time": "2021-07-24T00:58:20.167Z"
   },
   {
    "duration": 23,
    "start_time": "2021-07-24T00:58:20.173Z"
   },
   {
    "duration": 613,
    "start_time": "2021-07-24T00:58:20.199Z"
   },
   {
    "duration": 225,
    "start_time": "2021-07-24T00:58:20.814Z"
   },
   {
    "duration": 41,
    "start_time": "2021-07-24T00:58:21.041Z"
   },
   {
    "duration": 21,
    "start_time": "2021-07-24T00:58:21.085Z"
   },
   {
    "duration": 3,
    "start_time": "2021-07-24T00:58:21.109Z"
   },
   {
    "duration": 703,
    "start_time": "2021-07-24T00:58:21.115Z"
   },
   {
    "duration": 158,
    "start_time": "2021-07-24T00:58:21.821Z"
   },
   {
    "duration": 4,
    "start_time": "2021-07-24T00:58:21.982Z"
   },
   {
    "duration": 12,
    "start_time": "2021-07-24T00:58:21.989Z"
   },
   {
    "duration": 15,
    "start_time": "2021-07-24T00:58:22.003Z"
   },
   {
    "duration": 20,
    "start_time": "2021-07-24T00:58:22.021Z"
   },
   {
    "duration": 55,
    "start_time": "2021-07-24T00:58:22.043Z"
   },
   {
    "duration": 53,
    "start_time": "2021-07-24T00:58:22.101Z"
   },
   {
    "duration": 7,
    "start_time": "2021-07-24T00:58:22.156Z"
   },
   {
    "duration": 27,
    "start_time": "2021-07-24T00:58:22.165Z"
   },
   {
    "duration": 32,
    "start_time": "2021-07-24T00:58:22.194Z"
   },
   {
    "duration": 34,
    "start_time": "2021-07-24T00:58:22.228Z"
   },
   {
    "duration": 834,
    "start_time": "2021-07-24T00:58:22.265Z"
   },
   {
    "duration": 572,
    "start_time": "2021-07-24T01:04:01.859Z"
   },
   {
    "duration": 548,
    "start_time": "2021-07-24T01:04:02.520Z"
   },
   {
    "duration": 31,
    "start_time": "2021-07-24T01:04:21.681Z"
   },
   {
    "duration": 532,
    "start_time": "2021-07-24T01:04:24.497Z"
   },
   {
    "duration": 532,
    "start_time": "2021-07-24T01:04:56.353Z"
   },
   {
    "duration": 532,
    "start_time": "2021-07-24T01:05:13.197Z"
   },
   {
    "duration": 540,
    "start_time": "2021-07-24T01:06:02.368Z"
   },
   {
    "duration": 616,
    "start_time": "2021-07-24T01:06:25.320Z"
   },
   {
    "duration": 539,
    "start_time": "2021-07-24T01:06:30.967Z"
   },
   {
    "duration": 91,
    "start_time": "2021-07-24T01:32:50.155Z"
   },
   {
    "duration": 259,
    "start_time": "2021-07-24T01:32:55.119Z"
   },
   {
    "duration": 281,
    "start_time": "2021-07-24T01:33:34.576Z"
   },
   {
    "duration": 85,
    "start_time": "2021-07-24T01:36:49.785Z"
   },
   {
    "duration": 83,
    "start_time": "2021-07-24T01:37:00.991Z"
   },
   {
    "duration": 91,
    "start_time": "2021-07-24T01:37:17.712Z"
   },
   {
    "duration": 289,
    "start_time": "2021-07-24T01:37:23.616Z"
   },
   {
    "duration": 258,
    "start_time": "2021-07-24T01:37:31.102Z"
   },
   {
    "duration": 366,
    "start_time": "2021-07-24T01:37:56.724Z"
   },
   {
    "duration": 20,
    "start_time": "2021-07-24T01:38:02.631Z"
   },
   {
    "duration": 14,
    "start_time": "2021-07-24T01:38:08.222Z"
   },
   {
    "duration": 323,
    "start_time": "2021-07-24T01:38:30.822Z"
   },
   {
    "duration": 15,
    "start_time": "2021-07-24T01:38:31.572Z"
   },
   {
    "duration": 20,
    "start_time": "2021-07-24T01:38:38.845Z"
   },
   {
    "duration": 14,
    "start_time": "2021-07-24T01:38:40.575Z"
   },
   {
    "duration": 21,
    "start_time": "2021-07-24T01:39:01.223Z"
   },
   {
    "duration": 14,
    "start_time": "2021-07-24T01:39:01.998Z"
   },
   {
    "duration": 21,
    "start_time": "2021-07-24T01:39:13.210Z"
   },
   {
    "duration": 14,
    "start_time": "2021-07-24T01:39:14.651Z"
   },
   {
    "duration": 6,
    "start_time": "2021-07-24T01:39:50.522Z"
   },
   {
    "duration": 13,
    "start_time": "2021-07-24T01:40:11.513Z"
   },
   {
    "duration": 269,
    "start_time": "2021-07-24T01:41:31.120Z"
   },
   {
    "duration": 13,
    "start_time": "2021-07-24T01:41:38.773Z"
   },
   {
    "duration": 15,
    "start_time": "2021-07-24T01:41:49.606Z"
   },
   {
    "duration": 4,
    "start_time": "2021-07-24T01:45:20.215Z"
   },
   {
    "duration": 257,
    "start_time": "2021-07-24T01:47:26.176Z"
   },
   {
    "duration": 31,
    "start_time": "2021-07-24T01:48:03.016Z"
   },
   {
    "duration": 21,
    "start_time": "2021-07-24T01:48:56.283Z"
   },
   {
    "duration": 13,
    "start_time": "2021-07-24T01:48:56.971Z"
   },
   {
    "duration": 30,
    "start_time": "2021-07-24T01:49:05.695Z"
   },
   {
    "duration": 96,
    "start_time": "2021-07-24T01:55:06.131Z"
   },
   {
    "duration": 81,
    "start_time": "2021-07-24T01:55:55.828Z"
   },
   {
    "duration": 80,
    "start_time": "2021-07-24T01:56:01.979Z"
   },
   {
    "duration": 266,
    "start_time": "2021-07-24T01:56:13.879Z"
   },
   {
    "duration": 30,
    "start_time": "2021-07-24T01:56:26.307Z"
   },
   {
    "duration": 7,
    "start_time": "2021-07-24T01:56:30.037Z"
   },
   {
    "duration": 264,
    "start_time": "2021-07-24T01:56:32.710Z"
   },
   {
    "duration": 14,
    "start_time": "2021-07-24T01:56:55.773Z"
   },
   {
    "duration": 15,
    "start_time": "2021-07-24T01:57:15.370Z"
   },
   {
    "duration": 1478,
    "start_time": "2021-07-25T06:39:19.366Z"
   },
   {
    "duration": 44,
    "start_time": "2021-07-25T06:39:20.846Z"
   },
   {
    "duration": 16,
    "start_time": "2021-07-25T06:39:20.892Z"
   },
   {
    "duration": 8,
    "start_time": "2021-07-25T06:39:20.910Z"
   },
   {
    "duration": 17,
    "start_time": "2021-07-25T06:39:20.920Z"
   },
   {
    "duration": 6,
    "start_time": "2021-07-25T06:39:20.939Z"
   },
   {
    "duration": 45,
    "start_time": "2021-07-25T06:39:20.947Z"
   },
   {
    "duration": 19,
    "start_time": "2021-07-25T06:39:20.994Z"
   },
   {
    "duration": 20,
    "start_time": "2021-07-25T06:39:21.015Z"
   },
   {
    "duration": 8,
    "start_time": "2021-07-25T06:39:21.037Z"
   },
   {
    "duration": 5,
    "start_time": "2021-07-25T06:39:21.047Z"
   },
   {
    "duration": 543,
    "start_time": "2021-07-25T06:39:21.053Z"
   },
   {
    "duration": 8,
    "start_time": "2021-07-25T06:39:21.597Z"
   },
   {
    "duration": 6,
    "start_time": "2021-07-25T06:39:21.607Z"
   },
   {
    "duration": 7,
    "start_time": "2021-07-25T06:39:21.614Z"
   },
   {
    "duration": 5,
    "start_time": "2021-07-25T06:39:21.622Z"
   },
   {
    "duration": 11,
    "start_time": "2021-07-25T06:39:21.629Z"
   },
   {
    "duration": 267,
    "start_time": "2021-07-25T06:39:21.641Z"
   },
   {
    "duration": 10,
    "start_time": "2021-07-25T06:39:21.910Z"
   },
   {
    "duration": 3,
    "start_time": "2021-07-25T06:39:21.922Z"
   },
   {
    "duration": 342,
    "start_time": "2021-07-25T06:39:21.927Z"
   },
   {
    "duration": 22,
    "start_time": "2021-07-25T06:39:22.270Z"
   },
   {
    "duration": 14,
    "start_time": "2021-07-25T06:39:22.295Z"
   },
   {
    "duration": 7,
    "start_time": "2021-07-25T06:39:22.311Z"
   },
   {
    "duration": 15,
    "start_time": "2021-07-25T06:39:22.319Z"
   },
   {
    "duration": 1189,
    "start_time": "2021-07-25T06:39:22.336Z"
   },
   {
    "duration": 9,
    "start_time": "2021-07-25T06:39:23.527Z"
   },
   {
    "duration": 5,
    "start_time": "2021-07-25T06:39:23.537Z"
   },
   {
    "duration": 8,
    "start_time": "2021-07-25T06:39:23.544Z"
   },
   {
    "duration": 14,
    "start_time": "2021-07-25T06:39:23.554Z"
   },
   {
    "duration": 23,
    "start_time": "2021-07-25T06:39:23.569Z"
   },
   {
    "duration": 9,
    "start_time": "2021-07-25T06:39:23.593Z"
   },
   {
    "duration": 332,
    "start_time": "2021-07-25T06:39:23.603Z"
   },
   {
    "duration": 137,
    "start_time": "2021-07-25T06:39:23.937Z"
   },
   {
    "duration": 26,
    "start_time": "2021-07-25T06:39:24.075Z"
   },
   {
    "duration": 190,
    "start_time": "2021-07-25T06:39:24.103Z"
   },
   {
    "duration": 3,
    "start_time": "2021-07-25T06:39:24.295Z"
   },
   {
    "duration": 9,
    "start_time": "2021-07-25T06:39:24.299Z"
   },
   {
    "duration": 7,
    "start_time": "2021-07-25T06:39:24.309Z"
   },
   {
    "duration": 11,
    "start_time": "2021-07-25T06:39:24.317Z"
   },
   {
    "duration": 32,
    "start_time": "2021-07-25T06:39:24.329Z"
   },
   {
    "duration": 33,
    "start_time": "2021-07-25T06:39:24.363Z"
   },
   {
    "duration": 3,
    "start_time": "2021-07-25T06:39:24.398Z"
   },
   {
    "duration": 383,
    "start_time": "2021-07-25T06:39:24.402Z"
   },
   {
    "duration": 23,
    "start_time": "2021-07-25T06:39:24.786Z"
   },
   {
    "duration": 9,
    "start_time": "2021-07-25T06:39:24.810Z"
   },
   {
    "duration": 30,
    "start_time": "2021-07-25T06:39:24.821Z"
   },
   {
    "duration": 18,
    "start_time": "2021-07-25T06:39:24.853Z"
   },
   {
    "duration": 21,
    "start_time": "2021-07-25T06:39:24.873Z"
   },
   {
    "duration": 17,
    "start_time": "2021-07-25T06:39:24.896Z"
   },
   {
    "duration": 17,
    "start_time": "2021-07-25T06:39:24.915Z"
   },
   {
    "duration": 16,
    "start_time": "2021-07-25T06:39:24.934Z"
   },
   {
    "duration": 41,
    "start_time": "2021-07-25T06:39:24.951Z"
   },
   {
    "duration": 463,
    "start_time": "2021-07-25T06:39:24.994Z"
   },
   {
    "duration": 380,
    "start_time": "2021-07-25T06:43:22.687Z"
   },
   {
    "duration": 17,
    "start_time": "2021-07-25T06:44:00.526Z"
   },
   {
    "duration": 10,
    "start_time": "2021-07-25T06:44:41.365Z"
   },
   {
    "duration": 6,
    "start_time": "2021-07-25T06:45:47.168Z"
   },
   {
    "duration": 10,
    "start_time": "2021-07-25T06:45:48.863Z"
   },
   {
    "duration": 9,
    "start_time": "2021-07-25T06:45:59.242Z"
   },
   {
    "duration": 226,
    "start_time": "2021-07-25T06:46:55.766Z"
   },
   {
    "duration": 9,
    "start_time": "2021-07-25T06:46:59.655Z"
   },
   {
    "duration": 8,
    "start_time": "2021-07-25T06:47:00.434Z"
   },
   {
    "duration": 9,
    "start_time": "2021-07-25T06:47:18.344Z"
   },
   {
    "duration": 9,
    "start_time": "2021-07-25T06:47:18.838Z"
   },
   {
    "duration": 6,
    "start_time": "2021-07-25T06:47:33.699Z"
   },
   {
    "duration": 7,
    "start_time": "2021-07-25T06:47:34.006Z"
   },
   {
    "duration": 5,
    "start_time": "2021-07-25T06:51:30.533Z"
   },
   {
    "duration": 7,
    "start_time": "2021-07-25T06:51:35.959Z"
   },
   {
    "duration": 3,
    "start_time": "2021-07-25T06:52:41.870Z"
   },
   {
    "duration": 7,
    "start_time": "2021-07-25T06:52:48.427Z"
   },
   {
    "duration": 475,
    "start_time": "2021-07-25T06:54:44.052Z"
   },
   {
    "duration": 640,
    "start_time": "2021-07-25T06:56:47.632Z"
   },
   {
    "duration": 674,
    "start_time": "2021-07-25T06:57:22.193Z"
   },
   {
    "duration": 572,
    "start_time": "2021-07-25T07:03:32.761Z"
   },
   {
    "duration": 550,
    "start_time": "2021-07-25T07:05:55.680Z"
   },
   {
    "duration": 5639,
    "start_time": "2021-07-25T07:08:16.099Z"
   },
   {
    "duration": 5,
    "start_time": "2021-07-25T07:08:36.603Z"
   },
   {
    "duration": 6,
    "start_time": "2021-07-25T07:08:51.951Z"
   },
   {
    "duration": 9,
    "start_time": "2021-07-25T07:09:04.041Z"
   },
   {
    "duration": 234,
    "start_time": "2021-07-25T07:09:15.800Z"
   },
   {
    "duration": 243,
    "start_time": "2021-07-25T07:09:30.675Z"
   },
   {
    "duration": 233,
    "start_time": "2021-07-25T07:10:05.359Z"
   },
   {
    "duration": 5,
    "start_time": "2021-07-25T07:10:12.089Z"
   },
   {
    "duration": 240,
    "start_time": "2021-07-25T07:13:52.035Z"
   },
   {
    "duration": 12,
    "start_time": "2021-07-25T07:14:04.174Z"
   },
   {
    "duration": 239,
    "start_time": "2021-07-25T07:18:29.546Z"
   },
   {
    "duration": 6,
    "start_time": "2021-07-25T07:19:10.992Z"
   },
   {
    "duration": 10,
    "start_time": "2021-07-25T07:19:19.765Z"
   },
   {
    "duration": 9,
    "start_time": "2021-07-25T07:19:41.286Z"
   },
   {
    "duration": 10,
    "start_time": "2021-07-25T07:19:58.605Z"
   },
   {
    "duration": 229,
    "start_time": "2021-07-25T07:20:54.543Z"
   },
   {
    "duration": 17,
    "start_time": "2021-07-25T07:21:22.540Z"
   },
   {
    "duration": 10,
    "start_time": "2021-07-25T07:23:34.173Z"
   },
   {
    "duration": 14,
    "start_time": "2021-07-25T07:23:41.467Z"
   },
   {
    "duration": 223,
    "start_time": "2021-07-25T07:28:09.796Z"
   },
   {
    "duration": 5,
    "start_time": "2021-07-25T07:29:20.589Z"
   },
   {
    "duration": 7,
    "start_time": "2021-07-25T07:29:25.945Z"
   },
   {
    "duration": 3,
    "start_time": "2021-07-25T07:30:43.424Z"
   },
   {
    "duration": 7,
    "start_time": "2021-07-25T07:30:50.093Z"
   },
   {
    "duration": 5,
    "start_time": "2021-07-25T07:31:07.989Z"
   },
   {
    "duration": 7,
    "start_time": "2021-07-25T07:31:08.697Z"
   },
   {
    "duration": 4,
    "start_time": "2021-07-25T07:32:00.874Z"
   },
   {
    "duration": 4,
    "start_time": "2021-07-25T07:33:32.431Z"
   },
   {
    "duration": 5367,
    "start_time": "2021-07-25T07:34:19.379Z"
   },
   {
    "duration": 4,
    "start_time": "2021-07-25T07:34:59.237Z"
   },
   {
    "duration": 5902,
    "start_time": "2021-07-25T07:35:06.153Z"
   },
   {
    "duration": 8,
    "start_time": "2021-07-25T07:35:38.304Z"
   },
   {
    "duration": 4,
    "start_time": "2021-07-25T07:36:20.631Z"
   },
   {
    "duration": 7,
    "start_time": "2021-07-25T07:36:23.134Z"
   },
   {
    "duration": 3,
    "start_time": "2021-07-25T07:36:29.282Z"
   },
   {
    "duration": 8,
    "start_time": "2021-07-25T07:36:32.343Z"
   },
   {
    "duration": 6078,
    "start_time": "2021-07-25T07:36:49.179Z"
   },
   {
    "duration": 4,
    "start_time": "2021-07-25T07:37:12.047Z"
   },
   {
    "duration": 9,
    "start_time": "2021-07-25T07:37:16.284Z"
   },
   {
    "duration": 4,
    "start_time": "2021-07-25T07:37:24.420Z"
   },
   {
    "duration": 8,
    "start_time": "2021-07-25T07:37:40.797Z"
   },
   {
    "duration": 3,
    "start_time": "2021-07-25T07:40:18.842Z"
   },
   {
    "duration": 4,
    "start_time": "2021-07-25T07:40:22.200Z"
   },
   {
    "duration": 3,
    "start_time": "2021-07-25T07:40:49.683Z"
   },
   {
    "duration": 46,
    "start_time": "2021-07-25T07:40:49.689Z"
   },
   {
    "duration": 11,
    "start_time": "2021-07-25T07:40:49.736Z"
   },
   {
    "duration": 9,
    "start_time": "2021-07-25T07:40:49.748Z"
   },
   {
    "duration": 14,
    "start_time": "2021-07-25T07:40:49.759Z"
   },
   {
    "duration": 17,
    "start_time": "2021-07-25T07:40:49.774Z"
   },
   {
    "duration": 12,
    "start_time": "2021-07-25T07:40:49.792Z"
   },
   {
    "duration": 16,
    "start_time": "2021-07-25T07:40:49.805Z"
   },
   {
    "duration": 20,
    "start_time": "2021-07-25T07:40:49.823Z"
   },
   {
    "duration": 7,
    "start_time": "2021-07-25T07:40:49.845Z"
   },
   {
    "duration": 15,
    "start_time": "2021-07-25T07:40:49.853Z"
   },
   {
    "duration": 342,
    "start_time": "2021-07-25T07:40:49.869Z"
   },
   {
    "duration": 8,
    "start_time": "2021-07-25T07:40:50.212Z"
   },
   {
    "duration": 4,
    "start_time": "2021-07-25T07:40:50.221Z"
   },
   {
    "duration": 7,
    "start_time": "2021-07-25T07:40:50.227Z"
   },
   {
    "duration": 5,
    "start_time": "2021-07-25T07:40:50.235Z"
   },
   {
    "duration": 8,
    "start_time": "2021-07-25T07:40:50.241Z"
   },
   {
    "duration": 165,
    "start_time": "2021-07-25T07:40:50.250Z"
   },
   {
    "duration": 10,
    "start_time": "2021-07-25T07:40:50.417Z"
   },
   {
    "duration": 3,
    "start_time": "2021-07-25T07:40:50.428Z"
   },
   {
    "duration": 356,
    "start_time": "2021-07-25T07:40:50.432Z"
   },
   {
    "duration": 10,
    "start_time": "2021-07-25T07:40:50.791Z"
   },
   {
    "duration": 13,
    "start_time": "2021-07-25T07:40:50.802Z"
   },
   {
    "duration": 5,
    "start_time": "2021-07-25T07:40:50.818Z"
   },
   {
    "duration": 9,
    "start_time": "2021-07-25T07:40:50.825Z"
   },
   {
    "duration": 10,
    "start_time": "2021-07-25T07:40:50.836Z"
   },
   {
    "duration": 21,
    "start_time": "2021-07-25T07:40:50.847Z"
   },
   {
    "duration": 10,
    "start_time": "2021-07-25T07:40:50.869Z"
   },
   {
    "duration": 10,
    "start_time": "2021-07-25T07:40:50.880Z"
   },
   {
    "duration": 13,
    "start_time": "2021-07-25T07:40:50.891Z"
   },
   {
    "duration": 6,
    "start_time": "2021-07-25T07:41:12.263Z"
   },
   {
    "duration": 6,
    "start_time": "2021-07-25T07:42:14.331Z"
   },
   {
    "duration": 4,
    "start_time": "2021-07-25T07:42:24.728Z"
   },
   {
    "duration": 42,
    "start_time": "2021-07-25T07:42:24.734Z"
   },
   {
    "duration": 11,
    "start_time": "2021-07-25T07:42:24.778Z"
   },
   {
    "duration": 9,
    "start_time": "2021-07-25T07:42:24.790Z"
   },
   {
    "duration": 14,
    "start_time": "2021-07-25T07:42:24.801Z"
   },
   {
    "duration": 4,
    "start_time": "2021-07-25T07:42:24.817Z"
   },
   {
    "duration": 13,
    "start_time": "2021-07-25T07:42:24.823Z"
   },
   {
    "duration": 14,
    "start_time": "2021-07-25T07:42:24.837Z"
   },
   {
    "duration": 39,
    "start_time": "2021-07-25T07:42:24.853Z"
   },
   {
    "duration": 7,
    "start_time": "2021-07-25T07:42:24.894Z"
   },
   {
    "duration": 7,
    "start_time": "2021-07-25T07:42:24.903Z"
   },
   {
    "duration": 123,
    "start_time": "2021-07-25T07:42:24.911Z"
   },
   {
    "duration": 8,
    "start_time": "2021-07-25T07:42:25.035Z"
   },
   {
    "duration": 5,
    "start_time": "2021-07-25T07:42:25.045Z"
   },
   {
    "duration": 6,
    "start_time": "2021-07-25T07:42:25.051Z"
   },
   {
    "duration": 6,
    "start_time": "2021-07-25T07:42:25.058Z"
   },
   {
    "duration": 8,
    "start_time": "2021-07-25T07:42:25.066Z"
   },
   {
    "duration": 165,
    "start_time": "2021-07-25T07:42:25.091Z"
   },
   {
    "duration": 10,
    "start_time": "2021-07-25T07:42:25.257Z"
   },
   {
    "duration": 2,
    "start_time": "2021-07-25T07:42:25.268Z"
   },
   {
    "duration": 340,
    "start_time": "2021-07-25T07:42:25.272Z"
   },
   {
    "duration": 9,
    "start_time": "2021-07-25T07:42:25.613Z"
   },
   {
    "duration": 12,
    "start_time": "2021-07-25T07:42:25.624Z"
   },
   {
    "duration": 4,
    "start_time": "2021-07-25T07:42:25.638Z"
   },
   {
    "duration": 4,
    "start_time": "2021-07-25T07:42:25.644Z"
   },
   {
    "duration": 8,
    "start_time": "2021-07-25T07:42:25.649Z"
   },
   {
    "duration": 7,
    "start_time": "2021-07-25T07:42:25.658Z"
   },
   {
    "duration": 3,
    "start_time": "2021-07-25T07:42:25.691Z"
   },
   {
    "duration": 6,
    "start_time": "2021-07-25T07:42:25.696Z"
   },
   {
    "duration": 4,
    "start_time": "2021-07-25T07:42:51.581Z"
   },
   {
    "duration": 81,
    "start_time": "2021-07-25T07:42:57.362Z"
   },
   {
    "duration": 10,
    "start_time": "2021-07-25T07:43:00.659Z"
   },
   {
    "duration": 206,
    "start_time": "2021-07-25T07:46:09.245Z"
   },
   {
    "duration": 141,
    "start_time": "2021-07-25T07:51:05.364Z"
   },
   {
    "duration": 301,
    "start_time": "2021-07-25T07:51:25.346Z"
   },
   {
    "duration": 294,
    "start_time": "2021-07-25T07:51:38.068Z"
   },
   {
    "duration": 298,
    "start_time": "2021-07-25T07:52:02.379Z"
   },
   {
    "duration": 321,
    "start_time": "2021-07-25T07:52:24.524Z"
   },
   {
    "duration": 735,
    "start_time": "2021-07-25T07:52:36.979Z"
   },
   {
    "duration": 304,
    "start_time": "2021-07-25T07:52:41.275Z"
   },
   {
    "duration": 592,
    "start_time": "2021-07-25T07:52:49.982Z"
   },
   {
    "duration": 297,
    "start_time": "2021-07-25T07:52:54.255Z"
   },
   {
    "duration": 573,
    "start_time": "2021-07-25T07:57:46.024Z"
   },
   {
    "duration": 300,
    "start_time": "2021-07-25T07:58:06.078Z"
   },
   {
    "duration": 375,
    "start_time": "2021-07-25T08:06:01.933Z"
   },
   {
    "duration": 366,
    "start_time": "2021-07-25T08:06:43.019Z"
   },
   {
    "duration": 363,
    "start_time": "2021-07-25T08:06:57.560Z"
   },
   {
    "duration": 5553,
    "start_time": "2021-07-25T08:07:26.403Z"
   },
   {
    "duration": 77,
    "start_time": "2021-07-25T08:07:44.840Z"
   },
   {
    "duration": 199,
    "start_time": "2021-07-25T08:09:55.384Z"
   },
   {
    "duration": 79,
    "start_time": "2021-07-25T08:13:50.922Z"
   },
   {
    "duration": 215,
    "start_time": "2021-07-25T08:13:58.000Z"
   },
   {
    "duration": 316,
    "start_time": "2021-07-25T08:14:14.897Z"
   },
   {
    "duration": 361,
    "start_time": "2021-07-25T08:14:26.107Z"
   },
   {
    "duration": 258,
    "start_time": "2021-07-25T08:14:48.993Z"
   },
   {
    "duration": 292,
    "start_time": "2021-07-25T08:14:56.145Z"
   },
   {
    "duration": 237,
    "start_time": "2021-07-25T08:15:06.347Z"
   },
   {
    "duration": 474,
    "start_time": "2021-07-25T08:15:18.468Z"
   },
   {
    "duration": 503,
    "start_time": "2021-07-25T08:20:24.753Z"
   },
   {
    "duration": 373,
    "start_time": "2021-07-25T08:20:35.542Z"
   },
   {
    "duration": 381,
    "start_time": "2021-07-25T08:20:44.692Z"
   },
   {
    "duration": 370,
    "start_time": "2021-07-25T08:21:37.734Z"
   },
   {
    "duration": 389,
    "start_time": "2021-07-25T08:21:47.087Z"
   },
   {
    "duration": 373,
    "start_time": "2021-07-25T08:22:40.786Z"
   },
   {
    "duration": 374,
    "start_time": "2021-07-25T08:23:34.130Z"
   },
   {
    "duration": 385,
    "start_time": "2021-07-25T08:23:44.521Z"
   },
   {
    "duration": 346,
    "start_time": "2021-07-25T08:23:54.094Z"
   },
   {
    "duration": 366,
    "start_time": "2021-07-25T08:24:02.296Z"
   },
   {
    "duration": 380,
    "start_time": "2021-07-25T08:24:08.474Z"
   },
   {
    "duration": 375,
    "start_time": "2021-07-25T08:25:45.590Z"
   },
   {
    "duration": 365,
    "start_time": "2021-07-25T08:26:16.420Z"
   },
   {
    "duration": 362,
    "start_time": "2021-07-25T08:26:38.440Z"
   },
   {
    "duration": 358,
    "start_time": "2021-07-25T08:26:49.644Z"
   },
   {
    "duration": 361,
    "start_time": "2021-07-25T08:27:02.509Z"
   },
   {
    "duration": 344,
    "start_time": "2021-07-25T08:27:28.941Z"
   },
   {
    "duration": 502,
    "start_time": "2021-07-25T08:27:46.580Z"
   },
   {
    "duration": 391,
    "start_time": "2021-07-25T08:27:57.355Z"
   },
   {
    "duration": 373,
    "start_time": "2021-07-25T08:28:19.274Z"
   },
   {
    "duration": 479,
    "start_time": "2021-07-25T08:29:09.806Z"
   },
   {
    "duration": 370,
    "start_time": "2021-07-25T08:29:25.025Z"
   },
   {
    "duration": 390,
    "start_time": "2021-07-25T08:35:02.078Z"
   },
   {
    "duration": 181,
    "start_time": "2021-07-25T08:35:13.990Z"
   },
   {
    "duration": 821,
    "start_time": "2021-07-25T08:35:28.922Z"
   },
   {
    "duration": 378,
    "start_time": "2021-07-25T08:36:00.424Z"
   },
   {
    "duration": 378,
    "start_time": "2021-07-25T08:36:18.569Z"
   },
   {
    "duration": 387,
    "start_time": "2021-07-25T08:36:24.817Z"
   },
   {
    "duration": 378,
    "start_time": "2021-07-25T08:36:31.381Z"
   },
   {
    "duration": 5,
    "start_time": "2021-07-25T11:58:23.680Z"
   },
   {
    "duration": 260,
    "start_time": "2021-07-25T11:58:41.487Z"
   },
   {
    "duration": 4,
    "start_time": "2021-07-25T11:58:57.842Z"
   },
   {
    "duration": 5,
    "start_time": "2021-07-25T11:59:03.803Z"
   },
   {
    "duration": 235,
    "start_time": "2021-07-25T12:00:16.437Z"
   },
   {
    "duration": 234,
    "start_time": "2021-07-25T12:01:03.591Z"
   },
   {
    "duration": 218,
    "start_time": "2021-07-25T12:01:14.331Z"
   },
   {
    "duration": 239,
    "start_time": "2021-07-25T12:01:22.929Z"
   },
   {
    "duration": 16,
    "start_time": "2021-07-25T12:01:36.036Z"
   },
   {
    "duration": 233,
    "start_time": "2021-07-25T12:01:48.572Z"
   },
   {
    "duration": 11,
    "start_time": "2021-07-25T12:02:10.115Z"
   },
   {
    "duration": 15,
    "start_time": "2021-07-25T12:02:22.363Z"
   },
   {
    "duration": 13,
    "start_time": "2021-07-25T12:02:33.490Z"
   },
   {
    "duration": 76,
    "start_time": "2021-07-26T05:15:58.291Z"
   }
  ],
  "kernelspec": {
   "display_name": "Python 3",
   "language": "python",
   "name": "python3"
  },
  "language_info": {
   "codemirror_mode": {
    "name": "ipython",
    "version": 3
   },
   "file_extension": ".py",
   "mimetype": "text/x-python",
   "name": "python",
   "nbconvert_exporter": "python",
   "pygments_lexer": "ipython3",
   "version": "3.7.8"
  },
  "toc": {
   "base_numbering": 1,
   "nav_menu": {},
   "number_sections": true,
   "sideBar": true,
   "skip_h1_title": true,
   "title_cell": "Table of Contents",
   "title_sidebar": "Contents",
   "toc_cell": false,
   "toc_position": {},
   "toc_section_display": true,
   "toc_window_display": false
  }
 },
 "nbformat": 4,
 "nbformat_minor": 2
}
