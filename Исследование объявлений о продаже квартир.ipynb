{
 "cells": [
  {
   "cell_type": "markdown",
   "metadata": {},
   "source": [
    "<b><font size=5>Содержание</font></b><a name=\"to_content.\"></a>\n",
    "* [0. Описание проекта](#0.)\n",
    "\n",
    "\n",
    "* [1. Предобработка данных](#1.)\n",
    "     - [1.1. Вывод по предобработке](#1.1)\n",
    "\n",
    "\n",
    "* [2. Заполнение пропусков](#2.)\n",
    "     - [2.1. Изменение названий столбцов](#2.1)\n",
    "     - [2.2. 'town'](#2.2)\n",
    "     - [2.3. 'balcony'](#2.3)\n",
    "     - [2.4. 'ceiling_height'](#2.4)\n",
    "     - [2.5. 'total_floors'](#2.5)\n",
    "     - [2.6. 'apatrment'](#2.6)\n",
    "     - [2.7. 'kitchen_area' и 'living_area'](#2.7)\n",
    "     - [2.8. 'studio' и 'open_plan'](#2.8)\n",
    "     - [2.9. Обработка названий локации](#2.9)\n",
    "     - [2.10. Вывод по заполнению пропусков](#2.10)\n",
    "     \n",
    "\n",
    "* [3. Добавление новых столбцов в таблицу](#3.)\n",
    "     - [3.1. Изменение формата даты](#3.1)\n",
    "     - [3.2. Добавление дня месяца и года](#3.2)\n",
    "     - [3.3. Цена за квадратный метр](#3.3)\n",
    "     - [3.4. Категория этажа](#3.4)\n",
    "     - [3.5. Отношение жилой площади к общей](#3.5)\n",
    "     - [3.6. Отношение площади кухни к общей](#3.6)\n",
    "     - [3.7. Вывод по добавлению столбцов](#3.7)\n",
    "     \n",
    "\n",
    "* [4. Исследовательский анализ данных](#4.)\n",
    "     - [4.1. Изучение параметров: площадь, число комнат, цена, высота потолков](#4.1)\n",
    "     - [4.2. Время продажи квартиры](#4.2)\n",
    "     - [4.3. Уборка редких и выбивающихся значений](#4.3)\n",
    "     - [4.4. Факторы влияющие на стоимость квартиры](#4.4)\n",
    "     - [4.5. Исследование топ 10 городов по количеству объявлений](#4.5)\n",
    "     - [4.6. Изучение квартир в центре ](#4.6)\n",
    "\n",
    "\n",
    "* [5. Вывод](#5.) "
   ]
  },
  {
   "cell_type": "markdown",
   "metadata": {},
   "source": [
    "<hr style=\"border: 1px solid #000;\"> \n",
    "\n",
    "<div class=\"alert alert-success\">\n",
    "<strong><font size=5>Комментарий от ревьюера (v.2)</font></strong><br/>\n",
    "    \n",
    "Ого. Очень объёмно. Отлично, теперь у нас есть навигация по проекту, которую можно переиспользовать в дальнейшем.\n",
    "    \n",
    "</div>\n",
    "<hr style=\"border: 1px solid #000;\"> "
   ]
  },
  {
   "cell_type": "markdown",
   "metadata": {},
   "source": [
    "Описание проекта<a name=\"0.\"></a><br/>\n",
    "[<font size=\"2\">(к содержанию)</font>](#to_content.)"
   ]
  },
  {
   "cell_type": "markdown",
   "metadata": {},
   "source": [
    "Привет, Андрей!\n",
    "Надеюсь, ты не прочь, что мы с тобой будем на \"ты\". Меня зовут Комиссаров Алексей. Я буду проверять твою работу и помогать тебе в освоении материала. Я буду использовать следующую цветовую разметку:\n",
    "\n",
    "<div class=\"alert alert-danger\">\n",
    "<b>Комментарий от ревьюера:</b> Так я отмечаю пункты твоей работы, которые необходимо будет переделать.  </div>\n",
    "\n",
    "<div class=\"alert alert-warning\">\n",
    "<b>Комментарий от ревьюера:</b> Так я отмечаю то, что можно было бы улучшить/изменить/учесть или же добавляю пояснения к комментариям другого типа. Необходимости переделывать эти пункты нет, но принять во внимание стоит.</div>\n",
    "\n",
    "<div class=\"alert alert-success\">\n",
    "<b>Комментарий от ревьюера:</b> Так я выделяю все остальные комментарии и особо удачные моменты твоей работы.</div><br/>\n",
    "\n",
    "Разбирать твою работу мы будем в формате диалога, поэтому прошу отвечать на мои комментарии, задавать вопросы, если они возникли, и делать это в отдельном блоке таким цветом, который ты выберешь.<br/><br/>\n",
    "\n",
    "Прошу тебя не удалять эти комментарии, они нам помогут отследить историю изменений.\n",
    "<hr style=\"border: 1px solid #000;\">"
   ]
  },
  {
   "cell_type": "markdown",
   "metadata": {},
   "source": [
    "Исследование объявлений о продаже квартир\n",
    "\n",
    "В вашем распоряжении данные сервиса Яндекс.Недвижимость — архив объявлений о продаже квартир в Санкт-Петербурге и соседних населённых пунктов за несколько лет. Нужно научиться определять рыночную стоимость объектов недвижимости. Ваша задача — установить параметры. Это позволит построить автоматизированную систему: она отследит аномалии и мошенническую деятельность. \n",
    "\n",
    "По каждой квартире на продажу доступны два вида данных. Первые вписаны пользователем, вторые — получены автоматически на основе картографических данных. Например, расстояние до центра, аэропорта, ближайшего парка и водоёма. "
   ]
  },
  {
   "cell_type": "markdown",
   "metadata": {},
   "source": [
    "<hr style=\"border: 1px solid #000;\"> \n",
    "\n",
    "<div class=\"alert alert-warning\">\n",
    "\n",
    "<strong><font size=5>Комментарий от ревьюера</font></strong><br/>\n",
    "    \n",
    "Рекомендую работу начинать с содержания. Оно поможет тебе перемещаться по проекту и позволит не забыть какой-либо из пунктов работы. И работа будет выглядеть более презентабельной.<br/><br/>\n",
    "Пусть это и не критично, но отмечу этот пункт как обязательный к проработке. Буду рад тебе помочь с этим.\n",
    "    \n",
    "</div>"
   ]
  },
  {
   "cell_type": "markdown",
   "metadata": {},
   "source": [
    "<div class=\"alert alert-warning\">\n",
    "\n",
    "И приведу пример:\n",
    "    \n",
    "</div>"
   ]
  },
  {
   "cell_type": "markdown",
   "metadata": {},
   "source": [
    "<div class=\"alert alert-warning\">\n",
    "    \n",
    "Как ты можешь видеть, мы помимо указания текста в квадратных скобках, добавляем ещё гиперссылку на пункт:\n",
    "```html\n",
    "(#0.)\n",
    "```\n",
    "А в ячейке того пункта, к которому мы должны переместиться при нажатии на этот пункт в содержании, добавляем:\n",
    "```html\n",
    "<a name=\"0.\"></a>\n",
    "```\n",
    "Обрати внимание, что в блок <b>Содержание</b> я ещё добавил \n",
    "```html\n",
    "<a name=\"to_content.\"></a>\n",
    "```\n",
    "Это позволит нам из каждого пункта возвращаться обратно к содержанию. А у каждого пункта добавляем что-то похожее на <b>\"(к содержанию)\"</b>, чтобы перемещаться обратно к содержанию. Очень удобно, когда у нас работает переход как от содержания к конкретному пункту, так и от конкретного пункта обратно к содержанию. \n",
    "    \n",
    "    \n",
    "Ниже создаю тестовую ячейку. На неё переместится экран при нажатии на \"1.1. Пункт 1.1\" в содержании. А когда мы нажмем <b>\"(к содержанию)\"</b>, то мы вернемся обратно к содержанию. Попробуй :)\n",
    "</div>"
   ]
  },
  {
   "cell_type": "markdown",
   "metadata": {},
   "source": [
    "<div class=\"alert alert-warning\">\n",
    "    \n",
    "Поэтому очень рекомендую поработать над содержанием. Нам оно очень поможет.\n",
    "</div>\n",
    "<hr style=\"border: 1px solid #000;\"> "
   ]
  },
  {
   "cell_type": "markdown",
   "metadata": {},
   "source": [
    "Сделал"
   ]
  },
  {
   "cell_type": "markdown",
   "metadata": {},
   "source": [
    "## Предобработка данных \n",
    "<a name=\"1.\"></a><br/>[<font size=\"2\">(к содержанию)</font>](#to_content.)"
   ]
  },
  {
   "cell_type": "code",
   "execution_count": 228,
   "metadata": {},
   "outputs": [],
   "source": [
    "#загружаю необходимые библиотеки\n",
    "import pandas as pd\n",
    "import numpy as np\n",
    "import matplotlib.pyplot as plt\n",
    "import seaborn as sns\n",
    "import warnings\n",
    "warnings.filterwarnings('ignore')\n",
    "pd.set_option('max_columns',None)"
   ]
  },
  {
   "cell_type": "markdown",
   "metadata": {},
   "source": [
    "<hr style=\"border: 1px solid #000;\"> \n",
    "\n",
    "<div class=\"alert alert-success\">\n",
    "<strong><font size=5>Комментарий от ревьюера</font></strong><br/>\n",
    "    \n",
    "О, отключаем предупреждения. Это хорошо.\n",
    "    \n",
    "</div>\n",
    "<hr style=\"border: 1px solid #000;\"> "
   ]
  },
  {
   "cell_type": "code",
   "execution_count": 229,
   "metadata": {},
   "outputs": [
    {
     "data": {
      "text/html": [
       "<div>\n",
       "<style scoped>\n",
       "    .dataframe tbody tr th:only-of-type {\n",
       "        vertical-align: middle;\n",
       "    }\n",
       "\n",
       "    .dataframe tbody tr th {\n",
       "        vertical-align: top;\n",
       "    }\n",
       "\n",
       "    .dataframe thead th {\n",
       "        text-align: right;\n",
       "    }\n",
       "</style>\n",
       "<table border=\"1\" class=\"dataframe\">\n",
       "  <thead>\n",
       "    <tr style=\"text-align: right;\">\n",
       "      <th></th>\n",
       "      <th>total_images</th>\n",
       "      <th>last_price</th>\n",
       "      <th>total_area</th>\n",
       "      <th>first_day_exposition</th>\n",
       "      <th>rooms</th>\n",
       "      <th>ceiling_height</th>\n",
       "      <th>floors_total</th>\n",
       "      <th>living_area</th>\n",
       "      <th>floor</th>\n",
       "      <th>is_apartment</th>\n",
       "      <th>studio</th>\n",
       "      <th>open_plan</th>\n",
       "      <th>kitchen_area</th>\n",
       "      <th>balcony</th>\n",
       "      <th>locality_name</th>\n",
       "      <th>airports_nearest</th>\n",
       "      <th>cityCenters_nearest</th>\n",
       "      <th>parks_around3000</th>\n",
       "      <th>parks_nearest</th>\n",
       "      <th>ponds_around3000</th>\n",
       "      <th>ponds_nearest</th>\n",
       "      <th>days_exposition</th>\n",
       "    </tr>\n",
       "  </thead>\n",
       "  <tbody>\n",
       "    <tr>\n",
       "      <td>0</td>\n",
       "      <td>20</td>\n",
       "      <td>13000000.0</td>\n",
       "      <td>108.00</td>\n",
       "      <td>2019-03-07T00:00:00</td>\n",
       "      <td>3</td>\n",
       "      <td>2.70</td>\n",
       "      <td>16.0</td>\n",
       "      <td>51.0</td>\n",
       "      <td>8</td>\n",
       "      <td>NaN</td>\n",
       "      <td>False</td>\n",
       "      <td>False</td>\n",
       "      <td>25.00</td>\n",
       "      <td>NaN</td>\n",
       "      <td>Санкт-Петербург</td>\n",
       "      <td>18863.0</td>\n",
       "      <td>16028.0</td>\n",
       "      <td>1.0</td>\n",
       "      <td>482.0</td>\n",
       "      <td>2.0</td>\n",
       "      <td>755.0</td>\n",
       "      <td>NaN</td>\n",
       "    </tr>\n",
       "    <tr>\n",
       "      <td>1</td>\n",
       "      <td>7</td>\n",
       "      <td>3350000.0</td>\n",
       "      <td>40.40</td>\n",
       "      <td>2018-12-04T00:00:00</td>\n",
       "      <td>1</td>\n",
       "      <td>NaN</td>\n",
       "      <td>11.0</td>\n",
       "      <td>18.6</td>\n",
       "      <td>1</td>\n",
       "      <td>NaN</td>\n",
       "      <td>False</td>\n",
       "      <td>False</td>\n",
       "      <td>11.00</td>\n",
       "      <td>2.0</td>\n",
       "      <td>посёлок Шушары</td>\n",
       "      <td>12817.0</td>\n",
       "      <td>18603.0</td>\n",
       "      <td>0.0</td>\n",
       "      <td>NaN</td>\n",
       "      <td>0.0</td>\n",
       "      <td>NaN</td>\n",
       "      <td>81.0</td>\n",
       "    </tr>\n",
       "    <tr>\n",
       "      <td>2</td>\n",
       "      <td>10</td>\n",
       "      <td>5196000.0</td>\n",
       "      <td>56.00</td>\n",
       "      <td>2015-08-20T00:00:00</td>\n",
       "      <td>2</td>\n",
       "      <td>NaN</td>\n",
       "      <td>5.0</td>\n",
       "      <td>34.3</td>\n",
       "      <td>4</td>\n",
       "      <td>NaN</td>\n",
       "      <td>False</td>\n",
       "      <td>False</td>\n",
       "      <td>8.30</td>\n",
       "      <td>0.0</td>\n",
       "      <td>Санкт-Петербург</td>\n",
       "      <td>21741.0</td>\n",
       "      <td>13933.0</td>\n",
       "      <td>1.0</td>\n",
       "      <td>90.0</td>\n",
       "      <td>2.0</td>\n",
       "      <td>574.0</td>\n",
       "      <td>558.0</td>\n",
       "    </tr>\n",
       "    <tr>\n",
       "      <td>3</td>\n",
       "      <td>0</td>\n",
       "      <td>64900000.0</td>\n",
       "      <td>159.00</td>\n",
       "      <td>2015-07-24T00:00:00</td>\n",
       "      <td>3</td>\n",
       "      <td>NaN</td>\n",
       "      <td>14.0</td>\n",
       "      <td>NaN</td>\n",
       "      <td>9</td>\n",
       "      <td>NaN</td>\n",
       "      <td>False</td>\n",
       "      <td>False</td>\n",
       "      <td>NaN</td>\n",
       "      <td>0.0</td>\n",
       "      <td>Санкт-Петербург</td>\n",
       "      <td>28098.0</td>\n",
       "      <td>6800.0</td>\n",
       "      <td>2.0</td>\n",
       "      <td>84.0</td>\n",
       "      <td>3.0</td>\n",
       "      <td>234.0</td>\n",
       "      <td>424.0</td>\n",
       "    </tr>\n",
       "    <tr>\n",
       "      <td>4</td>\n",
       "      <td>2</td>\n",
       "      <td>10000000.0</td>\n",
       "      <td>100.00</td>\n",
       "      <td>2018-06-19T00:00:00</td>\n",
       "      <td>2</td>\n",
       "      <td>3.03</td>\n",
       "      <td>14.0</td>\n",
       "      <td>32.0</td>\n",
       "      <td>13</td>\n",
       "      <td>NaN</td>\n",
       "      <td>False</td>\n",
       "      <td>False</td>\n",
       "      <td>41.00</td>\n",
       "      <td>NaN</td>\n",
       "      <td>Санкт-Петербург</td>\n",
       "      <td>31856.0</td>\n",
       "      <td>8098.0</td>\n",
       "      <td>2.0</td>\n",
       "      <td>112.0</td>\n",
       "      <td>1.0</td>\n",
       "      <td>48.0</td>\n",
       "      <td>121.0</td>\n",
       "    </tr>\n",
       "    <tr>\n",
       "      <td>...</td>\n",
       "      <td>...</td>\n",
       "      <td>...</td>\n",
       "      <td>...</td>\n",
       "      <td>...</td>\n",
       "      <td>...</td>\n",
       "      <td>...</td>\n",
       "      <td>...</td>\n",
       "      <td>...</td>\n",
       "      <td>...</td>\n",
       "      <td>...</td>\n",
       "      <td>...</td>\n",
       "      <td>...</td>\n",
       "      <td>...</td>\n",
       "      <td>...</td>\n",
       "      <td>...</td>\n",
       "      <td>...</td>\n",
       "      <td>...</td>\n",
       "      <td>...</td>\n",
       "      <td>...</td>\n",
       "      <td>...</td>\n",
       "      <td>...</td>\n",
       "      <td>...</td>\n",
       "    </tr>\n",
       "    <tr>\n",
       "      <td>23694</td>\n",
       "      <td>9</td>\n",
       "      <td>9700000.0</td>\n",
       "      <td>133.81</td>\n",
       "      <td>2017-03-21T00:00:00</td>\n",
       "      <td>3</td>\n",
       "      <td>3.70</td>\n",
       "      <td>5.0</td>\n",
       "      <td>73.3</td>\n",
       "      <td>3</td>\n",
       "      <td>NaN</td>\n",
       "      <td>False</td>\n",
       "      <td>False</td>\n",
       "      <td>13.83</td>\n",
       "      <td>NaN</td>\n",
       "      <td>Санкт-Петербург</td>\n",
       "      <td>24665.0</td>\n",
       "      <td>4232.0</td>\n",
       "      <td>1.0</td>\n",
       "      <td>796.0</td>\n",
       "      <td>3.0</td>\n",
       "      <td>381.0</td>\n",
       "      <td>NaN</td>\n",
       "    </tr>\n",
       "    <tr>\n",
       "      <td>23695</td>\n",
       "      <td>14</td>\n",
       "      <td>3100000.0</td>\n",
       "      <td>59.00</td>\n",
       "      <td>2018-01-15T00:00:00</td>\n",
       "      <td>3</td>\n",
       "      <td>NaN</td>\n",
       "      <td>5.0</td>\n",
       "      <td>38.0</td>\n",
       "      <td>4</td>\n",
       "      <td>NaN</td>\n",
       "      <td>False</td>\n",
       "      <td>False</td>\n",
       "      <td>8.50</td>\n",
       "      <td>NaN</td>\n",
       "      <td>Тосно</td>\n",
       "      <td>NaN</td>\n",
       "      <td>NaN</td>\n",
       "      <td>NaN</td>\n",
       "      <td>NaN</td>\n",
       "      <td>NaN</td>\n",
       "      <td>NaN</td>\n",
       "      <td>45.0</td>\n",
       "    </tr>\n",
       "    <tr>\n",
       "      <td>23696</td>\n",
       "      <td>18</td>\n",
       "      <td>2500000.0</td>\n",
       "      <td>56.70</td>\n",
       "      <td>2018-02-11T00:00:00</td>\n",
       "      <td>2</td>\n",
       "      <td>NaN</td>\n",
       "      <td>3.0</td>\n",
       "      <td>29.7</td>\n",
       "      <td>1</td>\n",
       "      <td>NaN</td>\n",
       "      <td>False</td>\n",
       "      <td>False</td>\n",
       "      <td>NaN</td>\n",
       "      <td>NaN</td>\n",
       "      <td>село Рождествено</td>\n",
       "      <td>NaN</td>\n",
       "      <td>NaN</td>\n",
       "      <td>NaN</td>\n",
       "      <td>NaN</td>\n",
       "      <td>NaN</td>\n",
       "      <td>NaN</td>\n",
       "      <td>NaN</td>\n",
       "    </tr>\n",
       "    <tr>\n",
       "      <td>23697</td>\n",
       "      <td>13</td>\n",
       "      <td>11475000.0</td>\n",
       "      <td>76.75</td>\n",
       "      <td>2017-03-28T00:00:00</td>\n",
       "      <td>2</td>\n",
       "      <td>3.00</td>\n",
       "      <td>17.0</td>\n",
       "      <td>NaN</td>\n",
       "      <td>12</td>\n",
       "      <td>NaN</td>\n",
       "      <td>False</td>\n",
       "      <td>False</td>\n",
       "      <td>23.30</td>\n",
       "      <td>2.0</td>\n",
       "      <td>Санкт-Петербург</td>\n",
       "      <td>39140.0</td>\n",
       "      <td>10364.0</td>\n",
       "      <td>2.0</td>\n",
       "      <td>173.0</td>\n",
       "      <td>3.0</td>\n",
       "      <td>196.0</td>\n",
       "      <td>602.0</td>\n",
       "    </tr>\n",
       "    <tr>\n",
       "      <td>23698</td>\n",
       "      <td>4</td>\n",
       "      <td>1350000.0</td>\n",
       "      <td>32.30</td>\n",
       "      <td>2017-07-21T00:00:00</td>\n",
       "      <td>1</td>\n",
       "      <td>2.50</td>\n",
       "      <td>5.0</td>\n",
       "      <td>12.3</td>\n",
       "      <td>1</td>\n",
       "      <td>NaN</td>\n",
       "      <td>False</td>\n",
       "      <td>False</td>\n",
       "      <td>9.00</td>\n",
       "      <td>NaN</td>\n",
       "      <td>поселок Новый Учхоз</td>\n",
       "      <td>NaN</td>\n",
       "      <td>NaN</td>\n",
       "      <td>NaN</td>\n",
       "      <td>NaN</td>\n",
       "      <td>NaN</td>\n",
       "      <td>NaN</td>\n",
       "      <td>NaN</td>\n",
       "    </tr>\n",
       "  </tbody>\n",
       "</table>\n",
       "<p>23699 rows × 22 columns</p>\n",
       "</div>"
      ],
      "text/plain": [
       "       total_images  last_price  total_area first_day_exposition  rooms  \\\n",
       "0                20  13000000.0      108.00  2019-03-07T00:00:00      3   \n",
       "1                 7   3350000.0       40.40  2018-12-04T00:00:00      1   \n",
       "2                10   5196000.0       56.00  2015-08-20T00:00:00      2   \n",
       "3                 0  64900000.0      159.00  2015-07-24T00:00:00      3   \n",
       "4                 2  10000000.0      100.00  2018-06-19T00:00:00      2   \n",
       "...             ...         ...         ...                  ...    ...   \n",
       "23694             9   9700000.0      133.81  2017-03-21T00:00:00      3   \n",
       "23695            14   3100000.0       59.00  2018-01-15T00:00:00      3   \n",
       "23696            18   2500000.0       56.70  2018-02-11T00:00:00      2   \n",
       "23697            13  11475000.0       76.75  2017-03-28T00:00:00      2   \n",
       "23698             4   1350000.0       32.30  2017-07-21T00:00:00      1   \n",
       "\n",
       "       ceiling_height  floors_total  living_area  floor is_apartment  studio  \\\n",
       "0                2.70          16.0         51.0      8          NaN   False   \n",
       "1                 NaN          11.0         18.6      1          NaN   False   \n",
       "2                 NaN           5.0         34.3      4          NaN   False   \n",
       "3                 NaN          14.0          NaN      9          NaN   False   \n",
       "4                3.03          14.0         32.0     13          NaN   False   \n",
       "...               ...           ...          ...    ...          ...     ...   \n",
       "23694            3.70           5.0         73.3      3          NaN   False   \n",
       "23695             NaN           5.0         38.0      4          NaN   False   \n",
       "23696             NaN           3.0         29.7      1          NaN   False   \n",
       "23697            3.00          17.0          NaN     12          NaN   False   \n",
       "23698            2.50           5.0         12.3      1          NaN   False   \n",
       "\n",
       "       open_plan  kitchen_area  balcony        locality_name  \\\n",
       "0          False         25.00      NaN      Санкт-Петербург   \n",
       "1          False         11.00      2.0       посёлок Шушары   \n",
       "2          False          8.30      0.0      Санкт-Петербург   \n",
       "3          False           NaN      0.0      Санкт-Петербург   \n",
       "4          False         41.00      NaN      Санкт-Петербург   \n",
       "...          ...           ...      ...                  ...   \n",
       "23694      False         13.83      NaN      Санкт-Петербург   \n",
       "23695      False          8.50      NaN                Тосно   \n",
       "23696      False           NaN      NaN     село Рождествено   \n",
       "23697      False         23.30      2.0      Санкт-Петербург   \n",
       "23698      False          9.00      NaN  поселок Новый Учхоз   \n",
       "\n",
       "       airports_nearest  cityCenters_nearest  parks_around3000  parks_nearest  \\\n",
       "0               18863.0              16028.0               1.0          482.0   \n",
       "1               12817.0              18603.0               0.0            NaN   \n",
       "2               21741.0              13933.0               1.0           90.0   \n",
       "3               28098.0               6800.0               2.0           84.0   \n",
       "4               31856.0               8098.0               2.0          112.0   \n",
       "...                 ...                  ...               ...            ...   \n",
       "23694           24665.0               4232.0               1.0          796.0   \n",
       "23695               NaN                  NaN               NaN            NaN   \n",
       "23696               NaN                  NaN               NaN            NaN   \n",
       "23697           39140.0              10364.0               2.0          173.0   \n",
       "23698               NaN                  NaN               NaN            NaN   \n",
       "\n",
       "       ponds_around3000  ponds_nearest  days_exposition  \n",
       "0                   2.0          755.0              NaN  \n",
       "1                   0.0            NaN             81.0  \n",
       "2                   2.0          574.0            558.0  \n",
       "3                   3.0          234.0            424.0  \n",
       "4                   1.0           48.0            121.0  \n",
       "...                 ...            ...              ...  \n",
       "23694               3.0          381.0              NaN  \n",
       "23695               NaN            NaN             45.0  \n",
       "23696               NaN            NaN              NaN  \n",
       "23697               3.0          196.0            602.0  \n",
       "23698               NaN            NaN              NaN  \n",
       "\n",
       "[23699 rows x 22 columns]"
      ]
     },
     "metadata": {},
     "output_type": "display_data"
    }
   ],
   "source": [
    "# закружаю таблицу\n",
    "df = pd.read_csv('https://code.s3.yandex.net/datasets/real_estate_data.csv', sep='\\t') \n",
    "display(df)"
   ]
  },
  {
   "cell_type": "code",
   "execution_count": 230,
   "metadata": {},
   "outputs": [
    {
     "name": "stdout",
     "output_type": "stream",
     "text": [
      "<class 'pandas.core.frame.DataFrame'>\n",
      "RangeIndex: 23699 entries, 0 to 23698\n",
      "Data columns (total 22 columns):\n",
      "total_images            23699 non-null int64\n",
      "last_price              23699 non-null float64\n",
      "total_area              23699 non-null float64\n",
      "first_day_exposition    23699 non-null object\n",
      "rooms                   23699 non-null int64\n",
      "ceiling_height          14504 non-null float64\n",
      "floors_total            23613 non-null float64\n",
      "living_area             21796 non-null float64\n",
      "floor                   23699 non-null int64\n",
      "is_apartment            2775 non-null object\n",
      "studio                  23699 non-null bool\n",
      "open_plan               23699 non-null bool\n",
      "kitchen_area            21421 non-null float64\n",
      "balcony                 12180 non-null float64\n",
      "locality_name           23650 non-null object\n",
      "airports_nearest        18157 non-null float64\n",
      "cityCenters_nearest     18180 non-null float64\n",
      "parks_around3000        18181 non-null float64\n",
      "parks_nearest           8079 non-null float64\n",
      "ponds_around3000        18181 non-null float64\n",
      "ponds_nearest           9110 non-null float64\n",
      "days_exposition         20518 non-null float64\n",
      "dtypes: bool(2), float64(14), int64(3), object(3)\n",
      "memory usage: 3.7+ MB\n"
     ]
    }
   ],
   "source": [
    "# смотрю обущую информацию\n",
    "df.info()"
   ]
  },
  {
   "cell_type": "code",
   "execution_count": 231,
   "metadata": {},
   "outputs": [
    {
     "data": {
      "text/plain": [
       "total_images                0\n",
       "last_price                  0\n",
       "total_area                  0\n",
       "first_day_exposition        0\n",
       "rooms                       0\n",
       "ceiling_height           9195\n",
       "floors_total               86\n",
       "living_area              1903\n",
       "floor                       0\n",
       "is_apartment            20924\n",
       "studio                      0\n",
       "open_plan                   0\n",
       "kitchen_area             2278\n",
       "balcony                 11519\n",
       "locality_name              49\n",
       "airports_nearest         5542\n",
       "cityCenters_nearest      5519\n",
       "parks_around3000         5518\n",
       "parks_nearest           15620\n",
       "ponds_around3000         5518\n",
       "ponds_nearest           14589\n",
       "days_exposition          3181\n",
       "dtype: int64"
      ]
     },
     "execution_count": 231,
     "metadata": {},
     "output_type": "execute_result"
    }
   ],
   "source": [
    "#ищу количество пропусков\n",
    "df.isna().sum()"
   ]
  },
  {
   "cell_type": "markdown",
   "metadata": {},
   "source": [
    "<hr style=\"border: 1px solid #000;\"> \n",
    "\n",
    "<div class=\"alert alert-warning\">\n",
    "<strong><font size=5>Комментарий от ревьюера</font></strong><br/>\n",
    "    \n",
    "Тут помимо абсолютных данных по пропускам в столбцах, лучше ещё приводить и относительные величины, чтобы мы понимали масштаб бедствия. Например, вот так:\n",
    "    \n",
    "</div>"
   ]
  },
  {
   "cell_type": "code",
   "execution_count": 232,
   "metadata": {},
   "outputs": [
    {
     "data": {
      "text/html": [
       "<style  type=\"text/css\" >\n",
       "</style><table id=\"T_488b1524_794b_11eb_8435_02420a39c81d\" ><caption>Данные о NaN</caption><thead>    <tr>        <th class=\"blank level0\" ></th>        <th class=\"col_heading level0 col0\" >Nan-count</th>        <th class=\"col_heading level0 col1\" >NaN, %</th>    </tr></thead><tbody>\n",
       "                <tr>\n",
       "                        <th id=\"T_488b1524_794b_11eb_8435_02420a39c81dlevel0_row0\" class=\"row_heading level0 row0\" >is_apartment</th>\n",
       "                        <td id=\"T_488b1524_794b_11eb_8435_02420a39c81drow0_col0\" class=\"data row0 col0\" >20924</td>\n",
       "                        <td id=\"T_488b1524_794b_11eb_8435_02420a39c81drow0_col1\" class=\"data row0 col1\" >88.29</td>\n",
       "            </tr>\n",
       "            <tr>\n",
       "                        <th id=\"T_488b1524_794b_11eb_8435_02420a39c81dlevel0_row1\" class=\"row_heading level0 row1\" >parks_nearest</th>\n",
       "                        <td id=\"T_488b1524_794b_11eb_8435_02420a39c81drow1_col0\" class=\"data row1 col0\" >15620</td>\n",
       "                        <td id=\"T_488b1524_794b_11eb_8435_02420a39c81drow1_col1\" class=\"data row1 col1\" >65.91</td>\n",
       "            </tr>\n",
       "            <tr>\n",
       "                        <th id=\"T_488b1524_794b_11eb_8435_02420a39c81dlevel0_row2\" class=\"row_heading level0 row2\" >ponds_nearest</th>\n",
       "                        <td id=\"T_488b1524_794b_11eb_8435_02420a39c81drow2_col0\" class=\"data row2 col0\" >14589</td>\n",
       "                        <td id=\"T_488b1524_794b_11eb_8435_02420a39c81drow2_col1\" class=\"data row2 col1\" >61.56</td>\n",
       "            </tr>\n",
       "            <tr>\n",
       "                        <th id=\"T_488b1524_794b_11eb_8435_02420a39c81dlevel0_row3\" class=\"row_heading level0 row3\" >balcony</th>\n",
       "                        <td id=\"T_488b1524_794b_11eb_8435_02420a39c81drow3_col0\" class=\"data row3 col0\" >11519</td>\n",
       "                        <td id=\"T_488b1524_794b_11eb_8435_02420a39c81drow3_col1\" class=\"data row3 col1\" >48.61</td>\n",
       "            </tr>\n",
       "            <tr>\n",
       "                        <th id=\"T_488b1524_794b_11eb_8435_02420a39c81dlevel0_row4\" class=\"row_heading level0 row4\" >ceiling_height</th>\n",
       "                        <td id=\"T_488b1524_794b_11eb_8435_02420a39c81drow4_col0\" class=\"data row4 col0\" >9195</td>\n",
       "                        <td id=\"T_488b1524_794b_11eb_8435_02420a39c81drow4_col1\" class=\"data row4 col1\" >38.8</td>\n",
       "            </tr>\n",
       "            <tr>\n",
       "                        <th id=\"T_488b1524_794b_11eb_8435_02420a39c81dlevel0_row5\" class=\"row_heading level0 row5\" >airports_nearest</th>\n",
       "                        <td id=\"T_488b1524_794b_11eb_8435_02420a39c81drow5_col0\" class=\"data row5 col0\" >5542</td>\n",
       "                        <td id=\"T_488b1524_794b_11eb_8435_02420a39c81drow5_col1\" class=\"data row5 col1\" >23.38</td>\n",
       "            </tr>\n",
       "            <tr>\n",
       "                        <th id=\"T_488b1524_794b_11eb_8435_02420a39c81dlevel0_row6\" class=\"row_heading level0 row6\" >cityCenters_nearest</th>\n",
       "                        <td id=\"T_488b1524_794b_11eb_8435_02420a39c81drow6_col0\" class=\"data row6 col0\" >5519</td>\n",
       "                        <td id=\"T_488b1524_794b_11eb_8435_02420a39c81drow6_col1\" class=\"data row6 col1\" >23.29</td>\n",
       "            </tr>\n",
       "            <tr>\n",
       "                        <th id=\"T_488b1524_794b_11eb_8435_02420a39c81dlevel0_row7\" class=\"row_heading level0 row7\" >ponds_around3000</th>\n",
       "                        <td id=\"T_488b1524_794b_11eb_8435_02420a39c81drow7_col0\" class=\"data row7 col0\" >5518</td>\n",
       "                        <td id=\"T_488b1524_794b_11eb_8435_02420a39c81drow7_col1\" class=\"data row7 col1\" >23.28</td>\n",
       "            </tr>\n",
       "            <tr>\n",
       "                        <th id=\"T_488b1524_794b_11eb_8435_02420a39c81dlevel0_row8\" class=\"row_heading level0 row8\" >parks_around3000</th>\n",
       "                        <td id=\"T_488b1524_794b_11eb_8435_02420a39c81drow8_col0\" class=\"data row8 col0\" >5518</td>\n",
       "                        <td id=\"T_488b1524_794b_11eb_8435_02420a39c81drow8_col1\" class=\"data row8 col1\" >23.28</td>\n",
       "            </tr>\n",
       "            <tr>\n",
       "                        <th id=\"T_488b1524_794b_11eb_8435_02420a39c81dlevel0_row9\" class=\"row_heading level0 row9\" >days_exposition</th>\n",
       "                        <td id=\"T_488b1524_794b_11eb_8435_02420a39c81drow9_col0\" class=\"data row9 col0\" >3181</td>\n",
       "                        <td id=\"T_488b1524_794b_11eb_8435_02420a39c81drow9_col1\" class=\"data row9 col1\" >13.42</td>\n",
       "            </tr>\n",
       "            <tr>\n",
       "                        <th id=\"T_488b1524_794b_11eb_8435_02420a39c81dlevel0_row10\" class=\"row_heading level0 row10\" >kitchen_area</th>\n",
       "                        <td id=\"T_488b1524_794b_11eb_8435_02420a39c81drow10_col0\" class=\"data row10 col0\" >2278</td>\n",
       "                        <td id=\"T_488b1524_794b_11eb_8435_02420a39c81drow10_col1\" class=\"data row10 col1\" >9.61</td>\n",
       "            </tr>\n",
       "            <tr>\n",
       "                        <th id=\"T_488b1524_794b_11eb_8435_02420a39c81dlevel0_row11\" class=\"row_heading level0 row11\" >living_area</th>\n",
       "                        <td id=\"T_488b1524_794b_11eb_8435_02420a39c81drow11_col0\" class=\"data row11 col0\" >1903</td>\n",
       "                        <td id=\"T_488b1524_794b_11eb_8435_02420a39c81drow11_col1\" class=\"data row11 col1\" >8.03</td>\n",
       "            </tr>\n",
       "            <tr>\n",
       "                        <th id=\"T_488b1524_794b_11eb_8435_02420a39c81dlevel0_row12\" class=\"row_heading level0 row12\" >floors_total</th>\n",
       "                        <td id=\"T_488b1524_794b_11eb_8435_02420a39c81drow12_col0\" class=\"data row12 col0\" >86</td>\n",
       "                        <td id=\"T_488b1524_794b_11eb_8435_02420a39c81drow12_col1\" class=\"data row12 col1\" >0.36</td>\n",
       "            </tr>\n",
       "            <tr>\n",
       "                        <th id=\"T_488b1524_794b_11eb_8435_02420a39c81dlevel0_row13\" class=\"row_heading level0 row13\" >locality_name</th>\n",
       "                        <td id=\"T_488b1524_794b_11eb_8435_02420a39c81drow13_col0\" class=\"data row13 col0\" >49</td>\n",
       "                        <td id=\"T_488b1524_794b_11eb_8435_02420a39c81drow13_col1\" class=\"data row13 col1\" >0.21</td>\n",
       "            </tr>\n",
       "            <tr>\n",
       "                        <th id=\"T_488b1524_794b_11eb_8435_02420a39c81dlevel0_row14\" class=\"row_heading level0 row14\" >total_images</th>\n",
       "                        <td id=\"T_488b1524_794b_11eb_8435_02420a39c81drow14_col0\" class=\"data row14 col0\" >0</td>\n",
       "                        <td id=\"T_488b1524_794b_11eb_8435_02420a39c81drow14_col1\" class=\"data row14 col1\" >0</td>\n",
       "            </tr>\n",
       "            <tr>\n",
       "                        <th id=\"T_488b1524_794b_11eb_8435_02420a39c81dlevel0_row15\" class=\"row_heading level0 row15\" >last_price</th>\n",
       "                        <td id=\"T_488b1524_794b_11eb_8435_02420a39c81drow15_col0\" class=\"data row15 col0\" >0</td>\n",
       "                        <td id=\"T_488b1524_794b_11eb_8435_02420a39c81drow15_col1\" class=\"data row15 col1\" >0</td>\n",
       "            </tr>\n",
       "            <tr>\n",
       "                        <th id=\"T_488b1524_794b_11eb_8435_02420a39c81dlevel0_row16\" class=\"row_heading level0 row16\" >studio</th>\n",
       "                        <td id=\"T_488b1524_794b_11eb_8435_02420a39c81drow16_col0\" class=\"data row16 col0\" >0</td>\n",
       "                        <td id=\"T_488b1524_794b_11eb_8435_02420a39c81drow16_col1\" class=\"data row16 col1\" >0</td>\n",
       "            </tr>\n",
       "            <tr>\n",
       "                        <th id=\"T_488b1524_794b_11eb_8435_02420a39c81dlevel0_row17\" class=\"row_heading level0 row17\" >floor</th>\n",
       "                        <td id=\"T_488b1524_794b_11eb_8435_02420a39c81drow17_col0\" class=\"data row17 col0\" >0</td>\n",
       "                        <td id=\"T_488b1524_794b_11eb_8435_02420a39c81drow17_col1\" class=\"data row17 col1\" >0</td>\n",
       "            </tr>\n",
       "            <tr>\n",
       "                        <th id=\"T_488b1524_794b_11eb_8435_02420a39c81dlevel0_row18\" class=\"row_heading level0 row18\" >rooms</th>\n",
       "                        <td id=\"T_488b1524_794b_11eb_8435_02420a39c81drow18_col0\" class=\"data row18 col0\" >0</td>\n",
       "                        <td id=\"T_488b1524_794b_11eb_8435_02420a39c81drow18_col1\" class=\"data row18 col1\" >0</td>\n",
       "            </tr>\n",
       "            <tr>\n",
       "                        <th id=\"T_488b1524_794b_11eb_8435_02420a39c81dlevel0_row19\" class=\"row_heading level0 row19\" >first_day_exposition</th>\n",
       "                        <td id=\"T_488b1524_794b_11eb_8435_02420a39c81drow19_col0\" class=\"data row19 col0\" >0</td>\n",
       "                        <td id=\"T_488b1524_794b_11eb_8435_02420a39c81drow19_col1\" class=\"data row19 col1\" >0</td>\n",
       "            </tr>\n",
       "            <tr>\n",
       "                        <th id=\"T_488b1524_794b_11eb_8435_02420a39c81dlevel0_row20\" class=\"row_heading level0 row20\" >total_area</th>\n",
       "                        <td id=\"T_488b1524_794b_11eb_8435_02420a39c81drow20_col0\" class=\"data row20 col0\" >0</td>\n",
       "                        <td id=\"T_488b1524_794b_11eb_8435_02420a39c81drow20_col1\" class=\"data row20 col1\" >0</td>\n",
       "            </tr>\n",
       "            <tr>\n",
       "                        <th id=\"T_488b1524_794b_11eb_8435_02420a39c81dlevel0_row21\" class=\"row_heading level0 row21\" >open_plan</th>\n",
       "                        <td id=\"T_488b1524_794b_11eb_8435_02420a39c81drow21_col0\" class=\"data row21 col0\" >0</td>\n",
       "                        <td id=\"T_488b1524_794b_11eb_8435_02420a39c81drow21_col1\" class=\"data row21 col1\" >0</td>\n",
       "            </tr>\n",
       "    </tbody></table>"
      ],
      "text/plain": [
       "<pandas.io.formats.style.Styler at 0x7fa4a316f250>"
      ]
     },
     "execution_count": 232,
     "metadata": {},
     "output_type": "execute_result"
    }
   ],
   "source": [
    "(df.isnull().sum().to_frame('Nan-count')\n",
    " .join((df.isnull().sum()/len(df)*100).to_frame('NaN, %').round(2))\n",
    " .sort_values(by='NaN, %', ascending=False)\n",
    " .style.set_caption('Данные о NaN')\n",
    ")"
   ]
  },
  {
   "cell_type": "markdown",
   "metadata": {},
   "source": [
    "<hr style=\"border: 1px solid #000;\"> "
   ]
  },
  {
   "cell_type": "code",
   "execution_count": 233,
   "metadata": {},
   "outputs": [
    {
     "data": {
      "text/html": [
       "<div>\n",
       "<style scoped>\n",
       "    .dataframe tbody tr th:only-of-type {\n",
       "        vertical-align: middle;\n",
       "    }\n",
       "\n",
       "    .dataframe tbody tr th {\n",
       "        vertical-align: top;\n",
       "    }\n",
       "\n",
       "    .dataframe thead th {\n",
       "        text-align: right;\n",
       "    }\n",
       "</style>\n",
       "<table border=\"1\" class=\"dataframe\">\n",
       "  <thead>\n",
       "    <tr style=\"text-align: right;\">\n",
       "      <th></th>\n",
       "      <th>total_images</th>\n",
       "      <th>last_price</th>\n",
       "      <th>total_area</th>\n",
       "      <th>rooms</th>\n",
       "      <th>ceiling_height</th>\n",
       "      <th>floors_total</th>\n",
       "      <th>living_area</th>\n",
       "      <th>floor</th>\n",
       "      <th>kitchen_area</th>\n",
       "      <th>balcony</th>\n",
       "      <th>airports_nearest</th>\n",
       "      <th>cityCenters_nearest</th>\n",
       "      <th>parks_around3000</th>\n",
       "      <th>parks_nearest</th>\n",
       "      <th>ponds_around3000</th>\n",
       "      <th>ponds_nearest</th>\n",
       "      <th>days_exposition</th>\n",
       "    </tr>\n",
       "  </thead>\n",
       "  <tbody>\n",
       "    <tr>\n",
       "      <td>count</td>\n",
       "      <td>23699.000000</td>\n",
       "      <td>2.369900e+04</td>\n",
       "      <td>23699.000000</td>\n",
       "      <td>23699.000000</td>\n",
       "      <td>14504.000000</td>\n",
       "      <td>23613.000000</td>\n",
       "      <td>21796.000000</td>\n",
       "      <td>23699.000000</td>\n",
       "      <td>21421.000000</td>\n",
       "      <td>12180.000000</td>\n",
       "      <td>18157.000000</td>\n",
       "      <td>18180.000000</td>\n",
       "      <td>18181.000000</td>\n",
       "      <td>8079.000000</td>\n",
       "      <td>18181.000000</td>\n",
       "      <td>9110.000000</td>\n",
       "      <td>20518.000000</td>\n",
       "    </tr>\n",
       "    <tr>\n",
       "      <td>mean</td>\n",
       "      <td>9.858475</td>\n",
       "      <td>6.541549e+06</td>\n",
       "      <td>60.348651</td>\n",
       "      <td>2.070636</td>\n",
       "      <td>2.771499</td>\n",
       "      <td>10.673824</td>\n",
       "      <td>34.457852</td>\n",
       "      <td>5.892358</td>\n",
       "      <td>10.569807</td>\n",
       "      <td>1.150082</td>\n",
       "      <td>28793.672193</td>\n",
       "      <td>14191.277833</td>\n",
       "      <td>0.611408</td>\n",
       "      <td>490.804555</td>\n",
       "      <td>0.770255</td>\n",
       "      <td>517.980900</td>\n",
       "      <td>180.888634</td>\n",
       "    </tr>\n",
       "    <tr>\n",
       "      <td>std</td>\n",
       "      <td>5.682529</td>\n",
       "      <td>1.088701e+07</td>\n",
       "      <td>35.654083</td>\n",
       "      <td>1.078405</td>\n",
       "      <td>1.261056</td>\n",
       "      <td>6.597173</td>\n",
       "      <td>22.030445</td>\n",
       "      <td>4.885249</td>\n",
       "      <td>5.905438</td>\n",
       "      <td>1.071300</td>\n",
       "      <td>12630.880622</td>\n",
       "      <td>8608.386210</td>\n",
       "      <td>0.802074</td>\n",
       "      <td>342.317995</td>\n",
       "      <td>0.938346</td>\n",
       "      <td>277.720643</td>\n",
       "      <td>219.727988</td>\n",
       "    </tr>\n",
       "    <tr>\n",
       "      <td>min</td>\n",
       "      <td>0.000000</td>\n",
       "      <td>1.219000e+04</td>\n",
       "      <td>12.000000</td>\n",
       "      <td>0.000000</td>\n",
       "      <td>1.000000</td>\n",
       "      <td>1.000000</td>\n",
       "      <td>2.000000</td>\n",
       "      <td>1.000000</td>\n",
       "      <td>1.300000</td>\n",
       "      <td>0.000000</td>\n",
       "      <td>0.000000</td>\n",
       "      <td>181.000000</td>\n",
       "      <td>0.000000</td>\n",
       "      <td>1.000000</td>\n",
       "      <td>0.000000</td>\n",
       "      <td>13.000000</td>\n",
       "      <td>1.000000</td>\n",
       "    </tr>\n",
       "    <tr>\n",
       "      <td>25%</td>\n",
       "      <td>6.000000</td>\n",
       "      <td>3.400000e+06</td>\n",
       "      <td>40.000000</td>\n",
       "      <td>1.000000</td>\n",
       "      <td>2.520000</td>\n",
       "      <td>5.000000</td>\n",
       "      <td>18.600000</td>\n",
       "      <td>2.000000</td>\n",
       "      <td>7.000000</td>\n",
       "      <td>0.000000</td>\n",
       "      <td>18585.000000</td>\n",
       "      <td>9238.000000</td>\n",
       "      <td>0.000000</td>\n",
       "      <td>288.000000</td>\n",
       "      <td>0.000000</td>\n",
       "      <td>294.000000</td>\n",
       "      <td>45.000000</td>\n",
       "    </tr>\n",
       "    <tr>\n",
       "      <td>50%</td>\n",
       "      <td>9.000000</td>\n",
       "      <td>4.650000e+06</td>\n",
       "      <td>52.000000</td>\n",
       "      <td>2.000000</td>\n",
       "      <td>2.650000</td>\n",
       "      <td>9.000000</td>\n",
       "      <td>30.000000</td>\n",
       "      <td>4.000000</td>\n",
       "      <td>9.100000</td>\n",
       "      <td>1.000000</td>\n",
       "      <td>26726.000000</td>\n",
       "      <td>13098.500000</td>\n",
       "      <td>0.000000</td>\n",
       "      <td>455.000000</td>\n",
       "      <td>1.000000</td>\n",
       "      <td>502.000000</td>\n",
       "      <td>95.000000</td>\n",
       "    </tr>\n",
       "    <tr>\n",
       "      <td>75%</td>\n",
       "      <td>14.000000</td>\n",
       "      <td>6.800000e+06</td>\n",
       "      <td>69.900000</td>\n",
       "      <td>3.000000</td>\n",
       "      <td>2.800000</td>\n",
       "      <td>16.000000</td>\n",
       "      <td>42.300000</td>\n",
       "      <td>8.000000</td>\n",
       "      <td>12.000000</td>\n",
       "      <td>2.000000</td>\n",
       "      <td>37273.000000</td>\n",
       "      <td>16293.000000</td>\n",
       "      <td>1.000000</td>\n",
       "      <td>612.000000</td>\n",
       "      <td>1.000000</td>\n",
       "      <td>729.000000</td>\n",
       "      <td>232.000000</td>\n",
       "    </tr>\n",
       "    <tr>\n",
       "      <td>max</td>\n",
       "      <td>50.000000</td>\n",
       "      <td>7.630000e+08</td>\n",
       "      <td>900.000000</td>\n",
       "      <td>19.000000</td>\n",
       "      <td>100.000000</td>\n",
       "      <td>60.000000</td>\n",
       "      <td>409.700000</td>\n",
       "      <td>33.000000</td>\n",
       "      <td>112.000000</td>\n",
       "      <td>5.000000</td>\n",
       "      <td>84869.000000</td>\n",
       "      <td>65968.000000</td>\n",
       "      <td>3.000000</td>\n",
       "      <td>3190.000000</td>\n",
       "      <td>3.000000</td>\n",
       "      <td>1344.000000</td>\n",
       "      <td>1580.000000</td>\n",
       "    </tr>\n",
       "  </tbody>\n",
       "</table>\n",
       "</div>"
      ],
      "text/plain": [
       "       total_images    last_price    total_area         rooms  ceiling_height  \\\n",
       "count  23699.000000  2.369900e+04  23699.000000  23699.000000    14504.000000   \n",
       "mean       9.858475  6.541549e+06     60.348651      2.070636        2.771499   \n",
       "std        5.682529  1.088701e+07     35.654083      1.078405        1.261056   \n",
       "min        0.000000  1.219000e+04     12.000000      0.000000        1.000000   \n",
       "25%        6.000000  3.400000e+06     40.000000      1.000000        2.520000   \n",
       "50%        9.000000  4.650000e+06     52.000000      2.000000        2.650000   \n",
       "75%       14.000000  6.800000e+06     69.900000      3.000000        2.800000   \n",
       "max       50.000000  7.630000e+08    900.000000     19.000000      100.000000   \n",
       "\n",
       "       floors_total   living_area         floor  kitchen_area       balcony  \\\n",
       "count  23613.000000  21796.000000  23699.000000  21421.000000  12180.000000   \n",
       "mean      10.673824     34.457852      5.892358     10.569807      1.150082   \n",
       "std        6.597173     22.030445      4.885249      5.905438      1.071300   \n",
       "min        1.000000      2.000000      1.000000      1.300000      0.000000   \n",
       "25%        5.000000     18.600000      2.000000      7.000000      0.000000   \n",
       "50%        9.000000     30.000000      4.000000      9.100000      1.000000   \n",
       "75%       16.000000     42.300000      8.000000     12.000000      2.000000   \n",
       "max       60.000000    409.700000     33.000000    112.000000      5.000000   \n",
       "\n",
       "       airports_nearest  cityCenters_nearest  parks_around3000  parks_nearest  \\\n",
       "count      18157.000000         18180.000000      18181.000000    8079.000000   \n",
       "mean       28793.672193         14191.277833          0.611408     490.804555   \n",
       "std        12630.880622          8608.386210          0.802074     342.317995   \n",
       "min            0.000000           181.000000          0.000000       1.000000   \n",
       "25%        18585.000000          9238.000000          0.000000     288.000000   \n",
       "50%        26726.000000         13098.500000          0.000000     455.000000   \n",
       "75%        37273.000000         16293.000000          1.000000     612.000000   \n",
       "max        84869.000000         65968.000000          3.000000    3190.000000   \n",
       "\n",
       "       ponds_around3000  ponds_nearest  days_exposition  \n",
       "count      18181.000000    9110.000000     20518.000000  \n",
       "mean           0.770255     517.980900       180.888634  \n",
       "std            0.938346     277.720643       219.727988  \n",
       "min            0.000000      13.000000         1.000000  \n",
       "25%            0.000000     294.000000        45.000000  \n",
       "50%            1.000000     502.000000        95.000000  \n",
       "75%            1.000000     729.000000       232.000000  \n",
       "max            3.000000    1344.000000      1580.000000  "
      ]
     },
     "execution_count": 233,
     "metadata": {},
     "output_type": "execute_result"
    }
   ],
   "source": [
    "#смотрю отклонения\n",
    "df.describe()"
   ]
  },
  {
   "cell_type": "code",
   "execution_count": 234,
   "metadata": {},
   "outputs": [
    {
     "data": {
      "text/plain": [
       "0"
      ]
     },
     "execution_count": 234,
     "metadata": {},
     "output_type": "execute_result"
    }
   ],
   "source": [
    "# смотрю дубликаты\n",
    "df.duplicated().sum()"
   ]
  },
  {
   "cell_type": "markdown",
   "metadata": {},
   "source": [
    "Вывод по предобработке: <a name=\"1.1\"></a><br/>\n",
    "[<font size=\"2\">(к содержанию)</font>](#to_content.)"
   ]
  },
  {
   "cell_type": "markdown",
   "metadata": {},
   "source": [
    "1. Есть пропуски в столбцах: 'ceiling_height', 'is_apartment', 'kitchen_area', 'balcony', 'locality_name', 'airports_nearest', 'cityCenters_nearest', 'parks_around3000', 'parks_nearest', 'ponds_around3000', 'ponds_nearest', 'days_exposition'.\n",
    "2. В столбце 'image' есть строки с нулевым значением, то есть без фото.\n",
    "3. Нужно изменить тип данных в столбцах: 'floors_total', 'is_apartment', 'balcony', 'days_exposition ', 'parks_around3000', 'ponds_around3000'\n",
    "4. Дубликатов нет\n",
    "5. Нужно изменить названия столбцов \n"
   ]
  },
  {
   "cell_type": "markdown",
   "metadata": {},
   "source": [
    "<hr style=\"border: 1px solid #000;\"> \n",
    "\n",
    "<div class=\"alert alert-success\">\n",
    "<strong><font size=5>Комментарий от ревьюера</font></strong><br/>\n",
    "    \n",
    "План хороший.\n",
    "    \n",
    "</div>\n",
    "<hr style=\"border: 1px solid #000;\"> "
   ]
  },
  {
   "cell_type": "markdown",
   "metadata": {},
   "source": [
    "## Заполнение пропусков\n",
    "<a name=\"2.\"></a><br/>[<font size=\"2\">(к содержанию)</font>](#to_content.)"
   ]
  },
  {
   "cell_type": "markdown",
   "metadata": {},
   "source": [
    "Изменение названий столбцов\n",
    "<a name=\"2.1\"></a>"
   ]
  },
  {
   "cell_type": "code",
   "execution_count": 235,
   "metadata": {},
   "outputs": [],
   "source": [
    "#переименовываю столбцы\n",
    "df = df.rename(columns={'cityCenters_nearest': 'to_center',\n",
    "                       'airports_nearest': 'to_airport',\n",
    "                       'parks_around3000':'parks_3km',\n",
    "                       'ponds_around3000':'ponds_3km',\n",
    "                       'first_day_exposition': 'pub_date',\n",
    "                       'days_exposition': 'pub_days',\n",
    "                       'is_apartment':'apartment',\n",
    "                       'total_images':'images',\n",
    "                       'locality_name':'town',\n",
    "                       'last_price':'price',\n",
    "                       'floors_total':'total_floors'})"
   ]
  },
  {
   "cell_type": "markdown",
   "metadata": {},
   "source": [
    "<hr style=\"border: 1px solid #000;\"> \n",
    "\n",
    "<div class=\"alert alert-success\">\n",
    "<strong><font size=5>Комментарий от ревьюера</font></strong><br/>\n",
    "    \n",
    "Согласен, с такими названиями будет работать намного удобней. И сами по себе они более ясные.\n",
    "    \n",
    "</div>\n",
    "<hr style=\"border: 1px solid #000;\"> "
   ]
  },
  {
   "cell_type": "code",
   "execution_count": 236,
   "metadata": {},
   "outputs": [],
   "source": [
    "#пересортировываю таблицу для условного разделения по категориям\n",
    "df = df[[\n",
    " 'images',\n",
    " 'town',  \n",
    " 'total_area',\n",
    " 'living_area',\n",
    " 'kitchen_area',\n",
    " 'ceiling_height',\n",
    " 'rooms',\n",
    " 'balcony',\n",
    " 'floor',\n",
    " 'total_floors',\n",
    " 'apartment',\n",
    " 'studio',\n",
    " 'open_plan',\n",
    " 'price',\n",
    " 'pub_date',\n",
    " 'pub_days',\n",
    " 'to_center',\n",
    " 'to_airport',\n",
    " 'parks_3km',\n",
    " 'parks_nearest',\n",
    " 'ponds_3km',\n",
    " 'ponds_nearest'\n",
    "]]"
   ]
  },
  {
   "cell_type": "code",
   "execution_count": 237,
   "metadata": {},
   "outputs": [
    {
     "data": {
      "text/html": [
       "<div>\n",
       "<style scoped>\n",
       "    .dataframe tbody tr th:only-of-type {\n",
       "        vertical-align: middle;\n",
       "    }\n",
       "\n",
       "    .dataframe tbody tr th {\n",
       "        vertical-align: top;\n",
       "    }\n",
       "\n",
       "    .dataframe thead th {\n",
       "        text-align: right;\n",
       "    }\n",
       "</style>\n",
       "<table border=\"1\" class=\"dataframe\">\n",
       "  <thead>\n",
       "    <tr style=\"text-align: right;\">\n",
       "      <th></th>\n",
       "      <th>images</th>\n",
       "      <th>town</th>\n",
       "      <th>total_area</th>\n",
       "      <th>living_area</th>\n",
       "      <th>kitchen_area</th>\n",
       "      <th>ceiling_height</th>\n",
       "      <th>rooms</th>\n",
       "      <th>balcony</th>\n",
       "      <th>floor</th>\n",
       "      <th>total_floors</th>\n",
       "      <th>apartment</th>\n",
       "      <th>studio</th>\n",
       "      <th>open_plan</th>\n",
       "      <th>price</th>\n",
       "      <th>pub_date</th>\n",
       "      <th>pub_days</th>\n",
       "      <th>to_center</th>\n",
       "      <th>to_airport</th>\n",
       "      <th>parks_3km</th>\n",
       "      <th>parks_nearest</th>\n",
       "      <th>ponds_3km</th>\n",
       "      <th>ponds_nearest</th>\n",
       "    </tr>\n",
       "  </thead>\n",
       "  <tbody>\n",
       "    <tr>\n",
       "      <td>0</td>\n",
       "      <td>20</td>\n",
       "      <td>Санкт-Петербург</td>\n",
       "      <td>108.0</td>\n",
       "      <td>51.0</td>\n",
       "      <td>25.0</td>\n",
       "      <td>2.70</td>\n",
       "      <td>3</td>\n",
       "      <td>NaN</td>\n",
       "      <td>8</td>\n",
       "      <td>16.0</td>\n",
       "      <td>NaN</td>\n",
       "      <td>False</td>\n",
       "      <td>False</td>\n",
       "      <td>13000000.0</td>\n",
       "      <td>2019-03-07T00:00:00</td>\n",
       "      <td>NaN</td>\n",
       "      <td>16028.0</td>\n",
       "      <td>18863.0</td>\n",
       "      <td>1.0</td>\n",
       "      <td>482.0</td>\n",
       "      <td>2.0</td>\n",
       "      <td>755.0</td>\n",
       "    </tr>\n",
       "    <tr>\n",
       "      <td>1</td>\n",
       "      <td>7</td>\n",
       "      <td>посёлок Шушары</td>\n",
       "      <td>40.4</td>\n",
       "      <td>18.6</td>\n",
       "      <td>11.0</td>\n",
       "      <td>NaN</td>\n",
       "      <td>1</td>\n",
       "      <td>2.0</td>\n",
       "      <td>1</td>\n",
       "      <td>11.0</td>\n",
       "      <td>NaN</td>\n",
       "      <td>False</td>\n",
       "      <td>False</td>\n",
       "      <td>3350000.0</td>\n",
       "      <td>2018-12-04T00:00:00</td>\n",
       "      <td>81.0</td>\n",
       "      <td>18603.0</td>\n",
       "      <td>12817.0</td>\n",
       "      <td>0.0</td>\n",
       "      <td>NaN</td>\n",
       "      <td>0.0</td>\n",
       "      <td>NaN</td>\n",
       "    </tr>\n",
       "    <tr>\n",
       "      <td>2</td>\n",
       "      <td>10</td>\n",
       "      <td>Санкт-Петербург</td>\n",
       "      <td>56.0</td>\n",
       "      <td>34.3</td>\n",
       "      <td>8.3</td>\n",
       "      <td>NaN</td>\n",
       "      <td>2</td>\n",
       "      <td>0.0</td>\n",
       "      <td>4</td>\n",
       "      <td>5.0</td>\n",
       "      <td>NaN</td>\n",
       "      <td>False</td>\n",
       "      <td>False</td>\n",
       "      <td>5196000.0</td>\n",
       "      <td>2015-08-20T00:00:00</td>\n",
       "      <td>558.0</td>\n",
       "      <td>13933.0</td>\n",
       "      <td>21741.0</td>\n",
       "      <td>1.0</td>\n",
       "      <td>90.0</td>\n",
       "      <td>2.0</td>\n",
       "      <td>574.0</td>\n",
       "    </tr>\n",
       "    <tr>\n",
       "      <td>3</td>\n",
       "      <td>0</td>\n",
       "      <td>Санкт-Петербург</td>\n",
       "      <td>159.0</td>\n",
       "      <td>NaN</td>\n",
       "      <td>NaN</td>\n",
       "      <td>NaN</td>\n",
       "      <td>3</td>\n",
       "      <td>0.0</td>\n",
       "      <td>9</td>\n",
       "      <td>14.0</td>\n",
       "      <td>NaN</td>\n",
       "      <td>False</td>\n",
       "      <td>False</td>\n",
       "      <td>64900000.0</td>\n",
       "      <td>2015-07-24T00:00:00</td>\n",
       "      <td>424.0</td>\n",
       "      <td>6800.0</td>\n",
       "      <td>28098.0</td>\n",
       "      <td>2.0</td>\n",
       "      <td>84.0</td>\n",
       "      <td>3.0</td>\n",
       "      <td>234.0</td>\n",
       "    </tr>\n",
       "    <tr>\n",
       "      <td>4</td>\n",
       "      <td>2</td>\n",
       "      <td>Санкт-Петербург</td>\n",
       "      <td>100.0</td>\n",
       "      <td>32.0</td>\n",
       "      <td>41.0</td>\n",
       "      <td>3.03</td>\n",
       "      <td>2</td>\n",
       "      <td>NaN</td>\n",
       "      <td>13</td>\n",
       "      <td>14.0</td>\n",
       "      <td>NaN</td>\n",
       "      <td>False</td>\n",
       "      <td>False</td>\n",
       "      <td>10000000.0</td>\n",
       "      <td>2018-06-19T00:00:00</td>\n",
       "      <td>121.0</td>\n",
       "      <td>8098.0</td>\n",
       "      <td>31856.0</td>\n",
       "      <td>2.0</td>\n",
       "      <td>112.0</td>\n",
       "      <td>1.0</td>\n",
       "      <td>48.0</td>\n",
       "    </tr>\n",
       "  </tbody>\n",
       "</table>\n",
       "</div>"
      ],
      "text/plain": [
       "   images             town  total_area  living_area  kitchen_area  \\\n",
       "0      20  Санкт-Петербург       108.0         51.0          25.0   \n",
       "1       7   посёлок Шушары        40.4         18.6          11.0   \n",
       "2      10  Санкт-Петербург        56.0         34.3           8.3   \n",
       "3       0  Санкт-Петербург       159.0          NaN           NaN   \n",
       "4       2  Санкт-Петербург       100.0         32.0          41.0   \n",
       "\n",
       "   ceiling_height  rooms  balcony  floor  total_floors apartment  studio  \\\n",
       "0            2.70      3      NaN      8          16.0       NaN   False   \n",
       "1             NaN      1      2.0      1          11.0       NaN   False   \n",
       "2             NaN      2      0.0      4           5.0       NaN   False   \n",
       "3             NaN      3      0.0      9          14.0       NaN   False   \n",
       "4            3.03      2      NaN     13          14.0       NaN   False   \n",
       "\n",
       "   open_plan       price             pub_date  pub_days  to_center  \\\n",
       "0      False  13000000.0  2019-03-07T00:00:00       NaN    16028.0   \n",
       "1      False   3350000.0  2018-12-04T00:00:00      81.0    18603.0   \n",
       "2      False   5196000.0  2015-08-20T00:00:00     558.0    13933.0   \n",
       "3      False  64900000.0  2015-07-24T00:00:00     424.0     6800.0   \n",
       "4      False  10000000.0  2018-06-19T00:00:00     121.0     8098.0   \n",
       "\n",
       "   to_airport  parks_3km  parks_nearest  ponds_3km  ponds_nearest  \n",
       "0     18863.0        1.0          482.0        2.0          755.0  \n",
       "1     12817.0        0.0            NaN        0.0            NaN  \n",
       "2     21741.0        1.0           90.0        2.0          574.0  \n",
       "3     28098.0        2.0           84.0        3.0          234.0  \n",
       "4     31856.0        2.0          112.0        1.0           48.0  "
      ]
     },
     "execution_count": 237,
     "metadata": {},
     "output_type": "execute_result"
    }
   ],
   "source": [
    "#теперь таблица имеет такой вид\n",
    "df.head()"
   ]
  },
  {
   "cell_type": "code",
   "execution_count": 238,
   "metadata": {},
   "outputs": [
    {
     "data": {
      "text/plain": [
       "images                0\n",
       "town                 49\n",
       "total_area            0\n",
       "living_area        1903\n",
       "kitchen_area       2278\n",
       "ceiling_height     9195\n",
       "rooms                 0\n",
       "balcony           11519\n",
       "floor                 0\n",
       "total_floors         86\n",
       "apartment         20924\n",
       "studio                0\n",
       "open_plan             0\n",
       "price                 0\n",
       "pub_date              0\n",
       "pub_days           3181\n",
       "to_center          5519\n",
       "to_airport         5542\n",
       "parks_3km          5518\n",
       "parks_nearest     15620\n",
       "ponds_3km          5518\n",
       "ponds_nearest     14589\n",
       "dtype: int64"
      ]
     },
     "execution_count": 238,
     "metadata": {},
     "output_type": "execute_result"
    }
   ],
   "source": [
    "#ещё раз вывожу пропуски \n",
    "df.isna().sum()"
   ]
  },
  {
   "cell_type": "markdown",
   "metadata": {},
   "source": [
    "town <a name=\"2.2\"></a>"
   ]
  },
  {
   "cell_type": "code",
   "execution_count": 239,
   "metadata": {},
   "outputs": [],
   "source": [
    "# я удаляю строки с пропусками в названии города, так как их всего 49 и это не влияет на качество данных \n",
    "#и такие данные не интересны(неизвесто, где находится квартира)\n",
    "df = df.dropna(subset=['town']).reset_index(drop = True)\n"
   ]
  },
  {
   "cell_type": "markdown",
   "metadata": {},
   "source": [
    "<hr style=\"border: 1px solid #000;\"> \n",
    "\n",
    "<div class=\"alert alert-success\">\n",
    "<strong><font size=5>Комментарий от ревьюера</font></strong><br/>\n",
    "    \n",
    "Согласен, решение оправдано.\n",
    "    \n",
    "</div>\n",
    "<hr style=\"border: 1px solid #000;\"> "
   ]
  },
  {
   "cell_type": "code",
   "execution_count": 240,
   "metadata": {},
   "outputs": [
    {
     "data": {
      "text/plain": [
       "0"
      ]
     },
     "execution_count": 240,
     "metadata": {},
     "output_type": "execute_result"
    }
   ],
   "source": [
    "#проверяю\n",
    "df['town'].isnull().sum()"
   ]
  },
  {
   "cell_type": "markdown",
   "metadata": {},
   "source": [
    "balcony<a name=\"2.3\"></a>"
   ]
  },
  {
   "cell_type": "code",
   "execution_count": 241,
   "metadata": {},
   "outputs": [],
   "source": [
    "#заполняю пропуски в 'balcony'\n",
    "df['balcony'] = df['balcony'].fillna(0)"
   ]
  },
  {
   "cell_type": "code",
   "execution_count": 242,
   "metadata": {},
   "outputs": [],
   "source": [
    "df['balcony'] = df['balcony'].astype(int)"
   ]
  },
  {
   "cell_type": "code",
   "execution_count": 243,
   "metadata": {},
   "outputs": [
    {
     "data": {
      "text/plain": [
       "0"
      ]
     },
     "execution_count": 243,
     "metadata": {},
     "output_type": "execute_result"
    }
   ],
   "source": [
    "#проверяю\n",
    "df['balcony'].isnull().sum()"
   ]
  },
  {
   "cell_type": "markdown",
   "metadata": {},
   "source": [
    "ceiling_height\n",
    "<a name=\"2.4\"></a><br/>"
   ]
  },
  {
   "cell_type": "code",
   "execution_count": 244,
   "metadata": {},
   "outputs": [],
   "source": [
    "#перевожу значение 'to_center' в километры\n",
    "df['to_center']=(df['to_center']/1000).round(0)"
   ]
  },
  {
   "cell_type": "code",
   "execution_count": 245,
   "metadata": {},
   "outputs": [
    {
     "data": {
      "text/plain": [
       "to_center\n",
       "0.0     3.350\n",
       "1.0     3.200\n",
       "2.0     3.200\n",
       "3.0     3.200\n",
       "4.0     3.050\n",
       "        ...  \n",
       "61.0    2.550\n",
       "62.0    2.500\n",
       "63.0    2.550\n",
       "65.0    2.525\n",
       "66.0    2.500\n",
       "Name: ceiling_height, Length: 61, dtype: float64"
      ]
     },
     "execution_count": 245,
     "metadata": {},
     "output_type": "execute_result"
    }
   ],
   "source": [
    "#заполняем пропуски в 'ceiling_height'\n",
    "#для этого делаю групировку высоты потолка по отдалению от центра \n",
    "pivot_median_ceiling_height = df.groupby('to_center')['ceiling_height'].median()\n",
    "pivot_median_ceiling_height"
   ]
  },
  {
   "cell_type": "code",
   "execution_count": 246,
   "metadata": {},
   "outputs": [
    {
     "data": {
      "text/plain": [
       "<matplotlib.axes._subplots.AxesSubplot at 0x7fa4a315a4d0>"
      ]
     },
     "execution_count": 246,
     "metadata": {},
     "output_type": "execute_result"
    },
    {
     "data": {
      "image/png": "[encoded data removed]",
      "text/plain": [
       "<Figure size 432x288 with 1 Axes>"
      ]
     },
     "metadata": {
      "needs_background": "light"
     },
     "output_type": "display_data"
    }
   ],
   "source": [
    "#для этого я разделяю таблицу на 4 катягории в зависимости от удаления от центра\n",
    "pivot_median_ceiling_height.plot()"
   ]
  },
  {
   "cell_type": "code",
   "execution_count": 247,
   "metadata": {},
   "outputs": [],
   "source": [
    "#пишу функцию зависимости названия от удаления от центра\n",
    "def divide_by_km (km):\n",
    "  if 0 <= km <= 2:\n",
    "    return 'центр'\n",
    "  elif 3 <= km <= 5: \n",
    "    return 'центр2'\n",
    "  elif 6 <= km <= 10:\n",
    "    return 'кад'\n",
    "  else:\n",
    "    return 'область'"
   ]
  },
  {
   "cell_type": "code",
   "execution_count": 248,
   "metadata": {},
   "outputs": [],
   "source": [
    "#добавляю столбец в таблицу\n",
    "df['local'] = df['to_center'].apply(divide_by_km)"
   ]
  },
  {
   "cell_type": "code",
   "execution_count": 249,
   "metadata": {},
   "outputs": [
    {
     "data": {
      "text/plain": [
       "array(['область', 'кад', 'центр', 'центр2'], dtype=object)"
      ]
     },
     "execution_count": 249,
     "metadata": {},
     "output_type": "execute_result"
    }
   ],
   "source": [
    "#проверяю\n",
    "df.head()\n",
    "df['local'].unique()"
   ]
  },
  {
   "cell_type": "code",
   "execution_count": 250,
   "metadata": {},
   "outputs": [
    {
     "data": {
      "text/plain": [
       "local\n",
       "кад        2.78\n",
       "область    2.60\n",
       "центр      3.20\n",
       "центр2     3.04\n",
       "Name: ceiling_height, dtype: float64"
      ]
     },
     "execution_count": 250,
     "metadata": {},
     "output_type": "execute_result"
    }
   ],
   "source": [
    "#делаю группировку зависимости высоты потолка от района\n",
    "pivot_median_ceiling_height1 = df.groupby('local')['ceiling_height'].median()\n",
    "pivot_median_ceiling_height1 "
   ]
  },
  {
   "cell_type": "markdown",
   "metadata": {},
   "source": [
    "<hr style=\"border: 1px solid #000;\"> \n",
    "\n",
    "<div class=\"alert alert-success\">\n",
    "<strong><font size=5>Комментарий от ревьюера</font></strong><br/>\n",
    "    \n",
    "Тут прямо видно, что медианная высота потолка в зависимости от удаления от центра существенно отличается.\n",
    "    \n",
    "</div>\n",
    "<hr style=\"border: 1px solid #000;\"> "
   ]
  },
  {
   "cell_type": "code",
   "execution_count": 251,
   "metadata": {},
   "outputs": [],
   "source": [
    "#заполняю пропуски медианными значениями в зависимости от района\n",
    "df['ceiling_height'] = df.groupby('local')['ceiling_height'].transform(lambda x : x.fillna(x.median()))"
   ]
  },
  {
   "cell_type": "code",
   "execution_count": 252,
   "metadata": {},
   "outputs": [
    {
     "data": {
      "text/plain": [
       "0"
      ]
     },
     "execution_count": 252,
     "metadata": {},
     "output_type": "execute_result"
    }
   ],
   "source": [
    "#провеяю количество пропусков \n",
    "df['ceiling_height'].isna().sum()"
   ]
  },
  {
   "cell_type": "markdown",
   "metadata": {},
   "source": [
    "total_floors\n",
    "<a name=\"2.5\"></a><br/>"
   ]
  },
  {
   "cell_type": "code",
   "execution_count": 253,
   "metadata": {},
   "outputs": [
    {
     "data": {
      "text/plain": [
       "to_center\n",
       "0.0     5.0\n",
       "1.0     5.0\n",
       "2.0     5.0\n",
       "3.0     5.0\n",
       "4.0     5.0\n",
       "       ... \n",
       "61.0    5.0\n",
       "62.0    3.0\n",
       "63.0    3.0\n",
       "65.0    4.0\n",
       "66.0    5.0\n",
       "Name: total_floors, Length: 61, dtype: float64"
      ]
     },
     "execution_count": 253,
     "metadata": {},
     "output_type": "execute_result"
    }
   ],
   "source": [
    "#делаю по анологии с высотой потолков\n",
    "pivot_median_floors = df.groupby('to_center')['total_floors'].median()\n",
    "pivot_median_floors"
   ]
  },
  {
   "cell_type": "code",
   "execution_count": 254,
   "metadata": {},
   "outputs": [
    {
     "data": {
      "text/plain": [
       "<matplotlib.axes._subplots.AxesSubplot at 0x7fa4a31bc6d0>"
      ]
     },
     "execution_count": 254,
     "metadata": {},
     "output_type": "execute_result"
    },
    {
     "data": {
      "image/png": "[encoded data removed]",
      "text/plain": [
       "<Figure size 432x288 with 1 Axes>"
      ]
     },
     "metadata": {
      "needs_background": "light"
     },
     "output_type": "display_data"
    }
   ],
   "source": [
    "pivot_median_floors.plot()"
   ]
  },
  {
   "cell_type": "code",
   "execution_count": 255,
   "metadata": {},
   "outputs": [],
   "source": [
    "def divide_by_km_floors (km_f):\n",
    "  if 0 <= km_f <= 12:\n",
    "    return 'первое'\n",
    "  elif 12 <= km_f <= 18: \n",
    "    return 'второе'\n",
    "  elif 18 <= km_f <= 25:\n",
    "    return 'третье'\n",
    "  else:\n",
    "    return 'все остальное'"
   ]
  },
  {
   "cell_type": "code",
   "execution_count": 256,
   "metadata": {},
   "outputs": [],
   "source": [
    "df['local_f'] = df['to_center'].apply(divide_by_km_floors)"
   ]
  },
  {
   "cell_type": "code",
   "execution_count": 257,
   "metadata": {},
   "outputs": [
    {
     "data": {
      "text/plain": [
       "array(['второе', 'третье', 'первое', 'все остальное'], dtype=object)"
      ]
     },
     "execution_count": 257,
     "metadata": {},
     "output_type": "execute_result"
    }
   ],
   "source": [
    "df.head()\n",
    "df['local_f'].unique()"
   ]
  },
  {
   "cell_type": "code",
   "execution_count": 258,
   "metadata": {},
   "outputs": [
    {
     "data": {
      "text/plain": [
       "local_f\n",
       "все остальное     5.0\n",
       "второе           12.0\n",
       "первое            8.0\n",
       "третье           16.0\n",
       "Name: total_floors, dtype: float64"
      ]
     },
     "execution_count": 258,
     "metadata": {},
     "output_type": "execute_result"
    }
   ],
   "source": [
    "pivot_median_f = df.groupby('local_f')['total_floors'].median()\n",
    "pivot_median_f "
   ]
  },
  {
   "cell_type": "code",
   "execution_count": 259,
   "metadata": {},
   "outputs": [],
   "source": [
    "df['total_floors'] = df.groupby('local_f')['total_floors'].transform(lambda x : x.fillna(x.mode()[0]))"
   ]
  },
  {
   "cell_type": "code",
   "execution_count": 260,
   "metadata": {},
   "outputs": [
    {
     "data": {
      "text/plain": [
       "0"
      ]
     },
     "execution_count": 260,
     "metadata": {},
     "output_type": "execute_result"
    }
   ],
   "source": [
    "df['total_floors'].isna().sum()"
   ]
  },
  {
   "cell_type": "markdown",
   "metadata": {},
   "source": [
    "<hr style=\"border: 1px solid #000;\"> \n",
    "\n",
    "<div class=\"alert alert-danger\">\n",
    "<strong><font size=5>Комментарий от ревьюера</font></strong><br/>\n",
    "    \n",
    "Вот тут очень спорно - пятиэтажки спокойно можно найти в старых районах города, но нередки случаи, когда у нас не будет ни одной пятиэтажки в радиусе 5 километров в каком-нибудь из новых районов города на окраине. Тут можно последовать той же логике с разбиением по районам и там же сделать заполнение модой по удалённости от центра. Это было бы точнее. Я согласен, что строк всего 76, но раз уж высоту потолков сделали, то и это можно добавить одной дополнительной строкой.\n",
    "    \n",
    "</div>\n",
    "<hr style=\"border: 1px solid #000;\"> "
   ]
  },
  {
   "cell_type": "markdown",
   "metadata": {},
   "source": [
    "Исправил"
   ]
  },
  {
   "cell_type": "markdown",
   "metadata": {},
   "source": [
    "<hr style=\"border: 1px solid #000;\"> \n",
    "\n",
    "<div class=\"alert alert-success\">\n",
    "<strong><font size=5>Комментарий от ревьюера (v.2)</font></strong><br/>\n",
    "    \n",
    "Во, так у нас на выходе будет более точная картина.\n",
    "    \n",
    "</div>\n",
    "<hr style=\"border: 1px solid #000;\"> "
   ]
  },
  {
   "cell_type": "code",
   "execution_count": 261,
   "metadata": {},
   "outputs": [],
   "source": [
    "# этаж квартиры не может быть больше общего количетва этажей в доме\n",
    "# поэтому пишем функцию, которая говорит, что если номер этажа получился больше количества этажей в доме, то значит это последний этаж\n",
    "def floor_check(row):\n",
    "    return row['floor'] if row['floor'] > row['floors_total'] else row['floors_total']\n"
   ]
  },
  {
   "cell_type": "markdown",
   "metadata": {},
   "source": [
    "<hr style=\"border: 1px solid #000;\"> \n",
    "\n",
    "<div class=\"alert alert-success\">\n",
    "<strong><font size=5>Комментарий от ревьюера</font></strong><br/>\n",
    "    \n",
    "Да, это очень грамотная проверка. Данные должны быть причёсаны и во избежание локальных косяков по строкам такая обработка даст нам аккуратный результат.\n",
    "    \n",
    "</div>\n",
    "<hr style=\"border: 1px solid #000;\"> "
   ]
  },
  {
   "cell_type": "code",
   "execution_count": 262,
   "metadata": {},
   "outputs": [],
   "source": [
    "#меняю тип данных\n",
    "df['total_floors'] = df['total_floors'].astype(int)"
   ]
  },
  {
   "cell_type": "markdown",
   "metadata": {},
   "source": [
    "apartment\n",
    "<a name=\"2.6\"></a><br/>"
   ]
  },
  {
   "cell_type": "code",
   "execution_count": 263,
   "metadata": {},
   "outputs": [],
   "source": [
    "# заполняю пропуски в столбце с данными о типе жилья на False, так как предполагаю, что многие люди не знаю, что такое апартаменты\n",
    "df.apartment  = df.apartment .fillna(False)"
   ]
  },
  {
   "cell_type": "markdown",
   "metadata": {},
   "source": [
    "kitchen_area и living_area\n",
    "<a name=\"2.7\"></a><br/>"
   ]
  },
  {
   "cell_type": "code",
   "execution_count": 264,
   "metadata": {},
   "outputs": [],
   "source": [
    "#делаю фрейм из данных, которые связаны с размерами квартиры\n",
    "k_area = ['kitchen_area', 'living_area', 'total_area', 'rooms', 'open_plan', 'studio','apartment','balcony']"
   ]
  },
  {
   "cell_type": "code",
   "execution_count": 265,
   "metadata": {},
   "outputs": [
    {
     "data": {
      "text/html": [
       "<div>\n",
       "<style scoped>\n",
       "    .dataframe tbody tr th:only-of-type {\n",
       "        vertical-align: middle;\n",
       "    }\n",
       "\n",
       "    .dataframe tbody tr th {\n",
       "        vertical-align: top;\n",
       "    }\n",
       "\n",
       "    .dataframe thead th {\n",
       "        text-align: right;\n",
       "    }\n",
       "</style>\n",
       "<table border=\"1\" class=\"dataframe\">\n",
       "  <thead>\n",
       "    <tr style=\"text-align: right;\">\n",
       "      <th></th>\n",
       "      <th>kitchen_area</th>\n",
       "      <th>living_area</th>\n",
       "      <th>total_area</th>\n",
       "      <th>rooms</th>\n",
       "      <th>open_plan</th>\n",
       "      <th>studio</th>\n",
       "      <th>apartment</th>\n",
       "      <th>balcony</th>\n",
       "    </tr>\n",
       "  </thead>\n",
       "  <tbody>\n",
       "    <tr>\n",
       "      <td>kitchen_area</td>\n",
       "      <td>1.000000</td>\n",
       "      <td>0.428773</td>\n",
       "      <td>0.608879</td>\n",
       "      <td>0.270585</td>\n",
       "      <td>NaN</td>\n",
       "      <td>NaN</td>\n",
       "      <td>0.049134</td>\n",
       "      <td>0.045675</td>\n",
       "    </tr>\n",
       "    <tr>\n",
       "      <td>living_area</td>\n",
       "      <td>0.428773</td>\n",
       "      <td>1.000000</td>\n",
       "      <td>0.939534</td>\n",
       "      <td>0.846088</td>\n",
       "      <td>-0.033711</td>\n",
       "      <td>-0.056235</td>\n",
       "      <td>0.027007</td>\n",
       "      <td>-0.014645</td>\n",
       "    </tr>\n",
       "    <tr>\n",
       "      <td>total_area</td>\n",
       "      <td>0.608879</td>\n",
       "      <td>0.939534</td>\n",
       "      <td>1.000000</td>\n",
       "      <td>0.758745</td>\n",
       "      <td>-0.034884</td>\n",
       "      <td>-0.072670</td>\n",
       "      <td>0.029683</td>\n",
       "      <td>0.010110</td>\n",
       "    </tr>\n",
       "    <tr>\n",
       "      <td>rooms</td>\n",
       "      <td>0.270585</td>\n",
       "      <td>0.846088</td>\n",
       "      <td>0.758745</td>\n",
       "      <td>1.000000</td>\n",
       "      <td>-0.087547</td>\n",
       "      <td>-0.147371</td>\n",
       "      <td>0.000422</td>\n",
       "      <td>-0.015281</td>\n",
       "    </tr>\n",
       "    <tr>\n",
       "      <td>open_plan</td>\n",
       "      <td>NaN</td>\n",
       "      <td>-0.033711</td>\n",
       "      <td>-0.034884</td>\n",
       "      <td>-0.087547</td>\n",
       "      <td>1.000000</td>\n",
       "      <td>-0.004244</td>\n",
       "      <td>-0.002453</td>\n",
       "      <td>0.032625</td>\n",
       "    </tr>\n",
       "    <tr>\n",
       "      <td>studio</td>\n",
       "      <td>NaN</td>\n",
       "      <td>-0.056235</td>\n",
       "      <td>-0.072670</td>\n",
       "      <td>-0.147371</td>\n",
       "      <td>-0.004244</td>\n",
       "      <td>1.000000</td>\n",
       "      <td>-0.003665</td>\n",
       "      <td>0.028865</td>\n",
       "    </tr>\n",
       "    <tr>\n",
       "      <td>apartment</td>\n",
       "      <td>0.049134</td>\n",
       "      <td>0.027007</td>\n",
       "      <td>0.029683</td>\n",
       "      <td>0.000422</td>\n",
       "      <td>-0.002453</td>\n",
       "      <td>-0.003665</td>\n",
       "      <td>1.000000</td>\n",
       "      <td>0.033013</td>\n",
       "    </tr>\n",
       "    <tr>\n",
       "      <td>balcony</td>\n",
       "      <td>0.045675</td>\n",
       "      <td>-0.014645</td>\n",
       "      <td>0.010110</td>\n",
       "      <td>-0.015281</td>\n",
       "      <td>0.032625</td>\n",
       "      <td>0.028865</td>\n",
       "      <td>0.033013</td>\n",
       "      <td>1.000000</td>\n",
       "    </tr>\n",
       "  </tbody>\n",
       "</table>\n",
       "</div>"
      ],
      "text/plain": [
       "              kitchen_area  living_area  total_area     rooms  open_plan  \\\n",
       "kitchen_area      1.000000     0.428773    0.608879  0.270585        NaN   \n",
       "living_area       0.428773     1.000000    0.939534  0.846088  -0.033711   \n",
       "total_area        0.608879     0.939534    1.000000  0.758745  -0.034884   \n",
       "rooms             0.270585     0.846088    0.758745  1.000000  -0.087547   \n",
       "open_plan              NaN    -0.033711   -0.034884 -0.087547   1.000000   \n",
       "studio                 NaN    -0.056235   -0.072670 -0.147371  -0.004244   \n",
       "apartment         0.049134     0.027007    0.029683  0.000422  -0.002453   \n",
       "balcony           0.045675    -0.014645    0.010110 -0.015281   0.032625   \n",
       "\n",
       "                studio  apartment   balcony  \n",
       "kitchen_area       NaN   0.049134  0.045675  \n",
       "living_area  -0.056235   0.027007 -0.014645  \n",
       "total_area   -0.072670   0.029683  0.010110  \n",
       "rooms        -0.147371   0.000422 -0.015281  \n",
       "open_plan    -0.004244  -0.002453  0.032625  \n",
       "studio        1.000000  -0.003665  0.028865  \n",
       "apartment    -0.003665   1.000000  0.033013  \n",
       "balcony       0.028865   0.033013  1.000000  "
      ]
     },
     "execution_count": 265,
     "metadata": {},
     "output_type": "execute_result"
    }
   ],
   "source": [
    "#смотрю с чем может быть связано отсутвие инфо по размеру кухни\n",
    "df[k_area].corr()"
   ]
  },
  {
   "cell_type": "markdown",
   "metadata": {},
   "source": [
    "<hr style=\"border: 1px solid #000;\"> \n",
    "\n",
    "<div class=\"alert alert-success\">\n",
    "<strong><font size=5>Комментарий от ревьюера</font></strong><br/>\n",
    "    \n",
    "Ого, это прям очень хорошо.\n",
    "    \n",
    "</div>\n",
    "<hr style=\"border: 1px solid #000;\"> "
   ]
  },
  {
   "cell_type": "code",
   "execution_count": 266,
   "metadata": {},
   "outputs": [
    {
     "data": {
      "text/plain": [
       "2269"
      ]
     },
     "execution_count": 266,
     "metadata": {},
     "output_type": "execute_result"
    }
   ],
   "source": [
    "df['kitchen_area'].isna().sum()"
   ]
  },
  {
   "cell_type": "markdown",
   "metadata": {},
   "source": [
    "<hr style=\"border: 1px solid #000;\"> \n",
    "\n",
    "<div class=\"alert alert-success\">\n",
    "<strong><font size=5>Комментарий от ревьюера</font></strong><br/>\n",
    "    \n",
    "Использование метода <b>.mask</b>, ещё и с \"или\" внутри - это отлично.\n",
    "    \n",
    "</div>\n",
    "<hr style=\"border: 1px solid #000;\"> "
   ]
  },
  {
   "cell_type": "code",
   "execution_count": 267,
   "metadata": {},
   "outputs": [
    {
     "data": {
      "text/plain": [
       "2269"
      ]
     },
     "execution_count": 267,
     "metadata": {},
     "output_type": "execute_result"
    }
   ],
   "source": [
    "df['kitchen_area'].isna().sum()"
   ]
  },
  {
   "cell_type": "markdown",
   "metadata": {},
   "source": [
    "<a name=\"2.8.\"></a><br/>"
   ]
  },
  {
   "cell_type": "code",
   "execution_count": 268,
   "metadata": {},
   "outputs": [
    {
     "name": "stdout",
     "output_type": "stream",
     "text": [
      "Кухня занимает примерно 17.2% от общей площади\n"
     ]
    }
   ],
   "source": [
    "#смотрю как соотносится площадь кухни с общей площадью\n",
    "apart_kitchen = df.query('not kitchen_area.isna() and kitchen_area !=0')\n",
    "kitchen_part_median = (apart_kitchen.kitchen_area / apart_kitchen.total_area).median()\n",
    "print(f'Кухня занимает примерно {kitchen_part_median:.1%} от общей площади')             "
   ]
  },
  {
   "cell_type": "code",
   "execution_count": 269,
   "metadata": {},
   "outputs": [],
   "source": [
    "#заподняю пропуски средней долей от квартиры\n",
    "df.kitchen_area = df.kitchen_area.fillna(df.total_area * kitchen_part_median)"
   ]
  },
  {
   "cell_type": "markdown",
   "metadata": {},
   "source": [
    "<hr style=\"border: 1px solid #000;\"> \n",
    "\n",
    "<div class=\"alert alert-success\">\n",
    "<strong><font size=5>Комментарий от ревьюера</font></strong><br/>\n",
    "    \n",
    "Хм, это хороший подход.\n",
    "    \n",
    "</div>\n",
    "<hr style=\"border: 1px solid #000;\"> "
   ]
  },
  {
   "cell_type": "code",
   "execution_count": 270,
   "metadata": {},
   "outputs": [
    {
     "data": {
      "text/plain": [
       "0"
      ]
     },
     "execution_count": 270,
     "metadata": {},
     "output_type": "execute_result"
    }
   ],
   "source": [
    "#проверяю\n",
    "df['kitchen_area'].isna().sum()"
   ]
  },
  {
   "cell_type": "code",
   "execution_count": 271,
   "metadata": {},
   "outputs": [
    {
     "name": "stdout",
     "output_type": "stream",
     "text": [
      "Жилая площадь занимает примерно 56.8% от общей площади\n"
     ]
    }
   ],
   "source": [
    "#тоже самое делаю с жилой площадью\n",
    "apart_living = df.query('living_area.notna()')\n",
    "\n",
    "apart_living_part_median = (apart_living['living_area'] / apart_living['total_area']).median()\n",
    "print(f'Жилая площадь занимает примерно {apart_living_part_median:.1%} от общей площади')"
   ]
  },
  {
   "cell_type": "code",
   "execution_count": 272,
   "metadata": {},
   "outputs": [],
   "source": [
    "def fill_living_area(row):\n",
    "    living_area = row['total_area'] * kitchen_part_median\n",
    "    \n",
    "    if living_area + row['kitchen_area'] > row['total_area']:\n",
    "        # если сумма привысит размер помещения, то вернем разницу из общей площади и площади кухни \n",
    "        return row['total_area'] - row['kitchen_area']\n",
    "    return living_area\n",
    "    \n",
    "df.living_area = df.living_area.fillna(df.apply(fill_living_area, axis = 1))"
   ]
  },
  {
   "cell_type": "markdown",
   "metadata": {},
   "source": [
    "<hr style=\"border: 1px solid #000;\"> \n",
    "\n",
    "<div class=\"alert alert-success\">\n",
    "<strong><font size=5>Комментарий от ревьюера</font></strong><br/>\n",
    "    \n",
    "<b>Apply</b> внутри <b>fillna</b> - ну что тут скажешь. Ещё раз отлично.\n",
    "    \n",
    "</div>\n",
    "<hr style=\"border: 1px solid #000;\"> "
   ]
  },
  {
   "cell_type": "code",
   "execution_count": 273,
   "metadata": {},
   "outputs": [
    {
     "data": {
      "text/plain": [
       "0"
      ]
     },
     "execution_count": 273,
     "metadata": {},
     "output_type": "execute_result"
    }
   ],
   "source": [
    "#проверяю\n",
    "df['living_area'].isna().sum()"
   ]
  },
  {
   "cell_type": "markdown",
   "metadata": {},
   "source": [
    "studio и open_plan\n",
    "<a name=\"2.8\"></a><br/>"
   ]
  },
  {
   "cell_type": "code",
   "execution_count": 274,
   "metadata": {},
   "outputs": [],
   "source": [
    "#заменяю пропуски на 0 в тех местах, где студия или открытая планировка\n",
    "df.kitchen_area = df.kitchen_area.mask(df.studio | df.open_plan,0)"
   ]
  },
  {
   "cell_type": "markdown",
   "metadata": {},
   "source": [
    "Текстовые значения\n",
    "<a name=\"2.9\"></a><br/>"
   ]
  },
  {
   "cell_type": "code",
   "execution_count": 275,
   "metadata": {},
   "outputs": [
    {
     "data": {
      "text/plain": [
       "364"
      ]
     },
     "execution_count": 275,
     "metadata": {},
     "output_type": "execute_result"
    }
   ],
   "source": [
    "#смотрю количество уникальных значений в столбце town\n",
    "df.town.nunique()"
   ]
  },
  {
   "cell_type": "code",
   "execution_count": 276,
   "metadata": {},
   "outputs": [
    {
     "name": "stdout",
     "output_type": "stream",
     "text": [
      "['Санкт-Петербург' 'посёлок Шушары' 'городской посёлок Янино-1'\n",
      " 'посёлок Парголово' 'посёлок Мурино' 'Ломоносов' 'Сертолово' 'Петергоф'\n",
      " 'Пушкин' 'деревня Кудрово' 'Коммунар' 'Колпино'\n",
      " 'поселок городского типа Красный Бор' 'Гатчина' 'поселок Мурино'\n",
      " 'деревня Фёдоровское' 'Выборг' 'Кронштадт' 'Кировск'\n",
      " 'деревня Новое Девяткино' 'посёлок Металлострой'\n",
      " 'посёлок городского типа Лебяжье' 'посёлок городского типа Сиверский'\n",
      " 'поселок Молодцово' 'поселок городского типа Кузьмоловский'\n",
      " 'садовое товарищество Новая Ропша' 'Павловск' 'деревня Пикколово'\n",
      " 'Всеволожск' 'Волхов' 'Кингисепп' 'Приозерск' 'Сестрорецк'\n",
      " 'деревня Куттузи' 'посёлок Аннино' 'поселок городского типа Ефимовский'\n",
      " 'посёлок Плодовое' 'деревня Заклинье' 'поселок Торковичи'\n",
      " 'поселок Первомайское' 'Красное Село' 'посёлок Понтонный' 'Сясьстрой'\n",
      " 'деревня Старая' 'деревня Лесколово' 'посёлок Новый Свет' 'Сланцы'\n",
      " 'село Путилово' 'Ивангород' 'Мурино' 'Шлиссельбург' 'Никольское'\n",
      " 'Зеленогорск' 'Сосновый Бор' 'поселок Новый Свет' 'деревня Оржицы'\n",
      " 'деревня Кальтино' 'Кудрово' 'поселок Романовка' 'посёлок Бугры'\n",
      " 'поселок Бугры' 'поселок городского типа Рощино' 'Кириши' 'Луга'\n",
      " 'Волосово' 'Отрадное' 'село Павлово' 'поселок Оредеж' 'село Копорье'\n",
      " 'посёлок городского типа Красный Бор' 'посёлок Молодёжное' 'Тихвин'\n",
      " 'посёлок Победа' 'деревня Нурма' 'поселок городского типа Синявино'\n",
      " 'Тосно' 'посёлок городского типа Кузьмоловский' 'посёлок Стрельна'\n",
      " 'Бокситогорск' 'посёлок Александровская' 'деревня Лопухинка' 'Пикалёво'\n",
      " 'поселок Терволово' 'поселок городского типа Советский' 'Подпорожье'\n",
      " 'посёлок Петровское' 'посёлок городского типа Токсово' 'поселок Сельцо'\n",
      " 'посёлок городского типа Вырица' 'деревня Кипень' 'деревня Келози'\n",
      " 'деревня Вартемяги' 'посёлок Тельмана' 'поселок Севастьяново'\n",
      " 'городской поселок Большая Ижора' 'городской посёлок Павлово'\n",
      " 'деревня Агалатово' 'посёлок Новогорелово'\n",
      " 'городской посёлок Лесогорский' 'деревня Лаголово' 'поселок Цвелодубово'\n",
      " 'поселок городского типа Рахья' 'поселок городского типа Вырица'\n",
      " 'деревня Белогорка' 'поселок Заводской' 'городской посёлок Новоселье'\n",
      " 'деревня Большие Колпаны' 'деревня Горбунки' 'деревня Батово'\n",
      " 'деревня Заневка' 'деревня Иссад' 'Приморск'\n",
      " 'городской посёлок Фёдоровское' 'деревня Мистолово' 'Новая Ладога'\n",
      " 'поселок Зимитицы' 'поселок Барышево' 'деревня Разметелево'\n",
      " 'поселок городского типа имени Свердлова' 'деревня Пеники'\n",
      " 'поселок Рябово' 'деревня Пудомяги' 'поселок станции Корнево'\n",
      " 'деревня Низино' 'деревня Бегуницы' 'посёлок Поляны'\n",
      " 'городской посёлок Мга' 'поселок Елизаветино'\n",
      " 'посёлок городского типа Кузнечное' 'деревня Колтуши'\n",
      " 'поселок Запорожское' 'посёлок городского типа Рощино'\n",
      " 'деревня Гостилицы' 'деревня Малое Карлино' 'посёлок Мичуринское'\n",
      " 'посёлок городского типа имени Морозова' 'посёлок Песочный'\n",
      " 'посёлок Сосново' 'деревня Аро' 'поселок Ильичёво'\n",
      " 'посёлок городского типа Тайцы' 'деревня Малое Верево' 'деревня Извара'\n",
      " 'поселок станции Вещево' 'село Паша' 'деревня Калитино'\n",
      " 'посёлок городского типа Ульяновка' 'деревня Чудской Бор'\n",
      " 'поселок городского типа Дубровка' 'деревня Мины' 'поселок Войсковицы'\n",
      " 'посёлок городского типа имени Свердлова' 'деревня Коркино'\n",
      " 'посёлок Ропша' 'поселок городского типа Приладожский' 'посёлок Щеглово'\n",
      " 'посёлок Гаврилово' 'Лодейное Поле' 'деревня Рабитицы'\n",
      " 'поселок городского типа Никольский' 'деревня Кузьмолово'\n",
      " 'деревня Малые Колпаны' 'поселок Тельмана' 'посёлок Петро-Славянка'\n",
      " 'городской посёлок Назия' 'посёлок Репино' 'посёлок Ильичёво'\n",
      " 'поселок Углово' 'поселок Старая Малукса' 'садовое товарищество Рахья'\n",
      " 'поселок Аннино' 'поселок Победа' 'деревня Меньково'\n",
      " 'деревня Старые Бегуницы' 'посёлок Сапёрный' 'поселок Семрино'\n",
      " 'поселок Гаврилово' 'поселок Глажево' 'поселок Кобринское'\n",
      " 'деревня Гарболово' 'деревня Юкки' 'поселок станции Приветнинское'\n",
      " 'деревня Мануйлово' 'деревня Пчева' 'поселок Поляны' 'поселок Цвылёво'\n",
      " 'поселок Мельниково' 'посёлок Пудость' 'посёлок Усть-Луга' 'Светогорск'\n",
      " 'Любань' 'поселок Селезнёво' 'поселок городского типа Рябово'\n",
      " 'Каменногорск' 'деревня Кривко' 'поселок Глебычево' 'деревня Парицы'\n",
      " 'поселок Жилпосёлок' 'посёлок городского типа Мга'\n",
      " 'городской поселок Янино-1' 'посёлок Войскорово' 'село Никольское'\n",
      " 'посёлок Терволово' 'поселок Стеклянный' 'посёлок городского типа Важины'\n",
      " 'посёлок Мыза-Ивановка' 'село Русско-Высоцкое'\n",
      " 'поселок городского типа Лебяжье' 'поселок городского типа Форносово'\n",
      " 'село Старая Ладога' 'поселок Житково' 'городской посёлок Виллози'\n",
      " 'деревня Лампово' 'деревня Шпаньково' 'деревня Лаврики' 'посёлок Сумино'\n",
      " 'посёлок Возрождение' 'деревня Старосиверская' 'посёлок Кикерино'\n",
      " 'поселок Возрождение' 'деревня Старое Хинколово' 'посёлок Пригородный'\n",
      " 'посёлок Торфяное' 'городской посёлок Будогощь' 'поселок Суходолье'\n",
      " 'поселок Красная Долина' 'деревня Хапо-Ое'\n",
      " 'поселок городского типа Дружная Горка' 'поселок Лисий Нос'\n",
      " 'деревня Яльгелево' 'посёлок Стеклянный' 'село Рождествено'\n",
      " 'деревня Старополье' 'посёлок Левашово' 'деревня Сяськелево'\n",
      " 'деревня Камышовка'\n",
      " 'садоводческое некоммерческое товарищество Лесная Поляна'\n",
      " 'деревня Хязельки' 'поселок Жилгородок' 'посёлок городского типа Павлово'\n",
      " 'деревня Ялгино' 'поселок Новый Учхоз' 'городской посёлок Рощино'\n",
      " 'поселок Гончарово' 'поселок Почап' 'посёлок Сапёрное'\n",
      " 'посёлок Платформа 69-й километр' 'поселок Каложицы' 'деревня Фалилеево'\n",
      " 'деревня Пельгора' 'поселок городского типа Лесогорский'\n",
      " 'деревня Торошковичи' 'посёлок Белоостров' 'посёлок Алексеевка'\n",
      " 'поселок Серебрянский' 'поселок Лукаши' 'поселок Петровское'\n",
      " 'деревня Щеглово' 'поселок Мичуринское' 'деревня Тарасово'\n",
      " 'поселок Кингисеппский' 'посёлок при железнодорожной станции Вещево'\n",
      " 'поселок Ушаки' 'деревня Котлы' 'деревня Сижно' 'деревня Торосово'\n",
      " 'посёлок Форт Красная Горка' 'поселок городского типа Токсово'\n",
      " 'деревня Новолисино' 'посёлок станции Громово' 'деревня Глинка'\n",
      " 'посёлок Мельниково' 'поселок городского типа Назия'\n",
      " 'деревня Старая Пустошь' 'поселок Коммунары' 'поселок Починок'\n",
      " 'посёлок городского типа Вознесенье' 'деревня Разбегаево'\n",
      " 'посёлок городского типа Рябово' 'поселок Гладкое'\n",
      " 'посёлок при железнодорожной станции Приветнинское' 'поселок Тёсово-4'\n",
      " 'посёлок Жилгородок' 'деревня Бор' 'посёлок Коробицыно'\n",
      " 'деревня Большая Вруда' 'деревня Курковицы' 'посёлок Лисий Нос'\n",
      " 'городской посёлок Советский' 'посёлок Кобралово' 'деревня Суоранда'\n",
      " 'поселок Кобралово' 'поселок городского типа Кондратьево'\n",
      " 'коттеджный поселок Счастье' 'поселок Любань' 'деревня Реброво'\n",
      " 'деревня Зимитицы' 'деревня Тойворово' 'поселок Семиозерье'\n",
      " 'поселок Лесное' 'поселок Совхозный' 'поселок Усть-Луга'\n",
      " 'посёлок Ленинское' 'посёлок Суйда' 'посёлок городского типа Форносово'\n",
      " 'деревня Нижние Осельки' 'посёлок станции Свирь' 'поселок Перово'\n",
      " 'Высоцк' 'поселок Гарболово' 'село Шум' 'поселок Котельский'\n",
      " 'поселок станции Лужайка' 'деревня Большая Пустомержа'\n",
      " 'поселок Красносельское' 'деревня Вахнова Кара' 'деревня Пижма'\n",
      " 'коттеджный поселок Кивеннапа Север' 'поселок Коробицыно'\n",
      " 'поселок Ромашки' 'посёлок Перово' 'деревня Каськово' 'деревня Куровицы'\n",
      " 'посёлок Плоское' 'поселок Сумино'\n",
      " 'поселок городского типа Большая Ижора' 'поселок Кирпичное'\n",
      " 'деревня Ям-Тесово' 'деревня Раздолье' 'деревня Терпилицы'\n",
      " 'посёлок Шугозеро' 'деревня Ваганово' 'поселок Пушное'\n",
      " 'садовое товарищество Садко' 'посёлок Усть-Ижора' 'деревня Выскатка'\n",
      " 'городской посёлок Свирьстрой' 'поселок Громово' 'деревня Кисельня'\n",
      " 'посёлок Старая Малукса' 'деревня Трубников Бор' 'поселок Калитино'\n",
      " 'посёлок Высокоключевой' 'садовое товарищество Приладожский'\n",
      " 'посёлок Пансионат Зелёный Бор' 'деревня Ненимяки'\n",
      " 'поселок Пансионат Зелёный Бор' 'деревня Снегирёвка' 'деревня Рапполово'\n",
      " 'деревня Пустынка' 'поселок Рабитицы' 'деревня Большой Сабск'\n",
      " 'деревня Русско' 'деревня Лупполово' 'деревня Большое Рейзино'\n",
      " 'деревня Малая Романовка' 'поселок Дружноселье' 'поселок Пчевжа'\n",
      " 'поселок Володарское' 'деревня Нижняя' 'коттеджный посёлок Лесное'\n",
      " 'деревня Тихковицы' 'деревня Борисова Грива' 'посёлок Дзержинского']\n"
     ]
    }
   ],
   "source": [
    "#смотрю конкретные значения \n",
    "print(df.town.unique())"
   ]
  },
  {
   "cell_type": "code",
   "execution_count": 277,
   "metadata": {},
   "outputs": [],
   "source": [
    "#здесь поменяем ё на е "
   ]
  },
  {
   "cell_type": "code",
   "execution_count": 278,
   "metadata": {},
   "outputs": [],
   "source": [
    "from collections import Counter"
   ]
  },
  {
   "cell_type": "code",
   "execution_count": 279,
   "metadata": {},
   "outputs": [
    {
     "data": {
      "text/plain": [
       "поселок         107\n",
       "деревня         106\n",
       "посёлок          94\n",
       "типа             39\n",
       "городского       39\n",
       "городской        14\n",
       "село              9\n",
       "станции           8\n",
       "Бор               8\n",
       "Старая            5\n",
       "товарищество      5\n",
       "садовое           4\n",
       "Большая           4\n",
       "Павлово           3\n",
       "имени             3\n",
       "dtype: int64"
      ]
     },
     "execution_count": 279,
     "metadata": {},
     "output_type": "execute_result"
    }
   ],
   "source": [
    "#смотрю самые часто встречающиеся слова в списке\n",
    "locality_words = ' '.join(df.town.unique()).split()\n",
    "pd.Series(\n",
    "    Counter(locality_words)\n",
    ").sort_values(ascending=False).head(15)\n",
    "                                    "
   ]
  },
  {
   "cell_type": "markdown",
   "metadata": {},
   "source": [
    "<hr style=\"border: 1px solid #000;\"> \n",
    "\n",
    "<div class=\"alert alert-success\">\n",
    "<strong><font size=5>Комментарий от ревьюера</font></strong><br/>\n",
    "    \n",
    "Ого, если честно, ещё не встречал такого метода в этом проекте при решении этого вопроса. Это очень хорошо. Наглядно видим, какие у нас \"виды\" населенных пунктов встречаются.\n",
    "    \n",
    "</div>\n",
    "<hr style=\"border: 1px solid #000;\"> "
   ]
  },
  {
   "cell_type": "code",
   "execution_count": 280,
   "metadata": {},
   "outputs": [],
   "source": [
    "#пишу функцию, которая отбрасывает все символы до первой заглавной буувы\n",
    "def cut_name(name):\n",
    "    #перечисляем символы и их номера\n",
    "    for i, c in enumerate(name):\n",
    "        #если заглавная буква\n",
    "        if c.isupper():\n",
    "            #возвращаем слово, с индекса заглвной буквы\n",
    "            return name[i:]"
   ]
  },
  {
   "cell_type": "markdown",
   "metadata": {},
   "source": [
    "<hr style=\"border: 1px solid #000;\"> \n",
    "\n",
    "<div class=\"alert alert-success\">\n",
    "<strong><font size=5>Комментарий от ревьюера</font></strong><br/>\n",
    "    \n",
    "Вот и \"обработали\" населённые пункты. Тоже такого не видел. И этот вариант решения пахнет отлично.\n",
    "    \n",
    "</div>\n",
    "<hr style=\"border: 1px solid #000;\"> "
   ]
  },
  {
   "cell_type": "code",
   "execution_count": 281,
   "metadata": {},
   "outputs": [],
   "source": [
    "df.town = df.town.apply(cut_name)"
   ]
  },
  {
   "cell_type": "code",
   "execution_count": 282,
   "metadata": {
    "scrolled": true
   },
   "outputs": [
    {
     "data": {
      "text/plain": [
       "0    Санкт-Петербург\n",
       "1             Шушары\n",
       "2    Санкт-Петербург\n",
       "3    Санкт-Петербург\n",
       "4    Санкт-Петербург\n",
       "5            Янино-1\n",
       "6          Парголово\n",
       "7    Санкт-Петербург\n",
       "8             Мурино\n",
       "9    Санкт-Петербург\n",
       "Name: town, dtype: object"
      ]
     },
     "execution_count": 282,
     "metadata": {},
     "output_type": "execute_result"
    }
   ],
   "source": [
    "df.town.head(10)"
   ]
  },
  {
   "cell_type": "code",
   "execution_count": 283,
   "metadata": {},
   "outputs": [
    {
     "data": {
      "text/plain": [
       "305"
      ]
     },
     "execution_count": 283,
     "metadata": {},
     "output_type": "execute_result"
    }
   ],
   "source": [
    "len(df.town.unique())"
   ]
  },
  {
   "cell_type": "code",
   "execution_count": 284,
   "metadata": {},
   "outputs": [
    {
     "name": "stdout",
     "output_type": "stream",
     "text": [
      "305\n"
     ]
    }
   ],
   "source": [
    "#здесь поменяем ё на е \n",
    "df.town = df.town.apply(lambda name: name.replace('Ё','Е').replace('ё','е'))\n",
    "print(len(df['town'].unique()))"
   ]
  },
  {
   "cell_type": "code",
   "execution_count": 285,
   "metadata": {},
   "outputs": [
    {
     "data": {
      "text/plain": [
       "images                0\n",
       "town                  0\n",
       "total_area            0\n",
       "living_area           0\n",
       "kitchen_area          0\n",
       "ceiling_height        0\n",
       "rooms                 0\n",
       "balcony               0\n",
       "floor                 0\n",
       "total_floors          0\n",
       "apartment             0\n",
       "studio                0\n",
       "open_plan             0\n",
       "price                 0\n",
       "pub_date              0\n",
       "pub_days           3180\n",
       "to_center          5511\n",
       "to_airport         5534\n",
       "parks_3km          5510\n",
       "parks_nearest     15586\n",
       "ponds_3km          5510\n",
       "ponds_nearest     14565\n",
       "local                 0\n",
       "local_f               0\n",
       "dtype: int64"
      ]
     },
     "execution_count": 285,
     "metadata": {},
     "output_type": "execute_result"
    }
   ],
   "source": [
    "df.isna().sum()"
   ]
  },
  {
   "cell_type": "markdown",
   "metadata": {},
   "source": [
    "Вывод по обработке пропусков <a name=\"2.10\"></a><br/>"
   ]
  },
  {
   "cell_type": "markdown",
   "metadata": {},
   "source": [
    "\n",
    "Я сделал замены, где это уместно. Остались только значения, которые невозможо корректно заменить на какие-то значения. \n",
    "Пропуски в pub_days могли появиться из-за того, что объявление на момент выгрузки ещё активно. Что касается растояний, мне кажется люди не заполняли эти данные, так как не все знают, какое расстояние до центра и парков, например. Также изменил тип данных в столбцах apartment, pub_day и total_floors. В некоторых других столбцах тоже нужно поменять тип данных, но это не получается, так как в них есть пропуски. Убрал дубликаты за счет измениний в названии города."
   ]
  },
  {
   "cell_type": "markdown",
   "metadata": {},
   "source": [
    "<hr style=\"border: 1px solid #000;\"> \n",
    "\n",
    "<div class=\"alert alert-success\">\n",
    "<strong><font size=5>Комментарий от ревьюера</font></strong><br/>\n",
    "    \n",
    "Это одна из лучших обработок пропусков в этом проекте, что я видел, без преувеличений. Есть не один и не два отличных, новых для меня методов решения заполнения пропусков. И они очень и очень хорошо реализованы.\n",
    "    \n",
    "</div>\n",
    "<hr style=\"border: 1px solid #000;\"> "
   ]
  },
  {
   "cell_type": "markdown",
   "metadata": {},
   "source": [
    "Спасибо, конечно, но я до этого всего не сам додумался."
   ]
  },
  {
   "cell_type": "markdown",
   "metadata": {},
   "source": [
    "## Добавление новых столбцов в таблицу\n",
    "<a name=\"3.\"></a><br/>[<font size=\"2\">(к содержанию)</font>](#to_content.)"
   ]
  },
  {
   "cell_type": "markdown",
   "metadata": {},
   "source": [
    "Изменение формата даты\n",
    "<a name=\"3.1\"></a>"
   ]
  },
  {
   "cell_type": "code",
   "execution_count": 286,
   "metadata": {},
   "outputs": [
    {
     "data": {
      "text/plain": [
       "0    2019-03-07T00:00:00\n",
       "1    2018-12-04T00:00:00\n",
       "2    2015-08-20T00:00:00\n",
       "3    2015-07-24T00:00:00\n",
       "4    2018-06-19T00:00:00\n",
       "Name: pub_date, dtype: object"
      ]
     },
     "execution_count": 286,
     "metadata": {},
     "output_type": "execute_result"
    }
   ],
   "source": [
    "#заняю формат даты\n",
    "df.pub_date.head()"
   ]
  },
  {
   "cell_type": "code",
   "execution_count": 287,
   "metadata": {},
   "outputs": [],
   "source": [
    "df.pub_date = pd.to_datetime(df.pub_date)"
   ]
  },
  {
   "cell_type": "code",
   "execution_count": 288,
   "metadata": {},
   "outputs": [
    {
     "data": {
      "text/plain": [
       "0   2019-03-07\n",
       "1   2018-12-04\n",
       "2   2015-08-20\n",
       "3   2015-07-24\n",
       "4   2018-06-19\n",
       "Name: pub_date, dtype: datetime64[ns]"
      ]
     },
     "execution_count": 288,
     "metadata": {},
     "output_type": "execute_result"
    }
   ],
   "source": [
    "df.pub_date.head()"
   ]
  },
  {
   "cell_type": "markdown",
   "metadata": {},
   "source": [
    "Добавление дня, месяца и года\n",
    "<a name=\"3.2\"></a>"
   ]
  },
  {
   "cell_type": "code",
   "execution_count": 289,
   "metadata": {},
   "outputs": [],
   "source": [
    "#добавляю столбцы с днём, месяцем и годом объявления\n",
    "df['weekday'] = df['pub_date'].dt.day_name()\n",
    "df['month'] = df['pub_date'].dt.month_name()\n",
    "df['year'] = df['pub_date'].dt.year"
   ]
  },
  {
   "cell_type": "markdown",
   "metadata": {},
   "source": [
    "<hr style=\"border: 1px solid #000;\"> \n",
    "\n",
    "<div class=\"alert alert-success\">\n",
    "<strong><font size=5>Комментарий от ревьюера</font></strong><br/>\n",
    "    \n",
    "Во, не номер дня и номер месяца, а именно само \"имя\" дня и \"имя\" месяца. Отлично.\n",
    "    \n",
    "</div>\n",
    "<hr style=\"border: 1px solid #000;\"> "
   ]
  },
  {
   "cell_type": "code",
   "execution_count": 290,
   "metadata": {},
   "outputs": [
    {
     "data": {
      "text/html": [
       "<div>\n",
       "<style scoped>\n",
       "    .dataframe tbody tr th:only-of-type {\n",
       "        vertical-align: middle;\n",
       "    }\n",
       "\n",
       "    .dataframe tbody tr th {\n",
       "        vertical-align: top;\n",
       "    }\n",
       "\n",
       "    .dataframe thead th {\n",
       "        text-align: right;\n",
       "    }\n",
       "</style>\n",
       "<table border=\"1\" class=\"dataframe\">\n",
       "  <thead>\n",
       "    <tr style=\"text-align: right;\">\n",
       "      <th></th>\n",
       "      <th>images</th>\n",
       "      <th>town</th>\n",
       "      <th>total_area</th>\n",
       "      <th>living_area</th>\n",
       "      <th>kitchen_area</th>\n",
       "      <th>ceiling_height</th>\n",
       "      <th>rooms</th>\n",
       "      <th>balcony</th>\n",
       "      <th>floor</th>\n",
       "      <th>total_floors</th>\n",
       "      <th>apartment</th>\n",
       "      <th>studio</th>\n",
       "      <th>open_plan</th>\n",
       "      <th>price</th>\n",
       "      <th>pub_date</th>\n",
       "      <th>pub_days</th>\n",
       "      <th>to_center</th>\n",
       "      <th>to_airport</th>\n",
       "      <th>parks_3km</th>\n",
       "      <th>parks_nearest</th>\n",
       "      <th>ponds_3km</th>\n",
       "      <th>ponds_nearest</th>\n",
       "      <th>local</th>\n",
       "      <th>local_f</th>\n",
       "      <th>weekday</th>\n",
       "      <th>month</th>\n",
       "      <th>year</th>\n",
       "    </tr>\n",
       "  </thead>\n",
       "  <tbody>\n",
       "    <tr>\n",
       "      <td>0</td>\n",
       "      <td>20</td>\n",
       "      <td>Санкт-Петербург</td>\n",
       "      <td>108.0</td>\n",
       "      <td>51.000000</td>\n",
       "      <td>25.000000</td>\n",
       "      <td>2.70</td>\n",
       "      <td>3</td>\n",
       "      <td>0</td>\n",
       "      <td>8</td>\n",
       "      <td>16</td>\n",
       "      <td>False</td>\n",
       "      <td>False</td>\n",
       "      <td>False</td>\n",
       "      <td>13000000.0</td>\n",
       "      <td>2019-03-07</td>\n",
       "      <td>NaN</td>\n",
       "      <td>16.0</td>\n",
       "      <td>18863.0</td>\n",
       "      <td>1.0</td>\n",
       "      <td>482.0</td>\n",
       "      <td>2.0</td>\n",
       "      <td>755.0</td>\n",
       "      <td>область</td>\n",
       "      <td>второе</td>\n",
       "      <td>Thursday</td>\n",
       "      <td>March</td>\n",
       "      <td>2019</td>\n",
       "    </tr>\n",
       "    <tr>\n",
       "      <td>1</td>\n",
       "      <td>7</td>\n",
       "      <td>Шушары</td>\n",
       "      <td>40.4</td>\n",
       "      <td>18.600000</td>\n",
       "      <td>11.000000</td>\n",
       "      <td>2.60</td>\n",
       "      <td>1</td>\n",
       "      <td>2</td>\n",
       "      <td>1</td>\n",
       "      <td>11</td>\n",
       "      <td>False</td>\n",
       "      <td>False</td>\n",
       "      <td>False</td>\n",
       "      <td>3350000.0</td>\n",
       "      <td>2018-12-04</td>\n",
       "      <td>81.0</td>\n",
       "      <td>19.0</td>\n",
       "      <td>12817.0</td>\n",
       "      <td>0.0</td>\n",
       "      <td>NaN</td>\n",
       "      <td>0.0</td>\n",
       "      <td>NaN</td>\n",
       "      <td>область</td>\n",
       "      <td>третье</td>\n",
       "      <td>Tuesday</td>\n",
       "      <td>December</td>\n",
       "      <td>2018</td>\n",
       "    </tr>\n",
       "    <tr>\n",
       "      <td>2</td>\n",
       "      <td>10</td>\n",
       "      <td>Санкт-Петербург</td>\n",
       "      <td>56.0</td>\n",
       "      <td>34.300000</td>\n",
       "      <td>8.300000</td>\n",
       "      <td>2.60</td>\n",
       "      <td>2</td>\n",
       "      <td>0</td>\n",
       "      <td>4</td>\n",
       "      <td>5</td>\n",
       "      <td>False</td>\n",
       "      <td>False</td>\n",
       "      <td>False</td>\n",
       "      <td>5196000.0</td>\n",
       "      <td>2015-08-20</td>\n",
       "      <td>558.0</td>\n",
       "      <td>14.0</td>\n",
       "      <td>21741.0</td>\n",
       "      <td>1.0</td>\n",
       "      <td>90.0</td>\n",
       "      <td>2.0</td>\n",
       "      <td>574.0</td>\n",
       "      <td>область</td>\n",
       "      <td>второе</td>\n",
       "      <td>Thursday</td>\n",
       "      <td>August</td>\n",
       "      <td>2015</td>\n",
       "    </tr>\n",
       "    <tr>\n",
       "      <td>3</td>\n",
       "      <td>0</td>\n",
       "      <td>Санкт-Петербург</td>\n",
       "      <td>159.0</td>\n",
       "      <td>27.413793</td>\n",
       "      <td>27.413793</td>\n",
       "      <td>2.78</td>\n",
       "      <td>3</td>\n",
       "      <td>0</td>\n",
       "      <td>9</td>\n",
       "      <td>14</td>\n",
       "      <td>False</td>\n",
       "      <td>False</td>\n",
       "      <td>False</td>\n",
       "      <td>64900000.0</td>\n",
       "      <td>2015-07-24</td>\n",
       "      <td>424.0</td>\n",
       "      <td>7.0</td>\n",
       "      <td>28098.0</td>\n",
       "      <td>2.0</td>\n",
       "      <td>84.0</td>\n",
       "      <td>3.0</td>\n",
       "      <td>234.0</td>\n",
       "      <td>кад</td>\n",
       "      <td>первое</td>\n",
       "      <td>Friday</td>\n",
       "      <td>July</td>\n",
       "      <td>2015</td>\n",
       "    </tr>\n",
       "    <tr>\n",
       "      <td>4</td>\n",
       "      <td>2</td>\n",
       "      <td>Санкт-Петербург</td>\n",
       "      <td>100.0</td>\n",
       "      <td>32.000000</td>\n",
       "      <td>41.000000</td>\n",
       "      <td>3.03</td>\n",
       "      <td>2</td>\n",
       "      <td>0</td>\n",
       "      <td>13</td>\n",
       "      <td>14</td>\n",
       "      <td>False</td>\n",
       "      <td>False</td>\n",
       "      <td>False</td>\n",
       "      <td>10000000.0</td>\n",
       "      <td>2018-06-19</td>\n",
       "      <td>121.0</td>\n",
       "      <td>8.0</td>\n",
       "      <td>31856.0</td>\n",
       "      <td>2.0</td>\n",
       "      <td>112.0</td>\n",
       "      <td>1.0</td>\n",
       "      <td>48.0</td>\n",
       "      <td>кад</td>\n",
       "      <td>первое</td>\n",
       "      <td>Tuesday</td>\n",
       "      <td>June</td>\n",
       "      <td>2018</td>\n",
       "    </tr>\n",
       "  </tbody>\n",
       "</table>\n",
       "</div>"
      ],
      "text/plain": [
       "   images             town  total_area  living_area  kitchen_area  \\\n",
       "0      20  Санкт-Петербург       108.0    51.000000     25.000000   \n",
       "1       7           Шушары        40.4    18.600000     11.000000   \n",
       "2      10  Санкт-Петербург        56.0    34.300000      8.300000   \n",
       "3       0  Санкт-Петербург       159.0    27.413793     27.413793   \n",
       "4       2  Санкт-Петербург       100.0    32.000000     41.000000   \n",
       "\n",
       "   ceiling_height  rooms  balcony  floor  total_floors  apartment  studio  \\\n",
       "0            2.70      3        0      8            16      False   False   \n",
       "1            2.60      1        2      1            11      False   False   \n",
       "2            2.60      2        0      4             5      False   False   \n",
       "3            2.78      3        0      9            14      False   False   \n",
       "4            3.03      2        0     13            14      False   False   \n",
       "\n",
       "   open_plan       price   pub_date  pub_days  to_center  to_airport  \\\n",
       "0      False  13000000.0 2019-03-07       NaN       16.0     18863.0   \n",
       "1      False   3350000.0 2018-12-04      81.0       19.0     12817.0   \n",
       "2      False   5196000.0 2015-08-20     558.0       14.0     21741.0   \n",
       "3      False  64900000.0 2015-07-24     424.0        7.0     28098.0   \n",
       "4      False  10000000.0 2018-06-19     121.0        8.0     31856.0   \n",
       "\n",
       "   parks_3km  parks_nearest  ponds_3km  ponds_nearest    local local_f  \\\n",
       "0        1.0          482.0        2.0          755.0  область  второе   \n",
       "1        0.0            NaN        0.0            NaN  область  третье   \n",
       "2        1.0           90.0        2.0          574.0  область  второе   \n",
       "3        2.0           84.0        3.0          234.0      кад  первое   \n",
       "4        2.0          112.0        1.0           48.0      кад  первое   \n",
       "\n",
       "    weekday     month  year  \n",
       "0  Thursday     March  2019  \n",
       "1   Tuesday  December  2018  \n",
       "2  Thursday    August  2015  \n",
       "3    Friday      July  2015  \n",
       "4   Tuesday      June  2018  "
      ]
     },
     "execution_count": 290,
     "metadata": {},
     "output_type": "execute_result"
    }
   ],
   "source": [
    "df.head()"
   ]
  },
  {
   "cell_type": "markdown",
   "metadata": {},
   "source": [
    "Цена квадратного метра\n",
    "<a name=\"3.3\"></a>"
   ]
  },
  {
   "cell_type": "code",
   "execution_count": 291,
   "metadata": {},
   "outputs": [
    {
     "data": {
      "text/plain": [
       "0    120370.370370\n",
       "1     82920.792079\n",
       "2     92785.714286\n",
       "3    408176.100629\n",
       "4    100000.000000\n",
       "Name: meter_price, dtype: float64"
      ]
     },
     "execution_count": 291,
     "metadata": {},
     "output_type": "execute_result"
    }
   ],
   "source": [
    "#добавляю цену квадратного метра\n",
    "df.loc[:, 'meter_price'] = df.price / df.total_area\n",
    "df.meter_price.head()"
   ]
  },
  {
   "cell_type": "markdown",
   "metadata": {},
   "source": [
    "Категория этажа\n",
    "<a name=\"3.4\"></a>"
   ]
  },
  {
   "cell_type": "code",
   "execution_count": 292,
   "metadata": {},
   "outputs": [],
   "source": [
    "# добавляю столбец с категорией этажа\n",
    "def floor_pos(row):\n",
    "    floor = row['floor']\n",
    "    if floor == 1:\n",
    "        return 'Первый'\n",
    "    return 'Последний' if floor == row['total_floors'] else 'Другой'\n",
    "\n",
    "df.loc[:, 'floor_pos'] = df.apply(floor_pos, axis = 1)"
   ]
  },
  {
   "cell_type": "markdown",
   "metadata": {},
   "source": [
    "<hr style=\"border: 1px solid #000;\"> \n",
    "\n",
    "<div class=\"alert alert-success\">\n",
    "<strong><font size=5>Комментарий от ревьюера</font></strong><br/>\n",
    "    \n",
    "Хороший блок <b>if-else</b> прямо в <b>return</b>.\n",
    "    \n",
    "</div>\n",
    "<hr style=\"border: 1px solid #000;\"> "
   ]
  },
  {
   "cell_type": "markdown",
   "metadata": {},
   "source": [
    "Отношение жилой площади к общей\n",
    "<a name=\"3.5\"></a>"
   ]
  },
  {
   "cell_type": "code",
   "execution_count": 293,
   "metadata": {},
   "outputs": [
    {
     "data": {
      "text/plain": [
       "0    47.2\n",
       "1    46.0\n",
       "2    61.2\n",
       "3    17.2\n",
       "4    32.0\n",
       "Name: living_area_part, dtype: float64"
      ]
     },
     "execution_count": 293,
     "metadata": {},
     "output_type": "execute_result"
    }
   ],
   "source": [
    "#добавляю отношение жилой площади к общей\n",
    "df.loc[:, 'living_area_part'] = (df.living_area / df.total_area * 100).round(1)\n",
    "df.living_area_part.head()"
   ]
  },
  {
   "cell_type": "markdown",
   "metadata": {},
   "source": [
    "Отношение площади кухни к общей\n",
    "<a name=\"3.6\"></a>"
   ]
  },
  {
   "cell_type": "code",
   "execution_count": 294,
   "metadata": {},
   "outputs": [
    {
     "data": {
      "text/plain": [
       "0    23.1\n",
       "1    27.2\n",
       "2    14.8\n",
       "3    17.2\n",
       "4    41.0\n",
       "Name: kitchen_area_part, dtype: float64"
      ]
     },
     "execution_count": 294,
     "metadata": {},
     "output_type": "execute_result"
    }
   ],
   "source": [
    "#добавляю отношение площади кухни к общей\n",
    "df.loc[:, 'kitchen_area_part'] =(df.kitchen_area / df.total_area * 100).round(1)\n",
    "\n",
    "df.kitchen_area_part.head()"
   ]
  },
  {
   "cell_type": "markdown",
   "metadata": {},
   "source": [
    "Вывод<a name=\"3.7\"></a>"
   ]
  },
  {
   "cell_type": "markdown",
   "metadata": {},
   "source": [
    "Я изменил формат даты и добавил несколько столбцов.\n",
    "<a name=\"3.7\"></a>"
   ]
  },
  {
   "cell_type": "markdown",
   "metadata": {},
   "source": [
    "## Исследовательский анализ данных\n",
    "<a name=\"4.\"></a><br/>[<font size=\"2\">(к содержанию)</font>](#to_content.)"
   ]
  },
  {
   "cell_type": "markdown",
   "metadata": {},
   "source": [
    "Изучение параметров: площадь, число комнат, цена, высота потолков\n",
    "<a name=\"4.1\"></a>"
   ]
  },
  {
   "cell_type": "code",
   "execution_count": 295,
   "metadata": {},
   "outputs": [
    {
     "data": {
      "image/png": "[encoded data removed]",
      "text/plain": [
       "<Figure size 3000x800 with 2 Axes>"
      ]
     },
     "metadata": {
      "needs_background": "light"
     },
     "output_type": "display_data"
    }
   ],
   "source": [
    "#строю график зависимости общей площади\n",
    "plt.figure(figsize =(15, 4),dpi = 200)\n",
    "plt.subplot(2,1,1)\n",
    "sns.distplot(df.total_area, bins= 'auto')\n",
    "plt.xlim(0,250)\n",
    "plt.subplot(2,1,2,sharex=plt.gca())\n",
    "sns.boxplot(df.total_area)\n",
    "plt.show()"
   ]
  },
  {
   "cell_type": "markdown",
   "metadata": {},
   "source": [
    "Вывод: самым популярным размером квартиры можно назвать площадь от 20 до 120 квадратных метров "
   ]
  },
  {
   "cell_type": "markdown",
   "metadata": {},
   "source": [
    "<hr style=\"border: 1px solid #000;\"> \n",
    "\n",
    "<div class=\"alert alert-warning\">\n",
    "<strong><font size=5>Комментарий от ревьюера</font></strong><br/>\n",
    "    \n",
    "Скорее не нормальным, а часто-встречающимся.\n",
    "    \n",
    "</div>\n",
    "<hr style=\"border: 1px solid #000;\"> "
   ]
  },
  {
   "cell_type": "markdown",
   "metadata": {},
   "source": [
    "Поправил"
   ]
  },
  {
   "cell_type": "code",
   "execution_count": 296,
   "metadata": {},
   "outputs": [
    {
     "data": {
      "image/png": "[encoded data removed]",
      "text/plain": [
       "<Figure size 432x288 with 1 Axes>"
      ]
     },
     "metadata": {
      "needs_background": "light"
     },
     "output_type": "display_data"
    }
   ],
   "source": [
    "# строю график по количеству комнат\n",
    "plt.subplot(yticks =range(10),ylim=(-0.5, 9.5))\n",
    "plt.gca().invert_yaxis()\n",
    "plt.gca().xaxis.tick_top()\n",
    "plt.hist([x for x in df['rooms']], range = (0, 9), bins = 18,orientation = 'horizontal',align = 'left')\n",
    "plt.show()"
   ]
  },
  {
   "cell_type": "markdown",
   "metadata": {},
   "source": [
    "Вывод: чаще всего встречаются квартиры с одной и двумя комнатами реже квартиры имеющие три и более комнат."
   ]
  },
  {
   "cell_type": "markdown",
   "metadata": {},
   "source": [
    "<hr style=\"border: 1px solid #000;\"> \n",
    "\n",
    "<div class=\"alert alert-success\">\n",
    "<strong><font size=5>Комментарий от ревьюера</font></strong><br/>\n",
    "    \n",
    "Просто, но довольно наглядно. Всё-таки 3 комнаты не такая уж и редкость (5800 случаев против 7800 двухкомнатных).\n",
    "    \n",
    "</div>\n",
    "<hr style=\"border: 1px solid #000;\"> "
   ]
  },
  {
   "cell_type": "markdown",
   "metadata": {},
   "source": [
    "Исправил"
   ]
  },
  {
   "cell_type": "code",
   "execution_count": 297,
   "metadata": {},
   "outputs": [
    {
     "data": {
      "image/png": "[encoded data removed]",
      "text/plain": [
       "<Figure size 1440x720 with 1 Axes>"
      ]
     },
     "metadata": {
      "needs_background": "light"
     },
     "output_type": "display_data"
    }
   ],
   "source": [
    "df['ceiling_height'].hist(bins=50, figsize=(20, 10), range=(2, 4))\n",
    "plt.show()"
   ]
  },
  {
   "cell_type": "markdown",
   "metadata": {},
   "source": [
    "Вывод: нормальная высота потолков начинается от 2.5 и заканчивается на 2.7, потом есть некоторое количество квартир с потолками от 3 до 3.25. Интересно, что почти нет квартир с высотой потолков от 2.75 до 3.\n"
   ]
  },
  {
   "cell_type": "markdown",
   "metadata": {},
   "source": [
    "<hr style=\"border: 1px solid #000;\"> \n",
    "\n",
    "<div class=\"alert alert-success\">\n",
    "<strong><font size=5>Комментарий от ревьюера</font></strong><br/>\n",
    "    \n",
    "Тут хорошо.\n",
    "    \n",
    "</div>\n",
    "<hr style=\"border: 1px solid #000;\"> "
   ]
  },
  {
   "cell_type": "code",
   "execution_count": 298,
   "metadata": {},
   "outputs": [],
   "source": [
    "df['price']=df['price'] / 1000000"
   ]
  },
  {
   "cell_type": "code",
   "execution_count": 299,
   "metadata": {},
   "outputs": [
    {
     "data": {
      "image/png": "[encoded data removed]",
      "text/plain": [
       "<Figure size 1440x720 with 1 Axes>"
      ]
     },
     "metadata": {
      "needs_background": "light"
     },
     "output_type": "display_data"
    }
   ],
   "source": [
    "df['price'].hist(bins=500, figsize=(20, 10), range=(0, 30))\n",
    "plt.show()"
   ]
  },
  {
   "cell_type": "markdown",
   "metadata": {},
   "source": [
    "Здесь я вижу, что основная часть квартир продается меньше чем за 5 млн "
   ]
  },
  {
   "cell_type": "markdown",
   "metadata": {},
   "source": [
    "Время продажи квартиры\n",
    "<a name=\"4.2\"></a>"
   ]
  },
  {
   "cell_type": "code",
   "execution_count": 300,
   "metadata": {},
   "outputs": [
    {
     "data": {
      "text/plain": [
       "180.7531998045921"
      ]
     },
     "execution_count": 300,
     "metadata": {},
     "output_type": "execute_result"
    }
   ],
   "source": [
    "df['pub_days'].mean()"
   ]
  },
  {
   "cell_type": "code",
   "execution_count": 301,
   "metadata": {},
   "outputs": [
    {
     "data": {
      "text/plain": [
       "95.0"
      ]
     },
     "execution_count": 301,
     "metadata": {},
     "output_type": "execute_result"
    }
   ],
   "source": [
    "df['pub_days'].median()"
   ]
  },
  {
   "cell_type": "code",
   "execution_count": 302,
   "metadata": {},
   "outputs": [
    {
     "data": {
      "image/png": "[encoded data removed]",
      "text/plain": [
       "<Figure size 1440x720 with 1 Axes>"
      ]
     },
     "metadata": {
      "needs_background": "light"
     },
     "output_type": "display_data"
    }
   ],
   "source": [
    "df['pub_days'].hist(bins=500, figsize=(20, 10))\n",
    "plt.show()"
   ]
  },
  {
   "cell_type": "code",
   "execution_count": 303,
   "metadata": {},
   "outputs": [
    {
     "data": {
      "text/plain": [
       "(0, 800)"
      ]
     },
     "execution_count": 303,
     "metadata": {},
     "output_type": "execute_result"
    },
    {
     "data": {
      "image/png": "[encoded data removed]",
      "text/plain": [
       "<Figure size 432x288 with 1 Axes>"
      ]
     },
     "metadata": {
      "needs_background": "light"
     },
     "output_type": "display_data"
    }
   ],
   "source": [
    "df.boxplot('pub_days')\n",
    "plt.ylim(0, 800)"
   ]
  },
  {
   "cell_type": "markdown",
   "metadata": {},
   "source": [
    "Нормальным считается продавать квартиру от 50 дней до 230. Меньше дней - слишком быстро. Больше дней - уже слишком долго. Средним значением является 180 дней, медианой 95."
   ]
  },
  {
   "cell_type": "markdown",
   "metadata": {},
   "source": [
    "<hr style=\"border: 1px solid #000;\"> \n",
    "\n",
    "<div class=\"alert alert-warning\">\n",
    "<strong><font size=5>Комментарий от ревьюера</font></strong><br/>\n",
    "    \n",
    "В таких случаях, когда у нас довольно много данных и большой разброс, рекомендую \"приближать\" график, чтобы рассмотреть нужный нам отрезок более подробно:\n",
    "    \n",
    "</div>"
   ]
  },
  {
   "cell_type": "code",
   "execution_count": 304,
   "metadata": {},
   "outputs": [
    {
     "data": {
      "image/png": "[encoded data removed]",
      "text/plain": [
       "<Figure size 1440x720 with 1 Axes>"
      ]
     },
     "metadata": {
      "needs_background": "light"
     },
     "output_type": "display_data"
    }
   ],
   "source": [
    "df['pub_days'].hist(bins=100, figsize=(20, 10), range=(0,200), ec='black')\n",
    "plt.show()"
   ]
  },
  {
   "cell_type": "markdown",
   "metadata": {},
   "source": [
    "<div class=\"alert alert-warning\">\n",
    "<strong><font size=5>Комментарий от ревьюера</font></strong><br/>\n",
    "    \n",
    "Так мы сможем найти всплески на 45 и 60 дней. Как думаешь, чем они могут быть вызваны?\n",
    "    \n",
    "</div>"
   ]
  },
  {
   "cell_type": "markdown",
   "metadata": {},
   "source": [
    "Я думаю, что всплески на 45 и 60 днях связаны с какой-то автоматизацией. То есть объявления атоматически закрываются через 45 или 60 дней. Ешё, мне кажется, с этим связан небольшой скачек на 90 дне."
   ]
  },
  {
   "cell_type": "markdown",
   "metadata": {},
   "source": [
    "<hr style=\"border: 1px solid #000;\"> "
   ]
  },
  {
   "cell_type": "markdown",
   "metadata": {},
   "source": [
    "Уборка редких и выбивающихся значений \n",
    "<a name=\"4.3\"></a>"
   ]
  },
  {
   "cell_type": "code",
   "execution_count": 305,
   "metadata": {},
   "outputs": [
    {
     "data": {
      "text/html": [
       "<div>\n",
       "<style scoped>\n",
       "    .dataframe tbody tr th:only-of-type {\n",
       "        vertical-align: middle;\n",
       "    }\n",
       "\n",
       "    .dataframe tbody tr th {\n",
       "        vertical-align: top;\n",
       "    }\n",
       "\n",
       "    .dataframe thead th {\n",
       "        text-align: right;\n",
       "    }\n",
       "</style>\n",
       "<table border=\"1\" class=\"dataframe\">\n",
       "  <thead>\n",
       "    <tr style=\"text-align: right;\">\n",
       "      <th></th>\n",
       "      <th>images</th>\n",
       "      <th>total_area</th>\n",
       "      <th>living_area</th>\n",
       "      <th>kitchen_area</th>\n",
       "      <th>ceiling_height</th>\n",
       "      <th>rooms</th>\n",
       "      <th>balcony</th>\n",
       "      <th>floor</th>\n",
       "      <th>total_floors</th>\n",
       "      <th>price</th>\n",
       "      <th>pub_days</th>\n",
       "      <th>to_center</th>\n",
       "      <th>to_airport</th>\n",
       "      <th>parks_3km</th>\n",
       "      <th>parks_nearest</th>\n",
       "      <th>ponds_3km</th>\n",
       "      <th>ponds_nearest</th>\n",
       "      <th>year</th>\n",
       "      <th>meter_price</th>\n",
       "      <th>living_area_part</th>\n",
       "      <th>kitchen_area_part</th>\n",
       "    </tr>\n",
       "  </thead>\n",
       "  <tbody>\n",
       "    <tr>\n",
       "      <td>count</td>\n",
       "      <td>23650.000000</td>\n",
       "      <td>23650.000000</td>\n",
       "      <td>23650.000000</td>\n",
       "      <td>23650.000000</td>\n",
       "      <td>23650.000000</td>\n",
       "      <td>23650.000000</td>\n",
       "      <td>23650.000000</td>\n",
       "      <td>23650.000000</td>\n",
       "      <td>23650.000000</td>\n",
       "      <td>23650.000000</td>\n",
       "      <td>20470.000000</td>\n",
       "      <td>18139.000000</td>\n",
       "      <td>18116.000000</td>\n",
       "      <td>18140.000000</td>\n",
       "      <td>8064.000000</td>\n",
       "      <td>18140.000000</td>\n",
       "      <td>9085.000000</td>\n",
       "      <td>23650.000000</td>\n",
       "      <td>2.365000e+04</td>\n",
       "      <td>23650.000000</td>\n",
       "      <td>23650.000000</td>\n",
       "    </tr>\n",
       "    <tr>\n",
       "      <td>mean</td>\n",
       "      <td>9.862326</td>\n",
       "      <td>60.329069</td>\n",
       "      <td>32.558992</td>\n",
       "      <td>10.439805</td>\n",
       "      <td>2.729489</td>\n",
       "      <td>2.070106</td>\n",
       "      <td>0.591712</td>\n",
       "      <td>5.893277</td>\n",
       "      <td>10.663932</td>\n",
       "      <td>6.541127</td>\n",
       "      <td>180.753200</td>\n",
       "      <td>14.191576</td>\n",
       "      <td>28803.225878</td>\n",
       "      <td>0.611577</td>\n",
       "      <td>490.830729</td>\n",
       "      <td>0.769680</td>\n",
       "      <td>518.059879</td>\n",
       "      <td>2017.370021</td>\n",
       "      <td>9.943225e+04</td>\n",
       "      <td>53.322825</td>\n",
       "      <td>18.432351</td>\n",
       "    </tr>\n",
       "    <tr>\n",
       "      <td>std</td>\n",
       "      <td>5.682278</td>\n",
       "      <td>35.661808</td>\n",
       "      <td>22.190802</td>\n",
       "      <td>6.072763</td>\n",
       "      <td>0.992848</td>\n",
       "      <td>1.078620</td>\n",
       "      <td>0.959662</td>\n",
       "      <td>4.883317</td>\n",
       "      <td>6.591129</td>\n",
       "      <td>10.896399</td>\n",
       "      <td>219.777916</td>\n",
       "      <td>8.614645</td>\n",
       "      <td>12637.314144</td>\n",
       "      <td>0.802003</td>\n",
       "      <td>342.554386</td>\n",
       "      <td>0.937948</td>\n",
       "      <td>277.841733</td>\n",
       "      <td>1.037806</td>\n",
       "      <td>5.033794e+04</td>\n",
       "      <td>14.697445</td>\n",
       "      <td>7.173745</td>\n",
       "    </tr>\n",
       "    <tr>\n",
       "      <td>min</td>\n",
       "      <td>0.000000</td>\n",
       "      <td>12.000000</td>\n",
       "      <td>2.000000</td>\n",
       "      <td>0.000000</td>\n",
       "      <td>1.000000</td>\n",
       "      <td>0.000000</td>\n",
       "      <td>0.000000</td>\n",
       "      <td>1.000000</td>\n",
       "      <td>1.000000</td>\n",
       "      <td>0.012190</td>\n",
       "      <td>1.000000</td>\n",
       "      <td>0.000000</td>\n",
       "      <td>0.000000</td>\n",
       "      <td>0.000000</td>\n",
       "      <td>1.000000</td>\n",
       "      <td>0.000000</td>\n",
       "      <td>13.000000</td>\n",
       "      <td>2014.000000</td>\n",
       "      <td>1.118349e+02</td>\n",
       "      <td>2.200000</td>\n",
       "      <td>0.000000</td>\n",
       "    </tr>\n",
       "    <tr>\n",
       "      <td>25%</td>\n",
       "      <td>6.000000</td>\n",
       "      <td>40.000000</td>\n",
       "      <td>18.000000</td>\n",
       "      <td>7.000000</td>\n",
       "      <td>2.600000</td>\n",
       "      <td>1.000000</td>\n",
       "      <td>0.000000</td>\n",
       "      <td>2.000000</td>\n",
       "      <td>5.000000</td>\n",
       "      <td>3.400000</td>\n",
       "      <td>45.000000</td>\n",
       "      <td>9.000000</td>\n",
       "      <td>18575.750000</td>\n",
       "      <td>0.000000</td>\n",
       "      <td>288.000000</td>\n",
       "      <td>0.000000</td>\n",
       "      <td>293.000000</td>\n",
       "      <td>2017.000000</td>\n",
       "      <td>7.661497e+04</td>\n",
       "      <td>46.700000</td>\n",
       "      <td>13.600000</td>\n",
       "    </tr>\n",
       "    <tr>\n",
       "      <td>50%</td>\n",
       "      <td>9.000000</td>\n",
       "      <td>52.000000</td>\n",
       "      <td>29.000000</td>\n",
       "      <td>9.000000</td>\n",
       "      <td>2.600000</td>\n",
       "      <td>2.000000</td>\n",
       "      <td>0.000000</td>\n",
       "      <td>4.000000</td>\n",
       "      <td>9.000000</td>\n",
       "      <td>4.650000</td>\n",
       "      <td>95.000000</td>\n",
       "      <td>13.000000</td>\n",
       "      <td>26756.500000</td>\n",
       "      <td>0.000000</td>\n",
       "      <td>454.500000</td>\n",
       "      <td>1.000000</td>\n",
       "      <td>502.000000</td>\n",
       "      <td>2017.000000</td>\n",
       "      <td>9.500000e+04</td>\n",
       "      <td>55.700000</td>\n",
       "      <td>17.200000</td>\n",
       "    </tr>\n",
       "    <tr>\n",
       "      <td>75%</td>\n",
       "      <td>14.000000</td>\n",
       "      <td>69.700000</td>\n",
       "      <td>41.152500</td>\n",
       "      <td>12.000000</td>\n",
       "      <td>2.780000</td>\n",
       "      <td>3.000000</td>\n",
       "      <td>1.000000</td>\n",
       "      <td>8.000000</td>\n",
       "      <td>16.000000</td>\n",
       "      <td>6.799000</td>\n",
       "      <td>231.000000</td>\n",
       "      <td>16.000000</td>\n",
       "      <td>37294.000000</td>\n",
       "      <td>1.000000</td>\n",
       "      <td>612.000000</td>\n",
       "      <td>1.000000</td>\n",
       "      <td>730.000000</td>\n",
       "      <td>2018.000000</td>\n",
       "      <td>1.142742e+05</td>\n",
       "      <td>63.200000</td>\n",
       "      <td>22.400000</td>\n",
       "    </tr>\n",
       "    <tr>\n",
       "      <td>max</td>\n",
       "      <td>50.000000</td>\n",
       "      <td>900.000000</td>\n",
       "      <td>409.700000</td>\n",
       "      <td>112.000000</td>\n",
       "      <td>100.000000</td>\n",
       "      <td>19.000000</td>\n",
       "      <td>5.000000</td>\n",
       "      <td>33.000000</td>\n",
       "      <td>60.000000</td>\n",
       "      <td>763.000000</td>\n",
       "      <td>1580.000000</td>\n",
       "      <td>66.000000</td>\n",
       "      <td>84869.000000</td>\n",
       "      <td>3.000000</td>\n",
       "      <td>3190.000000</td>\n",
       "      <td>3.000000</td>\n",
       "      <td>1344.000000</td>\n",
       "      <td>2019.000000</td>\n",
       "      <td>1.907500e+06</td>\n",
       "      <td>100.000000</td>\n",
       "      <td>78.800000</td>\n",
       "    </tr>\n",
       "  </tbody>\n",
       "</table>\n",
       "</div>"
      ],
      "text/plain": [
       "             images    total_area   living_area  kitchen_area  ceiling_height  \\\n",
       "count  23650.000000  23650.000000  23650.000000  23650.000000    23650.000000   \n",
       "mean       9.862326     60.329069     32.558992     10.439805        2.729489   \n",
       "std        5.682278     35.661808     22.190802      6.072763        0.992848   \n",
       "min        0.000000     12.000000      2.000000      0.000000        1.000000   \n",
       "25%        6.000000     40.000000     18.000000      7.000000        2.600000   \n",
       "50%        9.000000     52.000000     29.000000      9.000000        2.600000   \n",
       "75%       14.000000     69.700000     41.152500     12.000000        2.780000   \n",
       "max       50.000000    900.000000    409.700000    112.000000      100.000000   \n",
       "\n",
       "              rooms       balcony         floor  total_floors         price  \\\n",
       "count  23650.000000  23650.000000  23650.000000  23650.000000  23650.000000   \n",
       "mean       2.070106      0.591712      5.893277     10.663932      6.541127   \n",
       "std        1.078620      0.959662      4.883317      6.591129     10.896399   \n",
       "min        0.000000      0.000000      1.000000      1.000000      0.012190   \n",
       "25%        1.000000      0.000000      2.000000      5.000000      3.400000   \n",
       "50%        2.000000      0.000000      4.000000      9.000000      4.650000   \n",
       "75%        3.000000      1.000000      8.000000     16.000000      6.799000   \n",
       "max       19.000000      5.000000     33.000000     60.000000    763.000000   \n",
       "\n",
       "           pub_days     to_center    to_airport     parks_3km  parks_nearest  \\\n",
       "count  20470.000000  18139.000000  18116.000000  18140.000000    8064.000000   \n",
       "mean     180.753200     14.191576  28803.225878      0.611577     490.830729   \n",
       "std      219.777916      8.614645  12637.314144      0.802003     342.554386   \n",
       "min        1.000000      0.000000      0.000000      0.000000       1.000000   \n",
       "25%       45.000000      9.000000  18575.750000      0.000000     288.000000   \n",
       "50%       95.000000     13.000000  26756.500000      0.000000     454.500000   \n",
       "75%      231.000000     16.000000  37294.000000      1.000000     612.000000   \n",
       "max     1580.000000     66.000000  84869.000000      3.000000    3190.000000   \n",
       "\n",
       "          ponds_3km  ponds_nearest          year   meter_price  \\\n",
       "count  18140.000000    9085.000000  23650.000000  2.365000e+04   \n",
       "mean       0.769680     518.059879   2017.370021  9.943225e+04   \n",
       "std        0.937948     277.841733      1.037806  5.033794e+04   \n",
       "min        0.000000      13.000000   2014.000000  1.118349e+02   \n",
       "25%        0.000000     293.000000   2017.000000  7.661497e+04   \n",
       "50%        1.000000     502.000000   2017.000000  9.500000e+04   \n",
       "75%        1.000000     730.000000   2018.000000  1.142742e+05   \n",
       "max        3.000000    1344.000000   2019.000000  1.907500e+06   \n",
       "\n",
       "       living_area_part  kitchen_area_part  \n",
       "count      23650.000000       23650.000000  \n",
       "mean          53.322825          18.432351  \n",
       "std           14.697445           7.173745  \n",
       "min            2.200000           0.000000  \n",
       "25%           46.700000          13.600000  \n",
       "50%           55.700000          17.200000  \n",
       "75%           63.200000          22.400000  \n",
       "max          100.000000          78.800000  "
      ]
     },
     "execution_count": 305,
     "metadata": {},
     "output_type": "execute_result"
    }
   ],
   "source": [
    "df.describe()"
   ]
  },
  {
   "cell_type": "code",
   "execution_count": 306,
   "metadata": {},
   "outputs": [
    {
     "data": {
      "text/plain": [
       "(0, 4)"
      ]
     },
     "execution_count": 306,
     "metadata": {},
     "output_type": "execute_result"
    },
    {
     "data": {
      "image/png": "[encoded data removed]",
      "text/plain": [
       "<Figure size 432x288 with 1 Axes>"
      ]
     },
     "metadata": {
      "needs_background": "light"
     },
     "output_type": "display_data"
    }
   ],
   "source": [
    "sns.boxplot(df.ceiling_height)\n",
    "plt.xlim(0,4)"
   ]
  },
  {
   "cell_type": "markdown",
   "metadata": {},
   "source": [
    "<hr style=\"border: 1px solid #000;\"> \n",
    "\n",
    "<div class=\"alert alert-danger\">\n",
    "<strong><font size=5>Комментарий от ревьюера</font></strong><br/>\n",
    "    \n",
    "И тут тоже стоит приблизить. Так точно не будет споров, почему диапазон от 2.4 до 3.25м мы взяли.\n",
    "    \n",
    "</div>\n",
    "<hr style=\"border: 1px solid #000;\"> "
   ]
  },
  {
   "cell_type": "markdown",
   "metadata": {},
   "source": [
    "Сделал"
   ]
  },
  {
   "cell_type": "markdown",
   "metadata": {},
   "source": [
    "<hr style=\"border: 1px solid #000;\"> \n",
    "\n",
    "<div class=\"alert alert-success\">\n",
    "<strong><font size=5>Комментарий от ревьюера (v.2)</font></strong><br/>\n",
    "    \n",
    "Теперь хорошо.\n",
    "    \n",
    "</div>\n",
    "<hr style=\"border: 1px solid #000;\"> "
   ]
  },
  {
   "cell_type": "code",
   "execution_count": 307,
   "metadata": {},
   "outputs": [],
   "source": [
    "# удаляю выбросы \n",
    "df = df[df.ceiling_height >= 2.4]\n",
    "df = df[df.ceiling_height <= 3.25]"
   ]
  },
  {
   "cell_type": "code",
   "execution_count": 308,
   "metadata": {},
   "outputs": [],
   "source": [
    "#Здесь видно, что нормальная высота потолко ровна от 2.4 до 3.25"
   ]
  },
  {
   "cell_type": "code",
   "execution_count": 309,
   "metadata": {},
   "outputs": [
    {
     "data": {
      "text/plain": [
       "<matplotlib.axes._subplots.AxesSubplot at 0x7fa454ffe410>"
      ]
     },
     "execution_count": 309,
     "metadata": {},
     "output_type": "execute_result"
    },
    {
     "data": {
      "image/png": "[encoded data removed]",
      "text/plain": [
       "<Figure size 432x288 with 1 Axes>"
      ]
     },
     "metadata": {
      "needs_background": "light"
     },
     "output_type": "display_data"
    }
   ],
   "source": [
    "df.boxplot('rooms')"
   ]
  },
  {
   "cell_type": "code",
   "execution_count": 310,
   "metadata": {},
   "outputs": [],
   "source": [
    "#удаляю выбросы в квартирах. здась минимальным значение 0 и все, что больше 6 квартир является выбросом\n",
    "df = df[df.rooms <=6]"
   ]
  },
  {
   "cell_type": "markdown",
   "metadata": {},
   "source": [
    "<hr style=\"border: 1px solid #000;\"> \n",
    "\n",
    "<div class=\"alert alert-success\">\n",
    "<strong><font size=5>Комментарий от ревьюера</font></strong><br/>\n",
    "    \n",
    "А тут и так отлично видно.\n",
    "    \n",
    "</div>\n",
    "<hr style=\"border: 1px solid #000;\"> "
   ]
  },
  {
   "cell_type": "code",
   "execution_count": 311,
   "metadata": {},
   "outputs": [
    {
     "data": {
      "text/plain": [
       "<matplotlib.axes._subplots.AxesSubplot at 0x7fa454c5ac10>"
      ]
     },
     "execution_count": 311,
     "metadata": {},
     "output_type": "execute_result"
    },
    {
     "data": {
      "image/png": "[encoded data removed]",
      "text/plain": [
       "<Figure size 432x288 with 1 Axes>"
      ]
     },
     "metadata": {
      "needs_background": "light"
     },
     "output_type": "display_data"
    }
   ],
   "source": [
    "\n",
    "df.boxplot('total_area')"
   ]
  },
  {
   "cell_type": "code",
   "execution_count": 312,
   "metadata": {},
   "outputs": [],
   "source": [
    "#здесь минимальным значением будет примерно 20 квадратов и максимальным 115"
   ]
  },
  {
   "cell_type": "code",
   "execution_count": 313,
   "metadata": {},
   "outputs": [],
   "source": [
    "df = df[df.total_area <=115]\n",
    "df = df[df.total_area >=20]"
   ]
  },
  {
   "cell_type": "code",
   "execution_count": 314,
   "metadata": {},
   "outputs": [
    {
     "data": {
      "text/plain": [
       "<matplotlib.axes._subplots.AxesSubplot at 0x7fa455009a50>"
      ]
     },
     "execution_count": 314,
     "metadata": {},
     "output_type": "execute_result"
    },
    {
     "data": {
      "image/png": "[encoded data removed]",
      "text/plain": [
       "<Figure size 432x288 with 1 Axes>"
      ]
     },
     "metadata": {
      "needs_background": "light"
     },
     "output_type": "display_data"
    }
   ],
   "source": [
    "df.boxplot('kitchen_area')"
   ]
  },
  {
   "cell_type": "code",
   "execution_count": 315,
   "metadata": {},
   "outputs": [],
   "source": [
    "df = df[df.kitchen_area <=16]\n",
    "df = df[df.kitchen_area >=1]"
   ]
  },
  {
   "cell_type": "code",
   "execution_count": 316,
   "metadata": {},
   "outputs": [
    {
     "data": {
      "text/plain": [
       "<matplotlib.axes._subplots.AxesSubplot at 0x7fa45500d210>"
      ]
     },
     "execution_count": 316,
     "metadata": {},
     "output_type": "execute_result"
    },
    {
     "data": {
      "image/png": "[encoded data removed]",
      "text/plain": [
       "<Figure size 432x288 with 1 Axes>"
      ]
     },
     "metadata": {
      "needs_background": "light"
     },
     "output_type": "display_data"
    }
   ],
   "source": [
    "df.boxplot('price')"
   ]
  },
  {
   "cell_type": "code",
   "execution_count": 317,
   "metadata": {},
   "outputs": [],
   "source": [
    "df = df[df.price <=11]"
   ]
  },
  {
   "cell_type": "code",
   "execution_count": 318,
   "metadata": {},
   "outputs": [],
   "source": [
    "# у цены нет нижнего порога, зато есть максимум, не больше 11 миллионов "
   ]
  },
  {
   "cell_type": "code",
   "execution_count": 319,
   "metadata": {},
   "outputs": [
    {
     "data": {
      "text/plain": [
       "<matplotlib.axes._subplots.AxesSubplot at 0x7fa4550a6e90>"
      ]
     },
     "execution_count": 319,
     "metadata": {},
     "output_type": "execute_result"
    },
    {
     "data": {
      "image/png": "[encoded data removed]",
      "text/plain": [
       "<Figure size 432x288 with 1 Axes>"
      ]
     },
     "metadata": {
      "needs_background": "light"
     },
     "output_type": "display_data"
    }
   ],
   "source": [
    "df.boxplot('pub_days')"
   ]
  },
  {
   "cell_type": "code",
   "execution_count": 320,
   "metadata": {},
   "outputs": [],
   "source": [
    "df = df[df.pub_days <=500]"
   ]
  },
  {
   "cell_type": "code",
   "execution_count": 321,
   "metadata": {},
   "outputs": [
    {
     "data": {
      "text/html": [
       "<div>\n",
       "<style scoped>\n",
       "    .dataframe tbody tr th:only-of-type {\n",
       "        vertical-align: middle;\n",
       "    }\n",
       "\n",
       "    .dataframe tbody tr th {\n",
       "        vertical-align: top;\n",
       "    }\n",
       "\n",
       "    .dataframe thead th {\n",
       "        text-align: right;\n",
       "    }\n",
       "</style>\n",
       "<table border=\"1\" class=\"dataframe\">\n",
       "  <thead>\n",
       "    <tr style=\"text-align: right;\">\n",
       "      <th></th>\n",
       "      <th>images</th>\n",
       "      <th>total_area</th>\n",
       "      <th>living_area</th>\n",
       "      <th>kitchen_area</th>\n",
       "      <th>ceiling_height</th>\n",
       "      <th>rooms</th>\n",
       "      <th>balcony</th>\n",
       "      <th>floor</th>\n",
       "      <th>total_floors</th>\n",
       "      <th>price</th>\n",
       "      <th>pub_days</th>\n",
       "      <th>to_center</th>\n",
       "      <th>to_airport</th>\n",
       "      <th>parks_3km</th>\n",
       "      <th>parks_nearest</th>\n",
       "      <th>ponds_3km</th>\n",
       "      <th>ponds_nearest</th>\n",
       "      <th>year</th>\n",
       "      <th>meter_price</th>\n",
       "      <th>living_area_part</th>\n",
       "      <th>kitchen_area_part</th>\n",
       "    </tr>\n",
       "  </thead>\n",
       "  <tbody>\n",
       "    <tr>\n",
       "      <td>count</td>\n",
       "      <td>16121.000000</td>\n",
       "      <td>16121.000000</td>\n",
       "      <td>16121.000000</td>\n",
       "      <td>16121.000000</td>\n",
       "      <td>16121.000000</td>\n",
       "      <td>16121.000000</td>\n",
       "      <td>16121.000000</td>\n",
       "      <td>16121.000000</td>\n",
       "      <td>16121.000000</td>\n",
       "      <td>16121.000000</td>\n",
       "      <td>16121.000000</td>\n",
       "      <td>12097.000000</td>\n",
       "      <td>12085.000000</td>\n",
       "      <td>12097.000000</td>\n",
       "      <td>4868.000000</td>\n",
       "      <td>12097.000000</td>\n",
       "      <td>5611.000000</td>\n",
       "      <td>16121.000000</td>\n",
       "      <td>16121.000000</td>\n",
       "      <td>16121.000000</td>\n",
       "      <td>16121.000000</td>\n",
       "    </tr>\n",
       "    <tr>\n",
       "      <td>mean</td>\n",
       "      <td>9.526084</td>\n",
       "      <td>50.869360</td>\n",
       "      <td>27.522542</td>\n",
       "      <td>8.918500</td>\n",
       "      <td>2.647610</td>\n",
       "      <td>1.869611</td>\n",
       "      <td>0.590844</td>\n",
       "      <td>5.974381</td>\n",
       "      <td>10.920414</td>\n",
       "      <td>4.554659</td>\n",
       "      <td>123.426835</td>\n",
       "      <td>15.391833</td>\n",
       "      <td>29172.076955</td>\n",
       "      <td>0.532446</td>\n",
       "      <td>484.874897</td>\n",
       "      <td>0.664545</td>\n",
       "      <td>543.051328</td>\n",
       "      <td>2017.374480</td>\n",
       "      <td>90551.426253</td>\n",
       "      <td>53.143794</td>\n",
       "      <td>18.520352</td>\n",
       "    </tr>\n",
       "    <tr>\n",
       "      <td>std</td>\n",
       "      <td>5.502477</td>\n",
       "      <td>16.247975</td>\n",
       "      <td>12.896522</td>\n",
       "      <td>2.632602</td>\n",
       "      <td>0.145529</td>\n",
       "      <td>0.849022</td>\n",
       "      <td>0.923743</td>\n",
       "      <td>4.901641</td>\n",
       "      <td>6.605889</td>\n",
       "      <td>1.933459</td>\n",
       "      <td>117.293121</td>\n",
       "      <td>8.287157</td>\n",
       "      <td>13220.964943</td>\n",
       "      <td>0.747544</td>\n",
       "      <td>322.436551</td>\n",
       "      <td>0.854528</td>\n",
       "      <td>274.051900</td>\n",
       "      <td>0.842212</td>\n",
       "      <td>28040.430756</td>\n",
       "      <td>14.464206</td>\n",
       "      <td>5.966792</td>\n",
       "    </tr>\n",
       "    <tr>\n",
       "      <td>min</td>\n",
       "      <td>0.000000</td>\n",
       "      <td>20.000000</td>\n",
       "      <td>2.000000</td>\n",
       "      <td>2.000000</td>\n",
       "      <td>2.400000</td>\n",
       "      <td>1.000000</td>\n",
       "      <td>0.000000</td>\n",
       "      <td>1.000000</td>\n",
       "      <td>1.000000</td>\n",
       "      <td>0.430000</td>\n",
       "      <td>1.000000</td>\n",
       "      <td>0.000000</td>\n",
       "      <td>0.000000</td>\n",
       "      <td>0.000000</td>\n",
       "      <td>1.000000</td>\n",
       "      <td>0.000000</td>\n",
       "      <td>16.000000</td>\n",
       "      <td>2015.000000</td>\n",
       "      <td>7962.962963</td>\n",
       "      <td>3.800000</td>\n",
       "      <td>4.400000</td>\n",
       "    </tr>\n",
       "    <tr>\n",
       "      <td>25%</td>\n",
       "      <td>6.000000</td>\n",
       "      <td>38.000000</td>\n",
       "      <td>17.300000</td>\n",
       "      <td>6.900000</td>\n",
       "      <td>2.600000</td>\n",
       "      <td>1.000000</td>\n",
       "      <td>0.000000</td>\n",
       "      <td>2.000000</td>\n",
       "      <td>5.000000</td>\n",
       "      <td>3.250000</td>\n",
       "      <td>40.000000</td>\n",
       "      <td>11.000000</td>\n",
       "      <td>17763.000000</td>\n",
       "      <td>0.000000</td>\n",
       "      <td>288.000000</td>\n",
       "      <td>0.000000</td>\n",
       "      <td>332.000000</td>\n",
       "      <td>2017.000000</td>\n",
       "      <td>74375.000000</td>\n",
       "      <td>46.800000</td>\n",
       "      <td>14.100000</td>\n",
       "    </tr>\n",
       "    <tr>\n",
       "      <td>50%</td>\n",
       "      <td>9.000000</td>\n",
       "      <td>47.000000</td>\n",
       "      <td>27.400000</td>\n",
       "      <td>8.600000</td>\n",
       "      <td>2.600000</td>\n",
       "      <td>2.000000</td>\n",
       "      <td>0.000000</td>\n",
       "      <td>4.000000</td>\n",
       "      <td>9.000000</td>\n",
       "      <td>4.200000</td>\n",
       "      <td>79.000000</td>\n",
       "      <td>14.000000</td>\n",
       "      <td>27735.000000</td>\n",
       "      <td>0.000000</td>\n",
       "      <td>451.500000</td>\n",
       "      <td>0.000000</td>\n",
       "      <td>535.000000</td>\n",
       "      <td>2017.000000</td>\n",
       "      <td>91463.414634</td>\n",
       "      <td>55.600000</td>\n",
       "      <td>17.200000</td>\n",
       "    </tr>\n",
       "    <tr>\n",
       "      <td>75%</td>\n",
       "      <td>13.000000</td>\n",
       "      <td>60.700000</td>\n",
       "      <td>36.000000</td>\n",
       "      <td>10.600000</td>\n",
       "      <td>2.700000</td>\n",
       "      <td>2.000000</td>\n",
       "      <td>1.000000</td>\n",
       "      <td>8.000000</td>\n",
       "      <td>16.000000</td>\n",
       "      <td>5.589000</td>\n",
       "      <td>175.000000</td>\n",
       "      <td>17.000000</td>\n",
       "      <td>38849.000000</td>\n",
       "      <td>1.000000</td>\n",
       "      <td>612.000000</td>\n",
       "      <td>1.000000</td>\n",
       "      <td>752.000000</td>\n",
       "      <td>2018.000000</td>\n",
       "      <td>106965.174129</td>\n",
       "      <td>62.800000</td>\n",
       "      <td>22.500000</td>\n",
       "    </tr>\n",
       "    <tr>\n",
       "      <td>max</td>\n",
       "      <td>39.000000</td>\n",
       "      <td>115.000000</td>\n",
       "      <td>87.000000</td>\n",
       "      <td>16.000000</td>\n",
       "      <td>3.250000</td>\n",
       "      <td>6.000000</td>\n",
       "      <td>5.000000</td>\n",
       "      <td>33.000000</td>\n",
       "      <td>60.000000</td>\n",
       "      <td>11.000000</td>\n",
       "      <td>500.000000</td>\n",
       "      <td>65.000000</td>\n",
       "      <td>83758.000000</td>\n",
       "      <td>3.000000</td>\n",
       "      <td>3190.000000</td>\n",
       "      <td>3.000000</td>\n",
       "      <td>1344.000000</td>\n",
       "      <td>2019.000000</td>\n",
       "      <td>312240.000000</td>\n",
       "      <td>97.300000</td>\n",
       "      <td>72.300000</td>\n",
       "    </tr>\n",
       "  </tbody>\n",
       "</table>\n",
       "</div>"
      ],
      "text/plain": [
       "             images    total_area   living_area  kitchen_area  ceiling_height  \\\n",
       "count  16121.000000  16121.000000  16121.000000  16121.000000    16121.000000   \n",
       "mean       9.526084     50.869360     27.522542      8.918500        2.647610   \n",
       "std        5.502477     16.247975     12.896522      2.632602        0.145529   \n",
       "min        0.000000     20.000000      2.000000      2.000000        2.400000   \n",
       "25%        6.000000     38.000000     17.300000      6.900000        2.600000   \n",
       "50%        9.000000     47.000000     27.400000      8.600000        2.600000   \n",
       "75%       13.000000     60.700000     36.000000     10.600000        2.700000   \n",
       "max       39.000000    115.000000     87.000000     16.000000        3.250000   \n",
       "\n",
       "              rooms       balcony         floor  total_floors         price  \\\n",
       "count  16121.000000  16121.000000  16121.000000  16121.000000  16121.000000   \n",
       "mean       1.869611      0.590844      5.974381     10.920414      4.554659   \n",
       "std        0.849022      0.923743      4.901641      6.605889      1.933459   \n",
       "min        1.000000      0.000000      1.000000      1.000000      0.430000   \n",
       "25%        1.000000      0.000000      2.000000      5.000000      3.250000   \n",
       "50%        2.000000      0.000000      4.000000      9.000000      4.200000   \n",
       "75%        2.000000      1.000000      8.000000     16.000000      5.589000   \n",
       "max        6.000000      5.000000     33.000000     60.000000     11.000000   \n",
       "\n",
       "           pub_days     to_center    to_airport     parks_3km  parks_nearest  \\\n",
       "count  16121.000000  12097.000000  12085.000000  12097.000000    4868.000000   \n",
       "mean     123.426835     15.391833  29172.076955      0.532446     484.874897   \n",
       "std      117.293121      8.287157  13220.964943      0.747544     322.436551   \n",
       "min        1.000000      0.000000      0.000000      0.000000       1.000000   \n",
       "25%       40.000000     11.000000  17763.000000      0.000000     288.000000   \n",
       "50%       79.000000     14.000000  27735.000000      0.000000     451.500000   \n",
       "75%      175.000000     17.000000  38849.000000      1.000000     612.000000   \n",
       "max      500.000000     65.000000  83758.000000      3.000000    3190.000000   \n",
       "\n",
       "          ponds_3km  ponds_nearest          year    meter_price  \\\n",
       "count  12097.000000    5611.000000  16121.000000   16121.000000   \n",
       "mean       0.664545     543.051328   2017.374480   90551.426253   \n",
       "std        0.854528     274.051900      0.842212   28040.430756   \n",
       "min        0.000000      16.000000   2015.000000    7962.962963   \n",
       "25%        0.000000     332.000000   2017.000000   74375.000000   \n",
       "50%        0.000000     535.000000   2017.000000   91463.414634   \n",
       "75%        1.000000     752.000000   2018.000000  106965.174129   \n",
       "max        3.000000    1344.000000   2019.000000  312240.000000   \n",
       "\n",
       "       living_area_part  kitchen_area_part  \n",
       "count      16121.000000       16121.000000  \n",
       "mean          53.143794          18.520352  \n",
       "std           14.464206           5.966792  \n",
       "min            3.800000           4.400000  \n",
       "25%           46.800000          14.100000  \n",
       "50%           55.600000          17.200000  \n",
       "75%           62.800000          22.500000  \n",
       "max           97.300000          72.300000  "
      ]
     },
     "execution_count": 321,
     "metadata": {},
     "output_type": "execute_result"
    }
   ],
   "source": [
    "df.describe()"
   ]
  },
  {
   "cell_type": "code",
   "execution_count": 322,
   "metadata": {},
   "outputs": [],
   "source": [
    "#я удалил выбросы, где это необходимо, при этом удалилось около 9000 строк"
   ]
  },
  {
   "cell_type": "markdown",
   "metadata": {},
   "source": [
    "<hr style=\"border: 1px solid #000;\"> \n",
    "\n",
    "<div class=\"alert alert-success\">\n",
    "<strong><font size=5>Комментарий от ревьюера</font></strong><br/>\n",
    "    \n",
    "Отлично. Теперь посмотрим на эти \"чистые\" данные.\n",
    "    \n",
    "</div>\n",
    "<hr style=\"border: 1px solid #000;\"> "
   ]
  },
  {
   "cell_type": "markdown",
   "metadata": {},
   "source": [
    "Факторы влияющие на стоимость квартиры\n",
    "<a name=\"4.4\"></a>"
   ]
  },
  {
   "cell_type": "code",
   "execution_count": 323,
   "metadata": {},
   "outputs": [
    {
     "data": {
      "text/plain": [
       "<matplotlib.axes._subplots.AxesSubplot at 0x7fa455002850>"
      ]
     },
     "execution_count": 323,
     "metadata": {},
     "output_type": "execute_result"
    },
    {
     "data": {
      "image/png": "[encoded data removed]",
      "text/plain": [
       "<Figure size 432x288 with 1 Axes>"
      ]
     },
     "metadata": {
      "needs_background": "light"
     },
     "output_type": "display_data"
    }
   ],
   "source": [
    "\n",
    "df.plot(x='rooms', y='meter_price', kind='scatter', grid=True)"
   ]
  },
  {
   "cell_type": "code",
   "execution_count": 324,
   "metadata": {},
   "outputs": [],
   "source": [
    "#здесь я вижу, что чем больше комнат в квартире, тем ниже цена за квадратный метр\n",
    "# цена от кроичества комнат зависит "
   ]
  },
  {
   "cell_type": "code",
   "execution_count": 325,
   "metadata": {},
   "outputs": [
    {
     "data": {
      "text/plain": [
       "<matplotlib.axes._subplots.AxesSubplot at 0x7fa4550ec610>"
      ]
     },
     "execution_count": 325,
     "metadata": {},
     "output_type": "execute_result"
    },
    {
     "data": {
      "image/png": "[encoded data removed]",
      "text/plain": [
       "<Figure size 432x288 with 1 Axes>"
      ]
     },
     "metadata": {
      "needs_background": "light"
     },
     "output_type": "display_data"
    }
   ],
   "source": [
    "df.plot(x='to_center', y='meter_price', kind='scatter', grid=True)"
   ]
  },
  {
   "cell_type": "code",
   "execution_count": 326,
   "metadata": {},
   "outputs": [],
   "source": [
    "#здесь я вижу, что чем ближе к центру, тем больше разброс цен, чем дальше, тем выбор и ниже цена\n",
    "# так же зависит цена и от удаленности от центра"
   ]
  },
  {
   "cell_type": "code",
   "execution_count": 327,
   "metadata": {},
   "outputs": [
    {
     "data": {
      "text/plain": [
       "<matplotlib.axes._subplots.AxesSubplot at 0x7fa4a3438050>"
      ]
     },
     "execution_count": 327,
     "metadata": {},
     "output_type": "execute_result"
    },
    {
     "data": {
      "image/png": "[encoded data removed]",
      "text/plain": [
       "<Figure size 432x288 with 1 Axes>"
      ]
     },
     "metadata": {
      "needs_background": "light"
     },
     "output_type": "display_data"
    }
   ],
   "source": [
    "df.plot(x='total_area', y='meter_price', kind='scatter', grid=True)"
   ]
  },
  {
   "cell_type": "markdown",
   "metadata": {},
   "source": [
    "Здесь видно, что чем больше площадь квартиры, тем ниже стоит квадратный метр и зависит от количества квадратных метров "
   ]
  },
  {
   "cell_type": "markdown",
   "metadata": {},
   "source": [
    "<hr style=\"border: 1px solid #000;\"> \n",
    "\n",
    "<div class=\"alert alert-success\">\n",
    "<strong><font size=5>Комментарий от ревьюера</font></strong><br/>\n",
    "    \n",
    "Хороший блок. Очень хорошо выбрал типы графиков для отрисовки.\n",
    "    \n",
    "</div>\n",
    "<hr style=\"border: 1px solid #000;\"> "
   ]
  },
  {
   "cell_type": "markdown",
   "metadata": {},
   "source": [
    "День недели"
   ]
  },
  {
   "cell_type": "code",
   "execution_count": 328,
   "metadata": {},
   "outputs": [
    {
     "data": {
      "text/html": [
       "<div>\n",
       "<style scoped>\n",
       "    .dataframe tbody tr th:only-of-type {\n",
       "        vertical-align: middle;\n",
       "    }\n",
       "\n",
       "    .dataframe tbody tr th {\n",
       "        vertical-align: top;\n",
       "    }\n",
       "\n",
       "    .dataframe thead tr th {\n",
       "        text-align: left;\n",
       "    }\n",
       "</style>\n",
       "<table border=\"1\" class=\"dataframe\">\n",
       "  <thead>\n",
       "    <tr>\n",
       "      <th></th>\n",
       "      <th>weekday</th>\n",
       "      <th>mean</th>\n",
       "    </tr>\n",
       "    <tr>\n",
       "      <th></th>\n",
       "      <th></th>\n",
       "      <th>price</th>\n",
       "    </tr>\n",
       "  </thead>\n",
       "  <tbody>\n",
       "    <tr>\n",
       "      <td>0</td>\n",
       "      <td>Friday</td>\n",
       "      <td>4.564663</td>\n",
       "    </tr>\n",
       "    <tr>\n",
       "      <td>1</td>\n",
       "      <td>Monday</td>\n",
       "      <td>4.555187</td>\n",
       "    </tr>\n",
       "    <tr>\n",
       "      <td>2</td>\n",
       "      <td>Saturday</td>\n",
       "      <td>4.529717</td>\n",
       "    </tr>\n",
       "    <tr>\n",
       "      <td>3</td>\n",
       "      <td>Sunday</td>\n",
       "      <td>4.510600</td>\n",
       "    </tr>\n",
       "    <tr>\n",
       "      <td>4</td>\n",
       "      <td>Thursday</td>\n",
       "      <td>4.585865</td>\n",
       "    </tr>\n",
       "    <tr>\n",
       "      <td>5</td>\n",
       "      <td>Tuesday</td>\n",
       "      <td>4.540619</td>\n",
       "    </tr>\n",
       "    <tr>\n",
       "      <td>6</td>\n",
       "      <td>Wednesday</td>\n",
       "      <td>4.556657</td>\n",
       "    </tr>\n",
       "  </tbody>\n",
       "</table>\n",
       "</div>"
      ],
      "text/plain": [
       "     weekday      mean\n",
       "                 price\n",
       "0     Friday  4.564663\n",
       "1     Monday  4.555187\n",
       "2   Saturday  4.529717\n",
       "3     Sunday  4.510600\n",
       "4   Thursday  4.585865\n",
       "5    Tuesday  4.540619\n",
       "6  Wednesday  4.556657"
      ]
     },
     "execution_count": 328,
     "metadata": {},
     "output_type": "execute_result"
    }
   ],
   "source": [
    "# берем нашу сводную, выводим столбец с днями из индекса для дальнейшей его обработки\n",
    "\n",
    "price_by_weekday = df.pivot_table(index='weekday', values='price', aggfunc = ['mean']).reset_index()\n",
    "price_by_weekday"
   ]
  },
  {
   "cell_type": "code",
   "execution_count": 329,
   "metadata": {},
   "outputs": [
    {
     "data": {
      "text/plain": [
       "0       Friday\n",
       "1       Monday\n",
       "2     Saturday\n",
       "3       Sunday\n",
       "4     Thursday\n",
       "5      Tuesday\n",
       "6    Wednesday\n",
       "Name: weekday, dtype: category\n",
       "Categories (7, object): [Monday < Tuesday < Wednesday < Thursday < Friday < Saturday < Sunday]"
      ]
     },
     "execution_count": 329,
     "metadata": {},
     "output_type": "execute_result"
    }
   ],
   "source": [
    "# применяем категориальный тип данных к столбцу с днями недели, задавая свой порядок\n",
    "\n",
    "price_by_weekday['weekday'] = pd.Categorical(price_by_weekday['weekday'], categories=\n",
    "    ['Monday','Tuesday','Wednesday','Thursday','Friday','Saturday', 'Sunday'],\n",
    "    ordered=True)\n",
    "price_by_weekday['weekday']"
   ]
  },
  {
   "cell_type": "code",
   "execution_count": 330,
   "metadata": {},
   "outputs": [
    {
     "data": {
      "text/html": [
       "<div>\n",
       "<style scoped>\n",
       "    .dataframe tbody tr th:only-of-type {\n",
       "        vertical-align: middle;\n",
       "    }\n",
       "\n",
       "    .dataframe tbody tr th {\n",
       "        vertical-align: top;\n",
       "    }\n",
       "\n",
       "    .dataframe thead tr th {\n",
       "        text-align: left;\n",
       "    }\n",
       "\n",
       "    .dataframe thead tr:last-of-type th {\n",
       "        text-align: right;\n",
       "    }\n",
       "</style>\n",
       "<table border=\"1\" class=\"dataframe\">\n",
       "  <thead>\n",
       "    <tr>\n",
       "      <th></th>\n",
       "      <th>mean</th>\n",
       "    </tr>\n",
       "    <tr>\n",
       "      <th></th>\n",
       "      <th>price</th>\n",
       "    </tr>\n",
       "    <tr>\n",
       "      <th>weekday</th>\n",
       "      <th></th>\n",
       "    </tr>\n",
       "  </thead>\n",
       "  <tbody>\n",
       "    <tr>\n",
       "      <td>Monday</td>\n",
       "      <td>4.555187</td>\n",
       "    </tr>\n",
       "    <tr>\n",
       "      <td>Tuesday</td>\n",
       "      <td>4.540619</td>\n",
       "    </tr>\n",
       "    <tr>\n",
       "      <td>Wednesday</td>\n",
       "      <td>4.556657</td>\n",
       "    </tr>\n",
       "    <tr>\n",
       "      <td>Thursday</td>\n",
       "      <td>4.585865</td>\n",
       "    </tr>\n",
       "    <tr>\n",
       "      <td>Friday</td>\n",
       "      <td>4.564663</td>\n",
       "    </tr>\n",
       "    <tr>\n",
       "      <td>Saturday</td>\n",
       "      <td>4.529717</td>\n",
       "    </tr>\n",
       "    <tr>\n",
       "      <td>Sunday</td>\n",
       "      <td>4.510600</td>\n",
       "    </tr>\n",
       "  </tbody>\n",
       "</table>\n",
       "</div>"
      ],
      "text/plain": [
       "               mean\n",
       "              price\n",
       "weekday            \n",
       "Monday     4.555187\n",
       "Tuesday    4.540619\n",
       "Wednesday  4.556657\n",
       "Thursday   4.585865\n",
       "Friday     4.564663\n",
       "Saturday   4.529717\n",
       "Sunday     4.510600"
      ]
     },
     "execution_count": 330,
     "metadata": {},
     "output_type": "execute_result"
    }
   ],
   "source": [
    "# создаем сводную, возвращая дни недели в индексы и сортируя их\n",
    "# (сортироваться будут по порядку, который мы задали выше)\n",
    "to_plot = price_by_weekday.set_index('weekday').sort_index()\n",
    "to_plot"
   ]
  },
  {
   "cell_type": "code",
   "execution_count": 331,
   "metadata": {},
   "outputs": [
    {
     "data": {
      "text/plain": [
       "<matplotlib.axes._subplots.AxesSubplot at 0x7fa4a32a3950>"
      ]
     },
     "execution_count": 331,
     "metadata": {},
     "output_type": "execute_result"
    },
    {
     "data": {
      "image/png": "[encoded data removed]",
      "text/plain": [
       "<Figure size 432x288 with 1 Axes>"
      ]
     },
     "metadata": {
      "needs_background": "light"
     },
     "output_type": "display_data"
    }
   ],
   "source": [
    "to_plot.plot()"
   ]
  },
  {
   "cell_type": "markdown",
   "metadata": {},
   "source": [
    "Здесь видно, что в выходные цены минимальны, а в будни минимальныя цена во вторник"
   ]
  },
  {
   "cell_type": "markdown",
   "metadata": {},
   "source": [
    "Месяц"
   ]
  },
  {
   "cell_type": "code",
   "execution_count": 332,
   "metadata": {},
   "outputs": [
    {
     "data": {
      "text/plain": [
       "<matplotlib.axes._subplots.AxesSubplot at 0x7fa4a2aeb110>"
      ]
     },
     "execution_count": 332,
     "metadata": {},
     "output_type": "execute_result"
    },
    {
     "data": {
      "image/png": "[encoded data removed]",
      "text/plain": [
       "<Figure size 432x288 with 1 Axes>"
      ]
     },
     "metadata": {
      "needs_background": "light"
     },
     "output_type": "display_data"
    }
   ],
   "source": [
    "df.pivot_table(index='month', values='price', aggfunc = ['mean']).plot()"
   ]
  },
  {
   "cell_type": "markdown",
   "metadata": {},
   "source": [
    "Из этого графика видно, что наименьшая цена в июне наибольшая в апреле, также есть спады в декабре и октябре"
   ]
  },
  {
   "cell_type": "markdown",
   "metadata": {},
   "source": [
    "<hr style=\"border: 1px solid #000;\"> \n",
    "\n",
    "<div class=\"alert alert-warning\">\n",
    "<strong><font size=5>Комментарий от ревьюера</font></strong><br/>\n",
    "    \n",
    "Вот да. Это такая особенность <b>matplotlib</b>. Он сортирует или по порядку (если числа или даты у нас), или по алфавиту, как и получилось сейчас. Давай посмотрим, что с этим можно сделать:\n",
    "    \n",
    "</div>"
   ]
  },
  {
   "cell_type": "markdown",
   "metadata": {},
   "source": [
    "<div class=\"alert alert-warning\">\n",
    "    \n",
    "Вот такие сложности с днями недели. Можно было идти иначе - добавить к номеру дня недели номер (1 - Понедельник, 2 - Вторник), тогда сортировка изначально была бы как надо.\n",
    "    \n",
    "</div>\n",
    "<hr style=\"border: 1px solid #000;\"> "
   ]
  },
  {
   "cell_type": "code",
   "execution_count": 334,
   "metadata": {},
   "outputs": [
    {
     "data": {
      "text/plain": [
       "<matplotlib.axes._subplots.AxesSubplot at 0x7fa454afb050>"
      ]
     },
     "execution_count": 334,
     "metadata": {},
     "output_type": "execute_result"
    },
    {
     "data": {
      "image/png": "[encoded data removed]",
      "text/plain": [
       "<Figure size 432x288 with 1 Axes>"
      ]
     },
     "metadata": {
      "needs_background": "light"
     },
     "output_type": "display_data"
    }
   ],
   "source": [
    "df.pivot_table(index='year', values='price', aggfunc = ['median']).plot()"
   ]
  },
  {
   "cell_type": "markdown",
   "metadata": {},
   "source": [
    "Здесь видно, что с начала 15 года цены падали, но с 16 растут "
   ]
  },
  {
   "cell_type": "markdown",
   "metadata": {},
   "source": [
    "Исследование топ 10 городов по количеству объявлений\n",
    "<a name=\"4.5\"></a>"
   ]
  },
  {
   "cell_type": "code",
   "execution_count": 335,
   "metadata": {},
   "outputs": [
    {
     "data": {
      "text/html": [
       "<div>\n",
       "<style scoped>\n",
       "    .dataframe tbody tr th:only-of-type {\n",
       "        vertical-align: middle;\n",
       "    }\n",
       "\n",
       "    .dataframe tbody tr th {\n",
       "        vertical-align: top;\n",
       "    }\n",
       "\n",
       "    .dataframe thead tr th {\n",
       "        text-align: left;\n",
       "    }\n",
       "\n",
       "    .dataframe thead tr:last-of-type th {\n",
       "        text-align: right;\n",
       "    }\n",
       "</style>\n",
       "<table border=\"1\" class=\"dataframe\">\n",
       "  <thead>\n",
       "    <tr>\n",
       "      <th></th>\n",
       "      <th>pub_days</th>\n",
       "      <th>meter_price</th>\n",
       "      <th colspan=\"2\" halign=\"left\">price</th>\n",
       "    </tr>\n",
       "    <tr>\n",
       "      <th></th>\n",
       "      <th>count</th>\n",
       "      <th>mean</th>\n",
       "      <th>max</th>\n",
       "      <th>min</th>\n",
       "    </tr>\n",
       "    <tr>\n",
       "      <th>town</th>\n",
       "      <th></th>\n",
       "      <th></th>\n",
       "      <th></th>\n",
       "      <th></th>\n",
       "    </tr>\n",
       "  </thead>\n",
       "  <tbody>\n",
       "    <tr>\n",
       "      <td>Санкт-Петербург</td>\n",
       "      <td>10213</td>\n",
       "      <td>103412.884061</td>\n",
       "      <td>11.000</td>\n",
       "      <td>1.20000</td>\n",
       "    </tr>\n",
       "    <tr>\n",
       "      <td>Мурино</td>\n",
       "      <td>472</td>\n",
       "      <td>85287.844609</td>\n",
       "      <td>7.940</td>\n",
       "      <td>1.73000</td>\n",
       "    </tr>\n",
       "    <tr>\n",
       "      <td>Шушары</td>\n",
       "      <td>370</td>\n",
       "      <td>77521.236083</td>\n",
       "      <td>8.179</td>\n",
       "      <td>1.78000</td>\n",
       "    </tr>\n",
       "    <tr>\n",
       "      <td>Кудрово</td>\n",
       "      <td>348</td>\n",
       "      <td>94696.485490</td>\n",
       "      <td>10.000</td>\n",
       "      <td>2.10000</td>\n",
       "    </tr>\n",
       "    <tr>\n",
       "      <td>Всеволожск</td>\n",
       "      <td>290</td>\n",
       "      <td>66332.948082</td>\n",
       "      <td>10.890</td>\n",
       "      <td>0.96578</td>\n",
       "    </tr>\n",
       "    <tr>\n",
       "      <td>Колпино</td>\n",
       "      <td>278</td>\n",
       "      <td>74590.075530</td>\n",
       "      <td>8.600</td>\n",
       "      <td>2.10000</td>\n",
       "    </tr>\n",
       "    <tr>\n",
       "      <td>Парголово</td>\n",
       "      <td>267</td>\n",
       "      <td>90294.771077</td>\n",
       "      <td>9.140</td>\n",
       "      <td>1.80000</td>\n",
       "    </tr>\n",
       "    <tr>\n",
       "      <td>Пушкин</td>\n",
       "      <td>239</td>\n",
       "      <td>98264.569413</td>\n",
       "      <td>10.500</td>\n",
       "      <td>1.99000</td>\n",
       "    </tr>\n",
       "    <tr>\n",
       "      <td>Гатчина</td>\n",
       "      <td>235</td>\n",
       "      <td>68197.385465</td>\n",
       "      <td>9.500</td>\n",
       "      <td>0.85000</td>\n",
       "    </tr>\n",
       "    <tr>\n",
       "      <td>Выборг</td>\n",
       "      <td>178</td>\n",
       "      <td>57070.032822</td>\n",
       "      <td>7.490</td>\n",
       "      <td>0.60000</td>\n",
       "    </tr>\n",
       "  </tbody>\n",
       "</table>\n",
       "</div>"
      ],
      "text/plain": [
       "                pub_days    meter_price   price         \n",
       "                   count           mean     max      min\n",
       "town                                                    \n",
       "Санкт-Петербург    10213  103412.884061  11.000  1.20000\n",
       "Мурино               472   85287.844609   7.940  1.73000\n",
       "Шушары               370   77521.236083   8.179  1.78000\n",
       "Кудрово              348   94696.485490  10.000  2.10000\n",
       "Всеволожск           290   66332.948082  10.890  0.96578\n",
       "Колпино              278   74590.075530   8.600  2.10000\n",
       "Парголово            267   90294.771077   9.140  1.80000\n",
       "Пушкин               239   98264.569413  10.500  1.99000\n",
       "Гатчина              235   68197.385465   9.500  0.85000\n",
       "Выборг               178   57070.032822   7.490  0.60000"
      ]
     },
     "execution_count": 335,
     "metadata": {},
     "output_type": "execute_result"
    }
   ],
   "source": [
    "town10 = df.groupby('town').agg({'pub_days':'count','meter_price':'mean','price':['max','min']})\n",
    "town10.sort_values(by =('pub_days','count'),ascending = False).head(10)"
   ]
  },
  {
   "cell_type": "markdown",
   "metadata": {},
   "source": [
    "<hr style=\"border: 1px solid #000;\"> \n",
    "\n",
    "<div class=\"alert alert-success\">\n",
    "<strong><font size=5>Комментарий от ревьюера</font></strong><br/>\n",
    "    \n",
    "Отличный <b>.agg</b>.\n",
    "    \n",
    "</div>\n",
    "<hr style=\"border: 1px solid #000;\"> "
   ]
  },
  {
   "cell_type": "markdown",
   "metadata": {},
   "source": [
    "Cамая высокая стоимость жилья в Санкт-Петербурге, а самая низкая в Выборге"
   ]
  },
  {
   "cell_type": "markdown",
   "metadata": {},
   "source": [
    "Изучение квартир в центре \n",
    "<a name=\"4.6\"></a>"
   ]
  },
  {
   "cell_type": "code",
   "execution_count": 359,
   "metadata": {},
   "outputs": [
    {
     "data": {
      "text/plain": [
       "<matplotlib.axes._subplots.AxesSubplot at 0x7fa422b17f10>"
      ]
     },
     "execution_count": 359,
     "metadata": {},
     "output_type": "execute_result"
    },
    {
     "data": {
      "image/png": "[encoded data removed]",
      "text/plain": [
       "<Figure size 1080x720 with 1 Axes>"
      ]
     },
     "metadata": {
      "needs_background": "light"
     },
     "output_type": "display_data"
    }
   ],
   "source": [
    "df_spb_center = df.pivot_table(index='to_center', values='price', aggfunc='mean').reset_index()\n",
    "df_spb_center.plot(x='to_center', y='price', kind ='bar', grid=True, figsize=(15,10))"
   ]
  },
  {
   "cell_type": "markdown",
   "metadata": {},
   "source": [
    "На этом графике видно, что центр зканчивается на 8 км"
   ]
  },
  {
   "cell_type": "code",
   "execution_count": 342,
   "metadata": {},
   "outputs": [
    {
     "data": {
      "text/html": [
       "<div>\n",
       "<style scoped>\n",
       "    .dataframe tbody tr th:only-of-type {\n",
       "        vertical-align: middle;\n",
       "    }\n",
       "\n",
       "    .dataframe tbody tr th {\n",
       "        vertical-align: top;\n",
       "    }\n",
       "\n",
       "    .dataframe thead th {\n",
       "        text-align: right;\n",
       "    }\n",
       "</style>\n",
       "<table border=\"1\" class=\"dataframe\">\n",
       "  <thead>\n",
       "    <tr style=\"text-align: right;\">\n",
       "      <th></th>\n",
       "      <th>images</th>\n",
       "      <th>town</th>\n",
       "      <th>total_area</th>\n",
       "      <th>living_area</th>\n",
       "      <th>kitchen_area</th>\n",
       "      <th>ceiling_height</th>\n",
       "      <th>rooms</th>\n",
       "      <th>balcony</th>\n",
       "      <th>floor</th>\n",
       "      <th>total_floors</th>\n",
       "      <th>apartment</th>\n",
       "      <th>studio</th>\n",
       "      <th>open_plan</th>\n",
       "      <th>price</th>\n",
       "      <th>pub_date</th>\n",
       "      <th>pub_days</th>\n",
       "      <th>to_center</th>\n",
       "      <th>to_airport</th>\n",
       "      <th>parks_3km</th>\n",
       "      <th>parks_nearest</th>\n",
       "      <th>ponds_3km</th>\n",
       "      <th>ponds_nearest</th>\n",
       "      <th>local</th>\n",
       "      <th>local_f</th>\n",
       "      <th>weekday</th>\n",
       "      <th>month</th>\n",
       "      <th>year</th>\n",
       "      <th>meter_price</th>\n",
       "      <th>floor_pos</th>\n",
       "      <th>living_area_part</th>\n",
       "      <th>kitchen_area_part</th>\n",
       "    </tr>\n",
       "  </thead>\n",
       "  <tbody>\n",
       "    <tr>\n",
       "      <td>1</td>\n",
       "      <td>7</td>\n",
       "      <td>Шушары</td>\n",
       "      <td>40.40</td>\n",
       "      <td>18.60</td>\n",
       "      <td>11.00</td>\n",
       "      <td>2.6</td>\n",
       "      <td>1</td>\n",
       "      <td>2</td>\n",
       "      <td>1</td>\n",
       "      <td>11</td>\n",
       "      <td>False</td>\n",
       "      <td>False</td>\n",
       "      <td>False</td>\n",
       "      <td>3.35</td>\n",
       "      <td>2018-12-04</td>\n",
       "      <td>81.0</td>\n",
       "      <td>19.0</td>\n",
       "      <td>12817.0</td>\n",
       "      <td>0.0</td>\n",
       "      <td>NaN</td>\n",
       "      <td>0.0</td>\n",
       "      <td>NaN</td>\n",
       "      <td>область</td>\n",
       "      <td>третье</td>\n",
       "      <td>Tuesday</td>\n",
       "      <td>December</td>\n",
       "      <td>2018</td>\n",
       "      <td>82920.792079</td>\n",
       "      <td>Первый</td>\n",
       "      <td>46.0</td>\n",
       "      <td>27.2</td>\n",
       "    </tr>\n",
       "    <tr>\n",
       "      <td>5</td>\n",
       "      <td>10</td>\n",
       "      <td>Янино-1</td>\n",
       "      <td>30.40</td>\n",
       "      <td>14.40</td>\n",
       "      <td>9.10</td>\n",
       "      <td>2.6</td>\n",
       "      <td>1</td>\n",
       "      <td>0</td>\n",
       "      <td>5</td>\n",
       "      <td>12</td>\n",
       "      <td>False</td>\n",
       "      <td>False</td>\n",
       "      <td>False</td>\n",
       "      <td>2.89</td>\n",
       "      <td>2018-09-10</td>\n",
       "      <td>55.0</td>\n",
       "      <td>NaN</td>\n",
       "      <td>NaN</td>\n",
       "      <td>NaN</td>\n",
       "      <td>NaN</td>\n",
       "      <td>NaN</td>\n",
       "      <td>NaN</td>\n",
       "      <td>область</td>\n",
       "      <td>все остальное</td>\n",
       "      <td>Monday</td>\n",
       "      <td>September</td>\n",
       "      <td>2018</td>\n",
       "      <td>95065.789474</td>\n",
       "      <td>Другой</td>\n",
       "      <td>47.4</td>\n",
       "      <td>29.9</td>\n",
       "    </tr>\n",
       "    <tr>\n",
       "      <td>6</td>\n",
       "      <td>6</td>\n",
       "      <td>Парголово</td>\n",
       "      <td>37.30</td>\n",
       "      <td>10.60</td>\n",
       "      <td>14.40</td>\n",
       "      <td>2.6</td>\n",
       "      <td>1</td>\n",
       "      <td>1</td>\n",
       "      <td>6</td>\n",
       "      <td>26</td>\n",
       "      <td>False</td>\n",
       "      <td>False</td>\n",
       "      <td>False</td>\n",
       "      <td>3.70</td>\n",
       "      <td>2017-11-02</td>\n",
       "      <td>155.0</td>\n",
       "      <td>19.0</td>\n",
       "      <td>52996.0</td>\n",
       "      <td>0.0</td>\n",
       "      <td>NaN</td>\n",
       "      <td>0.0</td>\n",
       "      <td>NaN</td>\n",
       "      <td>область</td>\n",
       "      <td>третье</td>\n",
       "      <td>Thursday</td>\n",
       "      <td>November</td>\n",
       "      <td>2017</td>\n",
       "      <td>99195.710456</td>\n",
       "      <td>Другой</td>\n",
       "      <td>28.4</td>\n",
       "      <td>38.6</td>\n",
       "    </tr>\n",
       "    <tr>\n",
       "      <td>8</td>\n",
       "      <td>20</td>\n",
       "      <td>Мурино</td>\n",
       "      <td>33.16</td>\n",
       "      <td>15.43</td>\n",
       "      <td>8.81</td>\n",
       "      <td>2.6</td>\n",
       "      <td>1</td>\n",
       "      <td>0</td>\n",
       "      <td>26</td>\n",
       "      <td>27</td>\n",
       "      <td>False</td>\n",
       "      <td>False</td>\n",
       "      <td>False</td>\n",
       "      <td>2.90</td>\n",
       "      <td>2018-05-23</td>\n",
       "      <td>189.0</td>\n",
       "      <td>NaN</td>\n",
       "      <td>NaN</td>\n",
       "      <td>NaN</td>\n",
       "      <td>NaN</td>\n",
       "      <td>NaN</td>\n",
       "      <td>NaN</td>\n",
       "      <td>область</td>\n",
       "      <td>все остальное</td>\n",
       "      <td>Wednesday</td>\n",
       "      <td>May</td>\n",
       "      <td>2018</td>\n",
       "      <td>87454.764777</td>\n",
       "      <td>Другой</td>\n",
       "      <td>46.5</td>\n",
       "      <td>26.6</td>\n",
       "    </tr>\n",
       "    <tr>\n",
       "      <td>9</td>\n",
       "      <td>18</td>\n",
       "      <td>Санкт-Петербург</td>\n",
       "      <td>61.00</td>\n",
       "      <td>43.60</td>\n",
       "      <td>6.50</td>\n",
       "      <td>2.5</td>\n",
       "      <td>3</td>\n",
       "      <td>2</td>\n",
       "      <td>7</td>\n",
       "      <td>9</td>\n",
       "      <td>False</td>\n",
       "      <td>False</td>\n",
       "      <td>False</td>\n",
       "      <td>5.40</td>\n",
       "      <td>2017-02-26</td>\n",
       "      <td>289.0</td>\n",
       "      <td>15.0</td>\n",
       "      <td>50898.0</td>\n",
       "      <td>0.0</td>\n",
       "      <td>NaN</td>\n",
       "      <td>0.0</td>\n",
       "      <td>NaN</td>\n",
       "      <td>область</td>\n",
       "      <td>второе</td>\n",
       "      <td>Sunday</td>\n",
       "      <td>February</td>\n",
       "      <td>2017</td>\n",
       "      <td>88524.590164</td>\n",
       "      <td>Другой</td>\n",
       "      <td>71.5</td>\n",
       "      <td>10.7</td>\n",
       "    </tr>\n",
       "  </tbody>\n",
       "</table>\n",
       "</div>"
      ],
      "text/plain": [
       "   images             town  total_area  living_area  kitchen_area  \\\n",
       "1       7           Шушары       40.40        18.60         11.00   \n",
       "5      10          Янино-1       30.40        14.40          9.10   \n",
       "6       6        Парголово       37.30        10.60         14.40   \n",
       "8      20           Мурино       33.16        15.43          8.81   \n",
       "9      18  Санкт-Петербург       61.00        43.60          6.50   \n",
       "\n",
       "   ceiling_height  rooms  balcony  floor  total_floors  apartment  studio  \\\n",
       "1             2.6      1        2      1            11      False   False   \n",
       "5             2.6      1        0      5            12      False   False   \n",
       "6             2.6      1        1      6            26      False   False   \n",
       "8             2.6      1        0     26            27      False   False   \n",
       "9             2.5      3        2      7             9      False   False   \n",
       "\n",
       "   open_plan  price   pub_date  pub_days  to_center  to_airport  parks_3km  \\\n",
       "1      False   3.35 2018-12-04      81.0       19.0     12817.0        0.0   \n",
       "5      False   2.89 2018-09-10      55.0        NaN         NaN        NaN   \n",
       "6      False   3.70 2017-11-02     155.0       19.0     52996.0        0.0   \n",
       "8      False   2.90 2018-05-23     189.0        NaN         NaN        NaN   \n",
       "9      False   5.40 2017-02-26     289.0       15.0     50898.0        0.0   \n",
       "\n",
       "   parks_nearest  ponds_3km  ponds_nearest    local        local_f    weekday  \\\n",
       "1            NaN        0.0            NaN  область         третье    Tuesday   \n",
       "5            NaN        NaN            NaN  область  все остальное     Monday   \n",
       "6            NaN        0.0            NaN  область         третье   Thursday   \n",
       "8            NaN        NaN            NaN  область  все остальное  Wednesday   \n",
       "9            NaN        0.0            NaN  область         второе     Sunday   \n",
       "\n",
       "       month  year   meter_price floor_pos  living_area_part  \\\n",
       "1   December  2018  82920.792079    Первый              46.0   \n",
       "5  September  2018  95065.789474    Другой              47.4   \n",
       "6   November  2017  99195.710456    Другой              28.4   \n",
       "8        May  2018  87454.764777    Другой              46.5   \n",
       "9   February  2017  88524.590164    Другой              71.5   \n",
       "\n",
       "   kitchen_area_part  \n",
       "1               27.2  \n",
       "5               29.9  \n",
       "6               38.6  \n",
       "8               26.6  \n",
       "9               10.7  "
      ]
     },
     "execution_count": 342,
     "metadata": {},
     "output_type": "execute_result"
    }
   ],
   "source": [
    "df.head()"
   ]
  },
  {
   "cell_type": "markdown",
   "metadata": {},
   "source": [
    "<hr style=\"border: 1px solid #000;\"> \n",
    "\n",
    "<div class=\"alert alert-danger\">\n",
    "<strong><font size=5>Комментарий от ревьюера</font></strong><br/>\n",
    "    \n",
    "Вот здесь надо поправить. Видимо, ты что-то менял уже после выполнения этой части, а корректировки не внёс.\n",
    "    \n",
    "</div>\n",
    "<hr style=\"border: 1px solid #000;\"> "
   ]
  },
  {
   "cell_type": "markdown",
   "metadata": {},
   "source": [
    "Исправил"
   ]
  },
  {
   "cell_type": "code",
   "execution_count": 343,
   "metadata": {},
   "outputs": [],
   "source": [
    "df_spb_center = df.query('to_center <= 8')"
   ]
  },
  {
   "cell_type": "code",
   "execution_count": 344,
   "metadata": {},
   "outputs": [
    {
     "data": {
      "text/html": [
       "<div>\n",
       "<style scoped>\n",
       "    .dataframe tbody tr th:only-of-type {\n",
       "        vertical-align: middle;\n",
       "    }\n",
       "\n",
       "    .dataframe tbody tr th {\n",
       "        vertical-align: top;\n",
       "    }\n",
       "\n",
       "    .dataframe thead th {\n",
       "        text-align: right;\n",
       "    }\n",
       "</style>\n",
       "<table border=\"1\" class=\"dataframe\">\n",
       "  <thead>\n",
       "    <tr style=\"text-align: right;\">\n",
       "      <th></th>\n",
       "      <th>images</th>\n",
       "      <th>town</th>\n",
       "      <th>total_area</th>\n",
       "      <th>living_area</th>\n",
       "      <th>kitchen_area</th>\n",
       "      <th>ceiling_height</th>\n",
       "      <th>rooms</th>\n",
       "      <th>balcony</th>\n",
       "      <th>floor</th>\n",
       "      <th>total_floors</th>\n",
       "      <th>apartment</th>\n",
       "      <th>studio</th>\n",
       "      <th>open_plan</th>\n",
       "      <th>price</th>\n",
       "      <th>pub_date</th>\n",
       "      <th>pub_days</th>\n",
       "      <th>to_center</th>\n",
       "      <th>to_airport</th>\n",
       "      <th>parks_3km</th>\n",
       "      <th>parks_nearest</th>\n",
       "      <th>ponds_3km</th>\n",
       "      <th>ponds_nearest</th>\n",
       "      <th>local</th>\n",
       "      <th>local_f</th>\n",
       "      <th>weekday</th>\n",
       "      <th>month</th>\n",
       "      <th>year</th>\n",
       "      <th>meter_price</th>\n",
       "      <th>floor_pos</th>\n",
       "      <th>living_area_part</th>\n",
       "      <th>kitchen_area_part</th>\n",
       "    </tr>\n",
       "  </thead>\n",
       "  <tbody>\n",
       "    <tr>\n",
       "      <td>70</td>\n",
       "      <td>9</td>\n",
       "      <td>Санкт-Петербург</td>\n",
       "      <td>30.0</td>\n",
       "      <td>16.0</td>\n",
       "      <td>7.0</td>\n",
       "      <td>2.78</td>\n",
       "      <td>1</td>\n",
       "      <td>0</td>\n",
       "      <td>1</td>\n",
       "      <td>5</td>\n",
       "      <td>False</td>\n",
       "      <td>False</td>\n",
       "      <td>False</td>\n",
       "      <td>3.40</td>\n",
       "      <td>2018-09-05</td>\n",
       "      <td>14.0</td>\n",
       "      <td>8.0</td>\n",
       "      <td>39053.0</td>\n",
       "      <td>1.0</td>\n",
       "      <td>382.0</td>\n",
       "      <td>0.0</td>\n",
       "      <td>NaN</td>\n",
       "      <td>кад</td>\n",
       "      <td>первое</td>\n",
       "      <td>Wednesday</td>\n",
       "      <td>September</td>\n",
       "      <td>2018</td>\n",
       "      <td>113333.333333</td>\n",
       "      <td>Первый</td>\n",
       "      <td>53.3</td>\n",
       "      <td>23.3</td>\n",
       "    </tr>\n",
       "    <tr>\n",
       "      <td>94</td>\n",
       "      <td>3</td>\n",
       "      <td>Санкт-Петербург</td>\n",
       "      <td>29.5</td>\n",
       "      <td>15.6</td>\n",
       "      <td>5.5</td>\n",
       "      <td>2.50</td>\n",
       "      <td>1</td>\n",
       "      <td>1</td>\n",
       "      <td>2</td>\n",
       "      <td>5</td>\n",
       "      <td>False</td>\n",
       "      <td>False</td>\n",
       "      <td>False</td>\n",
       "      <td>3.50</td>\n",
       "      <td>2019-04-26</td>\n",
       "      <td>4.0</td>\n",
       "      <td>7.0</td>\n",
       "      <td>12921.0</td>\n",
       "      <td>0.0</td>\n",
       "      <td>NaN</td>\n",
       "      <td>0.0</td>\n",
       "      <td>NaN</td>\n",
       "      <td>кад</td>\n",
       "      <td>первое</td>\n",
       "      <td>Friday</td>\n",
       "      <td>April</td>\n",
       "      <td>2019</td>\n",
       "      <td>118644.067797</td>\n",
       "      <td>Другой</td>\n",
       "      <td>52.9</td>\n",
       "      <td>18.6</td>\n",
       "    </tr>\n",
       "    <tr>\n",
       "      <td>99</td>\n",
       "      <td>32</td>\n",
       "      <td>Санкт-Петербург</td>\n",
       "      <td>90.0</td>\n",
       "      <td>67.0</td>\n",
       "      <td>8.0</td>\n",
       "      <td>3.04</td>\n",
       "      <td>4</td>\n",
       "      <td>0</td>\n",
       "      <td>2</td>\n",
       "      <td>5</td>\n",
       "      <td>False</td>\n",
       "      <td>False</td>\n",
       "      <td>False</td>\n",
       "      <td>9.60</td>\n",
       "      <td>2017-09-26</td>\n",
       "      <td>104.0</td>\n",
       "      <td>3.0</td>\n",
       "      <td>23277.0</td>\n",
       "      <td>0.0</td>\n",
       "      <td>NaN</td>\n",
       "      <td>0.0</td>\n",
       "      <td>NaN</td>\n",
       "      <td>центр2</td>\n",
       "      <td>первое</td>\n",
       "      <td>Tuesday</td>\n",
       "      <td>September</td>\n",
       "      <td>2017</td>\n",
       "      <td>106666.666667</td>\n",
       "      <td>Другой</td>\n",
       "      <td>74.4</td>\n",
       "      <td>8.9</td>\n",
       "    </tr>\n",
       "    <tr>\n",
       "      <td>111</td>\n",
       "      <td>4</td>\n",
       "      <td>Санкт-Петербург</td>\n",
       "      <td>40.0</td>\n",
       "      <td>18.0</td>\n",
       "      <td>10.0</td>\n",
       "      <td>2.78</td>\n",
       "      <td>1</td>\n",
       "      <td>0</td>\n",
       "      <td>1</td>\n",
       "      <td>6</td>\n",
       "      <td>False</td>\n",
       "      <td>False</td>\n",
       "      <td>False</td>\n",
       "      <td>4.59</td>\n",
       "      <td>2017-05-29</td>\n",
       "      <td>31.0</td>\n",
       "      <td>6.0</td>\n",
       "      <td>20062.0</td>\n",
       "      <td>1.0</td>\n",
       "      <td>241.0</td>\n",
       "      <td>0.0</td>\n",
       "      <td>NaN</td>\n",
       "      <td>кад</td>\n",
       "      <td>первое</td>\n",
       "      <td>Monday</td>\n",
       "      <td>May</td>\n",
       "      <td>2017</td>\n",
       "      <td>114750.000000</td>\n",
       "      <td>Первый</td>\n",
       "      <td>45.0</td>\n",
       "      <td>25.0</td>\n",
       "    </tr>\n",
       "    <tr>\n",
       "      <td>138</td>\n",
       "      <td>8</td>\n",
       "      <td>Санкт-Петербург</td>\n",
       "      <td>40.0</td>\n",
       "      <td>29.0</td>\n",
       "      <td>6.0</td>\n",
       "      <td>3.04</td>\n",
       "      <td>2</td>\n",
       "      <td>0</td>\n",
       "      <td>2</td>\n",
       "      <td>3</td>\n",
       "      <td>False</td>\n",
       "      <td>False</td>\n",
       "      <td>False</td>\n",
       "      <td>4.80</td>\n",
       "      <td>2017-11-18</td>\n",
       "      <td>80.0</td>\n",
       "      <td>3.0</td>\n",
       "      <td>23371.0</td>\n",
       "      <td>0.0</td>\n",
       "      <td>NaN</td>\n",
       "      <td>2.0</td>\n",
       "      <td>729.0</td>\n",
       "      <td>центр2</td>\n",
       "      <td>первое</td>\n",
       "      <td>Saturday</td>\n",
       "      <td>November</td>\n",
       "      <td>2017</td>\n",
       "      <td>120000.000000</td>\n",
       "      <td>Другой</td>\n",
       "      <td>72.5</td>\n",
       "      <td>15.0</td>\n",
       "    </tr>\n",
       "  </tbody>\n",
       "</table>\n",
       "</div>"
      ],
      "text/plain": [
       "     images             town  total_area  living_area  kitchen_area  \\\n",
       "70        9  Санкт-Петербург        30.0         16.0           7.0   \n",
       "94        3  Санкт-Петербург        29.5         15.6           5.5   \n",
       "99       32  Санкт-Петербург        90.0         67.0           8.0   \n",
       "111       4  Санкт-Петербург        40.0         18.0          10.0   \n",
       "138       8  Санкт-Петербург        40.0         29.0           6.0   \n",
       "\n",
       "     ceiling_height  rooms  balcony  floor  total_floors  apartment  studio  \\\n",
       "70             2.78      1        0      1             5      False   False   \n",
       "94             2.50      1        1      2             5      False   False   \n",
       "99             3.04      4        0      2             5      False   False   \n",
       "111            2.78      1        0      1             6      False   False   \n",
       "138            3.04      2        0      2             3      False   False   \n",
       "\n",
       "     open_plan  price   pub_date  pub_days  to_center  to_airport  parks_3km  \\\n",
       "70       False   3.40 2018-09-05      14.0        8.0     39053.0        1.0   \n",
       "94       False   3.50 2019-04-26       4.0        7.0     12921.0        0.0   \n",
       "99       False   9.60 2017-09-26     104.0        3.0     23277.0        0.0   \n",
       "111      False   4.59 2017-05-29      31.0        6.0     20062.0        1.0   \n",
       "138      False   4.80 2017-11-18      80.0        3.0     23371.0        0.0   \n",
       "\n",
       "     parks_nearest  ponds_3km  ponds_nearest   local local_f    weekday  \\\n",
       "70           382.0        0.0            NaN     кад  первое  Wednesday   \n",
       "94             NaN        0.0            NaN     кад  первое     Friday   \n",
       "99             NaN        0.0            NaN  центр2  первое    Tuesday   \n",
       "111          241.0        0.0            NaN     кад  первое     Monday   \n",
       "138            NaN        2.0          729.0  центр2  первое   Saturday   \n",
       "\n",
       "         month  year    meter_price floor_pos  living_area_part  \\\n",
       "70   September  2018  113333.333333    Первый              53.3   \n",
       "94       April  2019  118644.067797    Другой              52.9   \n",
       "99   September  2017  106666.666667    Другой              74.4   \n",
       "111        May  2017  114750.000000    Первый              45.0   \n",
       "138   November  2017  120000.000000    Другой              72.5   \n",
       "\n",
       "     kitchen_area_part  \n",
       "70                23.3  \n",
       "94                18.6  \n",
       "99                 8.9  \n",
       "111               25.0  \n",
       "138               15.0  "
      ]
     },
     "execution_count": 344,
     "metadata": {},
     "output_type": "execute_result"
    }
   ],
   "source": [
    "df_spb_center.head()"
   ]
  },
  {
   "cell_type": "code",
   "execution_count": 345,
   "metadata": {},
   "outputs": [
    {
     "data": {
      "text/html": [
       "<div>\n",
       "<style scoped>\n",
       "    .dataframe tbody tr th:only-of-type {\n",
       "        vertical-align: middle;\n",
       "    }\n",
       "\n",
       "    .dataframe tbody tr th {\n",
       "        vertical-align: top;\n",
       "    }\n",
       "\n",
       "    .dataframe thead th {\n",
       "        text-align: right;\n",
       "    }\n",
       "</style>\n",
       "<table border=\"1\" class=\"dataframe\">\n",
       "  <thead>\n",
       "    <tr style=\"text-align: right;\">\n",
       "      <th></th>\n",
       "      <th>total_area</th>\n",
       "      <th>rooms</th>\n",
       "      <th>price</th>\n",
       "      <th>ceiling_height</th>\n",
       "    </tr>\n",
       "  </thead>\n",
       "  <tbody>\n",
       "    <tr>\n",
       "      <td>count</td>\n",
       "      <td>1633.000000</td>\n",
       "      <td>1633.000000</td>\n",
       "      <td>1633.000000</td>\n",
       "      <td>1633.000000</td>\n",
       "    </tr>\n",
       "    <tr>\n",
       "      <td>mean</td>\n",
       "      <td>59.590147</td>\n",
       "      <td>2.159216</td>\n",
       "      <td>6.666193</td>\n",
       "      <td>2.882541</td>\n",
       "    </tr>\n",
       "    <tr>\n",
       "      <td>std</td>\n",
       "      <td>19.192659</td>\n",
       "      <td>0.902272</td>\n",
       "      <td>1.968005</td>\n",
       "      <td>0.201856</td>\n",
       "    </tr>\n",
       "    <tr>\n",
       "      <td>min</td>\n",
       "      <td>20.000000</td>\n",
       "      <td>1.000000</td>\n",
       "      <td>1.600000</td>\n",
       "      <td>2.460000</td>\n",
       "    </tr>\n",
       "    <tr>\n",
       "      <td>25%</td>\n",
       "      <td>44.500000</td>\n",
       "      <td>1.000000</td>\n",
       "      <td>5.150000</td>\n",
       "      <td>2.780000</td>\n",
       "    </tr>\n",
       "    <tr>\n",
       "      <td>50%</td>\n",
       "      <td>57.200000</td>\n",
       "      <td>2.000000</td>\n",
       "      <td>6.500000</td>\n",
       "      <td>2.880000</td>\n",
       "    </tr>\n",
       "    <tr>\n",
       "      <td>75%</td>\n",
       "      <td>72.200000</td>\n",
       "      <td>3.000000</td>\n",
       "      <td>8.090000</td>\n",
       "      <td>3.040000</td>\n",
       "    </tr>\n",
       "    <tr>\n",
       "      <td>max</td>\n",
       "      <td>115.000000</td>\n",
       "      <td>6.000000</td>\n",
       "      <td>11.000000</td>\n",
       "      <td>3.250000</td>\n",
       "    </tr>\n",
       "  </tbody>\n",
       "</table>\n",
       "</div>"
      ],
      "text/plain": [
       "        total_area        rooms        price  ceiling_height\n",
       "count  1633.000000  1633.000000  1633.000000     1633.000000\n",
       "mean     59.590147     2.159216     6.666193        2.882541\n",
       "std      19.192659     0.902272     1.968005        0.201856\n",
       "min      20.000000     1.000000     1.600000        2.460000\n",
       "25%      44.500000     1.000000     5.150000        2.780000\n",
       "50%      57.200000     2.000000     6.500000        2.880000\n",
       "75%      72.200000     3.000000     8.090000        3.040000\n",
       "max     115.000000     6.000000    11.000000        3.250000"
      ]
     },
     "execution_count": 345,
     "metadata": {},
     "output_type": "execute_result"
    }
   ],
   "source": [
    "df_spb_center[['total_area', 'rooms', 'price', 'ceiling_height']].describe()\n"
   ]
  },
  {
   "cell_type": "code",
   "execution_count": 346,
   "metadata": {},
   "outputs": [
    {
     "data": {
      "text/html": [
       "<div>\n",
       "<style scoped>\n",
       "    .dataframe tbody tr th:only-of-type {\n",
       "        vertical-align: middle;\n",
       "    }\n",
       "\n",
       "    .dataframe tbody tr th {\n",
       "        vertical-align: top;\n",
       "    }\n",
       "\n",
       "    .dataframe thead th {\n",
       "        text-align: right;\n",
       "    }\n",
       "</style>\n",
       "<table border=\"1\" class=\"dataframe\">\n",
       "  <thead>\n",
       "    <tr style=\"text-align: right;\">\n",
       "      <th></th>\n",
       "      <th>total_area</th>\n",
       "      <th>rooms</th>\n",
       "      <th>price</th>\n",
       "      <th>ceiling_height</th>\n",
       "    </tr>\n",
       "  </thead>\n",
       "  <tbody>\n",
       "    <tr>\n",
       "      <td>count</td>\n",
       "      <td>16121.000000</td>\n",
       "      <td>16121.000000</td>\n",
       "      <td>16121.000000</td>\n",
       "      <td>16121.000000</td>\n",
       "    </tr>\n",
       "    <tr>\n",
       "      <td>mean</td>\n",
       "      <td>50.869360</td>\n",
       "      <td>1.869611</td>\n",
       "      <td>4.554659</td>\n",
       "      <td>2.647610</td>\n",
       "    </tr>\n",
       "    <tr>\n",
       "      <td>std</td>\n",
       "      <td>16.247975</td>\n",
       "      <td>0.849022</td>\n",
       "      <td>1.933459</td>\n",
       "      <td>0.145529</td>\n",
       "    </tr>\n",
       "    <tr>\n",
       "      <td>min</td>\n",
       "      <td>20.000000</td>\n",
       "      <td>1.000000</td>\n",
       "      <td>0.430000</td>\n",
       "      <td>2.400000</td>\n",
       "    </tr>\n",
       "    <tr>\n",
       "      <td>25%</td>\n",
       "      <td>38.000000</td>\n",
       "      <td>1.000000</td>\n",
       "      <td>3.250000</td>\n",
       "      <td>2.600000</td>\n",
       "    </tr>\n",
       "    <tr>\n",
       "      <td>50%</td>\n",
       "      <td>47.000000</td>\n",
       "      <td>2.000000</td>\n",
       "      <td>4.200000</td>\n",
       "      <td>2.600000</td>\n",
       "    </tr>\n",
       "    <tr>\n",
       "      <td>75%</td>\n",
       "      <td>60.700000</td>\n",
       "      <td>2.000000</td>\n",
       "      <td>5.589000</td>\n",
       "      <td>2.700000</td>\n",
       "    </tr>\n",
       "    <tr>\n",
       "      <td>max</td>\n",
       "      <td>115.000000</td>\n",
       "      <td>6.000000</td>\n",
       "      <td>11.000000</td>\n",
       "      <td>3.250000</td>\n",
       "    </tr>\n",
       "  </tbody>\n",
       "</table>\n",
       "</div>"
      ],
      "text/plain": [
       "         total_area         rooms         price  ceiling_height\n",
       "count  16121.000000  16121.000000  16121.000000    16121.000000\n",
       "mean      50.869360      1.869611      4.554659        2.647610\n",
       "std       16.247975      0.849022      1.933459        0.145529\n",
       "min       20.000000      1.000000      0.430000        2.400000\n",
       "25%       38.000000      1.000000      3.250000        2.600000\n",
       "50%       47.000000      2.000000      4.200000        2.600000\n",
       "75%       60.700000      2.000000      5.589000        2.700000\n",
       "max      115.000000      6.000000     11.000000        3.250000"
      ]
     },
     "execution_count": 346,
     "metadata": {},
     "output_type": "execute_result"
    }
   ],
   "source": [
    "df[['total_area', 'rooms', 'price', 'ceiling_height']].describe()"
   ]
  },
  {
   "cell_type": "markdown",
   "metadata": {},
   "source": [
    "Из этого стравнения следует, что в центре жить дороже и лучше."
   ]
  },
  {
   "cell_type": "code",
   "execution_count": null,
   "metadata": {},
   "outputs": [],
   "source": [
    "df_spb_center.plot(x='rooms', y='meter_price', kind='scatter', grid=True)"
   ]
  },
  {
   "cell_type": "markdown",
   "metadata": {},
   "source": [
    "Тут также как и во всем городе, чем больше комнат, тем меньше цена за квадрат "
   ]
  },
  {
   "cell_type": "code",
   "execution_count": null,
   "metadata": {},
   "outputs": [],
   "source": [
    "df_spb_center.plot(x='to_center', y='meter_price', kind='scatter', grid=True)"
   ]
  },
  {
   "cell_type": "markdown",
   "metadata": {},
   "source": [
    "На растоянии 4 км от центра цена за квадрат наиболее высокая "
   ]
  },
  {
   "cell_type": "code",
   "execution_count": null,
   "metadata": {},
   "outputs": [],
   "source": [
    "df_spb_center.plot(x='total_area', y='meter_price', kind='scatter', grid=True)"
   ]
  },
  {
   "cell_type": "code",
   "execution_count": null,
   "metadata": {},
   "outputs": [],
   "source": [
    "Все так же как и во всем городе, чем больше площадь, тем меньше стоимость квадрата"
   ]
  },
  {
   "cell_type": "code",
   "execution_count": null,
   "metadata": {},
   "outputs": [],
   "source": [
    "df_spb_center.pivot_table(index='month', values='price', aggfunc = ['mean']).plot()"
   ]
  },
  {
   "cell_type": "markdown",
   "metadata": {},
   "source": [
    "<hr style=\"border: 1px solid #000;\"> \n",
    "\n",
    "<div class=\"alert alert-success\">\n",
    "<strong><font size=5>Комментарий от ревьюера</font></strong><br/>\n",
    "    \n",
    "А месяца <b>matplotlib</b> умеет обрабатывать.\n",
    "    \n",
    "</div>\n",
    "<hr style=\"border: 1px solid #000;\"> "
   ]
  },
  {
   "cell_type": "code",
   "execution_count": null,
   "metadata": {},
   "outputs": [],
   "source": [
    "df_spb_center.pivot_table(index='year', values='price', aggfunc = ['median']).plot()"
   ]
  },
  {
   "cell_type": "markdown",
   "metadata": {},
   "source": [
    "А тут интересно, квартиры в центре не падали в цене в 15 году, а росли до 17, упали в 18 и снова стали расти до 19"
   ]
  },
  {
   "cell_type": "markdown",
   "metadata": {},
   "source": [
    "Вывод:\n",
    "<a name=\"5.\"></a><br/>\n"
   ]
  },
  {
   "cell_type": "markdown",
   "metadata": {},
   "source": [
    "\n",
    "В данных было очень много пропусков и выбросов. Я заполнил, где это было возможно, пропуски и сделал работу на выбросами. Сделал удобный формат вывода данных, добавил необходимые для дальнейшего исследования столбцы. Выяснил, что цена может расти или падать в одно и тоже время в зависимости от удаления от центра. На цену влияют такие данные: год, месяц, день покупки, удаление от центра, количество квадратных метров. \n",
    "[<font size=\"2\">(к содержанию)</font>](#to_content.)\n"
   ]
  },
  {
   "cell_type": "markdown",
   "metadata": {},
   "source": [
    "<hr style=\"border: 1px solid #000;\"> \n",
    "\n",
    "<div class=\"alert alert-success\">\n",
    "<strong><font size=5>Комментарий от ревьюера</font></strong><br/>\n",
    "    \n",
    "Тут хорошо.\n",
    "    \n",
    "</div>\n",
    "<hr style=\"border: 1px solid #000;\"> "
   ]
  },
  {
   "cell_type": "markdown",
   "metadata": {},
   "source": [
    "<hr style=\"border: 1px solid #000;\"> \n",
    "\n",
    "<div>\n",
    "<strong><font size=5>Комментарий от ревьюера</font></strong><br/>\n",
    "    \n",
    "Обработка пропусков очень сильная. Графики рисуешь хорошо, и что самое главное - очень грамотно выбираешь их тип. Было бы хорошо увидеть побольше выводов и наблюдений. И оформляй их в отдельной ячейке через <b>Markdown</b>, а не просто с # начиная - так будет выглядеть немного лучше.<br/><br/>\n",
    "    \n",
    "Есть пара моментов, которые необходимо поправить. В целом, всё опрятно. Жду твою работу на повторную проверку. \n",
    "    \n",
    "</div>\n",
    "<hr style=\"border: 1px solid #000;\"> "
   ]
  },
  {
   "cell_type": "markdown",
   "metadata": {},
   "source": [
    "<hr style=\"border: 1px solid #000;\"> \n",
    "\n",
    "<div class=\"alert alert-success\">\n",
    "<strong><font size=5>Комментарий от ревьюера (v.2)</font></strong><br/>\n",
    "    \n",
    "Теперь всё чистенько. Очень хорошая работа. И я очень рад, что после довольно подробной проработки подхода к заполнению пропусков, ты интерполировал такой подход вообще на всю обработку данных.\n",
    "    \n",
    "Жду тебя на следующих проектах.\n",
    "    \n",
    "</div>\n",
    "<hr style=\"border: 1px solid #000;\"> "
   ]
  }
 ],
 "metadata": {
  "kernelspec": {
   "display_name": "Python 3",
   "language": "python",
   "name": "python3"
  },
  "language_info": {
   "codemirror_mode": {
    "name": "ipython",
    "version": 3
   },
   "file_extension": ".py",
   "mimetype": "text/x-python",
   "name": "python",
   "nbconvert_exporter": "python",
   "pygments_lexer": "ipython3",
   "version": "3.7.8"
  },
  "toc": {
   "base_numbering": 1,
   "nav_menu": {
    "height": "301px",
    "width": "195px"
   },
   "number_sections": true,
   "sideBar": true,
   "skip_h1_title": false,
   "title_cell": "Table of Contents",
   "title_sidebar": "Contents",
   "toc_cell": false,
   "toc_position": {
    "height": "calc(100% - 180px)",
    "left": "10px",
    "top": "150px",
    "width": "165px"
   },
   "toc_section_display": true,
   "toc_window_display": true
  }
 },
 "nbformat": 4,
 "nbformat_minor": 2
}
